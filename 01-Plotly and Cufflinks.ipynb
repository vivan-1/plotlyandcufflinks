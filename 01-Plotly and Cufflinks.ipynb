{
 "cells": [
  {
   "cell_type": "markdown",
   "metadata": {},
   "source": [
    "___\n",
    "\n",
    "<a href='http://www.pieriandata.com'> <img src='../Pierian_Data_Logo.png' /></a>\n",
    "___\n",
    "# Plotly and Cufflinks"
   ]
  },
  {
   "cell_type": "markdown",
   "metadata": {},
   "source": [
    "Plotly is a library that allows you to create interactive plots that you can use in dashboards or websites (you can save them as html files or static images).\n",
    "\n",
    "## Installation\n",
    "\n",
    "In order for this all to work, you'll need to install plotly and cufflinks to call plots directly off of a pandas dataframe. These libraries are not currently available through **conda** but are available through **pip**. Install the libraries at your command line/terminal using:\n",
    "\n",
    "    pip install plotly\n",
    "    pip install cufflinks\n",
    "\n",
    "** NOTE: Make sure you only have one installation of Python on your computer when you do this, otherwise the installation may not work. **\n",
    "\n",
    "## Imports and Set-up"
   ]
  },
  {
   "cell_type": "code",
   "execution_count": 1,
   "metadata": {},
   "outputs": [],
   "source": [
    "import pandas as pd\n",
    "import numpy as np\n",
    "%matplotlib inline"
   ]
  },
  {
   "cell_type": "code",
   "execution_count": 2,
   "metadata": {},
   "outputs": [
    {
     "name": "stdout",
     "output_type": "stream",
     "text": [
      "4.8.0\n"
     ]
    }
   ],
   "source": [
    "from plotly import __version__\n",
    "from plotly.offline import download_plotlyjs, init_notebook_mode, plot, iplot\n",
    "\n",
    "print(__version__) # requires version >= 1.9.0"
   ]
  },
  {
   "cell_type": "code",
   "execution_count": 3,
   "metadata": {},
   "outputs": [],
   "source": [
    "import cufflinks as cf"
   ]
  },
  {
   "cell_type": "code",
   "execution_count": 4,
   "metadata": {},
   "outputs": [
    {
     "data": {
      "text/html": [
       "        <script type=\"text/javascript\">\n",
       "        window.PlotlyConfig = {MathJaxConfig: 'local'};\n",
       "        if (window.MathJax) {MathJax.Hub.Config({SVG: {font: \"STIX-Web\"}});}\n",
       "        if (typeof require !== 'undefined') {\n",
       "        require.undef(\"plotly\");\n",
       "        requirejs.config({\n",
       "            paths: {\n",
       "                'plotly': ['https://cdn.plot.ly/plotly-latest.min']\n",
       "            }\n",
       "        });\n",
       "        require(['plotly'], function(Plotly) {\n",
       "            window._Plotly = Plotly;\n",
       "        });\n",
       "        }\n",
       "        </script>\n",
       "        "
      ]
     },
     "metadata": {},
     "output_type": "display_data"
    }
   ],
   "source": [
    "# For Notebooks\n",
    "init_notebook_mode(connected=True)"
   ]
  },
  {
   "cell_type": "code",
   "execution_count": 5,
   "metadata": {},
   "outputs": [
    {
     "data": {
      "text/html": [
       "        <script type=\"text/javascript\">\n",
       "        window.PlotlyConfig = {MathJaxConfig: 'local'};\n",
       "        if (window.MathJax) {MathJax.Hub.Config({SVG: {font: \"STIX-Web\"}});}\n",
       "        if (typeof require !== 'undefined') {\n",
       "        require.undef(\"plotly\");\n",
       "        requirejs.config({\n",
       "            paths: {\n",
       "                'plotly': ['https://cdn.plot.ly/plotly-latest.min']\n",
       "            }\n",
       "        });\n",
       "        require(['plotly'], function(Plotly) {\n",
       "            window._Plotly = Plotly;\n",
       "        });\n",
       "        }\n",
       "        </script>\n",
       "        "
      ]
     },
     "metadata": {},
     "output_type": "display_data"
    }
   ],
   "source": [
    "# For offline use\n",
    "cf.go_offline()"
   ]
  },
  {
   "cell_type": "markdown",
   "metadata": {},
   "source": [
    "### Fake Data"
   ]
  },
  {
   "cell_type": "code",
   "execution_count": 6,
   "metadata": {},
   "outputs": [],
   "source": [
    "df = pd.DataFrame(np.random.randn(100,4),columns='A B C D'.split())"
   ]
  },
  {
   "cell_type": "code",
   "execution_count": 7,
   "metadata": {},
   "outputs": [
    {
     "data": {
      "text/html": [
       "<div>\n",
       "<style scoped>\n",
       "    .dataframe tbody tr th:only-of-type {\n",
       "        vertical-align: middle;\n",
       "    }\n",
       "\n",
       "    .dataframe tbody tr th {\n",
       "        vertical-align: top;\n",
       "    }\n",
       "\n",
       "    .dataframe thead th {\n",
       "        text-align: right;\n",
       "    }\n",
       "</style>\n",
       "<table border=\"1\" class=\"dataframe\">\n",
       "  <thead>\n",
       "    <tr style=\"text-align: right;\">\n",
       "      <th></th>\n",
       "      <th>A</th>\n",
       "      <th>B</th>\n",
       "      <th>C</th>\n",
       "      <th>D</th>\n",
       "    </tr>\n",
       "  </thead>\n",
       "  <tbody>\n",
       "    <tr>\n",
       "      <th>0</th>\n",
       "      <td>0.231717</td>\n",
       "      <td>0.315376</td>\n",
       "      <td>1.331429</td>\n",
       "      <td>-2.442256</td>\n",
       "    </tr>\n",
       "    <tr>\n",
       "      <th>1</th>\n",
       "      <td>0.878203</td>\n",
       "      <td>0.826428</td>\n",
       "      <td>-2.003053</td>\n",
       "      <td>0.970907</td>\n",
       "    </tr>\n",
       "    <tr>\n",
       "      <th>2</th>\n",
       "      <td>0.884546</td>\n",
       "      <td>0.158807</td>\n",
       "      <td>0.806975</td>\n",
       "      <td>0.696274</td>\n",
       "    </tr>\n",
       "    <tr>\n",
       "      <th>3</th>\n",
       "      <td>-0.854842</td>\n",
       "      <td>-0.494567</td>\n",
       "      <td>0.965003</td>\n",
       "      <td>-1.312654</td>\n",
       "    </tr>\n",
       "    <tr>\n",
       "      <th>4</th>\n",
       "      <td>2.551213</td>\n",
       "      <td>-1.929197</td>\n",
       "      <td>0.399182</td>\n",
       "      <td>-2.294764</td>\n",
       "    </tr>\n",
       "  </tbody>\n",
       "</table>\n",
       "</div>"
      ],
      "text/plain": [
       "          A         B         C         D\n",
       "0  0.231717  0.315376  1.331429 -2.442256\n",
       "1  0.878203  0.826428 -2.003053  0.970907\n",
       "2  0.884546  0.158807  0.806975  0.696274\n",
       "3 -0.854842 -0.494567  0.965003 -1.312654\n",
       "4  2.551213 -1.929197  0.399182 -2.294764"
      ]
     },
     "execution_count": 7,
     "metadata": {},
     "output_type": "execute_result"
    }
   ],
   "source": [
    "df.head()"
   ]
  },
  {
   "cell_type": "code",
   "execution_count": 8,
   "metadata": {},
   "outputs": [],
   "source": [
    "df2 = pd.DataFrame({'Category':['A','B','C'],'Values':[32,43,50]})"
   ]
  },
  {
   "cell_type": "code",
   "execution_count": 9,
   "metadata": {},
   "outputs": [
    {
     "data": {
      "text/html": [
       "<div>\n",
       "<style scoped>\n",
       "    .dataframe tbody tr th:only-of-type {\n",
       "        vertical-align: middle;\n",
       "    }\n",
       "\n",
       "    .dataframe tbody tr th {\n",
       "        vertical-align: top;\n",
       "    }\n",
       "\n",
       "    .dataframe thead th {\n",
       "        text-align: right;\n",
       "    }\n",
       "</style>\n",
       "<table border=\"1\" class=\"dataframe\">\n",
       "  <thead>\n",
       "    <tr style=\"text-align: right;\">\n",
       "      <th></th>\n",
       "      <th>Category</th>\n",
       "      <th>Values</th>\n",
       "    </tr>\n",
       "  </thead>\n",
       "  <tbody>\n",
       "    <tr>\n",
       "      <th>0</th>\n",
       "      <td>A</td>\n",
       "      <td>32</td>\n",
       "    </tr>\n",
       "    <tr>\n",
       "      <th>1</th>\n",
       "      <td>B</td>\n",
       "      <td>43</td>\n",
       "    </tr>\n",
       "    <tr>\n",
       "      <th>2</th>\n",
       "      <td>C</td>\n",
       "      <td>50</td>\n",
       "    </tr>\n",
       "  </tbody>\n",
       "</table>\n",
       "</div>"
      ],
      "text/plain": [
       "  Category  Values\n",
       "0        A      32\n",
       "1        B      43\n",
       "2        C      50"
      ]
     },
     "execution_count": 9,
     "metadata": {},
     "output_type": "execute_result"
    }
   ],
   "source": [
    "df2.head()"
   ]
  },
  {
   "cell_type": "markdown",
   "metadata": {},
   "source": [
    "## Using Cufflinks and iplot()\n",
    "\n",
    "* scatter\n",
    "* bar\n",
    "* box\n",
    "* spread\n",
    "* ratio\n",
    "* heatmap\n",
    "* surface\n",
    "* histogram\n",
    "* bubble"
   ]
  },
  {
   "cell_type": "markdown",
   "metadata": {},
   "source": [
    "## Scatter"
   ]
  },
  {
   "cell_type": "code",
   "execution_count": 10,
   "metadata": {},
   "outputs": [
    {
     "data": {
      "application/vnd.plotly.v1+json": {
       "config": {
        "linkText": "Export to plot.ly",
        "plotlyServerURL": "https://plot.ly",
        "showLink": true
       },
       "data": [
        {
         "line": {
          "color": "rgba(255, 153, 51, 1.0)",
          "dash": "solid",
          "shape": "linear",
          "width": 1.3
         },
         "marker": {
          "size": 10,
          "symbol": "circle"
         },
         "mode": "markers",
         "name": "B",
         "text": "",
         "type": "scatter",
         "x": [
          0.2317169047197511,
          0.878202859039861,
          0.8845456478701096,
          -0.8548417612934461,
          2.551212651230751,
          -0.9715711502953682,
          -1.4286297257729936,
          0.171781997371082,
          -0.26501974141230633,
          1.448118461903668,
          0.956200364077296,
          0.2798407221282476,
          1.2898124098548918,
          -0.1805503744770984,
          -0.9712934350712948,
          0.944830093864121,
          0.008383811079937189,
          0.06411389321304094,
          -3.0448966138834717,
          0.2071650308743917,
          1.264273231110705,
          0.009115961650350713,
          1.2032289481855762,
          0.1748885773766371,
          0.7705083291235805,
          -0.48405781692728334,
          -0.18229576272709286,
          -0.14480699019100146,
          1.6209270254850905,
          -0.03720051887920887,
          0.9189256626796768,
          1.7353795151389286,
          -1.4527591753072113,
          0.21084974842433038,
          -0.8424132209460763,
          0.8108010689563284,
          1.8849307915325269,
          -0.38236134284848067,
          -1.8509955384600723,
          -1.0043802296934055,
          -1.6700335882266961,
          -0.2662800200558214,
          -0.2816104466918759,
          1.9695064659323902,
          -1.3531333401005186,
          -1.8246487015463517,
          0.4161856133422532,
          -0.31404073402964167,
          0.3722783675048442,
          2.133303617040413,
          -2.4471958895748074,
          2.380719002345152,
          -0.3987430854316932,
          -0.014650312488142936,
          1.2256641691759387,
          1.7799074314307135,
          0.5487143518972628,
          0.02541417834825154,
          0.5381538643916343,
          2.4535136319212816,
          -0.023803262090310917,
          -0.6496924161052658,
          0.04478553352171316,
          0.5365061860661642,
          0.7233240221161904,
          -0.2522619818245915,
          -1.5789598702116967,
          0.274926573285316,
          -0.04484425533308025,
          -0.39533639004855775,
          -0.1539674894937371,
          0.5434894729148447,
          0.8297140683352305,
          2.1447937974739597,
          -0.8691243150874558,
          1.1913449442332948,
          0.23992685967080285,
          0.835519899053282,
          0.775127212877518,
          0.8179378516059655,
          0.6767887621858589,
          -0.28668771741995064,
          1.2664829486946523,
          0.036890380042112085,
          1.5343541032540513,
          -1.3328073199877764,
          -0.20674743397348924,
          -0.8547345166834612,
          1.0274052102743279,
          -0.6231463227343251,
          -0.6202269343992488,
          -1.009586728733132,
          0.8198648674064811,
          -0.04155656422413667,
          -0.2858429069412091,
          0.5013344026955628,
          -0.5205537443270363,
          0.1794569091055445,
          -0.00679461552715747,
          -1.2871461273377063
         ],
         "y": [
          0.31537573601972646,
          0.8264280604720017,
          0.15880673938410703,
          -0.4945665747013332,
          -1.9291971682912035,
          -2.053128461013517,
          -0.41822165453726745,
          -0.7777578395540988,
          -0.37320239693156027,
          1.0077705019872478,
          0.2712966828345281,
          0.21274963696718877,
          0.08681838559463527,
          -0.5836485889875932,
          1.239568154067294,
          -0.8336166955037497,
          1.1474346168150165,
          -0.03716505277910525,
          -0.9630423160360793,
          0.05960721757341472,
          -0.9577369659471877,
          -0.6095456247495279,
          -1.0329204156788498,
          -1.2125958704403847,
          0.6604393457031784,
          0.4269054295495109,
          -1.215150155380957,
          1.38929308577231,
          -1.4642961357447615,
          -0.17395852265987718,
          -0.7053311469661707,
          0.863093219012688,
          0.3637406994713603,
          0.5826837313913135,
          -1.209932493419657,
          2.051445643285071,
          -1.0399723552126299,
          0.34911638943718615,
          0.6266184994346646,
          -0.17987182552393097,
          -0.5033924263326975,
          -1.3554213726667181,
          0.7381731188497714,
          0.6032159315621837,
          0.31383776587827605,
          1.5221045096712567,
          1.0730090081467314,
          1.5068400071106,
          -1.9657532084588805,
          -1.3738273908249323,
          0.48706954818705034,
          0.1934097777960746,
          -0.5098684385059237,
          -1.1110673077332558,
          1.4519574756869593,
          1.0745558846756398,
          0.0008134396062797892,
          0.9200113282161689,
          -1.7200861348159882,
          0.10651184111518136,
          -0.30946533602772835,
          0.16269854297053135,
          -0.1334720800134916,
          0.1437347175119578,
          0.6360683442236713,
          -1.6347287577630152,
          0.8359585335920502,
          0.027100102289993433,
          -0.7574047971474507,
          -1.5691832242530772,
          -0.10517278040729248,
          -1.911316107110392,
          -0.2040847122474828,
          -0.5268421182380644,
          -1.5201277139063434,
          -0.3368327664567618,
          3.1166495508586363,
          -0.5106661675704326,
          -0.24961234609561317,
          0.38516480037623885,
          -0.5394614558449573,
          1.3909296431635094,
          -0.4953771635676115,
          0.5514715008926203,
          -1.6368152085915135,
          0.30964057125138994,
          1.2710308408072852,
          -0.662447702474752,
          0.3566427211364223,
          -0.25598888429205297,
          -0.7707764963409064,
          -0.4223655211888527,
          0.5102442968597752,
          -0.23874528949899876,
          0.4422885398643252,
          1.18606662880413,
          -0.4108029668452801,
          1.2414388069753572,
          0.1345819144557129,
          0.7666064340071423
         ]
        }
       ],
       "layout": {
        "legend": {
         "bgcolor": "#F5F6F9",
         "font": {
          "color": "#4D5663"
         }
        },
        "paper_bgcolor": "#F5F6F9",
        "plot_bgcolor": "#F5F6F9",
        "template": {
         "data": {
          "bar": [
           {
            "error_x": {
             "color": "#2a3f5f"
            },
            "error_y": {
             "color": "#2a3f5f"
            },
            "marker": {
             "line": {
              "color": "#E5ECF6",
              "width": 0.5
             }
            },
            "type": "bar"
           }
          ],
          "barpolar": [
           {
            "marker": {
             "line": {
              "color": "#E5ECF6",
              "width": 0.5
             }
            },
            "type": "barpolar"
           }
          ],
          "carpet": [
           {
            "aaxis": {
             "endlinecolor": "#2a3f5f",
             "gridcolor": "white",
             "linecolor": "white",
             "minorgridcolor": "white",
             "startlinecolor": "#2a3f5f"
            },
            "baxis": {
             "endlinecolor": "#2a3f5f",
             "gridcolor": "white",
             "linecolor": "white",
             "minorgridcolor": "white",
             "startlinecolor": "#2a3f5f"
            },
            "type": "carpet"
           }
          ],
          "choropleth": [
           {
            "colorbar": {
             "outlinewidth": 0,
             "ticks": ""
            },
            "type": "choropleth"
           }
          ],
          "contour": [
           {
            "colorbar": {
             "outlinewidth": 0,
             "ticks": ""
            },
            "colorscale": [
             [
              0,
              "#0d0887"
             ],
             [
              0.1111111111111111,
              "#46039f"
             ],
             [
              0.2222222222222222,
              "#7201a8"
             ],
             [
              0.3333333333333333,
              "#9c179e"
             ],
             [
              0.4444444444444444,
              "#bd3786"
             ],
             [
              0.5555555555555556,
              "#d8576b"
             ],
             [
              0.6666666666666666,
              "#ed7953"
             ],
             [
              0.7777777777777778,
              "#fb9f3a"
             ],
             [
              0.8888888888888888,
              "#fdca26"
             ],
             [
              1,
              "#f0f921"
             ]
            ],
            "type": "contour"
           }
          ],
          "contourcarpet": [
           {
            "colorbar": {
             "outlinewidth": 0,
             "ticks": ""
            },
            "type": "contourcarpet"
           }
          ],
          "heatmap": [
           {
            "colorbar": {
             "outlinewidth": 0,
             "ticks": ""
            },
            "colorscale": [
             [
              0,
              "#0d0887"
             ],
             [
              0.1111111111111111,
              "#46039f"
             ],
             [
              0.2222222222222222,
              "#7201a8"
             ],
             [
              0.3333333333333333,
              "#9c179e"
             ],
             [
              0.4444444444444444,
              "#bd3786"
             ],
             [
              0.5555555555555556,
              "#d8576b"
             ],
             [
              0.6666666666666666,
              "#ed7953"
             ],
             [
              0.7777777777777778,
              "#fb9f3a"
             ],
             [
              0.8888888888888888,
              "#fdca26"
             ],
             [
              1,
              "#f0f921"
             ]
            ],
            "type": "heatmap"
           }
          ],
          "heatmapgl": [
           {
            "colorbar": {
             "outlinewidth": 0,
             "ticks": ""
            },
            "colorscale": [
             [
              0,
              "#0d0887"
             ],
             [
              0.1111111111111111,
              "#46039f"
             ],
             [
              0.2222222222222222,
              "#7201a8"
             ],
             [
              0.3333333333333333,
              "#9c179e"
             ],
             [
              0.4444444444444444,
              "#bd3786"
             ],
             [
              0.5555555555555556,
              "#d8576b"
             ],
             [
              0.6666666666666666,
              "#ed7953"
             ],
             [
              0.7777777777777778,
              "#fb9f3a"
             ],
             [
              0.8888888888888888,
              "#fdca26"
             ],
             [
              1,
              "#f0f921"
             ]
            ],
            "type": "heatmapgl"
           }
          ],
          "histogram": [
           {
            "marker": {
             "colorbar": {
              "outlinewidth": 0,
              "ticks": ""
             }
            },
            "type": "histogram"
           }
          ],
          "histogram2d": [
           {
            "colorbar": {
             "outlinewidth": 0,
             "ticks": ""
            },
            "colorscale": [
             [
              0,
              "#0d0887"
             ],
             [
              0.1111111111111111,
              "#46039f"
             ],
             [
              0.2222222222222222,
              "#7201a8"
             ],
             [
              0.3333333333333333,
              "#9c179e"
             ],
             [
              0.4444444444444444,
              "#bd3786"
             ],
             [
              0.5555555555555556,
              "#d8576b"
             ],
             [
              0.6666666666666666,
              "#ed7953"
             ],
             [
              0.7777777777777778,
              "#fb9f3a"
             ],
             [
              0.8888888888888888,
              "#fdca26"
             ],
             [
              1,
              "#f0f921"
             ]
            ],
            "type": "histogram2d"
           }
          ],
          "histogram2dcontour": [
           {
            "colorbar": {
             "outlinewidth": 0,
             "ticks": ""
            },
            "colorscale": [
             [
              0,
              "#0d0887"
             ],
             [
              0.1111111111111111,
              "#46039f"
             ],
             [
              0.2222222222222222,
              "#7201a8"
             ],
             [
              0.3333333333333333,
              "#9c179e"
             ],
             [
              0.4444444444444444,
              "#bd3786"
             ],
             [
              0.5555555555555556,
              "#d8576b"
             ],
             [
              0.6666666666666666,
              "#ed7953"
             ],
             [
              0.7777777777777778,
              "#fb9f3a"
             ],
             [
              0.8888888888888888,
              "#fdca26"
             ],
             [
              1,
              "#f0f921"
             ]
            ],
            "type": "histogram2dcontour"
           }
          ],
          "mesh3d": [
           {
            "colorbar": {
             "outlinewidth": 0,
             "ticks": ""
            },
            "type": "mesh3d"
           }
          ],
          "parcoords": [
           {
            "line": {
             "colorbar": {
              "outlinewidth": 0,
              "ticks": ""
             }
            },
            "type": "parcoords"
           }
          ],
          "pie": [
           {
            "automargin": true,
            "type": "pie"
           }
          ],
          "scatter": [
           {
            "marker": {
             "colorbar": {
              "outlinewidth": 0,
              "ticks": ""
             }
            },
            "type": "scatter"
           }
          ],
          "scatter3d": [
           {
            "line": {
             "colorbar": {
              "outlinewidth": 0,
              "ticks": ""
             }
            },
            "marker": {
             "colorbar": {
              "outlinewidth": 0,
              "ticks": ""
             }
            },
            "type": "scatter3d"
           }
          ],
          "scattercarpet": [
           {
            "marker": {
             "colorbar": {
              "outlinewidth": 0,
              "ticks": ""
             }
            },
            "type": "scattercarpet"
           }
          ],
          "scattergeo": [
           {
            "marker": {
             "colorbar": {
              "outlinewidth": 0,
              "ticks": ""
             }
            },
            "type": "scattergeo"
           }
          ],
          "scattergl": [
           {
            "marker": {
             "colorbar": {
              "outlinewidth": 0,
              "ticks": ""
             }
            },
            "type": "scattergl"
           }
          ],
          "scattermapbox": [
           {
            "marker": {
             "colorbar": {
              "outlinewidth": 0,
              "ticks": ""
             }
            },
            "type": "scattermapbox"
           }
          ],
          "scatterpolar": [
           {
            "marker": {
             "colorbar": {
              "outlinewidth": 0,
              "ticks": ""
             }
            },
            "type": "scatterpolar"
           }
          ],
          "scatterpolargl": [
           {
            "marker": {
             "colorbar": {
              "outlinewidth": 0,
              "ticks": ""
             }
            },
            "type": "scatterpolargl"
           }
          ],
          "scatterternary": [
           {
            "marker": {
             "colorbar": {
              "outlinewidth": 0,
              "ticks": ""
             }
            },
            "type": "scatterternary"
           }
          ],
          "surface": [
           {
            "colorbar": {
             "outlinewidth": 0,
             "ticks": ""
            },
            "colorscale": [
             [
              0,
              "#0d0887"
             ],
             [
              0.1111111111111111,
              "#46039f"
             ],
             [
              0.2222222222222222,
              "#7201a8"
             ],
             [
              0.3333333333333333,
              "#9c179e"
             ],
             [
              0.4444444444444444,
              "#bd3786"
             ],
             [
              0.5555555555555556,
              "#d8576b"
             ],
             [
              0.6666666666666666,
              "#ed7953"
             ],
             [
              0.7777777777777778,
              "#fb9f3a"
             ],
             [
              0.8888888888888888,
              "#fdca26"
             ],
             [
              1,
              "#f0f921"
             ]
            ],
            "type": "surface"
           }
          ],
          "table": [
           {
            "cells": {
             "fill": {
              "color": "#EBF0F8"
             },
             "line": {
              "color": "white"
             }
            },
            "header": {
             "fill": {
              "color": "#C8D4E3"
             },
             "line": {
              "color": "white"
             }
            },
            "type": "table"
           }
          ]
         },
         "layout": {
          "annotationdefaults": {
           "arrowcolor": "#2a3f5f",
           "arrowhead": 0,
           "arrowwidth": 1
          },
          "coloraxis": {
           "colorbar": {
            "outlinewidth": 0,
            "ticks": ""
           }
          },
          "colorscale": {
           "diverging": [
            [
             0,
             "#8e0152"
            ],
            [
             0.1,
             "#c51b7d"
            ],
            [
             0.2,
             "#de77ae"
            ],
            [
             0.3,
             "#f1b6da"
            ],
            [
             0.4,
             "#fde0ef"
            ],
            [
             0.5,
             "#f7f7f7"
            ],
            [
             0.6,
             "#e6f5d0"
            ],
            [
             0.7,
             "#b8e186"
            ],
            [
             0.8,
             "#7fbc41"
            ],
            [
             0.9,
             "#4d9221"
            ],
            [
             1,
             "#276419"
            ]
           ],
           "sequential": [
            [
             0,
             "#0d0887"
            ],
            [
             0.1111111111111111,
             "#46039f"
            ],
            [
             0.2222222222222222,
             "#7201a8"
            ],
            [
             0.3333333333333333,
             "#9c179e"
            ],
            [
             0.4444444444444444,
             "#bd3786"
            ],
            [
             0.5555555555555556,
             "#d8576b"
            ],
            [
             0.6666666666666666,
             "#ed7953"
            ],
            [
             0.7777777777777778,
             "#fb9f3a"
            ],
            [
             0.8888888888888888,
             "#fdca26"
            ],
            [
             1,
             "#f0f921"
            ]
           ],
           "sequentialminus": [
            [
             0,
             "#0d0887"
            ],
            [
             0.1111111111111111,
             "#46039f"
            ],
            [
             0.2222222222222222,
             "#7201a8"
            ],
            [
             0.3333333333333333,
             "#9c179e"
            ],
            [
             0.4444444444444444,
             "#bd3786"
            ],
            [
             0.5555555555555556,
             "#d8576b"
            ],
            [
             0.6666666666666666,
             "#ed7953"
            ],
            [
             0.7777777777777778,
             "#fb9f3a"
            ],
            [
             0.8888888888888888,
             "#fdca26"
            ],
            [
             1,
             "#f0f921"
            ]
           ]
          },
          "colorway": [
           "#636efa",
           "#EF553B",
           "#00cc96",
           "#ab63fa",
           "#FFA15A",
           "#19d3f3",
           "#FF6692",
           "#B6E880",
           "#FF97FF",
           "#FECB52"
          ],
          "font": {
           "color": "#2a3f5f"
          },
          "geo": {
           "bgcolor": "white",
           "lakecolor": "white",
           "landcolor": "#E5ECF6",
           "showlakes": true,
           "showland": true,
           "subunitcolor": "white"
          },
          "hoverlabel": {
           "align": "left"
          },
          "hovermode": "closest",
          "mapbox": {
           "style": "light"
          },
          "paper_bgcolor": "white",
          "plot_bgcolor": "#E5ECF6",
          "polar": {
           "angularaxis": {
            "gridcolor": "white",
            "linecolor": "white",
            "ticks": ""
           },
           "bgcolor": "#E5ECF6",
           "radialaxis": {
            "gridcolor": "white",
            "linecolor": "white",
            "ticks": ""
           }
          },
          "scene": {
           "xaxis": {
            "backgroundcolor": "#E5ECF6",
            "gridcolor": "white",
            "gridwidth": 2,
            "linecolor": "white",
            "showbackground": true,
            "ticks": "",
            "zerolinecolor": "white"
           },
           "yaxis": {
            "backgroundcolor": "#E5ECF6",
            "gridcolor": "white",
            "gridwidth": 2,
            "linecolor": "white",
            "showbackground": true,
            "ticks": "",
            "zerolinecolor": "white"
           },
           "zaxis": {
            "backgroundcolor": "#E5ECF6",
            "gridcolor": "white",
            "gridwidth": 2,
            "linecolor": "white",
            "showbackground": true,
            "ticks": "",
            "zerolinecolor": "white"
           }
          },
          "shapedefaults": {
           "line": {
            "color": "#2a3f5f"
           }
          },
          "ternary": {
           "aaxis": {
            "gridcolor": "white",
            "linecolor": "white",
            "ticks": ""
           },
           "baxis": {
            "gridcolor": "white",
            "linecolor": "white",
            "ticks": ""
           },
           "bgcolor": "#E5ECF6",
           "caxis": {
            "gridcolor": "white",
            "linecolor": "white",
            "ticks": ""
           }
          },
          "title": {
           "x": 0.05
          },
          "xaxis": {
           "automargin": true,
           "gridcolor": "white",
           "linecolor": "white",
           "ticks": "",
           "title": {
            "standoff": 15
           },
           "zerolinecolor": "white",
           "zerolinewidth": 2
          },
          "yaxis": {
           "automargin": true,
           "gridcolor": "white",
           "linecolor": "white",
           "ticks": "",
           "title": {
            "standoff": 15
           },
           "zerolinecolor": "white",
           "zerolinewidth": 2
          }
         }
        },
        "title": {
         "font": {
          "color": "#4D5663"
         }
        },
        "xaxis": {
         "gridcolor": "#E1E5ED",
         "showgrid": true,
         "tickfont": {
          "color": "#4D5663"
         },
         "title": {
          "font": {
           "color": "#4D5663"
          },
          "text": ""
         },
         "zerolinecolor": "#E1E5ED"
        },
        "yaxis": {
         "gridcolor": "#E1E5ED",
         "showgrid": true,
         "tickfont": {
          "color": "#4D5663"
         },
         "title": {
          "font": {
           "color": "#4D5663"
          },
          "text": ""
         },
         "zerolinecolor": "#E1E5ED"
        }
       }
      },
      "text/html": [
       "<div>\n",
       "        \n",
       "        \n",
       "            <div id=\"5c7522fa-c0e3-41a7-910a-6f870bf5ee6b\" class=\"plotly-graph-div\" style=\"height:525px; width:100%;\"></div>\n",
       "            <script type=\"text/javascript\">\n",
       "                require([\"plotly\"], function(Plotly) {\n",
       "                    window.PLOTLYENV=window.PLOTLYENV || {};\n",
       "                    window.PLOTLYENV.BASE_URL='https://plot.ly';\n",
       "                    \n",
       "                if (document.getElementById(\"5c7522fa-c0e3-41a7-910a-6f870bf5ee6b\")) {\n",
       "                    Plotly.newPlot(\n",
       "                        '5c7522fa-c0e3-41a7-910a-6f870bf5ee6b',\n",
       "                        [{\"line\": {\"color\": \"rgba(255, 153, 51, 1.0)\", \"dash\": \"solid\", \"shape\": \"linear\", \"width\": 1.3}, \"marker\": {\"size\": 10, \"symbol\": \"circle\"}, \"mode\": \"markers\", \"name\": \"B\", \"text\": \"\", \"type\": \"scatter\", \"x\": [0.2317169047197511, 0.878202859039861, 0.8845456478701096, -0.8548417612934461, 2.551212651230751, -0.9715711502953682, -1.4286297257729936, 0.171781997371082, -0.26501974141230633, 1.448118461903668, 0.956200364077296, 0.2798407221282476, 1.2898124098548918, -0.1805503744770984, -0.9712934350712948, 0.944830093864121, 0.008383811079937189, 0.06411389321304094, -3.0448966138834717, 0.2071650308743917, 1.264273231110705, 0.009115961650350713, 1.2032289481855762, 0.1748885773766371, 0.7705083291235805, -0.48405781692728334, -0.18229576272709286, -0.14480699019100146, 1.6209270254850905, -0.03720051887920887, 0.9189256626796768, 1.7353795151389286, -1.4527591753072113, 0.21084974842433038, -0.8424132209460763, 0.8108010689563284, 1.8849307915325269, -0.38236134284848067, -1.8509955384600723, -1.0043802296934055, -1.6700335882266961, -0.2662800200558214, -0.2816104466918759, 1.9695064659323902, -1.3531333401005186, -1.8246487015463517, 0.4161856133422532, -0.31404073402964167, 0.3722783675048442, 2.133303617040413, -2.4471958895748074, 2.380719002345152, -0.3987430854316932, -0.014650312488142936, 1.2256641691759387, 1.7799074314307135, 0.5487143518972628, 0.02541417834825154, 0.5381538643916343, 2.4535136319212816, -0.023803262090310917, -0.6496924161052658, 0.04478553352171316, 0.5365061860661642, 0.7233240221161904, -0.2522619818245915, -1.5789598702116967, 0.274926573285316, -0.04484425533308025, -0.39533639004855775, -0.1539674894937371, 0.5434894729148447, 0.8297140683352305, 2.1447937974739597, -0.8691243150874558, 1.1913449442332948, 0.23992685967080285, 0.835519899053282, 0.775127212877518, 0.8179378516059655, 0.6767887621858589, -0.28668771741995064, 1.2664829486946523, 0.036890380042112085, 1.5343541032540513, -1.3328073199877764, -0.20674743397348924, -0.8547345166834612, 1.0274052102743279, -0.6231463227343251, -0.6202269343992488, -1.009586728733132, 0.8198648674064811, -0.04155656422413667, -0.2858429069412091, 0.5013344026955628, -0.5205537443270363, 0.1794569091055445, -0.00679461552715747, -1.2871461273377063], \"y\": [0.31537573601972646, 0.8264280604720017, 0.15880673938410703, -0.4945665747013332, -1.9291971682912035, -2.053128461013517, -0.41822165453726745, -0.7777578395540988, -0.37320239693156027, 1.0077705019872478, 0.2712966828345281, 0.21274963696718877, 0.08681838559463527, -0.5836485889875932, 1.239568154067294, -0.8336166955037497, 1.1474346168150165, -0.03716505277910525, -0.9630423160360793, 0.05960721757341472, -0.9577369659471877, -0.6095456247495279, -1.0329204156788498, -1.2125958704403847, 0.6604393457031784, 0.4269054295495109, -1.215150155380957, 1.38929308577231, -1.4642961357447615, -0.17395852265987718, -0.7053311469661707, 0.863093219012688, 0.3637406994713603, 0.5826837313913135, -1.209932493419657, 2.051445643285071, -1.0399723552126299, 0.34911638943718615, 0.6266184994346646, -0.17987182552393097, -0.5033924263326975, -1.3554213726667181, 0.7381731188497714, 0.6032159315621837, 0.31383776587827605, 1.5221045096712567, 1.0730090081467314, 1.5068400071106, -1.9657532084588805, -1.3738273908249323, 0.48706954818705034, 0.1934097777960746, -0.5098684385059237, -1.1110673077332558, 1.4519574756869593, 1.0745558846756398, 0.0008134396062797892, 0.9200113282161689, -1.7200861348159882, 0.10651184111518136, -0.30946533602772835, 0.16269854297053135, -0.1334720800134916, 0.1437347175119578, 0.6360683442236713, -1.6347287577630152, 0.8359585335920502, 0.027100102289993433, -0.7574047971474507, -1.5691832242530772, -0.10517278040729248, -1.911316107110392, -0.2040847122474828, -0.5268421182380644, -1.5201277139063434, -0.3368327664567618, 3.1166495508586363, -0.5106661675704326, -0.24961234609561317, 0.38516480037623885, -0.5394614558449573, 1.3909296431635094, -0.4953771635676115, 0.5514715008926203, -1.6368152085915135, 0.30964057125138994, 1.2710308408072852, -0.662447702474752, 0.3566427211364223, -0.25598888429205297, -0.7707764963409064, -0.4223655211888527, 0.5102442968597752, -0.23874528949899876, 0.4422885398643252, 1.18606662880413, -0.4108029668452801, 1.2414388069753572, 0.1345819144557129, 0.7666064340071423]}],\n",
       "                        {\"legend\": {\"bgcolor\": \"#F5F6F9\", \"font\": {\"color\": \"#4D5663\"}}, \"paper_bgcolor\": \"#F5F6F9\", \"plot_bgcolor\": \"#F5F6F9\", \"template\": {\"data\": {\"bar\": [{\"error_x\": {\"color\": \"#2a3f5f\"}, \"error_y\": {\"color\": \"#2a3f5f\"}, \"marker\": {\"line\": {\"color\": \"#E5ECF6\", \"width\": 0.5}}, \"type\": \"bar\"}], \"barpolar\": [{\"marker\": {\"line\": {\"color\": \"#E5ECF6\", \"width\": 0.5}}, \"type\": \"barpolar\"}], \"carpet\": [{\"aaxis\": {\"endlinecolor\": \"#2a3f5f\", \"gridcolor\": \"white\", \"linecolor\": \"white\", \"minorgridcolor\": \"white\", \"startlinecolor\": \"#2a3f5f\"}, \"baxis\": {\"endlinecolor\": \"#2a3f5f\", \"gridcolor\": \"white\", \"linecolor\": \"white\", \"minorgridcolor\": \"white\", \"startlinecolor\": \"#2a3f5f\"}, \"type\": \"carpet\"}], \"choropleth\": [{\"colorbar\": {\"outlinewidth\": 0, \"ticks\": \"\"}, \"type\": \"choropleth\"}], \"contour\": [{\"colorbar\": {\"outlinewidth\": 0, \"ticks\": \"\"}, \"colorscale\": [[0.0, \"#0d0887\"], [0.1111111111111111, \"#46039f\"], [0.2222222222222222, \"#7201a8\"], [0.3333333333333333, \"#9c179e\"], [0.4444444444444444, \"#bd3786\"], [0.5555555555555556, \"#d8576b\"], [0.6666666666666666, \"#ed7953\"], [0.7777777777777778, \"#fb9f3a\"], [0.8888888888888888, \"#fdca26\"], [1.0, \"#f0f921\"]], \"type\": \"contour\"}], \"contourcarpet\": [{\"colorbar\": {\"outlinewidth\": 0, \"ticks\": \"\"}, \"type\": \"contourcarpet\"}], \"heatmap\": [{\"colorbar\": {\"outlinewidth\": 0, \"ticks\": \"\"}, \"colorscale\": [[0.0, \"#0d0887\"], [0.1111111111111111, \"#46039f\"], [0.2222222222222222, \"#7201a8\"], [0.3333333333333333, \"#9c179e\"], [0.4444444444444444, \"#bd3786\"], [0.5555555555555556, \"#d8576b\"], [0.6666666666666666, \"#ed7953\"], [0.7777777777777778, \"#fb9f3a\"], [0.8888888888888888, \"#fdca26\"], [1.0, \"#f0f921\"]], \"type\": \"heatmap\"}], \"heatmapgl\": [{\"colorbar\": {\"outlinewidth\": 0, \"ticks\": \"\"}, \"colorscale\": [[0.0, \"#0d0887\"], [0.1111111111111111, \"#46039f\"], [0.2222222222222222, \"#7201a8\"], [0.3333333333333333, \"#9c179e\"], [0.4444444444444444, \"#bd3786\"], [0.5555555555555556, \"#d8576b\"], [0.6666666666666666, \"#ed7953\"], [0.7777777777777778, \"#fb9f3a\"], [0.8888888888888888, \"#fdca26\"], [1.0, \"#f0f921\"]], \"type\": \"heatmapgl\"}], \"histogram\": [{\"marker\": {\"colorbar\": {\"outlinewidth\": 0, \"ticks\": \"\"}}, \"type\": \"histogram\"}], \"histogram2d\": [{\"colorbar\": {\"outlinewidth\": 0, \"ticks\": \"\"}, \"colorscale\": [[0.0, \"#0d0887\"], [0.1111111111111111, \"#46039f\"], [0.2222222222222222, \"#7201a8\"], [0.3333333333333333, \"#9c179e\"], [0.4444444444444444, \"#bd3786\"], [0.5555555555555556, \"#d8576b\"], [0.6666666666666666, \"#ed7953\"], [0.7777777777777778, \"#fb9f3a\"], [0.8888888888888888, \"#fdca26\"], [1.0, \"#f0f921\"]], \"type\": \"histogram2d\"}], \"histogram2dcontour\": [{\"colorbar\": {\"outlinewidth\": 0, \"ticks\": \"\"}, \"colorscale\": [[0.0, \"#0d0887\"], [0.1111111111111111, \"#46039f\"], [0.2222222222222222, \"#7201a8\"], [0.3333333333333333, \"#9c179e\"], [0.4444444444444444, \"#bd3786\"], [0.5555555555555556, \"#d8576b\"], [0.6666666666666666, \"#ed7953\"], [0.7777777777777778, \"#fb9f3a\"], [0.8888888888888888, \"#fdca26\"], [1.0, \"#f0f921\"]], \"type\": \"histogram2dcontour\"}], \"mesh3d\": [{\"colorbar\": {\"outlinewidth\": 0, \"ticks\": \"\"}, \"type\": \"mesh3d\"}], \"parcoords\": [{\"line\": {\"colorbar\": {\"outlinewidth\": 0, \"ticks\": \"\"}}, \"type\": \"parcoords\"}], \"pie\": [{\"automargin\": true, \"type\": \"pie\"}], \"scatter\": [{\"marker\": {\"colorbar\": {\"outlinewidth\": 0, \"ticks\": \"\"}}, \"type\": \"scatter\"}], \"scatter3d\": [{\"line\": {\"colorbar\": {\"outlinewidth\": 0, \"ticks\": \"\"}}, \"marker\": {\"colorbar\": {\"outlinewidth\": 0, \"ticks\": \"\"}}, \"type\": \"scatter3d\"}], \"scattercarpet\": [{\"marker\": {\"colorbar\": {\"outlinewidth\": 0, \"ticks\": \"\"}}, \"type\": \"scattercarpet\"}], \"scattergeo\": [{\"marker\": {\"colorbar\": {\"outlinewidth\": 0, \"ticks\": \"\"}}, \"type\": \"scattergeo\"}], \"scattergl\": [{\"marker\": {\"colorbar\": {\"outlinewidth\": 0, \"ticks\": \"\"}}, \"type\": \"scattergl\"}], \"scattermapbox\": [{\"marker\": {\"colorbar\": {\"outlinewidth\": 0, \"ticks\": \"\"}}, \"type\": \"scattermapbox\"}], \"scatterpolar\": [{\"marker\": {\"colorbar\": {\"outlinewidth\": 0, \"ticks\": \"\"}}, \"type\": \"scatterpolar\"}], \"scatterpolargl\": [{\"marker\": {\"colorbar\": {\"outlinewidth\": 0, \"ticks\": \"\"}}, \"type\": \"scatterpolargl\"}], \"scatterternary\": [{\"marker\": {\"colorbar\": {\"outlinewidth\": 0, \"ticks\": \"\"}}, \"type\": \"scatterternary\"}], \"surface\": [{\"colorbar\": {\"outlinewidth\": 0, \"ticks\": \"\"}, \"colorscale\": [[0.0, \"#0d0887\"], [0.1111111111111111, \"#46039f\"], [0.2222222222222222, \"#7201a8\"], [0.3333333333333333, \"#9c179e\"], [0.4444444444444444, \"#bd3786\"], [0.5555555555555556, \"#d8576b\"], [0.6666666666666666, \"#ed7953\"], [0.7777777777777778, \"#fb9f3a\"], [0.8888888888888888, \"#fdca26\"], [1.0, \"#f0f921\"]], \"type\": \"surface\"}], \"table\": [{\"cells\": {\"fill\": {\"color\": \"#EBF0F8\"}, \"line\": {\"color\": \"white\"}}, \"header\": {\"fill\": {\"color\": \"#C8D4E3\"}, \"line\": {\"color\": \"white\"}}, \"type\": \"table\"}]}, \"layout\": {\"annotationdefaults\": {\"arrowcolor\": \"#2a3f5f\", \"arrowhead\": 0, \"arrowwidth\": 1}, \"coloraxis\": {\"colorbar\": {\"outlinewidth\": 0, \"ticks\": \"\"}}, \"colorscale\": {\"diverging\": [[0, \"#8e0152\"], [0.1, \"#c51b7d\"], [0.2, \"#de77ae\"], [0.3, \"#f1b6da\"], [0.4, \"#fde0ef\"], [0.5, \"#f7f7f7\"], [0.6, \"#e6f5d0\"], [0.7, \"#b8e186\"], [0.8, \"#7fbc41\"], [0.9, \"#4d9221\"], [1, \"#276419\"]], \"sequential\": [[0.0, \"#0d0887\"], [0.1111111111111111, \"#46039f\"], [0.2222222222222222, \"#7201a8\"], [0.3333333333333333, \"#9c179e\"], [0.4444444444444444, \"#bd3786\"], [0.5555555555555556, \"#d8576b\"], [0.6666666666666666, \"#ed7953\"], [0.7777777777777778, \"#fb9f3a\"], [0.8888888888888888, \"#fdca26\"], [1.0, \"#f0f921\"]], \"sequentialminus\": [[0.0, \"#0d0887\"], [0.1111111111111111, \"#46039f\"], [0.2222222222222222, \"#7201a8\"], [0.3333333333333333, \"#9c179e\"], [0.4444444444444444, \"#bd3786\"], [0.5555555555555556, \"#d8576b\"], [0.6666666666666666, \"#ed7953\"], [0.7777777777777778, \"#fb9f3a\"], [0.8888888888888888, \"#fdca26\"], [1.0, \"#f0f921\"]]}, \"colorway\": [\"#636efa\", \"#EF553B\", \"#00cc96\", \"#ab63fa\", \"#FFA15A\", \"#19d3f3\", \"#FF6692\", \"#B6E880\", \"#FF97FF\", \"#FECB52\"], \"font\": {\"color\": \"#2a3f5f\"}, \"geo\": {\"bgcolor\": \"white\", \"lakecolor\": \"white\", \"landcolor\": \"#E5ECF6\", \"showlakes\": true, \"showland\": true, \"subunitcolor\": \"white\"}, \"hoverlabel\": {\"align\": \"left\"}, \"hovermode\": \"closest\", \"mapbox\": {\"style\": \"light\"}, \"paper_bgcolor\": \"white\", \"plot_bgcolor\": \"#E5ECF6\", \"polar\": {\"angularaxis\": {\"gridcolor\": \"white\", \"linecolor\": \"white\", \"ticks\": \"\"}, \"bgcolor\": \"#E5ECF6\", \"radialaxis\": {\"gridcolor\": \"white\", \"linecolor\": \"white\", \"ticks\": \"\"}}, \"scene\": {\"xaxis\": {\"backgroundcolor\": \"#E5ECF6\", \"gridcolor\": \"white\", \"gridwidth\": 2, \"linecolor\": \"white\", \"showbackground\": true, \"ticks\": \"\", \"zerolinecolor\": \"white\"}, \"yaxis\": {\"backgroundcolor\": \"#E5ECF6\", \"gridcolor\": \"white\", \"gridwidth\": 2, \"linecolor\": \"white\", \"showbackground\": true, \"ticks\": \"\", \"zerolinecolor\": \"white\"}, \"zaxis\": {\"backgroundcolor\": \"#E5ECF6\", \"gridcolor\": \"white\", \"gridwidth\": 2, \"linecolor\": \"white\", \"showbackground\": true, \"ticks\": \"\", \"zerolinecolor\": \"white\"}}, \"shapedefaults\": {\"line\": {\"color\": \"#2a3f5f\"}}, \"ternary\": {\"aaxis\": {\"gridcolor\": \"white\", \"linecolor\": \"white\", \"ticks\": \"\"}, \"baxis\": {\"gridcolor\": \"white\", \"linecolor\": \"white\", \"ticks\": \"\"}, \"bgcolor\": \"#E5ECF6\", \"caxis\": {\"gridcolor\": \"white\", \"linecolor\": \"white\", \"ticks\": \"\"}}, \"title\": {\"x\": 0.05}, \"xaxis\": {\"automargin\": true, \"gridcolor\": \"white\", \"linecolor\": \"white\", \"ticks\": \"\", \"title\": {\"standoff\": 15}, \"zerolinecolor\": \"white\", \"zerolinewidth\": 2}, \"yaxis\": {\"automargin\": true, \"gridcolor\": \"white\", \"linecolor\": \"white\", \"ticks\": \"\", \"title\": {\"standoff\": 15}, \"zerolinecolor\": \"white\", \"zerolinewidth\": 2}}}, \"title\": {\"font\": {\"color\": \"#4D5663\"}}, \"xaxis\": {\"gridcolor\": \"#E1E5ED\", \"showgrid\": true, \"tickfont\": {\"color\": \"#4D5663\"}, \"title\": {\"font\": {\"color\": \"#4D5663\"}, \"text\": \"\"}, \"zerolinecolor\": \"#E1E5ED\"}, \"yaxis\": {\"gridcolor\": \"#E1E5ED\", \"showgrid\": true, \"tickfont\": {\"color\": \"#4D5663\"}, \"title\": {\"font\": {\"color\": \"#4D5663\"}, \"text\": \"\"}, \"zerolinecolor\": \"#E1E5ED\"}},\n",
       "                        {\"showLink\": true, \"linkText\": \"Export to plot.ly\", \"plotlyServerURL\": \"https://plot.ly\", \"responsive\": true}\n",
       "                    ).then(function(){\n",
       "                            \n",
       "var gd = document.getElementById('5c7522fa-c0e3-41a7-910a-6f870bf5ee6b');\n",
       "var x = new MutationObserver(function (mutations, observer) {{\n",
       "        var display = window.getComputedStyle(gd).display;\n",
       "        if (!display || display === 'none') {{\n",
       "            console.log([gd, 'removed!']);\n",
       "            Plotly.purge(gd);\n",
       "            observer.disconnect();\n",
       "        }}\n",
       "}});\n",
       "\n",
       "// Listen for the removal of the full notebook cells\n",
       "var notebookContainer = gd.closest('#notebook-container');\n",
       "if (notebookContainer) {{\n",
       "    x.observe(notebookContainer, {childList: true});\n",
       "}}\n",
       "\n",
       "// Listen for the clearing of the current output cell\n",
       "var outputEl = gd.closest('.output');\n",
       "if (outputEl) {{\n",
       "    x.observe(outputEl, {childList: true});\n",
       "}}\n",
       "\n",
       "                        })\n",
       "                };\n",
       "                });\n",
       "            </script>\n",
       "        </div>"
      ]
     },
     "metadata": {},
     "output_type": "display_data"
    }
   ],
   "source": [
    "df.iplot(kind='scatter',x='A',y='B',mode='markers',size=10)"
   ]
  },
  {
   "cell_type": "markdown",
   "metadata": {},
   "source": [
    "## Bar Plots"
   ]
  },
  {
   "cell_type": "code",
   "execution_count": 12,
   "metadata": {},
   "outputs": [
    {
     "data": {
      "application/vnd.plotly.v1+json": {
       "config": {
        "linkText": "Export to plot.ly",
        "plotlyServerURL": "https://plot.ly",
        "showLink": true
       },
       "data": [
        {
         "marker": {
          "color": "rgba(255, 153, 51, 0.6)",
          "line": {
           "color": "rgba(255, 153, 51, 1.0)",
           "width": 1
          }
         },
         "name": "Values",
         "orientation": "v",
         "text": "",
         "type": "bar",
         "x": [
          "A",
          "B",
          "C"
         ],
         "y": [
          32,
          43,
          50
         ]
        }
       ],
       "layout": {
        "legend": {
         "bgcolor": "#F5F6F9",
         "font": {
          "color": "#4D5663"
         }
        },
        "paper_bgcolor": "#F5F6F9",
        "plot_bgcolor": "#F5F6F9",
        "template": {
         "data": {
          "bar": [
           {
            "error_x": {
             "color": "#2a3f5f"
            },
            "error_y": {
             "color": "#2a3f5f"
            },
            "marker": {
             "line": {
              "color": "#E5ECF6",
              "width": 0.5
             }
            },
            "type": "bar"
           }
          ],
          "barpolar": [
           {
            "marker": {
             "line": {
              "color": "#E5ECF6",
              "width": 0.5
             }
            },
            "type": "barpolar"
           }
          ],
          "carpet": [
           {
            "aaxis": {
             "endlinecolor": "#2a3f5f",
             "gridcolor": "white",
             "linecolor": "white",
             "minorgridcolor": "white",
             "startlinecolor": "#2a3f5f"
            },
            "baxis": {
             "endlinecolor": "#2a3f5f",
             "gridcolor": "white",
             "linecolor": "white",
             "minorgridcolor": "white",
             "startlinecolor": "#2a3f5f"
            },
            "type": "carpet"
           }
          ],
          "choropleth": [
           {
            "colorbar": {
             "outlinewidth": 0,
             "ticks": ""
            },
            "type": "choropleth"
           }
          ],
          "contour": [
           {
            "colorbar": {
             "outlinewidth": 0,
             "ticks": ""
            },
            "colorscale": [
             [
              0,
              "#0d0887"
             ],
             [
              0.1111111111111111,
              "#46039f"
             ],
             [
              0.2222222222222222,
              "#7201a8"
             ],
             [
              0.3333333333333333,
              "#9c179e"
             ],
             [
              0.4444444444444444,
              "#bd3786"
             ],
             [
              0.5555555555555556,
              "#d8576b"
             ],
             [
              0.6666666666666666,
              "#ed7953"
             ],
             [
              0.7777777777777778,
              "#fb9f3a"
             ],
             [
              0.8888888888888888,
              "#fdca26"
             ],
             [
              1,
              "#f0f921"
             ]
            ],
            "type": "contour"
           }
          ],
          "contourcarpet": [
           {
            "colorbar": {
             "outlinewidth": 0,
             "ticks": ""
            },
            "type": "contourcarpet"
           }
          ],
          "heatmap": [
           {
            "colorbar": {
             "outlinewidth": 0,
             "ticks": ""
            },
            "colorscale": [
             [
              0,
              "#0d0887"
             ],
             [
              0.1111111111111111,
              "#46039f"
             ],
             [
              0.2222222222222222,
              "#7201a8"
             ],
             [
              0.3333333333333333,
              "#9c179e"
             ],
             [
              0.4444444444444444,
              "#bd3786"
             ],
             [
              0.5555555555555556,
              "#d8576b"
             ],
             [
              0.6666666666666666,
              "#ed7953"
             ],
             [
              0.7777777777777778,
              "#fb9f3a"
             ],
             [
              0.8888888888888888,
              "#fdca26"
             ],
             [
              1,
              "#f0f921"
             ]
            ],
            "type": "heatmap"
           }
          ],
          "heatmapgl": [
           {
            "colorbar": {
             "outlinewidth": 0,
             "ticks": ""
            },
            "colorscale": [
             [
              0,
              "#0d0887"
             ],
             [
              0.1111111111111111,
              "#46039f"
             ],
             [
              0.2222222222222222,
              "#7201a8"
             ],
             [
              0.3333333333333333,
              "#9c179e"
             ],
             [
              0.4444444444444444,
              "#bd3786"
             ],
             [
              0.5555555555555556,
              "#d8576b"
             ],
             [
              0.6666666666666666,
              "#ed7953"
             ],
             [
              0.7777777777777778,
              "#fb9f3a"
             ],
             [
              0.8888888888888888,
              "#fdca26"
             ],
             [
              1,
              "#f0f921"
             ]
            ],
            "type": "heatmapgl"
           }
          ],
          "histogram": [
           {
            "marker": {
             "colorbar": {
              "outlinewidth": 0,
              "ticks": ""
             }
            },
            "type": "histogram"
           }
          ],
          "histogram2d": [
           {
            "colorbar": {
             "outlinewidth": 0,
             "ticks": ""
            },
            "colorscale": [
             [
              0,
              "#0d0887"
             ],
             [
              0.1111111111111111,
              "#46039f"
             ],
             [
              0.2222222222222222,
              "#7201a8"
             ],
             [
              0.3333333333333333,
              "#9c179e"
             ],
             [
              0.4444444444444444,
              "#bd3786"
             ],
             [
              0.5555555555555556,
              "#d8576b"
             ],
             [
              0.6666666666666666,
              "#ed7953"
             ],
             [
              0.7777777777777778,
              "#fb9f3a"
             ],
             [
              0.8888888888888888,
              "#fdca26"
             ],
             [
              1,
              "#f0f921"
             ]
            ],
            "type": "histogram2d"
           }
          ],
          "histogram2dcontour": [
           {
            "colorbar": {
             "outlinewidth": 0,
             "ticks": ""
            },
            "colorscale": [
             [
              0,
              "#0d0887"
             ],
             [
              0.1111111111111111,
              "#46039f"
             ],
             [
              0.2222222222222222,
              "#7201a8"
             ],
             [
              0.3333333333333333,
              "#9c179e"
             ],
             [
              0.4444444444444444,
              "#bd3786"
             ],
             [
              0.5555555555555556,
              "#d8576b"
             ],
             [
              0.6666666666666666,
              "#ed7953"
             ],
             [
              0.7777777777777778,
              "#fb9f3a"
             ],
             [
              0.8888888888888888,
              "#fdca26"
             ],
             [
              1,
              "#f0f921"
             ]
            ],
            "type": "histogram2dcontour"
           }
          ],
          "mesh3d": [
           {
            "colorbar": {
             "outlinewidth": 0,
             "ticks": ""
            },
            "type": "mesh3d"
           }
          ],
          "parcoords": [
           {
            "line": {
             "colorbar": {
              "outlinewidth": 0,
              "ticks": ""
             }
            },
            "type": "parcoords"
           }
          ],
          "pie": [
           {
            "automargin": true,
            "type": "pie"
           }
          ],
          "scatter": [
           {
            "marker": {
             "colorbar": {
              "outlinewidth": 0,
              "ticks": ""
             }
            },
            "type": "scatter"
           }
          ],
          "scatter3d": [
           {
            "line": {
             "colorbar": {
              "outlinewidth": 0,
              "ticks": ""
             }
            },
            "marker": {
             "colorbar": {
              "outlinewidth": 0,
              "ticks": ""
             }
            },
            "type": "scatter3d"
           }
          ],
          "scattercarpet": [
           {
            "marker": {
             "colorbar": {
              "outlinewidth": 0,
              "ticks": ""
             }
            },
            "type": "scattercarpet"
           }
          ],
          "scattergeo": [
           {
            "marker": {
             "colorbar": {
              "outlinewidth": 0,
              "ticks": ""
             }
            },
            "type": "scattergeo"
           }
          ],
          "scattergl": [
           {
            "marker": {
             "colorbar": {
              "outlinewidth": 0,
              "ticks": ""
             }
            },
            "type": "scattergl"
           }
          ],
          "scattermapbox": [
           {
            "marker": {
             "colorbar": {
              "outlinewidth": 0,
              "ticks": ""
             }
            },
            "type": "scattermapbox"
           }
          ],
          "scatterpolar": [
           {
            "marker": {
             "colorbar": {
              "outlinewidth": 0,
              "ticks": ""
             }
            },
            "type": "scatterpolar"
           }
          ],
          "scatterpolargl": [
           {
            "marker": {
             "colorbar": {
              "outlinewidth": 0,
              "ticks": ""
             }
            },
            "type": "scatterpolargl"
           }
          ],
          "scatterternary": [
           {
            "marker": {
             "colorbar": {
              "outlinewidth": 0,
              "ticks": ""
             }
            },
            "type": "scatterternary"
           }
          ],
          "surface": [
           {
            "colorbar": {
             "outlinewidth": 0,
             "ticks": ""
            },
            "colorscale": [
             [
              0,
              "#0d0887"
             ],
             [
              0.1111111111111111,
              "#46039f"
             ],
             [
              0.2222222222222222,
              "#7201a8"
             ],
             [
              0.3333333333333333,
              "#9c179e"
             ],
             [
              0.4444444444444444,
              "#bd3786"
             ],
             [
              0.5555555555555556,
              "#d8576b"
             ],
             [
              0.6666666666666666,
              "#ed7953"
             ],
             [
              0.7777777777777778,
              "#fb9f3a"
             ],
             [
              0.8888888888888888,
              "#fdca26"
             ],
             [
              1,
              "#f0f921"
             ]
            ],
            "type": "surface"
           }
          ],
          "table": [
           {
            "cells": {
             "fill": {
              "color": "#EBF0F8"
             },
             "line": {
              "color": "white"
             }
            },
            "header": {
             "fill": {
              "color": "#C8D4E3"
             },
             "line": {
              "color": "white"
             }
            },
            "type": "table"
           }
          ]
         },
         "layout": {
          "annotationdefaults": {
           "arrowcolor": "#2a3f5f",
           "arrowhead": 0,
           "arrowwidth": 1
          },
          "coloraxis": {
           "colorbar": {
            "outlinewidth": 0,
            "ticks": ""
           }
          },
          "colorscale": {
           "diverging": [
            [
             0,
             "#8e0152"
            ],
            [
             0.1,
             "#c51b7d"
            ],
            [
             0.2,
             "#de77ae"
            ],
            [
             0.3,
             "#f1b6da"
            ],
            [
             0.4,
             "#fde0ef"
            ],
            [
             0.5,
             "#f7f7f7"
            ],
            [
             0.6,
             "#e6f5d0"
            ],
            [
             0.7,
             "#b8e186"
            ],
            [
             0.8,
             "#7fbc41"
            ],
            [
             0.9,
             "#4d9221"
            ],
            [
             1,
             "#276419"
            ]
           ],
           "sequential": [
            [
             0,
             "#0d0887"
            ],
            [
             0.1111111111111111,
             "#46039f"
            ],
            [
             0.2222222222222222,
             "#7201a8"
            ],
            [
             0.3333333333333333,
             "#9c179e"
            ],
            [
             0.4444444444444444,
             "#bd3786"
            ],
            [
             0.5555555555555556,
             "#d8576b"
            ],
            [
             0.6666666666666666,
             "#ed7953"
            ],
            [
             0.7777777777777778,
             "#fb9f3a"
            ],
            [
             0.8888888888888888,
             "#fdca26"
            ],
            [
             1,
             "#f0f921"
            ]
           ],
           "sequentialminus": [
            [
             0,
             "#0d0887"
            ],
            [
             0.1111111111111111,
             "#46039f"
            ],
            [
             0.2222222222222222,
             "#7201a8"
            ],
            [
             0.3333333333333333,
             "#9c179e"
            ],
            [
             0.4444444444444444,
             "#bd3786"
            ],
            [
             0.5555555555555556,
             "#d8576b"
            ],
            [
             0.6666666666666666,
             "#ed7953"
            ],
            [
             0.7777777777777778,
             "#fb9f3a"
            ],
            [
             0.8888888888888888,
             "#fdca26"
            ],
            [
             1,
             "#f0f921"
            ]
           ]
          },
          "colorway": [
           "#636efa",
           "#EF553B",
           "#00cc96",
           "#ab63fa",
           "#FFA15A",
           "#19d3f3",
           "#FF6692",
           "#B6E880",
           "#FF97FF",
           "#FECB52"
          ],
          "font": {
           "color": "#2a3f5f"
          },
          "geo": {
           "bgcolor": "white",
           "lakecolor": "white",
           "landcolor": "#E5ECF6",
           "showlakes": true,
           "showland": true,
           "subunitcolor": "white"
          },
          "hoverlabel": {
           "align": "left"
          },
          "hovermode": "closest",
          "mapbox": {
           "style": "light"
          },
          "paper_bgcolor": "white",
          "plot_bgcolor": "#E5ECF6",
          "polar": {
           "angularaxis": {
            "gridcolor": "white",
            "linecolor": "white",
            "ticks": ""
           },
           "bgcolor": "#E5ECF6",
           "radialaxis": {
            "gridcolor": "white",
            "linecolor": "white",
            "ticks": ""
           }
          },
          "scene": {
           "xaxis": {
            "backgroundcolor": "#E5ECF6",
            "gridcolor": "white",
            "gridwidth": 2,
            "linecolor": "white",
            "showbackground": true,
            "ticks": "",
            "zerolinecolor": "white"
           },
           "yaxis": {
            "backgroundcolor": "#E5ECF6",
            "gridcolor": "white",
            "gridwidth": 2,
            "linecolor": "white",
            "showbackground": true,
            "ticks": "",
            "zerolinecolor": "white"
           },
           "zaxis": {
            "backgroundcolor": "#E5ECF6",
            "gridcolor": "white",
            "gridwidth": 2,
            "linecolor": "white",
            "showbackground": true,
            "ticks": "",
            "zerolinecolor": "white"
           }
          },
          "shapedefaults": {
           "line": {
            "color": "#2a3f5f"
           }
          },
          "ternary": {
           "aaxis": {
            "gridcolor": "white",
            "linecolor": "white",
            "ticks": ""
           },
           "baxis": {
            "gridcolor": "white",
            "linecolor": "white",
            "ticks": ""
           },
           "bgcolor": "#E5ECF6",
           "caxis": {
            "gridcolor": "white",
            "linecolor": "white",
            "ticks": ""
           }
          },
          "title": {
           "x": 0.05
          },
          "xaxis": {
           "automargin": true,
           "gridcolor": "white",
           "linecolor": "white",
           "ticks": "",
           "title": {
            "standoff": 15
           },
           "zerolinecolor": "white",
           "zerolinewidth": 2
          },
          "yaxis": {
           "automargin": true,
           "gridcolor": "white",
           "linecolor": "white",
           "ticks": "",
           "title": {
            "standoff": 15
           },
           "zerolinecolor": "white",
           "zerolinewidth": 2
          }
         }
        },
        "title": {
         "font": {
          "color": "#4D5663"
         }
        },
        "xaxis": {
         "gridcolor": "#E1E5ED",
         "showgrid": true,
         "tickfont": {
          "color": "#4D5663"
         },
         "title": {
          "font": {
           "color": "#4D5663"
          },
          "text": ""
         },
         "zerolinecolor": "#E1E5ED"
        },
        "yaxis": {
         "gridcolor": "#E1E5ED",
         "showgrid": true,
         "tickfont": {
          "color": "#4D5663"
         },
         "title": {
          "font": {
           "color": "#4D5663"
          },
          "text": ""
         },
         "zerolinecolor": "#E1E5ED"
        }
       }
      },
      "text/html": [
       "<div>\n",
       "        \n",
       "        \n",
       "            <div id=\"6ce509cb-f524-4295-8572-a9e83f504dbf\" class=\"plotly-graph-div\" style=\"height:525px; width:100%;\"></div>\n",
       "            <script type=\"text/javascript\">\n",
       "                require([\"plotly\"], function(Plotly) {\n",
       "                    window.PLOTLYENV=window.PLOTLYENV || {};\n",
       "                    window.PLOTLYENV.BASE_URL='https://plot.ly';\n",
       "                    \n",
       "                if (document.getElementById(\"6ce509cb-f524-4295-8572-a9e83f504dbf\")) {\n",
       "                    Plotly.newPlot(\n",
       "                        '6ce509cb-f524-4295-8572-a9e83f504dbf',\n",
       "                        [{\"marker\": {\"color\": \"rgba(255, 153, 51, 0.6)\", \"line\": {\"color\": \"rgba(255, 153, 51, 1.0)\", \"width\": 1}}, \"name\": \"Values\", \"orientation\": \"v\", \"text\": \"\", \"type\": \"bar\", \"x\": [\"A\", \"B\", \"C\"], \"y\": [32, 43, 50]}],\n",
       "                        {\"legend\": {\"bgcolor\": \"#F5F6F9\", \"font\": {\"color\": \"#4D5663\"}}, \"paper_bgcolor\": \"#F5F6F9\", \"plot_bgcolor\": \"#F5F6F9\", \"template\": {\"data\": {\"bar\": [{\"error_x\": {\"color\": \"#2a3f5f\"}, \"error_y\": {\"color\": \"#2a3f5f\"}, \"marker\": {\"line\": {\"color\": \"#E5ECF6\", \"width\": 0.5}}, \"type\": \"bar\"}], \"barpolar\": [{\"marker\": {\"line\": {\"color\": \"#E5ECF6\", \"width\": 0.5}}, \"type\": \"barpolar\"}], \"carpet\": [{\"aaxis\": {\"endlinecolor\": \"#2a3f5f\", \"gridcolor\": \"white\", \"linecolor\": \"white\", \"minorgridcolor\": \"white\", \"startlinecolor\": \"#2a3f5f\"}, \"baxis\": {\"endlinecolor\": \"#2a3f5f\", \"gridcolor\": \"white\", \"linecolor\": \"white\", \"minorgridcolor\": \"white\", \"startlinecolor\": \"#2a3f5f\"}, \"type\": \"carpet\"}], \"choropleth\": [{\"colorbar\": {\"outlinewidth\": 0, \"ticks\": \"\"}, \"type\": \"choropleth\"}], \"contour\": [{\"colorbar\": {\"outlinewidth\": 0, \"ticks\": \"\"}, \"colorscale\": [[0.0, \"#0d0887\"], [0.1111111111111111, \"#46039f\"], [0.2222222222222222, \"#7201a8\"], [0.3333333333333333, \"#9c179e\"], [0.4444444444444444, \"#bd3786\"], [0.5555555555555556, \"#d8576b\"], [0.6666666666666666, \"#ed7953\"], [0.7777777777777778, \"#fb9f3a\"], [0.8888888888888888, \"#fdca26\"], [1.0, \"#f0f921\"]], \"type\": \"contour\"}], \"contourcarpet\": [{\"colorbar\": {\"outlinewidth\": 0, \"ticks\": \"\"}, \"type\": \"contourcarpet\"}], \"heatmap\": [{\"colorbar\": {\"outlinewidth\": 0, \"ticks\": \"\"}, \"colorscale\": [[0.0, \"#0d0887\"], [0.1111111111111111, \"#46039f\"], [0.2222222222222222, \"#7201a8\"], [0.3333333333333333, \"#9c179e\"], [0.4444444444444444, \"#bd3786\"], [0.5555555555555556, \"#d8576b\"], [0.6666666666666666, \"#ed7953\"], [0.7777777777777778, \"#fb9f3a\"], [0.8888888888888888, \"#fdca26\"], [1.0, \"#f0f921\"]], \"type\": \"heatmap\"}], \"heatmapgl\": [{\"colorbar\": {\"outlinewidth\": 0, \"ticks\": \"\"}, \"colorscale\": [[0.0, \"#0d0887\"], [0.1111111111111111, \"#46039f\"], [0.2222222222222222, \"#7201a8\"], [0.3333333333333333, \"#9c179e\"], [0.4444444444444444, \"#bd3786\"], [0.5555555555555556, \"#d8576b\"], [0.6666666666666666, \"#ed7953\"], [0.7777777777777778, \"#fb9f3a\"], [0.8888888888888888, \"#fdca26\"], [1.0, \"#f0f921\"]], \"type\": \"heatmapgl\"}], \"histogram\": [{\"marker\": {\"colorbar\": {\"outlinewidth\": 0, \"ticks\": \"\"}}, \"type\": \"histogram\"}], \"histogram2d\": [{\"colorbar\": {\"outlinewidth\": 0, \"ticks\": \"\"}, \"colorscale\": [[0.0, \"#0d0887\"], [0.1111111111111111, \"#46039f\"], [0.2222222222222222, \"#7201a8\"], [0.3333333333333333, \"#9c179e\"], [0.4444444444444444, \"#bd3786\"], [0.5555555555555556, \"#d8576b\"], [0.6666666666666666, \"#ed7953\"], [0.7777777777777778, \"#fb9f3a\"], [0.8888888888888888, \"#fdca26\"], [1.0, \"#f0f921\"]], \"type\": \"histogram2d\"}], \"histogram2dcontour\": [{\"colorbar\": {\"outlinewidth\": 0, \"ticks\": \"\"}, \"colorscale\": [[0.0, \"#0d0887\"], [0.1111111111111111, \"#46039f\"], [0.2222222222222222, \"#7201a8\"], [0.3333333333333333, \"#9c179e\"], [0.4444444444444444, \"#bd3786\"], [0.5555555555555556, \"#d8576b\"], [0.6666666666666666, \"#ed7953\"], [0.7777777777777778, \"#fb9f3a\"], [0.8888888888888888, \"#fdca26\"], [1.0, \"#f0f921\"]], \"type\": \"histogram2dcontour\"}], \"mesh3d\": [{\"colorbar\": {\"outlinewidth\": 0, \"ticks\": \"\"}, \"type\": \"mesh3d\"}], \"parcoords\": [{\"line\": {\"colorbar\": {\"outlinewidth\": 0, \"ticks\": \"\"}}, \"type\": \"parcoords\"}], \"pie\": [{\"automargin\": true, \"type\": \"pie\"}], \"scatter\": [{\"marker\": {\"colorbar\": {\"outlinewidth\": 0, \"ticks\": \"\"}}, \"type\": \"scatter\"}], \"scatter3d\": [{\"line\": {\"colorbar\": {\"outlinewidth\": 0, \"ticks\": \"\"}}, \"marker\": {\"colorbar\": {\"outlinewidth\": 0, \"ticks\": \"\"}}, \"type\": \"scatter3d\"}], \"scattercarpet\": [{\"marker\": {\"colorbar\": {\"outlinewidth\": 0, \"ticks\": \"\"}}, \"type\": \"scattercarpet\"}], \"scattergeo\": [{\"marker\": {\"colorbar\": {\"outlinewidth\": 0, \"ticks\": \"\"}}, \"type\": \"scattergeo\"}], \"scattergl\": [{\"marker\": {\"colorbar\": {\"outlinewidth\": 0, \"ticks\": \"\"}}, \"type\": \"scattergl\"}], \"scattermapbox\": [{\"marker\": {\"colorbar\": {\"outlinewidth\": 0, \"ticks\": \"\"}}, \"type\": \"scattermapbox\"}], \"scatterpolar\": [{\"marker\": {\"colorbar\": {\"outlinewidth\": 0, \"ticks\": \"\"}}, \"type\": \"scatterpolar\"}], \"scatterpolargl\": [{\"marker\": {\"colorbar\": {\"outlinewidth\": 0, \"ticks\": \"\"}}, \"type\": \"scatterpolargl\"}], \"scatterternary\": [{\"marker\": {\"colorbar\": {\"outlinewidth\": 0, \"ticks\": \"\"}}, \"type\": \"scatterternary\"}], \"surface\": [{\"colorbar\": {\"outlinewidth\": 0, \"ticks\": \"\"}, \"colorscale\": [[0.0, \"#0d0887\"], [0.1111111111111111, \"#46039f\"], [0.2222222222222222, \"#7201a8\"], [0.3333333333333333, \"#9c179e\"], [0.4444444444444444, \"#bd3786\"], [0.5555555555555556, \"#d8576b\"], [0.6666666666666666, \"#ed7953\"], [0.7777777777777778, \"#fb9f3a\"], [0.8888888888888888, \"#fdca26\"], [1.0, \"#f0f921\"]], \"type\": \"surface\"}], \"table\": [{\"cells\": {\"fill\": {\"color\": \"#EBF0F8\"}, \"line\": {\"color\": \"white\"}}, \"header\": {\"fill\": {\"color\": \"#C8D4E3\"}, \"line\": {\"color\": \"white\"}}, \"type\": \"table\"}]}, \"layout\": {\"annotationdefaults\": {\"arrowcolor\": \"#2a3f5f\", \"arrowhead\": 0, \"arrowwidth\": 1}, \"coloraxis\": {\"colorbar\": {\"outlinewidth\": 0, \"ticks\": \"\"}}, \"colorscale\": {\"diverging\": [[0, \"#8e0152\"], [0.1, \"#c51b7d\"], [0.2, \"#de77ae\"], [0.3, \"#f1b6da\"], [0.4, \"#fde0ef\"], [0.5, \"#f7f7f7\"], [0.6, \"#e6f5d0\"], [0.7, \"#b8e186\"], [0.8, \"#7fbc41\"], [0.9, \"#4d9221\"], [1, \"#276419\"]], \"sequential\": [[0.0, \"#0d0887\"], [0.1111111111111111, \"#46039f\"], [0.2222222222222222, \"#7201a8\"], [0.3333333333333333, \"#9c179e\"], [0.4444444444444444, \"#bd3786\"], [0.5555555555555556, \"#d8576b\"], [0.6666666666666666, \"#ed7953\"], [0.7777777777777778, \"#fb9f3a\"], [0.8888888888888888, \"#fdca26\"], [1.0, \"#f0f921\"]], \"sequentialminus\": [[0.0, \"#0d0887\"], [0.1111111111111111, \"#46039f\"], [0.2222222222222222, \"#7201a8\"], [0.3333333333333333, \"#9c179e\"], [0.4444444444444444, \"#bd3786\"], [0.5555555555555556, \"#d8576b\"], [0.6666666666666666, \"#ed7953\"], [0.7777777777777778, \"#fb9f3a\"], [0.8888888888888888, \"#fdca26\"], [1.0, \"#f0f921\"]]}, \"colorway\": [\"#636efa\", \"#EF553B\", \"#00cc96\", \"#ab63fa\", \"#FFA15A\", \"#19d3f3\", \"#FF6692\", \"#B6E880\", \"#FF97FF\", \"#FECB52\"], \"font\": {\"color\": \"#2a3f5f\"}, \"geo\": {\"bgcolor\": \"white\", \"lakecolor\": \"white\", \"landcolor\": \"#E5ECF6\", \"showlakes\": true, \"showland\": true, \"subunitcolor\": \"white\"}, \"hoverlabel\": {\"align\": \"left\"}, \"hovermode\": \"closest\", \"mapbox\": {\"style\": \"light\"}, \"paper_bgcolor\": \"white\", \"plot_bgcolor\": \"#E5ECF6\", \"polar\": {\"angularaxis\": {\"gridcolor\": \"white\", \"linecolor\": \"white\", \"ticks\": \"\"}, \"bgcolor\": \"#E5ECF6\", \"radialaxis\": {\"gridcolor\": \"white\", \"linecolor\": \"white\", \"ticks\": \"\"}}, \"scene\": {\"xaxis\": {\"backgroundcolor\": \"#E5ECF6\", \"gridcolor\": \"white\", \"gridwidth\": 2, \"linecolor\": \"white\", \"showbackground\": true, \"ticks\": \"\", \"zerolinecolor\": \"white\"}, \"yaxis\": {\"backgroundcolor\": \"#E5ECF6\", \"gridcolor\": \"white\", \"gridwidth\": 2, \"linecolor\": \"white\", \"showbackground\": true, \"ticks\": \"\", \"zerolinecolor\": \"white\"}, \"zaxis\": {\"backgroundcolor\": \"#E5ECF6\", \"gridcolor\": \"white\", \"gridwidth\": 2, \"linecolor\": \"white\", \"showbackground\": true, \"ticks\": \"\", \"zerolinecolor\": \"white\"}}, \"shapedefaults\": {\"line\": {\"color\": \"#2a3f5f\"}}, \"ternary\": {\"aaxis\": {\"gridcolor\": \"white\", \"linecolor\": \"white\", \"ticks\": \"\"}, \"baxis\": {\"gridcolor\": \"white\", \"linecolor\": \"white\", \"ticks\": \"\"}, \"bgcolor\": \"#E5ECF6\", \"caxis\": {\"gridcolor\": \"white\", \"linecolor\": \"white\", \"ticks\": \"\"}}, \"title\": {\"x\": 0.05}, \"xaxis\": {\"automargin\": true, \"gridcolor\": \"white\", \"linecolor\": \"white\", \"ticks\": \"\", \"title\": {\"standoff\": 15}, \"zerolinecolor\": \"white\", \"zerolinewidth\": 2}, \"yaxis\": {\"automargin\": true, \"gridcolor\": \"white\", \"linecolor\": \"white\", \"ticks\": \"\", \"title\": {\"standoff\": 15}, \"zerolinecolor\": \"white\", \"zerolinewidth\": 2}}}, \"title\": {\"font\": {\"color\": \"#4D5663\"}}, \"xaxis\": {\"gridcolor\": \"#E1E5ED\", \"showgrid\": true, \"tickfont\": {\"color\": \"#4D5663\"}, \"title\": {\"font\": {\"color\": \"#4D5663\"}, \"text\": \"\"}, \"zerolinecolor\": \"#E1E5ED\"}, \"yaxis\": {\"gridcolor\": \"#E1E5ED\", \"showgrid\": true, \"tickfont\": {\"color\": \"#4D5663\"}, \"title\": {\"font\": {\"color\": \"#4D5663\"}, \"text\": \"\"}, \"zerolinecolor\": \"#E1E5ED\"}},\n",
       "                        {\"showLink\": true, \"linkText\": \"Export to plot.ly\", \"plotlyServerURL\": \"https://plot.ly\", \"responsive\": true}\n",
       "                    ).then(function(){\n",
       "                            \n",
       "var gd = document.getElementById('6ce509cb-f524-4295-8572-a9e83f504dbf');\n",
       "var x = new MutationObserver(function (mutations, observer) {{\n",
       "        var display = window.getComputedStyle(gd).display;\n",
       "        if (!display || display === 'none') {{\n",
       "            console.log([gd, 'removed!']);\n",
       "            Plotly.purge(gd);\n",
       "            observer.disconnect();\n",
       "        }}\n",
       "}});\n",
       "\n",
       "// Listen for the removal of the full notebook cells\n",
       "var notebookContainer = gd.closest('#notebook-container');\n",
       "if (notebookContainer) {{\n",
       "    x.observe(notebookContainer, {childList: true});\n",
       "}}\n",
       "\n",
       "// Listen for the clearing of the current output cell\n",
       "var outputEl = gd.closest('.output');\n",
       "if (outputEl) {{\n",
       "    x.observe(outputEl, {childList: true});\n",
       "}}\n",
       "\n",
       "                        })\n",
       "                };\n",
       "                });\n",
       "            </script>\n",
       "        </div>"
      ]
     },
     "metadata": {},
     "output_type": "display_data"
    }
   ],
   "source": [
    "df2.iplot(kind='bar',x='Category',y='Values')"
   ]
  },
  {
   "cell_type": "code",
   "execution_count": 13,
   "metadata": {},
   "outputs": [
    {
     "data": {
      "application/vnd.plotly.v1+json": {
       "config": {
        "linkText": "Export to plot.ly",
        "plotlyServerURL": "https://plot.ly",
        "showLink": true
       },
       "data": [
        {
         "marker": {
          "color": "rgba(255, 153, 51, 0.6)",
          "line": {
           "color": "rgba(255, 153, 51, 1.0)",
           "width": 1
          }
         },
         "name": "None",
         "orientation": "v",
         "text": "",
         "type": "bar",
         "x": [
          "A",
          "B",
          "C",
          "D"
         ],
         "y": [
          100,
          100,
          100,
          100
         ]
        }
       ],
       "layout": {
        "legend": {
         "bgcolor": "#F5F6F9",
         "font": {
          "color": "#4D5663"
         }
        },
        "paper_bgcolor": "#F5F6F9",
        "plot_bgcolor": "#F5F6F9",
        "template": {
         "data": {
          "bar": [
           {
            "error_x": {
             "color": "#2a3f5f"
            },
            "error_y": {
             "color": "#2a3f5f"
            },
            "marker": {
             "line": {
              "color": "#E5ECF6",
              "width": 0.5
             }
            },
            "type": "bar"
           }
          ],
          "barpolar": [
           {
            "marker": {
             "line": {
              "color": "#E5ECF6",
              "width": 0.5
             }
            },
            "type": "barpolar"
           }
          ],
          "carpet": [
           {
            "aaxis": {
             "endlinecolor": "#2a3f5f",
             "gridcolor": "white",
             "linecolor": "white",
             "minorgridcolor": "white",
             "startlinecolor": "#2a3f5f"
            },
            "baxis": {
             "endlinecolor": "#2a3f5f",
             "gridcolor": "white",
             "linecolor": "white",
             "minorgridcolor": "white",
             "startlinecolor": "#2a3f5f"
            },
            "type": "carpet"
           }
          ],
          "choropleth": [
           {
            "colorbar": {
             "outlinewidth": 0,
             "ticks": ""
            },
            "type": "choropleth"
           }
          ],
          "contour": [
           {
            "colorbar": {
             "outlinewidth": 0,
             "ticks": ""
            },
            "colorscale": [
             [
              0,
              "#0d0887"
             ],
             [
              0.1111111111111111,
              "#46039f"
             ],
             [
              0.2222222222222222,
              "#7201a8"
             ],
             [
              0.3333333333333333,
              "#9c179e"
             ],
             [
              0.4444444444444444,
              "#bd3786"
             ],
             [
              0.5555555555555556,
              "#d8576b"
             ],
             [
              0.6666666666666666,
              "#ed7953"
             ],
             [
              0.7777777777777778,
              "#fb9f3a"
             ],
             [
              0.8888888888888888,
              "#fdca26"
             ],
             [
              1,
              "#f0f921"
             ]
            ],
            "type": "contour"
           }
          ],
          "contourcarpet": [
           {
            "colorbar": {
             "outlinewidth": 0,
             "ticks": ""
            },
            "type": "contourcarpet"
           }
          ],
          "heatmap": [
           {
            "colorbar": {
             "outlinewidth": 0,
             "ticks": ""
            },
            "colorscale": [
             [
              0,
              "#0d0887"
             ],
             [
              0.1111111111111111,
              "#46039f"
             ],
             [
              0.2222222222222222,
              "#7201a8"
             ],
             [
              0.3333333333333333,
              "#9c179e"
             ],
             [
              0.4444444444444444,
              "#bd3786"
             ],
             [
              0.5555555555555556,
              "#d8576b"
             ],
             [
              0.6666666666666666,
              "#ed7953"
             ],
             [
              0.7777777777777778,
              "#fb9f3a"
             ],
             [
              0.8888888888888888,
              "#fdca26"
             ],
             [
              1,
              "#f0f921"
             ]
            ],
            "type": "heatmap"
           }
          ],
          "heatmapgl": [
           {
            "colorbar": {
             "outlinewidth": 0,
             "ticks": ""
            },
            "colorscale": [
             [
              0,
              "#0d0887"
             ],
             [
              0.1111111111111111,
              "#46039f"
             ],
             [
              0.2222222222222222,
              "#7201a8"
             ],
             [
              0.3333333333333333,
              "#9c179e"
             ],
             [
              0.4444444444444444,
              "#bd3786"
             ],
             [
              0.5555555555555556,
              "#d8576b"
             ],
             [
              0.6666666666666666,
              "#ed7953"
             ],
             [
              0.7777777777777778,
              "#fb9f3a"
             ],
             [
              0.8888888888888888,
              "#fdca26"
             ],
             [
              1,
              "#f0f921"
             ]
            ],
            "type": "heatmapgl"
           }
          ],
          "histogram": [
           {
            "marker": {
             "colorbar": {
              "outlinewidth": 0,
              "ticks": ""
             }
            },
            "type": "histogram"
           }
          ],
          "histogram2d": [
           {
            "colorbar": {
             "outlinewidth": 0,
             "ticks": ""
            },
            "colorscale": [
             [
              0,
              "#0d0887"
             ],
             [
              0.1111111111111111,
              "#46039f"
             ],
             [
              0.2222222222222222,
              "#7201a8"
             ],
             [
              0.3333333333333333,
              "#9c179e"
             ],
             [
              0.4444444444444444,
              "#bd3786"
             ],
             [
              0.5555555555555556,
              "#d8576b"
             ],
             [
              0.6666666666666666,
              "#ed7953"
             ],
             [
              0.7777777777777778,
              "#fb9f3a"
             ],
             [
              0.8888888888888888,
              "#fdca26"
             ],
             [
              1,
              "#f0f921"
             ]
            ],
            "type": "histogram2d"
           }
          ],
          "histogram2dcontour": [
           {
            "colorbar": {
             "outlinewidth": 0,
             "ticks": ""
            },
            "colorscale": [
             [
              0,
              "#0d0887"
             ],
             [
              0.1111111111111111,
              "#46039f"
             ],
             [
              0.2222222222222222,
              "#7201a8"
             ],
             [
              0.3333333333333333,
              "#9c179e"
             ],
             [
              0.4444444444444444,
              "#bd3786"
             ],
             [
              0.5555555555555556,
              "#d8576b"
             ],
             [
              0.6666666666666666,
              "#ed7953"
             ],
             [
              0.7777777777777778,
              "#fb9f3a"
             ],
             [
              0.8888888888888888,
              "#fdca26"
             ],
             [
              1,
              "#f0f921"
             ]
            ],
            "type": "histogram2dcontour"
           }
          ],
          "mesh3d": [
           {
            "colorbar": {
             "outlinewidth": 0,
             "ticks": ""
            },
            "type": "mesh3d"
           }
          ],
          "parcoords": [
           {
            "line": {
             "colorbar": {
              "outlinewidth": 0,
              "ticks": ""
             }
            },
            "type": "parcoords"
           }
          ],
          "pie": [
           {
            "automargin": true,
            "type": "pie"
           }
          ],
          "scatter": [
           {
            "marker": {
             "colorbar": {
              "outlinewidth": 0,
              "ticks": ""
             }
            },
            "type": "scatter"
           }
          ],
          "scatter3d": [
           {
            "line": {
             "colorbar": {
              "outlinewidth": 0,
              "ticks": ""
             }
            },
            "marker": {
             "colorbar": {
              "outlinewidth": 0,
              "ticks": ""
             }
            },
            "type": "scatter3d"
           }
          ],
          "scattercarpet": [
           {
            "marker": {
             "colorbar": {
              "outlinewidth": 0,
              "ticks": ""
             }
            },
            "type": "scattercarpet"
           }
          ],
          "scattergeo": [
           {
            "marker": {
             "colorbar": {
              "outlinewidth": 0,
              "ticks": ""
             }
            },
            "type": "scattergeo"
           }
          ],
          "scattergl": [
           {
            "marker": {
             "colorbar": {
              "outlinewidth": 0,
              "ticks": ""
             }
            },
            "type": "scattergl"
           }
          ],
          "scattermapbox": [
           {
            "marker": {
             "colorbar": {
              "outlinewidth": 0,
              "ticks": ""
             }
            },
            "type": "scattermapbox"
           }
          ],
          "scatterpolar": [
           {
            "marker": {
             "colorbar": {
              "outlinewidth": 0,
              "ticks": ""
             }
            },
            "type": "scatterpolar"
           }
          ],
          "scatterpolargl": [
           {
            "marker": {
             "colorbar": {
              "outlinewidth": 0,
              "ticks": ""
             }
            },
            "type": "scatterpolargl"
           }
          ],
          "scatterternary": [
           {
            "marker": {
             "colorbar": {
              "outlinewidth": 0,
              "ticks": ""
             }
            },
            "type": "scatterternary"
           }
          ],
          "surface": [
           {
            "colorbar": {
             "outlinewidth": 0,
             "ticks": ""
            },
            "colorscale": [
             [
              0,
              "#0d0887"
             ],
             [
              0.1111111111111111,
              "#46039f"
             ],
             [
              0.2222222222222222,
              "#7201a8"
             ],
             [
              0.3333333333333333,
              "#9c179e"
             ],
             [
              0.4444444444444444,
              "#bd3786"
             ],
             [
              0.5555555555555556,
              "#d8576b"
             ],
             [
              0.6666666666666666,
              "#ed7953"
             ],
             [
              0.7777777777777778,
              "#fb9f3a"
             ],
             [
              0.8888888888888888,
              "#fdca26"
             ],
             [
              1,
              "#f0f921"
             ]
            ],
            "type": "surface"
           }
          ],
          "table": [
           {
            "cells": {
             "fill": {
              "color": "#EBF0F8"
             },
             "line": {
              "color": "white"
             }
            },
            "header": {
             "fill": {
              "color": "#C8D4E3"
             },
             "line": {
              "color": "white"
             }
            },
            "type": "table"
           }
          ]
         },
         "layout": {
          "annotationdefaults": {
           "arrowcolor": "#2a3f5f",
           "arrowhead": 0,
           "arrowwidth": 1
          },
          "coloraxis": {
           "colorbar": {
            "outlinewidth": 0,
            "ticks": ""
           }
          },
          "colorscale": {
           "diverging": [
            [
             0,
             "#8e0152"
            ],
            [
             0.1,
             "#c51b7d"
            ],
            [
             0.2,
             "#de77ae"
            ],
            [
             0.3,
             "#f1b6da"
            ],
            [
             0.4,
             "#fde0ef"
            ],
            [
             0.5,
             "#f7f7f7"
            ],
            [
             0.6,
             "#e6f5d0"
            ],
            [
             0.7,
             "#b8e186"
            ],
            [
             0.8,
             "#7fbc41"
            ],
            [
             0.9,
             "#4d9221"
            ],
            [
             1,
             "#276419"
            ]
           ],
           "sequential": [
            [
             0,
             "#0d0887"
            ],
            [
             0.1111111111111111,
             "#46039f"
            ],
            [
             0.2222222222222222,
             "#7201a8"
            ],
            [
             0.3333333333333333,
             "#9c179e"
            ],
            [
             0.4444444444444444,
             "#bd3786"
            ],
            [
             0.5555555555555556,
             "#d8576b"
            ],
            [
             0.6666666666666666,
             "#ed7953"
            ],
            [
             0.7777777777777778,
             "#fb9f3a"
            ],
            [
             0.8888888888888888,
             "#fdca26"
            ],
            [
             1,
             "#f0f921"
            ]
           ],
           "sequentialminus": [
            [
             0,
             "#0d0887"
            ],
            [
             0.1111111111111111,
             "#46039f"
            ],
            [
             0.2222222222222222,
             "#7201a8"
            ],
            [
             0.3333333333333333,
             "#9c179e"
            ],
            [
             0.4444444444444444,
             "#bd3786"
            ],
            [
             0.5555555555555556,
             "#d8576b"
            ],
            [
             0.6666666666666666,
             "#ed7953"
            ],
            [
             0.7777777777777778,
             "#fb9f3a"
            ],
            [
             0.8888888888888888,
             "#fdca26"
            ],
            [
             1,
             "#f0f921"
            ]
           ]
          },
          "colorway": [
           "#636efa",
           "#EF553B",
           "#00cc96",
           "#ab63fa",
           "#FFA15A",
           "#19d3f3",
           "#FF6692",
           "#B6E880",
           "#FF97FF",
           "#FECB52"
          ],
          "font": {
           "color": "#2a3f5f"
          },
          "geo": {
           "bgcolor": "white",
           "lakecolor": "white",
           "landcolor": "#E5ECF6",
           "showlakes": true,
           "showland": true,
           "subunitcolor": "white"
          },
          "hoverlabel": {
           "align": "left"
          },
          "hovermode": "closest",
          "mapbox": {
           "style": "light"
          },
          "paper_bgcolor": "white",
          "plot_bgcolor": "#E5ECF6",
          "polar": {
           "angularaxis": {
            "gridcolor": "white",
            "linecolor": "white",
            "ticks": ""
           },
           "bgcolor": "#E5ECF6",
           "radialaxis": {
            "gridcolor": "white",
            "linecolor": "white",
            "ticks": ""
           }
          },
          "scene": {
           "xaxis": {
            "backgroundcolor": "#E5ECF6",
            "gridcolor": "white",
            "gridwidth": 2,
            "linecolor": "white",
            "showbackground": true,
            "ticks": "",
            "zerolinecolor": "white"
           },
           "yaxis": {
            "backgroundcolor": "#E5ECF6",
            "gridcolor": "white",
            "gridwidth": 2,
            "linecolor": "white",
            "showbackground": true,
            "ticks": "",
            "zerolinecolor": "white"
           },
           "zaxis": {
            "backgroundcolor": "#E5ECF6",
            "gridcolor": "white",
            "gridwidth": 2,
            "linecolor": "white",
            "showbackground": true,
            "ticks": "",
            "zerolinecolor": "white"
           }
          },
          "shapedefaults": {
           "line": {
            "color": "#2a3f5f"
           }
          },
          "ternary": {
           "aaxis": {
            "gridcolor": "white",
            "linecolor": "white",
            "ticks": ""
           },
           "baxis": {
            "gridcolor": "white",
            "linecolor": "white",
            "ticks": ""
           },
           "bgcolor": "#E5ECF6",
           "caxis": {
            "gridcolor": "white",
            "linecolor": "white",
            "ticks": ""
           }
          },
          "title": {
           "x": 0.05
          },
          "xaxis": {
           "automargin": true,
           "gridcolor": "white",
           "linecolor": "white",
           "ticks": "",
           "title": {
            "standoff": 15
           },
           "zerolinecolor": "white",
           "zerolinewidth": 2
          },
          "yaxis": {
           "automargin": true,
           "gridcolor": "white",
           "linecolor": "white",
           "ticks": "",
           "title": {
            "standoff": 15
           },
           "zerolinecolor": "white",
           "zerolinewidth": 2
          }
         }
        },
        "title": {
         "font": {
          "color": "#4D5663"
         }
        },
        "xaxis": {
         "gridcolor": "#E1E5ED",
         "showgrid": true,
         "tickfont": {
          "color": "#4D5663"
         },
         "title": {
          "font": {
           "color": "#4D5663"
          },
          "text": ""
         },
         "zerolinecolor": "#E1E5ED"
        },
        "yaxis": {
         "gridcolor": "#E1E5ED",
         "showgrid": true,
         "tickfont": {
          "color": "#4D5663"
         },
         "title": {
          "font": {
           "color": "#4D5663"
          },
          "text": ""
         },
         "zerolinecolor": "#E1E5ED"
        }
       }
      },
      "text/html": [
       "<div>\n",
       "        \n",
       "        \n",
       "            <div id=\"061eddf7-43cb-4e4d-97e6-e324a0411454\" class=\"plotly-graph-div\" style=\"height:525px; width:100%;\"></div>\n",
       "            <script type=\"text/javascript\">\n",
       "                require([\"plotly\"], function(Plotly) {\n",
       "                    window.PLOTLYENV=window.PLOTLYENV || {};\n",
       "                    window.PLOTLYENV.BASE_URL='https://plot.ly';\n",
       "                    \n",
       "                if (document.getElementById(\"061eddf7-43cb-4e4d-97e6-e324a0411454\")) {\n",
       "                    Plotly.newPlot(\n",
       "                        '061eddf7-43cb-4e4d-97e6-e324a0411454',\n",
       "                        [{\"marker\": {\"color\": \"rgba(255, 153, 51, 0.6)\", \"line\": {\"color\": \"rgba(255, 153, 51, 1.0)\", \"width\": 1}}, \"name\": \"None\", \"orientation\": \"v\", \"text\": \"\", \"type\": \"bar\", \"x\": [\"A\", \"B\", \"C\", \"D\"], \"y\": [100, 100, 100, 100]}],\n",
       "                        {\"legend\": {\"bgcolor\": \"#F5F6F9\", \"font\": {\"color\": \"#4D5663\"}}, \"paper_bgcolor\": \"#F5F6F9\", \"plot_bgcolor\": \"#F5F6F9\", \"template\": {\"data\": {\"bar\": [{\"error_x\": {\"color\": \"#2a3f5f\"}, \"error_y\": {\"color\": \"#2a3f5f\"}, \"marker\": {\"line\": {\"color\": \"#E5ECF6\", \"width\": 0.5}}, \"type\": \"bar\"}], \"barpolar\": [{\"marker\": {\"line\": {\"color\": \"#E5ECF6\", \"width\": 0.5}}, \"type\": \"barpolar\"}], \"carpet\": [{\"aaxis\": {\"endlinecolor\": \"#2a3f5f\", \"gridcolor\": \"white\", \"linecolor\": \"white\", \"minorgridcolor\": \"white\", \"startlinecolor\": \"#2a3f5f\"}, \"baxis\": {\"endlinecolor\": \"#2a3f5f\", \"gridcolor\": \"white\", \"linecolor\": \"white\", \"minorgridcolor\": \"white\", \"startlinecolor\": \"#2a3f5f\"}, \"type\": \"carpet\"}], \"choropleth\": [{\"colorbar\": {\"outlinewidth\": 0, \"ticks\": \"\"}, \"type\": \"choropleth\"}], \"contour\": [{\"colorbar\": {\"outlinewidth\": 0, \"ticks\": \"\"}, \"colorscale\": [[0.0, \"#0d0887\"], [0.1111111111111111, \"#46039f\"], [0.2222222222222222, \"#7201a8\"], [0.3333333333333333, \"#9c179e\"], [0.4444444444444444, \"#bd3786\"], [0.5555555555555556, \"#d8576b\"], [0.6666666666666666, \"#ed7953\"], [0.7777777777777778, \"#fb9f3a\"], [0.8888888888888888, \"#fdca26\"], [1.0, \"#f0f921\"]], \"type\": \"contour\"}], \"contourcarpet\": [{\"colorbar\": {\"outlinewidth\": 0, \"ticks\": \"\"}, \"type\": \"contourcarpet\"}], \"heatmap\": [{\"colorbar\": {\"outlinewidth\": 0, \"ticks\": \"\"}, \"colorscale\": [[0.0, \"#0d0887\"], [0.1111111111111111, \"#46039f\"], [0.2222222222222222, \"#7201a8\"], [0.3333333333333333, \"#9c179e\"], [0.4444444444444444, \"#bd3786\"], [0.5555555555555556, \"#d8576b\"], [0.6666666666666666, \"#ed7953\"], [0.7777777777777778, \"#fb9f3a\"], [0.8888888888888888, \"#fdca26\"], [1.0, \"#f0f921\"]], \"type\": \"heatmap\"}], \"heatmapgl\": [{\"colorbar\": {\"outlinewidth\": 0, \"ticks\": \"\"}, \"colorscale\": [[0.0, \"#0d0887\"], [0.1111111111111111, \"#46039f\"], [0.2222222222222222, \"#7201a8\"], [0.3333333333333333, \"#9c179e\"], [0.4444444444444444, \"#bd3786\"], [0.5555555555555556, \"#d8576b\"], [0.6666666666666666, \"#ed7953\"], [0.7777777777777778, \"#fb9f3a\"], [0.8888888888888888, \"#fdca26\"], [1.0, \"#f0f921\"]], \"type\": \"heatmapgl\"}], \"histogram\": [{\"marker\": {\"colorbar\": {\"outlinewidth\": 0, \"ticks\": \"\"}}, \"type\": \"histogram\"}], \"histogram2d\": [{\"colorbar\": {\"outlinewidth\": 0, \"ticks\": \"\"}, \"colorscale\": [[0.0, \"#0d0887\"], [0.1111111111111111, \"#46039f\"], [0.2222222222222222, \"#7201a8\"], [0.3333333333333333, \"#9c179e\"], [0.4444444444444444, \"#bd3786\"], [0.5555555555555556, \"#d8576b\"], [0.6666666666666666, \"#ed7953\"], [0.7777777777777778, \"#fb9f3a\"], [0.8888888888888888, \"#fdca26\"], [1.0, \"#f0f921\"]], \"type\": \"histogram2d\"}], \"histogram2dcontour\": [{\"colorbar\": {\"outlinewidth\": 0, \"ticks\": \"\"}, \"colorscale\": [[0.0, \"#0d0887\"], [0.1111111111111111, \"#46039f\"], [0.2222222222222222, \"#7201a8\"], [0.3333333333333333, \"#9c179e\"], [0.4444444444444444, \"#bd3786\"], [0.5555555555555556, \"#d8576b\"], [0.6666666666666666, \"#ed7953\"], [0.7777777777777778, \"#fb9f3a\"], [0.8888888888888888, \"#fdca26\"], [1.0, \"#f0f921\"]], \"type\": \"histogram2dcontour\"}], \"mesh3d\": [{\"colorbar\": {\"outlinewidth\": 0, \"ticks\": \"\"}, \"type\": \"mesh3d\"}], \"parcoords\": [{\"line\": {\"colorbar\": {\"outlinewidth\": 0, \"ticks\": \"\"}}, \"type\": \"parcoords\"}], \"pie\": [{\"automargin\": true, \"type\": \"pie\"}], \"scatter\": [{\"marker\": {\"colorbar\": {\"outlinewidth\": 0, \"ticks\": \"\"}}, \"type\": \"scatter\"}], \"scatter3d\": [{\"line\": {\"colorbar\": {\"outlinewidth\": 0, \"ticks\": \"\"}}, \"marker\": {\"colorbar\": {\"outlinewidth\": 0, \"ticks\": \"\"}}, \"type\": \"scatter3d\"}], \"scattercarpet\": [{\"marker\": {\"colorbar\": {\"outlinewidth\": 0, \"ticks\": \"\"}}, \"type\": \"scattercarpet\"}], \"scattergeo\": [{\"marker\": {\"colorbar\": {\"outlinewidth\": 0, \"ticks\": \"\"}}, \"type\": \"scattergeo\"}], \"scattergl\": [{\"marker\": {\"colorbar\": {\"outlinewidth\": 0, \"ticks\": \"\"}}, \"type\": \"scattergl\"}], \"scattermapbox\": [{\"marker\": {\"colorbar\": {\"outlinewidth\": 0, \"ticks\": \"\"}}, \"type\": \"scattermapbox\"}], \"scatterpolar\": [{\"marker\": {\"colorbar\": {\"outlinewidth\": 0, \"ticks\": \"\"}}, \"type\": \"scatterpolar\"}], \"scatterpolargl\": [{\"marker\": {\"colorbar\": {\"outlinewidth\": 0, \"ticks\": \"\"}}, \"type\": \"scatterpolargl\"}], \"scatterternary\": [{\"marker\": {\"colorbar\": {\"outlinewidth\": 0, \"ticks\": \"\"}}, \"type\": \"scatterternary\"}], \"surface\": [{\"colorbar\": {\"outlinewidth\": 0, \"ticks\": \"\"}, \"colorscale\": [[0.0, \"#0d0887\"], [0.1111111111111111, \"#46039f\"], [0.2222222222222222, \"#7201a8\"], [0.3333333333333333, \"#9c179e\"], [0.4444444444444444, \"#bd3786\"], [0.5555555555555556, \"#d8576b\"], [0.6666666666666666, \"#ed7953\"], [0.7777777777777778, \"#fb9f3a\"], [0.8888888888888888, \"#fdca26\"], [1.0, \"#f0f921\"]], \"type\": \"surface\"}], \"table\": [{\"cells\": {\"fill\": {\"color\": \"#EBF0F8\"}, \"line\": {\"color\": \"white\"}}, \"header\": {\"fill\": {\"color\": \"#C8D4E3\"}, \"line\": {\"color\": \"white\"}}, \"type\": \"table\"}]}, \"layout\": {\"annotationdefaults\": {\"arrowcolor\": \"#2a3f5f\", \"arrowhead\": 0, \"arrowwidth\": 1}, \"coloraxis\": {\"colorbar\": {\"outlinewidth\": 0, \"ticks\": \"\"}}, \"colorscale\": {\"diverging\": [[0, \"#8e0152\"], [0.1, \"#c51b7d\"], [0.2, \"#de77ae\"], [0.3, \"#f1b6da\"], [0.4, \"#fde0ef\"], [0.5, \"#f7f7f7\"], [0.6, \"#e6f5d0\"], [0.7, \"#b8e186\"], [0.8, \"#7fbc41\"], [0.9, \"#4d9221\"], [1, \"#276419\"]], \"sequential\": [[0.0, \"#0d0887\"], [0.1111111111111111, \"#46039f\"], [0.2222222222222222, \"#7201a8\"], [0.3333333333333333, \"#9c179e\"], [0.4444444444444444, \"#bd3786\"], [0.5555555555555556, \"#d8576b\"], [0.6666666666666666, \"#ed7953\"], [0.7777777777777778, \"#fb9f3a\"], [0.8888888888888888, \"#fdca26\"], [1.0, \"#f0f921\"]], \"sequentialminus\": [[0.0, \"#0d0887\"], [0.1111111111111111, \"#46039f\"], [0.2222222222222222, \"#7201a8\"], [0.3333333333333333, \"#9c179e\"], [0.4444444444444444, \"#bd3786\"], [0.5555555555555556, \"#d8576b\"], [0.6666666666666666, \"#ed7953\"], [0.7777777777777778, \"#fb9f3a\"], [0.8888888888888888, \"#fdca26\"], [1.0, \"#f0f921\"]]}, \"colorway\": [\"#636efa\", \"#EF553B\", \"#00cc96\", \"#ab63fa\", \"#FFA15A\", \"#19d3f3\", \"#FF6692\", \"#B6E880\", \"#FF97FF\", \"#FECB52\"], \"font\": {\"color\": \"#2a3f5f\"}, \"geo\": {\"bgcolor\": \"white\", \"lakecolor\": \"white\", \"landcolor\": \"#E5ECF6\", \"showlakes\": true, \"showland\": true, \"subunitcolor\": \"white\"}, \"hoverlabel\": {\"align\": \"left\"}, \"hovermode\": \"closest\", \"mapbox\": {\"style\": \"light\"}, \"paper_bgcolor\": \"white\", \"plot_bgcolor\": \"#E5ECF6\", \"polar\": {\"angularaxis\": {\"gridcolor\": \"white\", \"linecolor\": \"white\", \"ticks\": \"\"}, \"bgcolor\": \"#E5ECF6\", \"radialaxis\": {\"gridcolor\": \"white\", \"linecolor\": \"white\", \"ticks\": \"\"}}, \"scene\": {\"xaxis\": {\"backgroundcolor\": \"#E5ECF6\", \"gridcolor\": \"white\", \"gridwidth\": 2, \"linecolor\": \"white\", \"showbackground\": true, \"ticks\": \"\", \"zerolinecolor\": \"white\"}, \"yaxis\": {\"backgroundcolor\": \"#E5ECF6\", \"gridcolor\": \"white\", \"gridwidth\": 2, \"linecolor\": \"white\", \"showbackground\": true, \"ticks\": \"\", \"zerolinecolor\": \"white\"}, \"zaxis\": {\"backgroundcolor\": \"#E5ECF6\", \"gridcolor\": \"white\", \"gridwidth\": 2, \"linecolor\": \"white\", \"showbackground\": true, \"ticks\": \"\", \"zerolinecolor\": \"white\"}}, \"shapedefaults\": {\"line\": {\"color\": \"#2a3f5f\"}}, \"ternary\": {\"aaxis\": {\"gridcolor\": \"white\", \"linecolor\": \"white\", \"ticks\": \"\"}, \"baxis\": {\"gridcolor\": \"white\", \"linecolor\": \"white\", \"ticks\": \"\"}, \"bgcolor\": \"#E5ECF6\", \"caxis\": {\"gridcolor\": \"white\", \"linecolor\": \"white\", \"ticks\": \"\"}}, \"title\": {\"x\": 0.05}, \"xaxis\": {\"automargin\": true, \"gridcolor\": \"white\", \"linecolor\": \"white\", \"ticks\": \"\", \"title\": {\"standoff\": 15}, \"zerolinecolor\": \"white\", \"zerolinewidth\": 2}, \"yaxis\": {\"automargin\": true, \"gridcolor\": \"white\", \"linecolor\": \"white\", \"ticks\": \"\", \"title\": {\"standoff\": 15}, \"zerolinecolor\": \"white\", \"zerolinewidth\": 2}}}, \"title\": {\"font\": {\"color\": \"#4D5663\"}}, \"xaxis\": {\"gridcolor\": \"#E1E5ED\", \"showgrid\": true, \"tickfont\": {\"color\": \"#4D5663\"}, \"title\": {\"font\": {\"color\": \"#4D5663\"}, \"text\": \"\"}, \"zerolinecolor\": \"#E1E5ED\"}, \"yaxis\": {\"gridcolor\": \"#E1E5ED\", \"showgrid\": true, \"tickfont\": {\"color\": \"#4D5663\"}, \"title\": {\"font\": {\"color\": \"#4D5663\"}, \"text\": \"\"}, \"zerolinecolor\": \"#E1E5ED\"}},\n",
       "                        {\"showLink\": true, \"linkText\": \"Export to plot.ly\", \"plotlyServerURL\": \"https://plot.ly\", \"responsive\": true}\n",
       "                    ).then(function(){\n",
       "                            \n",
       "var gd = document.getElementById('061eddf7-43cb-4e4d-97e6-e324a0411454');\n",
       "var x = new MutationObserver(function (mutations, observer) {{\n",
       "        var display = window.getComputedStyle(gd).display;\n",
       "        if (!display || display === 'none') {{\n",
       "            console.log([gd, 'removed!']);\n",
       "            Plotly.purge(gd);\n",
       "            observer.disconnect();\n",
       "        }}\n",
       "}});\n",
       "\n",
       "// Listen for the removal of the full notebook cells\n",
       "var notebookContainer = gd.closest('#notebook-container');\n",
       "if (notebookContainer) {{\n",
       "    x.observe(notebookContainer, {childList: true});\n",
       "}}\n",
       "\n",
       "// Listen for the clearing of the current output cell\n",
       "var outputEl = gd.closest('.output');\n",
       "if (outputEl) {{\n",
       "    x.observe(outputEl, {childList: true});\n",
       "}}\n",
       "\n",
       "                        })\n",
       "                };\n",
       "                });\n",
       "            </script>\n",
       "        </div>"
      ]
     },
     "metadata": {},
     "output_type": "display_data"
    }
   ],
   "source": [
    "df.count().iplot(kind='bar')"
   ]
  },
  {
   "cell_type": "markdown",
   "metadata": {},
   "source": [
    "## Boxplots"
   ]
  },
  {
   "cell_type": "code",
   "execution_count": 19,
   "metadata": {},
   "outputs": [
    {
     "data": {
      "application/vnd.plotly.v1+json": {
       "config": {
        "linkText": "Export to plot.ly",
        "plotlyServerURL": "https://plot.ly",
        "showLink": true
       },
       "data": [
        {
         "boxpoints": false,
         "line": {
          "width": 1.3
         },
         "marker": {
          "color": "rgba(255, 153, 51, 1.0)"
         },
         "name": "A",
         "orientation": "v",
         "type": "box",
         "y": [
          0.2317169047197511,
          0.878202859039861,
          0.8845456478701096,
          -0.8548417612934461,
          2.551212651230751,
          -0.9715711502953682,
          -1.4286297257729936,
          0.171781997371082,
          -0.26501974141230633,
          1.448118461903668,
          0.956200364077296,
          0.2798407221282476,
          1.2898124098548918,
          -0.1805503744770984,
          -0.9712934350712948,
          0.944830093864121,
          0.008383811079937189,
          0.06411389321304094,
          -3.0448966138834717,
          0.2071650308743917,
          1.264273231110705,
          0.009115961650350713,
          1.2032289481855762,
          0.1748885773766371,
          0.7705083291235805,
          -0.48405781692728334,
          -0.18229576272709286,
          -0.14480699019100146,
          1.6209270254850905,
          -0.03720051887920887,
          0.9189256626796768,
          1.7353795151389286,
          -1.4527591753072113,
          0.21084974842433038,
          -0.8424132209460763,
          0.8108010689563284,
          1.8849307915325269,
          -0.38236134284848067,
          -1.8509955384600723,
          -1.0043802296934055,
          -1.6700335882266961,
          -0.2662800200558214,
          -0.2816104466918759,
          1.9695064659323902,
          -1.3531333401005186,
          -1.8246487015463517,
          0.4161856133422532,
          -0.31404073402964167,
          0.3722783675048442,
          2.133303617040413,
          -2.4471958895748074,
          2.380719002345152,
          -0.3987430854316932,
          -0.014650312488142936,
          1.2256641691759387,
          1.7799074314307135,
          0.5487143518972628,
          0.02541417834825154,
          0.5381538643916343,
          2.4535136319212816,
          -0.023803262090310917,
          -0.6496924161052658,
          0.04478553352171316,
          0.5365061860661642,
          0.7233240221161904,
          -0.2522619818245915,
          -1.5789598702116967,
          0.274926573285316,
          -0.04484425533308025,
          -0.39533639004855775,
          -0.1539674894937371,
          0.5434894729148447,
          0.8297140683352305,
          2.1447937974739597,
          -0.8691243150874558,
          1.1913449442332948,
          0.23992685967080285,
          0.835519899053282,
          0.775127212877518,
          0.8179378516059655,
          0.6767887621858589,
          -0.28668771741995064,
          1.2664829486946523,
          0.036890380042112085,
          1.5343541032540513,
          -1.3328073199877764,
          -0.20674743397348924,
          -0.8547345166834612,
          1.0274052102743279,
          -0.6231463227343251,
          -0.6202269343992488,
          -1.009586728733132,
          0.8198648674064811,
          -0.04155656422413667,
          -0.2858429069412091,
          0.5013344026955628,
          -0.5205537443270363,
          0.1794569091055445,
          -0.00679461552715747,
          -1.2871461273377063
         ]
        },
        {
         "boxpoints": false,
         "line": {
          "width": 1.3
         },
         "marker": {
          "color": "rgba(55, 128, 191, 1.0)"
         },
         "name": "B",
         "orientation": "v",
         "type": "box",
         "y": [
          0.31537573601972646,
          0.8264280604720017,
          0.15880673938410703,
          -0.4945665747013332,
          -1.9291971682912035,
          -2.053128461013517,
          -0.41822165453726745,
          -0.7777578395540988,
          -0.37320239693156027,
          1.0077705019872478,
          0.2712966828345281,
          0.21274963696718877,
          0.08681838559463527,
          -0.5836485889875932,
          1.239568154067294,
          -0.8336166955037497,
          1.1474346168150165,
          -0.03716505277910525,
          -0.9630423160360793,
          0.05960721757341472,
          -0.9577369659471877,
          -0.6095456247495279,
          -1.0329204156788498,
          -1.2125958704403847,
          0.6604393457031784,
          0.4269054295495109,
          -1.215150155380957,
          1.38929308577231,
          -1.4642961357447615,
          -0.17395852265987718,
          -0.7053311469661707,
          0.863093219012688,
          0.3637406994713603,
          0.5826837313913135,
          -1.209932493419657,
          2.051445643285071,
          -1.0399723552126299,
          0.34911638943718615,
          0.6266184994346646,
          -0.17987182552393097,
          -0.5033924263326975,
          -1.3554213726667181,
          0.7381731188497714,
          0.6032159315621837,
          0.31383776587827605,
          1.5221045096712567,
          1.0730090081467314,
          1.5068400071106,
          -1.9657532084588805,
          -1.3738273908249323,
          0.48706954818705034,
          0.1934097777960746,
          -0.5098684385059237,
          -1.1110673077332558,
          1.4519574756869593,
          1.0745558846756398,
          0.0008134396062797892,
          0.9200113282161689,
          -1.7200861348159882,
          0.10651184111518136,
          -0.30946533602772835,
          0.16269854297053135,
          -0.1334720800134916,
          0.1437347175119578,
          0.6360683442236713,
          -1.6347287577630152,
          0.8359585335920502,
          0.027100102289993433,
          -0.7574047971474507,
          -1.5691832242530772,
          -0.10517278040729248,
          -1.911316107110392,
          -0.2040847122474828,
          -0.5268421182380644,
          -1.5201277139063434,
          -0.3368327664567618,
          3.1166495508586363,
          -0.5106661675704326,
          -0.24961234609561317,
          0.38516480037623885,
          -0.5394614558449573,
          1.3909296431635094,
          -0.4953771635676115,
          0.5514715008926203,
          -1.6368152085915135,
          0.30964057125138994,
          1.2710308408072852,
          -0.662447702474752,
          0.3566427211364223,
          -0.25598888429205297,
          -0.7707764963409064,
          -0.4223655211888527,
          0.5102442968597752,
          -0.23874528949899876,
          0.4422885398643252,
          1.18606662880413,
          -0.4108029668452801,
          1.2414388069753572,
          0.1345819144557129,
          0.7666064340071423
         ]
        },
        {
         "boxpoints": false,
         "line": {
          "width": 1.3
         },
         "marker": {
          "color": "rgba(50, 171, 96, 1.0)"
         },
         "name": "C",
         "orientation": "v",
         "type": "box",
         "y": [
          1.3314285234318506,
          -2.0030525524828158,
          0.8069750498787827,
          0.9650026018679855,
          0.3991816879331618,
          -0.379448951815883,
          0.0024418491318277096,
          -0.32736691297864695,
          1.16931048547153,
          2.277194132272568,
          -0.3754035435751317,
          0.8543373667068819,
          1.3412745962545134,
          -0.27836773917921465,
          -0.29464171475836526,
          -1.6243271705310767,
          0.30396234597697075,
          1.299440130107271,
          0.7011900077995749,
          1.4162591056558447,
          -0.757889301132777,
          1.2546446382994334,
          1.4585142492013845,
          -0.5363544395570112,
          1.4067424359427916,
          1.3039734139735715,
          0.9768829449054949,
          0.07959476569537824,
          1.9871355642589208,
          0.08606255824303585,
          -0.4020330448402153,
          -0.4361604878308823,
          -0.5645071849416328,
          -0.41470886996172984,
          1.380995442688989,
          -0.6883129275760239,
          0.5021014468963432,
          1.4979232102687683,
          0.048940873099344535,
          -1.2988952332686514,
          0.33295045401849954,
          -0.3321991887263928,
          0.5013365346924666,
          -0.9659423586694746,
          0.12979017542930207,
          -0.02994181004275303,
          0.6555581172761401,
          -0.30013895760744935,
          1.6345750352404322,
          0.23456207343882354,
          0.1493109973874951,
          0.7190281138780342,
          -0.5537135272792176,
          0.4772060118979437,
          -0.4144051359566405,
          -1.661374140130275,
          0.10704398422570807,
          -0.01470891404458069,
          -0.4028553085825461,
          -0.20664313573199233,
          0.05127213215269603,
          1.4998740906734598,
          -0.30346216338926657,
          -1.0398698382840703,
          -0.5815714798397903,
          -0.44646545271589355,
          0.05074529560975637,
          0.09620115280697357,
          -0.9899884889260059,
          0.27567166848079194,
          0.05558431731978129,
          -0.6084012980119271,
          -1.4768058399743125,
          0.4582183899408311,
          -0.6069867652636305,
          -0.8006908421822598,
          -0.5130961708745303,
          -3.1382625698594664,
          0.3062727725919721,
          0.28283417391136356,
          -0.552613838492679,
          2.0005647848200128,
          0.7256179513485513,
          -0.2301234857640447,
          -0.0681978012030093,
          0.6811349335356885,
          -1.3879335391650898,
          -0.4796257464404785,
          0.39675428371047583,
          0.08471919285442371,
          2.316459601511867,
          -0.6023990311010815,
          0.37340250597385055,
          0.43971356837911735,
          -1.6402628334912959,
          -0.9495724265911488,
          -0.32079803214803193,
          1.2837029413771264,
          2.009469308334944,
          -1.4731465084206268
         ]
        },
        {
         "boxpoints": false,
         "line": {
          "width": 1.3
         },
         "marker": {
          "color": "rgba(128, 0, 128, 1.0)"
         },
         "name": "D",
         "orientation": "v",
         "type": "box",
         "y": [
          -2.442256353799493,
          0.9709073716653166,
          0.696274416445329,
          -1.3126537757852912,
          -2.2947642215377204,
          0.43228965765873084,
          -0.10021975225989974,
          -0.4698607642153028,
          -0.5246454530162009,
          0.13681171817723586,
          -0.9370907913956436,
          0.8445496846097051,
          -1.667602149903598,
          0.8745593102331858,
          0.10793897930998145,
          -0.7708921010334914,
          -0.2202577403908129,
          0.9388393811045872,
          -0.3281237880224698,
          -0.7641445848219853,
          0.43543153494206766,
          -0.48474473190503836,
          0.091323404352155,
          -0.24932231329802002,
          -0.5418876011717217,
          -1.839286415125374,
          -0.3550779695049941,
          0.6272218526602737,
          -1.4910626848433257,
          -1.384819702601713,
          0.09261078980348449,
          0.29154485152882614,
          -0.06378760397108495,
          -0.9888039260722917,
          1.691419920108266,
          -0.016189506872969554,
          -1.4499900937662091,
          1.194294912410125,
          -0.8905946789584178,
          0.8461668696074989,
          1.3481107874991505,
          0.18484025597813206,
          1.1939901347592021,
          -1.2269055559462192,
          -1.6565115330781173,
          0.8225612174844014,
          0.23538104223758402,
          0.9159505819726038,
          0.9052096637356831,
          -0.21363144162587533,
          -0.7045645324301515,
          2.2355376442405683,
          -1.087024634990793,
          -0.9284202296100911,
          0.5526029056481675,
          -0.08759625350686467,
          -0.26013841086949063,
          -0.9324053494992589,
          -0.42948391693450516,
          -1.7485288340102203,
          1.8763482356866217,
          0.5708790874737044,
          -0.4402313750147008,
          1.1433931462379325,
          -1.1941177871386843,
          0.9164471651556135,
          0.2682697132215851,
          -0.14541228935368888,
          0.43065816417788816,
          1.1943353658604958,
          -0.4425320995761557,
          1.3332944501727115,
          1.2118557393134026,
          -1.6754054370786313,
          -0.9283743663315047,
          -0.8756507657260819,
          1.1656107346870621,
          -1.9472276496535312,
          0.07316268632878668,
          -0.8291130140690789,
          -1.4169765179376612,
          -0.07422350376193564,
          0.01340229644766372,
          0.8452908135594251,
          -0.8239328943839699,
          -1.2702749571195067,
          0.19096336174852996,
          0.1910642010087316,
          0.22379519850495896,
          0.06803220665062615,
          -0.2256372052800465,
          1.645972371363568,
          -0.4806571833155429,
          -0.09350263832696941,
          -0.3527346819892025,
          -0.6926482546678576,
          0.9810824733842617,
          0.5958950430222143,
          1.2119876816009385,
          0.7191139021428278
         ]
        }
       ],
       "layout": {
        "legend": {
         "bgcolor": "#F5F6F9",
         "font": {
          "color": "#4D5663"
         }
        },
        "paper_bgcolor": "#F5F6F9",
        "plot_bgcolor": "#F5F6F9",
        "template": {
         "data": {
          "bar": [
           {
            "error_x": {
             "color": "#2a3f5f"
            },
            "error_y": {
             "color": "#2a3f5f"
            },
            "marker": {
             "line": {
              "color": "#E5ECF6",
              "width": 0.5
             }
            },
            "type": "bar"
           }
          ],
          "barpolar": [
           {
            "marker": {
             "line": {
              "color": "#E5ECF6",
              "width": 0.5
             }
            },
            "type": "barpolar"
           }
          ],
          "carpet": [
           {
            "aaxis": {
             "endlinecolor": "#2a3f5f",
             "gridcolor": "white",
             "linecolor": "white",
             "minorgridcolor": "white",
             "startlinecolor": "#2a3f5f"
            },
            "baxis": {
             "endlinecolor": "#2a3f5f",
             "gridcolor": "white",
             "linecolor": "white",
             "minorgridcolor": "white",
             "startlinecolor": "#2a3f5f"
            },
            "type": "carpet"
           }
          ],
          "choropleth": [
           {
            "colorbar": {
             "outlinewidth": 0,
             "ticks": ""
            },
            "type": "choropleth"
           }
          ],
          "contour": [
           {
            "colorbar": {
             "outlinewidth": 0,
             "ticks": ""
            },
            "colorscale": [
             [
              0,
              "#0d0887"
             ],
             [
              0.1111111111111111,
              "#46039f"
             ],
             [
              0.2222222222222222,
              "#7201a8"
             ],
             [
              0.3333333333333333,
              "#9c179e"
             ],
             [
              0.4444444444444444,
              "#bd3786"
             ],
             [
              0.5555555555555556,
              "#d8576b"
             ],
             [
              0.6666666666666666,
              "#ed7953"
             ],
             [
              0.7777777777777778,
              "#fb9f3a"
             ],
             [
              0.8888888888888888,
              "#fdca26"
             ],
             [
              1,
              "#f0f921"
             ]
            ],
            "type": "contour"
           }
          ],
          "contourcarpet": [
           {
            "colorbar": {
             "outlinewidth": 0,
             "ticks": ""
            },
            "type": "contourcarpet"
           }
          ],
          "heatmap": [
           {
            "colorbar": {
             "outlinewidth": 0,
             "ticks": ""
            },
            "colorscale": [
             [
              0,
              "#0d0887"
             ],
             [
              0.1111111111111111,
              "#46039f"
             ],
             [
              0.2222222222222222,
              "#7201a8"
             ],
             [
              0.3333333333333333,
              "#9c179e"
             ],
             [
              0.4444444444444444,
              "#bd3786"
             ],
             [
              0.5555555555555556,
              "#d8576b"
             ],
             [
              0.6666666666666666,
              "#ed7953"
             ],
             [
              0.7777777777777778,
              "#fb9f3a"
             ],
             [
              0.8888888888888888,
              "#fdca26"
             ],
             [
              1,
              "#f0f921"
             ]
            ],
            "type": "heatmap"
           }
          ],
          "heatmapgl": [
           {
            "colorbar": {
             "outlinewidth": 0,
             "ticks": ""
            },
            "colorscale": [
             [
              0,
              "#0d0887"
             ],
             [
              0.1111111111111111,
              "#46039f"
             ],
             [
              0.2222222222222222,
              "#7201a8"
             ],
             [
              0.3333333333333333,
              "#9c179e"
             ],
             [
              0.4444444444444444,
              "#bd3786"
             ],
             [
              0.5555555555555556,
              "#d8576b"
             ],
             [
              0.6666666666666666,
              "#ed7953"
             ],
             [
              0.7777777777777778,
              "#fb9f3a"
             ],
             [
              0.8888888888888888,
              "#fdca26"
             ],
             [
              1,
              "#f0f921"
             ]
            ],
            "type": "heatmapgl"
           }
          ],
          "histogram": [
           {
            "marker": {
             "colorbar": {
              "outlinewidth": 0,
              "ticks": ""
             }
            },
            "type": "histogram"
           }
          ],
          "histogram2d": [
           {
            "colorbar": {
             "outlinewidth": 0,
             "ticks": ""
            },
            "colorscale": [
             [
              0,
              "#0d0887"
             ],
             [
              0.1111111111111111,
              "#46039f"
             ],
             [
              0.2222222222222222,
              "#7201a8"
             ],
             [
              0.3333333333333333,
              "#9c179e"
             ],
             [
              0.4444444444444444,
              "#bd3786"
             ],
             [
              0.5555555555555556,
              "#d8576b"
             ],
             [
              0.6666666666666666,
              "#ed7953"
             ],
             [
              0.7777777777777778,
              "#fb9f3a"
             ],
             [
              0.8888888888888888,
              "#fdca26"
             ],
             [
              1,
              "#f0f921"
             ]
            ],
            "type": "histogram2d"
           }
          ],
          "histogram2dcontour": [
           {
            "colorbar": {
             "outlinewidth": 0,
             "ticks": ""
            },
            "colorscale": [
             [
              0,
              "#0d0887"
             ],
             [
              0.1111111111111111,
              "#46039f"
             ],
             [
              0.2222222222222222,
              "#7201a8"
             ],
             [
              0.3333333333333333,
              "#9c179e"
             ],
             [
              0.4444444444444444,
              "#bd3786"
             ],
             [
              0.5555555555555556,
              "#d8576b"
             ],
             [
              0.6666666666666666,
              "#ed7953"
             ],
             [
              0.7777777777777778,
              "#fb9f3a"
             ],
             [
              0.8888888888888888,
              "#fdca26"
             ],
             [
              1,
              "#f0f921"
             ]
            ],
            "type": "histogram2dcontour"
           }
          ],
          "mesh3d": [
           {
            "colorbar": {
             "outlinewidth": 0,
             "ticks": ""
            },
            "type": "mesh3d"
           }
          ],
          "parcoords": [
           {
            "line": {
             "colorbar": {
              "outlinewidth": 0,
              "ticks": ""
             }
            },
            "type": "parcoords"
           }
          ],
          "pie": [
           {
            "automargin": true,
            "type": "pie"
           }
          ],
          "scatter": [
           {
            "marker": {
             "colorbar": {
              "outlinewidth": 0,
              "ticks": ""
             }
            },
            "type": "scatter"
           }
          ],
          "scatter3d": [
           {
            "line": {
             "colorbar": {
              "outlinewidth": 0,
              "ticks": ""
             }
            },
            "marker": {
             "colorbar": {
              "outlinewidth": 0,
              "ticks": ""
             }
            },
            "type": "scatter3d"
           }
          ],
          "scattercarpet": [
           {
            "marker": {
             "colorbar": {
              "outlinewidth": 0,
              "ticks": ""
             }
            },
            "type": "scattercarpet"
           }
          ],
          "scattergeo": [
           {
            "marker": {
             "colorbar": {
              "outlinewidth": 0,
              "ticks": ""
             }
            },
            "type": "scattergeo"
           }
          ],
          "scattergl": [
           {
            "marker": {
             "colorbar": {
              "outlinewidth": 0,
              "ticks": ""
             }
            },
            "type": "scattergl"
           }
          ],
          "scattermapbox": [
           {
            "marker": {
             "colorbar": {
              "outlinewidth": 0,
              "ticks": ""
             }
            },
            "type": "scattermapbox"
           }
          ],
          "scatterpolar": [
           {
            "marker": {
             "colorbar": {
              "outlinewidth": 0,
              "ticks": ""
             }
            },
            "type": "scatterpolar"
           }
          ],
          "scatterpolargl": [
           {
            "marker": {
             "colorbar": {
              "outlinewidth": 0,
              "ticks": ""
             }
            },
            "type": "scatterpolargl"
           }
          ],
          "scatterternary": [
           {
            "marker": {
             "colorbar": {
              "outlinewidth": 0,
              "ticks": ""
             }
            },
            "type": "scatterternary"
           }
          ],
          "surface": [
           {
            "colorbar": {
             "outlinewidth": 0,
             "ticks": ""
            },
            "colorscale": [
             [
              0,
              "#0d0887"
             ],
             [
              0.1111111111111111,
              "#46039f"
             ],
             [
              0.2222222222222222,
              "#7201a8"
             ],
             [
              0.3333333333333333,
              "#9c179e"
             ],
             [
              0.4444444444444444,
              "#bd3786"
             ],
             [
              0.5555555555555556,
              "#d8576b"
             ],
             [
              0.6666666666666666,
              "#ed7953"
             ],
             [
              0.7777777777777778,
              "#fb9f3a"
             ],
             [
              0.8888888888888888,
              "#fdca26"
             ],
             [
              1,
              "#f0f921"
             ]
            ],
            "type": "surface"
           }
          ],
          "table": [
           {
            "cells": {
             "fill": {
              "color": "#EBF0F8"
             },
             "line": {
              "color": "white"
             }
            },
            "header": {
             "fill": {
              "color": "#C8D4E3"
             },
             "line": {
              "color": "white"
             }
            },
            "type": "table"
           }
          ]
         },
         "layout": {
          "annotationdefaults": {
           "arrowcolor": "#2a3f5f",
           "arrowhead": 0,
           "arrowwidth": 1
          },
          "coloraxis": {
           "colorbar": {
            "outlinewidth": 0,
            "ticks": ""
           }
          },
          "colorscale": {
           "diverging": [
            [
             0,
             "#8e0152"
            ],
            [
             0.1,
             "#c51b7d"
            ],
            [
             0.2,
             "#de77ae"
            ],
            [
             0.3,
             "#f1b6da"
            ],
            [
             0.4,
             "#fde0ef"
            ],
            [
             0.5,
             "#f7f7f7"
            ],
            [
             0.6,
             "#e6f5d0"
            ],
            [
             0.7,
             "#b8e186"
            ],
            [
             0.8,
             "#7fbc41"
            ],
            [
             0.9,
             "#4d9221"
            ],
            [
             1,
             "#276419"
            ]
           ],
           "sequential": [
            [
             0,
             "#0d0887"
            ],
            [
             0.1111111111111111,
             "#46039f"
            ],
            [
             0.2222222222222222,
             "#7201a8"
            ],
            [
             0.3333333333333333,
             "#9c179e"
            ],
            [
             0.4444444444444444,
             "#bd3786"
            ],
            [
             0.5555555555555556,
             "#d8576b"
            ],
            [
             0.6666666666666666,
             "#ed7953"
            ],
            [
             0.7777777777777778,
             "#fb9f3a"
            ],
            [
             0.8888888888888888,
             "#fdca26"
            ],
            [
             1,
             "#f0f921"
            ]
           ],
           "sequentialminus": [
            [
             0,
             "#0d0887"
            ],
            [
             0.1111111111111111,
             "#46039f"
            ],
            [
             0.2222222222222222,
             "#7201a8"
            ],
            [
             0.3333333333333333,
             "#9c179e"
            ],
            [
             0.4444444444444444,
             "#bd3786"
            ],
            [
             0.5555555555555556,
             "#d8576b"
            ],
            [
             0.6666666666666666,
             "#ed7953"
            ],
            [
             0.7777777777777778,
             "#fb9f3a"
            ],
            [
             0.8888888888888888,
             "#fdca26"
            ],
            [
             1,
             "#f0f921"
            ]
           ]
          },
          "colorway": [
           "#636efa",
           "#EF553B",
           "#00cc96",
           "#ab63fa",
           "#FFA15A",
           "#19d3f3",
           "#FF6692",
           "#B6E880",
           "#FF97FF",
           "#FECB52"
          ],
          "font": {
           "color": "#2a3f5f"
          },
          "geo": {
           "bgcolor": "white",
           "lakecolor": "white",
           "landcolor": "#E5ECF6",
           "showlakes": true,
           "showland": true,
           "subunitcolor": "white"
          },
          "hoverlabel": {
           "align": "left"
          },
          "hovermode": "closest",
          "mapbox": {
           "style": "light"
          },
          "paper_bgcolor": "white",
          "plot_bgcolor": "#E5ECF6",
          "polar": {
           "angularaxis": {
            "gridcolor": "white",
            "linecolor": "white",
            "ticks": ""
           },
           "bgcolor": "#E5ECF6",
           "radialaxis": {
            "gridcolor": "white",
            "linecolor": "white",
            "ticks": ""
           }
          },
          "scene": {
           "xaxis": {
            "backgroundcolor": "#E5ECF6",
            "gridcolor": "white",
            "gridwidth": 2,
            "linecolor": "white",
            "showbackground": true,
            "ticks": "",
            "zerolinecolor": "white"
           },
           "yaxis": {
            "backgroundcolor": "#E5ECF6",
            "gridcolor": "white",
            "gridwidth": 2,
            "linecolor": "white",
            "showbackground": true,
            "ticks": "",
            "zerolinecolor": "white"
           },
           "zaxis": {
            "backgroundcolor": "#E5ECF6",
            "gridcolor": "white",
            "gridwidth": 2,
            "linecolor": "white",
            "showbackground": true,
            "ticks": "",
            "zerolinecolor": "white"
           }
          },
          "shapedefaults": {
           "line": {
            "color": "#2a3f5f"
           }
          },
          "ternary": {
           "aaxis": {
            "gridcolor": "white",
            "linecolor": "white",
            "ticks": ""
           },
           "baxis": {
            "gridcolor": "white",
            "linecolor": "white",
            "ticks": ""
           },
           "bgcolor": "#E5ECF6",
           "caxis": {
            "gridcolor": "white",
            "linecolor": "white",
            "ticks": ""
           }
          },
          "title": {
           "x": 0.05
          },
          "xaxis": {
           "automargin": true,
           "gridcolor": "white",
           "linecolor": "white",
           "ticks": "",
           "title": {
            "standoff": 15
           },
           "zerolinecolor": "white",
           "zerolinewidth": 2
          },
          "yaxis": {
           "automargin": true,
           "gridcolor": "white",
           "linecolor": "white",
           "ticks": "",
           "title": {
            "standoff": 15
           },
           "zerolinecolor": "white",
           "zerolinewidth": 2
          }
         }
        },
        "title": {
         "font": {
          "color": "#4D5663"
         }
        },
        "xaxis": {
         "gridcolor": "#E1E5ED",
         "showgrid": true,
         "tickfont": {
          "color": "#4D5663"
         },
         "title": {
          "font": {
           "color": "#4D5663"
          },
          "text": ""
         },
         "zerolinecolor": "#E1E5ED"
        },
        "yaxis": {
         "gridcolor": "#E1E5ED",
         "showgrid": true,
         "tickfont": {
          "color": "#4D5663"
         },
         "title": {
          "font": {
           "color": "#4D5663"
          },
          "text": ""
         },
         "zerolinecolor": "#E1E5ED"
        }
       }
      },
      "text/html": [
       "<div>\n",
       "        \n",
       "        \n",
       "            <div id=\"08c2ed38-d8e1-44b5-8678-fb178223e641\" class=\"plotly-graph-div\" style=\"height:525px; width:100%;\"></div>\n",
       "            <script type=\"text/javascript\">\n",
       "                require([\"plotly\"], function(Plotly) {\n",
       "                    window.PLOTLYENV=window.PLOTLYENV || {};\n",
       "                    window.PLOTLYENV.BASE_URL='https://plot.ly';\n",
       "                    \n",
       "                if (document.getElementById(\"08c2ed38-d8e1-44b5-8678-fb178223e641\")) {\n",
       "                    Plotly.newPlot(\n",
       "                        '08c2ed38-d8e1-44b5-8678-fb178223e641',\n",
       "                        [{\"boxpoints\": false, \"line\": {\"width\": 1.3}, \"marker\": {\"color\": \"rgba(255, 153, 51, 1.0)\"}, \"name\": \"A\", \"orientation\": \"v\", \"type\": \"box\", \"y\": [0.2317169047197511, 0.878202859039861, 0.8845456478701096, -0.8548417612934461, 2.551212651230751, -0.9715711502953682, -1.4286297257729936, 0.171781997371082, -0.26501974141230633, 1.448118461903668, 0.956200364077296, 0.2798407221282476, 1.2898124098548918, -0.1805503744770984, -0.9712934350712948, 0.944830093864121, 0.008383811079937189, 0.06411389321304094, -3.0448966138834717, 0.2071650308743917, 1.264273231110705, 0.009115961650350713, 1.2032289481855762, 0.1748885773766371, 0.7705083291235805, -0.48405781692728334, -0.18229576272709286, -0.14480699019100146, 1.6209270254850905, -0.03720051887920887, 0.9189256626796768, 1.7353795151389286, -1.4527591753072113, 0.21084974842433038, -0.8424132209460763, 0.8108010689563284, 1.8849307915325269, -0.38236134284848067, -1.8509955384600723, -1.0043802296934055, -1.6700335882266961, -0.2662800200558214, -0.2816104466918759, 1.9695064659323902, -1.3531333401005186, -1.8246487015463517, 0.4161856133422532, -0.31404073402964167, 0.3722783675048442, 2.133303617040413, -2.4471958895748074, 2.380719002345152, -0.3987430854316932, -0.014650312488142936, 1.2256641691759387, 1.7799074314307135, 0.5487143518972628, 0.02541417834825154, 0.5381538643916343, 2.4535136319212816, -0.023803262090310917, -0.6496924161052658, 0.04478553352171316, 0.5365061860661642, 0.7233240221161904, -0.2522619818245915, -1.5789598702116967, 0.274926573285316, -0.04484425533308025, -0.39533639004855775, -0.1539674894937371, 0.5434894729148447, 0.8297140683352305, 2.1447937974739597, -0.8691243150874558, 1.1913449442332948, 0.23992685967080285, 0.835519899053282, 0.775127212877518, 0.8179378516059655, 0.6767887621858589, -0.28668771741995064, 1.2664829486946523, 0.036890380042112085, 1.5343541032540513, -1.3328073199877764, -0.20674743397348924, -0.8547345166834612, 1.0274052102743279, -0.6231463227343251, -0.6202269343992488, -1.009586728733132, 0.8198648674064811, -0.04155656422413667, -0.2858429069412091, 0.5013344026955628, -0.5205537443270363, 0.1794569091055445, -0.00679461552715747, -1.2871461273377063]}, {\"boxpoints\": false, \"line\": {\"width\": 1.3}, \"marker\": {\"color\": \"rgba(55, 128, 191, 1.0)\"}, \"name\": \"B\", \"orientation\": \"v\", \"type\": \"box\", \"y\": [0.31537573601972646, 0.8264280604720017, 0.15880673938410703, -0.4945665747013332, -1.9291971682912035, -2.053128461013517, -0.41822165453726745, -0.7777578395540988, -0.37320239693156027, 1.0077705019872478, 0.2712966828345281, 0.21274963696718877, 0.08681838559463527, -0.5836485889875932, 1.239568154067294, -0.8336166955037497, 1.1474346168150165, -0.03716505277910525, -0.9630423160360793, 0.05960721757341472, -0.9577369659471877, -0.6095456247495279, -1.0329204156788498, -1.2125958704403847, 0.6604393457031784, 0.4269054295495109, -1.215150155380957, 1.38929308577231, -1.4642961357447615, -0.17395852265987718, -0.7053311469661707, 0.863093219012688, 0.3637406994713603, 0.5826837313913135, -1.209932493419657, 2.051445643285071, -1.0399723552126299, 0.34911638943718615, 0.6266184994346646, -0.17987182552393097, -0.5033924263326975, -1.3554213726667181, 0.7381731188497714, 0.6032159315621837, 0.31383776587827605, 1.5221045096712567, 1.0730090081467314, 1.5068400071106, -1.9657532084588805, -1.3738273908249323, 0.48706954818705034, 0.1934097777960746, -0.5098684385059237, -1.1110673077332558, 1.4519574756869593, 1.0745558846756398, 0.0008134396062797892, 0.9200113282161689, -1.7200861348159882, 0.10651184111518136, -0.30946533602772835, 0.16269854297053135, -0.1334720800134916, 0.1437347175119578, 0.6360683442236713, -1.6347287577630152, 0.8359585335920502, 0.027100102289993433, -0.7574047971474507, -1.5691832242530772, -0.10517278040729248, -1.911316107110392, -0.2040847122474828, -0.5268421182380644, -1.5201277139063434, -0.3368327664567618, 3.1166495508586363, -0.5106661675704326, -0.24961234609561317, 0.38516480037623885, -0.5394614558449573, 1.3909296431635094, -0.4953771635676115, 0.5514715008926203, -1.6368152085915135, 0.30964057125138994, 1.2710308408072852, -0.662447702474752, 0.3566427211364223, -0.25598888429205297, -0.7707764963409064, -0.4223655211888527, 0.5102442968597752, -0.23874528949899876, 0.4422885398643252, 1.18606662880413, -0.4108029668452801, 1.2414388069753572, 0.1345819144557129, 0.7666064340071423]}, {\"boxpoints\": false, \"line\": {\"width\": 1.3}, \"marker\": {\"color\": \"rgba(50, 171, 96, 1.0)\"}, \"name\": \"C\", \"orientation\": \"v\", \"type\": \"box\", \"y\": [1.3314285234318506, -2.0030525524828158, 0.8069750498787827, 0.9650026018679855, 0.3991816879331618, -0.379448951815883, 0.0024418491318277096, -0.32736691297864695, 1.16931048547153, 2.277194132272568, -0.3754035435751317, 0.8543373667068819, 1.3412745962545134, -0.27836773917921465, -0.29464171475836526, -1.6243271705310767, 0.30396234597697075, 1.299440130107271, 0.7011900077995749, 1.4162591056558447, -0.757889301132777, 1.2546446382994334, 1.4585142492013845, -0.5363544395570112, 1.4067424359427916, 1.3039734139735715, 0.9768829449054949, 0.07959476569537824, 1.9871355642589208, 0.08606255824303585, -0.4020330448402153, -0.4361604878308823, -0.5645071849416328, -0.41470886996172984, 1.380995442688989, -0.6883129275760239, 0.5021014468963432, 1.4979232102687683, 0.048940873099344535, -1.2988952332686514, 0.33295045401849954, -0.3321991887263928, 0.5013365346924666, -0.9659423586694746, 0.12979017542930207, -0.02994181004275303, 0.6555581172761401, -0.30013895760744935, 1.6345750352404322, 0.23456207343882354, 0.1493109973874951, 0.7190281138780342, -0.5537135272792176, 0.4772060118979437, -0.4144051359566405, -1.661374140130275, 0.10704398422570807, -0.01470891404458069, -0.4028553085825461, -0.20664313573199233, 0.05127213215269603, 1.4998740906734598, -0.30346216338926657, -1.0398698382840703, -0.5815714798397903, -0.44646545271589355, 0.05074529560975637, 0.09620115280697357, -0.9899884889260059, 0.27567166848079194, 0.05558431731978129, -0.6084012980119271, -1.4768058399743125, 0.4582183899408311, -0.6069867652636305, -0.8006908421822598, -0.5130961708745303, -3.1382625698594664, 0.3062727725919721, 0.28283417391136356, -0.552613838492679, 2.0005647848200128, 0.7256179513485513, -0.2301234857640447, -0.0681978012030093, 0.6811349335356885, -1.3879335391650898, -0.4796257464404785, 0.39675428371047583, 0.08471919285442371, 2.316459601511867, -0.6023990311010815, 0.37340250597385055, 0.43971356837911735, -1.6402628334912959, -0.9495724265911488, -0.32079803214803193, 1.2837029413771264, 2.009469308334944, -1.4731465084206268]}, {\"boxpoints\": false, \"line\": {\"width\": 1.3}, \"marker\": {\"color\": \"rgba(128, 0, 128, 1.0)\"}, \"name\": \"D\", \"orientation\": \"v\", \"type\": \"box\", \"y\": [-2.442256353799493, 0.9709073716653166, 0.696274416445329, -1.3126537757852912, -2.2947642215377204, 0.43228965765873084, -0.10021975225989974, -0.4698607642153028, -0.5246454530162009, 0.13681171817723586, -0.9370907913956436, 0.8445496846097051, -1.667602149903598, 0.8745593102331858, 0.10793897930998145, -0.7708921010334914, -0.2202577403908129, 0.9388393811045872, -0.3281237880224698, -0.7641445848219853, 0.43543153494206766, -0.48474473190503836, 0.091323404352155, -0.24932231329802002, -0.5418876011717217, -1.839286415125374, -0.3550779695049941, 0.6272218526602737, -1.4910626848433257, -1.384819702601713, 0.09261078980348449, 0.29154485152882614, -0.06378760397108495, -0.9888039260722917, 1.691419920108266, -0.016189506872969554, -1.4499900937662091, 1.194294912410125, -0.8905946789584178, 0.8461668696074989, 1.3481107874991505, 0.18484025597813206, 1.1939901347592021, -1.2269055559462192, -1.6565115330781173, 0.8225612174844014, 0.23538104223758402, 0.9159505819726038, 0.9052096637356831, -0.21363144162587533, -0.7045645324301515, 2.2355376442405683, -1.087024634990793, -0.9284202296100911, 0.5526029056481675, -0.08759625350686467, -0.26013841086949063, -0.9324053494992589, -0.42948391693450516, -1.7485288340102203, 1.8763482356866217, 0.5708790874737044, -0.4402313750147008, 1.1433931462379325, -1.1941177871386843, 0.9164471651556135, 0.2682697132215851, -0.14541228935368888, 0.43065816417788816, 1.1943353658604958, -0.4425320995761557, 1.3332944501727115, 1.2118557393134026, -1.6754054370786313, -0.9283743663315047, -0.8756507657260819, 1.1656107346870621, -1.9472276496535312, 0.07316268632878668, -0.8291130140690789, -1.4169765179376612, -0.07422350376193564, 0.01340229644766372, 0.8452908135594251, -0.8239328943839699, -1.2702749571195067, 0.19096336174852996, 0.1910642010087316, 0.22379519850495896, 0.06803220665062615, -0.2256372052800465, 1.645972371363568, -0.4806571833155429, -0.09350263832696941, -0.3527346819892025, -0.6926482546678576, 0.9810824733842617, 0.5958950430222143, 1.2119876816009385, 0.7191139021428278]}],\n",
       "                        {\"legend\": {\"bgcolor\": \"#F5F6F9\", \"font\": {\"color\": \"#4D5663\"}}, \"paper_bgcolor\": \"#F5F6F9\", \"plot_bgcolor\": \"#F5F6F9\", \"template\": {\"data\": {\"bar\": [{\"error_x\": {\"color\": \"#2a3f5f\"}, \"error_y\": {\"color\": \"#2a3f5f\"}, \"marker\": {\"line\": {\"color\": \"#E5ECF6\", \"width\": 0.5}}, \"type\": \"bar\"}], \"barpolar\": [{\"marker\": {\"line\": {\"color\": \"#E5ECF6\", \"width\": 0.5}}, \"type\": \"barpolar\"}], \"carpet\": [{\"aaxis\": {\"endlinecolor\": \"#2a3f5f\", \"gridcolor\": \"white\", \"linecolor\": \"white\", \"minorgridcolor\": \"white\", \"startlinecolor\": \"#2a3f5f\"}, \"baxis\": {\"endlinecolor\": \"#2a3f5f\", \"gridcolor\": \"white\", \"linecolor\": \"white\", \"minorgridcolor\": \"white\", \"startlinecolor\": \"#2a3f5f\"}, \"type\": \"carpet\"}], \"choropleth\": [{\"colorbar\": {\"outlinewidth\": 0, \"ticks\": \"\"}, \"type\": \"choropleth\"}], \"contour\": [{\"colorbar\": {\"outlinewidth\": 0, \"ticks\": \"\"}, \"colorscale\": [[0.0, \"#0d0887\"], [0.1111111111111111, \"#46039f\"], [0.2222222222222222, \"#7201a8\"], [0.3333333333333333, \"#9c179e\"], [0.4444444444444444, \"#bd3786\"], [0.5555555555555556, \"#d8576b\"], [0.6666666666666666, \"#ed7953\"], [0.7777777777777778, \"#fb9f3a\"], [0.8888888888888888, \"#fdca26\"], [1.0, \"#f0f921\"]], \"type\": \"contour\"}], \"contourcarpet\": [{\"colorbar\": {\"outlinewidth\": 0, \"ticks\": \"\"}, \"type\": \"contourcarpet\"}], \"heatmap\": [{\"colorbar\": {\"outlinewidth\": 0, \"ticks\": \"\"}, \"colorscale\": [[0.0, \"#0d0887\"], [0.1111111111111111, \"#46039f\"], [0.2222222222222222, \"#7201a8\"], [0.3333333333333333, \"#9c179e\"], [0.4444444444444444, \"#bd3786\"], [0.5555555555555556, \"#d8576b\"], [0.6666666666666666, \"#ed7953\"], [0.7777777777777778, \"#fb9f3a\"], [0.8888888888888888, \"#fdca26\"], [1.0, \"#f0f921\"]], \"type\": \"heatmap\"}], \"heatmapgl\": [{\"colorbar\": {\"outlinewidth\": 0, \"ticks\": \"\"}, \"colorscale\": [[0.0, \"#0d0887\"], [0.1111111111111111, \"#46039f\"], [0.2222222222222222, \"#7201a8\"], [0.3333333333333333, \"#9c179e\"], [0.4444444444444444, \"#bd3786\"], [0.5555555555555556, \"#d8576b\"], [0.6666666666666666, \"#ed7953\"], [0.7777777777777778, \"#fb9f3a\"], [0.8888888888888888, \"#fdca26\"], [1.0, \"#f0f921\"]], \"type\": \"heatmapgl\"}], \"histogram\": [{\"marker\": {\"colorbar\": {\"outlinewidth\": 0, \"ticks\": \"\"}}, \"type\": \"histogram\"}], \"histogram2d\": [{\"colorbar\": {\"outlinewidth\": 0, \"ticks\": \"\"}, \"colorscale\": [[0.0, \"#0d0887\"], [0.1111111111111111, \"#46039f\"], [0.2222222222222222, \"#7201a8\"], [0.3333333333333333, \"#9c179e\"], [0.4444444444444444, \"#bd3786\"], [0.5555555555555556, \"#d8576b\"], [0.6666666666666666, \"#ed7953\"], [0.7777777777777778, \"#fb9f3a\"], [0.8888888888888888, \"#fdca26\"], [1.0, \"#f0f921\"]], \"type\": \"histogram2d\"}], \"histogram2dcontour\": [{\"colorbar\": {\"outlinewidth\": 0, \"ticks\": \"\"}, \"colorscale\": [[0.0, \"#0d0887\"], [0.1111111111111111, \"#46039f\"], [0.2222222222222222, \"#7201a8\"], [0.3333333333333333, \"#9c179e\"], [0.4444444444444444, \"#bd3786\"], [0.5555555555555556, \"#d8576b\"], [0.6666666666666666, \"#ed7953\"], [0.7777777777777778, \"#fb9f3a\"], [0.8888888888888888, \"#fdca26\"], [1.0, \"#f0f921\"]], \"type\": \"histogram2dcontour\"}], \"mesh3d\": [{\"colorbar\": {\"outlinewidth\": 0, \"ticks\": \"\"}, \"type\": \"mesh3d\"}], \"parcoords\": [{\"line\": {\"colorbar\": {\"outlinewidth\": 0, \"ticks\": \"\"}}, \"type\": \"parcoords\"}], \"pie\": [{\"automargin\": true, \"type\": \"pie\"}], \"scatter\": [{\"marker\": {\"colorbar\": {\"outlinewidth\": 0, \"ticks\": \"\"}}, \"type\": \"scatter\"}], \"scatter3d\": [{\"line\": {\"colorbar\": {\"outlinewidth\": 0, \"ticks\": \"\"}}, \"marker\": {\"colorbar\": {\"outlinewidth\": 0, \"ticks\": \"\"}}, \"type\": \"scatter3d\"}], \"scattercarpet\": [{\"marker\": {\"colorbar\": {\"outlinewidth\": 0, \"ticks\": \"\"}}, \"type\": \"scattercarpet\"}], \"scattergeo\": [{\"marker\": {\"colorbar\": {\"outlinewidth\": 0, \"ticks\": \"\"}}, \"type\": \"scattergeo\"}], \"scattergl\": [{\"marker\": {\"colorbar\": {\"outlinewidth\": 0, \"ticks\": \"\"}}, \"type\": \"scattergl\"}], \"scattermapbox\": [{\"marker\": {\"colorbar\": {\"outlinewidth\": 0, \"ticks\": \"\"}}, \"type\": \"scattermapbox\"}], \"scatterpolar\": [{\"marker\": {\"colorbar\": {\"outlinewidth\": 0, \"ticks\": \"\"}}, \"type\": \"scatterpolar\"}], \"scatterpolargl\": [{\"marker\": {\"colorbar\": {\"outlinewidth\": 0, \"ticks\": \"\"}}, \"type\": \"scatterpolargl\"}], \"scatterternary\": [{\"marker\": {\"colorbar\": {\"outlinewidth\": 0, \"ticks\": \"\"}}, \"type\": \"scatterternary\"}], \"surface\": [{\"colorbar\": {\"outlinewidth\": 0, \"ticks\": \"\"}, \"colorscale\": [[0.0, \"#0d0887\"], [0.1111111111111111, \"#46039f\"], [0.2222222222222222, \"#7201a8\"], [0.3333333333333333, \"#9c179e\"], [0.4444444444444444, \"#bd3786\"], [0.5555555555555556, \"#d8576b\"], [0.6666666666666666, \"#ed7953\"], [0.7777777777777778, \"#fb9f3a\"], [0.8888888888888888, \"#fdca26\"], [1.0, \"#f0f921\"]], \"type\": \"surface\"}], \"table\": [{\"cells\": {\"fill\": {\"color\": \"#EBF0F8\"}, \"line\": {\"color\": \"white\"}}, \"header\": {\"fill\": {\"color\": \"#C8D4E3\"}, \"line\": {\"color\": \"white\"}}, \"type\": \"table\"}]}, \"layout\": {\"annotationdefaults\": {\"arrowcolor\": \"#2a3f5f\", \"arrowhead\": 0, \"arrowwidth\": 1}, \"coloraxis\": {\"colorbar\": {\"outlinewidth\": 0, \"ticks\": \"\"}}, \"colorscale\": {\"diverging\": [[0, \"#8e0152\"], [0.1, \"#c51b7d\"], [0.2, \"#de77ae\"], [0.3, \"#f1b6da\"], [0.4, \"#fde0ef\"], [0.5, \"#f7f7f7\"], [0.6, \"#e6f5d0\"], [0.7, \"#b8e186\"], [0.8, \"#7fbc41\"], [0.9, \"#4d9221\"], [1, \"#276419\"]], \"sequential\": [[0.0, \"#0d0887\"], [0.1111111111111111, \"#46039f\"], [0.2222222222222222, \"#7201a8\"], [0.3333333333333333, \"#9c179e\"], [0.4444444444444444, \"#bd3786\"], [0.5555555555555556, \"#d8576b\"], [0.6666666666666666, \"#ed7953\"], [0.7777777777777778, \"#fb9f3a\"], [0.8888888888888888, \"#fdca26\"], [1.0, \"#f0f921\"]], \"sequentialminus\": [[0.0, \"#0d0887\"], [0.1111111111111111, \"#46039f\"], [0.2222222222222222, \"#7201a8\"], [0.3333333333333333, \"#9c179e\"], [0.4444444444444444, \"#bd3786\"], [0.5555555555555556, \"#d8576b\"], [0.6666666666666666, \"#ed7953\"], [0.7777777777777778, \"#fb9f3a\"], [0.8888888888888888, \"#fdca26\"], [1.0, \"#f0f921\"]]}, \"colorway\": [\"#636efa\", \"#EF553B\", \"#00cc96\", \"#ab63fa\", \"#FFA15A\", \"#19d3f3\", \"#FF6692\", \"#B6E880\", \"#FF97FF\", \"#FECB52\"], \"font\": {\"color\": \"#2a3f5f\"}, \"geo\": {\"bgcolor\": \"white\", \"lakecolor\": \"white\", \"landcolor\": \"#E5ECF6\", \"showlakes\": true, \"showland\": true, \"subunitcolor\": \"white\"}, \"hoverlabel\": {\"align\": \"left\"}, \"hovermode\": \"closest\", \"mapbox\": {\"style\": \"light\"}, \"paper_bgcolor\": \"white\", \"plot_bgcolor\": \"#E5ECF6\", \"polar\": {\"angularaxis\": {\"gridcolor\": \"white\", \"linecolor\": \"white\", \"ticks\": \"\"}, \"bgcolor\": \"#E5ECF6\", \"radialaxis\": {\"gridcolor\": \"white\", \"linecolor\": \"white\", \"ticks\": \"\"}}, \"scene\": {\"xaxis\": {\"backgroundcolor\": \"#E5ECF6\", \"gridcolor\": \"white\", \"gridwidth\": 2, \"linecolor\": \"white\", \"showbackground\": true, \"ticks\": \"\", \"zerolinecolor\": \"white\"}, \"yaxis\": {\"backgroundcolor\": \"#E5ECF6\", \"gridcolor\": \"white\", \"gridwidth\": 2, \"linecolor\": \"white\", \"showbackground\": true, \"ticks\": \"\", \"zerolinecolor\": \"white\"}, \"zaxis\": {\"backgroundcolor\": \"#E5ECF6\", \"gridcolor\": \"white\", \"gridwidth\": 2, \"linecolor\": \"white\", \"showbackground\": true, \"ticks\": \"\", \"zerolinecolor\": \"white\"}}, \"shapedefaults\": {\"line\": {\"color\": \"#2a3f5f\"}}, \"ternary\": {\"aaxis\": {\"gridcolor\": \"white\", \"linecolor\": \"white\", \"ticks\": \"\"}, \"baxis\": {\"gridcolor\": \"white\", \"linecolor\": \"white\", \"ticks\": \"\"}, \"bgcolor\": \"#E5ECF6\", \"caxis\": {\"gridcolor\": \"white\", \"linecolor\": \"white\", \"ticks\": \"\"}}, \"title\": {\"x\": 0.05}, \"xaxis\": {\"automargin\": true, \"gridcolor\": \"white\", \"linecolor\": \"white\", \"ticks\": \"\", \"title\": {\"standoff\": 15}, \"zerolinecolor\": \"white\", \"zerolinewidth\": 2}, \"yaxis\": {\"automargin\": true, \"gridcolor\": \"white\", \"linecolor\": \"white\", \"ticks\": \"\", \"title\": {\"standoff\": 15}, \"zerolinecolor\": \"white\", \"zerolinewidth\": 2}}}, \"title\": {\"font\": {\"color\": \"#4D5663\"}}, \"xaxis\": {\"gridcolor\": \"#E1E5ED\", \"showgrid\": true, \"tickfont\": {\"color\": \"#4D5663\"}, \"title\": {\"font\": {\"color\": \"#4D5663\"}, \"text\": \"\"}, \"zerolinecolor\": \"#E1E5ED\"}, \"yaxis\": {\"gridcolor\": \"#E1E5ED\", \"showgrid\": true, \"tickfont\": {\"color\": \"#4D5663\"}, \"title\": {\"font\": {\"color\": \"#4D5663\"}, \"text\": \"\"}, \"zerolinecolor\": \"#E1E5ED\"}},\n",
       "                        {\"showLink\": true, \"linkText\": \"Export to plot.ly\", \"plotlyServerURL\": \"https://plot.ly\", \"responsive\": true}\n",
       "                    ).then(function(){\n",
       "                            \n",
       "var gd = document.getElementById('08c2ed38-d8e1-44b5-8678-fb178223e641');\n",
       "var x = new MutationObserver(function (mutations, observer) {{\n",
       "        var display = window.getComputedStyle(gd).display;\n",
       "        if (!display || display === 'none') {{\n",
       "            console.log([gd, 'removed!']);\n",
       "            Plotly.purge(gd);\n",
       "            observer.disconnect();\n",
       "        }}\n",
       "}});\n",
       "\n",
       "// Listen for the removal of the full notebook cells\n",
       "var notebookContainer = gd.closest('#notebook-container');\n",
       "if (notebookContainer) {{\n",
       "    x.observe(notebookContainer, {childList: true});\n",
       "}}\n",
       "\n",
       "// Listen for the clearing of the current output cell\n",
       "var outputEl = gd.closest('.output');\n",
       "if (outputEl) {{\n",
       "    x.observe(outputEl, {childList: true});\n",
       "}}\n",
       "\n",
       "                        })\n",
       "                };\n",
       "                });\n",
       "            </script>\n",
       "        </div>"
      ]
     },
     "metadata": {},
     "output_type": "display_data"
    }
   ],
   "source": [
    "df.iplot(kind='box')"
   ]
  },
  {
   "cell_type": "markdown",
   "metadata": {},
   "source": [
    "## 3d Surface"
   ]
  },
  {
   "cell_type": "code",
   "execution_count": 20,
   "metadata": {},
   "outputs": [
    {
     "data": {
      "application/vnd.plotly.v1+json": {
       "config": {
        "linkText": "Export to plot.ly",
        "plotlyServerURL": "https://plot.ly",
        "showLink": true
       },
       "data": [
        {
         "colorscale": [
          [
           0,
           "rgb(165,0,38)"
          ],
          [
           0.1,
           "rgb(215,48,39)"
          ],
          [
           0.2,
           "rgb(244,109,67)"
          ],
          [
           0.3,
           "rgb(253,174,97)"
          ],
          [
           0.4,
           "rgb(254,224,144)"
          ],
          [
           0.5,
           "rgb(255,255,191)"
          ],
          [
           0.6,
           "rgb(224,243,248)"
          ],
          [
           0.7,
           "rgb(171,217,233)"
          ],
          [
           0.8,
           "rgb(116,173,209)"
          ],
          [
           0.9,
           "rgb(69,117,180)"
          ],
          [
           1,
           "rgb(49,54,149)"
          ]
         ],
         "type": "surface",
         "x": [
          0,
          1,
          2,
          3,
          4
         ],
         "y": [
          "x",
          "y",
          "z"
         ],
         "z": [
          [
           1,
           2,
           3,
           4,
           5
          ],
          [
           10,
           20,
           30,
           20,
           10
          ],
          [
           5,
           4,
           3,
           2,
           1
          ]
         ]
        }
       ],
       "layout": {
        "legend": {
         "bgcolor": "#F5F6F9",
         "font": {
          "color": "#4D5663"
         }
        },
        "paper_bgcolor": "#F5F6F9",
        "plot_bgcolor": "#F5F6F9",
        "template": {
         "data": {
          "bar": [
           {
            "error_x": {
             "color": "#2a3f5f"
            },
            "error_y": {
             "color": "#2a3f5f"
            },
            "marker": {
             "line": {
              "color": "#E5ECF6",
              "width": 0.5
             }
            },
            "type": "bar"
           }
          ],
          "barpolar": [
           {
            "marker": {
             "line": {
              "color": "#E5ECF6",
              "width": 0.5
             }
            },
            "type": "barpolar"
           }
          ],
          "carpet": [
           {
            "aaxis": {
             "endlinecolor": "#2a3f5f",
             "gridcolor": "white",
             "linecolor": "white",
             "minorgridcolor": "white",
             "startlinecolor": "#2a3f5f"
            },
            "baxis": {
             "endlinecolor": "#2a3f5f",
             "gridcolor": "white",
             "linecolor": "white",
             "minorgridcolor": "white",
             "startlinecolor": "#2a3f5f"
            },
            "type": "carpet"
           }
          ],
          "choropleth": [
           {
            "colorbar": {
             "outlinewidth": 0,
             "ticks": ""
            },
            "type": "choropleth"
           }
          ],
          "contour": [
           {
            "colorbar": {
             "outlinewidth": 0,
             "ticks": ""
            },
            "colorscale": [
             [
              0,
              "#0d0887"
             ],
             [
              0.1111111111111111,
              "#46039f"
             ],
             [
              0.2222222222222222,
              "#7201a8"
             ],
             [
              0.3333333333333333,
              "#9c179e"
             ],
             [
              0.4444444444444444,
              "#bd3786"
             ],
             [
              0.5555555555555556,
              "#d8576b"
             ],
             [
              0.6666666666666666,
              "#ed7953"
             ],
             [
              0.7777777777777778,
              "#fb9f3a"
             ],
             [
              0.8888888888888888,
              "#fdca26"
             ],
             [
              1,
              "#f0f921"
             ]
            ],
            "type": "contour"
           }
          ],
          "contourcarpet": [
           {
            "colorbar": {
             "outlinewidth": 0,
             "ticks": ""
            },
            "type": "contourcarpet"
           }
          ],
          "heatmap": [
           {
            "colorbar": {
             "outlinewidth": 0,
             "ticks": ""
            },
            "colorscale": [
             [
              0,
              "#0d0887"
             ],
             [
              0.1111111111111111,
              "#46039f"
             ],
             [
              0.2222222222222222,
              "#7201a8"
             ],
             [
              0.3333333333333333,
              "#9c179e"
             ],
             [
              0.4444444444444444,
              "#bd3786"
             ],
             [
              0.5555555555555556,
              "#d8576b"
             ],
             [
              0.6666666666666666,
              "#ed7953"
             ],
             [
              0.7777777777777778,
              "#fb9f3a"
             ],
             [
              0.8888888888888888,
              "#fdca26"
             ],
             [
              1,
              "#f0f921"
             ]
            ],
            "type": "heatmap"
           }
          ],
          "heatmapgl": [
           {
            "colorbar": {
             "outlinewidth": 0,
             "ticks": ""
            },
            "colorscale": [
             [
              0,
              "#0d0887"
             ],
             [
              0.1111111111111111,
              "#46039f"
             ],
             [
              0.2222222222222222,
              "#7201a8"
             ],
             [
              0.3333333333333333,
              "#9c179e"
             ],
             [
              0.4444444444444444,
              "#bd3786"
             ],
             [
              0.5555555555555556,
              "#d8576b"
             ],
             [
              0.6666666666666666,
              "#ed7953"
             ],
             [
              0.7777777777777778,
              "#fb9f3a"
             ],
             [
              0.8888888888888888,
              "#fdca26"
             ],
             [
              1,
              "#f0f921"
             ]
            ],
            "type": "heatmapgl"
           }
          ],
          "histogram": [
           {
            "marker": {
             "colorbar": {
              "outlinewidth": 0,
              "ticks": ""
             }
            },
            "type": "histogram"
           }
          ],
          "histogram2d": [
           {
            "colorbar": {
             "outlinewidth": 0,
             "ticks": ""
            },
            "colorscale": [
             [
              0,
              "#0d0887"
             ],
             [
              0.1111111111111111,
              "#46039f"
             ],
             [
              0.2222222222222222,
              "#7201a8"
             ],
             [
              0.3333333333333333,
              "#9c179e"
             ],
             [
              0.4444444444444444,
              "#bd3786"
             ],
             [
              0.5555555555555556,
              "#d8576b"
             ],
             [
              0.6666666666666666,
              "#ed7953"
             ],
             [
              0.7777777777777778,
              "#fb9f3a"
             ],
             [
              0.8888888888888888,
              "#fdca26"
             ],
             [
              1,
              "#f0f921"
             ]
            ],
            "type": "histogram2d"
           }
          ],
          "histogram2dcontour": [
           {
            "colorbar": {
             "outlinewidth": 0,
             "ticks": ""
            },
            "colorscale": [
             [
              0,
              "#0d0887"
             ],
             [
              0.1111111111111111,
              "#46039f"
             ],
             [
              0.2222222222222222,
              "#7201a8"
             ],
             [
              0.3333333333333333,
              "#9c179e"
             ],
             [
              0.4444444444444444,
              "#bd3786"
             ],
             [
              0.5555555555555556,
              "#d8576b"
             ],
             [
              0.6666666666666666,
              "#ed7953"
             ],
             [
              0.7777777777777778,
              "#fb9f3a"
             ],
             [
              0.8888888888888888,
              "#fdca26"
             ],
             [
              1,
              "#f0f921"
             ]
            ],
            "type": "histogram2dcontour"
           }
          ],
          "mesh3d": [
           {
            "colorbar": {
             "outlinewidth": 0,
             "ticks": ""
            },
            "type": "mesh3d"
           }
          ],
          "parcoords": [
           {
            "line": {
             "colorbar": {
              "outlinewidth": 0,
              "ticks": ""
             }
            },
            "type": "parcoords"
           }
          ],
          "pie": [
           {
            "automargin": true,
            "type": "pie"
           }
          ],
          "scatter": [
           {
            "marker": {
             "colorbar": {
              "outlinewidth": 0,
              "ticks": ""
             }
            },
            "type": "scatter"
           }
          ],
          "scatter3d": [
           {
            "line": {
             "colorbar": {
              "outlinewidth": 0,
              "ticks": ""
             }
            },
            "marker": {
             "colorbar": {
              "outlinewidth": 0,
              "ticks": ""
             }
            },
            "type": "scatter3d"
           }
          ],
          "scattercarpet": [
           {
            "marker": {
             "colorbar": {
              "outlinewidth": 0,
              "ticks": ""
             }
            },
            "type": "scattercarpet"
           }
          ],
          "scattergeo": [
           {
            "marker": {
             "colorbar": {
              "outlinewidth": 0,
              "ticks": ""
             }
            },
            "type": "scattergeo"
           }
          ],
          "scattergl": [
           {
            "marker": {
             "colorbar": {
              "outlinewidth": 0,
              "ticks": ""
             }
            },
            "type": "scattergl"
           }
          ],
          "scattermapbox": [
           {
            "marker": {
             "colorbar": {
              "outlinewidth": 0,
              "ticks": ""
             }
            },
            "type": "scattermapbox"
           }
          ],
          "scatterpolar": [
           {
            "marker": {
             "colorbar": {
              "outlinewidth": 0,
              "ticks": ""
             }
            },
            "type": "scatterpolar"
           }
          ],
          "scatterpolargl": [
           {
            "marker": {
             "colorbar": {
              "outlinewidth": 0,
              "ticks": ""
             }
            },
            "type": "scatterpolargl"
           }
          ],
          "scatterternary": [
           {
            "marker": {
             "colorbar": {
              "outlinewidth": 0,
              "ticks": ""
             }
            },
            "type": "scatterternary"
           }
          ],
          "surface": [
           {
            "colorbar": {
             "outlinewidth": 0,
             "ticks": ""
            },
            "colorscale": [
             [
              0,
              "#0d0887"
             ],
             [
              0.1111111111111111,
              "#46039f"
             ],
             [
              0.2222222222222222,
              "#7201a8"
             ],
             [
              0.3333333333333333,
              "#9c179e"
             ],
             [
              0.4444444444444444,
              "#bd3786"
             ],
             [
              0.5555555555555556,
              "#d8576b"
             ],
             [
              0.6666666666666666,
              "#ed7953"
             ],
             [
              0.7777777777777778,
              "#fb9f3a"
             ],
             [
              0.8888888888888888,
              "#fdca26"
             ],
             [
              1,
              "#f0f921"
             ]
            ],
            "type": "surface"
           }
          ],
          "table": [
           {
            "cells": {
             "fill": {
              "color": "#EBF0F8"
             },
             "line": {
              "color": "white"
             }
            },
            "header": {
             "fill": {
              "color": "#C8D4E3"
             },
             "line": {
              "color": "white"
             }
            },
            "type": "table"
           }
          ]
         },
         "layout": {
          "annotationdefaults": {
           "arrowcolor": "#2a3f5f",
           "arrowhead": 0,
           "arrowwidth": 1
          },
          "coloraxis": {
           "colorbar": {
            "outlinewidth": 0,
            "ticks": ""
           }
          },
          "colorscale": {
           "diverging": [
            [
             0,
             "#8e0152"
            ],
            [
             0.1,
             "#c51b7d"
            ],
            [
             0.2,
             "#de77ae"
            ],
            [
             0.3,
             "#f1b6da"
            ],
            [
             0.4,
             "#fde0ef"
            ],
            [
             0.5,
             "#f7f7f7"
            ],
            [
             0.6,
             "#e6f5d0"
            ],
            [
             0.7,
             "#b8e186"
            ],
            [
             0.8,
             "#7fbc41"
            ],
            [
             0.9,
             "#4d9221"
            ],
            [
             1,
             "#276419"
            ]
           ],
           "sequential": [
            [
             0,
             "#0d0887"
            ],
            [
             0.1111111111111111,
             "#46039f"
            ],
            [
             0.2222222222222222,
             "#7201a8"
            ],
            [
             0.3333333333333333,
             "#9c179e"
            ],
            [
             0.4444444444444444,
             "#bd3786"
            ],
            [
             0.5555555555555556,
             "#d8576b"
            ],
            [
             0.6666666666666666,
             "#ed7953"
            ],
            [
             0.7777777777777778,
             "#fb9f3a"
            ],
            [
             0.8888888888888888,
             "#fdca26"
            ],
            [
             1,
             "#f0f921"
            ]
           ],
           "sequentialminus": [
            [
             0,
             "#0d0887"
            ],
            [
             0.1111111111111111,
             "#46039f"
            ],
            [
             0.2222222222222222,
             "#7201a8"
            ],
            [
             0.3333333333333333,
             "#9c179e"
            ],
            [
             0.4444444444444444,
             "#bd3786"
            ],
            [
             0.5555555555555556,
             "#d8576b"
            ],
            [
             0.6666666666666666,
             "#ed7953"
            ],
            [
             0.7777777777777778,
             "#fb9f3a"
            ],
            [
             0.8888888888888888,
             "#fdca26"
            ],
            [
             1,
             "#f0f921"
            ]
           ]
          },
          "colorway": [
           "#636efa",
           "#EF553B",
           "#00cc96",
           "#ab63fa",
           "#FFA15A",
           "#19d3f3",
           "#FF6692",
           "#B6E880",
           "#FF97FF",
           "#FECB52"
          ],
          "font": {
           "color": "#2a3f5f"
          },
          "geo": {
           "bgcolor": "white",
           "lakecolor": "white",
           "landcolor": "#E5ECF6",
           "showlakes": true,
           "showland": true,
           "subunitcolor": "white"
          },
          "hoverlabel": {
           "align": "left"
          },
          "hovermode": "closest",
          "mapbox": {
           "style": "light"
          },
          "paper_bgcolor": "white",
          "plot_bgcolor": "#E5ECF6",
          "polar": {
           "angularaxis": {
            "gridcolor": "white",
            "linecolor": "white",
            "ticks": ""
           },
           "bgcolor": "#E5ECF6",
           "radialaxis": {
            "gridcolor": "white",
            "linecolor": "white",
            "ticks": ""
           }
          },
          "scene": {
           "xaxis": {
            "backgroundcolor": "#E5ECF6",
            "gridcolor": "white",
            "gridwidth": 2,
            "linecolor": "white",
            "showbackground": true,
            "ticks": "",
            "zerolinecolor": "white"
           },
           "yaxis": {
            "backgroundcolor": "#E5ECF6",
            "gridcolor": "white",
            "gridwidth": 2,
            "linecolor": "white",
            "showbackground": true,
            "ticks": "",
            "zerolinecolor": "white"
           },
           "zaxis": {
            "backgroundcolor": "#E5ECF6",
            "gridcolor": "white",
            "gridwidth": 2,
            "linecolor": "white",
            "showbackground": true,
            "ticks": "",
            "zerolinecolor": "white"
           }
          },
          "shapedefaults": {
           "line": {
            "color": "#2a3f5f"
           }
          },
          "ternary": {
           "aaxis": {
            "gridcolor": "white",
            "linecolor": "white",
            "ticks": ""
           },
           "baxis": {
            "gridcolor": "white",
            "linecolor": "white",
            "ticks": ""
           },
           "bgcolor": "#E5ECF6",
           "caxis": {
            "gridcolor": "white",
            "linecolor": "white",
            "ticks": ""
           }
          },
          "title": {
           "x": 0.05
          },
          "xaxis": {
           "automargin": true,
           "gridcolor": "white",
           "linecolor": "white",
           "ticks": "",
           "title": {
            "standoff": 15
           },
           "zerolinecolor": "white",
           "zerolinewidth": 2
          },
          "yaxis": {
           "automargin": true,
           "gridcolor": "white",
           "linecolor": "white",
           "ticks": "",
           "title": {
            "standoff": 15
           },
           "zerolinecolor": "white",
           "zerolinewidth": 2
          }
         }
        },
        "title": {
         "font": {
          "color": "#4D5663"
         }
        },
        "xaxis": {
         "gridcolor": "#E1E5ED",
         "showgrid": true,
         "tickfont": {
          "color": "#4D5663"
         },
         "title": {
          "font": {
           "color": "#4D5663"
          },
          "text": ""
         },
         "zerolinecolor": "#E1E5ED"
        },
        "yaxis": {
         "gridcolor": "#E1E5ED",
         "showgrid": true,
         "tickfont": {
          "color": "#4D5663"
         },
         "title": {
          "font": {
           "color": "#4D5663"
          },
          "text": ""
         },
         "zerolinecolor": "#E1E5ED"
        }
       }
      },
      "text/html": [
       "<div>\n",
       "        \n",
       "        \n",
       "            <div id=\"2228495e-6bb1-4b6b-9146-be72e049d5b9\" class=\"plotly-graph-div\" style=\"height:525px; width:100%;\"></div>\n",
       "            <script type=\"text/javascript\">\n",
       "                require([\"plotly\"], function(Plotly) {\n",
       "                    window.PLOTLYENV=window.PLOTLYENV || {};\n",
       "                    window.PLOTLYENV.BASE_URL='https://plot.ly';\n",
       "                    \n",
       "                if (document.getElementById(\"2228495e-6bb1-4b6b-9146-be72e049d5b9\")) {\n",
       "                    Plotly.newPlot(\n",
       "                        '2228495e-6bb1-4b6b-9146-be72e049d5b9',\n",
       "                        [{\"colorscale\": [[0.0, \"rgb(165,0,38)\"], [0.1, \"rgb(215,48,39)\"], [0.2, \"rgb(244,109,67)\"], [0.3, \"rgb(253,174,97)\"], [0.4, \"rgb(254,224,144)\"], [0.5, \"rgb(255,255,191)\"], [0.6, \"rgb(224,243,248)\"], [0.7, \"rgb(171,217,233)\"], [0.8, \"rgb(116,173,209)\"], [0.9, \"rgb(69,117,180)\"], [1.0, \"rgb(49,54,149)\"]], \"type\": \"surface\", \"x\": [0, 1, 2, 3, 4], \"y\": [\"x\", \"y\", \"z\"], \"z\": [[1, 2, 3, 4, 5], [10, 20, 30, 20, 10], [5, 4, 3, 2, 1]]}],\n",
       "                        {\"legend\": {\"bgcolor\": \"#F5F6F9\", \"font\": {\"color\": \"#4D5663\"}}, \"paper_bgcolor\": \"#F5F6F9\", \"plot_bgcolor\": \"#F5F6F9\", \"template\": {\"data\": {\"bar\": [{\"error_x\": {\"color\": \"#2a3f5f\"}, \"error_y\": {\"color\": \"#2a3f5f\"}, \"marker\": {\"line\": {\"color\": \"#E5ECF6\", \"width\": 0.5}}, \"type\": \"bar\"}], \"barpolar\": [{\"marker\": {\"line\": {\"color\": \"#E5ECF6\", \"width\": 0.5}}, \"type\": \"barpolar\"}], \"carpet\": [{\"aaxis\": {\"endlinecolor\": \"#2a3f5f\", \"gridcolor\": \"white\", \"linecolor\": \"white\", \"minorgridcolor\": \"white\", \"startlinecolor\": \"#2a3f5f\"}, \"baxis\": {\"endlinecolor\": \"#2a3f5f\", \"gridcolor\": \"white\", \"linecolor\": \"white\", \"minorgridcolor\": \"white\", \"startlinecolor\": \"#2a3f5f\"}, \"type\": \"carpet\"}], \"choropleth\": [{\"colorbar\": {\"outlinewidth\": 0, \"ticks\": \"\"}, \"type\": \"choropleth\"}], \"contour\": [{\"colorbar\": {\"outlinewidth\": 0, \"ticks\": \"\"}, \"colorscale\": [[0.0, \"#0d0887\"], [0.1111111111111111, \"#46039f\"], [0.2222222222222222, \"#7201a8\"], [0.3333333333333333, \"#9c179e\"], [0.4444444444444444, \"#bd3786\"], [0.5555555555555556, \"#d8576b\"], [0.6666666666666666, \"#ed7953\"], [0.7777777777777778, \"#fb9f3a\"], [0.8888888888888888, \"#fdca26\"], [1.0, \"#f0f921\"]], \"type\": \"contour\"}], \"contourcarpet\": [{\"colorbar\": {\"outlinewidth\": 0, \"ticks\": \"\"}, \"type\": \"contourcarpet\"}], \"heatmap\": [{\"colorbar\": {\"outlinewidth\": 0, \"ticks\": \"\"}, \"colorscale\": [[0.0, \"#0d0887\"], [0.1111111111111111, \"#46039f\"], [0.2222222222222222, \"#7201a8\"], [0.3333333333333333, \"#9c179e\"], [0.4444444444444444, \"#bd3786\"], [0.5555555555555556, \"#d8576b\"], [0.6666666666666666, \"#ed7953\"], [0.7777777777777778, \"#fb9f3a\"], [0.8888888888888888, \"#fdca26\"], [1.0, \"#f0f921\"]], \"type\": \"heatmap\"}], \"heatmapgl\": [{\"colorbar\": {\"outlinewidth\": 0, \"ticks\": \"\"}, \"colorscale\": [[0.0, \"#0d0887\"], [0.1111111111111111, \"#46039f\"], [0.2222222222222222, \"#7201a8\"], [0.3333333333333333, \"#9c179e\"], [0.4444444444444444, \"#bd3786\"], [0.5555555555555556, \"#d8576b\"], [0.6666666666666666, \"#ed7953\"], [0.7777777777777778, \"#fb9f3a\"], [0.8888888888888888, \"#fdca26\"], [1.0, \"#f0f921\"]], \"type\": \"heatmapgl\"}], \"histogram\": [{\"marker\": {\"colorbar\": {\"outlinewidth\": 0, \"ticks\": \"\"}}, \"type\": \"histogram\"}], \"histogram2d\": [{\"colorbar\": {\"outlinewidth\": 0, \"ticks\": \"\"}, \"colorscale\": [[0.0, \"#0d0887\"], [0.1111111111111111, \"#46039f\"], [0.2222222222222222, \"#7201a8\"], [0.3333333333333333, \"#9c179e\"], [0.4444444444444444, \"#bd3786\"], [0.5555555555555556, \"#d8576b\"], [0.6666666666666666, \"#ed7953\"], [0.7777777777777778, \"#fb9f3a\"], [0.8888888888888888, \"#fdca26\"], [1.0, \"#f0f921\"]], \"type\": \"histogram2d\"}], \"histogram2dcontour\": [{\"colorbar\": {\"outlinewidth\": 0, \"ticks\": \"\"}, \"colorscale\": [[0.0, \"#0d0887\"], [0.1111111111111111, \"#46039f\"], [0.2222222222222222, \"#7201a8\"], [0.3333333333333333, \"#9c179e\"], [0.4444444444444444, \"#bd3786\"], [0.5555555555555556, \"#d8576b\"], [0.6666666666666666, \"#ed7953\"], [0.7777777777777778, \"#fb9f3a\"], [0.8888888888888888, \"#fdca26\"], [1.0, \"#f0f921\"]], \"type\": \"histogram2dcontour\"}], \"mesh3d\": [{\"colorbar\": {\"outlinewidth\": 0, \"ticks\": \"\"}, \"type\": \"mesh3d\"}], \"parcoords\": [{\"line\": {\"colorbar\": {\"outlinewidth\": 0, \"ticks\": \"\"}}, \"type\": \"parcoords\"}], \"pie\": [{\"automargin\": true, \"type\": \"pie\"}], \"scatter\": [{\"marker\": {\"colorbar\": {\"outlinewidth\": 0, \"ticks\": \"\"}}, \"type\": \"scatter\"}], \"scatter3d\": [{\"line\": {\"colorbar\": {\"outlinewidth\": 0, \"ticks\": \"\"}}, \"marker\": {\"colorbar\": {\"outlinewidth\": 0, \"ticks\": \"\"}}, \"type\": \"scatter3d\"}], \"scattercarpet\": [{\"marker\": {\"colorbar\": {\"outlinewidth\": 0, \"ticks\": \"\"}}, \"type\": \"scattercarpet\"}], \"scattergeo\": [{\"marker\": {\"colorbar\": {\"outlinewidth\": 0, \"ticks\": \"\"}}, \"type\": \"scattergeo\"}], \"scattergl\": [{\"marker\": {\"colorbar\": {\"outlinewidth\": 0, \"ticks\": \"\"}}, \"type\": \"scattergl\"}], \"scattermapbox\": [{\"marker\": {\"colorbar\": {\"outlinewidth\": 0, \"ticks\": \"\"}}, \"type\": \"scattermapbox\"}], \"scatterpolar\": [{\"marker\": {\"colorbar\": {\"outlinewidth\": 0, \"ticks\": \"\"}}, \"type\": \"scatterpolar\"}], \"scatterpolargl\": [{\"marker\": {\"colorbar\": {\"outlinewidth\": 0, \"ticks\": \"\"}}, \"type\": \"scatterpolargl\"}], \"scatterternary\": [{\"marker\": {\"colorbar\": {\"outlinewidth\": 0, \"ticks\": \"\"}}, \"type\": \"scatterternary\"}], \"surface\": [{\"colorbar\": {\"outlinewidth\": 0, \"ticks\": \"\"}, \"colorscale\": [[0.0, \"#0d0887\"], [0.1111111111111111, \"#46039f\"], [0.2222222222222222, \"#7201a8\"], [0.3333333333333333, \"#9c179e\"], [0.4444444444444444, \"#bd3786\"], [0.5555555555555556, \"#d8576b\"], [0.6666666666666666, \"#ed7953\"], [0.7777777777777778, \"#fb9f3a\"], [0.8888888888888888, \"#fdca26\"], [1.0, \"#f0f921\"]], \"type\": \"surface\"}], \"table\": [{\"cells\": {\"fill\": {\"color\": \"#EBF0F8\"}, \"line\": {\"color\": \"white\"}}, \"header\": {\"fill\": {\"color\": \"#C8D4E3\"}, \"line\": {\"color\": \"white\"}}, \"type\": \"table\"}]}, \"layout\": {\"annotationdefaults\": {\"arrowcolor\": \"#2a3f5f\", \"arrowhead\": 0, \"arrowwidth\": 1}, \"coloraxis\": {\"colorbar\": {\"outlinewidth\": 0, \"ticks\": \"\"}}, \"colorscale\": {\"diverging\": [[0, \"#8e0152\"], [0.1, \"#c51b7d\"], [0.2, \"#de77ae\"], [0.3, \"#f1b6da\"], [0.4, \"#fde0ef\"], [0.5, \"#f7f7f7\"], [0.6, \"#e6f5d0\"], [0.7, \"#b8e186\"], [0.8, \"#7fbc41\"], [0.9, \"#4d9221\"], [1, \"#276419\"]], \"sequential\": [[0.0, \"#0d0887\"], [0.1111111111111111, \"#46039f\"], [0.2222222222222222, \"#7201a8\"], [0.3333333333333333, \"#9c179e\"], [0.4444444444444444, \"#bd3786\"], [0.5555555555555556, \"#d8576b\"], [0.6666666666666666, \"#ed7953\"], [0.7777777777777778, \"#fb9f3a\"], [0.8888888888888888, \"#fdca26\"], [1.0, \"#f0f921\"]], \"sequentialminus\": [[0.0, \"#0d0887\"], [0.1111111111111111, \"#46039f\"], [0.2222222222222222, \"#7201a8\"], [0.3333333333333333, \"#9c179e\"], [0.4444444444444444, \"#bd3786\"], [0.5555555555555556, \"#d8576b\"], [0.6666666666666666, \"#ed7953\"], [0.7777777777777778, \"#fb9f3a\"], [0.8888888888888888, \"#fdca26\"], [1.0, \"#f0f921\"]]}, \"colorway\": [\"#636efa\", \"#EF553B\", \"#00cc96\", \"#ab63fa\", \"#FFA15A\", \"#19d3f3\", \"#FF6692\", \"#B6E880\", \"#FF97FF\", \"#FECB52\"], \"font\": {\"color\": \"#2a3f5f\"}, \"geo\": {\"bgcolor\": \"white\", \"lakecolor\": \"white\", \"landcolor\": \"#E5ECF6\", \"showlakes\": true, \"showland\": true, \"subunitcolor\": \"white\"}, \"hoverlabel\": {\"align\": \"left\"}, \"hovermode\": \"closest\", \"mapbox\": {\"style\": \"light\"}, \"paper_bgcolor\": \"white\", \"plot_bgcolor\": \"#E5ECF6\", \"polar\": {\"angularaxis\": {\"gridcolor\": \"white\", \"linecolor\": \"white\", \"ticks\": \"\"}, \"bgcolor\": \"#E5ECF6\", \"radialaxis\": {\"gridcolor\": \"white\", \"linecolor\": \"white\", \"ticks\": \"\"}}, \"scene\": {\"xaxis\": {\"backgroundcolor\": \"#E5ECF6\", \"gridcolor\": \"white\", \"gridwidth\": 2, \"linecolor\": \"white\", \"showbackground\": true, \"ticks\": \"\", \"zerolinecolor\": \"white\"}, \"yaxis\": {\"backgroundcolor\": \"#E5ECF6\", \"gridcolor\": \"white\", \"gridwidth\": 2, \"linecolor\": \"white\", \"showbackground\": true, \"ticks\": \"\", \"zerolinecolor\": \"white\"}, \"zaxis\": {\"backgroundcolor\": \"#E5ECF6\", \"gridcolor\": \"white\", \"gridwidth\": 2, \"linecolor\": \"white\", \"showbackground\": true, \"ticks\": \"\", \"zerolinecolor\": \"white\"}}, \"shapedefaults\": {\"line\": {\"color\": \"#2a3f5f\"}}, \"ternary\": {\"aaxis\": {\"gridcolor\": \"white\", \"linecolor\": \"white\", \"ticks\": \"\"}, \"baxis\": {\"gridcolor\": \"white\", \"linecolor\": \"white\", \"ticks\": \"\"}, \"bgcolor\": \"#E5ECF6\", \"caxis\": {\"gridcolor\": \"white\", \"linecolor\": \"white\", \"ticks\": \"\"}}, \"title\": {\"x\": 0.05}, \"xaxis\": {\"automargin\": true, \"gridcolor\": \"white\", \"linecolor\": \"white\", \"ticks\": \"\", \"title\": {\"standoff\": 15}, \"zerolinecolor\": \"white\", \"zerolinewidth\": 2}, \"yaxis\": {\"automargin\": true, \"gridcolor\": \"white\", \"linecolor\": \"white\", \"ticks\": \"\", \"title\": {\"standoff\": 15}, \"zerolinecolor\": \"white\", \"zerolinewidth\": 2}}}, \"title\": {\"font\": {\"color\": \"#4D5663\"}}, \"xaxis\": {\"gridcolor\": \"#E1E5ED\", \"showgrid\": true, \"tickfont\": {\"color\": \"#4D5663\"}, \"title\": {\"font\": {\"color\": \"#4D5663\"}, \"text\": \"\"}, \"zerolinecolor\": \"#E1E5ED\"}, \"yaxis\": {\"gridcolor\": \"#E1E5ED\", \"showgrid\": true, \"tickfont\": {\"color\": \"#4D5663\"}, \"title\": {\"font\": {\"color\": \"#4D5663\"}, \"text\": \"\"}, \"zerolinecolor\": \"#E1E5ED\"}},\n",
       "                        {\"showLink\": true, \"linkText\": \"Export to plot.ly\", \"plotlyServerURL\": \"https://plot.ly\", \"responsive\": true}\n",
       "                    ).then(function(){\n",
       "                            \n",
       "var gd = document.getElementById('2228495e-6bb1-4b6b-9146-be72e049d5b9');\n",
       "var x = new MutationObserver(function (mutations, observer) {{\n",
       "        var display = window.getComputedStyle(gd).display;\n",
       "        if (!display || display === 'none') {{\n",
       "            console.log([gd, 'removed!']);\n",
       "            Plotly.purge(gd);\n",
       "            observer.disconnect();\n",
       "        }}\n",
       "}});\n",
       "\n",
       "// Listen for the removal of the full notebook cells\n",
       "var notebookContainer = gd.closest('#notebook-container');\n",
       "if (notebookContainer) {{\n",
       "    x.observe(notebookContainer, {childList: true});\n",
       "}}\n",
       "\n",
       "// Listen for the clearing of the current output cell\n",
       "var outputEl = gd.closest('.output');\n",
       "if (outputEl) {{\n",
       "    x.observe(outputEl, {childList: true});\n",
       "}}\n",
       "\n",
       "                        })\n",
       "                };\n",
       "                });\n",
       "            </script>\n",
       "        </div>"
      ]
     },
     "metadata": {},
     "output_type": "display_data"
    }
   ],
   "source": [
    "df3 = pd.DataFrame({'x':[1,2,3,4,5],'y':[10,20,30,20,10],'z':[5,4,3,2,1]})\n",
    "df3.iplot(kind='surface',colorscale='rdylbu')"
   ]
  },
  {
   "cell_type": "markdown",
   "metadata": {},
   "source": [
    "## Spread"
   ]
  },
  {
   "cell_type": "code",
   "execution_count": 15,
   "metadata": {},
   "outputs": [
    {
     "data": {
      "application/vnd.plotly.v1+json": {
       "config": {
        "linkText": "Export to plot.ly",
        "plotlyServerURL": "https://plot.ly",
        "showLink": true
       },
       "data": [
        {
         "line": {
          "color": "rgba(255, 153, 51, 1.0)",
          "dash": "solid",
          "shape": "linear",
          "width": 1.3
         },
         "mode": "lines",
         "name": "A",
         "text": "",
         "type": "scatter",
         "x": [
          0,
          1,
          2,
          3,
          4,
          5,
          6,
          7,
          8,
          9,
          10,
          11,
          12,
          13,
          14,
          15,
          16,
          17,
          18,
          19,
          20,
          21,
          22,
          23,
          24,
          25,
          26,
          27,
          28,
          29,
          30,
          31,
          32,
          33,
          34,
          35,
          36,
          37,
          38,
          39,
          40,
          41,
          42,
          43,
          44,
          45,
          46,
          47,
          48,
          49,
          50,
          51,
          52,
          53,
          54,
          55,
          56,
          57,
          58,
          59,
          60,
          61,
          62,
          63,
          64,
          65,
          66,
          67,
          68,
          69,
          70,
          71,
          72,
          73,
          74,
          75,
          76,
          77,
          78,
          79,
          80,
          81,
          82,
          83,
          84,
          85,
          86,
          87,
          88,
          89,
          90,
          91,
          92,
          93,
          94,
          95,
          96,
          97,
          98,
          99
         ],
         "y": [
          0.2317169047197511,
          0.878202859039861,
          0.8845456478701096,
          -0.8548417612934461,
          2.551212651230751,
          -0.9715711502953682,
          -1.4286297257729936,
          0.171781997371082,
          -0.26501974141230633,
          1.448118461903668,
          0.956200364077296,
          0.2798407221282476,
          1.2898124098548918,
          -0.1805503744770984,
          -0.9712934350712948,
          0.944830093864121,
          0.008383811079937189,
          0.06411389321304094,
          -3.0448966138834717,
          0.2071650308743917,
          1.264273231110705,
          0.009115961650350713,
          1.2032289481855762,
          0.1748885773766371,
          0.7705083291235805,
          -0.48405781692728334,
          -0.18229576272709286,
          -0.14480699019100146,
          1.6209270254850905,
          -0.03720051887920887,
          0.9189256626796768,
          1.7353795151389286,
          -1.4527591753072113,
          0.21084974842433038,
          -0.8424132209460763,
          0.8108010689563284,
          1.8849307915325269,
          -0.38236134284848067,
          -1.8509955384600723,
          -1.0043802296934055,
          -1.6700335882266961,
          -0.2662800200558214,
          -0.2816104466918759,
          1.9695064659323902,
          -1.3531333401005186,
          -1.8246487015463517,
          0.4161856133422532,
          -0.31404073402964167,
          0.3722783675048442,
          2.133303617040413,
          -2.4471958895748074,
          2.380719002345152,
          -0.3987430854316932,
          -0.014650312488142936,
          1.2256641691759387,
          1.7799074314307135,
          0.5487143518972628,
          0.02541417834825154,
          0.5381538643916343,
          2.4535136319212816,
          -0.023803262090310917,
          -0.6496924161052658,
          0.04478553352171316,
          0.5365061860661642,
          0.7233240221161904,
          -0.2522619818245915,
          -1.5789598702116967,
          0.274926573285316,
          -0.04484425533308025,
          -0.39533639004855775,
          -0.1539674894937371,
          0.5434894729148447,
          0.8297140683352305,
          2.1447937974739597,
          -0.8691243150874558,
          1.1913449442332948,
          0.23992685967080285,
          0.835519899053282,
          0.775127212877518,
          0.8179378516059655,
          0.6767887621858589,
          -0.28668771741995064,
          1.2664829486946523,
          0.036890380042112085,
          1.5343541032540513,
          -1.3328073199877764,
          -0.20674743397348924,
          -0.8547345166834612,
          1.0274052102743279,
          -0.6231463227343251,
          -0.6202269343992488,
          -1.009586728733132,
          0.8198648674064811,
          -0.04155656422413667,
          -0.2858429069412091,
          0.5013344026955628,
          -0.5205537443270363,
          0.1794569091055445,
          -0.00679461552715747,
          -1.2871461273377063
         ]
        },
        {
         "line": {
          "color": "rgba(55, 128, 191, 1.0)",
          "dash": "solid",
          "shape": "linear",
          "width": 1.3
         },
         "mode": "lines",
         "name": "B",
         "text": "",
         "type": "scatter",
         "x": [
          0,
          1,
          2,
          3,
          4,
          5,
          6,
          7,
          8,
          9,
          10,
          11,
          12,
          13,
          14,
          15,
          16,
          17,
          18,
          19,
          20,
          21,
          22,
          23,
          24,
          25,
          26,
          27,
          28,
          29,
          30,
          31,
          32,
          33,
          34,
          35,
          36,
          37,
          38,
          39,
          40,
          41,
          42,
          43,
          44,
          45,
          46,
          47,
          48,
          49,
          50,
          51,
          52,
          53,
          54,
          55,
          56,
          57,
          58,
          59,
          60,
          61,
          62,
          63,
          64,
          65,
          66,
          67,
          68,
          69,
          70,
          71,
          72,
          73,
          74,
          75,
          76,
          77,
          78,
          79,
          80,
          81,
          82,
          83,
          84,
          85,
          86,
          87,
          88,
          89,
          90,
          91,
          92,
          93,
          94,
          95,
          96,
          97,
          98,
          99
         ],
         "y": [
          0.31537573601972646,
          0.8264280604720017,
          0.15880673938410703,
          -0.4945665747013332,
          -1.9291971682912035,
          -2.053128461013517,
          -0.41822165453726745,
          -0.7777578395540988,
          -0.37320239693156027,
          1.0077705019872478,
          0.2712966828345281,
          0.21274963696718877,
          0.08681838559463527,
          -0.5836485889875932,
          1.239568154067294,
          -0.8336166955037497,
          1.1474346168150165,
          -0.03716505277910525,
          -0.9630423160360793,
          0.05960721757341472,
          -0.9577369659471877,
          -0.6095456247495279,
          -1.0329204156788498,
          -1.2125958704403847,
          0.6604393457031784,
          0.4269054295495109,
          -1.215150155380957,
          1.38929308577231,
          -1.4642961357447615,
          -0.17395852265987718,
          -0.7053311469661707,
          0.863093219012688,
          0.3637406994713603,
          0.5826837313913135,
          -1.209932493419657,
          2.051445643285071,
          -1.0399723552126299,
          0.34911638943718615,
          0.6266184994346646,
          -0.17987182552393097,
          -0.5033924263326975,
          -1.3554213726667181,
          0.7381731188497714,
          0.6032159315621837,
          0.31383776587827605,
          1.5221045096712567,
          1.0730090081467314,
          1.5068400071106,
          -1.9657532084588805,
          -1.3738273908249323,
          0.48706954818705034,
          0.1934097777960746,
          -0.5098684385059237,
          -1.1110673077332558,
          1.4519574756869593,
          1.0745558846756398,
          0.0008134396062797892,
          0.9200113282161689,
          -1.7200861348159882,
          0.10651184111518136,
          -0.30946533602772835,
          0.16269854297053135,
          -0.1334720800134916,
          0.1437347175119578,
          0.6360683442236713,
          -1.6347287577630152,
          0.8359585335920502,
          0.027100102289993433,
          -0.7574047971474507,
          -1.5691832242530772,
          -0.10517278040729248,
          -1.911316107110392,
          -0.2040847122474828,
          -0.5268421182380644,
          -1.5201277139063434,
          -0.3368327664567618,
          3.1166495508586363,
          -0.5106661675704326,
          -0.24961234609561317,
          0.38516480037623885,
          -0.5394614558449573,
          1.3909296431635094,
          -0.4953771635676115,
          0.5514715008926203,
          -1.6368152085915135,
          0.30964057125138994,
          1.2710308408072852,
          -0.662447702474752,
          0.3566427211364223,
          -0.25598888429205297,
          -0.7707764963409064,
          -0.4223655211888527,
          0.5102442968597752,
          -0.23874528949899876,
          0.4422885398643252,
          1.18606662880413,
          -0.4108029668452801,
          1.2414388069753572,
          0.1345819144557129,
          0.7666064340071423
         ]
        },
        {
         "connectgaps": false,
         "fill": "tozeroy",
         "line": {
          "color": "green",
          "dash": "solid",
          "shape": "linear",
          "width": 0.5
         },
         "mode": "lines",
         "name": "Spread",
         "showlegend": false,
         "type": "scatter",
         "x": [
          0,
          1,
          2,
          3,
          4,
          5,
          6,
          7,
          8,
          9,
          10,
          11,
          12,
          13,
          14,
          15,
          16,
          17,
          18,
          19,
          20,
          21,
          22,
          23,
          24,
          25,
          26,
          27,
          28,
          29,
          30,
          31,
          32,
          33,
          34,
          35,
          36,
          37,
          38,
          39,
          40,
          41,
          42,
          43,
          44,
          45,
          46,
          47,
          48,
          49,
          50,
          51,
          52,
          53,
          54,
          55,
          56,
          57,
          58,
          59,
          60,
          61,
          62,
          63,
          64,
          65,
          66,
          67,
          68,
          69,
          70,
          71,
          72,
          73,
          74,
          75,
          76,
          77,
          78,
          79,
          80,
          81,
          82,
          83,
          84,
          85,
          86,
          87,
          88,
          89,
          90,
          91,
          92,
          93,
          94,
          95,
          96,
          97,
          98,
          99
         ],
         "xaxis": "x2",
         "y": [
          "",
          0.05177479856785927,
          0.7257389084860025,
          "",
          4.480409819521954,
          1.081557310718149,
          "",
          0.9495398369251808,
          0.10818265551925393,
          0.4403479599164202,
          0.6849036812427679,
          0.06709108516105886,
          1.2029940242602566,
          0.40309821451049477,
          "",
          1.7784467893678708,
          "",
          0.10127894599214618,
          "",
          0.14755781330097698,
          2.2220101970578927,
          0.6186615863998786,
          2.236149363864426,
          1.3874844478170218,
          0.11006898342040206,
          "",
          1.032854392653864,
          "",
          3.0852231612298517,
          0.13675800378066832,
          1.6242568096458476,
          0.8722862961262406,
          "",
          "",
          0.3675192724735806,
          "",
          2.924903146745157,
          "",
          "",
          "",
          "",
          1.0891413526108966,
          "",
          1.3662905343702065,
          "",
          "",
          "",
          "",
          2.3380315759637247,
          3.5071310078653455,
          "",
          2.1873092245490775,
          0.11112535307423049,
          1.0964169952451128,
          "",
          0.7053515467550737,
          0.547900912290983,
          "",
          2.2582399992076225,
          2.3470017908061003,
          0.28566207393741744,
          "",
          0.17825761353520475,
          0.3927714685542064,
          0.08725567789251909,
          1.3824667759384237,
          "",
          0.24782647099532257,
          0.7125605418143705,
          1.1738468342045194,
          "",
          2.4548055800252366,
          1.0337987805827134,
          2.671635915712024,
          0.6510033988188876,
          1.5281777106900567,
          "",
          1.3461860666237144,
          1.0247395589731312,
          0.4327730512297267,
          1.2162502180308161,
          "",
          1.761860112262264,
          "",
          3.171169311845565,
          "",
          "",
          "",
          0.6707624891379056,
          "",
          0.15054956194165758,
          "",
          0.3096205705467059,
          0.1971887252748621,
          "",
          "",
          "",
          "",
          "",
          ""
         ],
         "yaxis": "y2"
        },
        {
         "connectgaps": false,
         "fill": "tozeroy",
         "line": {
          "color": "red",
          "dash": "solid",
          "shape": "linear",
          "width": 0.5
         },
         "mode": "lines",
         "name": "Spread",
         "showlegend": false,
         "type": "scatter",
         "x": [
          0,
          1,
          2,
          3,
          4,
          5,
          6,
          7,
          8,
          9,
          10,
          11,
          12,
          13,
          14,
          15,
          16,
          17,
          18,
          19,
          20,
          21,
          22,
          23,
          24,
          25,
          26,
          27,
          28,
          29,
          30,
          31,
          32,
          33,
          34,
          35,
          36,
          37,
          38,
          39,
          40,
          41,
          42,
          43,
          44,
          45,
          46,
          47,
          48,
          49,
          50,
          51,
          52,
          53,
          54,
          55,
          56,
          57,
          58,
          59,
          60,
          61,
          62,
          63,
          64,
          65,
          66,
          67,
          68,
          69,
          70,
          71,
          72,
          73,
          74,
          75,
          76,
          77,
          78,
          79,
          80,
          81,
          82,
          83,
          84,
          85,
          86,
          87,
          88,
          89,
          90,
          91,
          92,
          93,
          94,
          95,
          96,
          97,
          98,
          99
         ],
         "xaxis": "x2",
         "y": [
          -0.08365883129997537,
          "",
          "",
          -0.36027518659211294,
          "",
          "",
          -1.0104080712357262,
          "",
          "",
          "",
          "",
          "",
          "",
          "",
          -2.210861589138589,
          "",
          -1.1390508057350792,
          "",
          -2.0818542978473924,
          "",
          "",
          "",
          "",
          "",
          "",
          -0.9109632464767943,
          "",
          -1.5341000759633114,
          "",
          "",
          "",
          "",
          -1.8164998747785717,
          -0.3718339829669831,
          "",
          -1.2406445743287429,
          "",
          -0.7314777322856668,
          -2.477614037894737,
          -0.8245084041694745,
          -1.1666411618939985,
          "",
          -1.0197835655416474,
          "",
          -1.6669711059787946,
          -3.3467532112176084,
          -0.6568233948044782,
          -1.8208807411402417,
          "",
          "",
          -2.9342654377618578,
          "",
          "",
          "",
          -0.22629330651102064,
          "",
          "",
          -0.8945971498679174,
          "",
          "",
          "",
          -0.8123909590757972,
          "",
          "",
          "",
          "",
          -2.414918403803747,
          "",
          "",
          "",
          -0.04879470908644461,
          "",
          "",
          "",
          "",
          "",
          -2.876722691187833,
          "",
          "",
          "",
          "",
          -1.6776173605834601,
          "",
          -0.5145811208505082,
          "",
          -1.6424478912391662,
          -1.4777782747807744,
          -0.1922868142087092,
          "",
          -0.36715743844227217,
          "",
          -0.5872212075442793,
          "",
          "",
          -0.7281314468055343,
          -0.6847322261085671,
          -0.10975077748175616,
          -1.0619818978698128,
          -0.14137652998287037,
          -2.0537525613448486
         ],
         "yaxis": "y2"
        }
       ],
       "layout": {
        "hovermode": "x",
        "legend": {
         "bgcolor": "#F5F6F9",
         "font": {
          "color": "#4D5663"
         }
        },
        "paper_bgcolor": "#F5F6F9",
        "plot_bgcolor": "#F5F6F9",
        "template": {
         "data": {
          "bar": [
           {
            "error_x": {
             "color": "#2a3f5f"
            },
            "error_y": {
             "color": "#2a3f5f"
            },
            "marker": {
             "line": {
              "color": "#E5ECF6",
              "width": 0.5
             }
            },
            "type": "bar"
           }
          ],
          "barpolar": [
           {
            "marker": {
             "line": {
              "color": "#E5ECF6",
              "width": 0.5
             }
            },
            "type": "barpolar"
           }
          ],
          "carpet": [
           {
            "aaxis": {
             "endlinecolor": "#2a3f5f",
             "gridcolor": "white",
             "linecolor": "white",
             "minorgridcolor": "white",
             "startlinecolor": "#2a3f5f"
            },
            "baxis": {
             "endlinecolor": "#2a3f5f",
             "gridcolor": "white",
             "linecolor": "white",
             "minorgridcolor": "white",
             "startlinecolor": "#2a3f5f"
            },
            "type": "carpet"
           }
          ],
          "choropleth": [
           {
            "colorbar": {
             "outlinewidth": 0,
             "ticks": ""
            },
            "type": "choropleth"
           }
          ],
          "contour": [
           {
            "colorbar": {
             "outlinewidth": 0,
             "ticks": ""
            },
            "colorscale": [
             [
              0,
              "#0d0887"
             ],
             [
              0.1111111111111111,
              "#46039f"
             ],
             [
              0.2222222222222222,
              "#7201a8"
             ],
             [
              0.3333333333333333,
              "#9c179e"
             ],
             [
              0.4444444444444444,
              "#bd3786"
             ],
             [
              0.5555555555555556,
              "#d8576b"
             ],
             [
              0.6666666666666666,
              "#ed7953"
             ],
             [
              0.7777777777777778,
              "#fb9f3a"
             ],
             [
              0.8888888888888888,
              "#fdca26"
             ],
             [
              1,
              "#f0f921"
             ]
            ],
            "type": "contour"
           }
          ],
          "contourcarpet": [
           {
            "colorbar": {
             "outlinewidth": 0,
             "ticks": ""
            },
            "type": "contourcarpet"
           }
          ],
          "heatmap": [
           {
            "colorbar": {
             "outlinewidth": 0,
             "ticks": ""
            },
            "colorscale": [
             [
              0,
              "#0d0887"
             ],
             [
              0.1111111111111111,
              "#46039f"
             ],
             [
              0.2222222222222222,
              "#7201a8"
             ],
             [
              0.3333333333333333,
              "#9c179e"
             ],
             [
              0.4444444444444444,
              "#bd3786"
             ],
             [
              0.5555555555555556,
              "#d8576b"
             ],
             [
              0.6666666666666666,
              "#ed7953"
             ],
             [
              0.7777777777777778,
              "#fb9f3a"
             ],
             [
              0.8888888888888888,
              "#fdca26"
             ],
             [
              1,
              "#f0f921"
             ]
            ],
            "type": "heatmap"
           }
          ],
          "heatmapgl": [
           {
            "colorbar": {
             "outlinewidth": 0,
             "ticks": ""
            },
            "colorscale": [
             [
              0,
              "#0d0887"
             ],
             [
              0.1111111111111111,
              "#46039f"
             ],
             [
              0.2222222222222222,
              "#7201a8"
             ],
             [
              0.3333333333333333,
              "#9c179e"
             ],
             [
              0.4444444444444444,
              "#bd3786"
             ],
             [
              0.5555555555555556,
              "#d8576b"
             ],
             [
              0.6666666666666666,
              "#ed7953"
             ],
             [
              0.7777777777777778,
              "#fb9f3a"
             ],
             [
              0.8888888888888888,
              "#fdca26"
             ],
             [
              1,
              "#f0f921"
             ]
            ],
            "type": "heatmapgl"
           }
          ],
          "histogram": [
           {
            "marker": {
             "colorbar": {
              "outlinewidth": 0,
              "ticks": ""
             }
            },
            "type": "histogram"
           }
          ],
          "histogram2d": [
           {
            "colorbar": {
             "outlinewidth": 0,
             "ticks": ""
            },
            "colorscale": [
             [
              0,
              "#0d0887"
             ],
             [
              0.1111111111111111,
              "#46039f"
             ],
             [
              0.2222222222222222,
              "#7201a8"
             ],
             [
              0.3333333333333333,
              "#9c179e"
             ],
             [
              0.4444444444444444,
              "#bd3786"
             ],
             [
              0.5555555555555556,
              "#d8576b"
             ],
             [
              0.6666666666666666,
              "#ed7953"
             ],
             [
              0.7777777777777778,
              "#fb9f3a"
             ],
             [
              0.8888888888888888,
              "#fdca26"
             ],
             [
              1,
              "#f0f921"
             ]
            ],
            "type": "histogram2d"
           }
          ],
          "histogram2dcontour": [
           {
            "colorbar": {
             "outlinewidth": 0,
             "ticks": ""
            },
            "colorscale": [
             [
              0,
              "#0d0887"
             ],
             [
              0.1111111111111111,
              "#46039f"
             ],
             [
              0.2222222222222222,
              "#7201a8"
             ],
             [
              0.3333333333333333,
              "#9c179e"
             ],
             [
              0.4444444444444444,
              "#bd3786"
             ],
             [
              0.5555555555555556,
              "#d8576b"
             ],
             [
              0.6666666666666666,
              "#ed7953"
             ],
             [
              0.7777777777777778,
              "#fb9f3a"
             ],
             [
              0.8888888888888888,
              "#fdca26"
             ],
             [
              1,
              "#f0f921"
             ]
            ],
            "type": "histogram2dcontour"
           }
          ],
          "mesh3d": [
           {
            "colorbar": {
             "outlinewidth": 0,
             "ticks": ""
            },
            "type": "mesh3d"
           }
          ],
          "parcoords": [
           {
            "line": {
             "colorbar": {
              "outlinewidth": 0,
              "ticks": ""
             }
            },
            "type": "parcoords"
           }
          ],
          "pie": [
           {
            "automargin": true,
            "type": "pie"
           }
          ],
          "scatter": [
           {
            "marker": {
             "colorbar": {
              "outlinewidth": 0,
              "ticks": ""
             }
            },
            "type": "scatter"
           }
          ],
          "scatter3d": [
           {
            "line": {
             "colorbar": {
              "outlinewidth": 0,
              "ticks": ""
             }
            },
            "marker": {
             "colorbar": {
              "outlinewidth": 0,
              "ticks": ""
             }
            },
            "type": "scatter3d"
           }
          ],
          "scattercarpet": [
           {
            "marker": {
             "colorbar": {
              "outlinewidth": 0,
              "ticks": ""
             }
            },
            "type": "scattercarpet"
           }
          ],
          "scattergeo": [
           {
            "marker": {
             "colorbar": {
              "outlinewidth": 0,
              "ticks": ""
             }
            },
            "type": "scattergeo"
           }
          ],
          "scattergl": [
           {
            "marker": {
             "colorbar": {
              "outlinewidth": 0,
              "ticks": ""
             }
            },
            "type": "scattergl"
           }
          ],
          "scattermapbox": [
           {
            "marker": {
             "colorbar": {
              "outlinewidth": 0,
              "ticks": ""
             }
            },
            "type": "scattermapbox"
           }
          ],
          "scatterpolar": [
           {
            "marker": {
             "colorbar": {
              "outlinewidth": 0,
              "ticks": ""
             }
            },
            "type": "scatterpolar"
           }
          ],
          "scatterpolargl": [
           {
            "marker": {
             "colorbar": {
              "outlinewidth": 0,
              "ticks": ""
             }
            },
            "type": "scatterpolargl"
           }
          ],
          "scatterternary": [
           {
            "marker": {
             "colorbar": {
              "outlinewidth": 0,
              "ticks": ""
             }
            },
            "type": "scatterternary"
           }
          ],
          "surface": [
           {
            "colorbar": {
             "outlinewidth": 0,
             "ticks": ""
            },
            "colorscale": [
             [
              0,
              "#0d0887"
             ],
             [
              0.1111111111111111,
              "#46039f"
             ],
             [
              0.2222222222222222,
              "#7201a8"
             ],
             [
              0.3333333333333333,
              "#9c179e"
             ],
             [
              0.4444444444444444,
              "#bd3786"
             ],
             [
              0.5555555555555556,
              "#d8576b"
             ],
             [
              0.6666666666666666,
              "#ed7953"
             ],
             [
              0.7777777777777778,
              "#fb9f3a"
             ],
             [
              0.8888888888888888,
              "#fdca26"
             ],
             [
              1,
              "#f0f921"
             ]
            ],
            "type": "surface"
           }
          ],
          "table": [
           {
            "cells": {
             "fill": {
              "color": "#EBF0F8"
             },
             "line": {
              "color": "white"
             }
            },
            "header": {
             "fill": {
              "color": "#C8D4E3"
             },
             "line": {
              "color": "white"
             }
            },
            "type": "table"
           }
          ]
         },
         "layout": {
          "annotationdefaults": {
           "arrowcolor": "#2a3f5f",
           "arrowhead": 0,
           "arrowwidth": 1
          },
          "coloraxis": {
           "colorbar": {
            "outlinewidth": 0,
            "ticks": ""
           }
          },
          "colorscale": {
           "diverging": [
            [
             0,
             "#8e0152"
            ],
            [
             0.1,
             "#c51b7d"
            ],
            [
             0.2,
             "#de77ae"
            ],
            [
             0.3,
             "#f1b6da"
            ],
            [
             0.4,
             "#fde0ef"
            ],
            [
             0.5,
             "#f7f7f7"
            ],
            [
             0.6,
             "#e6f5d0"
            ],
            [
             0.7,
             "#b8e186"
            ],
            [
             0.8,
             "#7fbc41"
            ],
            [
             0.9,
             "#4d9221"
            ],
            [
             1,
             "#276419"
            ]
           ],
           "sequential": [
            [
             0,
             "#0d0887"
            ],
            [
             0.1111111111111111,
             "#46039f"
            ],
            [
             0.2222222222222222,
             "#7201a8"
            ],
            [
             0.3333333333333333,
             "#9c179e"
            ],
            [
             0.4444444444444444,
             "#bd3786"
            ],
            [
             0.5555555555555556,
             "#d8576b"
            ],
            [
             0.6666666666666666,
             "#ed7953"
            ],
            [
             0.7777777777777778,
             "#fb9f3a"
            ],
            [
             0.8888888888888888,
             "#fdca26"
            ],
            [
             1,
             "#f0f921"
            ]
           ],
           "sequentialminus": [
            [
             0,
             "#0d0887"
            ],
            [
             0.1111111111111111,
             "#46039f"
            ],
            [
             0.2222222222222222,
             "#7201a8"
            ],
            [
             0.3333333333333333,
             "#9c179e"
            ],
            [
             0.4444444444444444,
             "#bd3786"
            ],
            [
             0.5555555555555556,
             "#d8576b"
            ],
            [
             0.6666666666666666,
             "#ed7953"
            ],
            [
             0.7777777777777778,
             "#fb9f3a"
            ],
            [
             0.8888888888888888,
             "#fdca26"
            ],
            [
             1,
             "#f0f921"
            ]
           ]
          },
          "colorway": [
           "#636efa",
           "#EF553B",
           "#00cc96",
           "#ab63fa",
           "#FFA15A",
           "#19d3f3",
           "#FF6692",
           "#B6E880",
           "#FF97FF",
           "#FECB52"
          ],
          "font": {
           "color": "#2a3f5f"
          },
          "geo": {
           "bgcolor": "white",
           "lakecolor": "white",
           "landcolor": "#E5ECF6",
           "showlakes": true,
           "showland": true,
           "subunitcolor": "white"
          },
          "hoverlabel": {
           "align": "left"
          },
          "hovermode": "closest",
          "mapbox": {
           "style": "light"
          },
          "paper_bgcolor": "white",
          "plot_bgcolor": "#E5ECF6",
          "polar": {
           "angularaxis": {
            "gridcolor": "white",
            "linecolor": "white",
            "ticks": ""
           },
           "bgcolor": "#E5ECF6",
           "radialaxis": {
            "gridcolor": "white",
            "linecolor": "white",
            "ticks": ""
           }
          },
          "scene": {
           "xaxis": {
            "backgroundcolor": "#E5ECF6",
            "gridcolor": "white",
            "gridwidth": 2,
            "linecolor": "white",
            "showbackground": true,
            "ticks": "",
            "zerolinecolor": "white"
           },
           "yaxis": {
            "backgroundcolor": "#E5ECF6",
            "gridcolor": "white",
            "gridwidth": 2,
            "linecolor": "white",
            "showbackground": true,
            "ticks": "",
            "zerolinecolor": "white"
           },
           "zaxis": {
            "backgroundcolor": "#E5ECF6",
            "gridcolor": "white",
            "gridwidth": 2,
            "linecolor": "white",
            "showbackground": true,
            "ticks": "",
            "zerolinecolor": "white"
           }
          },
          "shapedefaults": {
           "line": {
            "color": "#2a3f5f"
           }
          },
          "ternary": {
           "aaxis": {
            "gridcolor": "white",
            "linecolor": "white",
            "ticks": ""
           },
           "baxis": {
            "gridcolor": "white",
            "linecolor": "white",
            "ticks": ""
           },
           "bgcolor": "#E5ECF6",
           "caxis": {
            "gridcolor": "white",
            "linecolor": "white",
            "ticks": ""
           }
          },
          "title": {
           "x": 0.05
          },
          "xaxis": {
           "automargin": true,
           "gridcolor": "white",
           "linecolor": "white",
           "ticks": "",
           "title": {
            "standoff": 15
           },
           "zerolinecolor": "white",
           "zerolinewidth": 2
          },
          "yaxis": {
           "automargin": true,
           "gridcolor": "white",
           "linecolor": "white",
           "ticks": "",
           "title": {
            "standoff": 15
           },
           "zerolinecolor": "white",
           "zerolinewidth": 2
          }
         }
        },
        "title": {
         "font": {
          "color": "#4D5663"
         }
        },
        "xaxis": {
         "gridcolor": "#E1E5ED",
         "showgrid": true,
         "tickfont": {
          "color": "#4D5663"
         },
         "title": {
          "font": {
           "color": "#4D5663"
          },
          "text": ""
         },
         "zerolinecolor": "#E1E5ED"
        },
        "xaxis2": {
         "anchor": "y2",
         "gridcolor": "#E1E5ED",
         "showgrid": true,
         "showticklabels": false,
         "tickfont": {
          "color": "#4D5663"
         },
         "title": {
          "font": {
           "color": "#4D5663"
          },
          "text": ""
         },
         "zerolinecolor": "#E1E5ED"
        },
        "yaxis": {
         "domain": [
          0.3,
          1
         ],
         "gridcolor": "#E1E5ED",
         "showgrid": true,
         "tickfont": {
          "color": "#4D5663"
         },
         "title": {
          "font": {
           "color": "#4D5663"
          },
          "text": ""
         },
         "zerolinecolor": "#E1E5ED"
        },
        "yaxis2": {
         "domain": [
          0,
          0.25
         ],
         "gridcolor": "#E1E5ED",
         "showgrid": true,
         "tickfont": {
          "color": "#4D5663"
         },
         "title": {
          "font": {
           "color": "#4D5663"
          },
          "text": "Spread"
         },
         "zerolinecolor": "#E1E5ED"
        }
       }
      },
      "text/html": [
       "<div>\n",
       "        \n",
       "        \n",
       "            <div id=\"c9c7a741-46f4-4142-9dca-0ff49feb3d5a\" class=\"plotly-graph-div\" style=\"height:525px; width:100%;\"></div>\n",
       "            <script type=\"text/javascript\">\n",
       "                require([\"plotly\"], function(Plotly) {\n",
       "                    window.PLOTLYENV=window.PLOTLYENV || {};\n",
       "                    window.PLOTLYENV.BASE_URL='https://plot.ly';\n",
       "                    \n",
       "                if (document.getElementById(\"c9c7a741-46f4-4142-9dca-0ff49feb3d5a\")) {\n",
       "                    Plotly.newPlot(\n",
       "                        'c9c7a741-46f4-4142-9dca-0ff49feb3d5a',\n",
       "                        [{\"line\": {\"color\": \"rgba(255, 153, 51, 1.0)\", \"dash\": \"solid\", \"shape\": \"linear\", \"width\": 1.3}, \"mode\": \"lines\", \"name\": \"A\", \"text\": \"\", \"type\": \"scatter\", \"x\": [0, 1, 2, 3, 4, 5, 6, 7, 8, 9, 10, 11, 12, 13, 14, 15, 16, 17, 18, 19, 20, 21, 22, 23, 24, 25, 26, 27, 28, 29, 30, 31, 32, 33, 34, 35, 36, 37, 38, 39, 40, 41, 42, 43, 44, 45, 46, 47, 48, 49, 50, 51, 52, 53, 54, 55, 56, 57, 58, 59, 60, 61, 62, 63, 64, 65, 66, 67, 68, 69, 70, 71, 72, 73, 74, 75, 76, 77, 78, 79, 80, 81, 82, 83, 84, 85, 86, 87, 88, 89, 90, 91, 92, 93, 94, 95, 96, 97, 98, 99], \"y\": [0.2317169047197511, 0.878202859039861, 0.8845456478701096, -0.8548417612934461, 2.551212651230751, -0.9715711502953682, -1.4286297257729936, 0.171781997371082, -0.26501974141230633, 1.448118461903668, 0.956200364077296, 0.2798407221282476, 1.2898124098548918, -0.1805503744770984, -0.9712934350712948, 0.944830093864121, 0.008383811079937189, 0.06411389321304094, -3.0448966138834717, 0.2071650308743917, 1.264273231110705, 0.009115961650350713, 1.2032289481855762, 0.1748885773766371, 0.7705083291235805, -0.48405781692728334, -0.18229576272709286, -0.14480699019100146, 1.6209270254850905, -0.03720051887920887, 0.9189256626796768, 1.7353795151389286, -1.4527591753072113, 0.21084974842433038, -0.8424132209460763, 0.8108010689563284, 1.8849307915325269, -0.38236134284848067, -1.8509955384600723, -1.0043802296934055, -1.6700335882266961, -0.2662800200558214, -0.2816104466918759, 1.9695064659323902, -1.3531333401005186, -1.8246487015463517, 0.4161856133422532, -0.31404073402964167, 0.3722783675048442, 2.133303617040413, -2.4471958895748074, 2.380719002345152, -0.3987430854316932, -0.014650312488142936, 1.2256641691759387, 1.7799074314307135, 0.5487143518972628, 0.02541417834825154, 0.5381538643916343, 2.4535136319212816, -0.023803262090310917, -0.6496924161052658, 0.04478553352171316, 0.5365061860661642, 0.7233240221161904, -0.2522619818245915, -1.5789598702116967, 0.274926573285316, -0.04484425533308025, -0.39533639004855775, -0.1539674894937371, 0.5434894729148447, 0.8297140683352305, 2.1447937974739597, -0.8691243150874558, 1.1913449442332948, 0.23992685967080285, 0.835519899053282, 0.775127212877518, 0.8179378516059655, 0.6767887621858589, -0.28668771741995064, 1.2664829486946523, 0.036890380042112085, 1.5343541032540513, -1.3328073199877764, -0.20674743397348924, -0.8547345166834612, 1.0274052102743279, -0.6231463227343251, -0.6202269343992488, -1.009586728733132, 0.8198648674064811, -0.04155656422413667, -0.2858429069412091, 0.5013344026955628, -0.5205537443270363, 0.1794569091055445, -0.00679461552715747, -1.2871461273377063]}, {\"line\": {\"color\": \"rgba(55, 128, 191, 1.0)\", \"dash\": \"solid\", \"shape\": \"linear\", \"width\": 1.3}, \"mode\": \"lines\", \"name\": \"B\", \"text\": \"\", \"type\": \"scatter\", \"x\": [0, 1, 2, 3, 4, 5, 6, 7, 8, 9, 10, 11, 12, 13, 14, 15, 16, 17, 18, 19, 20, 21, 22, 23, 24, 25, 26, 27, 28, 29, 30, 31, 32, 33, 34, 35, 36, 37, 38, 39, 40, 41, 42, 43, 44, 45, 46, 47, 48, 49, 50, 51, 52, 53, 54, 55, 56, 57, 58, 59, 60, 61, 62, 63, 64, 65, 66, 67, 68, 69, 70, 71, 72, 73, 74, 75, 76, 77, 78, 79, 80, 81, 82, 83, 84, 85, 86, 87, 88, 89, 90, 91, 92, 93, 94, 95, 96, 97, 98, 99], \"y\": [0.31537573601972646, 0.8264280604720017, 0.15880673938410703, -0.4945665747013332, -1.9291971682912035, -2.053128461013517, -0.41822165453726745, -0.7777578395540988, -0.37320239693156027, 1.0077705019872478, 0.2712966828345281, 0.21274963696718877, 0.08681838559463527, -0.5836485889875932, 1.239568154067294, -0.8336166955037497, 1.1474346168150165, -0.03716505277910525, -0.9630423160360793, 0.05960721757341472, -0.9577369659471877, -0.6095456247495279, -1.0329204156788498, -1.2125958704403847, 0.6604393457031784, 0.4269054295495109, -1.215150155380957, 1.38929308577231, -1.4642961357447615, -0.17395852265987718, -0.7053311469661707, 0.863093219012688, 0.3637406994713603, 0.5826837313913135, -1.209932493419657, 2.051445643285071, -1.0399723552126299, 0.34911638943718615, 0.6266184994346646, -0.17987182552393097, -0.5033924263326975, -1.3554213726667181, 0.7381731188497714, 0.6032159315621837, 0.31383776587827605, 1.5221045096712567, 1.0730090081467314, 1.5068400071106, -1.9657532084588805, -1.3738273908249323, 0.48706954818705034, 0.1934097777960746, -0.5098684385059237, -1.1110673077332558, 1.4519574756869593, 1.0745558846756398, 0.0008134396062797892, 0.9200113282161689, -1.7200861348159882, 0.10651184111518136, -0.30946533602772835, 0.16269854297053135, -0.1334720800134916, 0.1437347175119578, 0.6360683442236713, -1.6347287577630152, 0.8359585335920502, 0.027100102289993433, -0.7574047971474507, -1.5691832242530772, -0.10517278040729248, -1.911316107110392, -0.2040847122474828, -0.5268421182380644, -1.5201277139063434, -0.3368327664567618, 3.1166495508586363, -0.5106661675704326, -0.24961234609561317, 0.38516480037623885, -0.5394614558449573, 1.3909296431635094, -0.4953771635676115, 0.5514715008926203, -1.6368152085915135, 0.30964057125138994, 1.2710308408072852, -0.662447702474752, 0.3566427211364223, -0.25598888429205297, -0.7707764963409064, -0.4223655211888527, 0.5102442968597752, -0.23874528949899876, 0.4422885398643252, 1.18606662880413, -0.4108029668452801, 1.2414388069753572, 0.1345819144557129, 0.7666064340071423]}, {\"connectgaps\": false, \"fill\": \"tozeroy\", \"line\": {\"color\": \"green\", \"dash\": \"solid\", \"shape\": \"linear\", \"width\": 0.5}, \"mode\": \"lines\", \"name\": \"Spread\", \"showlegend\": false, \"type\": \"scatter\", \"x\": [0, 1, 2, 3, 4, 5, 6, 7, 8, 9, 10, 11, 12, 13, 14, 15, 16, 17, 18, 19, 20, 21, 22, 23, 24, 25, 26, 27, 28, 29, 30, 31, 32, 33, 34, 35, 36, 37, 38, 39, 40, 41, 42, 43, 44, 45, 46, 47, 48, 49, 50, 51, 52, 53, 54, 55, 56, 57, 58, 59, 60, 61, 62, 63, 64, 65, 66, 67, 68, 69, 70, 71, 72, 73, 74, 75, 76, 77, 78, 79, 80, 81, 82, 83, 84, 85, 86, 87, 88, 89, 90, 91, 92, 93, 94, 95, 96, 97, 98, 99], \"xaxis\": \"x2\", \"y\": [\"\", 0.05177479856785927, 0.7257389084860025, \"\", 4.480409819521954, 1.081557310718149, \"\", 0.9495398369251808, 0.10818265551925393, 0.4403479599164202, 0.6849036812427679, 0.06709108516105886, 1.2029940242602566, 0.40309821451049477, \"\", 1.7784467893678708, \"\", 0.10127894599214618, \"\", 0.14755781330097698, 2.2220101970578927, 0.6186615863998786, 2.236149363864426, 1.3874844478170218, 0.11006898342040206, \"\", 1.032854392653864, \"\", 3.0852231612298517, 0.13675800378066832, 1.6242568096458476, 0.8722862961262406, \"\", \"\", 0.3675192724735806, \"\", 2.924903146745157, \"\", \"\", \"\", \"\", 1.0891413526108966, \"\", 1.3662905343702065, \"\", \"\", \"\", \"\", 2.3380315759637247, 3.5071310078653455, \"\", 2.1873092245490775, 0.11112535307423049, 1.0964169952451128, \"\", 0.7053515467550737, 0.547900912290983, \"\", 2.2582399992076225, 2.3470017908061003, 0.28566207393741744, \"\", 0.17825761353520475, 0.3927714685542064, 0.08725567789251909, 1.3824667759384237, \"\", 0.24782647099532257, 0.7125605418143705, 1.1738468342045194, \"\", 2.4548055800252366, 1.0337987805827134, 2.671635915712024, 0.6510033988188876, 1.5281777106900567, \"\", 1.3461860666237144, 1.0247395589731312, 0.4327730512297267, 1.2162502180308161, \"\", 1.761860112262264, \"\", 3.171169311845565, \"\", \"\", \"\", 0.6707624891379056, \"\", 0.15054956194165758, \"\", 0.3096205705467059, 0.1971887252748621, \"\", \"\", \"\", \"\", \"\", \"\"], \"yaxis\": \"y2\"}, {\"connectgaps\": false, \"fill\": \"tozeroy\", \"line\": {\"color\": \"red\", \"dash\": \"solid\", \"shape\": \"linear\", \"width\": 0.5}, \"mode\": \"lines\", \"name\": \"Spread\", \"showlegend\": false, \"type\": \"scatter\", \"x\": [0, 1, 2, 3, 4, 5, 6, 7, 8, 9, 10, 11, 12, 13, 14, 15, 16, 17, 18, 19, 20, 21, 22, 23, 24, 25, 26, 27, 28, 29, 30, 31, 32, 33, 34, 35, 36, 37, 38, 39, 40, 41, 42, 43, 44, 45, 46, 47, 48, 49, 50, 51, 52, 53, 54, 55, 56, 57, 58, 59, 60, 61, 62, 63, 64, 65, 66, 67, 68, 69, 70, 71, 72, 73, 74, 75, 76, 77, 78, 79, 80, 81, 82, 83, 84, 85, 86, 87, 88, 89, 90, 91, 92, 93, 94, 95, 96, 97, 98, 99], \"xaxis\": \"x2\", \"y\": [-0.08365883129997537, \"\", \"\", -0.36027518659211294, \"\", \"\", -1.0104080712357262, \"\", \"\", \"\", \"\", \"\", \"\", \"\", -2.210861589138589, \"\", -1.1390508057350792, \"\", -2.0818542978473924, \"\", \"\", \"\", \"\", \"\", \"\", -0.9109632464767943, \"\", -1.5341000759633114, \"\", \"\", \"\", \"\", -1.8164998747785717, -0.3718339829669831, \"\", -1.2406445743287429, \"\", -0.7314777322856668, -2.477614037894737, -0.8245084041694745, -1.1666411618939985, \"\", -1.0197835655416474, \"\", -1.6669711059787946, -3.3467532112176084, -0.6568233948044782, -1.8208807411402417, \"\", \"\", -2.9342654377618578, \"\", \"\", \"\", -0.22629330651102064, \"\", \"\", -0.8945971498679174, \"\", \"\", \"\", -0.8123909590757972, \"\", \"\", \"\", \"\", -2.414918403803747, \"\", \"\", \"\", -0.04879470908644461, \"\", \"\", \"\", \"\", \"\", -2.876722691187833, \"\", \"\", \"\", \"\", -1.6776173605834601, \"\", -0.5145811208505082, \"\", -1.6424478912391662, -1.4777782747807744, -0.1922868142087092, \"\", -0.36715743844227217, \"\", -0.5872212075442793, \"\", \"\", -0.7281314468055343, -0.6847322261085671, -0.10975077748175616, -1.0619818978698128, -0.14137652998287037, -2.0537525613448486], \"yaxis\": \"y2\"}],\n",
       "                        {\"hovermode\": \"x\", \"legend\": {\"bgcolor\": \"#F5F6F9\", \"font\": {\"color\": \"#4D5663\"}}, \"paper_bgcolor\": \"#F5F6F9\", \"plot_bgcolor\": \"#F5F6F9\", \"template\": {\"data\": {\"bar\": [{\"error_x\": {\"color\": \"#2a3f5f\"}, \"error_y\": {\"color\": \"#2a3f5f\"}, \"marker\": {\"line\": {\"color\": \"#E5ECF6\", \"width\": 0.5}}, \"type\": \"bar\"}], \"barpolar\": [{\"marker\": {\"line\": {\"color\": \"#E5ECF6\", \"width\": 0.5}}, \"type\": \"barpolar\"}], \"carpet\": [{\"aaxis\": {\"endlinecolor\": \"#2a3f5f\", \"gridcolor\": \"white\", \"linecolor\": \"white\", \"minorgridcolor\": \"white\", \"startlinecolor\": \"#2a3f5f\"}, \"baxis\": {\"endlinecolor\": \"#2a3f5f\", \"gridcolor\": \"white\", \"linecolor\": \"white\", \"minorgridcolor\": \"white\", \"startlinecolor\": \"#2a3f5f\"}, \"type\": \"carpet\"}], \"choropleth\": [{\"colorbar\": {\"outlinewidth\": 0, \"ticks\": \"\"}, \"type\": \"choropleth\"}], \"contour\": [{\"colorbar\": {\"outlinewidth\": 0, \"ticks\": \"\"}, \"colorscale\": [[0.0, \"#0d0887\"], [0.1111111111111111, \"#46039f\"], [0.2222222222222222, \"#7201a8\"], [0.3333333333333333, \"#9c179e\"], [0.4444444444444444, \"#bd3786\"], [0.5555555555555556, \"#d8576b\"], [0.6666666666666666, \"#ed7953\"], [0.7777777777777778, \"#fb9f3a\"], [0.8888888888888888, \"#fdca26\"], [1.0, \"#f0f921\"]], \"type\": \"contour\"}], \"contourcarpet\": [{\"colorbar\": {\"outlinewidth\": 0, \"ticks\": \"\"}, \"type\": \"contourcarpet\"}], \"heatmap\": [{\"colorbar\": {\"outlinewidth\": 0, \"ticks\": \"\"}, \"colorscale\": [[0.0, \"#0d0887\"], [0.1111111111111111, \"#46039f\"], [0.2222222222222222, \"#7201a8\"], [0.3333333333333333, \"#9c179e\"], [0.4444444444444444, \"#bd3786\"], [0.5555555555555556, \"#d8576b\"], [0.6666666666666666, \"#ed7953\"], [0.7777777777777778, \"#fb9f3a\"], [0.8888888888888888, \"#fdca26\"], [1.0, \"#f0f921\"]], \"type\": \"heatmap\"}], \"heatmapgl\": [{\"colorbar\": {\"outlinewidth\": 0, \"ticks\": \"\"}, \"colorscale\": [[0.0, \"#0d0887\"], [0.1111111111111111, \"#46039f\"], [0.2222222222222222, \"#7201a8\"], [0.3333333333333333, \"#9c179e\"], [0.4444444444444444, \"#bd3786\"], [0.5555555555555556, \"#d8576b\"], [0.6666666666666666, \"#ed7953\"], [0.7777777777777778, \"#fb9f3a\"], [0.8888888888888888, \"#fdca26\"], [1.0, \"#f0f921\"]], \"type\": \"heatmapgl\"}], \"histogram\": [{\"marker\": {\"colorbar\": {\"outlinewidth\": 0, \"ticks\": \"\"}}, \"type\": \"histogram\"}], \"histogram2d\": [{\"colorbar\": {\"outlinewidth\": 0, \"ticks\": \"\"}, \"colorscale\": [[0.0, \"#0d0887\"], [0.1111111111111111, \"#46039f\"], [0.2222222222222222, \"#7201a8\"], [0.3333333333333333, \"#9c179e\"], [0.4444444444444444, \"#bd3786\"], [0.5555555555555556, \"#d8576b\"], [0.6666666666666666, \"#ed7953\"], [0.7777777777777778, \"#fb9f3a\"], [0.8888888888888888, \"#fdca26\"], [1.0, \"#f0f921\"]], \"type\": \"histogram2d\"}], \"histogram2dcontour\": [{\"colorbar\": {\"outlinewidth\": 0, \"ticks\": \"\"}, \"colorscale\": [[0.0, \"#0d0887\"], [0.1111111111111111, \"#46039f\"], [0.2222222222222222, \"#7201a8\"], [0.3333333333333333, \"#9c179e\"], [0.4444444444444444, \"#bd3786\"], [0.5555555555555556, \"#d8576b\"], [0.6666666666666666, \"#ed7953\"], [0.7777777777777778, \"#fb9f3a\"], [0.8888888888888888, \"#fdca26\"], [1.0, \"#f0f921\"]], \"type\": \"histogram2dcontour\"}], \"mesh3d\": [{\"colorbar\": {\"outlinewidth\": 0, \"ticks\": \"\"}, \"type\": \"mesh3d\"}], \"parcoords\": [{\"line\": {\"colorbar\": {\"outlinewidth\": 0, \"ticks\": \"\"}}, \"type\": \"parcoords\"}], \"pie\": [{\"automargin\": true, \"type\": \"pie\"}], \"scatter\": [{\"marker\": {\"colorbar\": {\"outlinewidth\": 0, \"ticks\": \"\"}}, \"type\": \"scatter\"}], \"scatter3d\": [{\"line\": {\"colorbar\": {\"outlinewidth\": 0, \"ticks\": \"\"}}, \"marker\": {\"colorbar\": {\"outlinewidth\": 0, \"ticks\": \"\"}}, \"type\": \"scatter3d\"}], \"scattercarpet\": [{\"marker\": {\"colorbar\": {\"outlinewidth\": 0, \"ticks\": \"\"}}, \"type\": \"scattercarpet\"}], \"scattergeo\": [{\"marker\": {\"colorbar\": {\"outlinewidth\": 0, \"ticks\": \"\"}}, \"type\": \"scattergeo\"}], \"scattergl\": [{\"marker\": {\"colorbar\": {\"outlinewidth\": 0, \"ticks\": \"\"}}, \"type\": \"scattergl\"}], \"scattermapbox\": [{\"marker\": {\"colorbar\": {\"outlinewidth\": 0, \"ticks\": \"\"}}, \"type\": \"scattermapbox\"}], \"scatterpolar\": [{\"marker\": {\"colorbar\": {\"outlinewidth\": 0, \"ticks\": \"\"}}, \"type\": \"scatterpolar\"}], \"scatterpolargl\": [{\"marker\": {\"colorbar\": {\"outlinewidth\": 0, \"ticks\": \"\"}}, \"type\": \"scatterpolargl\"}], \"scatterternary\": [{\"marker\": {\"colorbar\": {\"outlinewidth\": 0, \"ticks\": \"\"}}, \"type\": \"scatterternary\"}], \"surface\": [{\"colorbar\": {\"outlinewidth\": 0, \"ticks\": \"\"}, \"colorscale\": [[0.0, \"#0d0887\"], [0.1111111111111111, \"#46039f\"], [0.2222222222222222, \"#7201a8\"], [0.3333333333333333, \"#9c179e\"], [0.4444444444444444, \"#bd3786\"], [0.5555555555555556, \"#d8576b\"], [0.6666666666666666, \"#ed7953\"], [0.7777777777777778, \"#fb9f3a\"], [0.8888888888888888, \"#fdca26\"], [1.0, \"#f0f921\"]], \"type\": \"surface\"}], \"table\": [{\"cells\": {\"fill\": {\"color\": \"#EBF0F8\"}, \"line\": {\"color\": \"white\"}}, \"header\": {\"fill\": {\"color\": \"#C8D4E3\"}, \"line\": {\"color\": \"white\"}}, \"type\": \"table\"}]}, \"layout\": {\"annotationdefaults\": {\"arrowcolor\": \"#2a3f5f\", \"arrowhead\": 0, \"arrowwidth\": 1}, \"coloraxis\": {\"colorbar\": {\"outlinewidth\": 0, \"ticks\": \"\"}}, \"colorscale\": {\"diverging\": [[0, \"#8e0152\"], [0.1, \"#c51b7d\"], [0.2, \"#de77ae\"], [0.3, \"#f1b6da\"], [0.4, \"#fde0ef\"], [0.5, \"#f7f7f7\"], [0.6, \"#e6f5d0\"], [0.7, \"#b8e186\"], [0.8, \"#7fbc41\"], [0.9, \"#4d9221\"], [1, \"#276419\"]], \"sequential\": [[0.0, \"#0d0887\"], [0.1111111111111111, \"#46039f\"], [0.2222222222222222, \"#7201a8\"], [0.3333333333333333, \"#9c179e\"], [0.4444444444444444, \"#bd3786\"], [0.5555555555555556, \"#d8576b\"], [0.6666666666666666, \"#ed7953\"], [0.7777777777777778, \"#fb9f3a\"], [0.8888888888888888, \"#fdca26\"], [1.0, \"#f0f921\"]], \"sequentialminus\": [[0.0, \"#0d0887\"], [0.1111111111111111, \"#46039f\"], [0.2222222222222222, \"#7201a8\"], [0.3333333333333333, \"#9c179e\"], [0.4444444444444444, \"#bd3786\"], [0.5555555555555556, \"#d8576b\"], [0.6666666666666666, \"#ed7953\"], [0.7777777777777778, \"#fb9f3a\"], [0.8888888888888888, \"#fdca26\"], [1.0, \"#f0f921\"]]}, \"colorway\": [\"#636efa\", \"#EF553B\", \"#00cc96\", \"#ab63fa\", \"#FFA15A\", \"#19d3f3\", \"#FF6692\", \"#B6E880\", \"#FF97FF\", \"#FECB52\"], \"font\": {\"color\": \"#2a3f5f\"}, \"geo\": {\"bgcolor\": \"white\", \"lakecolor\": \"white\", \"landcolor\": \"#E5ECF6\", \"showlakes\": true, \"showland\": true, \"subunitcolor\": \"white\"}, \"hoverlabel\": {\"align\": \"left\"}, \"hovermode\": \"closest\", \"mapbox\": {\"style\": \"light\"}, \"paper_bgcolor\": \"white\", \"plot_bgcolor\": \"#E5ECF6\", \"polar\": {\"angularaxis\": {\"gridcolor\": \"white\", \"linecolor\": \"white\", \"ticks\": \"\"}, \"bgcolor\": \"#E5ECF6\", \"radialaxis\": {\"gridcolor\": \"white\", \"linecolor\": \"white\", \"ticks\": \"\"}}, \"scene\": {\"xaxis\": {\"backgroundcolor\": \"#E5ECF6\", \"gridcolor\": \"white\", \"gridwidth\": 2, \"linecolor\": \"white\", \"showbackground\": true, \"ticks\": \"\", \"zerolinecolor\": \"white\"}, \"yaxis\": {\"backgroundcolor\": \"#E5ECF6\", \"gridcolor\": \"white\", \"gridwidth\": 2, \"linecolor\": \"white\", \"showbackground\": true, \"ticks\": \"\", \"zerolinecolor\": \"white\"}, \"zaxis\": {\"backgroundcolor\": \"#E5ECF6\", \"gridcolor\": \"white\", \"gridwidth\": 2, \"linecolor\": \"white\", \"showbackground\": true, \"ticks\": \"\", \"zerolinecolor\": \"white\"}}, \"shapedefaults\": {\"line\": {\"color\": \"#2a3f5f\"}}, \"ternary\": {\"aaxis\": {\"gridcolor\": \"white\", \"linecolor\": \"white\", \"ticks\": \"\"}, \"baxis\": {\"gridcolor\": \"white\", \"linecolor\": \"white\", \"ticks\": \"\"}, \"bgcolor\": \"#E5ECF6\", \"caxis\": {\"gridcolor\": \"white\", \"linecolor\": \"white\", \"ticks\": \"\"}}, \"title\": {\"x\": 0.05}, \"xaxis\": {\"automargin\": true, \"gridcolor\": \"white\", \"linecolor\": \"white\", \"ticks\": \"\", \"title\": {\"standoff\": 15}, \"zerolinecolor\": \"white\", \"zerolinewidth\": 2}, \"yaxis\": {\"automargin\": true, \"gridcolor\": \"white\", \"linecolor\": \"white\", \"ticks\": \"\", \"title\": {\"standoff\": 15}, \"zerolinecolor\": \"white\", \"zerolinewidth\": 2}}}, \"title\": {\"font\": {\"color\": \"#4D5663\"}}, \"xaxis\": {\"gridcolor\": \"#E1E5ED\", \"showgrid\": true, \"tickfont\": {\"color\": \"#4D5663\"}, \"title\": {\"font\": {\"color\": \"#4D5663\"}, \"text\": \"\"}, \"zerolinecolor\": \"#E1E5ED\"}, \"xaxis2\": {\"anchor\": \"y2\", \"gridcolor\": \"#E1E5ED\", \"showgrid\": true, \"showticklabels\": false, \"tickfont\": {\"color\": \"#4D5663\"}, \"title\": {\"font\": {\"color\": \"#4D5663\"}, \"text\": \"\"}, \"zerolinecolor\": \"#E1E5ED\"}, \"yaxis\": {\"domain\": [0.3, 1], \"gridcolor\": \"#E1E5ED\", \"showgrid\": true, \"tickfont\": {\"color\": \"#4D5663\"}, \"title\": {\"font\": {\"color\": \"#4D5663\"}, \"text\": \"\"}, \"zerolinecolor\": \"#E1E5ED\"}, \"yaxis2\": {\"domain\": [0, 0.25], \"gridcolor\": \"#E1E5ED\", \"showgrid\": true, \"tickfont\": {\"color\": \"#4D5663\"}, \"title\": {\"font\": {\"color\": \"#4D5663\"}, \"text\": \"Spread\"}, \"zerolinecolor\": \"#E1E5ED\"}},\n",
       "                        {\"showLink\": true, \"linkText\": \"Export to plot.ly\", \"plotlyServerURL\": \"https://plot.ly\", \"responsive\": true}\n",
       "                    ).then(function(){\n",
       "                            \n",
       "var gd = document.getElementById('c9c7a741-46f4-4142-9dca-0ff49feb3d5a');\n",
       "var x = new MutationObserver(function (mutations, observer) {{\n",
       "        var display = window.getComputedStyle(gd).display;\n",
       "        if (!display || display === 'none') {{\n",
       "            console.log([gd, 'removed!']);\n",
       "            Plotly.purge(gd);\n",
       "            observer.disconnect();\n",
       "        }}\n",
       "}});\n",
       "\n",
       "// Listen for the removal of the full notebook cells\n",
       "var notebookContainer = gd.closest('#notebook-container');\n",
       "if (notebookContainer) {{\n",
       "    x.observe(notebookContainer, {childList: true});\n",
       "}}\n",
       "\n",
       "// Listen for the clearing of the current output cell\n",
       "var outputEl = gd.closest('.output');\n",
       "if (outputEl) {{\n",
       "    x.observe(outputEl, {childList: true});\n",
       "}}\n",
       "\n",
       "                        })\n",
       "                };\n",
       "                });\n",
       "            </script>\n",
       "        </div>"
      ]
     },
     "metadata": {},
     "output_type": "display_data"
    }
   ],
   "source": [
    "df[['A','B']].iplot(kind='spread')"
   ]
  },
  {
   "cell_type": "markdown",
   "metadata": {},
   "source": [
    "## histogram"
   ]
  },
  {
   "cell_type": "code",
   "execution_count": 16,
   "metadata": {},
   "outputs": [
    {
     "data": {
      "application/vnd.plotly.v1+json": {
       "config": {
        "linkText": "Export to plot.ly",
        "plotlyServerURL": "https://plot.ly",
        "showLink": true
       },
       "data": [
        {
         "histfunc": "count",
         "histnorm": "",
         "marker": {
          "color": "rgba(255, 153, 51, 1.0)",
          "line": {
           "color": "#4D5663",
           "width": 1.3
          }
         },
         "name": "A",
         "nbinsx": 25,
         "opacity": 0.8,
         "orientation": "v",
         "type": "histogram",
         "x": [
          0.2317169047197511,
          0.878202859039861,
          0.8845456478701096,
          -0.8548417612934461,
          2.551212651230751,
          -0.9715711502953682,
          -1.4286297257729936,
          0.171781997371082,
          -0.26501974141230633,
          1.448118461903668,
          0.956200364077296,
          0.2798407221282476,
          1.2898124098548918,
          -0.1805503744770984,
          -0.9712934350712948,
          0.944830093864121,
          0.008383811079937189,
          0.06411389321304094,
          -3.0448966138834717,
          0.2071650308743917,
          1.264273231110705,
          0.009115961650350713,
          1.2032289481855762,
          0.1748885773766371,
          0.7705083291235805,
          -0.48405781692728334,
          -0.18229576272709286,
          -0.14480699019100146,
          1.6209270254850905,
          -0.03720051887920887,
          0.9189256626796768,
          1.7353795151389286,
          -1.4527591753072113,
          0.21084974842433038,
          -0.8424132209460763,
          0.8108010689563284,
          1.8849307915325269,
          -0.38236134284848067,
          -1.8509955384600723,
          -1.0043802296934055,
          -1.6700335882266961,
          -0.2662800200558214,
          -0.2816104466918759,
          1.9695064659323902,
          -1.3531333401005186,
          -1.8246487015463517,
          0.4161856133422532,
          -0.31404073402964167,
          0.3722783675048442,
          2.133303617040413,
          -2.4471958895748074,
          2.380719002345152,
          -0.3987430854316932,
          -0.014650312488142936,
          1.2256641691759387,
          1.7799074314307135,
          0.5487143518972628,
          0.02541417834825154,
          0.5381538643916343,
          2.4535136319212816,
          -0.023803262090310917,
          -0.6496924161052658,
          0.04478553352171316,
          0.5365061860661642,
          0.7233240221161904,
          -0.2522619818245915,
          -1.5789598702116967,
          0.274926573285316,
          -0.04484425533308025,
          -0.39533639004855775,
          -0.1539674894937371,
          0.5434894729148447,
          0.8297140683352305,
          2.1447937974739597,
          -0.8691243150874558,
          1.1913449442332948,
          0.23992685967080285,
          0.835519899053282,
          0.775127212877518,
          0.8179378516059655,
          0.6767887621858589,
          -0.28668771741995064,
          1.2664829486946523,
          0.036890380042112085,
          1.5343541032540513,
          -1.3328073199877764,
          -0.20674743397348924,
          -0.8547345166834612,
          1.0274052102743279,
          -0.6231463227343251,
          -0.6202269343992488,
          -1.009586728733132,
          0.8198648674064811,
          -0.04155656422413667,
          -0.2858429069412091,
          0.5013344026955628,
          -0.5205537443270363,
          0.1794569091055445,
          -0.00679461552715747,
          -1.2871461273377063
         ]
        }
       ],
       "layout": {
        "barmode": "overlay",
        "legend": {
         "bgcolor": "#F5F6F9",
         "font": {
          "color": "#4D5663"
         }
        },
        "paper_bgcolor": "#F5F6F9",
        "plot_bgcolor": "#F5F6F9",
        "template": {
         "data": {
          "bar": [
           {
            "error_x": {
             "color": "#2a3f5f"
            },
            "error_y": {
             "color": "#2a3f5f"
            },
            "marker": {
             "line": {
              "color": "#E5ECF6",
              "width": 0.5
             }
            },
            "type": "bar"
           }
          ],
          "barpolar": [
           {
            "marker": {
             "line": {
              "color": "#E5ECF6",
              "width": 0.5
             }
            },
            "type": "barpolar"
           }
          ],
          "carpet": [
           {
            "aaxis": {
             "endlinecolor": "#2a3f5f",
             "gridcolor": "white",
             "linecolor": "white",
             "minorgridcolor": "white",
             "startlinecolor": "#2a3f5f"
            },
            "baxis": {
             "endlinecolor": "#2a3f5f",
             "gridcolor": "white",
             "linecolor": "white",
             "minorgridcolor": "white",
             "startlinecolor": "#2a3f5f"
            },
            "type": "carpet"
           }
          ],
          "choropleth": [
           {
            "colorbar": {
             "outlinewidth": 0,
             "ticks": ""
            },
            "type": "choropleth"
           }
          ],
          "contour": [
           {
            "colorbar": {
             "outlinewidth": 0,
             "ticks": ""
            },
            "colorscale": [
             [
              0,
              "#0d0887"
             ],
             [
              0.1111111111111111,
              "#46039f"
             ],
             [
              0.2222222222222222,
              "#7201a8"
             ],
             [
              0.3333333333333333,
              "#9c179e"
             ],
             [
              0.4444444444444444,
              "#bd3786"
             ],
             [
              0.5555555555555556,
              "#d8576b"
             ],
             [
              0.6666666666666666,
              "#ed7953"
             ],
             [
              0.7777777777777778,
              "#fb9f3a"
             ],
             [
              0.8888888888888888,
              "#fdca26"
             ],
             [
              1,
              "#f0f921"
             ]
            ],
            "type": "contour"
           }
          ],
          "contourcarpet": [
           {
            "colorbar": {
             "outlinewidth": 0,
             "ticks": ""
            },
            "type": "contourcarpet"
           }
          ],
          "heatmap": [
           {
            "colorbar": {
             "outlinewidth": 0,
             "ticks": ""
            },
            "colorscale": [
             [
              0,
              "#0d0887"
             ],
             [
              0.1111111111111111,
              "#46039f"
             ],
             [
              0.2222222222222222,
              "#7201a8"
             ],
             [
              0.3333333333333333,
              "#9c179e"
             ],
             [
              0.4444444444444444,
              "#bd3786"
             ],
             [
              0.5555555555555556,
              "#d8576b"
             ],
             [
              0.6666666666666666,
              "#ed7953"
             ],
             [
              0.7777777777777778,
              "#fb9f3a"
             ],
             [
              0.8888888888888888,
              "#fdca26"
             ],
             [
              1,
              "#f0f921"
             ]
            ],
            "type": "heatmap"
           }
          ],
          "heatmapgl": [
           {
            "colorbar": {
             "outlinewidth": 0,
             "ticks": ""
            },
            "colorscale": [
             [
              0,
              "#0d0887"
             ],
             [
              0.1111111111111111,
              "#46039f"
             ],
             [
              0.2222222222222222,
              "#7201a8"
             ],
             [
              0.3333333333333333,
              "#9c179e"
             ],
             [
              0.4444444444444444,
              "#bd3786"
             ],
             [
              0.5555555555555556,
              "#d8576b"
             ],
             [
              0.6666666666666666,
              "#ed7953"
             ],
             [
              0.7777777777777778,
              "#fb9f3a"
             ],
             [
              0.8888888888888888,
              "#fdca26"
             ],
             [
              1,
              "#f0f921"
             ]
            ],
            "type": "heatmapgl"
           }
          ],
          "histogram": [
           {
            "marker": {
             "colorbar": {
              "outlinewidth": 0,
              "ticks": ""
             }
            },
            "type": "histogram"
           }
          ],
          "histogram2d": [
           {
            "colorbar": {
             "outlinewidth": 0,
             "ticks": ""
            },
            "colorscale": [
             [
              0,
              "#0d0887"
             ],
             [
              0.1111111111111111,
              "#46039f"
             ],
             [
              0.2222222222222222,
              "#7201a8"
             ],
             [
              0.3333333333333333,
              "#9c179e"
             ],
             [
              0.4444444444444444,
              "#bd3786"
             ],
             [
              0.5555555555555556,
              "#d8576b"
             ],
             [
              0.6666666666666666,
              "#ed7953"
             ],
             [
              0.7777777777777778,
              "#fb9f3a"
             ],
             [
              0.8888888888888888,
              "#fdca26"
             ],
             [
              1,
              "#f0f921"
             ]
            ],
            "type": "histogram2d"
           }
          ],
          "histogram2dcontour": [
           {
            "colorbar": {
             "outlinewidth": 0,
             "ticks": ""
            },
            "colorscale": [
             [
              0,
              "#0d0887"
             ],
             [
              0.1111111111111111,
              "#46039f"
             ],
             [
              0.2222222222222222,
              "#7201a8"
             ],
             [
              0.3333333333333333,
              "#9c179e"
             ],
             [
              0.4444444444444444,
              "#bd3786"
             ],
             [
              0.5555555555555556,
              "#d8576b"
             ],
             [
              0.6666666666666666,
              "#ed7953"
             ],
             [
              0.7777777777777778,
              "#fb9f3a"
             ],
             [
              0.8888888888888888,
              "#fdca26"
             ],
             [
              1,
              "#f0f921"
             ]
            ],
            "type": "histogram2dcontour"
           }
          ],
          "mesh3d": [
           {
            "colorbar": {
             "outlinewidth": 0,
             "ticks": ""
            },
            "type": "mesh3d"
           }
          ],
          "parcoords": [
           {
            "line": {
             "colorbar": {
              "outlinewidth": 0,
              "ticks": ""
             }
            },
            "type": "parcoords"
           }
          ],
          "pie": [
           {
            "automargin": true,
            "type": "pie"
           }
          ],
          "scatter": [
           {
            "marker": {
             "colorbar": {
              "outlinewidth": 0,
              "ticks": ""
             }
            },
            "type": "scatter"
           }
          ],
          "scatter3d": [
           {
            "line": {
             "colorbar": {
              "outlinewidth": 0,
              "ticks": ""
             }
            },
            "marker": {
             "colorbar": {
              "outlinewidth": 0,
              "ticks": ""
             }
            },
            "type": "scatter3d"
           }
          ],
          "scattercarpet": [
           {
            "marker": {
             "colorbar": {
              "outlinewidth": 0,
              "ticks": ""
             }
            },
            "type": "scattercarpet"
           }
          ],
          "scattergeo": [
           {
            "marker": {
             "colorbar": {
              "outlinewidth": 0,
              "ticks": ""
             }
            },
            "type": "scattergeo"
           }
          ],
          "scattergl": [
           {
            "marker": {
             "colorbar": {
              "outlinewidth": 0,
              "ticks": ""
             }
            },
            "type": "scattergl"
           }
          ],
          "scattermapbox": [
           {
            "marker": {
             "colorbar": {
              "outlinewidth": 0,
              "ticks": ""
             }
            },
            "type": "scattermapbox"
           }
          ],
          "scatterpolar": [
           {
            "marker": {
             "colorbar": {
              "outlinewidth": 0,
              "ticks": ""
             }
            },
            "type": "scatterpolar"
           }
          ],
          "scatterpolargl": [
           {
            "marker": {
             "colorbar": {
              "outlinewidth": 0,
              "ticks": ""
             }
            },
            "type": "scatterpolargl"
           }
          ],
          "scatterternary": [
           {
            "marker": {
             "colorbar": {
              "outlinewidth": 0,
              "ticks": ""
             }
            },
            "type": "scatterternary"
           }
          ],
          "surface": [
           {
            "colorbar": {
             "outlinewidth": 0,
             "ticks": ""
            },
            "colorscale": [
             [
              0,
              "#0d0887"
             ],
             [
              0.1111111111111111,
              "#46039f"
             ],
             [
              0.2222222222222222,
              "#7201a8"
             ],
             [
              0.3333333333333333,
              "#9c179e"
             ],
             [
              0.4444444444444444,
              "#bd3786"
             ],
             [
              0.5555555555555556,
              "#d8576b"
             ],
             [
              0.6666666666666666,
              "#ed7953"
             ],
             [
              0.7777777777777778,
              "#fb9f3a"
             ],
             [
              0.8888888888888888,
              "#fdca26"
             ],
             [
              1,
              "#f0f921"
             ]
            ],
            "type": "surface"
           }
          ],
          "table": [
           {
            "cells": {
             "fill": {
              "color": "#EBF0F8"
             },
             "line": {
              "color": "white"
             }
            },
            "header": {
             "fill": {
              "color": "#C8D4E3"
             },
             "line": {
              "color": "white"
             }
            },
            "type": "table"
           }
          ]
         },
         "layout": {
          "annotationdefaults": {
           "arrowcolor": "#2a3f5f",
           "arrowhead": 0,
           "arrowwidth": 1
          },
          "coloraxis": {
           "colorbar": {
            "outlinewidth": 0,
            "ticks": ""
           }
          },
          "colorscale": {
           "diverging": [
            [
             0,
             "#8e0152"
            ],
            [
             0.1,
             "#c51b7d"
            ],
            [
             0.2,
             "#de77ae"
            ],
            [
             0.3,
             "#f1b6da"
            ],
            [
             0.4,
             "#fde0ef"
            ],
            [
             0.5,
             "#f7f7f7"
            ],
            [
             0.6,
             "#e6f5d0"
            ],
            [
             0.7,
             "#b8e186"
            ],
            [
             0.8,
             "#7fbc41"
            ],
            [
             0.9,
             "#4d9221"
            ],
            [
             1,
             "#276419"
            ]
           ],
           "sequential": [
            [
             0,
             "#0d0887"
            ],
            [
             0.1111111111111111,
             "#46039f"
            ],
            [
             0.2222222222222222,
             "#7201a8"
            ],
            [
             0.3333333333333333,
             "#9c179e"
            ],
            [
             0.4444444444444444,
             "#bd3786"
            ],
            [
             0.5555555555555556,
             "#d8576b"
            ],
            [
             0.6666666666666666,
             "#ed7953"
            ],
            [
             0.7777777777777778,
             "#fb9f3a"
            ],
            [
             0.8888888888888888,
             "#fdca26"
            ],
            [
             1,
             "#f0f921"
            ]
           ],
           "sequentialminus": [
            [
             0,
             "#0d0887"
            ],
            [
             0.1111111111111111,
             "#46039f"
            ],
            [
             0.2222222222222222,
             "#7201a8"
            ],
            [
             0.3333333333333333,
             "#9c179e"
            ],
            [
             0.4444444444444444,
             "#bd3786"
            ],
            [
             0.5555555555555556,
             "#d8576b"
            ],
            [
             0.6666666666666666,
             "#ed7953"
            ],
            [
             0.7777777777777778,
             "#fb9f3a"
            ],
            [
             0.8888888888888888,
             "#fdca26"
            ],
            [
             1,
             "#f0f921"
            ]
           ]
          },
          "colorway": [
           "#636efa",
           "#EF553B",
           "#00cc96",
           "#ab63fa",
           "#FFA15A",
           "#19d3f3",
           "#FF6692",
           "#B6E880",
           "#FF97FF",
           "#FECB52"
          ],
          "font": {
           "color": "#2a3f5f"
          },
          "geo": {
           "bgcolor": "white",
           "lakecolor": "white",
           "landcolor": "#E5ECF6",
           "showlakes": true,
           "showland": true,
           "subunitcolor": "white"
          },
          "hoverlabel": {
           "align": "left"
          },
          "hovermode": "closest",
          "mapbox": {
           "style": "light"
          },
          "paper_bgcolor": "white",
          "plot_bgcolor": "#E5ECF6",
          "polar": {
           "angularaxis": {
            "gridcolor": "white",
            "linecolor": "white",
            "ticks": ""
           },
           "bgcolor": "#E5ECF6",
           "radialaxis": {
            "gridcolor": "white",
            "linecolor": "white",
            "ticks": ""
           }
          },
          "scene": {
           "xaxis": {
            "backgroundcolor": "#E5ECF6",
            "gridcolor": "white",
            "gridwidth": 2,
            "linecolor": "white",
            "showbackground": true,
            "ticks": "",
            "zerolinecolor": "white"
           },
           "yaxis": {
            "backgroundcolor": "#E5ECF6",
            "gridcolor": "white",
            "gridwidth": 2,
            "linecolor": "white",
            "showbackground": true,
            "ticks": "",
            "zerolinecolor": "white"
           },
           "zaxis": {
            "backgroundcolor": "#E5ECF6",
            "gridcolor": "white",
            "gridwidth": 2,
            "linecolor": "white",
            "showbackground": true,
            "ticks": "",
            "zerolinecolor": "white"
           }
          },
          "shapedefaults": {
           "line": {
            "color": "#2a3f5f"
           }
          },
          "ternary": {
           "aaxis": {
            "gridcolor": "white",
            "linecolor": "white",
            "ticks": ""
           },
           "baxis": {
            "gridcolor": "white",
            "linecolor": "white",
            "ticks": ""
           },
           "bgcolor": "#E5ECF6",
           "caxis": {
            "gridcolor": "white",
            "linecolor": "white",
            "ticks": ""
           }
          },
          "title": {
           "x": 0.05
          },
          "xaxis": {
           "automargin": true,
           "gridcolor": "white",
           "linecolor": "white",
           "ticks": "",
           "title": {
            "standoff": 15
           },
           "zerolinecolor": "white",
           "zerolinewidth": 2
          },
          "yaxis": {
           "automargin": true,
           "gridcolor": "white",
           "linecolor": "white",
           "ticks": "",
           "title": {
            "standoff": 15
           },
           "zerolinecolor": "white",
           "zerolinewidth": 2
          }
         }
        },
        "title": {
         "font": {
          "color": "#4D5663"
         }
        },
        "xaxis": {
         "gridcolor": "#E1E5ED",
         "showgrid": true,
         "tickfont": {
          "color": "#4D5663"
         },
         "title": {
          "font": {
           "color": "#4D5663"
          },
          "text": ""
         },
         "zerolinecolor": "#E1E5ED"
        },
        "yaxis": {
         "gridcolor": "#E1E5ED",
         "showgrid": true,
         "tickfont": {
          "color": "#4D5663"
         },
         "title": {
          "font": {
           "color": "#4D5663"
          },
          "text": ""
         },
         "zerolinecolor": "#E1E5ED"
        }
       }
      },
      "text/html": [
       "<div>\n",
       "        \n",
       "        \n",
       "            <div id=\"3c8404d8-1796-408d-ab1d-8ef74136b795\" class=\"plotly-graph-div\" style=\"height:525px; width:100%;\"></div>\n",
       "            <script type=\"text/javascript\">\n",
       "                require([\"plotly\"], function(Plotly) {\n",
       "                    window.PLOTLYENV=window.PLOTLYENV || {};\n",
       "                    window.PLOTLYENV.BASE_URL='https://plot.ly';\n",
       "                    \n",
       "                if (document.getElementById(\"3c8404d8-1796-408d-ab1d-8ef74136b795\")) {\n",
       "                    Plotly.newPlot(\n",
       "                        '3c8404d8-1796-408d-ab1d-8ef74136b795',\n",
       "                        [{\"histfunc\": \"count\", \"histnorm\": \"\", \"marker\": {\"color\": \"rgba(255, 153, 51, 1.0)\", \"line\": {\"color\": \"#4D5663\", \"width\": 1.3}}, \"name\": \"A\", \"nbinsx\": 25, \"opacity\": 0.8, \"orientation\": \"v\", \"type\": \"histogram\", \"x\": [0.2317169047197511, 0.878202859039861, 0.8845456478701096, -0.8548417612934461, 2.551212651230751, -0.9715711502953682, -1.4286297257729936, 0.171781997371082, -0.26501974141230633, 1.448118461903668, 0.956200364077296, 0.2798407221282476, 1.2898124098548918, -0.1805503744770984, -0.9712934350712948, 0.944830093864121, 0.008383811079937189, 0.06411389321304094, -3.0448966138834717, 0.2071650308743917, 1.264273231110705, 0.009115961650350713, 1.2032289481855762, 0.1748885773766371, 0.7705083291235805, -0.48405781692728334, -0.18229576272709286, -0.14480699019100146, 1.6209270254850905, -0.03720051887920887, 0.9189256626796768, 1.7353795151389286, -1.4527591753072113, 0.21084974842433038, -0.8424132209460763, 0.8108010689563284, 1.8849307915325269, -0.38236134284848067, -1.8509955384600723, -1.0043802296934055, -1.6700335882266961, -0.2662800200558214, -0.2816104466918759, 1.9695064659323902, -1.3531333401005186, -1.8246487015463517, 0.4161856133422532, -0.31404073402964167, 0.3722783675048442, 2.133303617040413, -2.4471958895748074, 2.380719002345152, -0.3987430854316932, -0.014650312488142936, 1.2256641691759387, 1.7799074314307135, 0.5487143518972628, 0.02541417834825154, 0.5381538643916343, 2.4535136319212816, -0.023803262090310917, -0.6496924161052658, 0.04478553352171316, 0.5365061860661642, 0.7233240221161904, -0.2522619818245915, -1.5789598702116967, 0.274926573285316, -0.04484425533308025, -0.39533639004855775, -0.1539674894937371, 0.5434894729148447, 0.8297140683352305, 2.1447937974739597, -0.8691243150874558, 1.1913449442332948, 0.23992685967080285, 0.835519899053282, 0.775127212877518, 0.8179378516059655, 0.6767887621858589, -0.28668771741995064, 1.2664829486946523, 0.036890380042112085, 1.5343541032540513, -1.3328073199877764, -0.20674743397348924, -0.8547345166834612, 1.0274052102743279, -0.6231463227343251, -0.6202269343992488, -1.009586728733132, 0.8198648674064811, -0.04155656422413667, -0.2858429069412091, 0.5013344026955628, -0.5205537443270363, 0.1794569091055445, -0.00679461552715747, -1.2871461273377063]}],\n",
       "                        {\"barmode\": \"overlay\", \"legend\": {\"bgcolor\": \"#F5F6F9\", \"font\": {\"color\": \"#4D5663\"}}, \"paper_bgcolor\": \"#F5F6F9\", \"plot_bgcolor\": \"#F5F6F9\", \"template\": {\"data\": {\"bar\": [{\"error_x\": {\"color\": \"#2a3f5f\"}, \"error_y\": {\"color\": \"#2a3f5f\"}, \"marker\": {\"line\": {\"color\": \"#E5ECF6\", \"width\": 0.5}}, \"type\": \"bar\"}], \"barpolar\": [{\"marker\": {\"line\": {\"color\": \"#E5ECF6\", \"width\": 0.5}}, \"type\": \"barpolar\"}], \"carpet\": [{\"aaxis\": {\"endlinecolor\": \"#2a3f5f\", \"gridcolor\": \"white\", \"linecolor\": \"white\", \"minorgridcolor\": \"white\", \"startlinecolor\": \"#2a3f5f\"}, \"baxis\": {\"endlinecolor\": \"#2a3f5f\", \"gridcolor\": \"white\", \"linecolor\": \"white\", \"minorgridcolor\": \"white\", \"startlinecolor\": \"#2a3f5f\"}, \"type\": \"carpet\"}], \"choropleth\": [{\"colorbar\": {\"outlinewidth\": 0, \"ticks\": \"\"}, \"type\": \"choropleth\"}], \"contour\": [{\"colorbar\": {\"outlinewidth\": 0, \"ticks\": \"\"}, \"colorscale\": [[0.0, \"#0d0887\"], [0.1111111111111111, \"#46039f\"], [0.2222222222222222, \"#7201a8\"], [0.3333333333333333, \"#9c179e\"], [0.4444444444444444, \"#bd3786\"], [0.5555555555555556, \"#d8576b\"], [0.6666666666666666, \"#ed7953\"], [0.7777777777777778, \"#fb9f3a\"], [0.8888888888888888, \"#fdca26\"], [1.0, \"#f0f921\"]], \"type\": \"contour\"}], \"contourcarpet\": [{\"colorbar\": {\"outlinewidth\": 0, \"ticks\": \"\"}, \"type\": \"contourcarpet\"}], \"heatmap\": [{\"colorbar\": {\"outlinewidth\": 0, \"ticks\": \"\"}, \"colorscale\": [[0.0, \"#0d0887\"], [0.1111111111111111, \"#46039f\"], [0.2222222222222222, \"#7201a8\"], [0.3333333333333333, \"#9c179e\"], [0.4444444444444444, \"#bd3786\"], [0.5555555555555556, \"#d8576b\"], [0.6666666666666666, \"#ed7953\"], [0.7777777777777778, \"#fb9f3a\"], [0.8888888888888888, \"#fdca26\"], [1.0, \"#f0f921\"]], \"type\": \"heatmap\"}], \"heatmapgl\": [{\"colorbar\": {\"outlinewidth\": 0, \"ticks\": \"\"}, \"colorscale\": [[0.0, \"#0d0887\"], [0.1111111111111111, \"#46039f\"], [0.2222222222222222, \"#7201a8\"], [0.3333333333333333, \"#9c179e\"], [0.4444444444444444, \"#bd3786\"], [0.5555555555555556, \"#d8576b\"], [0.6666666666666666, \"#ed7953\"], [0.7777777777777778, \"#fb9f3a\"], [0.8888888888888888, \"#fdca26\"], [1.0, \"#f0f921\"]], \"type\": \"heatmapgl\"}], \"histogram\": [{\"marker\": {\"colorbar\": {\"outlinewidth\": 0, \"ticks\": \"\"}}, \"type\": \"histogram\"}], \"histogram2d\": [{\"colorbar\": {\"outlinewidth\": 0, \"ticks\": \"\"}, \"colorscale\": [[0.0, \"#0d0887\"], [0.1111111111111111, \"#46039f\"], [0.2222222222222222, \"#7201a8\"], [0.3333333333333333, \"#9c179e\"], [0.4444444444444444, \"#bd3786\"], [0.5555555555555556, \"#d8576b\"], [0.6666666666666666, \"#ed7953\"], [0.7777777777777778, \"#fb9f3a\"], [0.8888888888888888, \"#fdca26\"], [1.0, \"#f0f921\"]], \"type\": \"histogram2d\"}], \"histogram2dcontour\": [{\"colorbar\": {\"outlinewidth\": 0, \"ticks\": \"\"}, \"colorscale\": [[0.0, \"#0d0887\"], [0.1111111111111111, \"#46039f\"], [0.2222222222222222, \"#7201a8\"], [0.3333333333333333, \"#9c179e\"], [0.4444444444444444, \"#bd3786\"], [0.5555555555555556, \"#d8576b\"], [0.6666666666666666, \"#ed7953\"], [0.7777777777777778, \"#fb9f3a\"], [0.8888888888888888, \"#fdca26\"], [1.0, \"#f0f921\"]], \"type\": \"histogram2dcontour\"}], \"mesh3d\": [{\"colorbar\": {\"outlinewidth\": 0, \"ticks\": \"\"}, \"type\": \"mesh3d\"}], \"parcoords\": [{\"line\": {\"colorbar\": {\"outlinewidth\": 0, \"ticks\": \"\"}}, \"type\": \"parcoords\"}], \"pie\": [{\"automargin\": true, \"type\": \"pie\"}], \"scatter\": [{\"marker\": {\"colorbar\": {\"outlinewidth\": 0, \"ticks\": \"\"}}, \"type\": \"scatter\"}], \"scatter3d\": [{\"line\": {\"colorbar\": {\"outlinewidth\": 0, \"ticks\": \"\"}}, \"marker\": {\"colorbar\": {\"outlinewidth\": 0, \"ticks\": \"\"}}, \"type\": \"scatter3d\"}], \"scattercarpet\": [{\"marker\": {\"colorbar\": {\"outlinewidth\": 0, \"ticks\": \"\"}}, \"type\": \"scattercarpet\"}], \"scattergeo\": [{\"marker\": {\"colorbar\": {\"outlinewidth\": 0, \"ticks\": \"\"}}, \"type\": \"scattergeo\"}], \"scattergl\": [{\"marker\": {\"colorbar\": {\"outlinewidth\": 0, \"ticks\": \"\"}}, \"type\": \"scattergl\"}], \"scattermapbox\": [{\"marker\": {\"colorbar\": {\"outlinewidth\": 0, \"ticks\": \"\"}}, \"type\": \"scattermapbox\"}], \"scatterpolar\": [{\"marker\": {\"colorbar\": {\"outlinewidth\": 0, \"ticks\": \"\"}}, \"type\": \"scatterpolar\"}], \"scatterpolargl\": [{\"marker\": {\"colorbar\": {\"outlinewidth\": 0, \"ticks\": \"\"}}, \"type\": \"scatterpolargl\"}], \"scatterternary\": [{\"marker\": {\"colorbar\": {\"outlinewidth\": 0, \"ticks\": \"\"}}, \"type\": \"scatterternary\"}], \"surface\": [{\"colorbar\": {\"outlinewidth\": 0, \"ticks\": \"\"}, \"colorscale\": [[0.0, \"#0d0887\"], [0.1111111111111111, \"#46039f\"], [0.2222222222222222, \"#7201a8\"], [0.3333333333333333, \"#9c179e\"], [0.4444444444444444, \"#bd3786\"], [0.5555555555555556, \"#d8576b\"], [0.6666666666666666, \"#ed7953\"], [0.7777777777777778, \"#fb9f3a\"], [0.8888888888888888, \"#fdca26\"], [1.0, \"#f0f921\"]], \"type\": \"surface\"}], \"table\": [{\"cells\": {\"fill\": {\"color\": \"#EBF0F8\"}, \"line\": {\"color\": \"white\"}}, \"header\": {\"fill\": {\"color\": \"#C8D4E3\"}, \"line\": {\"color\": \"white\"}}, \"type\": \"table\"}]}, \"layout\": {\"annotationdefaults\": {\"arrowcolor\": \"#2a3f5f\", \"arrowhead\": 0, \"arrowwidth\": 1}, \"coloraxis\": {\"colorbar\": {\"outlinewidth\": 0, \"ticks\": \"\"}}, \"colorscale\": {\"diverging\": [[0, \"#8e0152\"], [0.1, \"#c51b7d\"], [0.2, \"#de77ae\"], [0.3, \"#f1b6da\"], [0.4, \"#fde0ef\"], [0.5, \"#f7f7f7\"], [0.6, \"#e6f5d0\"], [0.7, \"#b8e186\"], [0.8, \"#7fbc41\"], [0.9, \"#4d9221\"], [1, \"#276419\"]], \"sequential\": [[0.0, \"#0d0887\"], [0.1111111111111111, \"#46039f\"], [0.2222222222222222, \"#7201a8\"], [0.3333333333333333, \"#9c179e\"], [0.4444444444444444, \"#bd3786\"], [0.5555555555555556, \"#d8576b\"], [0.6666666666666666, \"#ed7953\"], [0.7777777777777778, \"#fb9f3a\"], [0.8888888888888888, \"#fdca26\"], [1.0, \"#f0f921\"]], \"sequentialminus\": [[0.0, \"#0d0887\"], [0.1111111111111111, \"#46039f\"], [0.2222222222222222, \"#7201a8\"], [0.3333333333333333, \"#9c179e\"], [0.4444444444444444, \"#bd3786\"], [0.5555555555555556, \"#d8576b\"], [0.6666666666666666, \"#ed7953\"], [0.7777777777777778, \"#fb9f3a\"], [0.8888888888888888, \"#fdca26\"], [1.0, \"#f0f921\"]]}, \"colorway\": [\"#636efa\", \"#EF553B\", \"#00cc96\", \"#ab63fa\", \"#FFA15A\", \"#19d3f3\", \"#FF6692\", \"#B6E880\", \"#FF97FF\", \"#FECB52\"], \"font\": {\"color\": \"#2a3f5f\"}, \"geo\": {\"bgcolor\": \"white\", \"lakecolor\": \"white\", \"landcolor\": \"#E5ECF6\", \"showlakes\": true, \"showland\": true, \"subunitcolor\": \"white\"}, \"hoverlabel\": {\"align\": \"left\"}, \"hovermode\": \"closest\", \"mapbox\": {\"style\": \"light\"}, \"paper_bgcolor\": \"white\", \"plot_bgcolor\": \"#E5ECF6\", \"polar\": {\"angularaxis\": {\"gridcolor\": \"white\", \"linecolor\": \"white\", \"ticks\": \"\"}, \"bgcolor\": \"#E5ECF6\", \"radialaxis\": {\"gridcolor\": \"white\", \"linecolor\": \"white\", \"ticks\": \"\"}}, \"scene\": {\"xaxis\": {\"backgroundcolor\": \"#E5ECF6\", \"gridcolor\": \"white\", \"gridwidth\": 2, \"linecolor\": \"white\", \"showbackground\": true, \"ticks\": \"\", \"zerolinecolor\": \"white\"}, \"yaxis\": {\"backgroundcolor\": \"#E5ECF6\", \"gridcolor\": \"white\", \"gridwidth\": 2, \"linecolor\": \"white\", \"showbackground\": true, \"ticks\": \"\", \"zerolinecolor\": \"white\"}, \"zaxis\": {\"backgroundcolor\": \"#E5ECF6\", \"gridcolor\": \"white\", \"gridwidth\": 2, \"linecolor\": \"white\", \"showbackground\": true, \"ticks\": \"\", \"zerolinecolor\": \"white\"}}, \"shapedefaults\": {\"line\": {\"color\": \"#2a3f5f\"}}, \"ternary\": {\"aaxis\": {\"gridcolor\": \"white\", \"linecolor\": \"white\", \"ticks\": \"\"}, \"baxis\": {\"gridcolor\": \"white\", \"linecolor\": \"white\", \"ticks\": \"\"}, \"bgcolor\": \"#E5ECF6\", \"caxis\": {\"gridcolor\": \"white\", \"linecolor\": \"white\", \"ticks\": \"\"}}, \"title\": {\"x\": 0.05}, \"xaxis\": {\"automargin\": true, \"gridcolor\": \"white\", \"linecolor\": \"white\", \"ticks\": \"\", \"title\": {\"standoff\": 15}, \"zerolinecolor\": \"white\", \"zerolinewidth\": 2}, \"yaxis\": {\"automargin\": true, \"gridcolor\": \"white\", \"linecolor\": \"white\", \"ticks\": \"\", \"title\": {\"standoff\": 15}, \"zerolinecolor\": \"white\", \"zerolinewidth\": 2}}}, \"title\": {\"font\": {\"color\": \"#4D5663\"}}, \"xaxis\": {\"gridcolor\": \"#E1E5ED\", \"showgrid\": true, \"tickfont\": {\"color\": \"#4D5663\"}, \"title\": {\"font\": {\"color\": \"#4D5663\"}, \"text\": \"\"}, \"zerolinecolor\": \"#E1E5ED\"}, \"yaxis\": {\"gridcolor\": \"#E1E5ED\", \"showgrid\": true, \"tickfont\": {\"color\": \"#4D5663\"}, \"title\": {\"font\": {\"color\": \"#4D5663\"}, \"text\": \"\"}, \"zerolinecolor\": \"#E1E5ED\"}},\n",
       "                        {\"showLink\": true, \"linkText\": \"Export to plot.ly\", \"plotlyServerURL\": \"https://plot.ly\", \"responsive\": true}\n",
       "                    ).then(function(){\n",
       "                            \n",
       "var gd = document.getElementById('3c8404d8-1796-408d-ab1d-8ef74136b795');\n",
       "var x = new MutationObserver(function (mutations, observer) {{\n",
       "        var display = window.getComputedStyle(gd).display;\n",
       "        if (!display || display === 'none') {{\n",
       "            console.log([gd, 'removed!']);\n",
       "            Plotly.purge(gd);\n",
       "            observer.disconnect();\n",
       "        }}\n",
       "}});\n",
       "\n",
       "// Listen for the removal of the full notebook cells\n",
       "var notebookContainer = gd.closest('#notebook-container');\n",
       "if (notebookContainer) {{\n",
       "    x.observe(notebookContainer, {childList: true});\n",
       "}}\n",
       "\n",
       "// Listen for the clearing of the current output cell\n",
       "var outputEl = gd.closest('.output');\n",
       "if (outputEl) {{\n",
       "    x.observe(outputEl, {childList: true});\n",
       "}}\n",
       "\n",
       "                        })\n",
       "                };\n",
       "                });\n",
       "            </script>\n",
       "        </div>"
      ]
     },
     "metadata": {},
     "output_type": "display_data"
    }
   ],
   "source": [
    "df['A'].iplot(kind='hist',bins=25)"
   ]
  },
  {
   "cell_type": "code",
   "execution_count": 17,
   "metadata": {},
   "outputs": [
    {
     "data": {
      "application/vnd.plotly.v1+json": {
       "config": {
        "linkText": "Export to plot.ly",
        "plotlyServerURL": "https://plot.ly",
        "showLink": true
       },
       "data": [
        {
         "marker": {
          "color": [
           "rgb(255, 153, 51)",
           "rgb(55, 128, 191)",
           "rgb(50, 171, 96)",
           "rgb(128, 0, 128)",
           "rgb(219, 64, 82)",
           "rgb(0, 128, 128)",
           "rgb(255, 255, 51)",
           "rgb(128, 128, 0)",
           "rgb(251, 128, 114)",
           "rgb(128, 177, 211)"
          ],
          "line": {
           "width": 1.3
          },
          "size": [
           93,
           32,
           84,
           87,
           76,
           62,
           69,
           63,
           90,
           111,
           62,
           85,
           94,
           64,
           64,
           39,
           75,
           93,
           82,
           95,
           55,
           92,
           96,
           59,
           95,
           93,
           87,
           70,
           105,
           71,
           62,
           61,
           59,
           61,
           94,
           56,
           78,
           96,
           70,
           45,
           75,
           63,
           78,
           51,
           71,
           68,
           81,
           64,
           99,
           73,
           72,
           82,
           59,
           78,
           61,
           39,
           71,
           69,
           62,
           65,
           70,
           97,
           63,
           50,
           58,
           61,
           70,
           71,
           51,
           74,
           70,
           58,
           42,
           77,
           58,
           54,
           60,
           12,
           75,
           74,
           59,
           106,
           82,
           65,
           68,
           82,
           44,
           60,
           76,
           71,
           112,
           58,
           76,
           77,
           39,
           52,
           63,
           93,
           106,
           42
          ],
          "symbol": "circle"
         },
         "mode": "markers",
         "text": "",
         "type": "scatter",
         "x": [
          0.2317169047197511,
          0.878202859039861,
          0.8845456478701096,
          -0.8548417612934461,
          2.551212651230751,
          -0.9715711502953682,
          -1.4286297257729936,
          0.171781997371082,
          -0.26501974141230633,
          1.448118461903668,
          0.956200364077296,
          0.2798407221282476,
          1.2898124098548918,
          -0.1805503744770984,
          -0.9712934350712948,
          0.944830093864121,
          0.008383811079937189,
          0.06411389321304094,
          -3.0448966138834717,
          0.2071650308743917,
          1.264273231110705,
          0.009115961650350713,
          1.2032289481855762,
          0.1748885773766371,
          0.7705083291235805,
          -0.48405781692728334,
          -0.18229576272709286,
          -0.14480699019100146,
          1.6209270254850905,
          -0.03720051887920887,
          0.9189256626796768,
          1.7353795151389286,
          -1.4527591753072113,
          0.21084974842433038,
          -0.8424132209460763,
          0.8108010689563284,
          1.8849307915325269,
          -0.38236134284848067,
          -1.8509955384600723,
          -1.0043802296934055,
          -1.6700335882266961,
          -0.2662800200558214,
          -0.2816104466918759,
          1.9695064659323902,
          -1.3531333401005186,
          -1.8246487015463517,
          0.4161856133422532,
          -0.31404073402964167,
          0.3722783675048442,
          2.133303617040413,
          -2.4471958895748074,
          2.380719002345152,
          -0.3987430854316932,
          -0.014650312488142936,
          1.2256641691759387,
          1.7799074314307135,
          0.5487143518972628,
          0.02541417834825154,
          0.5381538643916343,
          2.4535136319212816,
          -0.023803262090310917,
          -0.6496924161052658,
          0.04478553352171316,
          0.5365061860661642,
          0.7233240221161904,
          -0.2522619818245915,
          -1.5789598702116967,
          0.274926573285316,
          -0.04484425533308025,
          -0.39533639004855775,
          -0.1539674894937371,
          0.5434894729148447,
          0.8297140683352305,
          2.1447937974739597,
          -0.8691243150874558,
          1.1913449442332948,
          0.23992685967080285,
          0.835519899053282,
          0.775127212877518,
          0.8179378516059655,
          0.6767887621858589,
          -0.28668771741995064,
          1.2664829486946523,
          0.036890380042112085,
          1.5343541032540513,
          -1.3328073199877764,
          -0.20674743397348924,
          -0.8547345166834612,
          1.0274052102743279,
          -0.6231463227343251,
          -0.6202269343992488,
          -1.009586728733132,
          0.8198648674064811,
          -0.04155656422413667,
          -0.2858429069412091,
          0.5013344026955628,
          -0.5205537443270363,
          0.1794569091055445,
          -0.00679461552715747,
          -1.2871461273377063
         ],
         "y": [
          0.31537573601972646,
          0.8264280604720017,
          0.15880673938410703,
          -0.4945665747013332,
          -1.9291971682912035,
          -2.053128461013517,
          -0.41822165453726745,
          -0.7777578395540988,
          -0.37320239693156027,
          1.0077705019872478,
          0.2712966828345281,
          0.21274963696718877,
          0.08681838559463527,
          -0.5836485889875932,
          1.239568154067294,
          -0.8336166955037497,
          1.1474346168150165,
          -0.03716505277910525,
          -0.9630423160360793,
          0.05960721757341472,
          -0.9577369659471877,
          -0.6095456247495279,
          -1.0329204156788498,
          -1.2125958704403847,
          0.6604393457031784,
          0.4269054295495109,
          -1.215150155380957,
          1.38929308577231,
          -1.4642961357447615,
          -0.17395852265987718,
          -0.7053311469661707,
          0.863093219012688,
          0.3637406994713603,
          0.5826837313913135,
          -1.209932493419657,
          2.051445643285071,
          -1.0399723552126299,
          0.34911638943718615,
          0.6266184994346646,
          -0.17987182552393097,
          -0.5033924263326975,
          -1.3554213726667181,
          0.7381731188497714,
          0.6032159315621837,
          0.31383776587827605,
          1.5221045096712567,
          1.0730090081467314,
          1.5068400071106,
          -1.9657532084588805,
          -1.3738273908249323,
          0.48706954818705034,
          0.1934097777960746,
          -0.5098684385059237,
          -1.1110673077332558,
          1.4519574756869593,
          1.0745558846756398,
          0.0008134396062797892,
          0.9200113282161689,
          -1.7200861348159882,
          0.10651184111518136,
          -0.30946533602772835,
          0.16269854297053135,
          -0.1334720800134916,
          0.1437347175119578,
          0.6360683442236713,
          -1.6347287577630152,
          0.8359585335920502,
          0.027100102289993433,
          -0.7574047971474507,
          -1.5691832242530772,
          -0.10517278040729248,
          -1.911316107110392,
          -0.2040847122474828,
          -0.5268421182380644,
          -1.5201277139063434,
          -0.3368327664567618,
          3.1166495508586363,
          -0.5106661675704326,
          -0.24961234609561317,
          0.38516480037623885,
          -0.5394614558449573,
          1.3909296431635094,
          -0.4953771635676115,
          0.5514715008926203,
          -1.6368152085915135,
          0.30964057125138994,
          1.2710308408072852,
          -0.662447702474752,
          0.3566427211364223,
          -0.25598888429205297,
          -0.7707764963409064,
          -0.4223655211888527,
          0.5102442968597752,
          -0.23874528949899876,
          0.4422885398643252,
          1.18606662880413,
          -0.4108029668452801,
          1.2414388069753572,
          0.1345819144557129,
          0.7666064340071423
         ]
        }
       ],
       "layout": {
        "legend": {
         "bgcolor": "#F5F6F9",
         "font": {
          "color": "#4D5663"
         }
        },
        "paper_bgcolor": "#F5F6F9",
        "plot_bgcolor": "#F5F6F9",
        "template": {
         "data": {
          "bar": [
           {
            "error_x": {
             "color": "#2a3f5f"
            },
            "error_y": {
             "color": "#2a3f5f"
            },
            "marker": {
             "line": {
              "color": "#E5ECF6",
              "width": 0.5
             }
            },
            "type": "bar"
           }
          ],
          "barpolar": [
           {
            "marker": {
             "line": {
              "color": "#E5ECF6",
              "width": 0.5
             }
            },
            "type": "barpolar"
           }
          ],
          "carpet": [
           {
            "aaxis": {
             "endlinecolor": "#2a3f5f",
             "gridcolor": "white",
             "linecolor": "white",
             "minorgridcolor": "white",
             "startlinecolor": "#2a3f5f"
            },
            "baxis": {
             "endlinecolor": "#2a3f5f",
             "gridcolor": "white",
             "linecolor": "white",
             "minorgridcolor": "white",
             "startlinecolor": "#2a3f5f"
            },
            "type": "carpet"
           }
          ],
          "choropleth": [
           {
            "colorbar": {
             "outlinewidth": 0,
             "ticks": ""
            },
            "type": "choropleth"
           }
          ],
          "contour": [
           {
            "colorbar": {
             "outlinewidth": 0,
             "ticks": ""
            },
            "colorscale": [
             [
              0,
              "#0d0887"
             ],
             [
              0.1111111111111111,
              "#46039f"
             ],
             [
              0.2222222222222222,
              "#7201a8"
             ],
             [
              0.3333333333333333,
              "#9c179e"
             ],
             [
              0.4444444444444444,
              "#bd3786"
             ],
             [
              0.5555555555555556,
              "#d8576b"
             ],
             [
              0.6666666666666666,
              "#ed7953"
             ],
             [
              0.7777777777777778,
              "#fb9f3a"
             ],
             [
              0.8888888888888888,
              "#fdca26"
             ],
             [
              1,
              "#f0f921"
             ]
            ],
            "type": "contour"
           }
          ],
          "contourcarpet": [
           {
            "colorbar": {
             "outlinewidth": 0,
             "ticks": ""
            },
            "type": "contourcarpet"
           }
          ],
          "heatmap": [
           {
            "colorbar": {
             "outlinewidth": 0,
             "ticks": ""
            },
            "colorscale": [
             [
              0,
              "#0d0887"
             ],
             [
              0.1111111111111111,
              "#46039f"
             ],
             [
              0.2222222222222222,
              "#7201a8"
             ],
             [
              0.3333333333333333,
              "#9c179e"
             ],
             [
              0.4444444444444444,
              "#bd3786"
             ],
             [
              0.5555555555555556,
              "#d8576b"
             ],
             [
              0.6666666666666666,
              "#ed7953"
             ],
             [
              0.7777777777777778,
              "#fb9f3a"
             ],
             [
              0.8888888888888888,
              "#fdca26"
             ],
             [
              1,
              "#f0f921"
             ]
            ],
            "type": "heatmap"
           }
          ],
          "heatmapgl": [
           {
            "colorbar": {
             "outlinewidth": 0,
             "ticks": ""
            },
            "colorscale": [
             [
              0,
              "#0d0887"
             ],
             [
              0.1111111111111111,
              "#46039f"
             ],
             [
              0.2222222222222222,
              "#7201a8"
             ],
             [
              0.3333333333333333,
              "#9c179e"
             ],
             [
              0.4444444444444444,
              "#bd3786"
             ],
             [
              0.5555555555555556,
              "#d8576b"
             ],
             [
              0.6666666666666666,
              "#ed7953"
             ],
             [
              0.7777777777777778,
              "#fb9f3a"
             ],
             [
              0.8888888888888888,
              "#fdca26"
             ],
             [
              1,
              "#f0f921"
             ]
            ],
            "type": "heatmapgl"
           }
          ],
          "histogram": [
           {
            "marker": {
             "colorbar": {
              "outlinewidth": 0,
              "ticks": ""
             }
            },
            "type": "histogram"
           }
          ],
          "histogram2d": [
           {
            "colorbar": {
             "outlinewidth": 0,
             "ticks": ""
            },
            "colorscale": [
             [
              0,
              "#0d0887"
             ],
             [
              0.1111111111111111,
              "#46039f"
             ],
             [
              0.2222222222222222,
              "#7201a8"
             ],
             [
              0.3333333333333333,
              "#9c179e"
             ],
             [
              0.4444444444444444,
              "#bd3786"
             ],
             [
              0.5555555555555556,
              "#d8576b"
             ],
             [
              0.6666666666666666,
              "#ed7953"
             ],
             [
              0.7777777777777778,
              "#fb9f3a"
             ],
             [
              0.8888888888888888,
              "#fdca26"
             ],
             [
              1,
              "#f0f921"
             ]
            ],
            "type": "histogram2d"
           }
          ],
          "histogram2dcontour": [
           {
            "colorbar": {
             "outlinewidth": 0,
             "ticks": ""
            },
            "colorscale": [
             [
              0,
              "#0d0887"
             ],
             [
              0.1111111111111111,
              "#46039f"
             ],
             [
              0.2222222222222222,
              "#7201a8"
             ],
             [
              0.3333333333333333,
              "#9c179e"
             ],
             [
              0.4444444444444444,
              "#bd3786"
             ],
             [
              0.5555555555555556,
              "#d8576b"
             ],
             [
              0.6666666666666666,
              "#ed7953"
             ],
             [
              0.7777777777777778,
              "#fb9f3a"
             ],
             [
              0.8888888888888888,
              "#fdca26"
             ],
             [
              1,
              "#f0f921"
             ]
            ],
            "type": "histogram2dcontour"
           }
          ],
          "mesh3d": [
           {
            "colorbar": {
             "outlinewidth": 0,
             "ticks": ""
            },
            "type": "mesh3d"
           }
          ],
          "parcoords": [
           {
            "line": {
             "colorbar": {
              "outlinewidth": 0,
              "ticks": ""
             }
            },
            "type": "parcoords"
           }
          ],
          "pie": [
           {
            "automargin": true,
            "type": "pie"
           }
          ],
          "scatter": [
           {
            "marker": {
             "colorbar": {
              "outlinewidth": 0,
              "ticks": ""
             }
            },
            "type": "scatter"
           }
          ],
          "scatter3d": [
           {
            "line": {
             "colorbar": {
              "outlinewidth": 0,
              "ticks": ""
             }
            },
            "marker": {
             "colorbar": {
              "outlinewidth": 0,
              "ticks": ""
             }
            },
            "type": "scatter3d"
           }
          ],
          "scattercarpet": [
           {
            "marker": {
             "colorbar": {
              "outlinewidth": 0,
              "ticks": ""
             }
            },
            "type": "scattercarpet"
           }
          ],
          "scattergeo": [
           {
            "marker": {
             "colorbar": {
              "outlinewidth": 0,
              "ticks": ""
             }
            },
            "type": "scattergeo"
           }
          ],
          "scattergl": [
           {
            "marker": {
             "colorbar": {
              "outlinewidth": 0,
              "ticks": ""
             }
            },
            "type": "scattergl"
           }
          ],
          "scattermapbox": [
           {
            "marker": {
             "colorbar": {
              "outlinewidth": 0,
              "ticks": ""
             }
            },
            "type": "scattermapbox"
           }
          ],
          "scatterpolar": [
           {
            "marker": {
             "colorbar": {
              "outlinewidth": 0,
              "ticks": ""
             }
            },
            "type": "scatterpolar"
           }
          ],
          "scatterpolargl": [
           {
            "marker": {
             "colorbar": {
              "outlinewidth": 0,
              "ticks": ""
             }
            },
            "type": "scatterpolargl"
           }
          ],
          "scatterternary": [
           {
            "marker": {
             "colorbar": {
              "outlinewidth": 0,
              "ticks": ""
             }
            },
            "type": "scatterternary"
           }
          ],
          "surface": [
           {
            "colorbar": {
             "outlinewidth": 0,
             "ticks": ""
            },
            "colorscale": [
             [
              0,
              "#0d0887"
             ],
             [
              0.1111111111111111,
              "#46039f"
             ],
             [
              0.2222222222222222,
              "#7201a8"
             ],
             [
              0.3333333333333333,
              "#9c179e"
             ],
             [
              0.4444444444444444,
              "#bd3786"
             ],
             [
              0.5555555555555556,
              "#d8576b"
             ],
             [
              0.6666666666666666,
              "#ed7953"
             ],
             [
              0.7777777777777778,
              "#fb9f3a"
             ],
             [
              0.8888888888888888,
              "#fdca26"
             ],
             [
              1,
              "#f0f921"
             ]
            ],
            "type": "surface"
           }
          ],
          "table": [
           {
            "cells": {
             "fill": {
              "color": "#EBF0F8"
             },
             "line": {
              "color": "white"
             }
            },
            "header": {
             "fill": {
              "color": "#C8D4E3"
             },
             "line": {
              "color": "white"
             }
            },
            "type": "table"
           }
          ]
         },
         "layout": {
          "annotationdefaults": {
           "arrowcolor": "#2a3f5f",
           "arrowhead": 0,
           "arrowwidth": 1
          },
          "coloraxis": {
           "colorbar": {
            "outlinewidth": 0,
            "ticks": ""
           }
          },
          "colorscale": {
           "diverging": [
            [
             0,
             "#8e0152"
            ],
            [
             0.1,
             "#c51b7d"
            ],
            [
             0.2,
             "#de77ae"
            ],
            [
             0.3,
             "#f1b6da"
            ],
            [
             0.4,
             "#fde0ef"
            ],
            [
             0.5,
             "#f7f7f7"
            ],
            [
             0.6,
             "#e6f5d0"
            ],
            [
             0.7,
             "#b8e186"
            ],
            [
             0.8,
             "#7fbc41"
            ],
            [
             0.9,
             "#4d9221"
            ],
            [
             1,
             "#276419"
            ]
           ],
           "sequential": [
            [
             0,
             "#0d0887"
            ],
            [
             0.1111111111111111,
             "#46039f"
            ],
            [
             0.2222222222222222,
             "#7201a8"
            ],
            [
             0.3333333333333333,
             "#9c179e"
            ],
            [
             0.4444444444444444,
             "#bd3786"
            ],
            [
             0.5555555555555556,
             "#d8576b"
            ],
            [
             0.6666666666666666,
             "#ed7953"
            ],
            [
             0.7777777777777778,
             "#fb9f3a"
            ],
            [
             0.8888888888888888,
             "#fdca26"
            ],
            [
             1,
             "#f0f921"
            ]
           ],
           "sequentialminus": [
            [
             0,
             "#0d0887"
            ],
            [
             0.1111111111111111,
             "#46039f"
            ],
            [
             0.2222222222222222,
             "#7201a8"
            ],
            [
             0.3333333333333333,
             "#9c179e"
            ],
            [
             0.4444444444444444,
             "#bd3786"
            ],
            [
             0.5555555555555556,
             "#d8576b"
            ],
            [
             0.6666666666666666,
             "#ed7953"
            ],
            [
             0.7777777777777778,
             "#fb9f3a"
            ],
            [
             0.8888888888888888,
             "#fdca26"
            ],
            [
             1,
             "#f0f921"
            ]
           ]
          },
          "colorway": [
           "#636efa",
           "#EF553B",
           "#00cc96",
           "#ab63fa",
           "#FFA15A",
           "#19d3f3",
           "#FF6692",
           "#B6E880",
           "#FF97FF",
           "#FECB52"
          ],
          "font": {
           "color": "#2a3f5f"
          },
          "geo": {
           "bgcolor": "white",
           "lakecolor": "white",
           "landcolor": "#E5ECF6",
           "showlakes": true,
           "showland": true,
           "subunitcolor": "white"
          },
          "hoverlabel": {
           "align": "left"
          },
          "hovermode": "closest",
          "mapbox": {
           "style": "light"
          },
          "paper_bgcolor": "white",
          "plot_bgcolor": "#E5ECF6",
          "polar": {
           "angularaxis": {
            "gridcolor": "white",
            "linecolor": "white",
            "ticks": ""
           },
           "bgcolor": "#E5ECF6",
           "radialaxis": {
            "gridcolor": "white",
            "linecolor": "white",
            "ticks": ""
           }
          },
          "scene": {
           "xaxis": {
            "backgroundcolor": "#E5ECF6",
            "gridcolor": "white",
            "gridwidth": 2,
            "linecolor": "white",
            "showbackground": true,
            "ticks": "",
            "zerolinecolor": "white"
           },
           "yaxis": {
            "backgroundcolor": "#E5ECF6",
            "gridcolor": "white",
            "gridwidth": 2,
            "linecolor": "white",
            "showbackground": true,
            "ticks": "",
            "zerolinecolor": "white"
           },
           "zaxis": {
            "backgroundcolor": "#E5ECF6",
            "gridcolor": "white",
            "gridwidth": 2,
            "linecolor": "white",
            "showbackground": true,
            "ticks": "",
            "zerolinecolor": "white"
           }
          },
          "shapedefaults": {
           "line": {
            "color": "#2a3f5f"
           }
          },
          "ternary": {
           "aaxis": {
            "gridcolor": "white",
            "linecolor": "white",
            "ticks": ""
           },
           "baxis": {
            "gridcolor": "white",
            "linecolor": "white",
            "ticks": ""
           },
           "bgcolor": "#E5ECF6",
           "caxis": {
            "gridcolor": "white",
            "linecolor": "white",
            "ticks": ""
           }
          },
          "title": {
           "x": 0.05
          },
          "xaxis": {
           "automargin": true,
           "gridcolor": "white",
           "linecolor": "white",
           "ticks": "",
           "title": {
            "standoff": 15
           },
           "zerolinecolor": "white",
           "zerolinewidth": 2
          },
          "yaxis": {
           "automargin": true,
           "gridcolor": "white",
           "linecolor": "white",
           "ticks": "",
           "title": {
            "standoff": 15
           },
           "zerolinecolor": "white",
           "zerolinewidth": 2
          }
         }
        },
        "title": {
         "font": {
          "color": "#4D5663"
         }
        },
        "xaxis": {
         "gridcolor": "#E1E5ED",
         "showgrid": true,
         "tickfont": {
          "color": "#4D5663"
         },
         "title": {
          "font": {
           "color": "#4D5663"
          },
          "text": ""
         },
         "zerolinecolor": "#E1E5ED"
        },
        "yaxis": {
         "gridcolor": "#E1E5ED",
         "showgrid": true,
         "tickfont": {
          "color": "#4D5663"
         },
         "title": {
          "font": {
           "color": "#4D5663"
          },
          "text": ""
         },
         "zerolinecolor": "#E1E5ED"
        }
       }
      },
      "text/html": [
       "<div>\n",
       "        \n",
       "        \n",
       "            <div id=\"f0356d7a-3376-40ae-885d-4731cce63813\" class=\"plotly-graph-div\" style=\"height:525px; width:100%;\"></div>\n",
       "            <script type=\"text/javascript\">\n",
       "                require([\"plotly\"], function(Plotly) {\n",
       "                    window.PLOTLYENV=window.PLOTLYENV || {};\n",
       "                    window.PLOTLYENV.BASE_URL='https://plot.ly';\n",
       "                    \n",
       "                if (document.getElementById(\"f0356d7a-3376-40ae-885d-4731cce63813\")) {\n",
       "                    Plotly.newPlot(\n",
       "                        'f0356d7a-3376-40ae-885d-4731cce63813',\n",
       "                        [{\"marker\": {\"color\": [\"rgb(255, 153, 51)\", \"rgb(55, 128, 191)\", \"rgb(50, 171, 96)\", \"rgb(128, 0, 128)\", \"rgb(219, 64, 82)\", \"rgb(0, 128, 128)\", \"rgb(255, 255, 51)\", \"rgb(128, 128, 0)\", \"rgb(251, 128, 114)\", \"rgb(128, 177, 211)\"], \"line\": {\"width\": 1.3}, \"size\": [93, 32, 84, 87, 76, 62, 69, 63, 90, 111, 62, 85, 94, 64, 64, 39, 75, 93, 82, 95, 55, 92, 96, 59, 95, 93, 87, 70, 105, 71, 62, 61, 59, 61, 94, 56, 78, 96, 70, 45, 75, 63, 78, 51, 71, 68, 81, 64, 99, 73, 72, 82, 59, 78, 61, 39, 71, 69, 62, 65, 70, 97, 63, 50, 58, 61, 70, 71, 51, 74, 70, 58, 42, 77, 58, 54, 60, 12, 75, 74, 59, 106, 82, 65, 68, 82, 44, 60, 76, 71, 112, 58, 76, 77, 39, 52, 63, 93, 106, 42], \"symbol\": \"circle\"}, \"mode\": \"markers\", \"text\": \"\", \"type\": \"scatter\", \"x\": [0.2317169047197511, 0.878202859039861, 0.8845456478701096, -0.8548417612934461, 2.551212651230751, -0.9715711502953682, -1.4286297257729936, 0.171781997371082, -0.26501974141230633, 1.448118461903668, 0.956200364077296, 0.2798407221282476, 1.2898124098548918, -0.1805503744770984, -0.9712934350712948, 0.944830093864121, 0.008383811079937189, 0.06411389321304094, -3.0448966138834717, 0.2071650308743917, 1.264273231110705, 0.009115961650350713, 1.2032289481855762, 0.1748885773766371, 0.7705083291235805, -0.48405781692728334, -0.18229576272709286, -0.14480699019100146, 1.6209270254850905, -0.03720051887920887, 0.9189256626796768, 1.7353795151389286, -1.4527591753072113, 0.21084974842433038, -0.8424132209460763, 0.8108010689563284, 1.8849307915325269, -0.38236134284848067, -1.8509955384600723, -1.0043802296934055, -1.6700335882266961, -0.2662800200558214, -0.2816104466918759, 1.9695064659323902, -1.3531333401005186, -1.8246487015463517, 0.4161856133422532, -0.31404073402964167, 0.3722783675048442, 2.133303617040413, -2.4471958895748074, 2.380719002345152, -0.3987430854316932, -0.014650312488142936, 1.2256641691759387, 1.7799074314307135, 0.5487143518972628, 0.02541417834825154, 0.5381538643916343, 2.4535136319212816, -0.023803262090310917, -0.6496924161052658, 0.04478553352171316, 0.5365061860661642, 0.7233240221161904, -0.2522619818245915, -1.5789598702116967, 0.274926573285316, -0.04484425533308025, -0.39533639004855775, -0.1539674894937371, 0.5434894729148447, 0.8297140683352305, 2.1447937974739597, -0.8691243150874558, 1.1913449442332948, 0.23992685967080285, 0.835519899053282, 0.775127212877518, 0.8179378516059655, 0.6767887621858589, -0.28668771741995064, 1.2664829486946523, 0.036890380042112085, 1.5343541032540513, -1.3328073199877764, -0.20674743397348924, -0.8547345166834612, 1.0274052102743279, -0.6231463227343251, -0.6202269343992488, -1.009586728733132, 0.8198648674064811, -0.04155656422413667, -0.2858429069412091, 0.5013344026955628, -0.5205537443270363, 0.1794569091055445, -0.00679461552715747, -1.2871461273377063], \"y\": [0.31537573601972646, 0.8264280604720017, 0.15880673938410703, -0.4945665747013332, -1.9291971682912035, -2.053128461013517, -0.41822165453726745, -0.7777578395540988, -0.37320239693156027, 1.0077705019872478, 0.2712966828345281, 0.21274963696718877, 0.08681838559463527, -0.5836485889875932, 1.239568154067294, -0.8336166955037497, 1.1474346168150165, -0.03716505277910525, -0.9630423160360793, 0.05960721757341472, -0.9577369659471877, -0.6095456247495279, -1.0329204156788498, -1.2125958704403847, 0.6604393457031784, 0.4269054295495109, -1.215150155380957, 1.38929308577231, -1.4642961357447615, -0.17395852265987718, -0.7053311469661707, 0.863093219012688, 0.3637406994713603, 0.5826837313913135, -1.209932493419657, 2.051445643285071, -1.0399723552126299, 0.34911638943718615, 0.6266184994346646, -0.17987182552393097, -0.5033924263326975, -1.3554213726667181, 0.7381731188497714, 0.6032159315621837, 0.31383776587827605, 1.5221045096712567, 1.0730090081467314, 1.5068400071106, -1.9657532084588805, -1.3738273908249323, 0.48706954818705034, 0.1934097777960746, -0.5098684385059237, -1.1110673077332558, 1.4519574756869593, 1.0745558846756398, 0.0008134396062797892, 0.9200113282161689, -1.7200861348159882, 0.10651184111518136, -0.30946533602772835, 0.16269854297053135, -0.1334720800134916, 0.1437347175119578, 0.6360683442236713, -1.6347287577630152, 0.8359585335920502, 0.027100102289993433, -0.7574047971474507, -1.5691832242530772, -0.10517278040729248, -1.911316107110392, -0.2040847122474828, -0.5268421182380644, -1.5201277139063434, -0.3368327664567618, 3.1166495508586363, -0.5106661675704326, -0.24961234609561317, 0.38516480037623885, -0.5394614558449573, 1.3909296431635094, -0.4953771635676115, 0.5514715008926203, -1.6368152085915135, 0.30964057125138994, 1.2710308408072852, -0.662447702474752, 0.3566427211364223, -0.25598888429205297, -0.7707764963409064, -0.4223655211888527, 0.5102442968597752, -0.23874528949899876, 0.4422885398643252, 1.18606662880413, -0.4108029668452801, 1.2414388069753572, 0.1345819144557129, 0.7666064340071423]}],\n",
       "                        {\"legend\": {\"bgcolor\": \"#F5F6F9\", \"font\": {\"color\": \"#4D5663\"}}, \"paper_bgcolor\": \"#F5F6F9\", \"plot_bgcolor\": \"#F5F6F9\", \"template\": {\"data\": {\"bar\": [{\"error_x\": {\"color\": \"#2a3f5f\"}, \"error_y\": {\"color\": \"#2a3f5f\"}, \"marker\": {\"line\": {\"color\": \"#E5ECF6\", \"width\": 0.5}}, \"type\": \"bar\"}], \"barpolar\": [{\"marker\": {\"line\": {\"color\": \"#E5ECF6\", \"width\": 0.5}}, \"type\": \"barpolar\"}], \"carpet\": [{\"aaxis\": {\"endlinecolor\": \"#2a3f5f\", \"gridcolor\": \"white\", \"linecolor\": \"white\", \"minorgridcolor\": \"white\", \"startlinecolor\": \"#2a3f5f\"}, \"baxis\": {\"endlinecolor\": \"#2a3f5f\", \"gridcolor\": \"white\", \"linecolor\": \"white\", \"minorgridcolor\": \"white\", \"startlinecolor\": \"#2a3f5f\"}, \"type\": \"carpet\"}], \"choropleth\": [{\"colorbar\": {\"outlinewidth\": 0, \"ticks\": \"\"}, \"type\": \"choropleth\"}], \"contour\": [{\"colorbar\": {\"outlinewidth\": 0, \"ticks\": \"\"}, \"colorscale\": [[0.0, \"#0d0887\"], [0.1111111111111111, \"#46039f\"], [0.2222222222222222, \"#7201a8\"], [0.3333333333333333, \"#9c179e\"], [0.4444444444444444, \"#bd3786\"], [0.5555555555555556, \"#d8576b\"], [0.6666666666666666, \"#ed7953\"], [0.7777777777777778, \"#fb9f3a\"], [0.8888888888888888, \"#fdca26\"], [1.0, \"#f0f921\"]], \"type\": \"contour\"}], \"contourcarpet\": [{\"colorbar\": {\"outlinewidth\": 0, \"ticks\": \"\"}, \"type\": \"contourcarpet\"}], \"heatmap\": [{\"colorbar\": {\"outlinewidth\": 0, \"ticks\": \"\"}, \"colorscale\": [[0.0, \"#0d0887\"], [0.1111111111111111, \"#46039f\"], [0.2222222222222222, \"#7201a8\"], [0.3333333333333333, \"#9c179e\"], [0.4444444444444444, \"#bd3786\"], [0.5555555555555556, \"#d8576b\"], [0.6666666666666666, \"#ed7953\"], [0.7777777777777778, \"#fb9f3a\"], [0.8888888888888888, \"#fdca26\"], [1.0, \"#f0f921\"]], \"type\": \"heatmap\"}], \"heatmapgl\": [{\"colorbar\": {\"outlinewidth\": 0, \"ticks\": \"\"}, \"colorscale\": [[0.0, \"#0d0887\"], [0.1111111111111111, \"#46039f\"], [0.2222222222222222, \"#7201a8\"], [0.3333333333333333, \"#9c179e\"], [0.4444444444444444, \"#bd3786\"], [0.5555555555555556, \"#d8576b\"], [0.6666666666666666, \"#ed7953\"], [0.7777777777777778, \"#fb9f3a\"], [0.8888888888888888, \"#fdca26\"], [1.0, \"#f0f921\"]], \"type\": \"heatmapgl\"}], \"histogram\": [{\"marker\": {\"colorbar\": {\"outlinewidth\": 0, \"ticks\": \"\"}}, \"type\": \"histogram\"}], \"histogram2d\": [{\"colorbar\": {\"outlinewidth\": 0, \"ticks\": \"\"}, \"colorscale\": [[0.0, \"#0d0887\"], [0.1111111111111111, \"#46039f\"], [0.2222222222222222, \"#7201a8\"], [0.3333333333333333, \"#9c179e\"], [0.4444444444444444, \"#bd3786\"], [0.5555555555555556, \"#d8576b\"], [0.6666666666666666, \"#ed7953\"], [0.7777777777777778, \"#fb9f3a\"], [0.8888888888888888, \"#fdca26\"], [1.0, \"#f0f921\"]], \"type\": \"histogram2d\"}], \"histogram2dcontour\": [{\"colorbar\": {\"outlinewidth\": 0, \"ticks\": \"\"}, \"colorscale\": [[0.0, \"#0d0887\"], [0.1111111111111111, \"#46039f\"], [0.2222222222222222, \"#7201a8\"], [0.3333333333333333, \"#9c179e\"], [0.4444444444444444, \"#bd3786\"], [0.5555555555555556, \"#d8576b\"], [0.6666666666666666, \"#ed7953\"], [0.7777777777777778, \"#fb9f3a\"], [0.8888888888888888, \"#fdca26\"], [1.0, \"#f0f921\"]], \"type\": \"histogram2dcontour\"}], \"mesh3d\": [{\"colorbar\": {\"outlinewidth\": 0, \"ticks\": \"\"}, \"type\": \"mesh3d\"}], \"parcoords\": [{\"line\": {\"colorbar\": {\"outlinewidth\": 0, \"ticks\": \"\"}}, \"type\": \"parcoords\"}], \"pie\": [{\"automargin\": true, \"type\": \"pie\"}], \"scatter\": [{\"marker\": {\"colorbar\": {\"outlinewidth\": 0, \"ticks\": \"\"}}, \"type\": \"scatter\"}], \"scatter3d\": [{\"line\": {\"colorbar\": {\"outlinewidth\": 0, \"ticks\": \"\"}}, \"marker\": {\"colorbar\": {\"outlinewidth\": 0, \"ticks\": \"\"}}, \"type\": \"scatter3d\"}], \"scattercarpet\": [{\"marker\": {\"colorbar\": {\"outlinewidth\": 0, \"ticks\": \"\"}}, \"type\": \"scattercarpet\"}], \"scattergeo\": [{\"marker\": {\"colorbar\": {\"outlinewidth\": 0, \"ticks\": \"\"}}, \"type\": \"scattergeo\"}], \"scattergl\": [{\"marker\": {\"colorbar\": {\"outlinewidth\": 0, \"ticks\": \"\"}}, \"type\": \"scattergl\"}], \"scattermapbox\": [{\"marker\": {\"colorbar\": {\"outlinewidth\": 0, \"ticks\": \"\"}}, \"type\": \"scattermapbox\"}], \"scatterpolar\": [{\"marker\": {\"colorbar\": {\"outlinewidth\": 0, \"ticks\": \"\"}}, \"type\": \"scatterpolar\"}], \"scatterpolargl\": [{\"marker\": {\"colorbar\": {\"outlinewidth\": 0, \"ticks\": \"\"}}, \"type\": \"scatterpolargl\"}], \"scatterternary\": [{\"marker\": {\"colorbar\": {\"outlinewidth\": 0, \"ticks\": \"\"}}, \"type\": \"scatterternary\"}], \"surface\": [{\"colorbar\": {\"outlinewidth\": 0, \"ticks\": \"\"}, \"colorscale\": [[0.0, \"#0d0887\"], [0.1111111111111111, \"#46039f\"], [0.2222222222222222, \"#7201a8\"], [0.3333333333333333, \"#9c179e\"], [0.4444444444444444, \"#bd3786\"], [0.5555555555555556, \"#d8576b\"], [0.6666666666666666, \"#ed7953\"], [0.7777777777777778, \"#fb9f3a\"], [0.8888888888888888, \"#fdca26\"], [1.0, \"#f0f921\"]], \"type\": \"surface\"}], \"table\": [{\"cells\": {\"fill\": {\"color\": \"#EBF0F8\"}, \"line\": {\"color\": \"white\"}}, \"header\": {\"fill\": {\"color\": \"#C8D4E3\"}, \"line\": {\"color\": \"white\"}}, \"type\": \"table\"}]}, \"layout\": {\"annotationdefaults\": {\"arrowcolor\": \"#2a3f5f\", \"arrowhead\": 0, \"arrowwidth\": 1}, \"coloraxis\": {\"colorbar\": {\"outlinewidth\": 0, \"ticks\": \"\"}}, \"colorscale\": {\"diverging\": [[0, \"#8e0152\"], [0.1, \"#c51b7d\"], [0.2, \"#de77ae\"], [0.3, \"#f1b6da\"], [0.4, \"#fde0ef\"], [0.5, \"#f7f7f7\"], [0.6, \"#e6f5d0\"], [0.7, \"#b8e186\"], [0.8, \"#7fbc41\"], [0.9, \"#4d9221\"], [1, \"#276419\"]], \"sequential\": [[0.0, \"#0d0887\"], [0.1111111111111111, \"#46039f\"], [0.2222222222222222, \"#7201a8\"], [0.3333333333333333, \"#9c179e\"], [0.4444444444444444, \"#bd3786\"], [0.5555555555555556, \"#d8576b\"], [0.6666666666666666, \"#ed7953\"], [0.7777777777777778, \"#fb9f3a\"], [0.8888888888888888, \"#fdca26\"], [1.0, \"#f0f921\"]], \"sequentialminus\": [[0.0, \"#0d0887\"], [0.1111111111111111, \"#46039f\"], [0.2222222222222222, \"#7201a8\"], [0.3333333333333333, \"#9c179e\"], [0.4444444444444444, \"#bd3786\"], [0.5555555555555556, \"#d8576b\"], [0.6666666666666666, \"#ed7953\"], [0.7777777777777778, \"#fb9f3a\"], [0.8888888888888888, \"#fdca26\"], [1.0, \"#f0f921\"]]}, \"colorway\": [\"#636efa\", \"#EF553B\", \"#00cc96\", \"#ab63fa\", \"#FFA15A\", \"#19d3f3\", \"#FF6692\", \"#B6E880\", \"#FF97FF\", \"#FECB52\"], \"font\": {\"color\": \"#2a3f5f\"}, \"geo\": {\"bgcolor\": \"white\", \"lakecolor\": \"white\", \"landcolor\": \"#E5ECF6\", \"showlakes\": true, \"showland\": true, \"subunitcolor\": \"white\"}, \"hoverlabel\": {\"align\": \"left\"}, \"hovermode\": \"closest\", \"mapbox\": {\"style\": \"light\"}, \"paper_bgcolor\": \"white\", \"plot_bgcolor\": \"#E5ECF6\", \"polar\": {\"angularaxis\": {\"gridcolor\": \"white\", \"linecolor\": \"white\", \"ticks\": \"\"}, \"bgcolor\": \"#E5ECF6\", \"radialaxis\": {\"gridcolor\": \"white\", \"linecolor\": \"white\", \"ticks\": \"\"}}, \"scene\": {\"xaxis\": {\"backgroundcolor\": \"#E5ECF6\", \"gridcolor\": \"white\", \"gridwidth\": 2, \"linecolor\": \"white\", \"showbackground\": true, \"ticks\": \"\", \"zerolinecolor\": \"white\"}, \"yaxis\": {\"backgroundcolor\": \"#E5ECF6\", \"gridcolor\": \"white\", \"gridwidth\": 2, \"linecolor\": \"white\", \"showbackground\": true, \"ticks\": \"\", \"zerolinecolor\": \"white\"}, \"zaxis\": {\"backgroundcolor\": \"#E5ECF6\", \"gridcolor\": \"white\", \"gridwidth\": 2, \"linecolor\": \"white\", \"showbackground\": true, \"ticks\": \"\", \"zerolinecolor\": \"white\"}}, \"shapedefaults\": {\"line\": {\"color\": \"#2a3f5f\"}}, \"ternary\": {\"aaxis\": {\"gridcolor\": \"white\", \"linecolor\": \"white\", \"ticks\": \"\"}, \"baxis\": {\"gridcolor\": \"white\", \"linecolor\": \"white\", \"ticks\": \"\"}, \"bgcolor\": \"#E5ECF6\", \"caxis\": {\"gridcolor\": \"white\", \"linecolor\": \"white\", \"ticks\": \"\"}}, \"title\": {\"x\": 0.05}, \"xaxis\": {\"automargin\": true, \"gridcolor\": \"white\", \"linecolor\": \"white\", \"ticks\": \"\", \"title\": {\"standoff\": 15}, \"zerolinecolor\": \"white\", \"zerolinewidth\": 2}, \"yaxis\": {\"automargin\": true, \"gridcolor\": \"white\", \"linecolor\": \"white\", \"ticks\": \"\", \"title\": {\"standoff\": 15}, \"zerolinecolor\": \"white\", \"zerolinewidth\": 2}}}, \"title\": {\"font\": {\"color\": \"#4D5663\"}}, \"xaxis\": {\"gridcolor\": \"#E1E5ED\", \"showgrid\": true, \"tickfont\": {\"color\": \"#4D5663\"}, \"title\": {\"font\": {\"color\": \"#4D5663\"}, \"text\": \"\"}, \"zerolinecolor\": \"#E1E5ED\"}, \"yaxis\": {\"gridcolor\": \"#E1E5ED\", \"showgrid\": true, \"tickfont\": {\"color\": \"#4D5663\"}, \"title\": {\"font\": {\"color\": \"#4D5663\"}, \"text\": \"\"}, \"zerolinecolor\": \"#E1E5ED\"}},\n",
       "                        {\"showLink\": true, \"linkText\": \"Export to plot.ly\", \"plotlyServerURL\": \"https://plot.ly\", \"responsive\": true}\n",
       "                    ).then(function(){\n",
       "                            \n",
       "var gd = document.getElementById('f0356d7a-3376-40ae-885d-4731cce63813');\n",
       "var x = new MutationObserver(function (mutations, observer) {{\n",
       "        var display = window.getComputedStyle(gd).display;\n",
       "        if (!display || display === 'none') {{\n",
       "            console.log([gd, 'removed!']);\n",
       "            Plotly.purge(gd);\n",
       "            observer.disconnect();\n",
       "        }}\n",
       "}});\n",
       "\n",
       "// Listen for the removal of the full notebook cells\n",
       "var notebookContainer = gd.closest('#notebook-container');\n",
       "if (notebookContainer) {{\n",
       "    x.observe(notebookContainer, {childList: true});\n",
       "}}\n",
       "\n",
       "// Listen for the clearing of the current output cell\n",
       "var outputEl = gd.closest('.output');\n",
       "if (outputEl) {{\n",
       "    x.observe(outputEl, {childList: true});\n",
       "}}\n",
       "\n",
       "                        })\n",
       "                };\n",
       "                });\n",
       "            </script>\n",
       "        </div>"
      ]
     },
     "metadata": {},
     "output_type": "display_data"
    }
   ],
   "source": [
    "df.iplot(kind='bubble',x='A',y='B',size='C')"
   ]
  },
  {
   "cell_type": "markdown",
   "metadata": {},
   "source": [
    "## scatter_matrix()\n",
    "\n",
    "Similar to sns.pairplot()"
   ]
  },
  {
   "cell_type": "code",
   "execution_count": 18,
   "metadata": {},
   "outputs": [
    {
     "data": {
      "application/vnd.plotly.v1+json": {
       "config": {
        "linkText": "Export to plot.ly",
        "plotlyServerURL": "https://plot.ly",
        "showLink": true
       },
       "data": [
        {
         "histfunc": "count",
         "histnorm": "",
         "marker": {
          "color": "rgba(255, 153, 51, 1.0)",
          "line": {
           "color": "#4D5663",
           "width": 1.3
          }
         },
         "name": "A",
         "nbinsx": 10,
         "opacity": 0.8,
         "orientation": "v",
         "type": "histogram",
         "x": [
          0.2317169047197511,
          0.878202859039861,
          0.8845456478701096,
          -0.8548417612934461,
          2.551212651230751,
          -0.9715711502953682,
          -1.4286297257729936,
          0.171781997371082,
          -0.26501974141230633,
          1.448118461903668,
          0.956200364077296,
          0.2798407221282476,
          1.2898124098548918,
          -0.1805503744770984,
          -0.9712934350712948,
          0.944830093864121,
          0.008383811079937189,
          0.06411389321304094,
          -3.0448966138834717,
          0.2071650308743917,
          1.264273231110705,
          0.009115961650350713,
          1.2032289481855762,
          0.1748885773766371,
          0.7705083291235805,
          -0.48405781692728334,
          -0.18229576272709286,
          -0.14480699019100146,
          1.6209270254850905,
          -0.03720051887920887,
          0.9189256626796768,
          1.7353795151389286,
          -1.4527591753072113,
          0.21084974842433038,
          -0.8424132209460763,
          0.8108010689563284,
          1.8849307915325269,
          -0.38236134284848067,
          -1.8509955384600723,
          -1.0043802296934055,
          -1.6700335882266961,
          -0.2662800200558214,
          -0.2816104466918759,
          1.9695064659323902,
          -1.3531333401005186,
          -1.8246487015463517,
          0.4161856133422532,
          -0.31404073402964167,
          0.3722783675048442,
          2.133303617040413,
          -2.4471958895748074,
          2.380719002345152,
          -0.3987430854316932,
          -0.014650312488142936,
          1.2256641691759387,
          1.7799074314307135,
          0.5487143518972628,
          0.02541417834825154,
          0.5381538643916343,
          2.4535136319212816,
          -0.023803262090310917,
          -0.6496924161052658,
          0.04478553352171316,
          0.5365061860661642,
          0.7233240221161904,
          -0.2522619818245915,
          -1.5789598702116967,
          0.274926573285316,
          -0.04484425533308025,
          -0.39533639004855775,
          -0.1539674894937371,
          0.5434894729148447,
          0.8297140683352305,
          2.1447937974739597,
          -0.8691243150874558,
          1.1913449442332948,
          0.23992685967080285,
          0.835519899053282,
          0.775127212877518,
          0.8179378516059655,
          0.6767887621858589,
          -0.28668771741995064,
          1.2664829486946523,
          0.036890380042112085,
          1.5343541032540513,
          -1.3328073199877764,
          -0.20674743397348924,
          -0.8547345166834612,
          1.0274052102743279,
          -0.6231463227343251,
          -0.6202269343992488,
          -1.009586728733132,
          0.8198648674064811,
          -0.04155656422413667,
          -0.2858429069412091,
          0.5013344026955628,
          -0.5205537443270363,
          0.1794569091055445,
          -0.00679461552715747,
          -1.2871461273377063
         ],
         "xaxis": "x",
         "yaxis": "y"
        },
        {
         "line": {
          "color": "rgba(128, 128, 128, 1.0)",
          "dash": "solid",
          "shape": "linear",
          "width": 1.3
         },
         "marker": {
          "size": 2,
          "symbol": "circle"
         },
         "mode": "markers",
         "name": "A",
         "text": "",
         "type": "scatter",
         "x": [
          0.31537573601972646,
          0.8264280604720017,
          0.15880673938410703,
          -0.4945665747013332,
          -1.9291971682912035,
          -2.053128461013517,
          -0.41822165453726745,
          -0.7777578395540988,
          -0.37320239693156027,
          1.0077705019872478,
          0.2712966828345281,
          0.21274963696718877,
          0.08681838559463527,
          -0.5836485889875932,
          1.239568154067294,
          -0.8336166955037497,
          1.1474346168150165,
          -0.03716505277910525,
          -0.9630423160360793,
          0.05960721757341472,
          -0.9577369659471877,
          -0.6095456247495279,
          -1.0329204156788498,
          -1.2125958704403847,
          0.6604393457031784,
          0.4269054295495109,
          -1.215150155380957,
          1.38929308577231,
          -1.4642961357447615,
          -0.17395852265987718,
          -0.7053311469661707,
          0.863093219012688,
          0.3637406994713603,
          0.5826837313913135,
          -1.209932493419657,
          2.051445643285071,
          -1.0399723552126299,
          0.34911638943718615,
          0.6266184994346646,
          -0.17987182552393097,
          -0.5033924263326975,
          -1.3554213726667181,
          0.7381731188497714,
          0.6032159315621837,
          0.31383776587827605,
          1.5221045096712567,
          1.0730090081467314,
          1.5068400071106,
          -1.9657532084588805,
          -1.3738273908249323,
          0.48706954818705034,
          0.1934097777960746,
          -0.5098684385059237,
          -1.1110673077332558,
          1.4519574756869593,
          1.0745558846756398,
          0.0008134396062797892,
          0.9200113282161689,
          -1.7200861348159882,
          0.10651184111518136,
          -0.30946533602772835,
          0.16269854297053135,
          -0.1334720800134916,
          0.1437347175119578,
          0.6360683442236713,
          -1.6347287577630152,
          0.8359585335920502,
          0.027100102289993433,
          -0.7574047971474507,
          -1.5691832242530772,
          -0.10517278040729248,
          -1.911316107110392,
          -0.2040847122474828,
          -0.5268421182380644,
          -1.5201277139063434,
          -0.3368327664567618,
          3.1166495508586363,
          -0.5106661675704326,
          -0.24961234609561317,
          0.38516480037623885,
          -0.5394614558449573,
          1.3909296431635094,
          -0.4953771635676115,
          0.5514715008926203,
          -1.6368152085915135,
          0.30964057125138994,
          1.2710308408072852,
          -0.662447702474752,
          0.3566427211364223,
          -0.25598888429205297,
          -0.7707764963409064,
          -0.4223655211888527,
          0.5102442968597752,
          -0.23874528949899876,
          0.4422885398643252,
          1.18606662880413,
          -0.4108029668452801,
          1.2414388069753572,
          0.1345819144557129,
          0.7666064340071423
         ],
         "xaxis": "x2",
         "y": [
          0.2317169047197511,
          0.878202859039861,
          0.8845456478701096,
          -0.8548417612934461,
          2.551212651230751,
          -0.9715711502953682,
          -1.4286297257729936,
          0.171781997371082,
          -0.26501974141230633,
          1.448118461903668,
          0.956200364077296,
          0.2798407221282476,
          1.2898124098548918,
          -0.1805503744770984,
          -0.9712934350712948,
          0.944830093864121,
          0.008383811079937189,
          0.06411389321304094,
          -3.0448966138834717,
          0.2071650308743917,
          1.264273231110705,
          0.009115961650350713,
          1.2032289481855762,
          0.1748885773766371,
          0.7705083291235805,
          -0.48405781692728334,
          -0.18229576272709286,
          -0.14480699019100146,
          1.6209270254850905,
          -0.03720051887920887,
          0.9189256626796768,
          1.7353795151389286,
          -1.4527591753072113,
          0.21084974842433038,
          -0.8424132209460763,
          0.8108010689563284,
          1.8849307915325269,
          -0.38236134284848067,
          -1.8509955384600723,
          -1.0043802296934055,
          -1.6700335882266961,
          -0.2662800200558214,
          -0.2816104466918759,
          1.9695064659323902,
          -1.3531333401005186,
          -1.8246487015463517,
          0.4161856133422532,
          -0.31404073402964167,
          0.3722783675048442,
          2.133303617040413,
          -2.4471958895748074,
          2.380719002345152,
          -0.3987430854316932,
          -0.014650312488142936,
          1.2256641691759387,
          1.7799074314307135,
          0.5487143518972628,
          0.02541417834825154,
          0.5381538643916343,
          2.4535136319212816,
          -0.023803262090310917,
          -0.6496924161052658,
          0.04478553352171316,
          0.5365061860661642,
          0.7233240221161904,
          -0.2522619818245915,
          -1.5789598702116967,
          0.274926573285316,
          -0.04484425533308025,
          -0.39533639004855775,
          -0.1539674894937371,
          0.5434894729148447,
          0.8297140683352305,
          2.1447937974739597,
          -0.8691243150874558,
          1.1913449442332948,
          0.23992685967080285,
          0.835519899053282,
          0.775127212877518,
          0.8179378516059655,
          0.6767887621858589,
          -0.28668771741995064,
          1.2664829486946523,
          0.036890380042112085,
          1.5343541032540513,
          -1.3328073199877764,
          -0.20674743397348924,
          -0.8547345166834612,
          1.0274052102743279,
          -0.6231463227343251,
          -0.6202269343992488,
          -1.009586728733132,
          0.8198648674064811,
          -0.04155656422413667,
          -0.2858429069412091,
          0.5013344026955628,
          -0.5205537443270363,
          0.1794569091055445,
          -0.00679461552715747,
          -1.2871461273377063
         ],
         "yaxis": "y2"
        },
        {
         "line": {
          "color": "rgba(128, 128, 128, 1.0)",
          "dash": "solid",
          "shape": "linear",
          "width": 1.3
         },
         "marker": {
          "size": 2,
          "symbol": "circle"
         },
         "mode": "markers",
         "name": "A",
         "text": "",
         "type": "scatter",
         "x": [
          1.3314285234318506,
          -2.0030525524828158,
          0.8069750498787827,
          0.9650026018679855,
          0.3991816879331618,
          -0.379448951815883,
          0.0024418491318277096,
          -0.32736691297864695,
          1.16931048547153,
          2.277194132272568,
          -0.3754035435751317,
          0.8543373667068819,
          1.3412745962545134,
          -0.27836773917921465,
          -0.29464171475836526,
          -1.6243271705310767,
          0.30396234597697075,
          1.299440130107271,
          0.7011900077995749,
          1.4162591056558447,
          -0.757889301132777,
          1.2546446382994334,
          1.4585142492013845,
          -0.5363544395570112,
          1.4067424359427916,
          1.3039734139735715,
          0.9768829449054949,
          0.07959476569537824,
          1.9871355642589208,
          0.08606255824303585,
          -0.4020330448402153,
          -0.4361604878308823,
          -0.5645071849416328,
          -0.41470886996172984,
          1.380995442688989,
          -0.6883129275760239,
          0.5021014468963432,
          1.4979232102687683,
          0.048940873099344535,
          -1.2988952332686514,
          0.33295045401849954,
          -0.3321991887263928,
          0.5013365346924666,
          -0.9659423586694746,
          0.12979017542930207,
          -0.02994181004275303,
          0.6555581172761401,
          -0.30013895760744935,
          1.6345750352404322,
          0.23456207343882354,
          0.1493109973874951,
          0.7190281138780342,
          -0.5537135272792176,
          0.4772060118979437,
          -0.4144051359566405,
          -1.661374140130275,
          0.10704398422570807,
          -0.01470891404458069,
          -0.4028553085825461,
          -0.20664313573199233,
          0.05127213215269603,
          1.4998740906734598,
          -0.30346216338926657,
          -1.0398698382840703,
          -0.5815714798397903,
          -0.44646545271589355,
          0.05074529560975637,
          0.09620115280697357,
          -0.9899884889260059,
          0.27567166848079194,
          0.05558431731978129,
          -0.6084012980119271,
          -1.4768058399743125,
          0.4582183899408311,
          -0.6069867652636305,
          -0.8006908421822598,
          -0.5130961708745303,
          -3.1382625698594664,
          0.3062727725919721,
          0.28283417391136356,
          -0.552613838492679,
          2.0005647848200128,
          0.7256179513485513,
          -0.2301234857640447,
          -0.0681978012030093,
          0.6811349335356885,
          -1.3879335391650898,
          -0.4796257464404785,
          0.39675428371047583,
          0.08471919285442371,
          2.316459601511867,
          -0.6023990311010815,
          0.37340250597385055,
          0.43971356837911735,
          -1.6402628334912959,
          -0.9495724265911488,
          -0.32079803214803193,
          1.2837029413771264,
          2.009469308334944,
          -1.4731465084206268
         ],
         "xaxis": "x3",
         "y": [
          0.2317169047197511,
          0.878202859039861,
          0.8845456478701096,
          -0.8548417612934461,
          2.551212651230751,
          -0.9715711502953682,
          -1.4286297257729936,
          0.171781997371082,
          -0.26501974141230633,
          1.448118461903668,
          0.956200364077296,
          0.2798407221282476,
          1.2898124098548918,
          -0.1805503744770984,
          -0.9712934350712948,
          0.944830093864121,
          0.008383811079937189,
          0.06411389321304094,
          -3.0448966138834717,
          0.2071650308743917,
          1.264273231110705,
          0.009115961650350713,
          1.2032289481855762,
          0.1748885773766371,
          0.7705083291235805,
          -0.48405781692728334,
          -0.18229576272709286,
          -0.14480699019100146,
          1.6209270254850905,
          -0.03720051887920887,
          0.9189256626796768,
          1.7353795151389286,
          -1.4527591753072113,
          0.21084974842433038,
          -0.8424132209460763,
          0.8108010689563284,
          1.8849307915325269,
          -0.38236134284848067,
          -1.8509955384600723,
          -1.0043802296934055,
          -1.6700335882266961,
          -0.2662800200558214,
          -0.2816104466918759,
          1.9695064659323902,
          -1.3531333401005186,
          -1.8246487015463517,
          0.4161856133422532,
          -0.31404073402964167,
          0.3722783675048442,
          2.133303617040413,
          -2.4471958895748074,
          2.380719002345152,
          -0.3987430854316932,
          -0.014650312488142936,
          1.2256641691759387,
          1.7799074314307135,
          0.5487143518972628,
          0.02541417834825154,
          0.5381538643916343,
          2.4535136319212816,
          -0.023803262090310917,
          -0.6496924161052658,
          0.04478553352171316,
          0.5365061860661642,
          0.7233240221161904,
          -0.2522619818245915,
          -1.5789598702116967,
          0.274926573285316,
          -0.04484425533308025,
          -0.39533639004855775,
          -0.1539674894937371,
          0.5434894729148447,
          0.8297140683352305,
          2.1447937974739597,
          -0.8691243150874558,
          1.1913449442332948,
          0.23992685967080285,
          0.835519899053282,
          0.775127212877518,
          0.8179378516059655,
          0.6767887621858589,
          -0.28668771741995064,
          1.2664829486946523,
          0.036890380042112085,
          1.5343541032540513,
          -1.3328073199877764,
          -0.20674743397348924,
          -0.8547345166834612,
          1.0274052102743279,
          -0.6231463227343251,
          -0.6202269343992488,
          -1.009586728733132,
          0.8198648674064811,
          -0.04155656422413667,
          -0.2858429069412091,
          0.5013344026955628,
          -0.5205537443270363,
          0.1794569091055445,
          -0.00679461552715747,
          -1.2871461273377063
         ],
         "yaxis": "y3"
        },
        {
         "line": {
          "color": "rgba(128, 128, 128, 1.0)",
          "dash": "solid",
          "shape": "linear",
          "width": 1.3
         },
         "marker": {
          "size": 2,
          "symbol": "circle"
         },
         "mode": "markers",
         "name": "A",
         "text": "",
         "type": "scatter",
         "x": [
          -2.442256353799493,
          0.9709073716653166,
          0.696274416445329,
          -1.3126537757852912,
          -2.2947642215377204,
          0.43228965765873084,
          -0.10021975225989974,
          -0.4698607642153028,
          -0.5246454530162009,
          0.13681171817723586,
          -0.9370907913956436,
          0.8445496846097051,
          -1.667602149903598,
          0.8745593102331858,
          0.10793897930998145,
          -0.7708921010334914,
          -0.2202577403908129,
          0.9388393811045872,
          -0.3281237880224698,
          -0.7641445848219853,
          0.43543153494206766,
          -0.48474473190503836,
          0.091323404352155,
          -0.24932231329802002,
          -0.5418876011717217,
          -1.839286415125374,
          -0.3550779695049941,
          0.6272218526602737,
          -1.4910626848433257,
          -1.384819702601713,
          0.09261078980348449,
          0.29154485152882614,
          -0.06378760397108495,
          -0.9888039260722917,
          1.691419920108266,
          -0.016189506872969554,
          -1.4499900937662091,
          1.194294912410125,
          -0.8905946789584178,
          0.8461668696074989,
          1.3481107874991505,
          0.18484025597813206,
          1.1939901347592021,
          -1.2269055559462192,
          -1.6565115330781173,
          0.8225612174844014,
          0.23538104223758402,
          0.9159505819726038,
          0.9052096637356831,
          -0.21363144162587533,
          -0.7045645324301515,
          2.2355376442405683,
          -1.087024634990793,
          -0.9284202296100911,
          0.5526029056481675,
          -0.08759625350686467,
          -0.26013841086949063,
          -0.9324053494992589,
          -0.42948391693450516,
          -1.7485288340102203,
          1.8763482356866217,
          0.5708790874737044,
          -0.4402313750147008,
          1.1433931462379325,
          -1.1941177871386843,
          0.9164471651556135,
          0.2682697132215851,
          -0.14541228935368888,
          0.43065816417788816,
          1.1943353658604958,
          -0.4425320995761557,
          1.3332944501727115,
          1.2118557393134026,
          -1.6754054370786313,
          -0.9283743663315047,
          -0.8756507657260819,
          1.1656107346870621,
          -1.9472276496535312,
          0.07316268632878668,
          -0.8291130140690789,
          -1.4169765179376612,
          -0.07422350376193564,
          0.01340229644766372,
          0.8452908135594251,
          -0.8239328943839699,
          -1.2702749571195067,
          0.19096336174852996,
          0.1910642010087316,
          0.22379519850495896,
          0.06803220665062615,
          -0.2256372052800465,
          1.645972371363568,
          -0.4806571833155429,
          -0.09350263832696941,
          -0.3527346819892025,
          -0.6926482546678576,
          0.9810824733842617,
          0.5958950430222143,
          1.2119876816009385,
          0.7191139021428278
         ],
         "xaxis": "x4",
         "y": [
          0.2317169047197511,
          0.878202859039861,
          0.8845456478701096,
          -0.8548417612934461,
          2.551212651230751,
          -0.9715711502953682,
          -1.4286297257729936,
          0.171781997371082,
          -0.26501974141230633,
          1.448118461903668,
          0.956200364077296,
          0.2798407221282476,
          1.2898124098548918,
          -0.1805503744770984,
          -0.9712934350712948,
          0.944830093864121,
          0.008383811079937189,
          0.06411389321304094,
          -3.0448966138834717,
          0.2071650308743917,
          1.264273231110705,
          0.009115961650350713,
          1.2032289481855762,
          0.1748885773766371,
          0.7705083291235805,
          -0.48405781692728334,
          -0.18229576272709286,
          -0.14480699019100146,
          1.6209270254850905,
          -0.03720051887920887,
          0.9189256626796768,
          1.7353795151389286,
          -1.4527591753072113,
          0.21084974842433038,
          -0.8424132209460763,
          0.8108010689563284,
          1.8849307915325269,
          -0.38236134284848067,
          -1.8509955384600723,
          -1.0043802296934055,
          -1.6700335882266961,
          -0.2662800200558214,
          -0.2816104466918759,
          1.9695064659323902,
          -1.3531333401005186,
          -1.8246487015463517,
          0.4161856133422532,
          -0.31404073402964167,
          0.3722783675048442,
          2.133303617040413,
          -2.4471958895748074,
          2.380719002345152,
          -0.3987430854316932,
          -0.014650312488142936,
          1.2256641691759387,
          1.7799074314307135,
          0.5487143518972628,
          0.02541417834825154,
          0.5381538643916343,
          2.4535136319212816,
          -0.023803262090310917,
          -0.6496924161052658,
          0.04478553352171316,
          0.5365061860661642,
          0.7233240221161904,
          -0.2522619818245915,
          -1.5789598702116967,
          0.274926573285316,
          -0.04484425533308025,
          -0.39533639004855775,
          -0.1539674894937371,
          0.5434894729148447,
          0.8297140683352305,
          2.1447937974739597,
          -0.8691243150874558,
          1.1913449442332948,
          0.23992685967080285,
          0.835519899053282,
          0.775127212877518,
          0.8179378516059655,
          0.6767887621858589,
          -0.28668771741995064,
          1.2664829486946523,
          0.036890380042112085,
          1.5343541032540513,
          -1.3328073199877764,
          -0.20674743397348924,
          -0.8547345166834612,
          1.0274052102743279,
          -0.6231463227343251,
          -0.6202269343992488,
          -1.009586728733132,
          0.8198648674064811,
          -0.04155656422413667,
          -0.2858429069412091,
          0.5013344026955628,
          -0.5205537443270363,
          0.1794569091055445,
          -0.00679461552715747,
          -1.2871461273377063
         ],
         "yaxis": "y4"
        },
        {
         "line": {
          "color": "rgba(128, 128, 128, 1.0)",
          "dash": "solid",
          "shape": "linear",
          "width": 1.3
         },
         "marker": {
          "size": 2,
          "symbol": "circle"
         },
         "mode": "markers",
         "name": "B",
         "text": "",
         "type": "scatter",
         "x": [
          0.2317169047197511,
          0.878202859039861,
          0.8845456478701096,
          -0.8548417612934461,
          2.551212651230751,
          -0.9715711502953682,
          -1.4286297257729936,
          0.171781997371082,
          -0.26501974141230633,
          1.448118461903668,
          0.956200364077296,
          0.2798407221282476,
          1.2898124098548918,
          -0.1805503744770984,
          -0.9712934350712948,
          0.944830093864121,
          0.008383811079937189,
          0.06411389321304094,
          -3.0448966138834717,
          0.2071650308743917,
          1.264273231110705,
          0.009115961650350713,
          1.2032289481855762,
          0.1748885773766371,
          0.7705083291235805,
          -0.48405781692728334,
          -0.18229576272709286,
          -0.14480699019100146,
          1.6209270254850905,
          -0.03720051887920887,
          0.9189256626796768,
          1.7353795151389286,
          -1.4527591753072113,
          0.21084974842433038,
          -0.8424132209460763,
          0.8108010689563284,
          1.8849307915325269,
          -0.38236134284848067,
          -1.8509955384600723,
          -1.0043802296934055,
          -1.6700335882266961,
          -0.2662800200558214,
          -0.2816104466918759,
          1.9695064659323902,
          -1.3531333401005186,
          -1.8246487015463517,
          0.4161856133422532,
          -0.31404073402964167,
          0.3722783675048442,
          2.133303617040413,
          -2.4471958895748074,
          2.380719002345152,
          -0.3987430854316932,
          -0.014650312488142936,
          1.2256641691759387,
          1.7799074314307135,
          0.5487143518972628,
          0.02541417834825154,
          0.5381538643916343,
          2.4535136319212816,
          -0.023803262090310917,
          -0.6496924161052658,
          0.04478553352171316,
          0.5365061860661642,
          0.7233240221161904,
          -0.2522619818245915,
          -1.5789598702116967,
          0.274926573285316,
          -0.04484425533308025,
          -0.39533639004855775,
          -0.1539674894937371,
          0.5434894729148447,
          0.8297140683352305,
          2.1447937974739597,
          -0.8691243150874558,
          1.1913449442332948,
          0.23992685967080285,
          0.835519899053282,
          0.775127212877518,
          0.8179378516059655,
          0.6767887621858589,
          -0.28668771741995064,
          1.2664829486946523,
          0.036890380042112085,
          1.5343541032540513,
          -1.3328073199877764,
          -0.20674743397348924,
          -0.8547345166834612,
          1.0274052102743279,
          -0.6231463227343251,
          -0.6202269343992488,
          -1.009586728733132,
          0.8198648674064811,
          -0.04155656422413667,
          -0.2858429069412091,
          0.5013344026955628,
          -0.5205537443270363,
          0.1794569091055445,
          -0.00679461552715747,
          -1.2871461273377063
         ],
         "xaxis": "x5",
         "y": [
          0.31537573601972646,
          0.8264280604720017,
          0.15880673938410703,
          -0.4945665747013332,
          -1.9291971682912035,
          -2.053128461013517,
          -0.41822165453726745,
          -0.7777578395540988,
          -0.37320239693156027,
          1.0077705019872478,
          0.2712966828345281,
          0.21274963696718877,
          0.08681838559463527,
          -0.5836485889875932,
          1.239568154067294,
          -0.8336166955037497,
          1.1474346168150165,
          -0.03716505277910525,
          -0.9630423160360793,
          0.05960721757341472,
          -0.9577369659471877,
          -0.6095456247495279,
          -1.0329204156788498,
          -1.2125958704403847,
          0.6604393457031784,
          0.4269054295495109,
          -1.215150155380957,
          1.38929308577231,
          -1.4642961357447615,
          -0.17395852265987718,
          -0.7053311469661707,
          0.863093219012688,
          0.3637406994713603,
          0.5826837313913135,
          -1.209932493419657,
          2.051445643285071,
          -1.0399723552126299,
          0.34911638943718615,
          0.6266184994346646,
          -0.17987182552393097,
          -0.5033924263326975,
          -1.3554213726667181,
          0.7381731188497714,
          0.6032159315621837,
          0.31383776587827605,
          1.5221045096712567,
          1.0730090081467314,
          1.5068400071106,
          -1.9657532084588805,
          -1.3738273908249323,
          0.48706954818705034,
          0.1934097777960746,
          -0.5098684385059237,
          -1.1110673077332558,
          1.4519574756869593,
          1.0745558846756398,
          0.0008134396062797892,
          0.9200113282161689,
          -1.7200861348159882,
          0.10651184111518136,
          -0.30946533602772835,
          0.16269854297053135,
          -0.1334720800134916,
          0.1437347175119578,
          0.6360683442236713,
          -1.6347287577630152,
          0.8359585335920502,
          0.027100102289993433,
          -0.7574047971474507,
          -1.5691832242530772,
          -0.10517278040729248,
          -1.911316107110392,
          -0.2040847122474828,
          -0.5268421182380644,
          -1.5201277139063434,
          -0.3368327664567618,
          3.1166495508586363,
          -0.5106661675704326,
          -0.24961234609561317,
          0.38516480037623885,
          -0.5394614558449573,
          1.3909296431635094,
          -0.4953771635676115,
          0.5514715008926203,
          -1.6368152085915135,
          0.30964057125138994,
          1.2710308408072852,
          -0.662447702474752,
          0.3566427211364223,
          -0.25598888429205297,
          -0.7707764963409064,
          -0.4223655211888527,
          0.5102442968597752,
          -0.23874528949899876,
          0.4422885398643252,
          1.18606662880413,
          -0.4108029668452801,
          1.2414388069753572,
          0.1345819144557129,
          0.7666064340071423
         ],
         "yaxis": "y5"
        },
        {
         "histfunc": "count",
         "histnorm": "",
         "marker": {
          "color": "rgba(55, 128, 191, 1.0)",
          "line": {
           "color": "#4D5663",
           "width": 1.3
          }
         },
         "name": "B",
         "nbinsx": 10,
         "opacity": 0.8,
         "orientation": "v",
         "type": "histogram",
         "x": [
          0.31537573601972646,
          0.8264280604720017,
          0.15880673938410703,
          -0.4945665747013332,
          -1.9291971682912035,
          -2.053128461013517,
          -0.41822165453726745,
          -0.7777578395540988,
          -0.37320239693156027,
          1.0077705019872478,
          0.2712966828345281,
          0.21274963696718877,
          0.08681838559463527,
          -0.5836485889875932,
          1.239568154067294,
          -0.8336166955037497,
          1.1474346168150165,
          -0.03716505277910525,
          -0.9630423160360793,
          0.05960721757341472,
          -0.9577369659471877,
          -0.6095456247495279,
          -1.0329204156788498,
          -1.2125958704403847,
          0.6604393457031784,
          0.4269054295495109,
          -1.215150155380957,
          1.38929308577231,
          -1.4642961357447615,
          -0.17395852265987718,
          -0.7053311469661707,
          0.863093219012688,
          0.3637406994713603,
          0.5826837313913135,
          -1.209932493419657,
          2.051445643285071,
          -1.0399723552126299,
          0.34911638943718615,
          0.6266184994346646,
          -0.17987182552393097,
          -0.5033924263326975,
          -1.3554213726667181,
          0.7381731188497714,
          0.6032159315621837,
          0.31383776587827605,
          1.5221045096712567,
          1.0730090081467314,
          1.5068400071106,
          -1.9657532084588805,
          -1.3738273908249323,
          0.48706954818705034,
          0.1934097777960746,
          -0.5098684385059237,
          -1.1110673077332558,
          1.4519574756869593,
          1.0745558846756398,
          0.0008134396062797892,
          0.9200113282161689,
          -1.7200861348159882,
          0.10651184111518136,
          -0.30946533602772835,
          0.16269854297053135,
          -0.1334720800134916,
          0.1437347175119578,
          0.6360683442236713,
          -1.6347287577630152,
          0.8359585335920502,
          0.027100102289993433,
          -0.7574047971474507,
          -1.5691832242530772,
          -0.10517278040729248,
          -1.911316107110392,
          -0.2040847122474828,
          -0.5268421182380644,
          -1.5201277139063434,
          -0.3368327664567618,
          3.1166495508586363,
          -0.5106661675704326,
          -0.24961234609561317,
          0.38516480037623885,
          -0.5394614558449573,
          1.3909296431635094,
          -0.4953771635676115,
          0.5514715008926203,
          -1.6368152085915135,
          0.30964057125138994,
          1.2710308408072852,
          -0.662447702474752,
          0.3566427211364223,
          -0.25598888429205297,
          -0.7707764963409064,
          -0.4223655211888527,
          0.5102442968597752,
          -0.23874528949899876,
          0.4422885398643252,
          1.18606662880413,
          -0.4108029668452801,
          1.2414388069753572,
          0.1345819144557129,
          0.7666064340071423
         ],
         "xaxis": "x6",
         "yaxis": "y6"
        },
        {
         "line": {
          "color": "rgba(128, 128, 128, 1.0)",
          "dash": "solid",
          "shape": "linear",
          "width": 1.3
         },
         "marker": {
          "size": 2,
          "symbol": "circle"
         },
         "mode": "markers",
         "name": "B",
         "text": "",
         "type": "scatter",
         "x": [
          1.3314285234318506,
          -2.0030525524828158,
          0.8069750498787827,
          0.9650026018679855,
          0.3991816879331618,
          -0.379448951815883,
          0.0024418491318277096,
          -0.32736691297864695,
          1.16931048547153,
          2.277194132272568,
          -0.3754035435751317,
          0.8543373667068819,
          1.3412745962545134,
          -0.27836773917921465,
          -0.29464171475836526,
          -1.6243271705310767,
          0.30396234597697075,
          1.299440130107271,
          0.7011900077995749,
          1.4162591056558447,
          -0.757889301132777,
          1.2546446382994334,
          1.4585142492013845,
          -0.5363544395570112,
          1.4067424359427916,
          1.3039734139735715,
          0.9768829449054949,
          0.07959476569537824,
          1.9871355642589208,
          0.08606255824303585,
          -0.4020330448402153,
          -0.4361604878308823,
          -0.5645071849416328,
          -0.41470886996172984,
          1.380995442688989,
          -0.6883129275760239,
          0.5021014468963432,
          1.4979232102687683,
          0.048940873099344535,
          -1.2988952332686514,
          0.33295045401849954,
          -0.3321991887263928,
          0.5013365346924666,
          -0.9659423586694746,
          0.12979017542930207,
          -0.02994181004275303,
          0.6555581172761401,
          -0.30013895760744935,
          1.6345750352404322,
          0.23456207343882354,
          0.1493109973874951,
          0.7190281138780342,
          -0.5537135272792176,
          0.4772060118979437,
          -0.4144051359566405,
          -1.661374140130275,
          0.10704398422570807,
          -0.01470891404458069,
          -0.4028553085825461,
          -0.20664313573199233,
          0.05127213215269603,
          1.4998740906734598,
          -0.30346216338926657,
          -1.0398698382840703,
          -0.5815714798397903,
          -0.44646545271589355,
          0.05074529560975637,
          0.09620115280697357,
          -0.9899884889260059,
          0.27567166848079194,
          0.05558431731978129,
          -0.6084012980119271,
          -1.4768058399743125,
          0.4582183899408311,
          -0.6069867652636305,
          -0.8006908421822598,
          -0.5130961708745303,
          -3.1382625698594664,
          0.3062727725919721,
          0.28283417391136356,
          -0.552613838492679,
          2.0005647848200128,
          0.7256179513485513,
          -0.2301234857640447,
          -0.0681978012030093,
          0.6811349335356885,
          -1.3879335391650898,
          -0.4796257464404785,
          0.39675428371047583,
          0.08471919285442371,
          2.316459601511867,
          -0.6023990311010815,
          0.37340250597385055,
          0.43971356837911735,
          -1.6402628334912959,
          -0.9495724265911488,
          -0.32079803214803193,
          1.2837029413771264,
          2.009469308334944,
          -1.4731465084206268
         ],
         "xaxis": "x7",
         "y": [
          0.31537573601972646,
          0.8264280604720017,
          0.15880673938410703,
          -0.4945665747013332,
          -1.9291971682912035,
          -2.053128461013517,
          -0.41822165453726745,
          -0.7777578395540988,
          -0.37320239693156027,
          1.0077705019872478,
          0.2712966828345281,
          0.21274963696718877,
          0.08681838559463527,
          -0.5836485889875932,
          1.239568154067294,
          -0.8336166955037497,
          1.1474346168150165,
          -0.03716505277910525,
          -0.9630423160360793,
          0.05960721757341472,
          -0.9577369659471877,
          -0.6095456247495279,
          -1.0329204156788498,
          -1.2125958704403847,
          0.6604393457031784,
          0.4269054295495109,
          -1.215150155380957,
          1.38929308577231,
          -1.4642961357447615,
          -0.17395852265987718,
          -0.7053311469661707,
          0.863093219012688,
          0.3637406994713603,
          0.5826837313913135,
          -1.209932493419657,
          2.051445643285071,
          -1.0399723552126299,
          0.34911638943718615,
          0.6266184994346646,
          -0.17987182552393097,
          -0.5033924263326975,
          -1.3554213726667181,
          0.7381731188497714,
          0.6032159315621837,
          0.31383776587827605,
          1.5221045096712567,
          1.0730090081467314,
          1.5068400071106,
          -1.9657532084588805,
          -1.3738273908249323,
          0.48706954818705034,
          0.1934097777960746,
          -0.5098684385059237,
          -1.1110673077332558,
          1.4519574756869593,
          1.0745558846756398,
          0.0008134396062797892,
          0.9200113282161689,
          -1.7200861348159882,
          0.10651184111518136,
          -0.30946533602772835,
          0.16269854297053135,
          -0.1334720800134916,
          0.1437347175119578,
          0.6360683442236713,
          -1.6347287577630152,
          0.8359585335920502,
          0.027100102289993433,
          -0.7574047971474507,
          -1.5691832242530772,
          -0.10517278040729248,
          -1.911316107110392,
          -0.2040847122474828,
          -0.5268421182380644,
          -1.5201277139063434,
          -0.3368327664567618,
          3.1166495508586363,
          -0.5106661675704326,
          -0.24961234609561317,
          0.38516480037623885,
          -0.5394614558449573,
          1.3909296431635094,
          -0.4953771635676115,
          0.5514715008926203,
          -1.6368152085915135,
          0.30964057125138994,
          1.2710308408072852,
          -0.662447702474752,
          0.3566427211364223,
          -0.25598888429205297,
          -0.7707764963409064,
          -0.4223655211888527,
          0.5102442968597752,
          -0.23874528949899876,
          0.4422885398643252,
          1.18606662880413,
          -0.4108029668452801,
          1.2414388069753572,
          0.1345819144557129,
          0.7666064340071423
         ],
         "yaxis": "y7"
        },
        {
         "line": {
          "color": "rgba(128, 128, 128, 1.0)",
          "dash": "solid",
          "shape": "linear",
          "width": 1.3
         },
         "marker": {
          "size": 2,
          "symbol": "circle"
         },
         "mode": "markers",
         "name": "B",
         "text": "",
         "type": "scatter",
         "x": [
          -2.442256353799493,
          0.9709073716653166,
          0.696274416445329,
          -1.3126537757852912,
          -2.2947642215377204,
          0.43228965765873084,
          -0.10021975225989974,
          -0.4698607642153028,
          -0.5246454530162009,
          0.13681171817723586,
          -0.9370907913956436,
          0.8445496846097051,
          -1.667602149903598,
          0.8745593102331858,
          0.10793897930998145,
          -0.7708921010334914,
          -0.2202577403908129,
          0.9388393811045872,
          -0.3281237880224698,
          -0.7641445848219853,
          0.43543153494206766,
          -0.48474473190503836,
          0.091323404352155,
          -0.24932231329802002,
          -0.5418876011717217,
          -1.839286415125374,
          -0.3550779695049941,
          0.6272218526602737,
          -1.4910626848433257,
          -1.384819702601713,
          0.09261078980348449,
          0.29154485152882614,
          -0.06378760397108495,
          -0.9888039260722917,
          1.691419920108266,
          -0.016189506872969554,
          -1.4499900937662091,
          1.194294912410125,
          -0.8905946789584178,
          0.8461668696074989,
          1.3481107874991505,
          0.18484025597813206,
          1.1939901347592021,
          -1.2269055559462192,
          -1.6565115330781173,
          0.8225612174844014,
          0.23538104223758402,
          0.9159505819726038,
          0.9052096637356831,
          -0.21363144162587533,
          -0.7045645324301515,
          2.2355376442405683,
          -1.087024634990793,
          -0.9284202296100911,
          0.5526029056481675,
          -0.08759625350686467,
          -0.26013841086949063,
          -0.9324053494992589,
          -0.42948391693450516,
          -1.7485288340102203,
          1.8763482356866217,
          0.5708790874737044,
          -0.4402313750147008,
          1.1433931462379325,
          -1.1941177871386843,
          0.9164471651556135,
          0.2682697132215851,
          -0.14541228935368888,
          0.43065816417788816,
          1.1943353658604958,
          -0.4425320995761557,
          1.3332944501727115,
          1.2118557393134026,
          -1.6754054370786313,
          -0.9283743663315047,
          -0.8756507657260819,
          1.1656107346870621,
          -1.9472276496535312,
          0.07316268632878668,
          -0.8291130140690789,
          -1.4169765179376612,
          -0.07422350376193564,
          0.01340229644766372,
          0.8452908135594251,
          -0.8239328943839699,
          -1.2702749571195067,
          0.19096336174852996,
          0.1910642010087316,
          0.22379519850495896,
          0.06803220665062615,
          -0.2256372052800465,
          1.645972371363568,
          -0.4806571833155429,
          -0.09350263832696941,
          -0.3527346819892025,
          -0.6926482546678576,
          0.9810824733842617,
          0.5958950430222143,
          1.2119876816009385,
          0.7191139021428278
         ],
         "xaxis": "x8",
         "y": [
          0.31537573601972646,
          0.8264280604720017,
          0.15880673938410703,
          -0.4945665747013332,
          -1.9291971682912035,
          -2.053128461013517,
          -0.41822165453726745,
          -0.7777578395540988,
          -0.37320239693156027,
          1.0077705019872478,
          0.2712966828345281,
          0.21274963696718877,
          0.08681838559463527,
          -0.5836485889875932,
          1.239568154067294,
          -0.8336166955037497,
          1.1474346168150165,
          -0.03716505277910525,
          -0.9630423160360793,
          0.05960721757341472,
          -0.9577369659471877,
          -0.6095456247495279,
          -1.0329204156788498,
          -1.2125958704403847,
          0.6604393457031784,
          0.4269054295495109,
          -1.215150155380957,
          1.38929308577231,
          -1.4642961357447615,
          -0.17395852265987718,
          -0.7053311469661707,
          0.863093219012688,
          0.3637406994713603,
          0.5826837313913135,
          -1.209932493419657,
          2.051445643285071,
          -1.0399723552126299,
          0.34911638943718615,
          0.6266184994346646,
          -0.17987182552393097,
          -0.5033924263326975,
          -1.3554213726667181,
          0.7381731188497714,
          0.6032159315621837,
          0.31383776587827605,
          1.5221045096712567,
          1.0730090081467314,
          1.5068400071106,
          -1.9657532084588805,
          -1.3738273908249323,
          0.48706954818705034,
          0.1934097777960746,
          -0.5098684385059237,
          -1.1110673077332558,
          1.4519574756869593,
          1.0745558846756398,
          0.0008134396062797892,
          0.9200113282161689,
          -1.7200861348159882,
          0.10651184111518136,
          -0.30946533602772835,
          0.16269854297053135,
          -0.1334720800134916,
          0.1437347175119578,
          0.6360683442236713,
          -1.6347287577630152,
          0.8359585335920502,
          0.027100102289993433,
          -0.7574047971474507,
          -1.5691832242530772,
          -0.10517278040729248,
          -1.911316107110392,
          -0.2040847122474828,
          -0.5268421182380644,
          -1.5201277139063434,
          -0.3368327664567618,
          3.1166495508586363,
          -0.5106661675704326,
          -0.24961234609561317,
          0.38516480037623885,
          -0.5394614558449573,
          1.3909296431635094,
          -0.4953771635676115,
          0.5514715008926203,
          -1.6368152085915135,
          0.30964057125138994,
          1.2710308408072852,
          -0.662447702474752,
          0.3566427211364223,
          -0.25598888429205297,
          -0.7707764963409064,
          -0.4223655211888527,
          0.5102442968597752,
          -0.23874528949899876,
          0.4422885398643252,
          1.18606662880413,
          -0.4108029668452801,
          1.2414388069753572,
          0.1345819144557129,
          0.7666064340071423
         ],
         "yaxis": "y8"
        },
        {
         "line": {
          "color": "rgba(128, 128, 128, 1.0)",
          "dash": "solid",
          "shape": "linear",
          "width": 1.3
         },
         "marker": {
          "size": 2,
          "symbol": "circle"
         },
         "mode": "markers",
         "name": "C",
         "text": "",
         "type": "scatter",
         "x": [
          0.2317169047197511,
          0.878202859039861,
          0.8845456478701096,
          -0.8548417612934461,
          2.551212651230751,
          -0.9715711502953682,
          -1.4286297257729936,
          0.171781997371082,
          -0.26501974141230633,
          1.448118461903668,
          0.956200364077296,
          0.2798407221282476,
          1.2898124098548918,
          -0.1805503744770984,
          -0.9712934350712948,
          0.944830093864121,
          0.008383811079937189,
          0.06411389321304094,
          -3.0448966138834717,
          0.2071650308743917,
          1.264273231110705,
          0.009115961650350713,
          1.2032289481855762,
          0.1748885773766371,
          0.7705083291235805,
          -0.48405781692728334,
          -0.18229576272709286,
          -0.14480699019100146,
          1.6209270254850905,
          -0.03720051887920887,
          0.9189256626796768,
          1.7353795151389286,
          -1.4527591753072113,
          0.21084974842433038,
          -0.8424132209460763,
          0.8108010689563284,
          1.8849307915325269,
          -0.38236134284848067,
          -1.8509955384600723,
          -1.0043802296934055,
          -1.6700335882266961,
          -0.2662800200558214,
          -0.2816104466918759,
          1.9695064659323902,
          -1.3531333401005186,
          -1.8246487015463517,
          0.4161856133422532,
          -0.31404073402964167,
          0.3722783675048442,
          2.133303617040413,
          -2.4471958895748074,
          2.380719002345152,
          -0.3987430854316932,
          -0.014650312488142936,
          1.2256641691759387,
          1.7799074314307135,
          0.5487143518972628,
          0.02541417834825154,
          0.5381538643916343,
          2.4535136319212816,
          -0.023803262090310917,
          -0.6496924161052658,
          0.04478553352171316,
          0.5365061860661642,
          0.7233240221161904,
          -0.2522619818245915,
          -1.5789598702116967,
          0.274926573285316,
          -0.04484425533308025,
          -0.39533639004855775,
          -0.1539674894937371,
          0.5434894729148447,
          0.8297140683352305,
          2.1447937974739597,
          -0.8691243150874558,
          1.1913449442332948,
          0.23992685967080285,
          0.835519899053282,
          0.775127212877518,
          0.8179378516059655,
          0.6767887621858589,
          -0.28668771741995064,
          1.2664829486946523,
          0.036890380042112085,
          1.5343541032540513,
          -1.3328073199877764,
          -0.20674743397348924,
          -0.8547345166834612,
          1.0274052102743279,
          -0.6231463227343251,
          -0.6202269343992488,
          -1.009586728733132,
          0.8198648674064811,
          -0.04155656422413667,
          -0.2858429069412091,
          0.5013344026955628,
          -0.5205537443270363,
          0.1794569091055445,
          -0.00679461552715747,
          -1.2871461273377063
         ],
         "xaxis": "x9",
         "y": [
          1.3314285234318506,
          -2.0030525524828158,
          0.8069750498787827,
          0.9650026018679855,
          0.3991816879331618,
          -0.379448951815883,
          0.0024418491318277096,
          -0.32736691297864695,
          1.16931048547153,
          2.277194132272568,
          -0.3754035435751317,
          0.8543373667068819,
          1.3412745962545134,
          -0.27836773917921465,
          -0.29464171475836526,
          -1.6243271705310767,
          0.30396234597697075,
          1.299440130107271,
          0.7011900077995749,
          1.4162591056558447,
          -0.757889301132777,
          1.2546446382994334,
          1.4585142492013845,
          -0.5363544395570112,
          1.4067424359427916,
          1.3039734139735715,
          0.9768829449054949,
          0.07959476569537824,
          1.9871355642589208,
          0.08606255824303585,
          -0.4020330448402153,
          -0.4361604878308823,
          -0.5645071849416328,
          -0.41470886996172984,
          1.380995442688989,
          -0.6883129275760239,
          0.5021014468963432,
          1.4979232102687683,
          0.048940873099344535,
          -1.2988952332686514,
          0.33295045401849954,
          -0.3321991887263928,
          0.5013365346924666,
          -0.9659423586694746,
          0.12979017542930207,
          -0.02994181004275303,
          0.6555581172761401,
          -0.30013895760744935,
          1.6345750352404322,
          0.23456207343882354,
          0.1493109973874951,
          0.7190281138780342,
          -0.5537135272792176,
          0.4772060118979437,
          -0.4144051359566405,
          -1.661374140130275,
          0.10704398422570807,
          -0.01470891404458069,
          -0.4028553085825461,
          -0.20664313573199233,
          0.05127213215269603,
          1.4998740906734598,
          -0.30346216338926657,
          -1.0398698382840703,
          -0.5815714798397903,
          -0.44646545271589355,
          0.05074529560975637,
          0.09620115280697357,
          -0.9899884889260059,
          0.27567166848079194,
          0.05558431731978129,
          -0.6084012980119271,
          -1.4768058399743125,
          0.4582183899408311,
          -0.6069867652636305,
          -0.8006908421822598,
          -0.5130961708745303,
          -3.1382625698594664,
          0.3062727725919721,
          0.28283417391136356,
          -0.552613838492679,
          2.0005647848200128,
          0.7256179513485513,
          -0.2301234857640447,
          -0.0681978012030093,
          0.6811349335356885,
          -1.3879335391650898,
          -0.4796257464404785,
          0.39675428371047583,
          0.08471919285442371,
          2.316459601511867,
          -0.6023990311010815,
          0.37340250597385055,
          0.43971356837911735,
          -1.6402628334912959,
          -0.9495724265911488,
          -0.32079803214803193,
          1.2837029413771264,
          2.009469308334944,
          -1.4731465084206268
         ],
         "yaxis": "y9"
        },
        {
         "line": {
          "color": "rgba(128, 128, 128, 1.0)",
          "dash": "solid",
          "shape": "linear",
          "width": 1.3
         },
         "marker": {
          "size": 2,
          "symbol": "circle"
         },
         "mode": "markers",
         "name": "C",
         "text": "",
         "type": "scatter",
         "x": [
          0.31537573601972646,
          0.8264280604720017,
          0.15880673938410703,
          -0.4945665747013332,
          -1.9291971682912035,
          -2.053128461013517,
          -0.41822165453726745,
          -0.7777578395540988,
          -0.37320239693156027,
          1.0077705019872478,
          0.2712966828345281,
          0.21274963696718877,
          0.08681838559463527,
          -0.5836485889875932,
          1.239568154067294,
          -0.8336166955037497,
          1.1474346168150165,
          -0.03716505277910525,
          -0.9630423160360793,
          0.05960721757341472,
          -0.9577369659471877,
          -0.6095456247495279,
          -1.0329204156788498,
          -1.2125958704403847,
          0.6604393457031784,
          0.4269054295495109,
          -1.215150155380957,
          1.38929308577231,
          -1.4642961357447615,
          -0.17395852265987718,
          -0.7053311469661707,
          0.863093219012688,
          0.3637406994713603,
          0.5826837313913135,
          -1.209932493419657,
          2.051445643285071,
          -1.0399723552126299,
          0.34911638943718615,
          0.6266184994346646,
          -0.17987182552393097,
          -0.5033924263326975,
          -1.3554213726667181,
          0.7381731188497714,
          0.6032159315621837,
          0.31383776587827605,
          1.5221045096712567,
          1.0730090081467314,
          1.5068400071106,
          -1.9657532084588805,
          -1.3738273908249323,
          0.48706954818705034,
          0.1934097777960746,
          -0.5098684385059237,
          -1.1110673077332558,
          1.4519574756869593,
          1.0745558846756398,
          0.0008134396062797892,
          0.9200113282161689,
          -1.7200861348159882,
          0.10651184111518136,
          -0.30946533602772835,
          0.16269854297053135,
          -0.1334720800134916,
          0.1437347175119578,
          0.6360683442236713,
          -1.6347287577630152,
          0.8359585335920502,
          0.027100102289993433,
          -0.7574047971474507,
          -1.5691832242530772,
          -0.10517278040729248,
          -1.911316107110392,
          -0.2040847122474828,
          -0.5268421182380644,
          -1.5201277139063434,
          -0.3368327664567618,
          3.1166495508586363,
          -0.5106661675704326,
          -0.24961234609561317,
          0.38516480037623885,
          -0.5394614558449573,
          1.3909296431635094,
          -0.4953771635676115,
          0.5514715008926203,
          -1.6368152085915135,
          0.30964057125138994,
          1.2710308408072852,
          -0.662447702474752,
          0.3566427211364223,
          -0.25598888429205297,
          -0.7707764963409064,
          -0.4223655211888527,
          0.5102442968597752,
          -0.23874528949899876,
          0.4422885398643252,
          1.18606662880413,
          -0.4108029668452801,
          1.2414388069753572,
          0.1345819144557129,
          0.7666064340071423
         ],
         "xaxis": "x10",
         "y": [
          1.3314285234318506,
          -2.0030525524828158,
          0.8069750498787827,
          0.9650026018679855,
          0.3991816879331618,
          -0.379448951815883,
          0.0024418491318277096,
          -0.32736691297864695,
          1.16931048547153,
          2.277194132272568,
          -0.3754035435751317,
          0.8543373667068819,
          1.3412745962545134,
          -0.27836773917921465,
          -0.29464171475836526,
          -1.6243271705310767,
          0.30396234597697075,
          1.299440130107271,
          0.7011900077995749,
          1.4162591056558447,
          -0.757889301132777,
          1.2546446382994334,
          1.4585142492013845,
          -0.5363544395570112,
          1.4067424359427916,
          1.3039734139735715,
          0.9768829449054949,
          0.07959476569537824,
          1.9871355642589208,
          0.08606255824303585,
          -0.4020330448402153,
          -0.4361604878308823,
          -0.5645071849416328,
          -0.41470886996172984,
          1.380995442688989,
          -0.6883129275760239,
          0.5021014468963432,
          1.4979232102687683,
          0.048940873099344535,
          -1.2988952332686514,
          0.33295045401849954,
          -0.3321991887263928,
          0.5013365346924666,
          -0.9659423586694746,
          0.12979017542930207,
          -0.02994181004275303,
          0.6555581172761401,
          -0.30013895760744935,
          1.6345750352404322,
          0.23456207343882354,
          0.1493109973874951,
          0.7190281138780342,
          -0.5537135272792176,
          0.4772060118979437,
          -0.4144051359566405,
          -1.661374140130275,
          0.10704398422570807,
          -0.01470891404458069,
          -0.4028553085825461,
          -0.20664313573199233,
          0.05127213215269603,
          1.4998740906734598,
          -0.30346216338926657,
          -1.0398698382840703,
          -0.5815714798397903,
          -0.44646545271589355,
          0.05074529560975637,
          0.09620115280697357,
          -0.9899884889260059,
          0.27567166848079194,
          0.05558431731978129,
          -0.6084012980119271,
          -1.4768058399743125,
          0.4582183899408311,
          -0.6069867652636305,
          -0.8006908421822598,
          -0.5130961708745303,
          -3.1382625698594664,
          0.3062727725919721,
          0.28283417391136356,
          -0.552613838492679,
          2.0005647848200128,
          0.7256179513485513,
          -0.2301234857640447,
          -0.0681978012030093,
          0.6811349335356885,
          -1.3879335391650898,
          -0.4796257464404785,
          0.39675428371047583,
          0.08471919285442371,
          2.316459601511867,
          -0.6023990311010815,
          0.37340250597385055,
          0.43971356837911735,
          -1.6402628334912959,
          -0.9495724265911488,
          -0.32079803214803193,
          1.2837029413771264,
          2.009469308334944,
          -1.4731465084206268
         ],
         "yaxis": "y10"
        },
        {
         "histfunc": "count",
         "histnorm": "",
         "marker": {
          "color": "rgba(50, 171, 96, 1.0)",
          "line": {
           "color": "#4D5663",
           "width": 1.3
          }
         },
         "name": "C",
         "nbinsx": 10,
         "opacity": 0.8,
         "orientation": "v",
         "type": "histogram",
         "x": [
          1.3314285234318506,
          -2.0030525524828158,
          0.8069750498787827,
          0.9650026018679855,
          0.3991816879331618,
          -0.379448951815883,
          0.0024418491318277096,
          -0.32736691297864695,
          1.16931048547153,
          2.277194132272568,
          -0.3754035435751317,
          0.8543373667068819,
          1.3412745962545134,
          -0.27836773917921465,
          -0.29464171475836526,
          -1.6243271705310767,
          0.30396234597697075,
          1.299440130107271,
          0.7011900077995749,
          1.4162591056558447,
          -0.757889301132777,
          1.2546446382994334,
          1.4585142492013845,
          -0.5363544395570112,
          1.4067424359427916,
          1.3039734139735715,
          0.9768829449054949,
          0.07959476569537824,
          1.9871355642589208,
          0.08606255824303585,
          -0.4020330448402153,
          -0.4361604878308823,
          -0.5645071849416328,
          -0.41470886996172984,
          1.380995442688989,
          -0.6883129275760239,
          0.5021014468963432,
          1.4979232102687683,
          0.048940873099344535,
          -1.2988952332686514,
          0.33295045401849954,
          -0.3321991887263928,
          0.5013365346924666,
          -0.9659423586694746,
          0.12979017542930207,
          -0.02994181004275303,
          0.6555581172761401,
          -0.30013895760744935,
          1.6345750352404322,
          0.23456207343882354,
          0.1493109973874951,
          0.7190281138780342,
          -0.5537135272792176,
          0.4772060118979437,
          -0.4144051359566405,
          -1.661374140130275,
          0.10704398422570807,
          -0.01470891404458069,
          -0.4028553085825461,
          -0.20664313573199233,
          0.05127213215269603,
          1.4998740906734598,
          -0.30346216338926657,
          -1.0398698382840703,
          -0.5815714798397903,
          -0.44646545271589355,
          0.05074529560975637,
          0.09620115280697357,
          -0.9899884889260059,
          0.27567166848079194,
          0.05558431731978129,
          -0.6084012980119271,
          -1.4768058399743125,
          0.4582183899408311,
          -0.6069867652636305,
          -0.8006908421822598,
          -0.5130961708745303,
          -3.1382625698594664,
          0.3062727725919721,
          0.28283417391136356,
          -0.552613838492679,
          2.0005647848200128,
          0.7256179513485513,
          -0.2301234857640447,
          -0.0681978012030093,
          0.6811349335356885,
          -1.3879335391650898,
          -0.4796257464404785,
          0.39675428371047583,
          0.08471919285442371,
          2.316459601511867,
          -0.6023990311010815,
          0.37340250597385055,
          0.43971356837911735,
          -1.6402628334912959,
          -0.9495724265911488,
          -0.32079803214803193,
          1.2837029413771264,
          2.009469308334944,
          -1.4731465084206268
         ],
         "xaxis": "x11",
         "yaxis": "y11"
        },
        {
         "line": {
          "color": "rgba(128, 128, 128, 1.0)",
          "dash": "solid",
          "shape": "linear",
          "width": 1.3
         },
         "marker": {
          "size": 2,
          "symbol": "circle"
         },
         "mode": "markers",
         "name": "C",
         "text": "",
         "type": "scatter",
         "x": [
          -2.442256353799493,
          0.9709073716653166,
          0.696274416445329,
          -1.3126537757852912,
          -2.2947642215377204,
          0.43228965765873084,
          -0.10021975225989974,
          -0.4698607642153028,
          -0.5246454530162009,
          0.13681171817723586,
          -0.9370907913956436,
          0.8445496846097051,
          -1.667602149903598,
          0.8745593102331858,
          0.10793897930998145,
          -0.7708921010334914,
          -0.2202577403908129,
          0.9388393811045872,
          -0.3281237880224698,
          -0.7641445848219853,
          0.43543153494206766,
          -0.48474473190503836,
          0.091323404352155,
          -0.24932231329802002,
          -0.5418876011717217,
          -1.839286415125374,
          -0.3550779695049941,
          0.6272218526602737,
          -1.4910626848433257,
          -1.384819702601713,
          0.09261078980348449,
          0.29154485152882614,
          -0.06378760397108495,
          -0.9888039260722917,
          1.691419920108266,
          -0.016189506872969554,
          -1.4499900937662091,
          1.194294912410125,
          -0.8905946789584178,
          0.8461668696074989,
          1.3481107874991505,
          0.18484025597813206,
          1.1939901347592021,
          -1.2269055559462192,
          -1.6565115330781173,
          0.8225612174844014,
          0.23538104223758402,
          0.9159505819726038,
          0.9052096637356831,
          -0.21363144162587533,
          -0.7045645324301515,
          2.2355376442405683,
          -1.087024634990793,
          -0.9284202296100911,
          0.5526029056481675,
          -0.08759625350686467,
          -0.26013841086949063,
          -0.9324053494992589,
          -0.42948391693450516,
          -1.7485288340102203,
          1.8763482356866217,
          0.5708790874737044,
          -0.4402313750147008,
          1.1433931462379325,
          -1.1941177871386843,
          0.9164471651556135,
          0.2682697132215851,
          -0.14541228935368888,
          0.43065816417788816,
          1.1943353658604958,
          -0.4425320995761557,
          1.3332944501727115,
          1.2118557393134026,
          -1.6754054370786313,
          -0.9283743663315047,
          -0.8756507657260819,
          1.1656107346870621,
          -1.9472276496535312,
          0.07316268632878668,
          -0.8291130140690789,
          -1.4169765179376612,
          -0.07422350376193564,
          0.01340229644766372,
          0.8452908135594251,
          -0.8239328943839699,
          -1.2702749571195067,
          0.19096336174852996,
          0.1910642010087316,
          0.22379519850495896,
          0.06803220665062615,
          -0.2256372052800465,
          1.645972371363568,
          -0.4806571833155429,
          -0.09350263832696941,
          -0.3527346819892025,
          -0.6926482546678576,
          0.9810824733842617,
          0.5958950430222143,
          1.2119876816009385,
          0.7191139021428278
         ],
         "xaxis": "x12",
         "y": [
          1.3314285234318506,
          -2.0030525524828158,
          0.8069750498787827,
          0.9650026018679855,
          0.3991816879331618,
          -0.379448951815883,
          0.0024418491318277096,
          -0.32736691297864695,
          1.16931048547153,
          2.277194132272568,
          -0.3754035435751317,
          0.8543373667068819,
          1.3412745962545134,
          -0.27836773917921465,
          -0.29464171475836526,
          -1.6243271705310767,
          0.30396234597697075,
          1.299440130107271,
          0.7011900077995749,
          1.4162591056558447,
          -0.757889301132777,
          1.2546446382994334,
          1.4585142492013845,
          -0.5363544395570112,
          1.4067424359427916,
          1.3039734139735715,
          0.9768829449054949,
          0.07959476569537824,
          1.9871355642589208,
          0.08606255824303585,
          -0.4020330448402153,
          -0.4361604878308823,
          -0.5645071849416328,
          -0.41470886996172984,
          1.380995442688989,
          -0.6883129275760239,
          0.5021014468963432,
          1.4979232102687683,
          0.048940873099344535,
          -1.2988952332686514,
          0.33295045401849954,
          -0.3321991887263928,
          0.5013365346924666,
          -0.9659423586694746,
          0.12979017542930207,
          -0.02994181004275303,
          0.6555581172761401,
          -0.30013895760744935,
          1.6345750352404322,
          0.23456207343882354,
          0.1493109973874951,
          0.7190281138780342,
          -0.5537135272792176,
          0.4772060118979437,
          -0.4144051359566405,
          -1.661374140130275,
          0.10704398422570807,
          -0.01470891404458069,
          -0.4028553085825461,
          -0.20664313573199233,
          0.05127213215269603,
          1.4998740906734598,
          -0.30346216338926657,
          -1.0398698382840703,
          -0.5815714798397903,
          -0.44646545271589355,
          0.05074529560975637,
          0.09620115280697357,
          -0.9899884889260059,
          0.27567166848079194,
          0.05558431731978129,
          -0.6084012980119271,
          -1.4768058399743125,
          0.4582183899408311,
          -0.6069867652636305,
          -0.8006908421822598,
          -0.5130961708745303,
          -3.1382625698594664,
          0.3062727725919721,
          0.28283417391136356,
          -0.552613838492679,
          2.0005647848200128,
          0.7256179513485513,
          -0.2301234857640447,
          -0.0681978012030093,
          0.6811349335356885,
          -1.3879335391650898,
          -0.4796257464404785,
          0.39675428371047583,
          0.08471919285442371,
          2.316459601511867,
          -0.6023990311010815,
          0.37340250597385055,
          0.43971356837911735,
          -1.6402628334912959,
          -0.9495724265911488,
          -0.32079803214803193,
          1.2837029413771264,
          2.009469308334944,
          -1.4731465084206268
         ],
         "yaxis": "y12"
        },
        {
         "line": {
          "color": "rgba(128, 128, 128, 1.0)",
          "dash": "solid",
          "shape": "linear",
          "width": 1.3
         },
         "marker": {
          "size": 2,
          "symbol": "circle"
         },
         "mode": "markers",
         "name": "D",
         "text": "",
         "type": "scatter",
         "x": [
          0.2317169047197511,
          0.878202859039861,
          0.8845456478701096,
          -0.8548417612934461,
          2.551212651230751,
          -0.9715711502953682,
          -1.4286297257729936,
          0.171781997371082,
          -0.26501974141230633,
          1.448118461903668,
          0.956200364077296,
          0.2798407221282476,
          1.2898124098548918,
          -0.1805503744770984,
          -0.9712934350712948,
          0.944830093864121,
          0.008383811079937189,
          0.06411389321304094,
          -3.0448966138834717,
          0.2071650308743917,
          1.264273231110705,
          0.009115961650350713,
          1.2032289481855762,
          0.1748885773766371,
          0.7705083291235805,
          -0.48405781692728334,
          -0.18229576272709286,
          -0.14480699019100146,
          1.6209270254850905,
          -0.03720051887920887,
          0.9189256626796768,
          1.7353795151389286,
          -1.4527591753072113,
          0.21084974842433038,
          -0.8424132209460763,
          0.8108010689563284,
          1.8849307915325269,
          -0.38236134284848067,
          -1.8509955384600723,
          -1.0043802296934055,
          -1.6700335882266961,
          -0.2662800200558214,
          -0.2816104466918759,
          1.9695064659323902,
          -1.3531333401005186,
          -1.8246487015463517,
          0.4161856133422532,
          -0.31404073402964167,
          0.3722783675048442,
          2.133303617040413,
          -2.4471958895748074,
          2.380719002345152,
          -0.3987430854316932,
          -0.014650312488142936,
          1.2256641691759387,
          1.7799074314307135,
          0.5487143518972628,
          0.02541417834825154,
          0.5381538643916343,
          2.4535136319212816,
          -0.023803262090310917,
          -0.6496924161052658,
          0.04478553352171316,
          0.5365061860661642,
          0.7233240221161904,
          -0.2522619818245915,
          -1.5789598702116967,
          0.274926573285316,
          -0.04484425533308025,
          -0.39533639004855775,
          -0.1539674894937371,
          0.5434894729148447,
          0.8297140683352305,
          2.1447937974739597,
          -0.8691243150874558,
          1.1913449442332948,
          0.23992685967080285,
          0.835519899053282,
          0.775127212877518,
          0.8179378516059655,
          0.6767887621858589,
          -0.28668771741995064,
          1.2664829486946523,
          0.036890380042112085,
          1.5343541032540513,
          -1.3328073199877764,
          -0.20674743397348924,
          -0.8547345166834612,
          1.0274052102743279,
          -0.6231463227343251,
          -0.6202269343992488,
          -1.009586728733132,
          0.8198648674064811,
          -0.04155656422413667,
          -0.2858429069412091,
          0.5013344026955628,
          -0.5205537443270363,
          0.1794569091055445,
          -0.00679461552715747,
          -1.2871461273377063
         ],
         "xaxis": "x13",
         "y": [
          -2.442256353799493,
          0.9709073716653166,
          0.696274416445329,
          -1.3126537757852912,
          -2.2947642215377204,
          0.43228965765873084,
          -0.10021975225989974,
          -0.4698607642153028,
          -0.5246454530162009,
          0.13681171817723586,
          -0.9370907913956436,
          0.8445496846097051,
          -1.667602149903598,
          0.8745593102331858,
          0.10793897930998145,
          -0.7708921010334914,
          -0.2202577403908129,
          0.9388393811045872,
          -0.3281237880224698,
          -0.7641445848219853,
          0.43543153494206766,
          -0.48474473190503836,
          0.091323404352155,
          -0.24932231329802002,
          -0.5418876011717217,
          -1.839286415125374,
          -0.3550779695049941,
          0.6272218526602737,
          -1.4910626848433257,
          -1.384819702601713,
          0.09261078980348449,
          0.29154485152882614,
          -0.06378760397108495,
          -0.9888039260722917,
          1.691419920108266,
          -0.016189506872969554,
          -1.4499900937662091,
          1.194294912410125,
          -0.8905946789584178,
          0.8461668696074989,
          1.3481107874991505,
          0.18484025597813206,
          1.1939901347592021,
          -1.2269055559462192,
          -1.6565115330781173,
          0.8225612174844014,
          0.23538104223758402,
          0.9159505819726038,
          0.9052096637356831,
          -0.21363144162587533,
          -0.7045645324301515,
          2.2355376442405683,
          -1.087024634990793,
          -0.9284202296100911,
          0.5526029056481675,
          -0.08759625350686467,
          -0.26013841086949063,
          -0.9324053494992589,
          -0.42948391693450516,
          -1.7485288340102203,
          1.8763482356866217,
          0.5708790874737044,
          -0.4402313750147008,
          1.1433931462379325,
          -1.1941177871386843,
          0.9164471651556135,
          0.2682697132215851,
          -0.14541228935368888,
          0.43065816417788816,
          1.1943353658604958,
          -0.4425320995761557,
          1.3332944501727115,
          1.2118557393134026,
          -1.6754054370786313,
          -0.9283743663315047,
          -0.8756507657260819,
          1.1656107346870621,
          -1.9472276496535312,
          0.07316268632878668,
          -0.8291130140690789,
          -1.4169765179376612,
          -0.07422350376193564,
          0.01340229644766372,
          0.8452908135594251,
          -0.8239328943839699,
          -1.2702749571195067,
          0.19096336174852996,
          0.1910642010087316,
          0.22379519850495896,
          0.06803220665062615,
          -0.2256372052800465,
          1.645972371363568,
          -0.4806571833155429,
          -0.09350263832696941,
          -0.3527346819892025,
          -0.6926482546678576,
          0.9810824733842617,
          0.5958950430222143,
          1.2119876816009385,
          0.7191139021428278
         ],
         "yaxis": "y13"
        },
        {
         "line": {
          "color": "rgba(128, 128, 128, 1.0)",
          "dash": "solid",
          "shape": "linear",
          "width": 1.3
         },
         "marker": {
          "size": 2,
          "symbol": "circle"
         },
         "mode": "markers",
         "name": "D",
         "text": "",
         "type": "scatter",
         "x": [
          0.31537573601972646,
          0.8264280604720017,
          0.15880673938410703,
          -0.4945665747013332,
          -1.9291971682912035,
          -2.053128461013517,
          -0.41822165453726745,
          -0.7777578395540988,
          -0.37320239693156027,
          1.0077705019872478,
          0.2712966828345281,
          0.21274963696718877,
          0.08681838559463527,
          -0.5836485889875932,
          1.239568154067294,
          -0.8336166955037497,
          1.1474346168150165,
          -0.03716505277910525,
          -0.9630423160360793,
          0.05960721757341472,
          -0.9577369659471877,
          -0.6095456247495279,
          -1.0329204156788498,
          -1.2125958704403847,
          0.6604393457031784,
          0.4269054295495109,
          -1.215150155380957,
          1.38929308577231,
          -1.4642961357447615,
          -0.17395852265987718,
          -0.7053311469661707,
          0.863093219012688,
          0.3637406994713603,
          0.5826837313913135,
          -1.209932493419657,
          2.051445643285071,
          -1.0399723552126299,
          0.34911638943718615,
          0.6266184994346646,
          -0.17987182552393097,
          -0.5033924263326975,
          -1.3554213726667181,
          0.7381731188497714,
          0.6032159315621837,
          0.31383776587827605,
          1.5221045096712567,
          1.0730090081467314,
          1.5068400071106,
          -1.9657532084588805,
          -1.3738273908249323,
          0.48706954818705034,
          0.1934097777960746,
          -0.5098684385059237,
          -1.1110673077332558,
          1.4519574756869593,
          1.0745558846756398,
          0.0008134396062797892,
          0.9200113282161689,
          -1.7200861348159882,
          0.10651184111518136,
          -0.30946533602772835,
          0.16269854297053135,
          -0.1334720800134916,
          0.1437347175119578,
          0.6360683442236713,
          -1.6347287577630152,
          0.8359585335920502,
          0.027100102289993433,
          -0.7574047971474507,
          -1.5691832242530772,
          -0.10517278040729248,
          -1.911316107110392,
          -0.2040847122474828,
          -0.5268421182380644,
          -1.5201277139063434,
          -0.3368327664567618,
          3.1166495508586363,
          -0.5106661675704326,
          -0.24961234609561317,
          0.38516480037623885,
          -0.5394614558449573,
          1.3909296431635094,
          -0.4953771635676115,
          0.5514715008926203,
          -1.6368152085915135,
          0.30964057125138994,
          1.2710308408072852,
          -0.662447702474752,
          0.3566427211364223,
          -0.25598888429205297,
          -0.7707764963409064,
          -0.4223655211888527,
          0.5102442968597752,
          -0.23874528949899876,
          0.4422885398643252,
          1.18606662880413,
          -0.4108029668452801,
          1.2414388069753572,
          0.1345819144557129,
          0.7666064340071423
         ],
         "xaxis": "x14",
         "y": [
          -2.442256353799493,
          0.9709073716653166,
          0.696274416445329,
          -1.3126537757852912,
          -2.2947642215377204,
          0.43228965765873084,
          -0.10021975225989974,
          -0.4698607642153028,
          -0.5246454530162009,
          0.13681171817723586,
          -0.9370907913956436,
          0.8445496846097051,
          -1.667602149903598,
          0.8745593102331858,
          0.10793897930998145,
          -0.7708921010334914,
          -0.2202577403908129,
          0.9388393811045872,
          -0.3281237880224698,
          -0.7641445848219853,
          0.43543153494206766,
          -0.48474473190503836,
          0.091323404352155,
          -0.24932231329802002,
          -0.5418876011717217,
          -1.839286415125374,
          -0.3550779695049941,
          0.6272218526602737,
          -1.4910626848433257,
          -1.384819702601713,
          0.09261078980348449,
          0.29154485152882614,
          -0.06378760397108495,
          -0.9888039260722917,
          1.691419920108266,
          -0.016189506872969554,
          -1.4499900937662091,
          1.194294912410125,
          -0.8905946789584178,
          0.8461668696074989,
          1.3481107874991505,
          0.18484025597813206,
          1.1939901347592021,
          -1.2269055559462192,
          -1.6565115330781173,
          0.8225612174844014,
          0.23538104223758402,
          0.9159505819726038,
          0.9052096637356831,
          -0.21363144162587533,
          -0.7045645324301515,
          2.2355376442405683,
          -1.087024634990793,
          -0.9284202296100911,
          0.5526029056481675,
          -0.08759625350686467,
          -0.26013841086949063,
          -0.9324053494992589,
          -0.42948391693450516,
          -1.7485288340102203,
          1.8763482356866217,
          0.5708790874737044,
          -0.4402313750147008,
          1.1433931462379325,
          -1.1941177871386843,
          0.9164471651556135,
          0.2682697132215851,
          -0.14541228935368888,
          0.43065816417788816,
          1.1943353658604958,
          -0.4425320995761557,
          1.3332944501727115,
          1.2118557393134026,
          -1.6754054370786313,
          -0.9283743663315047,
          -0.8756507657260819,
          1.1656107346870621,
          -1.9472276496535312,
          0.07316268632878668,
          -0.8291130140690789,
          -1.4169765179376612,
          -0.07422350376193564,
          0.01340229644766372,
          0.8452908135594251,
          -0.8239328943839699,
          -1.2702749571195067,
          0.19096336174852996,
          0.1910642010087316,
          0.22379519850495896,
          0.06803220665062615,
          -0.2256372052800465,
          1.645972371363568,
          -0.4806571833155429,
          -0.09350263832696941,
          -0.3527346819892025,
          -0.6926482546678576,
          0.9810824733842617,
          0.5958950430222143,
          1.2119876816009385,
          0.7191139021428278
         ],
         "yaxis": "y14"
        },
        {
         "line": {
          "color": "rgba(128, 128, 128, 1.0)",
          "dash": "solid",
          "shape": "linear",
          "width": 1.3
         },
         "marker": {
          "size": 2,
          "symbol": "circle"
         },
         "mode": "markers",
         "name": "D",
         "text": "",
         "type": "scatter",
         "x": [
          1.3314285234318506,
          -2.0030525524828158,
          0.8069750498787827,
          0.9650026018679855,
          0.3991816879331618,
          -0.379448951815883,
          0.0024418491318277096,
          -0.32736691297864695,
          1.16931048547153,
          2.277194132272568,
          -0.3754035435751317,
          0.8543373667068819,
          1.3412745962545134,
          -0.27836773917921465,
          -0.29464171475836526,
          -1.6243271705310767,
          0.30396234597697075,
          1.299440130107271,
          0.7011900077995749,
          1.4162591056558447,
          -0.757889301132777,
          1.2546446382994334,
          1.4585142492013845,
          -0.5363544395570112,
          1.4067424359427916,
          1.3039734139735715,
          0.9768829449054949,
          0.07959476569537824,
          1.9871355642589208,
          0.08606255824303585,
          -0.4020330448402153,
          -0.4361604878308823,
          -0.5645071849416328,
          -0.41470886996172984,
          1.380995442688989,
          -0.6883129275760239,
          0.5021014468963432,
          1.4979232102687683,
          0.048940873099344535,
          -1.2988952332686514,
          0.33295045401849954,
          -0.3321991887263928,
          0.5013365346924666,
          -0.9659423586694746,
          0.12979017542930207,
          -0.02994181004275303,
          0.6555581172761401,
          -0.30013895760744935,
          1.6345750352404322,
          0.23456207343882354,
          0.1493109973874951,
          0.7190281138780342,
          -0.5537135272792176,
          0.4772060118979437,
          -0.4144051359566405,
          -1.661374140130275,
          0.10704398422570807,
          -0.01470891404458069,
          -0.4028553085825461,
          -0.20664313573199233,
          0.05127213215269603,
          1.4998740906734598,
          -0.30346216338926657,
          -1.0398698382840703,
          -0.5815714798397903,
          -0.44646545271589355,
          0.05074529560975637,
          0.09620115280697357,
          -0.9899884889260059,
          0.27567166848079194,
          0.05558431731978129,
          -0.6084012980119271,
          -1.4768058399743125,
          0.4582183899408311,
          -0.6069867652636305,
          -0.8006908421822598,
          -0.5130961708745303,
          -3.1382625698594664,
          0.3062727725919721,
          0.28283417391136356,
          -0.552613838492679,
          2.0005647848200128,
          0.7256179513485513,
          -0.2301234857640447,
          -0.0681978012030093,
          0.6811349335356885,
          -1.3879335391650898,
          -0.4796257464404785,
          0.39675428371047583,
          0.08471919285442371,
          2.316459601511867,
          -0.6023990311010815,
          0.37340250597385055,
          0.43971356837911735,
          -1.6402628334912959,
          -0.9495724265911488,
          -0.32079803214803193,
          1.2837029413771264,
          2.009469308334944,
          -1.4731465084206268
         ],
         "xaxis": "x15",
         "y": [
          -2.442256353799493,
          0.9709073716653166,
          0.696274416445329,
          -1.3126537757852912,
          -2.2947642215377204,
          0.43228965765873084,
          -0.10021975225989974,
          -0.4698607642153028,
          -0.5246454530162009,
          0.13681171817723586,
          -0.9370907913956436,
          0.8445496846097051,
          -1.667602149903598,
          0.8745593102331858,
          0.10793897930998145,
          -0.7708921010334914,
          -0.2202577403908129,
          0.9388393811045872,
          -0.3281237880224698,
          -0.7641445848219853,
          0.43543153494206766,
          -0.48474473190503836,
          0.091323404352155,
          -0.24932231329802002,
          -0.5418876011717217,
          -1.839286415125374,
          -0.3550779695049941,
          0.6272218526602737,
          -1.4910626848433257,
          -1.384819702601713,
          0.09261078980348449,
          0.29154485152882614,
          -0.06378760397108495,
          -0.9888039260722917,
          1.691419920108266,
          -0.016189506872969554,
          -1.4499900937662091,
          1.194294912410125,
          -0.8905946789584178,
          0.8461668696074989,
          1.3481107874991505,
          0.18484025597813206,
          1.1939901347592021,
          -1.2269055559462192,
          -1.6565115330781173,
          0.8225612174844014,
          0.23538104223758402,
          0.9159505819726038,
          0.9052096637356831,
          -0.21363144162587533,
          -0.7045645324301515,
          2.2355376442405683,
          -1.087024634990793,
          -0.9284202296100911,
          0.5526029056481675,
          -0.08759625350686467,
          -0.26013841086949063,
          -0.9324053494992589,
          -0.42948391693450516,
          -1.7485288340102203,
          1.8763482356866217,
          0.5708790874737044,
          -0.4402313750147008,
          1.1433931462379325,
          -1.1941177871386843,
          0.9164471651556135,
          0.2682697132215851,
          -0.14541228935368888,
          0.43065816417788816,
          1.1943353658604958,
          -0.4425320995761557,
          1.3332944501727115,
          1.2118557393134026,
          -1.6754054370786313,
          -0.9283743663315047,
          -0.8756507657260819,
          1.1656107346870621,
          -1.9472276496535312,
          0.07316268632878668,
          -0.8291130140690789,
          -1.4169765179376612,
          -0.07422350376193564,
          0.01340229644766372,
          0.8452908135594251,
          -0.8239328943839699,
          -1.2702749571195067,
          0.19096336174852996,
          0.1910642010087316,
          0.22379519850495896,
          0.06803220665062615,
          -0.2256372052800465,
          1.645972371363568,
          -0.4806571833155429,
          -0.09350263832696941,
          -0.3527346819892025,
          -0.6926482546678576,
          0.9810824733842617,
          0.5958950430222143,
          1.2119876816009385,
          0.7191139021428278
         ],
         "yaxis": "y15"
        },
        {
         "histfunc": "count",
         "histnorm": "",
         "marker": {
          "color": "rgba(128, 0, 128, 1.0)",
          "line": {
           "color": "#4D5663",
           "width": 1.3
          }
         },
         "name": "D",
         "nbinsx": 10,
         "opacity": 0.8,
         "orientation": "v",
         "type": "histogram",
         "x": [
          -2.442256353799493,
          0.9709073716653166,
          0.696274416445329,
          -1.3126537757852912,
          -2.2947642215377204,
          0.43228965765873084,
          -0.10021975225989974,
          -0.4698607642153028,
          -0.5246454530162009,
          0.13681171817723586,
          -0.9370907913956436,
          0.8445496846097051,
          -1.667602149903598,
          0.8745593102331858,
          0.10793897930998145,
          -0.7708921010334914,
          -0.2202577403908129,
          0.9388393811045872,
          -0.3281237880224698,
          -0.7641445848219853,
          0.43543153494206766,
          -0.48474473190503836,
          0.091323404352155,
          -0.24932231329802002,
          -0.5418876011717217,
          -1.839286415125374,
          -0.3550779695049941,
          0.6272218526602737,
          -1.4910626848433257,
          -1.384819702601713,
          0.09261078980348449,
          0.29154485152882614,
          -0.06378760397108495,
          -0.9888039260722917,
          1.691419920108266,
          -0.016189506872969554,
          -1.4499900937662091,
          1.194294912410125,
          -0.8905946789584178,
          0.8461668696074989,
          1.3481107874991505,
          0.18484025597813206,
          1.1939901347592021,
          -1.2269055559462192,
          -1.6565115330781173,
          0.8225612174844014,
          0.23538104223758402,
          0.9159505819726038,
          0.9052096637356831,
          -0.21363144162587533,
          -0.7045645324301515,
          2.2355376442405683,
          -1.087024634990793,
          -0.9284202296100911,
          0.5526029056481675,
          -0.08759625350686467,
          -0.26013841086949063,
          -0.9324053494992589,
          -0.42948391693450516,
          -1.7485288340102203,
          1.8763482356866217,
          0.5708790874737044,
          -0.4402313750147008,
          1.1433931462379325,
          -1.1941177871386843,
          0.9164471651556135,
          0.2682697132215851,
          -0.14541228935368888,
          0.43065816417788816,
          1.1943353658604958,
          -0.4425320995761557,
          1.3332944501727115,
          1.2118557393134026,
          -1.6754054370786313,
          -0.9283743663315047,
          -0.8756507657260819,
          1.1656107346870621,
          -1.9472276496535312,
          0.07316268632878668,
          -0.8291130140690789,
          -1.4169765179376612,
          -0.07422350376193564,
          0.01340229644766372,
          0.8452908135594251,
          -0.8239328943839699,
          -1.2702749571195067,
          0.19096336174852996,
          0.1910642010087316,
          0.22379519850495896,
          0.06803220665062615,
          -0.2256372052800465,
          1.645972371363568,
          -0.4806571833155429,
          -0.09350263832696941,
          -0.3527346819892025,
          -0.6926482546678576,
          0.9810824733842617,
          0.5958950430222143,
          1.2119876816009385,
          0.7191139021428278
         ],
         "xaxis": "x16",
         "yaxis": "y16"
        }
       ],
       "layout": {
        "bargap": 0.02,
        "legend": {
         "bgcolor": "#F5F6F9",
         "font": {
          "color": "#4D5663"
         }
        },
        "paper_bgcolor": "#F5F6F9",
        "plot_bgcolor": "#F5F6F9",
        "showlegend": false,
        "template": {
         "data": {
          "bar": [
           {
            "error_x": {
             "color": "#2a3f5f"
            },
            "error_y": {
             "color": "#2a3f5f"
            },
            "marker": {
             "line": {
              "color": "#E5ECF6",
              "width": 0.5
             }
            },
            "type": "bar"
           }
          ],
          "barpolar": [
           {
            "marker": {
             "line": {
              "color": "#E5ECF6",
              "width": 0.5
             }
            },
            "type": "barpolar"
           }
          ],
          "carpet": [
           {
            "aaxis": {
             "endlinecolor": "#2a3f5f",
             "gridcolor": "white",
             "linecolor": "white",
             "minorgridcolor": "white",
             "startlinecolor": "#2a3f5f"
            },
            "baxis": {
             "endlinecolor": "#2a3f5f",
             "gridcolor": "white",
             "linecolor": "white",
             "minorgridcolor": "white",
             "startlinecolor": "#2a3f5f"
            },
            "type": "carpet"
           }
          ],
          "choropleth": [
           {
            "colorbar": {
             "outlinewidth": 0,
             "ticks": ""
            },
            "type": "choropleth"
           }
          ],
          "contour": [
           {
            "colorbar": {
             "outlinewidth": 0,
             "ticks": ""
            },
            "colorscale": [
             [
              0,
              "#0d0887"
             ],
             [
              0.1111111111111111,
              "#46039f"
             ],
             [
              0.2222222222222222,
              "#7201a8"
             ],
             [
              0.3333333333333333,
              "#9c179e"
             ],
             [
              0.4444444444444444,
              "#bd3786"
             ],
             [
              0.5555555555555556,
              "#d8576b"
             ],
             [
              0.6666666666666666,
              "#ed7953"
             ],
             [
              0.7777777777777778,
              "#fb9f3a"
             ],
             [
              0.8888888888888888,
              "#fdca26"
             ],
             [
              1,
              "#f0f921"
             ]
            ],
            "type": "contour"
           }
          ],
          "contourcarpet": [
           {
            "colorbar": {
             "outlinewidth": 0,
             "ticks": ""
            },
            "type": "contourcarpet"
           }
          ],
          "heatmap": [
           {
            "colorbar": {
             "outlinewidth": 0,
             "ticks": ""
            },
            "colorscale": [
             [
              0,
              "#0d0887"
             ],
             [
              0.1111111111111111,
              "#46039f"
             ],
             [
              0.2222222222222222,
              "#7201a8"
             ],
             [
              0.3333333333333333,
              "#9c179e"
             ],
             [
              0.4444444444444444,
              "#bd3786"
             ],
             [
              0.5555555555555556,
              "#d8576b"
             ],
             [
              0.6666666666666666,
              "#ed7953"
             ],
             [
              0.7777777777777778,
              "#fb9f3a"
             ],
             [
              0.8888888888888888,
              "#fdca26"
             ],
             [
              1,
              "#f0f921"
             ]
            ],
            "type": "heatmap"
           }
          ],
          "heatmapgl": [
           {
            "colorbar": {
             "outlinewidth": 0,
             "ticks": ""
            },
            "colorscale": [
             [
              0,
              "#0d0887"
             ],
             [
              0.1111111111111111,
              "#46039f"
             ],
             [
              0.2222222222222222,
              "#7201a8"
             ],
             [
              0.3333333333333333,
              "#9c179e"
             ],
             [
              0.4444444444444444,
              "#bd3786"
             ],
             [
              0.5555555555555556,
              "#d8576b"
             ],
             [
              0.6666666666666666,
              "#ed7953"
             ],
             [
              0.7777777777777778,
              "#fb9f3a"
             ],
             [
              0.8888888888888888,
              "#fdca26"
             ],
             [
              1,
              "#f0f921"
             ]
            ],
            "type": "heatmapgl"
           }
          ],
          "histogram": [
           {
            "marker": {
             "colorbar": {
              "outlinewidth": 0,
              "ticks": ""
             }
            },
            "type": "histogram"
           }
          ],
          "histogram2d": [
           {
            "colorbar": {
             "outlinewidth": 0,
             "ticks": ""
            },
            "colorscale": [
             [
              0,
              "#0d0887"
             ],
             [
              0.1111111111111111,
              "#46039f"
             ],
             [
              0.2222222222222222,
              "#7201a8"
             ],
             [
              0.3333333333333333,
              "#9c179e"
             ],
             [
              0.4444444444444444,
              "#bd3786"
             ],
             [
              0.5555555555555556,
              "#d8576b"
             ],
             [
              0.6666666666666666,
              "#ed7953"
             ],
             [
              0.7777777777777778,
              "#fb9f3a"
             ],
             [
              0.8888888888888888,
              "#fdca26"
             ],
             [
              1,
              "#f0f921"
             ]
            ],
            "type": "histogram2d"
           }
          ],
          "histogram2dcontour": [
           {
            "colorbar": {
             "outlinewidth": 0,
             "ticks": ""
            },
            "colorscale": [
             [
              0,
              "#0d0887"
             ],
             [
              0.1111111111111111,
              "#46039f"
             ],
             [
              0.2222222222222222,
              "#7201a8"
             ],
             [
              0.3333333333333333,
              "#9c179e"
             ],
             [
              0.4444444444444444,
              "#bd3786"
             ],
             [
              0.5555555555555556,
              "#d8576b"
             ],
             [
              0.6666666666666666,
              "#ed7953"
             ],
             [
              0.7777777777777778,
              "#fb9f3a"
             ],
             [
              0.8888888888888888,
              "#fdca26"
             ],
             [
              1,
              "#f0f921"
             ]
            ],
            "type": "histogram2dcontour"
           }
          ],
          "mesh3d": [
           {
            "colorbar": {
             "outlinewidth": 0,
             "ticks": ""
            },
            "type": "mesh3d"
           }
          ],
          "parcoords": [
           {
            "line": {
             "colorbar": {
              "outlinewidth": 0,
              "ticks": ""
             }
            },
            "type": "parcoords"
           }
          ],
          "pie": [
           {
            "automargin": true,
            "type": "pie"
           }
          ],
          "scatter": [
           {
            "marker": {
             "colorbar": {
              "outlinewidth": 0,
              "ticks": ""
             }
            },
            "type": "scatter"
           }
          ],
          "scatter3d": [
           {
            "line": {
             "colorbar": {
              "outlinewidth": 0,
              "ticks": ""
             }
            },
            "marker": {
             "colorbar": {
              "outlinewidth": 0,
              "ticks": ""
             }
            },
            "type": "scatter3d"
           }
          ],
          "scattercarpet": [
           {
            "marker": {
             "colorbar": {
              "outlinewidth": 0,
              "ticks": ""
             }
            },
            "type": "scattercarpet"
           }
          ],
          "scattergeo": [
           {
            "marker": {
             "colorbar": {
              "outlinewidth": 0,
              "ticks": ""
             }
            },
            "type": "scattergeo"
           }
          ],
          "scattergl": [
           {
            "marker": {
             "colorbar": {
              "outlinewidth": 0,
              "ticks": ""
             }
            },
            "type": "scattergl"
           }
          ],
          "scattermapbox": [
           {
            "marker": {
             "colorbar": {
              "outlinewidth": 0,
              "ticks": ""
             }
            },
            "type": "scattermapbox"
           }
          ],
          "scatterpolar": [
           {
            "marker": {
             "colorbar": {
              "outlinewidth": 0,
              "ticks": ""
             }
            },
            "type": "scatterpolar"
           }
          ],
          "scatterpolargl": [
           {
            "marker": {
             "colorbar": {
              "outlinewidth": 0,
              "ticks": ""
             }
            },
            "type": "scatterpolargl"
           }
          ],
          "scatterternary": [
           {
            "marker": {
             "colorbar": {
              "outlinewidth": 0,
              "ticks": ""
             }
            },
            "type": "scatterternary"
           }
          ],
          "surface": [
           {
            "colorbar": {
             "outlinewidth": 0,
             "ticks": ""
            },
            "colorscale": [
             [
              0,
              "#0d0887"
             ],
             [
              0.1111111111111111,
              "#46039f"
             ],
             [
              0.2222222222222222,
              "#7201a8"
             ],
             [
              0.3333333333333333,
              "#9c179e"
             ],
             [
              0.4444444444444444,
              "#bd3786"
             ],
             [
              0.5555555555555556,
              "#d8576b"
             ],
             [
              0.6666666666666666,
              "#ed7953"
             ],
             [
              0.7777777777777778,
              "#fb9f3a"
             ],
             [
              0.8888888888888888,
              "#fdca26"
             ],
             [
              1,
              "#f0f921"
             ]
            ],
            "type": "surface"
           }
          ],
          "table": [
           {
            "cells": {
             "fill": {
              "color": "#EBF0F8"
             },
             "line": {
              "color": "white"
             }
            },
            "header": {
             "fill": {
              "color": "#C8D4E3"
             },
             "line": {
              "color": "white"
             }
            },
            "type": "table"
           }
          ]
         },
         "layout": {
          "annotationdefaults": {
           "arrowcolor": "#2a3f5f",
           "arrowhead": 0,
           "arrowwidth": 1
          },
          "coloraxis": {
           "colorbar": {
            "outlinewidth": 0,
            "ticks": ""
           }
          },
          "colorscale": {
           "diverging": [
            [
             0,
             "#8e0152"
            ],
            [
             0.1,
             "#c51b7d"
            ],
            [
             0.2,
             "#de77ae"
            ],
            [
             0.3,
             "#f1b6da"
            ],
            [
             0.4,
             "#fde0ef"
            ],
            [
             0.5,
             "#f7f7f7"
            ],
            [
             0.6,
             "#e6f5d0"
            ],
            [
             0.7,
             "#b8e186"
            ],
            [
             0.8,
             "#7fbc41"
            ],
            [
             0.9,
             "#4d9221"
            ],
            [
             1,
             "#276419"
            ]
           ],
           "sequential": [
            [
             0,
             "#0d0887"
            ],
            [
             0.1111111111111111,
             "#46039f"
            ],
            [
             0.2222222222222222,
             "#7201a8"
            ],
            [
             0.3333333333333333,
             "#9c179e"
            ],
            [
             0.4444444444444444,
             "#bd3786"
            ],
            [
             0.5555555555555556,
             "#d8576b"
            ],
            [
             0.6666666666666666,
             "#ed7953"
            ],
            [
             0.7777777777777778,
             "#fb9f3a"
            ],
            [
             0.8888888888888888,
             "#fdca26"
            ],
            [
             1,
             "#f0f921"
            ]
           ],
           "sequentialminus": [
            [
             0,
             "#0d0887"
            ],
            [
             0.1111111111111111,
             "#46039f"
            ],
            [
             0.2222222222222222,
             "#7201a8"
            ],
            [
             0.3333333333333333,
             "#9c179e"
            ],
            [
             0.4444444444444444,
             "#bd3786"
            ],
            [
             0.5555555555555556,
             "#d8576b"
            ],
            [
             0.6666666666666666,
             "#ed7953"
            ],
            [
             0.7777777777777778,
             "#fb9f3a"
            ],
            [
             0.8888888888888888,
             "#fdca26"
            ],
            [
             1,
             "#f0f921"
            ]
           ]
          },
          "colorway": [
           "#636efa",
           "#EF553B",
           "#00cc96",
           "#ab63fa",
           "#FFA15A",
           "#19d3f3",
           "#FF6692",
           "#B6E880",
           "#FF97FF",
           "#FECB52"
          ],
          "font": {
           "color": "#2a3f5f"
          },
          "geo": {
           "bgcolor": "white",
           "lakecolor": "white",
           "landcolor": "#E5ECF6",
           "showlakes": true,
           "showland": true,
           "subunitcolor": "white"
          },
          "hoverlabel": {
           "align": "left"
          },
          "hovermode": "closest",
          "mapbox": {
           "style": "light"
          },
          "paper_bgcolor": "white",
          "plot_bgcolor": "#E5ECF6",
          "polar": {
           "angularaxis": {
            "gridcolor": "white",
            "linecolor": "white",
            "ticks": ""
           },
           "bgcolor": "#E5ECF6",
           "radialaxis": {
            "gridcolor": "white",
            "linecolor": "white",
            "ticks": ""
           }
          },
          "scene": {
           "xaxis": {
            "backgroundcolor": "#E5ECF6",
            "gridcolor": "white",
            "gridwidth": 2,
            "linecolor": "white",
            "showbackground": true,
            "ticks": "",
            "zerolinecolor": "white"
           },
           "yaxis": {
            "backgroundcolor": "#E5ECF6",
            "gridcolor": "white",
            "gridwidth": 2,
            "linecolor": "white",
            "showbackground": true,
            "ticks": "",
            "zerolinecolor": "white"
           },
           "zaxis": {
            "backgroundcolor": "#E5ECF6",
            "gridcolor": "white",
            "gridwidth": 2,
            "linecolor": "white",
            "showbackground": true,
            "ticks": "",
            "zerolinecolor": "white"
           }
          },
          "shapedefaults": {
           "line": {
            "color": "#2a3f5f"
           }
          },
          "ternary": {
           "aaxis": {
            "gridcolor": "white",
            "linecolor": "white",
            "ticks": ""
           },
           "baxis": {
            "gridcolor": "white",
            "linecolor": "white",
            "ticks": ""
           },
           "bgcolor": "#E5ECF6",
           "caxis": {
            "gridcolor": "white",
            "linecolor": "white",
            "ticks": ""
           }
          },
          "title": {
           "x": 0.05
          },
          "xaxis": {
           "automargin": true,
           "gridcolor": "white",
           "linecolor": "white",
           "ticks": "",
           "title": {
            "standoff": 15
           },
           "zerolinecolor": "white",
           "zerolinewidth": 2
          },
          "yaxis": {
           "automargin": true,
           "gridcolor": "white",
           "linecolor": "white",
           "ticks": "",
           "title": {
            "standoff": 15
           },
           "zerolinecolor": "white",
           "zerolinewidth": 2
          }
         }
        },
        "title": {
         "font": {
          "color": "#4D5663"
         }
        },
        "xaxis": {
         "anchor": "y",
         "domain": [
          0,
          0.2125
         ],
         "gridcolor": "#E1E5ED",
         "showgrid": false,
         "tickfont": {
          "color": "#4D5663"
         },
         "title": {
          "font": {
           "color": "#4D5663"
          },
          "text": ""
         },
         "zerolinecolor": "#E1E5ED"
        },
        "xaxis10": {
         "anchor": "y10",
         "domain": [
          0.2625,
          0.475
         ],
         "gridcolor": "#E1E5ED",
         "showgrid": false,
         "tickfont": {
          "color": "#4D5663"
         },
         "title": {
          "font": {
           "color": "#4D5663"
          },
          "text": ""
         },
         "zerolinecolor": "#E1E5ED"
        },
        "xaxis11": {
         "anchor": "y11",
         "domain": [
          0.525,
          0.7375
         ],
         "gridcolor": "#E1E5ED",
         "showgrid": false,
         "tickfont": {
          "color": "#4D5663"
         },
         "title": {
          "font": {
           "color": "#4D5663"
          },
          "text": ""
         },
         "zerolinecolor": "#E1E5ED"
        },
        "xaxis12": {
         "anchor": "y12",
         "domain": [
          0.7875,
          1
         ],
         "gridcolor": "#E1E5ED",
         "showgrid": false,
         "tickfont": {
          "color": "#4D5663"
         },
         "title": {
          "font": {
           "color": "#4D5663"
          },
          "text": ""
         },
         "zerolinecolor": "#E1E5ED"
        },
        "xaxis13": {
         "anchor": "y13",
         "domain": [
          0,
          0.2125
         ],
         "gridcolor": "#E1E5ED",
         "showgrid": false,
         "tickfont": {
          "color": "#4D5663"
         },
         "title": {
          "font": {
           "color": "#4D5663"
          },
          "text": ""
         },
         "zerolinecolor": "#E1E5ED"
        },
        "xaxis14": {
         "anchor": "y14",
         "domain": [
          0.2625,
          0.475
         ],
         "gridcolor": "#E1E5ED",
         "showgrid": false,
         "tickfont": {
          "color": "#4D5663"
         },
         "title": {
          "font": {
           "color": "#4D5663"
          },
          "text": ""
         },
         "zerolinecolor": "#E1E5ED"
        },
        "xaxis15": {
         "anchor": "y15",
         "domain": [
          0.525,
          0.7375
         ],
         "gridcolor": "#E1E5ED",
         "showgrid": false,
         "tickfont": {
          "color": "#4D5663"
         },
         "title": {
          "font": {
           "color": "#4D5663"
          },
          "text": ""
         },
         "zerolinecolor": "#E1E5ED"
        },
        "xaxis16": {
         "anchor": "y16",
         "domain": [
          0.7875,
          1
         ],
         "gridcolor": "#E1E5ED",
         "showgrid": false,
         "tickfont": {
          "color": "#4D5663"
         },
         "title": {
          "font": {
           "color": "#4D5663"
          },
          "text": ""
         },
         "zerolinecolor": "#E1E5ED"
        },
        "xaxis2": {
         "anchor": "y2",
         "domain": [
          0.2625,
          0.475
         ],
         "gridcolor": "#E1E5ED",
         "showgrid": false,
         "tickfont": {
          "color": "#4D5663"
         },
         "title": {
          "font": {
           "color": "#4D5663"
          },
          "text": ""
         },
         "zerolinecolor": "#E1E5ED"
        },
        "xaxis3": {
         "anchor": "y3",
         "domain": [
          0.525,
          0.7375
         ],
         "gridcolor": "#E1E5ED",
         "showgrid": false,
         "tickfont": {
          "color": "#4D5663"
         },
         "title": {
          "font": {
           "color": "#4D5663"
          },
          "text": ""
         },
         "zerolinecolor": "#E1E5ED"
        },
        "xaxis4": {
         "anchor": "y4",
         "domain": [
          0.7875,
          1
         ],
         "gridcolor": "#E1E5ED",
         "showgrid": false,
         "tickfont": {
          "color": "#4D5663"
         },
         "title": {
          "font": {
           "color": "#4D5663"
          },
          "text": ""
         },
         "zerolinecolor": "#E1E5ED"
        },
        "xaxis5": {
         "anchor": "y5",
         "domain": [
          0,
          0.2125
         ],
         "gridcolor": "#E1E5ED",
         "showgrid": false,
         "tickfont": {
          "color": "#4D5663"
         },
         "title": {
          "font": {
           "color": "#4D5663"
          },
          "text": ""
         },
         "zerolinecolor": "#E1E5ED"
        },
        "xaxis6": {
         "anchor": "y6",
         "domain": [
          0.2625,
          0.475
         ],
         "gridcolor": "#E1E5ED",
         "showgrid": false,
         "tickfont": {
          "color": "#4D5663"
         },
         "title": {
          "font": {
           "color": "#4D5663"
          },
          "text": ""
         },
         "zerolinecolor": "#E1E5ED"
        },
        "xaxis7": {
         "anchor": "y7",
         "domain": [
          0.525,
          0.7375
         ],
         "gridcolor": "#E1E5ED",
         "showgrid": false,
         "tickfont": {
          "color": "#4D5663"
         },
         "title": {
          "font": {
           "color": "#4D5663"
          },
          "text": ""
         },
         "zerolinecolor": "#E1E5ED"
        },
        "xaxis8": {
         "anchor": "y8",
         "domain": [
          0.7875,
          1
         ],
         "gridcolor": "#E1E5ED",
         "showgrid": false,
         "tickfont": {
          "color": "#4D5663"
         },
         "title": {
          "font": {
           "color": "#4D5663"
          },
          "text": ""
         },
         "zerolinecolor": "#E1E5ED"
        },
        "xaxis9": {
         "anchor": "y9",
         "domain": [
          0,
          0.2125
         ],
         "gridcolor": "#E1E5ED",
         "showgrid": false,
         "tickfont": {
          "color": "#4D5663"
         },
         "title": {
          "font": {
           "color": "#4D5663"
          },
          "text": ""
         },
         "zerolinecolor": "#E1E5ED"
        },
        "yaxis": {
         "anchor": "x",
         "domain": [
          0.8025,
          1
         ],
         "gridcolor": "#E1E5ED",
         "showgrid": false,
         "tickfont": {
          "color": "#4D5663"
         },
         "title": {
          "font": {
           "color": "#4D5663"
          },
          "text": ""
         },
         "zerolinecolor": "#E1E5ED"
        },
        "yaxis10": {
         "anchor": "x10",
         "domain": [
          0.2675,
          0.465
         ],
         "gridcolor": "#E1E5ED",
         "showgrid": false,
         "tickfont": {
          "color": "#4D5663"
         },
         "title": {
          "font": {
           "color": "#4D5663"
          },
          "text": ""
         },
         "zerolinecolor": "#E1E5ED"
        },
        "yaxis11": {
         "anchor": "x11",
         "domain": [
          0.2675,
          0.465
         ],
         "gridcolor": "#E1E5ED",
         "showgrid": false,
         "tickfont": {
          "color": "#4D5663"
         },
         "title": {
          "font": {
           "color": "#4D5663"
          },
          "text": ""
         },
         "zerolinecolor": "#E1E5ED"
        },
        "yaxis12": {
         "anchor": "x12",
         "domain": [
          0.2675,
          0.465
         ],
         "gridcolor": "#E1E5ED",
         "showgrid": false,
         "tickfont": {
          "color": "#4D5663"
         },
         "title": {
          "font": {
           "color": "#4D5663"
          },
          "text": ""
         },
         "zerolinecolor": "#E1E5ED"
        },
        "yaxis13": {
         "anchor": "x13",
         "domain": [
          0,
          0.1975
         ],
         "gridcolor": "#E1E5ED",
         "showgrid": false,
         "tickfont": {
          "color": "#4D5663"
         },
         "title": {
          "font": {
           "color": "#4D5663"
          },
          "text": ""
         },
         "zerolinecolor": "#E1E5ED"
        },
        "yaxis14": {
         "anchor": "x14",
         "domain": [
          0,
          0.1975
         ],
         "gridcolor": "#E1E5ED",
         "showgrid": false,
         "tickfont": {
          "color": "#4D5663"
         },
         "title": {
          "font": {
           "color": "#4D5663"
          },
          "text": ""
         },
         "zerolinecolor": "#E1E5ED"
        },
        "yaxis15": {
         "anchor": "x15",
         "domain": [
          0,
          0.1975
         ],
         "gridcolor": "#E1E5ED",
         "showgrid": false,
         "tickfont": {
          "color": "#4D5663"
         },
         "title": {
          "font": {
           "color": "#4D5663"
          },
          "text": ""
         },
         "zerolinecolor": "#E1E5ED"
        },
        "yaxis16": {
         "anchor": "x16",
         "domain": [
          0,
          0.1975
         ],
         "gridcolor": "#E1E5ED",
         "showgrid": false,
         "tickfont": {
          "color": "#4D5663"
         },
         "title": {
          "font": {
           "color": "#4D5663"
          },
          "text": ""
         },
         "zerolinecolor": "#E1E5ED"
        },
        "yaxis2": {
         "anchor": "x2",
         "domain": [
          0.8025,
          1
         ],
         "gridcolor": "#E1E5ED",
         "showgrid": false,
         "tickfont": {
          "color": "#4D5663"
         },
         "title": {
          "font": {
           "color": "#4D5663"
          },
          "text": ""
         },
         "zerolinecolor": "#E1E5ED"
        },
        "yaxis3": {
         "anchor": "x3",
         "domain": [
          0.8025,
          1
         ],
         "gridcolor": "#E1E5ED",
         "showgrid": false,
         "tickfont": {
          "color": "#4D5663"
         },
         "title": {
          "font": {
           "color": "#4D5663"
          },
          "text": ""
         },
         "zerolinecolor": "#E1E5ED"
        },
        "yaxis4": {
         "anchor": "x4",
         "domain": [
          0.8025,
          1
         ],
         "gridcolor": "#E1E5ED",
         "showgrid": false,
         "tickfont": {
          "color": "#4D5663"
         },
         "title": {
          "font": {
           "color": "#4D5663"
          },
          "text": ""
         },
         "zerolinecolor": "#E1E5ED"
        },
        "yaxis5": {
         "anchor": "x5",
         "domain": [
          0.535,
          0.7325
         ],
         "gridcolor": "#E1E5ED",
         "showgrid": false,
         "tickfont": {
          "color": "#4D5663"
         },
         "title": {
          "font": {
           "color": "#4D5663"
          },
          "text": ""
         },
         "zerolinecolor": "#E1E5ED"
        },
        "yaxis6": {
         "anchor": "x6",
         "domain": [
          0.535,
          0.7325
         ],
         "gridcolor": "#E1E5ED",
         "showgrid": false,
         "tickfont": {
          "color": "#4D5663"
         },
         "title": {
          "font": {
           "color": "#4D5663"
          },
          "text": ""
         },
         "zerolinecolor": "#E1E5ED"
        },
        "yaxis7": {
         "anchor": "x7",
         "domain": [
          0.535,
          0.7325
         ],
         "gridcolor": "#E1E5ED",
         "showgrid": false,
         "tickfont": {
          "color": "#4D5663"
         },
         "title": {
          "font": {
           "color": "#4D5663"
          },
          "text": ""
         },
         "zerolinecolor": "#E1E5ED"
        },
        "yaxis8": {
         "anchor": "x8",
         "domain": [
          0.535,
          0.7325
         ],
         "gridcolor": "#E1E5ED",
         "showgrid": false,
         "tickfont": {
          "color": "#4D5663"
         },
         "title": {
          "font": {
           "color": "#4D5663"
          },
          "text": ""
         },
         "zerolinecolor": "#E1E5ED"
        },
        "yaxis9": {
         "anchor": "x9",
         "domain": [
          0.2675,
          0.465
         ],
         "gridcolor": "#E1E5ED",
         "showgrid": false,
         "tickfont": {
          "color": "#4D5663"
         },
         "title": {
          "font": {
           "color": "#4D5663"
          },
          "text": ""
         },
         "zerolinecolor": "#E1E5ED"
        }
       }
      },
      "text/html": [
       "<div>\n",
       "        \n",
       "        \n",
       "            <div id=\"74b0bfd0-6fac-49d7-9643-b7c15a74781a\" class=\"plotly-graph-div\" style=\"height:525px; width:100%;\"></div>\n",
       "            <script type=\"text/javascript\">\n",
       "                require([\"plotly\"], function(Plotly) {\n",
       "                    window.PLOTLYENV=window.PLOTLYENV || {};\n",
       "                    window.PLOTLYENV.BASE_URL='https://plot.ly';\n",
       "                    \n",
       "                if (document.getElementById(\"74b0bfd0-6fac-49d7-9643-b7c15a74781a\")) {\n",
       "                    Plotly.newPlot(\n",
       "                        '74b0bfd0-6fac-49d7-9643-b7c15a74781a',\n",
       "                        [{\"histfunc\": \"count\", \"histnorm\": \"\", \"marker\": {\"color\": \"rgba(255, 153, 51, 1.0)\", \"line\": {\"color\": \"#4D5663\", \"width\": 1.3}}, \"name\": \"A\", \"nbinsx\": 10, \"opacity\": 0.8, \"orientation\": \"v\", \"type\": \"histogram\", \"x\": [0.2317169047197511, 0.878202859039861, 0.8845456478701096, -0.8548417612934461, 2.551212651230751, -0.9715711502953682, -1.4286297257729936, 0.171781997371082, -0.26501974141230633, 1.448118461903668, 0.956200364077296, 0.2798407221282476, 1.2898124098548918, -0.1805503744770984, -0.9712934350712948, 0.944830093864121, 0.008383811079937189, 0.06411389321304094, -3.0448966138834717, 0.2071650308743917, 1.264273231110705, 0.009115961650350713, 1.2032289481855762, 0.1748885773766371, 0.7705083291235805, -0.48405781692728334, -0.18229576272709286, -0.14480699019100146, 1.6209270254850905, -0.03720051887920887, 0.9189256626796768, 1.7353795151389286, -1.4527591753072113, 0.21084974842433038, -0.8424132209460763, 0.8108010689563284, 1.8849307915325269, -0.38236134284848067, -1.8509955384600723, -1.0043802296934055, -1.6700335882266961, -0.2662800200558214, -0.2816104466918759, 1.9695064659323902, -1.3531333401005186, -1.8246487015463517, 0.4161856133422532, -0.31404073402964167, 0.3722783675048442, 2.133303617040413, -2.4471958895748074, 2.380719002345152, -0.3987430854316932, -0.014650312488142936, 1.2256641691759387, 1.7799074314307135, 0.5487143518972628, 0.02541417834825154, 0.5381538643916343, 2.4535136319212816, -0.023803262090310917, -0.6496924161052658, 0.04478553352171316, 0.5365061860661642, 0.7233240221161904, -0.2522619818245915, -1.5789598702116967, 0.274926573285316, -0.04484425533308025, -0.39533639004855775, -0.1539674894937371, 0.5434894729148447, 0.8297140683352305, 2.1447937974739597, -0.8691243150874558, 1.1913449442332948, 0.23992685967080285, 0.835519899053282, 0.775127212877518, 0.8179378516059655, 0.6767887621858589, -0.28668771741995064, 1.2664829486946523, 0.036890380042112085, 1.5343541032540513, -1.3328073199877764, -0.20674743397348924, -0.8547345166834612, 1.0274052102743279, -0.6231463227343251, -0.6202269343992488, -1.009586728733132, 0.8198648674064811, -0.04155656422413667, -0.2858429069412091, 0.5013344026955628, -0.5205537443270363, 0.1794569091055445, -0.00679461552715747, -1.2871461273377063], \"xaxis\": \"x\", \"yaxis\": \"y\"}, {\"line\": {\"color\": \"rgba(128, 128, 128, 1.0)\", \"dash\": \"solid\", \"shape\": \"linear\", \"width\": 1.3}, \"marker\": {\"size\": 2, \"symbol\": \"circle\"}, \"mode\": \"markers\", \"name\": \"A\", \"text\": \"\", \"type\": \"scatter\", \"x\": [0.31537573601972646, 0.8264280604720017, 0.15880673938410703, -0.4945665747013332, -1.9291971682912035, -2.053128461013517, -0.41822165453726745, -0.7777578395540988, -0.37320239693156027, 1.0077705019872478, 0.2712966828345281, 0.21274963696718877, 0.08681838559463527, -0.5836485889875932, 1.239568154067294, -0.8336166955037497, 1.1474346168150165, -0.03716505277910525, -0.9630423160360793, 0.05960721757341472, -0.9577369659471877, -0.6095456247495279, -1.0329204156788498, -1.2125958704403847, 0.6604393457031784, 0.4269054295495109, -1.215150155380957, 1.38929308577231, -1.4642961357447615, -0.17395852265987718, -0.7053311469661707, 0.863093219012688, 0.3637406994713603, 0.5826837313913135, -1.209932493419657, 2.051445643285071, -1.0399723552126299, 0.34911638943718615, 0.6266184994346646, -0.17987182552393097, -0.5033924263326975, -1.3554213726667181, 0.7381731188497714, 0.6032159315621837, 0.31383776587827605, 1.5221045096712567, 1.0730090081467314, 1.5068400071106, -1.9657532084588805, -1.3738273908249323, 0.48706954818705034, 0.1934097777960746, -0.5098684385059237, -1.1110673077332558, 1.4519574756869593, 1.0745558846756398, 0.0008134396062797892, 0.9200113282161689, -1.7200861348159882, 0.10651184111518136, -0.30946533602772835, 0.16269854297053135, -0.1334720800134916, 0.1437347175119578, 0.6360683442236713, -1.6347287577630152, 0.8359585335920502, 0.027100102289993433, -0.7574047971474507, -1.5691832242530772, -0.10517278040729248, -1.911316107110392, -0.2040847122474828, -0.5268421182380644, -1.5201277139063434, -0.3368327664567618, 3.1166495508586363, -0.5106661675704326, -0.24961234609561317, 0.38516480037623885, -0.5394614558449573, 1.3909296431635094, -0.4953771635676115, 0.5514715008926203, -1.6368152085915135, 0.30964057125138994, 1.2710308408072852, -0.662447702474752, 0.3566427211364223, -0.25598888429205297, -0.7707764963409064, -0.4223655211888527, 0.5102442968597752, -0.23874528949899876, 0.4422885398643252, 1.18606662880413, -0.4108029668452801, 1.2414388069753572, 0.1345819144557129, 0.7666064340071423], \"xaxis\": \"x2\", \"y\": [0.2317169047197511, 0.878202859039861, 0.8845456478701096, -0.8548417612934461, 2.551212651230751, -0.9715711502953682, -1.4286297257729936, 0.171781997371082, -0.26501974141230633, 1.448118461903668, 0.956200364077296, 0.2798407221282476, 1.2898124098548918, -0.1805503744770984, -0.9712934350712948, 0.944830093864121, 0.008383811079937189, 0.06411389321304094, -3.0448966138834717, 0.2071650308743917, 1.264273231110705, 0.009115961650350713, 1.2032289481855762, 0.1748885773766371, 0.7705083291235805, -0.48405781692728334, -0.18229576272709286, -0.14480699019100146, 1.6209270254850905, -0.03720051887920887, 0.9189256626796768, 1.7353795151389286, -1.4527591753072113, 0.21084974842433038, -0.8424132209460763, 0.8108010689563284, 1.8849307915325269, -0.38236134284848067, -1.8509955384600723, -1.0043802296934055, -1.6700335882266961, -0.2662800200558214, -0.2816104466918759, 1.9695064659323902, -1.3531333401005186, -1.8246487015463517, 0.4161856133422532, -0.31404073402964167, 0.3722783675048442, 2.133303617040413, -2.4471958895748074, 2.380719002345152, -0.3987430854316932, -0.014650312488142936, 1.2256641691759387, 1.7799074314307135, 0.5487143518972628, 0.02541417834825154, 0.5381538643916343, 2.4535136319212816, -0.023803262090310917, -0.6496924161052658, 0.04478553352171316, 0.5365061860661642, 0.7233240221161904, -0.2522619818245915, -1.5789598702116967, 0.274926573285316, -0.04484425533308025, -0.39533639004855775, -0.1539674894937371, 0.5434894729148447, 0.8297140683352305, 2.1447937974739597, -0.8691243150874558, 1.1913449442332948, 0.23992685967080285, 0.835519899053282, 0.775127212877518, 0.8179378516059655, 0.6767887621858589, -0.28668771741995064, 1.2664829486946523, 0.036890380042112085, 1.5343541032540513, -1.3328073199877764, -0.20674743397348924, -0.8547345166834612, 1.0274052102743279, -0.6231463227343251, -0.6202269343992488, -1.009586728733132, 0.8198648674064811, -0.04155656422413667, -0.2858429069412091, 0.5013344026955628, -0.5205537443270363, 0.1794569091055445, -0.00679461552715747, -1.2871461273377063], \"yaxis\": \"y2\"}, {\"line\": {\"color\": \"rgba(128, 128, 128, 1.0)\", \"dash\": \"solid\", \"shape\": \"linear\", \"width\": 1.3}, \"marker\": {\"size\": 2, \"symbol\": \"circle\"}, \"mode\": \"markers\", \"name\": \"A\", \"text\": \"\", \"type\": \"scatter\", \"x\": [1.3314285234318506, -2.0030525524828158, 0.8069750498787827, 0.9650026018679855, 0.3991816879331618, -0.379448951815883, 0.0024418491318277096, -0.32736691297864695, 1.16931048547153, 2.277194132272568, -0.3754035435751317, 0.8543373667068819, 1.3412745962545134, -0.27836773917921465, -0.29464171475836526, -1.6243271705310767, 0.30396234597697075, 1.299440130107271, 0.7011900077995749, 1.4162591056558447, -0.757889301132777, 1.2546446382994334, 1.4585142492013845, -0.5363544395570112, 1.4067424359427916, 1.3039734139735715, 0.9768829449054949, 0.07959476569537824, 1.9871355642589208, 0.08606255824303585, -0.4020330448402153, -0.4361604878308823, -0.5645071849416328, -0.41470886996172984, 1.380995442688989, -0.6883129275760239, 0.5021014468963432, 1.4979232102687683, 0.048940873099344535, -1.2988952332686514, 0.33295045401849954, -0.3321991887263928, 0.5013365346924666, -0.9659423586694746, 0.12979017542930207, -0.02994181004275303, 0.6555581172761401, -0.30013895760744935, 1.6345750352404322, 0.23456207343882354, 0.1493109973874951, 0.7190281138780342, -0.5537135272792176, 0.4772060118979437, -0.4144051359566405, -1.661374140130275, 0.10704398422570807, -0.01470891404458069, -0.4028553085825461, -0.20664313573199233, 0.05127213215269603, 1.4998740906734598, -0.30346216338926657, -1.0398698382840703, -0.5815714798397903, -0.44646545271589355, 0.05074529560975637, 0.09620115280697357, -0.9899884889260059, 0.27567166848079194, 0.05558431731978129, -0.6084012980119271, -1.4768058399743125, 0.4582183899408311, -0.6069867652636305, -0.8006908421822598, -0.5130961708745303, -3.1382625698594664, 0.3062727725919721, 0.28283417391136356, -0.552613838492679, 2.0005647848200128, 0.7256179513485513, -0.2301234857640447, -0.0681978012030093, 0.6811349335356885, -1.3879335391650898, -0.4796257464404785, 0.39675428371047583, 0.08471919285442371, 2.316459601511867, -0.6023990311010815, 0.37340250597385055, 0.43971356837911735, -1.6402628334912959, -0.9495724265911488, -0.32079803214803193, 1.2837029413771264, 2.009469308334944, -1.4731465084206268], \"xaxis\": \"x3\", \"y\": [0.2317169047197511, 0.878202859039861, 0.8845456478701096, -0.8548417612934461, 2.551212651230751, -0.9715711502953682, -1.4286297257729936, 0.171781997371082, -0.26501974141230633, 1.448118461903668, 0.956200364077296, 0.2798407221282476, 1.2898124098548918, -0.1805503744770984, -0.9712934350712948, 0.944830093864121, 0.008383811079937189, 0.06411389321304094, -3.0448966138834717, 0.2071650308743917, 1.264273231110705, 0.009115961650350713, 1.2032289481855762, 0.1748885773766371, 0.7705083291235805, -0.48405781692728334, -0.18229576272709286, -0.14480699019100146, 1.6209270254850905, -0.03720051887920887, 0.9189256626796768, 1.7353795151389286, -1.4527591753072113, 0.21084974842433038, -0.8424132209460763, 0.8108010689563284, 1.8849307915325269, -0.38236134284848067, -1.8509955384600723, -1.0043802296934055, -1.6700335882266961, -0.2662800200558214, -0.2816104466918759, 1.9695064659323902, -1.3531333401005186, -1.8246487015463517, 0.4161856133422532, -0.31404073402964167, 0.3722783675048442, 2.133303617040413, -2.4471958895748074, 2.380719002345152, -0.3987430854316932, -0.014650312488142936, 1.2256641691759387, 1.7799074314307135, 0.5487143518972628, 0.02541417834825154, 0.5381538643916343, 2.4535136319212816, -0.023803262090310917, -0.6496924161052658, 0.04478553352171316, 0.5365061860661642, 0.7233240221161904, -0.2522619818245915, -1.5789598702116967, 0.274926573285316, -0.04484425533308025, -0.39533639004855775, -0.1539674894937371, 0.5434894729148447, 0.8297140683352305, 2.1447937974739597, -0.8691243150874558, 1.1913449442332948, 0.23992685967080285, 0.835519899053282, 0.775127212877518, 0.8179378516059655, 0.6767887621858589, -0.28668771741995064, 1.2664829486946523, 0.036890380042112085, 1.5343541032540513, -1.3328073199877764, -0.20674743397348924, -0.8547345166834612, 1.0274052102743279, -0.6231463227343251, -0.6202269343992488, -1.009586728733132, 0.8198648674064811, -0.04155656422413667, -0.2858429069412091, 0.5013344026955628, -0.5205537443270363, 0.1794569091055445, -0.00679461552715747, -1.2871461273377063], \"yaxis\": \"y3\"}, {\"line\": {\"color\": \"rgba(128, 128, 128, 1.0)\", \"dash\": \"solid\", \"shape\": \"linear\", \"width\": 1.3}, \"marker\": {\"size\": 2, \"symbol\": \"circle\"}, \"mode\": \"markers\", \"name\": \"A\", \"text\": \"\", \"type\": \"scatter\", \"x\": [-2.442256353799493, 0.9709073716653166, 0.696274416445329, -1.3126537757852912, -2.2947642215377204, 0.43228965765873084, -0.10021975225989974, -0.4698607642153028, -0.5246454530162009, 0.13681171817723586, -0.9370907913956436, 0.8445496846097051, -1.667602149903598, 0.8745593102331858, 0.10793897930998145, -0.7708921010334914, -0.2202577403908129, 0.9388393811045872, -0.3281237880224698, -0.7641445848219853, 0.43543153494206766, -0.48474473190503836, 0.091323404352155, -0.24932231329802002, -0.5418876011717217, -1.839286415125374, -0.3550779695049941, 0.6272218526602737, -1.4910626848433257, -1.384819702601713, 0.09261078980348449, 0.29154485152882614, -0.06378760397108495, -0.9888039260722917, 1.691419920108266, -0.016189506872969554, -1.4499900937662091, 1.194294912410125, -0.8905946789584178, 0.8461668696074989, 1.3481107874991505, 0.18484025597813206, 1.1939901347592021, -1.2269055559462192, -1.6565115330781173, 0.8225612174844014, 0.23538104223758402, 0.9159505819726038, 0.9052096637356831, -0.21363144162587533, -0.7045645324301515, 2.2355376442405683, -1.087024634990793, -0.9284202296100911, 0.5526029056481675, -0.08759625350686467, -0.26013841086949063, -0.9324053494992589, -0.42948391693450516, -1.7485288340102203, 1.8763482356866217, 0.5708790874737044, -0.4402313750147008, 1.1433931462379325, -1.1941177871386843, 0.9164471651556135, 0.2682697132215851, -0.14541228935368888, 0.43065816417788816, 1.1943353658604958, -0.4425320995761557, 1.3332944501727115, 1.2118557393134026, -1.6754054370786313, -0.9283743663315047, -0.8756507657260819, 1.1656107346870621, -1.9472276496535312, 0.07316268632878668, -0.8291130140690789, -1.4169765179376612, -0.07422350376193564, 0.01340229644766372, 0.8452908135594251, -0.8239328943839699, -1.2702749571195067, 0.19096336174852996, 0.1910642010087316, 0.22379519850495896, 0.06803220665062615, -0.2256372052800465, 1.645972371363568, -0.4806571833155429, -0.09350263832696941, -0.3527346819892025, -0.6926482546678576, 0.9810824733842617, 0.5958950430222143, 1.2119876816009385, 0.7191139021428278], \"xaxis\": \"x4\", \"y\": [0.2317169047197511, 0.878202859039861, 0.8845456478701096, -0.8548417612934461, 2.551212651230751, -0.9715711502953682, -1.4286297257729936, 0.171781997371082, -0.26501974141230633, 1.448118461903668, 0.956200364077296, 0.2798407221282476, 1.2898124098548918, -0.1805503744770984, -0.9712934350712948, 0.944830093864121, 0.008383811079937189, 0.06411389321304094, -3.0448966138834717, 0.2071650308743917, 1.264273231110705, 0.009115961650350713, 1.2032289481855762, 0.1748885773766371, 0.7705083291235805, -0.48405781692728334, -0.18229576272709286, -0.14480699019100146, 1.6209270254850905, -0.03720051887920887, 0.9189256626796768, 1.7353795151389286, -1.4527591753072113, 0.21084974842433038, -0.8424132209460763, 0.8108010689563284, 1.8849307915325269, -0.38236134284848067, -1.8509955384600723, -1.0043802296934055, -1.6700335882266961, -0.2662800200558214, -0.2816104466918759, 1.9695064659323902, -1.3531333401005186, -1.8246487015463517, 0.4161856133422532, -0.31404073402964167, 0.3722783675048442, 2.133303617040413, -2.4471958895748074, 2.380719002345152, -0.3987430854316932, -0.014650312488142936, 1.2256641691759387, 1.7799074314307135, 0.5487143518972628, 0.02541417834825154, 0.5381538643916343, 2.4535136319212816, -0.023803262090310917, -0.6496924161052658, 0.04478553352171316, 0.5365061860661642, 0.7233240221161904, -0.2522619818245915, -1.5789598702116967, 0.274926573285316, -0.04484425533308025, -0.39533639004855775, -0.1539674894937371, 0.5434894729148447, 0.8297140683352305, 2.1447937974739597, -0.8691243150874558, 1.1913449442332948, 0.23992685967080285, 0.835519899053282, 0.775127212877518, 0.8179378516059655, 0.6767887621858589, -0.28668771741995064, 1.2664829486946523, 0.036890380042112085, 1.5343541032540513, -1.3328073199877764, -0.20674743397348924, -0.8547345166834612, 1.0274052102743279, -0.6231463227343251, -0.6202269343992488, -1.009586728733132, 0.8198648674064811, -0.04155656422413667, -0.2858429069412091, 0.5013344026955628, -0.5205537443270363, 0.1794569091055445, -0.00679461552715747, -1.2871461273377063], \"yaxis\": \"y4\"}, {\"line\": {\"color\": \"rgba(128, 128, 128, 1.0)\", \"dash\": \"solid\", \"shape\": \"linear\", \"width\": 1.3}, \"marker\": {\"size\": 2, \"symbol\": \"circle\"}, \"mode\": \"markers\", \"name\": \"B\", \"text\": \"\", \"type\": \"scatter\", \"x\": [0.2317169047197511, 0.878202859039861, 0.8845456478701096, -0.8548417612934461, 2.551212651230751, -0.9715711502953682, -1.4286297257729936, 0.171781997371082, -0.26501974141230633, 1.448118461903668, 0.956200364077296, 0.2798407221282476, 1.2898124098548918, -0.1805503744770984, -0.9712934350712948, 0.944830093864121, 0.008383811079937189, 0.06411389321304094, -3.0448966138834717, 0.2071650308743917, 1.264273231110705, 0.009115961650350713, 1.2032289481855762, 0.1748885773766371, 0.7705083291235805, -0.48405781692728334, -0.18229576272709286, -0.14480699019100146, 1.6209270254850905, -0.03720051887920887, 0.9189256626796768, 1.7353795151389286, -1.4527591753072113, 0.21084974842433038, -0.8424132209460763, 0.8108010689563284, 1.8849307915325269, -0.38236134284848067, -1.8509955384600723, -1.0043802296934055, -1.6700335882266961, -0.2662800200558214, -0.2816104466918759, 1.9695064659323902, -1.3531333401005186, -1.8246487015463517, 0.4161856133422532, -0.31404073402964167, 0.3722783675048442, 2.133303617040413, -2.4471958895748074, 2.380719002345152, -0.3987430854316932, -0.014650312488142936, 1.2256641691759387, 1.7799074314307135, 0.5487143518972628, 0.02541417834825154, 0.5381538643916343, 2.4535136319212816, -0.023803262090310917, -0.6496924161052658, 0.04478553352171316, 0.5365061860661642, 0.7233240221161904, -0.2522619818245915, -1.5789598702116967, 0.274926573285316, -0.04484425533308025, -0.39533639004855775, -0.1539674894937371, 0.5434894729148447, 0.8297140683352305, 2.1447937974739597, -0.8691243150874558, 1.1913449442332948, 0.23992685967080285, 0.835519899053282, 0.775127212877518, 0.8179378516059655, 0.6767887621858589, -0.28668771741995064, 1.2664829486946523, 0.036890380042112085, 1.5343541032540513, -1.3328073199877764, -0.20674743397348924, -0.8547345166834612, 1.0274052102743279, -0.6231463227343251, -0.6202269343992488, -1.009586728733132, 0.8198648674064811, -0.04155656422413667, -0.2858429069412091, 0.5013344026955628, -0.5205537443270363, 0.1794569091055445, -0.00679461552715747, -1.2871461273377063], \"xaxis\": \"x5\", \"y\": [0.31537573601972646, 0.8264280604720017, 0.15880673938410703, -0.4945665747013332, -1.9291971682912035, -2.053128461013517, -0.41822165453726745, -0.7777578395540988, -0.37320239693156027, 1.0077705019872478, 0.2712966828345281, 0.21274963696718877, 0.08681838559463527, -0.5836485889875932, 1.239568154067294, -0.8336166955037497, 1.1474346168150165, -0.03716505277910525, -0.9630423160360793, 0.05960721757341472, -0.9577369659471877, -0.6095456247495279, -1.0329204156788498, -1.2125958704403847, 0.6604393457031784, 0.4269054295495109, -1.215150155380957, 1.38929308577231, -1.4642961357447615, -0.17395852265987718, -0.7053311469661707, 0.863093219012688, 0.3637406994713603, 0.5826837313913135, -1.209932493419657, 2.051445643285071, -1.0399723552126299, 0.34911638943718615, 0.6266184994346646, -0.17987182552393097, -0.5033924263326975, -1.3554213726667181, 0.7381731188497714, 0.6032159315621837, 0.31383776587827605, 1.5221045096712567, 1.0730090081467314, 1.5068400071106, -1.9657532084588805, -1.3738273908249323, 0.48706954818705034, 0.1934097777960746, -0.5098684385059237, -1.1110673077332558, 1.4519574756869593, 1.0745558846756398, 0.0008134396062797892, 0.9200113282161689, -1.7200861348159882, 0.10651184111518136, -0.30946533602772835, 0.16269854297053135, -0.1334720800134916, 0.1437347175119578, 0.6360683442236713, -1.6347287577630152, 0.8359585335920502, 0.027100102289993433, -0.7574047971474507, -1.5691832242530772, -0.10517278040729248, -1.911316107110392, -0.2040847122474828, -0.5268421182380644, -1.5201277139063434, -0.3368327664567618, 3.1166495508586363, -0.5106661675704326, -0.24961234609561317, 0.38516480037623885, -0.5394614558449573, 1.3909296431635094, -0.4953771635676115, 0.5514715008926203, -1.6368152085915135, 0.30964057125138994, 1.2710308408072852, -0.662447702474752, 0.3566427211364223, -0.25598888429205297, -0.7707764963409064, -0.4223655211888527, 0.5102442968597752, -0.23874528949899876, 0.4422885398643252, 1.18606662880413, -0.4108029668452801, 1.2414388069753572, 0.1345819144557129, 0.7666064340071423], \"yaxis\": \"y5\"}, {\"histfunc\": \"count\", \"histnorm\": \"\", \"marker\": {\"color\": \"rgba(55, 128, 191, 1.0)\", \"line\": {\"color\": \"#4D5663\", \"width\": 1.3}}, \"name\": \"B\", \"nbinsx\": 10, \"opacity\": 0.8, \"orientation\": \"v\", \"type\": \"histogram\", \"x\": [0.31537573601972646, 0.8264280604720017, 0.15880673938410703, -0.4945665747013332, -1.9291971682912035, -2.053128461013517, -0.41822165453726745, -0.7777578395540988, -0.37320239693156027, 1.0077705019872478, 0.2712966828345281, 0.21274963696718877, 0.08681838559463527, -0.5836485889875932, 1.239568154067294, -0.8336166955037497, 1.1474346168150165, -0.03716505277910525, -0.9630423160360793, 0.05960721757341472, -0.9577369659471877, -0.6095456247495279, -1.0329204156788498, -1.2125958704403847, 0.6604393457031784, 0.4269054295495109, -1.215150155380957, 1.38929308577231, -1.4642961357447615, -0.17395852265987718, -0.7053311469661707, 0.863093219012688, 0.3637406994713603, 0.5826837313913135, -1.209932493419657, 2.051445643285071, -1.0399723552126299, 0.34911638943718615, 0.6266184994346646, -0.17987182552393097, -0.5033924263326975, -1.3554213726667181, 0.7381731188497714, 0.6032159315621837, 0.31383776587827605, 1.5221045096712567, 1.0730090081467314, 1.5068400071106, -1.9657532084588805, -1.3738273908249323, 0.48706954818705034, 0.1934097777960746, -0.5098684385059237, -1.1110673077332558, 1.4519574756869593, 1.0745558846756398, 0.0008134396062797892, 0.9200113282161689, -1.7200861348159882, 0.10651184111518136, -0.30946533602772835, 0.16269854297053135, -0.1334720800134916, 0.1437347175119578, 0.6360683442236713, -1.6347287577630152, 0.8359585335920502, 0.027100102289993433, -0.7574047971474507, -1.5691832242530772, -0.10517278040729248, -1.911316107110392, -0.2040847122474828, -0.5268421182380644, -1.5201277139063434, -0.3368327664567618, 3.1166495508586363, -0.5106661675704326, -0.24961234609561317, 0.38516480037623885, -0.5394614558449573, 1.3909296431635094, -0.4953771635676115, 0.5514715008926203, -1.6368152085915135, 0.30964057125138994, 1.2710308408072852, -0.662447702474752, 0.3566427211364223, -0.25598888429205297, -0.7707764963409064, -0.4223655211888527, 0.5102442968597752, -0.23874528949899876, 0.4422885398643252, 1.18606662880413, -0.4108029668452801, 1.2414388069753572, 0.1345819144557129, 0.7666064340071423], \"xaxis\": \"x6\", \"yaxis\": \"y6\"}, {\"line\": {\"color\": \"rgba(128, 128, 128, 1.0)\", \"dash\": \"solid\", \"shape\": \"linear\", \"width\": 1.3}, \"marker\": {\"size\": 2, \"symbol\": \"circle\"}, \"mode\": \"markers\", \"name\": \"B\", \"text\": \"\", \"type\": \"scatter\", \"x\": [1.3314285234318506, -2.0030525524828158, 0.8069750498787827, 0.9650026018679855, 0.3991816879331618, -0.379448951815883, 0.0024418491318277096, -0.32736691297864695, 1.16931048547153, 2.277194132272568, -0.3754035435751317, 0.8543373667068819, 1.3412745962545134, -0.27836773917921465, -0.29464171475836526, -1.6243271705310767, 0.30396234597697075, 1.299440130107271, 0.7011900077995749, 1.4162591056558447, -0.757889301132777, 1.2546446382994334, 1.4585142492013845, -0.5363544395570112, 1.4067424359427916, 1.3039734139735715, 0.9768829449054949, 0.07959476569537824, 1.9871355642589208, 0.08606255824303585, -0.4020330448402153, -0.4361604878308823, -0.5645071849416328, -0.41470886996172984, 1.380995442688989, -0.6883129275760239, 0.5021014468963432, 1.4979232102687683, 0.048940873099344535, -1.2988952332686514, 0.33295045401849954, -0.3321991887263928, 0.5013365346924666, -0.9659423586694746, 0.12979017542930207, -0.02994181004275303, 0.6555581172761401, -0.30013895760744935, 1.6345750352404322, 0.23456207343882354, 0.1493109973874951, 0.7190281138780342, -0.5537135272792176, 0.4772060118979437, -0.4144051359566405, -1.661374140130275, 0.10704398422570807, -0.01470891404458069, -0.4028553085825461, -0.20664313573199233, 0.05127213215269603, 1.4998740906734598, -0.30346216338926657, -1.0398698382840703, -0.5815714798397903, -0.44646545271589355, 0.05074529560975637, 0.09620115280697357, -0.9899884889260059, 0.27567166848079194, 0.05558431731978129, -0.6084012980119271, -1.4768058399743125, 0.4582183899408311, -0.6069867652636305, -0.8006908421822598, -0.5130961708745303, -3.1382625698594664, 0.3062727725919721, 0.28283417391136356, -0.552613838492679, 2.0005647848200128, 0.7256179513485513, -0.2301234857640447, -0.0681978012030093, 0.6811349335356885, -1.3879335391650898, -0.4796257464404785, 0.39675428371047583, 0.08471919285442371, 2.316459601511867, -0.6023990311010815, 0.37340250597385055, 0.43971356837911735, -1.6402628334912959, -0.9495724265911488, -0.32079803214803193, 1.2837029413771264, 2.009469308334944, -1.4731465084206268], \"xaxis\": \"x7\", \"y\": [0.31537573601972646, 0.8264280604720017, 0.15880673938410703, -0.4945665747013332, -1.9291971682912035, -2.053128461013517, -0.41822165453726745, -0.7777578395540988, -0.37320239693156027, 1.0077705019872478, 0.2712966828345281, 0.21274963696718877, 0.08681838559463527, -0.5836485889875932, 1.239568154067294, -0.8336166955037497, 1.1474346168150165, -0.03716505277910525, -0.9630423160360793, 0.05960721757341472, -0.9577369659471877, -0.6095456247495279, -1.0329204156788498, -1.2125958704403847, 0.6604393457031784, 0.4269054295495109, -1.215150155380957, 1.38929308577231, -1.4642961357447615, -0.17395852265987718, -0.7053311469661707, 0.863093219012688, 0.3637406994713603, 0.5826837313913135, -1.209932493419657, 2.051445643285071, -1.0399723552126299, 0.34911638943718615, 0.6266184994346646, -0.17987182552393097, -0.5033924263326975, -1.3554213726667181, 0.7381731188497714, 0.6032159315621837, 0.31383776587827605, 1.5221045096712567, 1.0730090081467314, 1.5068400071106, -1.9657532084588805, -1.3738273908249323, 0.48706954818705034, 0.1934097777960746, -0.5098684385059237, -1.1110673077332558, 1.4519574756869593, 1.0745558846756398, 0.0008134396062797892, 0.9200113282161689, -1.7200861348159882, 0.10651184111518136, -0.30946533602772835, 0.16269854297053135, -0.1334720800134916, 0.1437347175119578, 0.6360683442236713, -1.6347287577630152, 0.8359585335920502, 0.027100102289993433, -0.7574047971474507, -1.5691832242530772, -0.10517278040729248, -1.911316107110392, -0.2040847122474828, -0.5268421182380644, -1.5201277139063434, -0.3368327664567618, 3.1166495508586363, -0.5106661675704326, -0.24961234609561317, 0.38516480037623885, -0.5394614558449573, 1.3909296431635094, -0.4953771635676115, 0.5514715008926203, -1.6368152085915135, 0.30964057125138994, 1.2710308408072852, -0.662447702474752, 0.3566427211364223, -0.25598888429205297, -0.7707764963409064, -0.4223655211888527, 0.5102442968597752, -0.23874528949899876, 0.4422885398643252, 1.18606662880413, -0.4108029668452801, 1.2414388069753572, 0.1345819144557129, 0.7666064340071423], \"yaxis\": \"y7\"}, {\"line\": {\"color\": \"rgba(128, 128, 128, 1.0)\", \"dash\": \"solid\", \"shape\": \"linear\", \"width\": 1.3}, \"marker\": {\"size\": 2, \"symbol\": \"circle\"}, \"mode\": \"markers\", \"name\": \"B\", \"text\": \"\", \"type\": \"scatter\", \"x\": [-2.442256353799493, 0.9709073716653166, 0.696274416445329, -1.3126537757852912, -2.2947642215377204, 0.43228965765873084, -0.10021975225989974, -0.4698607642153028, -0.5246454530162009, 0.13681171817723586, -0.9370907913956436, 0.8445496846097051, -1.667602149903598, 0.8745593102331858, 0.10793897930998145, -0.7708921010334914, -0.2202577403908129, 0.9388393811045872, -0.3281237880224698, -0.7641445848219853, 0.43543153494206766, -0.48474473190503836, 0.091323404352155, -0.24932231329802002, -0.5418876011717217, -1.839286415125374, -0.3550779695049941, 0.6272218526602737, -1.4910626848433257, -1.384819702601713, 0.09261078980348449, 0.29154485152882614, -0.06378760397108495, -0.9888039260722917, 1.691419920108266, -0.016189506872969554, -1.4499900937662091, 1.194294912410125, -0.8905946789584178, 0.8461668696074989, 1.3481107874991505, 0.18484025597813206, 1.1939901347592021, -1.2269055559462192, -1.6565115330781173, 0.8225612174844014, 0.23538104223758402, 0.9159505819726038, 0.9052096637356831, -0.21363144162587533, -0.7045645324301515, 2.2355376442405683, -1.087024634990793, -0.9284202296100911, 0.5526029056481675, -0.08759625350686467, -0.26013841086949063, -0.9324053494992589, -0.42948391693450516, -1.7485288340102203, 1.8763482356866217, 0.5708790874737044, -0.4402313750147008, 1.1433931462379325, -1.1941177871386843, 0.9164471651556135, 0.2682697132215851, -0.14541228935368888, 0.43065816417788816, 1.1943353658604958, -0.4425320995761557, 1.3332944501727115, 1.2118557393134026, -1.6754054370786313, -0.9283743663315047, -0.8756507657260819, 1.1656107346870621, -1.9472276496535312, 0.07316268632878668, -0.8291130140690789, -1.4169765179376612, -0.07422350376193564, 0.01340229644766372, 0.8452908135594251, -0.8239328943839699, -1.2702749571195067, 0.19096336174852996, 0.1910642010087316, 0.22379519850495896, 0.06803220665062615, -0.2256372052800465, 1.645972371363568, -0.4806571833155429, -0.09350263832696941, -0.3527346819892025, -0.6926482546678576, 0.9810824733842617, 0.5958950430222143, 1.2119876816009385, 0.7191139021428278], \"xaxis\": \"x8\", \"y\": [0.31537573601972646, 0.8264280604720017, 0.15880673938410703, -0.4945665747013332, -1.9291971682912035, -2.053128461013517, -0.41822165453726745, -0.7777578395540988, -0.37320239693156027, 1.0077705019872478, 0.2712966828345281, 0.21274963696718877, 0.08681838559463527, -0.5836485889875932, 1.239568154067294, -0.8336166955037497, 1.1474346168150165, -0.03716505277910525, -0.9630423160360793, 0.05960721757341472, -0.9577369659471877, -0.6095456247495279, -1.0329204156788498, -1.2125958704403847, 0.6604393457031784, 0.4269054295495109, -1.215150155380957, 1.38929308577231, -1.4642961357447615, -0.17395852265987718, -0.7053311469661707, 0.863093219012688, 0.3637406994713603, 0.5826837313913135, -1.209932493419657, 2.051445643285071, -1.0399723552126299, 0.34911638943718615, 0.6266184994346646, -0.17987182552393097, -0.5033924263326975, -1.3554213726667181, 0.7381731188497714, 0.6032159315621837, 0.31383776587827605, 1.5221045096712567, 1.0730090081467314, 1.5068400071106, -1.9657532084588805, -1.3738273908249323, 0.48706954818705034, 0.1934097777960746, -0.5098684385059237, -1.1110673077332558, 1.4519574756869593, 1.0745558846756398, 0.0008134396062797892, 0.9200113282161689, -1.7200861348159882, 0.10651184111518136, -0.30946533602772835, 0.16269854297053135, -0.1334720800134916, 0.1437347175119578, 0.6360683442236713, -1.6347287577630152, 0.8359585335920502, 0.027100102289993433, -0.7574047971474507, -1.5691832242530772, -0.10517278040729248, -1.911316107110392, -0.2040847122474828, -0.5268421182380644, -1.5201277139063434, -0.3368327664567618, 3.1166495508586363, -0.5106661675704326, -0.24961234609561317, 0.38516480037623885, -0.5394614558449573, 1.3909296431635094, -0.4953771635676115, 0.5514715008926203, -1.6368152085915135, 0.30964057125138994, 1.2710308408072852, -0.662447702474752, 0.3566427211364223, -0.25598888429205297, -0.7707764963409064, -0.4223655211888527, 0.5102442968597752, -0.23874528949899876, 0.4422885398643252, 1.18606662880413, -0.4108029668452801, 1.2414388069753572, 0.1345819144557129, 0.7666064340071423], \"yaxis\": \"y8\"}, {\"line\": {\"color\": \"rgba(128, 128, 128, 1.0)\", \"dash\": \"solid\", \"shape\": \"linear\", \"width\": 1.3}, \"marker\": {\"size\": 2, \"symbol\": \"circle\"}, \"mode\": \"markers\", \"name\": \"C\", \"text\": \"\", \"type\": \"scatter\", \"x\": [0.2317169047197511, 0.878202859039861, 0.8845456478701096, -0.8548417612934461, 2.551212651230751, -0.9715711502953682, -1.4286297257729936, 0.171781997371082, -0.26501974141230633, 1.448118461903668, 0.956200364077296, 0.2798407221282476, 1.2898124098548918, -0.1805503744770984, -0.9712934350712948, 0.944830093864121, 0.008383811079937189, 0.06411389321304094, -3.0448966138834717, 0.2071650308743917, 1.264273231110705, 0.009115961650350713, 1.2032289481855762, 0.1748885773766371, 0.7705083291235805, -0.48405781692728334, -0.18229576272709286, -0.14480699019100146, 1.6209270254850905, -0.03720051887920887, 0.9189256626796768, 1.7353795151389286, -1.4527591753072113, 0.21084974842433038, -0.8424132209460763, 0.8108010689563284, 1.8849307915325269, -0.38236134284848067, -1.8509955384600723, -1.0043802296934055, -1.6700335882266961, -0.2662800200558214, -0.2816104466918759, 1.9695064659323902, -1.3531333401005186, -1.8246487015463517, 0.4161856133422532, -0.31404073402964167, 0.3722783675048442, 2.133303617040413, -2.4471958895748074, 2.380719002345152, -0.3987430854316932, -0.014650312488142936, 1.2256641691759387, 1.7799074314307135, 0.5487143518972628, 0.02541417834825154, 0.5381538643916343, 2.4535136319212816, -0.023803262090310917, -0.6496924161052658, 0.04478553352171316, 0.5365061860661642, 0.7233240221161904, -0.2522619818245915, -1.5789598702116967, 0.274926573285316, -0.04484425533308025, -0.39533639004855775, -0.1539674894937371, 0.5434894729148447, 0.8297140683352305, 2.1447937974739597, -0.8691243150874558, 1.1913449442332948, 0.23992685967080285, 0.835519899053282, 0.775127212877518, 0.8179378516059655, 0.6767887621858589, -0.28668771741995064, 1.2664829486946523, 0.036890380042112085, 1.5343541032540513, -1.3328073199877764, -0.20674743397348924, -0.8547345166834612, 1.0274052102743279, -0.6231463227343251, -0.6202269343992488, -1.009586728733132, 0.8198648674064811, -0.04155656422413667, -0.2858429069412091, 0.5013344026955628, -0.5205537443270363, 0.1794569091055445, -0.00679461552715747, -1.2871461273377063], \"xaxis\": \"x9\", \"y\": [1.3314285234318506, -2.0030525524828158, 0.8069750498787827, 0.9650026018679855, 0.3991816879331618, -0.379448951815883, 0.0024418491318277096, -0.32736691297864695, 1.16931048547153, 2.277194132272568, -0.3754035435751317, 0.8543373667068819, 1.3412745962545134, -0.27836773917921465, -0.29464171475836526, -1.6243271705310767, 0.30396234597697075, 1.299440130107271, 0.7011900077995749, 1.4162591056558447, -0.757889301132777, 1.2546446382994334, 1.4585142492013845, -0.5363544395570112, 1.4067424359427916, 1.3039734139735715, 0.9768829449054949, 0.07959476569537824, 1.9871355642589208, 0.08606255824303585, -0.4020330448402153, -0.4361604878308823, -0.5645071849416328, -0.41470886996172984, 1.380995442688989, -0.6883129275760239, 0.5021014468963432, 1.4979232102687683, 0.048940873099344535, -1.2988952332686514, 0.33295045401849954, -0.3321991887263928, 0.5013365346924666, -0.9659423586694746, 0.12979017542930207, -0.02994181004275303, 0.6555581172761401, -0.30013895760744935, 1.6345750352404322, 0.23456207343882354, 0.1493109973874951, 0.7190281138780342, -0.5537135272792176, 0.4772060118979437, -0.4144051359566405, -1.661374140130275, 0.10704398422570807, -0.01470891404458069, -0.4028553085825461, -0.20664313573199233, 0.05127213215269603, 1.4998740906734598, -0.30346216338926657, -1.0398698382840703, -0.5815714798397903, -0.44646545271589355, 0.05074529560975637, 0.09620115280697357, -0.9899884889260059, 0.27567166848079194, 0.05558431731978129, -0.6084012980119271, -1.4768058399743125, 0.4582183899408311, -0.6069867652636305, -0.8006908421822598, -0.5130961708745303, -3.1382625698594664, 0.3062727725919721, 0.28283417391136356, -0.552613838492679, 2.0005647848200128, 0.7256179513485513, -0.2301234857640447, -0.0681978012030093, 0.6811349335356885, -1.3879335391650898, -0.4796257464404785, 0.39675428371047583, 0.08471919285442371, 2.316459601511867, -0.6023990311010815, 0.37340250597385055, 0.43971356837911735, -1.6402628334912959, -0.9495724265911488, -0.32079803214803193, 1.2837029413771264, 2.009469308334944, -1.4731465084206268], \"yaxis\": \"y9\"}, {\"line\": {\"color\": \"rgba(128, 128, 128, 1.0)\", \"dash\": \"solid\", \"shape\": \"linear\", \"width\": 1.3}, \"marker\": {\"size\": 2, \"symbol\": \"circle\"}, \"mode\": \"markers\", \"name\": \"C\", \"text\": \"\", \"type\": \"scatter\", \"x\": [0.31537573601972646, 0.8264280604720017, 0.15880673938410703, -0.4945665747013332, -1.9291971682912035, -2.053128461013517, -0.41822165453726745, -0.7777578395540988, -0.37320239693156027, 1.0077705019872478, 0.2712966828345281, 0.21274963696718877, 0.08681838559463527, -0.5836485889875932, 1.239568154067294, -0.8336166955037497, 1.1474346168150165, -0.03716505277910525, -0.9630423160360793, 0.05960721757341472, -0.9577369659471877, -0.6095456247495279, -1.0329204156788498, -1.2125958704403847, 0.6604393457031784, 0.4269054295495109, -1.215150155380957, 1.38929308577231, -1.4642961357447615, -0.17395852265987718, -0.7053311469661707, 0.863093219012688, 0.3637406994713603, 0.5826837313913135, -1.209932493419657, 2.051445643285071, -1.0399723552126299, 0.34911638943718615, 0.6266184994346646, -0.17987182552393097, -0.5033924263326975, -1.3554213726667181, 0.7381731188497714, 0.6032159315621837, 0.31383776587827605, 1.5221045096712567, 1.0730090081467314, 1.5068400071106, -1.9657532084588805, -1.3738273908249323, 0.48706954818705034, 0.1934097777960746, -0.5098684385059237, -1.1110673077332558, 1.4519574756869593, 1.0745558846756398, 0.0008134396062797892, 0.9200113282161689, -1.7200861348159882, 0.10651184111518136, -0.30946533602772835, 0.16269854297053135, -0.1334720800134916, 0.1437347175119578, 0.6360683442236713, -1.6347287577630152, 0.8359585335920502, 0.027100102289993433, -0.7574047971474507, -1.5691832242530772, -0.10517278040729248, -1.911316107110392, -0.2040847122474828, -0.5268421182380644, -1.5201277139063434, -0.3368327664567618, 3.1166495508586363, -0.5106661675704326, -0.24961234609561317, 0.38516480037623885, -0.5394614558449573, 1.3909296431635094, -0.4953771635676115, 0.5514715008926203, -1.6368152085915135, 0.30964057125138994, 1.2710308408072852, -0.662447702474752, 0.3566427211364223, -0.25598888429205297, -0.7707764963409064, -0.4223655211888527, 0.5102442968597752, -0.23874528949899876, 0.4422885398643252, 1.18606662880413, -0.4108029668452801, 1.2414388069753572, 0.1345819144557129, 0.7666064340071423], \"xaxis\": \"x10\", \"y\": [1.3314285234318506, -2.0030525524828158, 0.8069750498787827, 0.9650026018679855, 0.3991816879331618, -0.379448951815883, 0.0024418491318277096, -0.32736691297864695, 1.16931048547153, 2.277194132272568, -0.3754035435751317, 0.8543373667068819, 1.3412745962545134, -0.27836773917921465, -0.29464171475836526, -1.6243271705310767, 0.30396234597697075, 1.299440130107271, 0.7011900077995749, 1.4162591056558447, -0.757889301132777, 1.2546446382994334, 1.4585142492013845, -0.5363544395570112, 1.4067424359427916, 1.3039734139735715, 0.9768829449054949, 0.07959476569537824, 1.9871355642589208, 0.08606255824303585, -0.4020330448402153, -0.4361604878308823, -0.5645071849416328, -0.41470886996172984, 1.380995442688989, -0.6883129275760239, 0.5021014468963432, 1.4979232102687683, 0.048940873099344535, -1.2988952332686514, 0.33295045401849954, -0.3321991887263928, 0.5013365346924666, -0.9659423586694746, 0.12979017542930207, -0.02994181004275303, 0.6555581172761401, -0.30013895760744935, 1.6345750352404322, 0.23456207343882354, 0.1493109973874951, 0.7190281138780342, -0.5537135272792176, 0.4772060118979437, -0.4144051359566405, -1.661374140130275, 0.10704398422570807, -0.01470891404458069, -0.4028553085825461, -0.20664313573199233, 0.05127213215269603, 1.4998740906734598, -0.30346216338926657, -1.0398698382840703, -0.5815714798397903, -0.44646545271589355, 0.05074529560975637, 0.09620115280697357, -0.9899884889260059, 0.27567166848079194, 0.05558431731978129, -0.6084012980119271, -1.4768058399743125, 0.4582183899408311, -0.6069867652636305, -0.8006908421822598, -0.5130961708745303, -3.1382625698594664, 0.3062727725919721, 0.28283417391136356, -0.552613838492679, 2.0005647848200128, 0.7256179513485513, -0.2301234857640447, -0.0681978012030093, 0.6811349335356885, -1.3879335391650898, -0.4796257464404785, 0.39675428371047583, 0.08471919285442371, 2.316459601511867, -0.6023990311010815, 0.37340250597385055, 0.43971356837911735, -1.6402628334912959, -0.9495724265911488, -0.32079803214803193, 1.2837029413771264, 2.009469308334944, -1.4731465084206268], \"yaxis\": \"y10\"}, {\"histfunc\": \"count\", \"histnorm\": \"\", \"marker\": {\"color\": \"rgba(50, 171, 96, 1.0)\", \"line\": {\"color\": \"#4D5663\", \"width\": 1.3}}, \"name\": \"C\", \"nbinsx\": 10, \"opacity\": 0.8, \"orientation\": \"v\", \"type\": \"histogram\", \"x\": [1.3314285234318506, -2.0030525524828158, 0.8069750498787827, 0.9650026018679855, 0.3991816879331618, -0.379448951815883, 0.0024418491318277096, -0.32736691297864695, 1.16931048547153, 2.277194132272568, -0.3754035435751317, 0.8543373667068819, 1.3412745962545134, -0.27836773917921465, -0.29464171475836526, -1.6243271705310767, 0.30396234597697075, 1.299440130107271, 0.7011900077995749, 1.4162591056558447, -0.757889301132777, 1.2546446382994334, 1.4585142492013845, -0.5363544395570112, 1.4067424359427916, 1.3039734139735715, 0.9768829449054949, 0.07959476569537824, 1.9871355642589208, 0.08606255824303585, -0.4020330448402153, -0.4361604878308823, -0.5645071849416328, -0.41470886996172984, 1.380995442688989, -0.6883129275760239, 0.5021014468963432, 1.4979232102687683, 0.048940873099344535, -1.2988952332686514, 0.33295045401849954, -0.3321991887263928, 0.5013365346924666, -0.9659423586694746, 0.12979017542930207, -0.02994181004275303, 0.6555581172761401, -0.30013895760744935, 1.6345750352404322, 0.23456207343882354, 0.1493109973874951, 0.7190281138780342, -0.5537135272792176, 0.4772060118979437, -0.4144051359566405, -1.661374140130275, 0.10704398422570807, -0.01470891404458069, -0.4028553085825461, -0.20664313573199233, 0.05127213215269603, 1.4998740906734598, -0.30346216338926657, -1.0398698382840703, -0.5815714798397903, -0.44646545271589355, 0.05074529560975637, 0.09620115280697357, -0.9899884889260059, 0.27567166848079194, 0.05558431731978129, -0.6084012980119271, -1.4768058399743125, 0.4582183899408311, -0.6069867652636305, -0.8006908421822598, -0.5130961708745303, -3.1382625698594664, 0.3062727725919721, 0.28283417391136356, -0.552613838492679, 2.0005647848200128, 0.7256179513485513, -0.2301234857640447, -0.0681978012030093, 0.6811349335356885, -1.3879335391650898, -0.4796257464404785, 0.39675428371047583, 0.08471919285442371, 2.316459601511867, -0.6023990311010815, 0.37340250597385055, 0.43971356837911735, -1.6402628334912959, -0.9495724265911488, -0.32079803214803193, 1.2837029413771264, 2.009469308334944, -1.4731465084206268], \"xaxis\": \"x11\", \"yaxis\": \"y11\"}, {\"line\": {\"color\": \"rgba(128, 128, 128, 1.0)\", \"dash\": \"solid\", \"shape\": \"linear\", \"width\": 1.3}, \"marker\": {\"size\": 2, \"symbol\": \"circle\"}, \"mode\": \"markers\", \"name\": \"C\", \"text\": \"\", \"type\": \"scatter\", \"x\": [-2.442256353799493, 0.9709073716653166, 0.696274416445329, -1.3126537757852912, -2.2947642215377204, 0.43228965765873084, -0.10021975225989974, -0.4698607642153028, -0.5246454530162009, 0.13681171817723586, -0.9370907913956436, 0.8445496846097051, -1.667602149903598, 0.8745593102331858, 0.10793897930998145, -0.7708921010334914, -0.2202577403908129, 0.9388393811045872, -0.3281237880224698, -0.7641445848219853, 0.43543153494206766, -0.48474473190503836, 0.091323404352155, -0.24932231329802002, -0.5418876011717217, -1.839286415125374, -0.3550779695049941, 0.6272218526602737, -1.4910626848433257, -1.384819702601713, 0.09261078980348449, 0.29154485152882614, -0.06378760397108495, -0.9888039260722917, 1.691419920108266, -0.016189506872969554, -1.4499900937662091, 1.194294912410125, -0.8905946789584178, 0.8461668696074989, 1.3481107874991505, 0.18484025597813206, 1.1939901347592021, -1.2269055559462192, -1.6565115330781173, 0.8225612174844014, 0.23538104223758402, 0.9159505819726038, 0.9052096637356831, -0.21363144162587533, -0.7045645324301515, 2.2355376442405683, -1.087024634990793, -0.9284202296100911, 0.5526029056481675, -0.08759625350686467, -0.26013841086949063, -0.9324053494992589, -0.42948391693450516, -1.7485288340102203, 1.8763482356866217, 0.5708790874737044, -0.4402313750147008, 1.1433931462379325, -1.1941177871386843, 0.9164471651556135, 0.2682697132215851, -0.14541228935368888, 0.43065816417788816, 1.1943353658604958, -0.4425320995761557, 1.3332944501727115, 1.2118557393134026, -1.6754054370786313, -0.9283743663315047, -0.8756507657260819, 1.1656107346870621, -1.9472276496535312, 0.07316268632878668, -0.8291130140690789, -1.4169765179376612, -0.07422350376193564, 0.01340229644766372, 0.8452908135594251, -0.8239328943839699, -1.2702749571195067, 0.19096336174852996, 0.1910642010087316, 0.22379519850495896, 0.06803220665062615, -0.2256372052800465, 1.645972371363568, -0.4806571833155429, -0.09350263832696941, -0.3527346819892025, -0.6926482546678576, 0.9810824733842617, 0.5958950430222143, 1.2119876816009385, 0.7191139021428278], \"xaxis\": \"x12\", \"y\": [1.3314285234318506, -2.0030525524828158, 0.8069750498787827, 0.9650026018679855, 0.3991816879331618, -0.379448951815883, 0.0024418491318277096, -0.32736691297864695, 1.16931048547153, 2.277194132272568, -0.3754035435751317, 0.8543373667068819, 1.3412745962545134, -0.27836773917921465, -0.29464171475836526, -1.6243271705310767, 0.30396234597697075, 1.299440130107271, 0.7011900077995749, 1.4162591056558447, -0.757889301132777, 1.2546446382994334, 1.4585142492013845, -0.5363544395570112, 1.4067424359427916, 1.3039734139735715, 0.9768829449054949, 0.07959476569537824, 1.9871355642589208, 0.08606255824303585, -0.4020330448402153, -0.4361604878308823, -0.5645071849416328, -0.41470886996172984, 1.380995442688989, -0.6883129275760239, 0.5021014468963432, 1.4979232102687683, 0.048940873099344535, -1.2988952332686514, 0.33295045401849954, -0.3321991887263928, 0.5013365346924666, -0.9659423586694746, 0.12979017542930207, -0.02994181004275303, 0.6555581172761401, -0.30013895760744935, 1.6345750352404322, 0.23456207343882354, 0.1493109973874951, 0.7190281138780342, -0.5537135272792176, 0.4772060118979437, -0.4144051359566405, -1.661374140130275, 0.10704398422570807, -0.01470891404458069, -0.4028553085825461, -0.20664313573199233, 0.05127213215269603, 1.4998740906734598, -0.30346216338926657, -1.0398698382840703, -0.5815714798397903, -0.44646545271589355, 0.05074529560975637, 0.09620115280697357, -0.9899884889260059, 0.27567166848079194, 0.05558431731978129, -0.6084012980119271, -1.4768058399743125, 0.4582183899408311, -0.6069867652636305, -0.8006908421822598, -0.5130961708745303, -3.1382625698594664, 0.3062727725919721, 0.28283417391136356, -0.552613838492679, 2.0005647848200128, 0.7256179513485513, -0.2301234857640447, -0.0681978012030093, 0.6811349335356885, -1.3879335391650898, -0.4796257464404785, 0.39675428371047583, 0.08471919285442371, 2.316459601511867, -0.6023990311010815, 0.37340250597385055, 0.43971356837911735, -1.6402628334912959, -0.9495724265911488, -0.32079803214803193, 1.2837029413771264, 2.009469308334944, -1.4731465084206268], \"yaxis\": \"y12\"}, {\"line\": {\"color\": \"rgba(128, 128, 128, 1.0)\", \"dash\": \"solid\", \"shape\": \"linear\", \"width\": 1.3}, \"marker\": {\"size\": 2, \"symbol\": \"circle\"}, \"mode\": \"markers\", \"name\": \"D\", \"text\": \"\", \"type\": \"scatter\", \"x\": [0.2317169047197511, 0.878202859039861, 0.8845456478701096, -0.8548417612934461, 2.551212651230751, -0.9715711502953682, -1.4286297257729936, 0.171781997371082, -0.26501974141230633, 1.448118461903668, 0.956200364077296, 0.2798407221282476, 1.2898124098548918, -0.1805503744770984, -0.9712934350712948, 0.944830093864121, 0.008383811079937189, 0.06411389321304094, -3.0448966138834717, 0.2071650308743917, 1.264273231110705, 0.009115961650350713, 1.2032289481855762, 0.1748885773766371, 0.7705083291235805, -0.48405781692728334, -0.18229576272709286, -0.14480699019100146, 1.6209270254850905, -0.03720051887920887, 0.9189256626796768, 1.7353795151389286, -1.4527591753072113, 0.21084974842433038, -0.8424132209460763, 0.8108010689563284, 1.8849307915325269, -0.38236134284848067, -1.8509955384600723, -1.0043802296934055, -1.6700335882266961, -0.2662800200558214, -0.2816104466918759, 1.9695064659323902, -1.3531333401005186, -1.8246487015463517, 0.4161856133422532, -0.31404073402964167, 0.3722783675048442, 2.133303617040413, -2.4471958895748074, 2.380719002345152, -0.3987430854316932, -0.014650312488142936, 1.2256641691759387, 1.7799074314307135, 0.5487143518972628, 0.02541417834825154, 0.5381538643916343, 2.4535136319212816, -0.023803262090310917, -0.6496924161052658, 0.04478553352171316, 0.5365061860661642, 0.7233240221161904, -0.2522619818245915, -1.5789598702116967, 0.274926573285316, -0.04484425533308025, -0.39533639004855775, -0.1539674894937371, 0.5434894729148447, 0.8297140683352305, 2.1447937974739597, -0.8691243150874558, 1.1913449442332948, 0.23992685967080285, 0.835519899053282, 0.775127212877518, 0.8179378516059655, 0.6767887621858589, -0.28668771741995064, 1.2664829486946523, 0.036890380042112085, 1.5343541032540513, -1.3328073199877764, -0.20674743397348924, -0.8547345166834612, 1.0274052102743279, -0.6231463227343251, -0.6202269343992488, -1.009586728733132, 0.8198648674064811, -0.04155656422413667, -0.2858429069412091, 0.5013344026955628, -0.5205537443270363, 0.1794569091055445, -0.00679461552715747, -1.2871461273377063], \"xaxis\": \"x13\", \"y\": [-2.442256353799493, 0.9709073716653166, 0.696274416445329, -1.3126537757852912, -2.2947642215377204, 0.43228965765873084, -0.10021975225989974, -0.4698607642153028, -0.5246454530162009, 0.13681171817723586, -0.9370907913956436, 0.8445496846097051, -1.667602149903598, 0.8745593102331858, 0.10793897930998145, -0.7708921010334914, -0.2202577403908129, 0.9388393811045872, -0.3281237880224698, -0.7641445848219853, 0.43543153494206766, -0.48474473190503836, 0.091323404352155, -0.24932231329802002, -0.5418876011717217, -1.839286415125374, -0.3550779695049941, 0.6272218526602737, -1.4910626848433257, -1.384819702601713, 0.09261078980348449, 0.29154485152882614, -0.06378760397108495, -0.9888039260722917, 1.691419920108266, -0.016189506872969554, -1.4499900937662091, 1.194294912410125, -0.8905946789584178, 0.8461668696074989, 1.3481107874991505, 0.18484025597813206, 1.1939901347592021, -1.2269055559462192, -1.6565115330781173, 0.8225612174844014, 0.23538104223758402, 0.9159505819726038, 0.9052096637356831, -0.21363144162587533, -0.7045645324301515, 2.2355376442405683, -1.087024634990793, -0.9284202296100911, 0.5526029056481675, -0.08759625350686467, -0.26013841086949063, -0.9324053494992589, -0.42948391693450516, -1.7485288340102203, 1.8763482356866217, 0.5708790874737044, -0.4402313750147008, 1.1433931462379325, -1.1941177871386843, 0.9164471651556135, 0.2682697132215851, -0.14541228935368888, 0.43065816417788816, 1.1943353658604958, -0.4425320995761557, 1.3332944501727115, 1.2118557393134026, -1.6754054370786313, -0.9283743663315047, -0.8756507657260819, 1.1656107346870621, -1.9472276496535312, 0.07316268632878668, -0.8291130140690789, -1.4169765179376612, -0.07422350376193564, 0.01340229644766372, 0.8452908135594251, -0.8239328943839699, -1.2702749571195067, 0.19096336174852996, 0.1910642010087316, 0.22379519850495896, 0.06803220665062615, -0.2256372052800465, 1.645972371363568, -0.4806571833155429, -0.09350263832696941, -0.3527346819892025, -0.6926482546678576, 0.9810824733842617, 0.5958950430222143, 1.2119876816009385, 0.7191139021428278], \"yaxis\": \"y13\"}, {\"line\": {\"color\": \"rgba(128, 128, 128, 1.0)\", \"dash\": \"solid\", \"shape\": \"linear\", \"width\": 1.3}, \"marker\": {\"size\": 2, \"symbol\": \"circle\"}, \"mode\": \"markers\", \"name\": \"D\", \"text\": \"\", \"type\": \"scatter\", \"x\": [0.31537573601972646, 0.8264280604720017, 0.15880673938410703, -0.4945665747013332, -1.9291971682912035, -2.053128461013517, -0.41822165453726745, -0.7777578395540988, -0.37320239693156027, 1.0077705019872478, 0.2712966828345281, 0.21274963696718877, 0.08681838559463527, -0.5836485889875932, 1.239568154067294, -0.8336166955037497, 1.1474346168150165, -0.03716505277910525, -0.9630423160360793, 0.05960721757341472, -0.9577369659471877, -0.6095456247495279, -1.0329204156788498, -1.2125958704403847, 0.6604393457031784, 0.4269054295495109, -1.215150155380957, 1.38929308577231, -1.4642961357447615, -0.17395852265987718, -0.7053311469661707, 0.863093219012688, 0.3637406994713603, 0.5826837313913135, -1.209932493419657, 2.051445643285071, -1.0399723552126299, 0.34911638943718615, 0.6266184994346646, -0.17987182552393097, -0.5033924263326975, -1.3554213726667181, 0.7381731188497714, 0.6032159315621837, 0.31383776587827605, 1.5221045096712567, 1.0730090081467314, 1.5068400071106, -1.9657532084588805, -1.3738273908249323, 0.48706954818705034, 0.1934097777960746, -0.5098684385059237, -1.1110673077332558, 1.4519574756869593, 1.0745558846756398, 0.0008134396062797892, 0.9200113282161689, -1.7200861348159882, 0.10651184111518136, -0.30946533602772835, 0.16269854297053135, -0.1334720800134916, 0.1437347175119578, 0.6360683442236713, -1.6347287577630152, 0.8359585335920502, 0.027100102289993433, -0.7574047971474507, -1.5691832242530772, -0.10517278040729248, -1.911316107110392, -0.2040847122474828, -0.5268421182380644, -1.5201277139063434, -0.3368327664567618, 3.1166495508586363, -0.5106661675704326, -0.24961234609561317, 0.38516480037623885, -0.5394614558449573, 1.3909296431635094, -0.4953771635676115, 0.5514715008926203, -1.6368152085915135, 0.30964057125138994, 1.2710308408072852, -0.662447702474752, 0.3566427211364223, -0.25598888429205297, -0.7707764963409064, -0.4223655211888527, 0.5102442968597752, -0.23874528949899876, 0.4422885398643252, 1.18606662880413, -0.4108029668452801, 1.2414388069753572, 0.1345819144557129, 0.7666064340071423], \"xaxis\": \"x14\", \"y\": [-2.442256353799493, 0.9709073716653166, 0.696274416445329, -1.3126537757852912, -2.2947642215377204, 0.43228965765873084, -0.10021975225989974, -0.4698607642153028, -0.5246454530162009, 0.13681171817723586, -0.9370907913956436, 0.8445496846097051, -1.667602149903598, 0.8745593102331858, 0.10793897930998145, -0.7708921010334914, -0.2202577403908129, 0.9388393811045872, -0.3281237880224698, -0.7641445848219853, 0.43543153494206766, -0.48474473190503836, 0.091323404352155, -0.24932231329802002, -0.5418876011717217, -1.839286415125374, -0.3550779695049941, 0.6272218526602737, -1.4910626848433257, -1.384819702601713, 0.09261078980348449, 0.29154485152882614, -0.06378760397108495, -0.9888039260722917, 1.691419920108266, -0.016189506872969554, -1.4499900937662091, 1.194294912410125, -0.8905946789584178, 0.8461668696074989, 1.3481107874991505, 0.18484025597813206, 1.1939901347592021, -1.2269055559462192, -1.6565115330781173, 0.8225612174844014, 0.23538104223758402, 0.9159505819726038, 0.9052096637356831, -0.21363144162587533, -0.7045645324301515, 2.2355376442405683, -1.087024634990793, -0.9284202296100911, 0.5526029056481675, -0.08759625350686467, -0.26013841086949063, -0.9324053494992589, -0.42948391693450516, -1.7485288340102203, 1.8763482356866217, 0.5708790874737044, -0.4402313750147008, 1.1433931462379325, -1.1941177871386843, 0.9164471651556135, 0.2682697132215851, -0.14541228935368888, 0.43065816417788816, 1.1943353658604958, -0.4425320995761557, 1.3332944501727115, 1.2118557393134026, -1.6754054370786313, -0.9283743663315047, -0.8756507657260819, 1.1656107346870621, -1.9472276496535312, 0.07316268632878668, -0.8291130140690789, -1.4169765179376612, -0.07422350376193564, 0.01340229644766372, 0.8452908135594251, -0.8239328943839699, -1.2702749571195067, 0.19096336174852996, 0.1910642010087316, 0.22379519850495896, 0.06803220665062615, -0.2256372052800465, 1.645972371363568, -0.4806571833155429, -0.09350263832696941, -0.3527346819892025, -0.6926482546678576, 0.9810824733842617, 0.5958950430222143, 1.2119876816009385, 0.7191139021428278], \"yaxis\": \"y14\"}, {\"line\": {\"color\": \"rgba(128, 128, 128, 1.0)\", \"dash\": \"solid\", \"shape\": \"linear\", \"width\": 1.3}, \"marker\": {\"size\": 2, \"symbol\": \"circle\"}, \"mode\": \"markers\", \"name\": \"D\", \"text\": \"\", \"type\": \"scatter\", \"x\": [1.3314285234318506, -2.0030525524828158, 0.8069750498787827, 0.9650026018679855, 0.3991816879331618, -0.379448951815883, 0.0024418491318277096, -0.32736691297864695, 1.16931048547153, 2.277194132272568, -0.3754035435751317, 0.8543373667068819, 1.3412745962545134, -0.27836773917921465, -0.29464171475836526, -1.6243271705310767, 0.30396234597697075, 1.299440130107271, 0.7011900077995749, 1.4162591056558447, -0.757889301132777, 1.2546446382994334, 1.4585142492013845, -0.5363544395570112, 1.4067424359427916, 1.3039734139735715, 0.9768829449054949, 0.07959476569537824, 1.9871355642589208, 0.08606255824303585, -0.4020330448402153, -0.4361604878308823, -0.5645071849416328, -0.41470886996172984, 1.380995442688989, -0.6883129275760239, 0.5021014468963432, 1.4979232102687683, 0.048940873099344535, -1.2988952332686514, 0.33295045401849954, -0.3321991887263928, 0.5013365346924666, -0.9659423586694746, 0.12979017542930207, -0.02994181004275303, 0.6555581172761401, -0.30013895760744935, 1.6345750352404322, 0.23456207343882354, 0.1493109973874951, 0.7190281138780342, -0.5537135272792176, 0.4772060118979437, -0.4144051359566405, -1.661374140130275, 0.10704398422570807, -0.01470891404458069, -0.4028553085825461, -0.20664313573199233, 0.05127213215269603, 1.4998740906734598, -0.30346216338926657, -1.0398698382840703, -0.5815714798397903, -0.44646545271589355, 0.05074529560975637, 0.09620115280697357, -0.9899884889260059, 0.27567166848079194, 0.05558431731978129, -0.6084012980119271, -1.4768058399743125, 0.4582183899408311, -0.6069867652636305, -0.8006908421822598, -0.5130961708745303, -3.1382625698594664, 0.3062727725919721, 0.28283417391136356, -0.552613838492679, 2.0005647848200128, 0.7256179513485513, -0.2301234857640447, -0.0681978012030093, 0.6811349335356885, -1.3879335391650898, -0.4796257464404785, 0.39675428371047583, 0.08471919285442371, 2.316459601511867, -0.6023990311010815, 0.37340250597385055, 0.43971356837911735, -1.6402628334912959, -0.9495724265911488, -0.32079803214803193, 1.2837029413771264, 2.009469308334944, -1.4731465084206268], \"xaxis\": \"x15\", \"y\": [-2.442256353799493, 0.9709073716653166, 0.696274416445329, -1.3126537757852912, -2.2947642215377204, 0.43228965765873084, -0.10021975225989974, -0.4698607642153028, -0.5246454530162009, 0.13681171817723586, -0.9370907913956436, 0.8445496846097051, -1.667602149903598, 0.8745593102331858, 0.10793897930998145, -0.7708921010334914, -0.2202577403908129, 0.9388393811045872, -0.3281237880224698, -0.7641445848219853, 0.43543153494206766, -0.48474473190503836, 0.091323404352155, -0.24932231329802002, -0.5418876011717217, -1.839286415125374, -0.3550779695049941, 0.6272218526602737, -1.4910626848433257, -1.384819702601713, 0.09261078980348449, 0.29154485152882614, -0.06378760397108495, -0.9888039260722917, 1.691419920108266, -0.016189506872969554, -1.4499900937662091, 1.194294912410125, -0.8905946789584178, 0.8461668696074989, 1.3481107874991505, 0.18484025597813206, 1.1939901347592021, -1.2269055559462192, -1.6565115330781173, 0.8225612174844014, 0.23538104223758402, 0.9159505819726038, 0.9052096637356831, -0.21363144162587533, -0.7045645324301515, 2.2355376442405683, -1.087024634990793, -0.9284202296100911, 0.5526029056481675, -0.08759625350686467, -0.26013841086949063, -0.9324053494992589, -0.42948391693450516, -1.7485288340102203, 1.8763482356866217, 0.5708790874737044, -0.4402313750147008, 1.1433931462379325, -1.1941177871386843, 0.9164471651556135, 0.2682697132215851, -0.14541228935368888, 0.43065816417788816, 1.1943353658604958, -0.4425320995761557, 1.3332944501727115, 1.2118557393134026, -1.6754054370786313, -0.9283743663315047, -0.8756507657260819, 1.1656107346870621, -1.9472276496535312, 0.07316268632878668, -0.8291130140690789, -1.4169765179376612, -0.07422350376193564, 0.01340229644766372, 0.8452908135594251, -0.8239328943839699, -1.2702749571195067, 0.19096336174852996, 0.1910642010087316, 0.22379519850495896, 0.06803220665062615, -0.2256372052800465, 1.645972371363568, -0.4806571833155429, -0.09350263832696941, -0.3527346819892025, -0.6926482546678576, 0.9810824733842617, 0.5958950430222143, 1.2119876816009385, 0.7191139021428278], \"yaxis\": \"y15\"}, {\"histfunc\": \"count\", \"histnorm\": \"\", \"marker\": {\"color\": \"rgba(128, 0, 128, 1.0)\", \"line\": {\"color\": \"#4D5663\", \"width\": 1.3}}, \"name\": \"D\", \"nbinsx\": 10, \"opacity\": 0.8, \"orientation\": \"v\", \"type\": \"histogram\", \"x\": [-2.442256353799493, 0.9709073716653166, 0.696274416445329, -1.3126537757852912, -2.2947642215377204, 0.43228965765873084, -0.10021975225989974, -0.4698607642153028, -0.5246454530162009, 0.13681171817723586, -0.9370907913956436, 0.8445496846097051, -1.667602149903598, 0.8745593102331858, 0.10793897930998145, -0.7708921010334914, -0.2202577403908129, 0.9388393811045872, -0.3281237880224698, -0.7641445848219853, 0.43543153494206766, -0.48474473190503836, 0.091323404352155, -0.24932231329802002, -0.5418876011717217, -1.839286415125374, -0.3550779695049941, 0.6272218526602737, -1.4910626848433257, -1.384819702601713, 0.09261078980348449, 0.29154485152882614, -0.06378760397108495, -0.9888039260722917, 1.691419920108266, -0.016189506872969554, -1.4499900937662091, 1.194294912410125, -0.8905946789584178, 0.8461668696074989, 1.3481107874991505, 0.18484025597813206, 1.1939901347592021, -1.2269055559462192, -1.6565115330781173, 0.8225612174844014, 0.23538104223758402, 0.9159505819726038, 0.9052096637356831, -0.21363144162587533, -0.7045645324301515, 2.2355376442405683, -1.087024634990793, -0.9284202296100911, 0.5526029056481675, -0.08759625350686467, -0.26013841086949063, -0.9324053494992589, -0.42948391693450516, -1.7485288340102203, 1.8763482356866217, 0.5708790874737044, -0.4402313750147008, 1.1433931462379325, -1.1941177871386843, 0.9164471651556135, 0.2682697132215851, -0.14541228935368888, 0.43065816417788816, 1.1943353658604958, -0.4425320995761557, 1.3332944501727115, 1.2118557393134026, -1.6754054370786313, -0.9283743663315047, -0.8756507657260819, 1.1656107346870621, -1.9472276496535312, 0.07316268632878668, -0.8291130140690789, -1.4169765179376612, -0.07422350376193564, 0.01340229644766372, 0.8452908135594251, -0.8239328943839699, -1.2702749571195067, 0.19096336174852996, 0.1910642010087316, 0.22379519850495896, 0.06803220665062615, -0.2256372052800465, 1.645972371363568, -0.4806571833155429, -0.09350263832696941, -0.3527346819892025, -0.6926482546678576, 0.9810824733842617, 0.5958950430222143, 1.2119876816009385, 0.7191139021428278], \"xaxis\": \"x16\", \"yaxis\": \"y16\"}],\n",
       "                        {\"bargap\": 0.02, \"legend\": {\"bgcolor\": \"#F5F6F9\", \"font\": {\"color\": \"#4D5663\"}}, \"paper_bgcolor\": \"#F5F6F9\", \"plot_bgcolor\": \"#F5F6F9\", \"showlegend\": false, \"template\": {\"data\": {\"bar\": [{\"error_x\": {\"color\": \"#2a3f5f\"}, \"error_y\": {\"color\": \"#2a3f5f\"}, \"marker\": {\"line\": {\"color\": \"#E5ECF6\", \"width\": 0.5}}, \"type\": \"bar\"}], \"barpolar\": [{\"marker\": {\"line\": {\"color\": \"#E5ECF6\", \"width\": 0.5}}, \"type\": \"barpolar\"}], \"carpet\": [{\"aaxis\": {\"endlinecolor\": \"#2a3f5f\", \"gridcolor\": \"white\", \"linecolor\": \"white\", \"minorgridcolor\": \"white\", \"startlinecolor\": \"#2a3f5f\"}, \"baxis\": {\"endlinecolor\": \"#2a3f5f\", \"gridcolor\": \"white\", \"linecolor\": \"white\", \"minorgridcolor\": \"white\", \"startlinecolor\": \"#2a3f5f\"}, \"type\": \"carpet\"}], \"choropleth\": [{\"colorbar\": {\"outlinewidth\": 0, \"ticks\": \"\"}, \"type\": \"choropleth\"}], \"contour\": [{\"colorbar\": {\"outlinewidth\": 0, \"ticks\": \"\"}, \"colorscale\": [[0.0, \"#0d0887\"], [0.1111111111111111, \"#46039f\"], [0.2222222222222222, \"#7201a8\"], [0.3333333333333333, \"#9c179e\"], [0.4444444444444444, \"#bd3786\"], [0.5555555555555556, \"#d8576b\"], [0.6666666666666666, \"#ed7953\"], [0.7777777777777778, \"#fb9f3a\"], [0.8888888888888888, \"#fdca26\"], [1.0, \"#f0f921\"]], \"type\": \"contour\"}], \"contourcarpet\": [{\"colorbar\": {\"outlinewidth\": 0, \"ticks\": \"\"}, \"type\": \"contourcarpet\"}], \"heatmap\": [{\"colorbar\": {\"outlinewidth\": 0, \"ticks\": \"\"}, \"colorscale\": [[0.0, \"#0d0887\"], [0.1111111111111111, \"#46039f\"], [0.2222222222222222, \"#7201a8\"], [0.3333333333333333, \"#9c179e\"], [0.4444444444444444, \"#bd3786\"], [0.5555555555555556, \"#d8576b\"], [0.6666666666666666, \"#ed7953\"], [0.7777777777777778, \"#fb9f3a\"], [0.8888888888888888, \"#fdca26\"], [1.0, \"#f0f921\"]], \"type\": \"heatmap\"}], \"heatmapgl\": [{\"colorbar\": {\"outlinewidth\": 0, \"ticks\": \"\"}, \"colorscale\": [[0.0, \"#0d0887\"], [0.1111111111111111, \"#46039f\"], [0.2222222222222222, \"#7201a8\"], [0.3333333333333333, \"#9c179e\"], [0.4444444444444444, \"#bd3786\"], [0.5555555555555556, \"#d8576b\"], [0.6666666666666666, \"#ed7953\"], [0.7777777777777778, \"#fb9f3a\"], [0.8888888888888888, \"#fdca26\"], [1.0, \"#f0f921\"]], \"type\": \"heatmapgl\"}], \"histogram\": [{\"marker\": {\"colorbar\": {\"outlinewidth\": 0, \"ticks\": \"\"}}, \"type\": \"histogram\"}], \"histogram2d\": [{\"colorbar\": {\"outlinewidth\": 0, \"ticks\": \"\"}, \"colorscale\": [[0.0, \"#0d0887\"], [0.1111111111111111, \"#46039f\"], [0.2222222222222222, \"#7201a8\"], [0.3333333333333333, \"#9c179e\"], [0.4444444444444444, \"#bd3786\"], [0.5555555555555556, \"#d8576b\"], [0.6666666666666666, \"#ed7953\"], [0.7777777777777778, \"#fb9f3a\"], [0.8888888888888888, \"#fdca26\"], [1.0, \"#f0f921\"]], \"type\": \"histogram2d\"}], \"histogram2dcontour\": [{\"colorbar\": {\"outlinewidth\": 0, \"ticks\": \"\"}, \"colorscale\": [[0.0, \"#0d0887\"], [0.1111111111111111, \"#46039f\"], [0.2222222222222222, \"#7201a8\"], [0.3333333333333333, \"#9c179e\"], [0.4444444444444444, \"#bd3786\"], [0.5555555555555556, \"#d8576b\"], [0.6666666666666666, \"#ed7953\"], [0.7777777777777778, \"#fb9f3a\"], [0.8888888888888888, \"#fdca26\"], [1.0, \"#f0f921\"]], \"type\": \"histogram2dcontour\"}], \"mesh3d\": [{\"colorbar\": {\"outlinewidth\": 0, \"ticks\": \"\"}, \"type\": \"mesh3d\"}], \"parcoords\": [{\"line\": {\"colorbar\": {\"outlinewidth\": 0, \"ticks\": \"\"}}, \"type\": \"parcoords\"}], \"pie\": [{\"automargin\": true, \"type\": \"pie\"}], \"scatter\": [{\"marker\": {\"colorbar\": {\"outlinewidth\": 0, \"ticks\": \"\"}}, \"type\": \"scatter\"}], \"scatter3d\": [{\"line\": {\"colorbar\": {\"outlinewidth\": 0, \"ticks\": \"\"}}, \"marker\": {\"colorbar\": {\"outlinewidth\": 0, \"ticks\": \"\"}}, \"type\": \"scatter3d\"}], \"scattercarpet\": [{\"marker\": {\"colorbar\": {\"outlinewidth\": 0, \"ticks\": \"\"}}, \"type\": \"scattercarpet\"}], \"scattergeo\": [{\"marker\": {\"colorbar\": {\"outlinewidth\": 0, \"ticks\": \"\"}}, \"type\": \"scattergeo\"}], \"scattergl\": [{\"marker\": {\"colorbar\": {\"outlinewidth\": 0, \"ticks\": \"\"}}, \"type\": \"scattergl\"}], \"scattermapbox\": [{\"marker\": {\"colorbar\": {\"outlinewidth\": 0, \"ticks\": \"\"}}, \"type\": \"scattermapbox\"}], \"scatterpolar\": [{\"marker\": {\"colorbar\": {\"outlinewidth\": 0, \"ticks\": \"\"}}, \"type\": \"scatterpolar\"}], \"scatterpolargl\": [{\"marker\": {\"colorbar\": {\"outlinewidth\": 0, \"ticks\": \"\"}}, \"type\": \"scatterpolargl\"}], \"scatterternary\": [{\"marker\": {\"colorbar\": {\"outlinewidth\": 0, \"ticks\": \"\"}}, \"type\": \"scatterternary\"}], \"surface\": [{\"colorbar\": {\"outlinewidth\": 0, \"ticks\": \"\"}, \"colorscale\": [[0.0, \"#0d0887\"], [0.1111111111111111, \"#46039f\"], [0.2222222222222222, \"#7201a8\"], [0.3333333333333333, \"#9c179e\"], [0.4444444444444444, \"#bd3786\"], [0.5555555555555556, \"#d8576b\"], [0.6666666666666666, \"#ed7953\"], [0.7777777777777778, \"#fb9f3a\"], [0.8888888888888888, \"#fdca26\"], [1.0, \"#f0f921\"]], \"type\": \"surface\"}], \"table\": [{\"cells\": {\"fill\": {\"color\": \"#EBF0F8\"}, \"line\": {\"color\": \"white\"}}, \"header\": {\"fill\": {\"color\": \"#C8D4E3\"}, \"line\": {\"color\": \"white\"}}, \"type\": \"table\"}]}, \"layout\": {\"annotationdefaults\": {\"arrowcolor\": \"#2a3f5f\", \"arrowhead\": 0, \"arrowwidth\": 1}, \"coloraxis\": {\"colorbar\": {\"outlinewidth\": 0, \"ticks\": \"\"}}, \"colorscale\": {\"diverging\": [[0, \"#8e0152\"], [0.1, \"#c51b7d\"], [0.2, \"#de77ae\"], [0.3, \"#f1b6da\"], [0.4, \"#fde0ef\"], [0.5, \"#f7f7f7\"], [0.6, \"#e6f5d0\"], [0.7, \"#b8e186\"], [0.8, \"#7fbc41\"], [0.9, \"#4d9221\"], [1, \"#276419\"]], \"sequential\": [[0.0, \"#0d0887\"], [0.1111111111111111, \"#46039f\"], [0.2222222222222222, \"#7201a8\"], [0.3333333333333333, \"#9c179e\"], [0.4444444444444444, \"#bd3786\"], [0.5555555555555556, \"#d8576b\"], [0.6666666666666666, \"#ed7953\"], [0.7777777777777778, \"#fb9f3a\"], [0.8888888888888888, \"#fdca26\"], [1.0, \"#f0f921\"]], \"sequentialminus\": [[0.0, \"#0d0887\"], [0.1111111111111111, \"#46039f\"], [0.2222222222222222, \"#7201a8\"], [0.3333333333333333, \"#9c179e\"], [0.4444444444444444, \"#bd3786\"], [0.5555555555555556, \"#d8576b\"], [0.6666666666666666, \"#ed7953\"], [0.7777777777777778, \"#fb9f3a\"], [0.8888888888888888, \"#fdca26\"], [1.0, \"#f0f921\"]]}, \"colorway\": [\"#636efa\", \"#EF553B\", \"#00cc96\", \"#ab63fa\", \"#FFA15A\", \"#19d3f3\", \"#FF6692\", \"#B6E880\", \"#FF97FF\", \"#FECB52\"], \"font\": {\"color\": \"#2a3f5f\"}, \"geo\": {\"bgcolor\": \"white\", \"lakecolor\": \"white\", \"landcolor\": \"#E5ECF6\", \"showlakes\": true, \"showland\": true, \"subunitcolor\": \"white\"}, \"hoverlabel\": {\"align\": \"left\"}, \"hovermode\": \"closest\", \"mapbox\": {\"style\": \"light\"}, \"paper_bgcolor\": \"white\", \"plot_bgcolor\": \"#E5ECF6\", \"polar\": {\"angularaxis\": {\"gridcolor\": \"white\", \"linecolor\": \"white\", \"ticks\": \"\"}, \"bgcolor\": \"#E5ECF6\", \"radialaxis\": {\"gridcolor\": \"white\", \"linecolor\": \"white\", \"ticks\": \"\"}}, \"scene\": {\"xaxis\": {\"backgroundcolor\": \"#E5ECF6\", \"gridcolor\": \"white\", \"gridwidth\": 2, \"linecolor\": \"white\", \"showbackground\": true, \"ticks\": \"\", \"zerolinecolor\": \"white\"}, \"yaxis\": {\"backgroundcolor\": \"#E5ECF6\", \"gridcolor\": \"white\", \"gridwidth\": 2, \"linecolor\": \"white\", \"showbackground\": true, \"ticks\": \"\", \"zerolinecolor\": \"white\"}, \"zaxis\": {\"backgroundcolor\": \"#E5ECF6\", \"gridcolor\": \"white\", \"gridwidth\": 2, \"linecolor\": \"white\", \"showbackground\": true, \"ticks\": \"\", \"zerolinecolor\": \"white\"}}, \"shapedefaults\": {\"line\": {\"color\": \"#2a3f5f\"}}, \"ternary\": {\"aaxis\": {\"gridcolor\": \"white\", \"linecolor\": \"white\", \"ticks\": \"\"}, \"baxis\": {\"gridcolor\": \"white\", \"linecolor\": \"white\", \"ticks\": \"\"}, \"bgcolor\": \"#E5ECF6\", \"caxis\": {\"gridcolor\": \"white\", \"linecolor\": \"white\", \"ticks\": \"\"}}, \"title\": {\"x\": 0.05}, \"xaxis\": {\"automargin\": true, \"gridcolor\": \"white\", \"linecolor\": \"white\", \"ticks\": \"\", \"title\": {\"standoff\": 15}, \"zerolinecolor\": \"white\", \"zerolinewidth\": 2}, \"yaxis\": {\"automargin\": true, \"gridcolor\": \"white\", \"linecolor\": \"white\", \"ticks\": \"\", \"title\": {\"standoff\": 15}, \"zerolinecolor\": \"white\", \"zerolinewidth\": 2}}}, \"title\": {\"font\": {\"color\": \"#4D5663\"}}, \"xaxis\": {\"anchor\": \"y\", \"domain\": [0.0, 0.2125], \"gridcolor\": \"#E1E5ED\", \"showgrid\": false, \"tickfont\": {\"color\": \"#4D5663\"}, \"title\": {\"font\": {\"color\": \"#4D5663\"}, \"text\": \"\"}, \"zerolinecolor\": \"#E1E5ED\"}, \"xaxis10\": {\"anchor\": \"y10\", \"domain\": [0.2625, 0.475], \"gridcolor\": \"#E1E5ED\", \"showgrid\": false, \"tickfont\": {\"color\": \"#4D5663\"}, \"title\": {\"font\": {\"color\": \"#4D5663\"}, \"text\": \"\"}, \"zerolinecolor\": \"#E1E5ED\"}, \"xaxis11\": {\"anchor\": \"y11\", \"domain\": [0.525, 0.7375], \"gridcolor\": \"#E1E5ED\", \"showgrid\": false, \"tickfont\": {\"color\": \"#4D5663\"}, \"title\": {\"font\": {\"color\": \"#4D5663\"}, \"text\": \"\"}, \"zerolinecolor\": \"#E1E5ED\"}, \"xaxis12\": {\"anchor\": \"y12\", \"domain\": [0.7875, 1.0], \"gridcolor\": \"#E1E5ED\", \"showgrid\": false, \"tickfont\": {\"color\": \"#4D5663\"}, \"title\": {\"font\": {\"color\": \"#4D5663\"}, \"text\": \"\"}, \"zerolinecolor\": \"#E1E5ED\"}, \"xaxis13\": {\"anchor\": \"y13\", \"domain\": [0.0, 0.2125], \"gridcolor\": \"#E1E5ED\", \"showgrid\": false, \"tickfont\": {\"color\": \"#4D5663\"}, \"title\": {\"font\": {\"color\": \"#4D5663\"}, \"text\": \"\"}, \"zerolinecolor\": \"#E1E5ED\"}, \"xaxis14\": {\"anchor\": \"y14\", \"domain\": [0.2625, 0.475], \"gridcolor\": \"#E1E5ED\", \"showgrid\": false, \"tickfont\": {\"color\": \"#4D5663\"}, \"title\": {\"font\": {\"color\": \"#4D5663\"}, \"text\": \"\"}, \"zerolinecolor\": \"#E1E5ED\"}, \"xaxis15\": {\"anchor\": \"y15\", \"domain\": [0.525, 0.7375], \"gridcolor\": \"#E1E5ED\", \"showgrid\": false, \"tickfont\": {\"color\": \"#4D5663\"}, \"title\": {\"font\": {\"color\": \"#4D5663\"}, \"text\": \"\"}, \"zerolinecolor\": \"#E1E5ED\"}, \"xaxis16\": {\"anchor\": \"y16\", \"domain\": [0.7875, 1.0], \"gridcolor\": \"#E1E5ED\", \"showgrid\": false, \"tickfont\": {\"color\": \"#4D5663\"}, \"title\": {\"font\": {\"color\": \"#4D5663\"}, \"text\": \"\"}, \"zerolinecolor\": \"#E1E5ED\"}, \"xaxis2\": {\"anchor\": \"y2\", \"domain\": [0.2625, 0.475], \"gridcolor\": \"#E1E5ED\", \"showgrid\": false, \"tickfont\": {\"color\": \"#4D5663\"}, \"title\": {\"font\": {\"color\": \"#4D5663\"}, \"text\": \"\"}, \"zerolinecolor\": \"#E1E5ED\"}, \"xaxis3\": {\"anchor\": \"y3\", \"domain\": [0.525, 0.7375], \"gridcolor\": \"#E1E5ED\", \"showgrid\": false, \"tickfont\": {\"color\": \"#4D5663\"}, \"title\": {\"font\": {\"color\": \"#4D5663\"}, \"text\": \"\"}, \"zerolinecolor\": \"#E1E5ED\"}, \"xaxis4\": {\"anchor\": \"y4\", \"domain\": [0.7875, 1.0], \"gridcolor\": \"#E1E5ED\", \"showgrid\": false, \"tickfont\": {\"color\": \"#4D5663\"}, \"title\": {\"font\": {\"color\": \"#4D5663\"}, \"text\": \"\"}, \"zerolinecolor\": \"#E1E5ED\"}, \"xaxis5\": {\"anchor\": \"y5\", \"domain\": [0.0, 0.2125], \"gridcolor\": \"#E1E5ED\", \"showgrid\": false, \"tickfont\": {\"color\": \"#4D5663\"}, \"title\": {\"font\": {\"color\": \"#4D5663\"}, \"text\": \"\"}, \"zerolinecolor\": \"#E1E5ED\"}, \"xaxis6\": {\"anchor\": \"y6\", \"domain\": [0.2625, 0.475], \"gridcolor\": \"#E1E5ED\", \"showgrid\": false, \"tickfont\": {\"color\": \"#4D5663\"}, \"title\": {\"font\": {\"color\": \"#4D5663\"}, \"text\": \"\"}, \"zerolinecolor\": \"#E1E5ED\"}, \"xaxis7\": {\"anchor\": \"y7\", \"domain\": [0.525, 0.7375], \"gridcolor\": \"#E1E5ED\", \"showgrid\": false, \"tickfont\": {\"color\": \"#4D5663\"}, \"title\": {\"font\": {\"color\": \"#4D5663\"}, \"text\": \"\"}, \"zerolinecolor\": \"#E1E5ED\"}, \"xaxis8\": {\"anchor\": \"y8\", \"domain\": [0.7875, 1.0], \"gridcolor\": \"#E1E5ED\", \"showgrid\": false, \"tickfont\": {\"color\": \"#4D5663\"}, \"title\": {\"font\": {\"color\": \"#4D5663\"}, \"text\": \"\"}, \"zerolinecolor\": \"#E1E5ED\"}, \"xaxis9\": {\"anchor\": \"y9\", \"domain\": [0.0, 0.2125], \"gridcolor\": \"#E1E5ED\", \"showgrid\": false, \"tickfont\": {\"color\": \"#4D5663\"}, \"title\": {\"font\": {\"color\": \"#4D5663\"}, \"text\": \"\"}, \"zerolinecolor\": \"#E1E5ED\"}, \"yaxis\": {\"anchor\": \"x\", \"domain\": [0.8025, 1.0], \"gridcolor\": \"#E1E5ED\", \"showgrid\": false, \"tickfont\": {\"color\": \"#4D5663\"}, \"title\": {\"font\": {\"color\": \"#4D5663\"}, \"text\": \"\"}, \"zerolinecolor\": \"#E1E5ED\"}, \"yaxis10\": {\"anchor\": \"x10\", \"domain\": [0.2675, 0.465], \"gridcolor\": \"#E1E5ED\", \"showgrid\": false, \"tickfont\": {\"color\": \"#4D5663\"}, \"title\": {\"font\": {\"color\": \"#4D5663\"}, \"text\": \"\"}, \"zerolinecolor\": \"#E1E5ED\"}, \"yaxis11\": {\"anchor\": \"x11\", \"domain\": [0.2675, 0.465], \"gridcolor\": \"#E1E5ED\", \"showgrid\": false, \"tickfont\": {\"color\": \"#4D5663\"}, \"title\": {\"font\": {\"color\": \"#4D5663\"}, \"text\": \"\"}, \"zerolinecolor\": \"#E1E5ED\"}, \"yaxis12\": {\"anchor\": \"x12\", \"domain\": [0.2675, 0.465], \"gridcolor\": \"#E1E5ED\", \"showgrid\": false, \"tickfont\": {\"color\": \"#4D5663\"}, \"title\": {\"font\": {\"color\": \"#4D5663\"}, \"text\": \"\"}, \"zerolinecolor\": \"#E1E5ED\"}, \"yaxis13\": {\"anchor\": \"x13\", \"domain\": [0.0, 0.1975], \"gridcolor\": \"#E1E5ED\", \"showgrid\": false, \"tickfont\": {\"color\": \"#4D5663\"}, \"title\": {\"font\": {\"color\": \"#4D5663\"}, \"text\": \"\"}, \"zerolinecolor\": \"#E1E5ED\"}, \"yaxis14\": {\"anchor\": \"x14\", \"domain\": [0.0, 0.1975], \"gridcolor\": \"#E1E5ED\", \"showgrid\": false, \"tickfont\": {\"color\": \"#4D5663\"}, \"title\": {\"font\": {\"color\": \"#4D5663\"}, \"text\": \"\"}, \"zerolinecolor\": \"#E1E5ED\"}, \"yaxis15\": {\"anchor\": \"x15\", \"domain\": [0.0, 0.1975], \"gridcolor\": \"#E1E5ED\", \"showgrid\": false, \"tickfont\": {\"color\": \"#4D5663\"}, \"title\": {\"font\": {\"color\": \"#4D5663\"}, \"text\": \"\"}, \"zerolinecolor\": \"#E1E5ED\"}, \"yaxis16\": {\"anchor\": \"x16\", \"domain\": [0.0, 0.1975], \"gridcolor\": \"#E1E5ED\", \"showgrid\": false, \"tickfont\": {\"color\": \"#4D5663\"}, \"title\": {\"font\": {\"color\": \"#4D5663\"}, \"text\": \"\"}, \"zerolinecolor\": \"#E1E5ED\"}, \"yaxis2\": {\"anchor\": \"x2\", \"domain\": [0.8025, 1.0], \"gridcolor\": \"#E1E5ED\", \"showgrid\": false, \"tickfont\": {\"color\": \"#4D5663\"}, \"title\": {\"font\": {\"color\": \"#4D5663\"}, \"text\": \"\"}, \"zerolinecolor\": \"#E1E5ED\"}, \"yaxis3\": {\"anchor\": \"x3\", \"domain\": [0.8025, 1.0], \"gridcolor\": \"#E1E5ED\", \"showgrid\": false, \"tickfont\": {\"color\": \"#4D5663\"}, \"title\": {\"font\": {\"color\": \"#4D5663\"}, \"text\": \"\"}, \"zerolinecolor\": \"#E1E5ED\"}, \"yaxis4\": {\"anchor\": \"x4\", \"domain\": [0.8025, 1.0], \"gridcolor\": \"#E1E5ED\", \"showgrid\": false, \"tickfont\": {\"color\": \"#4D5663\"}, \"title\": {\"font\": {\"color\": \"#4D5663\"}, \"text\": \"\"}, \"zerolinecolor\": \"#E1E5ED\"}, \"yaxis5\": {\"anchor\": \"x5\", \"domain\": [0.535, 0.7325], \"gridcolor\": \"#E1E5ED\", \"showgrid\": false, \"tickfont\": {\"color\": \"#4D5663\"}, \"title\": {\"font\": {\"color\": \"#4D5663\"}, \"text\": \"\"}, \"zerolinecolor\": \"#E1E5ED\"}, \"yaxis6\": {\"anchor\": \"x6\", \"domain\": [0.535, 0.7325], \"gridcolor\": \"#E1E5ED\", \"showgrid\": false, \"tickfont\": {\"color\": \"#4D5663\"}, \"title\": {\"font\": {\"color\": \"#4D5663\"}, \"text\": \"\"}, \"zerolinecolor\": \"#E1E5ED\"}, \"yaxis7\": {\"anchor\": \"x7\", \"domain\": [0.535, 0.7325], \"gridcolor\": \"#E1E5ED\", \"showgrid\": false, \"tickfont\": {\"color\": \"#4D5663\"}, \"title\": {\"font\": {\"color\": \"#4D5663\"}, \"text\": \"\"}, \"zerolinecolor\": \"#E1E5ED\"}, \"yaxis8\": {\"anchor\": \"x8\", \"domain\": [0.535, 0.7325], \"gridcolor\": \"#E1E5ED\", \"showgrid\": false, \"tickfont\": {\"color\": \"#4D5663\"}, \"title\": {\"font\": {\"color\": \"#4D5663\"}, \"text\": \"\"}, \"zerolinecolor\": \"#E1E5ED\"}, \"yaxis9\": {\"anchor\": \"x9\", \"domain\": [0.2675, 0.465], \"gridcolor\": \"#E1E5ED\", \"showgrid\": false, \"tickfont\": {\"color\": \"#4D5663\"}, \"title\": {\"font\": {\"color\": \"#4D5663\"}, \"text\": \"\"}, \"zerolinecolor\": \"#E1E5ED\"}},\n",
       "                        {\"showLink\": true, \"linkText\": \"Export to plot.ly\", \"plotlyServerURL\": \"https://plot.ly\", \"responsive\": true}\n",
       "                    ).then(function(){\n",
       "                            \n",
       "var gd = document.getElementById('74b0bfd0-6fac-49d7-9643-b7c15a74781a');\n",
       "var x = new MutationObserver(function (mutations, observer) {{\n",
       "        var display = window.getComputedStyle(gd).display;\n",
       "        if (!display || display === 'none') {{\n",
       "            console.log([gd, 'removed!']);\n",
       "            Plotly.purge(gd);\n",
       "            observer.disconnect();\n",
       "        }}\n",
       "}});\n",
       "\n",
       "// Listen for the removal of the full notebook cells\n",
       "var notebookContainer = gd.closest('#notebook-container');\n",
       "if (notebookContainer) {{\n",
       "    x.observe(notebookContainer, {childList: true});\n",
       "}}\n",
       "\n",
       "// Listen for the clearing of the current output cell\n",
       "var outputEl = gd.closest('.output');\n",
       "if (outputEl) {{\n",
       "    x.observe(outputEl, {childList: true});\n",
       "}}\n",
       "\n",
       "                        })\n",
       "                };\n",
       "                });\n",
       "            </script>\n",
       "        </div>"
      ]
     },
     "metadata": {},
     "output_type": "display_data"
    }
   ],
   "source": [
    "df.scatter_matrix()"
   ]
  },
  {
   "cell_type": "markdown",
   "metadata": {
    "collapsed": true
   },
   "source": [
    "# Great Job!"
   ]
  }
 ],
 "metadata": {
  "kernelspec": {
   "display_name": "Python 3",
   "language": "python",
   "name": "python3"
  },
  "language_info": {
   "codemirror_mode": {
    "name": "ipython",
    "version": 3
   },
   "file_extension": ".py",
   "mimetype": "text/x-python",
   "name": "python",
   "nbconvert_exporter": "python",
   "pygments_lexer": "ipython3",
   "version": "3.7.3"
  }
 },
 "nbformat": 4,
 "nbformat_minor": 1
}

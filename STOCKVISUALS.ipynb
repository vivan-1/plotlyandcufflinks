{
 "cells": [
  {
   "cell_type": "markdown",
   "metadata": {},
   "source": [
    "___\n",
    "\n",
    "<a href='http://www.pieriandata.com'> <img src='../Pierian_Data_Logo.png' /></a>\n",
    "___"
   ]
  },
  {
   "cell_type": "markdown",
   "metadata": {},
   "source": [
    "# Finance Data Project \n",
    "\n",
    "In this data project we will focus on exploratory data analysis of stock prices. Keep in mind, this project is just meant to practice your visualization and pandas skills, it is not meant to be a robust financial analysis or be taken as financial advice.\n",
    "____\n",
    "** NOTE: This project is extremely challenging because it will introduce a lot of new concepts and have you looking things up on your own (we'll point you in the right direction) to try to solve the tasks issued. Feel free to just go through the solutions lecture notebook and video as a \"walkthrough\" project if you don't want to have to look things up yourself. You'll still learn a lot that way! **\n",
    "____\n",
    "We'll focus on bank stocks and see how they progressed throughout the [financial crisis](https://en.wikipedia.org/wiki/Financial_crisis_of_2007%E2%80%9308) all the way to early 2016."
   ]
  },
  {
   "cell_type": "markdown",
   "metadata": {},
   "source": [
    "## Get the Data\n",
    "\n",
    "In this section we will learn how to use pandas to directly read data from Google finance using pandas!\n",
    "\n",
    "First we need to start with the proper imports, which we've already laid out for you here.\n",
    "\n",
    "*Note: [You'll need to install pandas-datareader for this to work!](https://github.com/pydata/pandas-datareader) Pandas datareader allows you to [read stock information directly from the internet](http://pandas.pydata.org/pandas-docs/stable/remote_data.html) Use these links for install guidance (**pip install pandas-datareader**), or just follow along with the video lecture.*\n",
    "\n",
    "### The Imports\n",
    "\n",
    "Already filled out for you."
   ]
  },
  {
   "cell_type": "code",
   "execution_count": 69,
   "metadata": {},
   "outputs": [
    {
     "name": "stdout",
     "output_type": "stream",
     "text": [
      "Requirement already satisfied: pandas-datareader in d:\\annaconda\\lib\\site-packages (0.8.1)\n",
      "Requirement already satisfied: pandas>=0.21 in d:\\annaconda\\lib\\site-packages (from pandas-datareader) (0.25.3)\n",
      "Requirement already satisfied: requests>=2.3.0 in d:\\annaconda\\lib\\site-packages (from pandas-datareader) (2.22.0)\n",
      "Requirement already satisfied: lxml in d:\\annaconda\\lib\\site-packages (from pandas-datareader) (4.4.2)\n",
      "Requirement already satisfied: numpy>=1.13.3 in d:\\annaconda\\lib\\site-packages (from pandas>=0.21->pandas-datareader) (1.17.4)\n",
      "Requirement already satisfied: pytz>=2017.2 in d:\\annaconda\\lib\\site-packages (from pandas>=0.21->pandas-datareader) (2019.3)\n",
      "Requirement already satisfied: python-dateutil>=2.6.1 in d:\\annaconda\\lib\\site-packages (from pandas>=0.21->pandas-datareader) (2.8.1)\n",
      "Requirement already satisfied: urllib3!=1.25.0,!=1.25.1,<1.26,>=1.21.1 in d:\\annaconda\\lib\\site-packages (from requests>=2.3.0->pandas-datareader) (1.25.7)\n",
      "Requirement already satisfied: idna<2.9,>=2.5 in d:\\annaconda\\lib\\site-packages (from requests>=2.3.0->pandas-datareader) (2.8)\n",
      "Requirement already satisfied: chardet<3.1.0,>=3.0.2 in d:\\annaconda\\lib\\site-packages (from requests>=2.3.0->pandas-datareader) (3.0.4)\n",
      "Requirement already satisfied: certifi>=2017.4.17 in d:\\annaconda\\lib\\site-packages (from requests>=2.3.0->pandas-datareader) (2019.11.28)\n",
      "Requirement already satisfied: six>=1.5 in d:\\annaconda\\lib\\site-packages (from python-dateutil>=2.6.1->pandas>=0.21->pandas-datareader) (1.13.0)\n",
      "Note: you may need to restart the kernel to use updated packages.\n"
     ]
    }
   ],
   "source": [
    "pip install pandas-datareader"
   ]
  },
  {
   "cell_type": "code",
   "execution_count": 210,
   "metadata": {},
   "outputs": [
    {
     "ename": "NameError",
     "evalue": "name 'GOOGLEFINANCE' is not defined",
     "output_type": "error",
     "traceback": [
      "\u001b[1;31m---------------------------------------------------------------------------\u001b[0m",
      "\u001b[1;31mNameError\u001b[0m                                 Traceback (most recent call last)",
      "\u001b[1;32m<ipython-input-210-496a1eef1194>\u001b[0m in \u001b[0;36m<module>\u001b[1;34m\u001b[0m\n\u001b[1;32m----> 1\u001b[1;33m \u001b[0mGOOGLEFINANCE\u001b[0m\u001b[1;33m(\u001b[0m\u001b[1;34m\"NASDAQ:GOOG\"\u001b[0m\u001b[1;33m,\u001b[0m \u001b[1;34m\"price\"\u001b[0m\u001b[1;33m,\u001b[0m \u001b[0mDATE\u001b[0m\u001b[1;33m(\u001b[0m\u001b[1;36m2014\u001b[0m\u001b[1;33m,\u001b[0m\u001b[1;36m1\u001b[0m\u001b[1;33m,\u001b[0m\u001b[1;36m1\u001b[0m\u001b[1;33m)\u001b[0m\u001b[1;33m,\u001b[0m \u001b[0mDATE\u001b[0m\u001b[1;33m(\u001b[0m\u001b[1;36m2014\u001b[0m\u001b[1;33m,\u001b[0m\u001b[1;36m12\u001b[0m\u001b[1;33m,\u001b[0m\u001b[1;36m31\u001b[0m\u001b[1;33m)\u001b[0m\u001b[1;33m,\u001b[0m \u001b[1;34m\"DAILY\"\u001b[0m\u001b[1;33m)\u001b[0m\u001b[1;33m\u001b[0m\u001b[1;33m\u001b[0m\u001b[0m\n\u001b[0m",
      "\u001b[1;31mNameError\u001b[0m: name 'GOOGLEFINANCE' is not defined"
     ]
    }
   ],
   "source": [
    "GOOGLEFINANCE(\"NASDAQ:GOOG\", \"price\", DATE(2014,1,1), DATE(2014,12,31), \"DAILY\")"
   ]
  },
  {
   "cell_type": "code",
   "execution_count": 178,
   "metadata": {},
   "outputs": [],
   "source": [
    "from pandas_datareader import data, wb\n",
    "import pandas as pd\n",
    "import numpy as np\n",
    "from datetime import datetime\n",
    "%matplotlib inline"
   ]
  },
  {
   "cell_type": "markdown",
   "metadata": {},
   "source": [
    "## Data\n",
    "\n",
    "We need to get data using pandas datareader. We will get stock information for the following banks:\n",
    "*  Bank of America\n",
    "* CitiGroup\n",
    "* Goldman Sachs\n",
    "* JPMorgan Chase\n",
    "* Morgan Stanley\n",
    "* Wells Fargo\n",
    "\n",
    "** Figure out how to get the stock data from Jan 1st 2006 to Jan 1st 2016 for each of these banks. Set each bank to be a separate dataframe, with the variable name for that bank being its ticker symbol. This will involve a few steps:**\n",
    "1. Use datetime to set start and end datetime objects.\n",
    "2. Figure out the ticker symbol for each bank.\n",
    "2. Figure out how to use datareader to grab info on the stock.\n",
    "\n",
    "** Use [this documentation page](https://pandas-datareader.readthedocs.io/en/latest/remote_data.html) for hints and instructions (it should just be a matter of replacing certain values. Use google finance as a source, for example:**\n",
    "    \n",
    "    # Bank of America\n",
    "    BAC = data.DataReader(\"BAC\", 'google', start, end)\n",
    "\n",
    "### WARNING: MAKE SURE TO CHECK THE LINK ABOVE FOR THE LATEST WORKING API. \"google\" MAY NOT ALWAYS WORK. \n",
    "------------\n",
    "### We also provide pickle file in the article lecture right before the video lectures."
   ]
  },
  {
   "cell_type": "code",
   "execution_count": 179,
   "metadata": {},
   "outputs": [],
   "source": [
    "\n",
    "start=datetime(2006,1,1)\n",
    "end=datetime(2016,1,1)\n",
    "df = pd.read_pickle('all_banks.csv') \n",
    "\n",
    "col=df.columns.levels[0]\n",
    "import seaborn as sns"
   ]
  },
  {
   "cell_type": "code",
   "execution_count": 180,
   "metadata": {},
   "outputs": [
    {
     "data": {
      "text/plain": [
       "Index(['BAC', 'C', 'GS', 'JPM', 'MS', 'WFC'], dtype='object', name='Bank Ticker')"
      ]
     },
     "execution_count": 180,
     "metadata": {},
     "output_type": "execute_result"
    }
   ],
   "source": [
    "col"
   ]
  },
  {
   "cell_type": "code",
   "execution_count": 181,
   "metadata": {},
   "outputs": [
    {
     "data": {
      "text/html": [
       "<div>\n",
       "<style scoped>\n",
       "    .dataframe tbody tr th:only-of-type {\n",
       "        vertical-align: middle;\n",
       "    }\n",
       "\n",
       "    .dataframe tbody tr th {\n",
       "        vertical-align: top;\n",
       "    }\n",
       "\n",
       "    .dataframe thead tr th {\n",
       "        text-align: left;\n",
       "    }\n",
       "\n",
       "    .dataframe thead tr:last-of-type th {\n",
       "        text-align: right;\n",
       "    }\n",
       "</style>\n",
       "<table border=\"1\" class=\"dataframe\">\n",
       "  <thead>\n",
       "    <tr>\n",
       "      <th>Bank Ticker</th>\n",
       "      <th colspan=\"5\" halign=\"left\">BAC</th>\n",
       "      <th colspan=\"5\" halign=\"left\">C</th>\n",
       "      <th>...</th>\n",
       "      <th colspan=\"5\" halign=\"left\">MS</th>\n",
       "      <th colspan=\"5\" halign=\"left\">WFC</th>\n",
       "    </tr>\n",
       "    <tr>\n",
       "      <th>Stock Info</th>\n",
       "      <th>Open</th>\n",
       "      <th>High</th>\n",
       "      <th>Low</th>\n",
       "      <th>Close</th>\n",
       "      <th>Volume</th>\n",
       "      <th>Open</th>\n",
       "      <th>High</th>\n",
       "      <th>Low</th>\n",
       "      <th>Close</th>\n",
       "      <th>Volume</th>\n",
       "      <th>...</th>\n",
       "      <th>Open</th>\n",
       "      <th>High</th>\n",
       "      <th>Low</th>\n",
       "      <th>Close</th>\n",
       "      <th>Volume</th>\n",
       "      <th>Open</th>\n",
       "      <th>High</th>\n",
       "      <th>Low</th>\n",
       "      <th>Close</th>\n",
       "      <th>Volume</th>\n",
       "    </tr>\n",
       "    <tr>\n",
       "      <th>Date</th>\n",
       "      <th></th>\n",
       "      <th></th>\n",
       "      <th></th>\n",
       "      <th></th>\n",
       "      <th></th>\n",
       "      <th></th>\n",
       "      <th></th>\n",
       "      <th></th>\n",
       "      <th></th>\n",
       "      <th></th>\n",
       "      <th></th>\n",
       "      <th></th>\n",
       "      <th></th>\n",
       "      <th></th>\n",
       "      <th></th>\n",
       "      <th></th>\n",
       "      <th></th>\n",
       "      <th></th>\n",
       "      <th></th>\n",
       "      <th></th>\n",
       "      <th></th>\n",
       "    </tr>\n",
       "  </thead>\n",
       "  <tbody>\n",
       "    <tr>\n",
       "      <th>2006-01-03</th>\n",
       "      <td>46.92</td>\n",
       "      <td>47.18</td>\n",
       "      <td>46.15</td>\n",
       "      <td>47.08</td>\n",
       "      <td>16296700</td>\n",
       "      <td>490.00</td>\n",
       "      <td>493.80</td>\n",
       "      <td>481.10</td>\n",
       "      <td>492.90</td>\n",
       "      <td>1537660</td>\n",
       "      <td>...</td>\n",
       "      <td>57.17</td>\n",
       "      <td>58.49</td>\n",
       "      <td>56.74</td>\n",
       "      <td>58.31</td>\n",
       "      <td>5377000</td>\n",
       "      <td>31.60</td>\n",
       "      <td>31.98</td>\n",
       "      <td>31.20</td>\n",
       "      <td>31.90</td>\n",
       "      <td>11016400</td>\n",
       "    </tr>\n",
       "    <tr>\n",
       "      <th>2006-01-04</th>\n",
       "      <td>47.00</td>\n",
       "      <td>47.24</td>\n",
       "      <td>46.45</td>\n",
       "      <td>46.58</td>\n",
       "      <td>17757900</td>\n",
       "      <td>488.60</td>\n",
       "      <td>491.00</td>\n",
       "      <td>483.50</td>\n",
       "      <td>483.80</td>\n",
       "      <td>1871020</td>\n",
       "      <td>...</td>\n",
       "      <td>58.70</td>\n",
       "      <td>59.28</td>\n",
       "      <td>58.35</td>\n",
       "      <td>58.35</td>\n",
       "      <td>7977800</td>\n",
       "      <td>31.80</td>\n",
       "      <td>31.82</td>\n",
       "      <td>31.36</td>\n",
       "      <td>31.53</td>\n",
       "      <td>10871000</td>\n",
       "    </tr>\n",
       "    <tr>\n",
       "      <th>2006-01-05</th>\n",
       "      <td>46.58</td>\n",
       "      <td>46.83</td>\n",
       "      <td>46.32</td>\n",
       "      <td>46.64</td>\n",
       "      <td>14970900</td>\n",
       "      <td>484.40</td>\n",
       "      <td>487.80</td>\n",
       "      <td>484.00</td>\n",
       "      <td>486.20</td>\n",
       "      <td>1143160</td>\n",
       "      <td>...</td>\n",
       "      <td>58.55</td>\n",
       "      <td>58.59</td>\n",
       "      <td>58.02</td>\n",
       "      <td>58.51</td>\n",
       "      <td>5778000</td>\n",
       "      <td>31.50</td>\n",
       "      <td>31.56</td>\n",
       "      <td>31.31</td>\n",
       "      <td>31.50</td>\n",
       "      <td>10158000</td>\n",
       "    </tr>\n",
       "    <tr>\n",
       "      <th>2006-01-06</th>\n",
       "      <td>46.80</td>\n",
       "      <td>46.91</td>\n",
       "      <td>46.35</td>\n",
       "      <td>46.57</td>\n",
       "      <td>12599800</td>\n",
       "      <td>488.80</td>\n",
       "      <td>489.00</td>\n",
       "      <td>482.00</td>\n",
       "      <td>486.20</td>\n",
       "      <td>1370250</td>\n",
       "      <td>...</td>\n",
       "      <td>58.77</td>\n",
       "      <td>58.85</td>\n",
       "      <td>58.05</td>\n",
       "      <td>58.57</td>\n",
       "      <td>6889800</td>\n",
       "      <td>31.58</td>\n",
       "      <td>31.78</td>\n",
       "      <td>31.38</td>\n",
       "      <td>31.68</td>\n",
       "      <td>8403800</td>\n",
       "    </tr>\n",
       "    <tr>\n",
       "      <th>2006-01-09</th>\n",
       "      <td>46.72</td>\n",
       "      <td>46.97</td>\n",
       "      <td>46.36</td>\n",
       "      <td>46.60</td>\n",
       "      <td>15620000</td>\n",
       "      <td>486.00</td>\n",
       "      <td>487.40</td>\n",
       "      <td>483.00</td>\n",
       "      <td>483.90</td>\n",
       "      <td>1680740</td>\n",
       "      <td>...</td>\n",
       "      <td>58.63</td>\n",
       "      <td>59.29</td>\n",
       "      <td>58.62</td>\n",
       "      <td>59.19</td>\n",
       "      <td>4144500</td>\n",
       "      <td>31.68</td>\n",
       "      <td>31.82</td>\n",
       "      <td>31.56</td>\n",
       "      <td>31.68</td>\n",
       "      <td>5619600</td>\n",
       "    </tr>\n",
       "    <tr>\n",
       "      <th>...</th>\n",
       "      <td>...</td>\n",
       "      <td>...</td>\n",
       "      <td>...</td>\n",
       "      <td>...</td>\n",
       "      <td>...</td>\n",
       "      <td>...</td>\n",
       "      <td>...</td>\n",
       "      <td>...</td>\n",
       "      <td>...</td>\n",
       "      <td>...</td>\n",
       "      <td>...</td>\n",
       "      <td>...</td>\n",
       "      <td>...</td>\n",
       "      <td>...</td>\n",
       "      <td>...</td>\n",
       "      <td>...</td>\n",
       "      <td>...</td>\n",
       "      <td>...</td>\n",
       "      <td>...</td>\n",
       "      <td>...</td>\n",
       "      <td>...</td>\n",
       "    </tr>\n",
       "    <tr>\n",
       "      <th>2015-12-24</th>\n",
       "      <td>17.32</td>\n",
       "      <td>17.38</td>\n",
       "      <td>17.22</td>\n",
       "      <td>17.27</td>\n",
       "      <td>29373415</td>\n",
       "      <td>52.48</td>\n",
       "      <td>52.97</td>\n",
       "      <td>52.45</td>\n",
       "      <td>52.71</td>\n",
       "      <td>4671254</td>\n",
       "      <td>...</td>\n",
       "      <td>32.57</td>\n",
       "      <td>32.71</td>\n",
       "      <td>32.44</td>\n",
       "      <td>32.48</td>\n",
       "      <td>2798163</td>\n",
       "      <td>54.97</td>\n",
       "      <td>55.09</td>\n",
       "      <td>54.71</td>\n",
       "      <td>54.82</td>\n",
       "      <td>4999417</td>\n",
       "    </tr>\n",
       "    <tr>\n",
       "      <th>2015-12-28</th>\n",
       "      <td>17.22</td>\n",
       "      <td>17.23</td>\n",
       "      <td>16.98</td>\n",
       "      <td>17.13</td>\n",
       "      <td>41777497</td>\n",
       "      <td>52.57</td>\n",
       "      <td>52.57</td>\n",
       "      <td>51.96</td>\n",
       "      <td>52.38</td>\n",
       "      <td>8761743</td>\n",
       "      <td>...</td>\n",
       "      <td>32.36</td>\n",
       "      <td>32.36</td>\n",
       "      <td>31.95</td>\n",
       "      <td>32.17</td>\n",
       "      <td>5420280</td>\n",
       "      <td>54.55</td>\n",
       "      <td>54.78</td>\n",
       "      <td>54.17</td>\n",
       "      <td>54.68</td>\n",
       "      <td>8288841</td>\n",
       "    </tr>\n",
       "    <tr>\n",
       "      <th>2015-12-29</th>\n",
       "      <td>17.25</td>\n",
       "      <td>17.35</td>\n",
       "      <td>17.16</td>\n",
       "      <td>17.28</td>\n",
       "      <td>45670376</td>\n",
       "      <td>52.76</td>\n",
       "      <td>53.22</td>\n",
       "      <td>52.74</td>\n",
       "      <td>52.98</td>\n",
       "      <td>10155134</td>\n",
       "      <td>...</td>\n",
       "      <td>32.44</td>\n",
       "      <td>32.70</td>\n",
       "      <td>32.32</td>\n",
       "      <td>32.55</td>\n",
       "      <td>6388244</td>\n",
       "      <td>55.11</td>\n",
       "      <td>55.35</td>\n",
       "      <td>54.99</td>\n",
       "      <td>55.29</td>\n",
       "      <td>7894876</td>\n",
       "    </tr>\n",
       "    <tr>\n",
       "      <th>2015-12-30</th>\n",
       "      <td>17.20</td>\n",
       "      <td>17.24</td>\n",
       "      <td>17.04</td>\n",
       "      <td>17.05</td>\n",
       "      <td>35066378</td>\n",
       "      <td>52.84</td>\n",
       "      <td>52.94</td>\n",
       "      <td>52.25</td>\n",
       "      <td>52.30</td>\n",
       "      <td>8763337</td>\n",
       "      <td>...</td>\n",
       "      <td>32.50</td>\n",
       "      <td>32.64</td>\n",
       "      <td>32.20</td>\n",
       "      <td>32.23</td>\n",
       "      <td>5057162</td>\n",
       "      <td>55.27</td>\n",
       "      <td>55.31</td>\n",
       "      <td>54.79</td>\n",
       "      <td>54.89</td>\n",
       "      <td>8016893</td>\n",
       "    </tr>\n",
       "    <tr>\n",
       "      <th>2015-12-31</th>\n",
       "      <td>17.01</td>\n",
       "      <td>17.07</td>\n",
       "      <td>16.83</td>\n",
       "      <td>16.83</td>\n",
       "      <td>47152968</td>\n",
       "      <td>52.07</td>\n",
       "      <td>52.39</td>\n",
       "      <td>51.75</td>\n",
       "      <td>51.75</td>\n",
       "      <td>11281771</td>\n",
       "      <td>...</td>\n",
       "      <td>31.91</td>\n",
       "      <td>32.30</td>\n",
       "      <td>31.77</td>\n",
       "      <td>31.81</td>\n",
       "      <td>8154307</td>\n",
       "      <td>54.51</td>\n",
       "      <td>54.95</td>\n",
       "      <td>54.22</td>\n",
       "      <td>54.36</td>\n",
       "      <td>10929767</td>\n",
       "    </tr>\n",
       "  </tbody>\n",
       "</table>\n",
       "<p>2517 rows × 30 columns</p>\n",
       "</div>"
      ],
      "text/plain": [
       "Bank Ticker    BAC                                      C                  \\\n",
       "Stock Info    Open   High    Low  Close    Volume    Open    High     Low   \n",
       "Date                                                                        \n",
       "2006-01-03   46.92  47.18  46.15  47.08  16296700  490.00  493.80  481.10   \n",
       "2006-01-04   47.00  47.24  46.45  46.58  17757900  488.60  491.00  483.50   \n",
       "2006-01-05   46.58  46.83  46.32  46.64  14970900  484.40  487.80  484.00   \n",
       "2006-01-06   46.80  46.91  46.35  46.57  12599800  488.80  489.00  482.00   \n",
       "2006-01-09   46.72  46.97  46.36  46.60  15620000  486.00  487.40  483.00   \n",
       "...            ...    ...    ...    ...       ...     ...     ...     ...   \n",
       "2015-12-24   17.32  17.38  17.22  17.27  29373415   52.48   52.97   52.45   \n",
       "2015-12-28   17.22  17.23  16.98  17.13  41777497   52.57   52.57   51.96   \n",
       "2015-12-29   17.25  17.35  17.16  17.28  45670376   52.76   53.22   52.74   \n",
       "2015-12-30   17.20  17.24  17.04  17.05  35066378   52.84   52.94   52.25   \n",
       "2015-12-31   17.01  17.07  16.83  16.83  47152968   52.07   52.39   51.75   \n",
       "\n",
       "Bank Ticker                    ...     MS                                \\\n",
       "Stock Info    Close    Volume  ...   Open   High    Low  Close   Volume   \n",
       "Date                           ...                                        \n",
       "2006-01-03   492.90   1537660  ...  57.17  58.49  56.74  58.31  5377000   \n",
       "2006-01-04   483.80   1871020  ...  58.70  59.28  58.35  58.35  7977800   \n",
       "2006-01-05   486.20   1143160  ...  58.55  58.59  58.02  58.51  5778000   \n",
       "2006-01-06   486.20   1370250  ...  58.77  58.85  58.05  58.57  6889800   \n",
       "2006-01-09   483.90   1680740  ...  58.63  59.29  58.62  59.19  4144500   \n",
       "...             ...       ...  ...    ...    ...    ...    ...      ...   \n",
       "2015-12-24    52.71   4671254  ...  32.57  32.71  32.44  32.48  2798163   \n",
       "2015-12-28    52.38   8761743  ...  32.36  32.36  31.95  32.17  5420280   \n",
       "2015-12-29    52.98  10155134  ...  32.44  32.70  32.32  32.55  6388244   \n",
       "2015-12-30    52.30   8763337  ...  32.50  32.64  32.20  32.23  5057162   \n",
       "2015-12-31    51.75  11281771  ...  31.91  32.30  31.77  31.81  8154307   \n",
       "\n",
       "Bank Ticker    WFC                                 \n",
       "Stock Info    Open   High    Low  Close    Volume  \n",
       "Date                                               \n",
       "2006-01-03   31.60  31.98  31.20  31.90  11016400  \n",
       "2006-01-04   31.80  31.82  31.36  31.53  10871000  \n",
       "2006-01-05   31.50  31.56  31.31  31.50  10158000  \n",
       "2006-01-06   31.58  31.78  31.38  31.68   8403800  \n",
       "2006-01-09   31.68  31.82  31.56  31.68   5619600  \n",
       "...            ...    ...    ...    ...       ...  \n",
       "2015-12-24   54.97  55.09  54.71  54.82   4999417  \n",
       "2015-12-28   54.55  54.78  54.17  54.68   8288841  \n",
       "2015-12-29   55.11  55.35  54.99  55.29   7894876  \n",
       "2015-12-30   55.27  55.31  54.79  54.89   8016893  \n",
       "2015-12-31   54.51  54.95  54.22  54.36  10929767  \n",
       "\n",
       "[2517 rows x 30 columns]"
      ]
     },
     "execution_count": 181,
     "metadata": {},
     "output_type": "execute_result"
    }
   ],
   "source": [
    "df"
   ]
  },
  {
   "cell_type": "code",
   "execution_count": 217,
   "metadata": {},
   "outputs": [
    {
     "ename": "NameError",
     "evalue": "name 'GOOGLEFINANCE' is not defined",
     "output_type": "error",
     "traceback": [
      "\u001b[1;31m---------------------------------------------------------------------------\u001b[0m",
      "\u001b[1;31mNameError\u001b[0m                                 Traceback (most recent call last)",
      "\u001b[1;32m<ipython-input-217-6d86c71155ea>\u001b[0m in \u001b[0;36m<module>\u001b[1;34m\u001b[0m\n\u001b[1;32m----> 1\u001b[1;33m \u001b[0mBAC\u001b[0m \u001b[1;33m=\u001b[0m \u001b[0mdata\u001b[0m\u001b[1;33m.\u001b[0m\u001b[0mDataReader\u001b[0m\u001b[1;33m(\u001b[0m\u001b[0mGOOGLEFINANCE\u001b[0m\u001b[1;33m(\u001b[0m\u001b[1;34m'BAC:google'\u001b[0m\u001b[1;33m,\u001b[0m \u001b[0mstart\u001b[0m\u001b[1;33m,\u001b[0m \u001b[0mend\u001b[0m\u001b[1;33m)\u001b[0m\u001b[1;33m)\u001b[0m\u001b[1;33m\u001b[0m\u001b[1;33m\u001b[0m\u001b[0m\n\u001b[0m",
      "\u001b[1;31mNameError\u001b[0m: name 'GOOGLEFINANCE' is not defined"
     ]
    }
   ],
   "source": [
    "BAC = data.DataReader(GOOGLEFINANCE('BAC:google', start, end))"
   ]
  },
  {
   "cell_type": "code",
   "execution_count": 183,
   "metadata": {},
   "outputs": [],
   "source": [
    "tickers = ['BAC', 'C', 'GS', 'JPM', 'MS', 'WFC']"
   ]
  },
  {
   "cell_type": "code",
   "execution_count": null,
   "metadata": {},
   "outputs": [],
   "source": []
  },
  {
   "cell_type": "markdown",
   "metadata": {},
   "source": [
    "** Create a list of the ticker symbols (as strings) in alphabetical order. Call this list: tickers**"
   ]
  },
  {
   "cell_type": "code",
   "execution_count": 184,
   "metadata": {},
   "outputs": [
    {
     "data": {
      "text/plain": [
       "[('BAC', 'Open'),\n",
       " ('BAC', 'High'),\n",
       " ('BAC', 'Low'),\n",
       " ('BAC', 'Close'),\n",
       " ('BAC', 'Volume'),\n",
       " ('C', 'Open'),\n",
       " ('C', 'High'),\n",
       " ('C', 'Low'),\n",
       " ('C', 'Close'),\n",
       " ('C', 'Volume'),\n",
       " ('GS', 'Open'),\n",
       " ('GS', 'High'),\n",
       " ('GS', 'Low'),\n",
       " ('GS', 'Close'),\n",
       " ('GS', 'Volume'),\n",
       " ('JPM', 'Open'),\n",
       " ('JPM', 'High'),\n",
       " ('JPM', 'Low'),\n",
       " ('JPM', 'Close'),\n",
       " ('JPM', 'Volume'),\n",
       " ('MS', 'Open'),\n",
       " ('MS', 'High'),\n",
       " ('MS', 'Low'),\n",
       " ('MS', 'Close'),\n",
       " ('MS', 'Volume'),\n",
       " ('WFC', 'Open'),\n",
       " ('WFC', 'High'),\n",
       " ('WFC', 'Low'),\n",
       " ('WFC', 'Close'),\n",
       " ('WFC', 'Volume')]"
      ]
     },
     "execution_count": 184,
     "metadata": {},
     "output_type": "execute_result"
    }
   ],
   "source": [
    "lis=list(df.columns)\n",
    "lis"
   ]
  },
  {
   "cell_type": "markdown",
   "metadata": {},
   "source": [
    "** Use pd.concat to concatenate the bank dataframes together to a single data frame called bank_stocks. Set the keys argument equal to the tickers list. Also pay attention to what axis you concatenate on.**"
   ]
  },
  {
   "cell_type": "code",
   "execution_count": null,
   "metadata": {},
   "outputs": [],
   "source": []
  },
  {
   "cell_type": "markdown",
   "metadata": {},
   "source": [
    "** Set the column name levels (this is filled out for you):**"
   ]
  },
  {
   "cell_type": "code",
   "execution_count": 185,
   "metadata": {},
   "outputs": [],
   "source": [
    "df.columns.names = ['Bank Ticker','Stock Info']"
   ]
  },
  {
   "cell_type": "markdown",
   "metadata": {},
   "source": [
    "** Check the head of the bank_stocks dataframe.**"
   ]
  },
  {
   "cell_type": "code",
   "execution_count": 186,
   "metadata": {},
   "outputs": [
    {
     "data": {
      "text/html": [
       "<div>\n",
       "<style scoped>\n",
       "    .dataframe tbody tr th:only-of-type {\n",
       "        vertical-align: middle;\n",
       "    }\n",
       "\n",
       "    .dataframe tbody tr th {\n",
       "        vertical-align: top;\n",
       "    }\n",
       "\n",
       "    .dataframe thead tr th {\n",
       "        text-align: left;\n",
       "    }\n",
       "\n",
       "    .dataframe thead tr:last-of-type th {\n",
       "        text-align: right;\n",
       "    }\n",
       "</style>\n",
       "<table border=\"1\" class=\"dataframe\">\n",
       "  <thead>\n",
       "    <tr>\n",
       "      <th>Bank Ticker</th>\n",
       "      <th colspan=\"5\" halign=\"left\">BAC</th>\n",
       "      <th colspan=\"5\" halign=\"left\">C</th>\n",
       "      <th>...</th>\n",
       "      <th colspan=\"5\" halign=\"left\">MS</th>\n",
       "      <th colspan=\"5\" halign=\"left\">WFC</th>\n",
       "    </tr>\n",
       "    <tr>\n",
       "      <th>Stock Info</th>\n",
       "      <th>Open</th>\n",
       "      <th>High</th>\n",
       "      <th>Low</th>\n",
       "      <th>Close</th>\n",
       "      <th>Volume</th>\n",
       "      <th>Open</th>\n",
       "      <th>High</th>\n",
       "      <th>Low</th>\n",
       "      <th>Close</th>\n",
       "      <th>Volume</th>\n",
       "      <th>...</th>\n",
       "      <th>Open</th>\n",
       "      <th>High</th>\n",
       "      <th>Low</th>\n",
       "      <th>Close</th>\n",
       "      <th>Volume</th>\n",
       "      <th>Open</th>\n",
       "      <th>High</th>\n",
       "      <th>Low</th>\n",
       "      <th>Close</th>\n",
       "      <th>Volume</th>\n",
       "    </tr>\n",
       "    <tr>\n",
       "      <th>Date</th>\n",
       "      <th></th>\n",
       "      <th></th>\n",
       "      <th></th>\n",
       "      <th></th>\n",
       "      <th></th>\n",
       "      <th></th>\n",
       "      <th></th>\n",
       "      <th></th>\n",
       "      <th></th>\n",
       "      <th></th>\n",
       "      <th></th>\n",
       "      <th></th>\n",
       "      <th></th>\n",
       "      <th></th>\n",
       "      <th></th>\n",
       "      <th></th>\n",
       "      <th></th>\n",
       "      <th></th>\n",
       "      <th></th>\n",
       "      <th></th>\n",
       "      <th></th>\n",
       "    </tr>\n",
       "  </thead>\n",
       "  <tbody>\n",
       "    <tr>\n",
       "      <th>2006-01-03</th>\n",
       "      <td>46.92</td>\n",
       "      <td>47.18</td>\n",
       "      <td>46.15</td>\n",
       "      <td>47.08</td>\n",
       "      <td>16296700</td>\n",
       "      <td>490.0</td>\n",
       "      <td>493.8</td>\n",
       "      <td>481.1</td>\n",
       "      <td>492.9</td>\n",
       "      <td>1537660</td>\n",
       "      <td>...</td>\n",
       "      <td>57.17</td>\n",
       "      <td>58.49</td>\n",
       "      <td>56.74</td>\n",
       "      <td>58.31</td>\n",
       "      <td>5377000</td>\n",
       "      <td>31.60</td>\n",
       "      <td>31.98</td>\n",
       "      <td>31.20</td>\n",
       "      <td>31.90</td>\n",
       "      <td>11016400</td>\n",
       "    </tr>\n",
       "    <tr>\n",
       "      <th>2006-01-04</th>\n",
       "      <td>47.00</td>\n",
       "      <td>47.24</td>\n",
       "      <td>46.45</td>\n",
       "      <td>46.58</td>\n",
       "      <td>17757900</td>\n",
       "      <td>488.6</td>\n",
       "      <td>491.0</td>\n",
       "      <td>483.5</td>\n",
       "      <td>483.8</td>\n",
       "      <td>1871020</td>\n",
       "      <td>...</td>\n",
       "      <td>58.70</td>\n",
       "      <td>59.28</td>\n",
       "      <td>58.35</td>\n",
       "      <td>58.35</td>\n",
       "      <td>7977800</td>\n",
       "      <td>31.80</td>\n",
       "      <td>31.82</td>\n",
       "      <td>31.36</td>\n",
       "      <td>31.53</td>\n",
       "      <td>10871000</td>\n",
       "    </tr>\n",
       "    <tr>\n",
       "      <th>2006-01-05</th>\n",
       "      <td>46.58</td>\n",
       "      <td>46.83</td>\n",
       "      <td>46.32</td>\n",
       "      <td>46.64</td>\n",
       "      <td>14970900</td>\n",
       "      <td>484.4</td>\n",
       "      <td>487.8</td>\n",
       "      <td>484.0</td>\n",
       "      <td>486.2</td>\n",
       "      <td>1143160</td>\n",
       "      <td>...</td>\n",
       "      <td>58.55</td>\n",
       "      <td>58.59</td>\n",
       "      <td>58.02</td>\n",
       "      <td>58.51</td>\n",
       "      <td>5778000</td>\n",
       "      <td>31.50</td>\n",
       "      <td>31.56</td>\n",
       "      <td>31.31</td>\n",
       "      <td>31.50</td>\n",
       "      <td>10158000</td>\n",
       "    </tr>\n",
       "    <tr>\n",
       "      <th>2006-01-06</th>\n",
       "      <td>46.80</td>\n",
       "      <td>46.91</td>\n",
       "      <td>46.35</td>\n",
       "      <td>46.57</td>\n",
       "      <td>12599800</td>\n",
       "      <td>488.8</td>\n",
       "      <td>489.0</td>\n",
       "      <td>482.0</td>\n",
       "      <td>486.2</td>\n",
       "      <td>1370250</td>\n",
       "      <td>...</td>\n",
       "      <td>58.77</td>\n",
       "      <td>58.85</td>\n",
       "      <td>58.05</td>\n",
       "      <td>58.57</td>\n",
       "      <td>6889800</td>\n",
       "      <td>31.58</td>\n",
       "      <td>31.78</td>\n",
       "      <td>31.38</td>\n",
       "      <td>31.68</td>\n",
       "      <td>8403800</td>\n",
       "    </tr>\n",
       "    <tr>\n",
       "      <th>2006-01-09</th>\n",
       "      <td>46.72</td>\n",
       "      <td>46.97</td>\n",
       "      <td>46.36</td>\n",
       "      <td>46.60</td>\n",
       "      <td>15620000</td>\n",
       "      <td>486.0</td>\n",
       "      <td>487.4</td>\n",
       "      <td>483.0</td>\n",
       "      <td>483.9</td>\n",
       "      <td>1680740</td>\n",
       "      <td>...</td>\n",
       "      <td>58.63</td>\n",
       "      <td>59.29</td>\n",
       "      <td>58.62</td>\n",
       "      <td>59.19</td>\n",
       "      <td>4144500</td>\n",
       "      <td>31.68</td>\n",
       "      <td>31.82</td>\n",
       "      <td>31.56</td>\n",
       "      <td>31.68</td>\n",
       "      <td>5619600</td>\n",
       "    </tr>\n",
       "  </tbody>\n",
       "</table>\n",
       "<p>5 rows × 30 columns</p>\n",
       "</div>"
      ],
      "text/plain": [
       "Bank Ticker    BAC                                     C                       \\\n",
       "Stock Info    Open   High    Low  Close    Volume   Open   High    Low  Close   \n",
       "Date                                                                            \n",
       "2006-01-03   46.92  47.18  46.15  47.08  16296700  490.0  493.8  481.1  492.9   \n",
       "2006-01-04   47.00  47.24  46.45  46.58  17757900  488.6  491.0  483.5  483.8   \n",
       "2006-01-05   46.58  46.83  46.32  46.64  14970900  484.4  487.8  484.0  486.2   \n",
       "2006-01-06   46.80  46.91  46.35  46.57  12599800  488.8  489.0  482.0  486.2   \n",
       "2006-01-09   46.72  46.97  46.36  46.60  15620000  486.0  487.4  483.0  483.9   \n",
       "\n",
       "Bank Ticker           ...     MS                                  WFC         \\\n",
       "Stock Info    Volume  ...   Open   High    Low  Close   Volume   Open   High   \n",
       "Date                  ...                                                      \n",
       "2006-01-03   1537660  ...  57.17  58.49  56.74  58.31  5377000  31.60  31.98   \n",
       "2006-01-04   1871020  ...  58.70  59.28  58.35  58.35  7977800  31.80  31.82   \n",
       "2006-01-05   1143160  ...  58.55  58.59  58.02  58.51  5778000  31.50  31.56   \n",
       "2006-01-06   1370250  ...  58.77  58.85  58.05  58.57  6889800  31.58  31.78   \n",
       "2006-01-09   1680740  ...  58.63  59.29  58.62  59.19  4144500  31.68  31.82   \n",
       "\n",
       "Bank Ticker                          \n",
       "Stock Info     Low  Close    Volume  \n",
       "Date                                 \n",
       "2006-01-03   31.20  31.90  11016400  \n",
       "2006-01-04   31.36  31.53  10871000  \n",
       "2006-01-05   31.31  31.50  10158000  \n",
       "2006-01-06   31.38  31.68   8403800  \n",
       "2006-01-09   31.56  31.68   5619600  \n",
       "\n",
       "[5 rows x 30 columns]"
      ]
     },
     "execution_count": 186,
     "metadata": {},
     "output_type": "execute_result"
    }
   ],
   "source": [
    "df.head()"
   ]
  },
  {
   "cell_type": "markdown",
   "metadata": {},
   "source": [
    "# EDA\n",
    "\n",
    "Let's explore the data a bit! Before continuing, I encourage you to check out the documentation on [Multi-Level Indexing](http://pandas.pydata.org/pandas-docs/stable/advanced.html) and [Using .xs](http://pandas.pydata.org/pandas-docs/stable/generated/pandas.DataFrame.xs.html).\n",
    "Reference the solutions if you can not figure out how to use .xs(), since that will be a major part of this project.\n",
    "\n",
    "** What is the max Close price for each bank's stock throughout the time period?**"
   ]
  },
  {
   "cell_type": "code",
   "execution_count": 187,
   "metadata": {},
   "outputs": [
    {
     "data": {
      "text/plain": [
       "Bank Ticker\n",
       "BAC     54.90\n",
       "C      564.10\n",
       "GS     247.92\n",
       "JPM     70.08\n",
       "MS      89.30\n",
       "WFC     58.52\n",
       "dtype: float64"
      ]
     },
     "execution_count": 187,
     "metadata": {},
     "output_type": "execute_result"
    }
   ],
   "source": [
    "df.xs(key='Close',axis=1,level=1).max()"
   ]
  },
  {
   "cell_type": "markdown",
   "metadata": {},
   "source": [
    "** Create a new empty DataFrame called returns. This dataframe will contain the returns for each bank's stock. returns are typically defined by:**\n",
    "\n",
    "$$r_t = \\frac{p_t - p_{t-1}}{p_{t-1}} = \\frac{p_t}{p_{t-1}} - 1$$"
   ]
  },
  {
   "cell_type": "code",
   "execution_count": 188,
   "metadata": {},
   "outputs": [],
   "source": [
    "returns=pd.DataFrame()"
   ]
  },
  {
   "cell_type": "markdown",
   "metadata": {},
   "source": [
    "** We can use pandas pct_change() method on the Close column to create a column representing this return value. Create a for loop that goes and for each Bank Stock Ticker creates this returns column and set's it as a column in the returns DataFrame.**"
   ]
  },
  {
   "cell_type": "code",
   "execution_count": 189,
   "metadata": {},
   "outputs": [
    {
     "data": {
      "text/html": [
       "<div>\n",
       "<style scoped>\n",
       "    .dataframe tbody tr th:only-of-type {\n",
       "        vertical-align: middle;\n",
       "    }\n",
       "\n",
       "    .dataframe tbody tr th {\n",
       "        vertical-align: top;\n",
       "    }\n",
       "\n",
       "    .dataframe thead th {\n",
       "        text-align: right;\n",
       "    }\n",
       "</style>\n",
       "<table border=\"1\" class=\"dataframe\">\n",
       "  <thead>\n",
       "    <tr style=\"text-align: right;\">\n",
       "      <th></th>\n",
       "      <th>BAC  Return</th>\n",
       "      <th>C  Return</th>\n",
       "      <th>GS  Return</th>\n",
       "      <th>JPM  Return</th>\n",
       "      <th>MS  Return</th>\n",
       "      <th>WFC  Return</th>\n",
       "    </tr>\n",
       "    <tr>\n",
       "      <th>Date</th>\n",
       "      <th></th>\n",
       "      <th></th>\n",
       "      <th></th>\n",
       "      <th></th>\n",
       "      <th></th>\n",
       "      <th></th>\n",
       "    </tr>\n",
       "  </thead>\n",
       "  <tbody>\n",
       "    <tr>\n",
       "      <th>2006-01-03</th>\n",
       "      <td>NaN</td>\n",
       "      <td>NaN</td>\n",
       "      <td>NaN</td>\n",
       "      <td>NaN</td>\n",
       "      <td>NaN</td>\n",
       "      <td>NaN</td>\n",
       "    </tr>\n",
       "    <tr>\n",
       "      <th>2006-01-04</th>\n",
       "      <td>-0.010620</td>\n",
       "      <td>-0.018462</td>\n",
       "      <td>-0.013812</td>\n",
       "      <td>-0.014183</td>\n",
       "      <td>0.000686</td>\n",
       "      <td>-0.011599</td>\n",
       "    </tr>\n",
       "    <tr>\n",
       "      <th>2006-01-05</th>\n",
       "      <td>0.001288</td>\n",
       "      <td>0.004961</td>\n",
       "      <td>-0.000393</td>\n",
       "      <td>0.003029</td>\n",
       "      <td>0.002742</td>\n",
       "      <td>-0.000951</td>\n",
       "    </tr>\n",
       "    <tr>\n",
       "      <th>2006-01-06</th>\n",
       "      <td>-0.001501</td>\n",
       "      <td>0.000000</td>\n",
       "      <td>0.014169</td>\n",
       "      <td>0.007046</td>\n",
       "      <td>0.001025</td>\n",
       "      <td>0.005714</td>\n",
       "    </tr>\n",
       "    <tr>\n",
       "      <th>2006-01-09</th>\n",
       "      <td>0.000644</td>\n",
       "      <td>-0.004731</td>\n",
       "      <td>0.012030</td>\n",
       "      <td>0.016242</td>\n",
       "      <td>0.010586</td>\n",
       "      <td>0.000000</td>\n",
       "    </tr>\n",
       "  </tbody>\n",
       "</table>\n",
       "</div>"
      ],
      "text/plain": [
       "            BAC  Return  C  Return  GS  Return  JPM  Return  MS  Return  \\\n",
       "Date                                                                      \n",
       "2006-01-03          NaN        NaN         NaN          NaN         NaN   \n",
       "2006-01-04    -0.010620  -0.018462   -0.013812    -0.014183    0.000686   \n",
       "2006-01-05     0.001288   0.004961   -0.000393     0.003029    0.002742   \n",
       "2006-01-06    -0.001501   0.000000    0.014169     0.007046    0.001025   \n",
       "2006-01-09     0.000644  -0.004731    0.012030     0.016242    0.010586   \n",
       "\n",
       "            WFC  Return  \n",
       "Date                     \n",
       "2006-01-03          NaN  \n",
       "2006-01-04    -0.011599  \n",
       "2006-01-05    -0.000951  \n",
       "2006-01-06     0.005714  \n",
       "2006-01-09     0.000000  "
      ]
     },
     "execution_count": 189,
     "metadata": {},
     "output_type": "execute_result"
    }
   ],
   "source": [
    "for tick in tickers:\n",
    "    returns [tick + '  Return']=df[tick]['Close'].pct_change()\n",
    "returns.head()"
   ]
  },
  {
   "cell_type": "markdown",
   "metadata": {},
   "source": [
    "** Create a pairplot using seaborn of the returns dataframe. What stock stands out to you? Can you figure out why?**"
   ]
  },
  {
   "cell_type": "code",
   "execution_count": 190,
   "metadata": {},
   "outputs": [
    {
     "data": {
      "text/html": [
       "<div>\n",
       "<style scoped>\n",
       "    .dataframe tbody tr th:only-of-type {\n",
       "        vertical-align: middle;\n",
       "    }\n",
       "\n",
       "    .dataframe tbody tr th {\n",
       "        vertical-align: top;\n",
       "    }\n",
       "\n",
       "    .dataframe thead th {\n",
       "        text-align: right;\n",
       "    }\n",
       "</style>\n",
       "<table border=\"1\" class=\"dataframe\">\n",
       "  <thead>\n",
       "    <tr style=\"text-align: right;\">\n",
       "      <th></th>\n",
       "      <th>BAC  Return</th>\n",
       "      <th>C  Return</th>\n",
       "      <th>GS  Return</th>\n",
       "      <th>JPM  Return</th>\n",
       "      <th>MS  Return</th>\n",
       "      <th>WFC  Return</th>\n",
       "    </tr>\n",
       "    <tr>\n",
       "      <th>Date</th>\n",
       "      <th></th>\n",
       "      <th></th>\n",
       "      <th></th>\n",
       "      <th></th>\n",
       "      <th></th>\n",
       "      <th></th>\n",
       "    </tr>\n",
       "  </thead>\n",
       "  <tbody>\n",
       "    <tr>\n",
       "      <th>2006-01-04</th>\n",
       "      <td>-0.010620</td>\n",
       "      <td>-0.018462</td>\n",
       "      <td>-0.013812</td>\n",
       "      <td>-0.014183</td>\n",
       "      <td>0.000686</td>\n",
       "      <td>-0.011599</td>\n",
       "    </tr>\n",
       "    <tr>\n",
       "      <th>2006-01-05</th>\n",
       "      <td>0.001288</td>\n",
       "      <td>0.004961</td>\n",
       "      <td>-0.000393</td>\n",
       "      <td>0.003029</td>\n",
       "      <td>0.002742</td>\n",
       "      <td>-0.000951</td>\n",
       "    </tr>\n",
       "    <tr>\n",
       "      <th>2006-01-06</th>\n",
       "      <td>-0.001501</td>\n",
       "      <td>0.000000</td>\n",
       "      <td>0.014169</td>\n",
       "      <td>0.007046</td>\n",
       "      <td>0.001025</td>\n",
       "      <td>0.005714</td>\n",
       "    </tr>\n",
       "    <tr>\n",
       "      <th>2006-01-09</th>\n",
       "      <td>0.000644</td>\n",
       "      <td>-0.004731</td>\n",
       "      <td>0.012030</td>\n",
       "      <td>0.016242</td>\n",
       "      <td>0.010586</td>\n",
       "      <td>0.000000</td>\n",
       "    </tr>\n",
       "    <tr>\n",
       "      <th>2006-01-10</th>\n",
       "      <td>-0.008369</td>\n",
       "      <td>0.003100</td>\n",
       "      <td>0.012578</td>\n",
       "      <td>0.001475</td>\n",
       "      <td>0.000507</td>\n",
       "      <td>-0.000947</td>\n",
       "    </tr>\n",
       "    <tr>\n",
       "      <th>...</th>\n",
       "      <td>...</td>\n",
       "      <td>...</td>\n",
       "      <td>...</td>\n",
       "      <td>...</td>\n",
       "      <td>...</td>\n",
       "      <td>...</td>\n",
       "    </tr>\n",
       "    <tr>\n",
       "      <th>2015-12-24</th>\n",
       "      <td>-0.004037</td>\n",
       "      <td>0.001520</td>\n",
       "      <td>-0.002624</td>\n",
       "      <td>-0.001948</td>\n",
       "      <td>-0.003681</td>\n",
       "      <td>-0.003997</td>\n",
       "    </tr>\n",
       "    <tr>\n",
       "      <th>2015-12-28</th>\n",
       "      <td>-0.008107</td>\n",
       "      <td>-0.006261</td>\n",
       "      <td>-0.004658</td>\n",
       "      <td>-0.003303</td>\n",
       "      <td>-0.009544</td>\n",
       "      <td>-0.002554</td>\n",
       "    </tr>\n",
       "    <tr>\n",
       "      <th>2015-12-29</th>\n",
       "      <td>0.008757</td>\n",
       "      <td>0.011455</td>\n",
       "      <td>0.010516</td>\n",
       "      <td>0.010395</td>\n",
       "      <td>0.011812</td>\n",
       "      <td>0.011156</td>\n",
       "    </tr>\n",
       "    <tr>\n",
       "      <th>2015-12-30</th>\n",
       "      <td>-0.013310</td>\n",
       "      <td>-0.012835</td>\n",
       "      <td>-0.008282</td>\n",
       "      <td>-0.007157</td>\n",
       "      <td>-0.009831</td>\n",
       "      <td>-0.007235</td>\n",
       "    </tr>\n",
       "    <tr>\n",
       "      <th>2015-12-31</th>\n",
       "      <td>-0.012903</td>\n",
       "      <td>-0.010516</td>\n",
       "      <td>-0.009780</td>\n",
       "      <td>-0.008410</td>\n",
       "      <td>-0.013031</td>\n",
       "      <td>-0.009656</td>\n",
       "    </tr>\n",
       "  </tbody>\n",
       "</table>\n",
       "<p>2516 rows × 6 columns</p>\n",
       "</div>"
      ],
      "text/plain": [
       "            BAC  Return  C  Return  GS  Return  JPM  Return  MS  Return  \\\n",
       "Date                                                                      \n",
       "2006-01-04    -0.010620  -0.018462   -0.013812    -0.014183    0.000686   \n",
       "2006-01-05     0.001288   0.004961   -0.000393     0.003029    0.002742   \n",
       "2006-01-06    -0.001501   0.000000    0.014169     0.007046    0.001025   \n",
       "2006-01-09     0.000644  -0.004731    0.012030     0.016242    0.010586   \n",
       "2006-01-10    -0.008369   0.003100    0.012578     0.001475    0.000507   \n",
       "...                 ...        ...         ...          ...         ...   \n",
       "2015-12-24    -0.004037   0.001520   -0.002624    -0.001948   -0.003681   \n",
       "2015-12-28    -0.008107  -0.006261   -0.004658    -0.003303   -0.009544   \n",
       "2015-12-29     0.008757   0.011455    0.010516     0.010395    0.011812   \n",
       "2015-12-30    -0.013310  -0.012835   -0.008282    -0.007157   -0.009831   \n",
       "2015-12-31    -0.012903  -0.010516   -0.009780    -0.008410   -0.013031   \n",
       "\n",
       "            WFC  Return  \n",
       "Date                     \n",
       "2006-01-04    -0.011599  \n",
       "2006-01-05    -0.000951  \n",
       "2006-01-06     0.005714  \n",
       "2006-01-09     0.000000  \n",
       "2006-01-10    -0.000947  \n",
       "...                 ...  \n",
       "2015-12-24    -0.003997  \n",
       "2015-12-28    -0.002554  \n",
       "2015-12-29     0.011156  \n",
       "2015-12-30    -0.007235  \n",
       "2015-12-31    -0.009656  \n",
       "\n",
       "[2516 rows x 6 columns]"
      ]
     },
     "execution_count": 190,
     "metadata": {},
     "output_type": "execute_result"
    }
   ],
   "source": [
    "returns[1:]"
   ]
  },
  {
   "cell_type": "code",
   "execution_count": 191,
   "metadata": {},
   "outputs": [
    {
     "data": {
      "text/plain": [
       "<seaborn.axisgrid.PairGrid at 0x183eca8ac18>"
      ]
     },
     "execution_count": 191,
     "metadata": {},
     "output_type": "execute_result"
    },
    {
     "data": {
      "image/png": "[encoded data removed]",
      "text/plain": [
       "<Figure size 1080x1080 with 42 Axes>"
      ]
     },
     "metadata": {
      "needs_background": "light"
     },
     "output_type": "display_data"
    }
   ],
   "source": [
    "sns.pairplot(returns[1:])"
   ]
  },
  {
   "cell_type": "markdown",
   "metadata": {},
   "source": [
    "* See solution for details about Citigroup behavior...."
   ]
  },
  {
   "cell_type": "markdown",
   "metadata": {},
   "source": [
    "** Using this returns DataFrame, figure out on what dates each bank stock had the best and worst single day returns. You should notice that 4 of the banks share the same day for the worst drop, did anything significant happen that day?**"
   ]
  },
  {
   "cell_type": "code",
   "execution_count": 192,
   "metadata": {},
   "outputs": [
    {
     "data": {
      "text/plain": [
       "BAC  Return   2009-04-09\n",
       "C  Return     2011-05-09\n",
       "GS  Return    2008-11-24\n",
       "JPM  Return   2009-01-21\n",
       "MS  Return    2008-10-13\n",
       "WFC  Return   2008-07-16\n",
       "dtype: datetime64[ns]"
      ]
     },
     "execution_count": 192,
     "metadata": {},
     "output_type": "execute_result"
    }
   ],
   "source": [
    "returns.idxmax()"
   ]
  },
  {
   "cell_type": "markdown",
   "metadata": {},
   "source": [
    "** You should have noticed that Citigroup's largest drop and biggest gain were very close to one another, did anythign significant happen in that time frame? **"
   ]
  },
  {
   "cell_type": "markdown",
   "metadata": {},
   "source": [
    "* See Solution for details"
   ]
  },
  {
   "cell_type": "code",
   "execution_count": 193,
   "metadata": {},
   "outputs": [
    {
     "data": {
      "text/plain": [
       "BAC  Return   -0.289694\n",
       "C  Return     -0.899107\n",
       "GS  Return    -0.189596\n",
       "JPM  Return   -0.207274\n",
       "MS  Return    -0.258929\n",
       "WFC  Return   -0.238223\n",
       "dtype: float64"
      ]
     },
     "execution_count": 193,
     "metadata": {},
     "output_type": "execute_result"
    }
   ],
   "source": [
    "returns.min()"
   ]
  },
  {
   "cell_type": "markdown",
   "metadata": {},
   "source": [
    "** Take a look at the standard deviation of the returns, which stock would you classify as the riskiest over the entire time period? Which would you classify as the riskiest for the year 2015?**"
   ]
  },
  {
   "cell_type": "code",
   "execution_count": 194,
   "metadata": {},
   "outputs": [
    {
     "data": {
      "text/plain": [
       "BAC  Return    0.036650\n",
       "C  Return      0.179969\n",
       "GS  Return     0.025346\n",
       "JPM  Return    0.027656\n",
       "MS  Return     0.037820\n",
       "WFC  Return    0.030233\n",
       "dtype: float64"
      ]
     },
     "execution_count": 194,
     "metadata": {},
     "output_type": "execute_result"
    }
   ],
   "source": [
    "returns.std()"
   ]
  },
  {
   "cell_type": "code",
   "execution_count": 195,
   "metadata": {},
   "outputs": [
    {
     "data": {
      "text/plain": [
       "BAC  Return    0.016163\n",
       "C  Return      0.015289\n",
       "GS  Return     0.014046\n",
       "JPM  Return    0.014017\n",
       "MS  Return     0.016249\n",
       "WFC  Return    0.012591\n",
       "dtype: float64"
      ]
     },
     "execution_count": 195,
     "metadata": {},
     "output_type": "execute_result"
    }
   ],
   "source": [
    "returns.loc['2015-01-01':'2015-12-31'].std()"
   ]
  },
  {
   "cell_type": "markdown",
   "metadata": {},
   "source": [
    "** Create a distplot using seaborn of the 2015 returns for Morgan Stanley **"
   ]
  },
  {
   "cell_type": "code",
   "execution_count": 196,
   "metadata": {},
   "outputs": [
    {
     "data": {
      "image/png": "[encoded data removed]",
      "text/plain": [
       "<Figure size 432x288 with 1 Axes>"
      ]
     },
     "metadata": {
      "needs_background": "light"
     },
     "output_type": "display_data"
    }
   ],
   "source": [
    "sns.distplot(returns.loc['2015-01-01':'2015-12-31']['MS  Return'],color='green',bins=100)\n",
    "import matplotlib.pyplot as plt\n",
    "plt.grid()\n",
    "plt.tight_layout()"
   ]
  },
  {
   "cell_type": "markdown",
   "metadata": {},
   "source": [
    "** Create a distplot using seaborn of the 2008 returns for CitiGroup **"
   ]
  },
  {
   "cell_type": "code",
   "execution_count": 197,
   "metadata": {},
   "outputs": [
    {
     "name": "stderr",
     "output_type": "stream",
     "text": [
      "D:\\annaconda\\lib\\site-packages\\ipykernel_launcher.py:3: FutureWarning:\n",
      "\n",
      "\n",
      ".ix is deprecated. Please use\n",
      ".loc for label based indexing or\n",
      ".iloc for positional indexing\n",
      "\n",
      "See the documentation here:\n",
      "http://pandas.pydata.org/pandas-docs/stable/user_guide/indexing.html#ix-indexer-is-deprecated\n",
      "\n"
     ]
    },
    {
     "data": {
      "text/plain": [
       "<matplotlib.axes._subplots.AxesSubplot at 0x183e9f32438>"
      ]
     },
     "execution_count": 197,
     "metadata": {},
     "output_type": "execute_result"
    },
    {
     "data": {
      "image/png": "[encoded data removed]",
      "text/plain": [
       "<Figure size 432x432 with 1 Axes>"
      ]
     },
     "metadata": {
      "needs_background": "light"
     },
     "output_type": "display_data"
    }
   ],
   "source": [
    "plt.figure(figsize=(6,6))\n",
    "plt.grid()\n",
    "sns.distplot(returns.ix['2008-01-01':'2008-12-31']['C  Return'],color='red',bins=100)\n"
   ]
  },
  {
   "cell_type": "code",
   "execution_count": 198,
   "metadata": {},
   "outputs": [
    {
     "name": "stderr",
     "output_type": "stream",
     "text": [
      "D:\\annaconda\\lib\\site-packages\\ipykernel_launcher.py:1: FutureWarning:\n",
      "\n",
      "\n",
      ".ix is deprecated. Please use\n",
      ".loc for label based indexing or\n",
      ".iloc for positional indexing\n",
      "\n",
      "See the documentation here:\n",
      "http://pandas.pydata.org/pandas-docs/stable/user_guide/indexing.html#ix-indexer-is-deprecated\n",
      "\n"
     ]
    },
    {
     "data": {
      "text/plain": [
       "<matplotlib.axes._subplots.AxesSubplot at 0x183ea520358>"
      ]
     },
     "execution_count": 198,
     "metadata": {},
     "output_type": "execute_result"
    },
    {
     "data": {
      "image/png": "[encoded data removed]",
      "text/plain": [
       "<Figure size 432x288 with 1 Axes>"
      ]
     },
     "metadata": {
      "needs_background": "light"
     },
     "output_type": "display_data"
    }
   ],
   "source": [
    "sns.distplot(returns.ix['2008-01-01':'2008-12-31']['C  Return'],color='red',bins=100)"
   ]
  },
  {
   "cell_type": "markdown",
   "metadata": {},
   "source": [
    "____\n",
    "# More Visualization\n",
    "\n",
    "A lot of this project will focus on visualizations. Feel free to use any of your preferred visualization libraries to try to recreate the described plots below, seaborn, matplotlib, plotly and cufflinks, or just pandas.\n",
    "\n",
    "### Imports"
   ]
  },
  {
   "cell_type": "code",
   "execution_count": 199,
   "metadata": {},
   "outputs": [
    {
     "data": {
      "text/html": [
       "        <script type=\"text/javascript\">\n",
       "        window.PlotlyConfig = {MathJaxConfig: 'local'};\n",
       "        if (window.MathJax) {MathJax.Hub.Config({SVG: {font: \"STIX-Web\"}});}\n",
       "        if (typeof require !== 'undefined') {\n",
       "        require.undef(\"plotly\");\n",
       "        requirejs.config({\n",
       "            paths: {\n",
       "                'plotly': ['https://cdn.plot.ly/plotly-latest.min']\n",
       "            }\n",
       "        });\n",
       "        require(['plotly'], function(Plotly) {\n",
       "            window._Plotly = Plotly;\n",
       "        });\n",
       "        }\n",
       "        </script>\n",
       "        "
      ]
     },
     "metadata": {},
     "output_type": "display_data"
    }
   ],
   "source": [
    "import matplotlib.pyplot as plt\n",
    "import seaborn as sns\n",
    "sns.set_style('whitegrid')\n",
    "%matplotlib inline\n",
    "\n",
    "# Optional Plotly Method Imports\n",
    "import plotly\n",
    "import cufflinks as cf\n",
    "cf.go_offline()\n"
   ]
  },
  {
   "cell_type": "markdown",
   "metadata": {},
   "source": [
    "** Create a line plot showing Close price for each bank for the entire index of time. (Hint: Try using a for loop, or use [.xs](http://pandas.pydata.org/pandas-docs/stable/generated/pandas.DataFrame.xs.html) to get a cross section of the data.)**"
   ]
  },
  {
   "cell_type": "code",
   "execution_count": 200,
   "metadata": {},
   "outputs": [
    {
     "data": {
      "text/plain": [
       "<matplotlib.legend.Legend at 0x183e9fd9630>"
      ]
     },
     "execution_count": 200,
     "metadata": {},
     "output_type": "execute_result"
    },
    {
     "data": {
      "image/png": "[encoded data removed]",
      "text/plain": [
       "<Figure size 864x288 with 1 Axes>"
      ]
     },
     "metadata": {
      "needs_background": "light"
     },
     "output_type": "display_data"
    }
   ],
   "source": [
    "for tick in tickers:\n",
    "    df[tick]['Close'].plot(figsize=(12,4),label=tick)\n",
    "plt.legend()"
   ]
  },
  {
   "cell_type": "code",
   "execution_count": null,
   "metadata": {},
   "outputs": [],
   "source": []
  },
  {
   "cell_type": "code",
   "execution_count": 19,
   "metadata": {},
   "outputs": [
    {
     "data": {
      "text/html": [
       "<div id=\"16023fe4-0ed5-4915-a2b7-5e2290f9cf2e\" style=\"height: 525px; width: 100%;\" class=\"plotly-graph-div\"></div><script type=\"text/javascript\">require([\"plotly\"], function(Plotly) { window.PLOTLYENV=window.PLOTLYENV || {};window.PLOTLYENV.BASE_URL=\"https://plot.ly\";Plotly.newPlot(\"16023fe4-0ed5-4915-a2b7-5e2290f9cf2e\", [{\"type\": \"scatter\", \"x\": [\"2006-01-03\", \"2006-01-04\", \"2006-01-05\", \"2006-01-06\", \"2006-01-09\", \"2006-01-10\", \"2006-01-11\", \"2006-01-12\", \"2006-01-13\", \"2006-01-17\", \"2006-01-18\", \"2006-01-19\", \"2006-01-20\", \"2006-01-23\", \"2006-01-24\", \"2006-01-25\", \"2006-01-26\", \"2006-01-27\", \"2006-01-30\", \"2006-01-31\", \"2006-02-01\", \"2006-02-02\", \"2006-02-03\", \"2006-02-06\", \"2006-02-07\", \"2006-02-08\", \"2006-02-09\", \"2006-02-10\", \"2006-02-13\", \"2006-02-14\", \"2006-02-15\", \"2006-02-16\", \"2006-02-17\", \"2006-02-21\", \"2006-02-22\", \"2006-02-23\", \"2006-02-24\", \"2006-02-27\", \"2006-02-28\", \"2006-03-01\", \"2006-03-02\", \"2006-03-03\", \"2006-03-06\", \"2006-03-07\", \"2006-03-08\", \"2006-03-09\", \"2006-03-10\", \"2006-03-13\", \"2006-03-14\", \"2006-03-15\", \"2006-03-16\", \"2006-03-17\", \"2006-03-20\", \"2006-03-21\", \"2006-03-22\", \"2006-03-23\", \"2006-03-24\", \"2006-03-27\", \"2006-03-28\", \"2006-03-29\", \"2006-03-30\", \"2006-03-31\", \"2006-04-03\", \"2006-04-04\", \"2006-04-05\", \"2006-04-06\", \"2006-04-07\", \"2006-04-10\", \"2006-04-11\", \"2006-04-12\", \"2006-04-13\", \"2006-04-17\", \"2006-04-18\", \"2006-04-19\", \"2006-04-20\", \"2006-04-21\", \"2006-04-24\", \"2006-04-25\", \"2006-04-26\", \"2006-04-27\", \"2006-04-28\", \"2006-05-01\", \"2006-05-02\", \"2006-05-03\", \"2006-05-04\", \"2006-05-05\", \"2006-05-08\", \"2006-05-09\", \"2006-05-10\", \"2006-05-11\", \"2006-05-12\", \"2006-05-15\", \"2006-05-16\", \"2006-05-17\", \"2006-05-18\", \"2006-05-19\", \"2006-05-22\", \"2006-05-23\", \"2006-05-24\", \"2006-05-25\", \"2006-05-26\", \"2006-05-30\", \"2006-05-31\", \"2006-06-01\", \"2006-06-02\", \"2006-06-05\", \"2006-06-06\", \"2006-06-07\", \"2006-06-08\", \"2006-06-09\", \"2006-06-12\", \"2006-06-13\", \"2006-06-14\", \"2006-06-15\", \"2006-06-16\", \"2006-06-19\", \"2006-06-20\", \"2006-06-21\", \"2006-06-22\", \"2006-06-23\", \"2006-06-26\", \"2006-06-27\", \"2006-06-28\", \"2006-06-29\", \"2006-06-30\", \"2006-07-03\", \"2006-07-05\", \"2006-07-06\", \"2006-07-07\", \"2006-07-10\", \"2006-07-11\", \"2006-07-12\", \"2006-07-13\", \"2006-07-14\", \"2006-07-17\", \"2006-07-18\", \"2006-07-19\", \"2006-07-20\", \"2006-07-21\", \"2006-07-24\", \"2006-07-25\", \"2006-07-26\", \"2006-07-27\", \"2006-07-28\", \"2006-07-31\", \"2006-08-01\", \"2006-08-02\", \"2006-08-03\", \"2006-08-04\", \"2006-08-07\", \"2006-08-08\", \"2006-08-09\", \"2006-08-10\", \"2006-08-11\", \"2006-08-14\", \"2006-08-15\", \"2006-08-16\", \"2006-08-17\", \"2006-08-18\", \"2006-08-21\", \"2006-08-22\", \"2006-08-23\", \"2006-08-24\", \"2006-08-25\", \"2006-08-28\", \"2006-08-29\", \"2006-08-30\", \"2006-08-31\", \"2006-09-01\", \"2006-09-05\", \"2006-09-06\", \"2006-09-07\", \"2006-09-08\", \"2006-09-11\", \"2006-09-12\", \"2006-09-13\", \"2006-09-14\", \"2006-09-15\", \"2006-09-18\", \"2006-09-19\", \"2006-09-20\", \"2006-09-21\", \"2006-09-22\", \"2006-09-25\", \"2006-09-26\", \"2006-09-27\", \"2006-09-28\", \"2006-09-29\", \"2006-10-02\", \"2006-10-03\", \"2006-10-04\", \"2006-10-05\", \"2006-10-06\", \"2006-10-09\", \"2006-10-10\", \"2006-10-11\", \"2006-10-12\", \"2006-10-13\", \"2006-10-16\", \"2006-10-17\", \"2006-10-18\", \"2006-10-19\", \"2006-10-20\", \"2006-10-23\", \"2006-10-24\", \"2006-10-25\", \"2006-10-26\", \"2006-10-27\", \"2006-10-30\", \"2006-10-31\", \"2006-11-01\", \"2006-11-02\", \"2006-11-03\", \"2006-11-06\", \"2006-11-07\", \"2006-11-08\", \"2006-11-09\", \"2006-11-10\", \"2006-11-13\", \"2006-11-14\", \"2006-11-15\", \"2006-11-16\", \"2006-11-17\", \"2006-11-20\", \"2006-11-21\", \"2006-11-22\", \"2006-11-24\", \"2006-11-27\", \"2006-11-28\", \"2006-11-29\", \"2006-11-30\", \"2006-12-01\", \"2006-12-04\", \"2006-12-05\", \"2006-12-06\", \"2006-12-07\", \"2006-12-08\", \"2006-12-11\", \"2006-12-12\", \"2006-12-13\", \"2006-12-14\", \"2006-12-15\", \"2006-12-18\", \"2006-12-19\", \"2006-12-20\", \"2006-12-21\", \"2006-12-22\", \"2006-12-26\", \"2006-12-27\", \"2006-12-28\", \"2006-12-29\", \"2007-01-03\", \"2007-01-04\", \"2007-01-05\", \"2007-01-08\", \"2007-01-09\", \"2007-01-10\", \"2007-01-11\", \"2007-01-12\", \"2007-01-16\", \"2007-01-17\", \"2007-01-18\", \"2007-01-19\", \"2007-01-22\", \"2007-01-23\", \"2007-01-24\", \"2007-01-25\", \"2007-01-26\", \"2007-01-29\", \"2007-01-30\", \"2007-01-31\", \"2007-02-01\", \"2007-02-02\", \"2007-02-05\", \"2007-02-06\", \"2007-02-07\", \"2007-02-08\", \"2007-02-09\", \"2007-02-12\", \"2007-02-13\", \"2007-02-14\", \"2007-02-15\", \"2007-02-16\", \"2007-02-20\", \"2007-02-21\", \"2007-02-22\", \"2007-02-23\", \"2007-02-26\", \"2007-02-27\", \"2007-02-28\", \"2007-03-01\", \"2007-03-02\", \"2007-03-05\", \"2007-03-06\", \"2007-03-07\", \"2007-03-08\", \"2007-03-09\", \"2007-03-12\", \"2007-03-13\", \"2007-03-14\", \"2007-03-15\", \"2007-03-16\", \"2007-03-19\", \"2007-03-20\", \"2007-03-21\", \"2007-03-22\", \"2007-03-23\", \"2007-03-26\", \"2007-03-27\", \"2007-03-28\", \"2007-03-29\", \"2007-03-30\", \"2007-04-02\", \"2007-04-03\", \"2007-04-04\", \"2007-04-05\", \"2007-04-09\", \"2007-04-10\", \"2007-04-11\", \"2007-04-12\", \"2007-04-13\", \"2007-04-16\", \"2007-04-17\", \"2007-04-18\", \"2007-04-19\", \"2007-04-20\", \"2007-04-23\", \"2007-04-24\", \"2007-04-25\", \"2007-04-26\", \"2007-04-27\", \"2007-04-30\", \"2007-05-01\", \"2007-05-02\", \"2007-05-03\", \"2007-05-04\", \"2007-05-07\", \"2007-05-08\", \"2007-05-09\", \"2007-05-10\", \"2007-05-11\", \"2007-05-14\", \"2007-05-15\", \"2007-05-16\", \"2007-05-17\", \"2007-05-18\", \"2007-05-21\", \"2007-05-22\", \"2007-05-23\", \"2007-05-24\", \"2007-05-25\", \"2007-05-29\", \"2007-05-30\", \"2007-05-31\", \"2007-06-01\", \"2007-06-04\", \"2007-06-05\", \"2007-06-06\", \"2007-06-07\", \"2007-06-08\", \"2007-06-11\", \"2007-06-12\", \"2007-06-13\", \"2007-06-14\", \"2007-06-15\", \"2007-06-18\", \"2007-06-19\", \"2007-06-20\", \"2007-06-21\", \"2007-06-22\", \"2007-06-25\", \"2007-06-26\", \"2007-06-27\", \"2007-06-28\", \"2007-06-29\", \"2007-07-02\", \"2007-07-03\", \"2007-07-05\", \"2007-07-06\", \"2007-07-09\", \"2007-07-10\", \"2007-07-11\", \"2007-07-12\", \"2007-07-13\", \"2007-07-16\", \"2007-07-17\", \"2007-07-18\", \"2007-07-19\", \"2007-07-20\", \"2007-07-23\", \"2007-07-24\", \"2007-07-25\", \"2007-07-26\", \"2007-07-27\", \"2007-07-30\", \"2007-07-31\", \"2007-08-01\", \"2007-08-02\", \"2007-08-03\", \"2007-08-06\", \"2007-08-07\", \"2007-08-08\", \"2007-08-09\", \"2007-08-10\", \"2007-08-13\", \"2007-08-14\", \"2007-08-15\", \"2007-08-16\", \"2007-08-17\", \"2007-08-20\", \"2007-08-21\", \"2007-08-22\", \"2007-08-23\", \"2007-08-24\", \"2007-08-27\", \"2007-08-28\", \"2007-08-29\", \"2007-08-30\", \"2007-08-31\", \"2007-09-04\", \"2007-09-05\", \"2007-09-06\", \"2007-09-07\", \"2007-09-10\", \"2007-09-11\", \"2007-09-12\", \"2007-09-13\", \"2007-09-14\", \"2007-09-17\", \"2007-09-18\", \"2007-09-19\", \"2007-09-20\", \"2007-09-21\", \"2007-09-24\", \"2007-09-25\", \"2007-09-26\", \"2007-09-27\", \"2007-09-28\", \"2007-10-01\", \"2007-10-02\", \"2007-10-03\", \"2007-10-04\", \"2007-10-05\", \"2007-10-08\", \"2007-10-09\", \"2007-10-10\", \"2007-10-11\", \"2007-10-12\", \"2007-10-15\", \"2007-10-16\", \"2007-10-17\", \"2007-10-18\", \"2007-10-19\", \"2007-10-22\", \"2007-10-23\", \"2007-10-24\", \"2007-10-25\", \"2007-10-26\", \"2007-10-29\", \"2007-10-30\", \"2007-10-31\", \"2007-11-01\", \"2007-11-02\", \"2007-11-05\", \"2007-11-06\", \"2007-11-07\", \"2007-11-08\", \"2007-11-09\", \"2007-11-12\", \"2007-11-13\", \"2007-11-14\", \"2007-11-15\", \"2007-11-16\", \"2007-11-19\", \"2007-11-20\", \"2007-11-21\", \"2007-11-23\", \"2007-11-26\", \"2007-11-27\", \"2007-11-28\", \"2007-11-29\", \"2007-11-30\", \"2007-12-03\", \"2007-12-04\", \"2007-12-05\", \"2007-12-06\", \"2007-12-07\", \"2007-12-10\", \"2007-12-11\", \"2007-12-12\", \"2007-12-13\", \"2007-12-14\", \"2007-12-17\", \"2007-12-18\", \"2007-12-19\", \"2007-12-20\", \"2007-12-21\", \"2007-12-24\", \"2007-12-26\", \"2007-12-27\", \"2007-12-28\", \"2007-12-31\", \"2008-01-02\", \"2008-01-03\", \"2008-01-04\", \"2008-01-07\", \"2008-01-08\", \"2008-01-09\", \"2008-01-10\", \"2008-01-11\", \"2008-01-14\", \"2008-01-15\", \"2008-01-16\", \"2008-01-17\", \"2008-01-18\", \"2008-01-22\", \"2008-01-23\", \"2008-01-24\", \"2008-01-25\", \"2008-01-28\", \"2008-01-29\", \"2008-01-30\", \"2008-01-31\", \"2008-02-01\", \"2008-02-04\", \"2008-02-05\", \"2008-02-06\", \"2008-02-07\", \"2008-02-08\", \"2008-02-11\", \"2008-02-12\", \"2008-02-13\", \"2008-02-14\", \"2008-02-15\", \"2008-02-19\", \"2008-02-20\", \"2008-02-21\", \"2008-02-22\", \"2008-02-25\", \"2008-02-26\", \"2008-02-27\", \"2008-02-28\", \"2008-02-29\", \"2008-03-03\", \"2008-03-04\", \"2008-03-05\", \"2008-03-06\", \"2008-03-07\", \"2008-03-10\", \"2008-03-11\", \"2008-03-12\", \"2008-03-13\", \"2008-03-14\", \"2008-03-17\", \"2008-03-18\", \"2008-03-19\", \"2008-03-20\", \"2008-03-24\", \"2008-03-25\", \"2008-03-26\", \"2008-03-27\", \"2008-03-28\", \"2008-03-31\", \"2008-04-01\", \"2008-04-02\", \"2008-04-03\", \"2008-04-04\", \"2008-04-07\", \"2008-04-08\", \"2008-04-09\", \"2008-04-10\", \"2008-04-11\", \"2008-04-14\", \"2008-04-15\", \"2008-04-16\", \"2008-04-17\", \"2008-04-18\", \"2008-04-21\", \"2008-04-22\", \"2008-04-23\", \"2008-04-24\", \"2008-04-25\", \"2008-04-28\", \"2008-04-29\", \"2008-04-30\", \"2008-05-01\", \"2008-05-02\", \"2008-05-05\", \"2008-05-06\", \"2008-05-07\", \"2008-05-08\", \"2008-05-09\", \"2008-05-12\", \"2008-05-13\", \"2008-05-14\", \"2008-05-15\", \"2008-05-16\", \"2008-05-19\", \"2008-05-20\", \"2008-05-21\", \"2008-05-22\", \"2008-05-23\", \"2008-05-27\", \"2008-05-28\", \"2008-05-29\", \"2008-05-30\", \"2008-06-02\", \"2008-06-03\", \"2008-06-04\", \"2008-06-05\", \"2008-06-06\", \"2008-06-09\", \"2008-06-10\", \"2008-06-11\", \"2008-06-12\", \"2008-06-13\", \"2008-06-16\", \"2008-06-17\", \"2008-06-18\", \"2008-06-19\", \"2008-06-20\", \"2008-06-23\", \"2008-06-24\", \"2008-06-25\", \"2008-06-26\", \"2008-06-27\", \"2008-06-30\", \"2008-07-01\", \"2008-07-02\", \"2008-07-03\", \"2008-07-07\", \"2008-07-08\", \"2008-07-09\", \"2008-07-10\", \"2008-07-11\", \"2008-07-14\", \"2008-07-15\", \"2008-07-16\", \"2008-07-17\", \"2008-07-18\", \"2008-07-21\", \"2008-07-22\", \"2008-07-23\", \"2008-07-24\", \"2008-07-25\", \"2008-07-28\", \"2008-07-29\", \"2008-07-30\", \"2008-07-31\", \"2008-08-01\", \"2008-08-04\", \"2008-08-05\", \"2008-08-06\", \"2008-08-07\", \"2008-08-08\", \"2008-08-11\", \"2008-08-12\", \"2008-08-13\", \"2008-08-14\", \"2008-08-15\", \"2008-08-18\", \"2008-08-19\", \"2008-08-20\", \"2008-08-21\", \"2008-08-22\", \"2008-08-25\", \"2008-08-26\", \"2008-08-27\", \"2008-08-28\", \"2008-08-29\", \"2008-09-02\", \"2008-09-03\", \"2008-09-04\", \"2008-09-05\", \"2008-09-08\", \"2008-09-09\", \"2008-09-10\", \"2008-09-11\", \"2008-09-12\", \"2008-09-15\", \"2008-09-16\", \"2008-09-17\", \"2008-09-18\", \"2008-09-19\", \"2008-09-22\", \"2008-09-23\", \"2008-09-24\", \"2008-09-25\", \"2008-09-26\", \"2008-09-29\", \"2008-09-30\", \"2008-10-01\", \"2008-10-02\", \"2008-10-03\", \"2008-10-06\", \"2008-10-07\", \"2008-10-08\", \"2008-10-09\", \"2008-10-10\", \"2008-10-13\", \"2008-10-14\", \"2008-10-15\", \"2008-10-16\", \"2008-10-17\", \"2008-10-20\", \"2008-10-21\", \"2008-10-22\", \"2008-10-23\", \"2008-10-24\", \"2008-10-27\", \"2008-10-28\", \"2008-10-29\", \"2008-10-30\", \"2008-10-31\", \"2008-11-03\", \"2008-11-04\", \"2008-11-05\", \"2008-11-06\", \"2008-11-07\", \"2008-11-10\", \"2008-11-11\", \"2008-11-12\", \"2008-11-13\", \"2008-11-14\", \"2008-11-17\", \"2008-11-18\", \"2008-11-19\", \"2008-11-20\", \"2008-11-21\", \"2008-11-24\", \"2008-11-25\", \"2008-11-26\", \"2008-11-28\", \"2008-12-01\", \"2008-12-02\", \"2008-12-03\", \"2008-12-04\", \"2008-12-05\", \"2008-12-08\", \"2008-12-09\", \"2008-12-10\", \"2008-12-11\", \"2008-12-12\", \"2008-12-15\", \"2008-12-16\", \"2008-12-17\", \"2008-12-18\", \"2008-12-19\", \"2008-12-22\", \"2008-12-23\", \"2008-12-24\", \"2008-12-26\", \"2008-12-29\", \"2008-12-30\", \"2008-12-31\", \"2009-01-02\", \"2009-01-05\", \"2009-01-06\", \"2009-01-07\", \"2009-01-08\", \"2009-01-09\", \"2009-01-12\", \"2009-01-13\", \"2009-01-14\", \"2009-01-15\", \"2009-01-16\", \"2009-01-20\", \"2009-01-21\", \"2009-01-22\", \"2009-01-23\", \"2009-01-26\", \"2009-01-27\", \"2009-01-28\", \"2009-01-29\", \"2009-01-30\", \"2009-02-02\", \"2009-02-03\", \"2009-02-04\", \"2009-02-05\", \"2009-02-06\", \"2009-02-09\", \"2009-02-10\", \"2009-02-11\", \"2009-02-12\", \"2009-02-13\", \"2009-02-17\", \"2009-02-18\", \"2009-02-19\", \"2009-02-20\", \"2009-02-23\", \"2009-02-24\", \"2009-02-25\", \"2009-02-26\", \"2009-02-27\", \"2009-03-02\", \"2009-03-03\", \"2009-03-04\", \"2009-03-05\", \"2009-03-06\", \"2009-03-09\", \"2009-03-10\", \"2009-03-11\", \"2009-03-12\", \"2009-03-13\", \"2009-03-16\", \"2009-03-17\", \"2009-03-18\", \"2009-03-19\", \"2009-03-20\", \"2009-03-23\", \"2009-03-24\", \"2009-03-25\", \"2009-03-26\", \"2009-03-27\", \"2009-03-30\", \"2009-03-31\", \"2009-04-01\", \"2009-04-02\", \"2009-04-03\", \"2009-04-06\", \"2009-04-07\", \"2009-04-08\", \"2009-04-09\", \"2009-04-13\", \"2009-04-14\", \"2009-04-15\", \"2009-04-16\", \"2009-04-17\", \"2009-04-20\", \"2009-04-21\", \"2009-04-22\", \"2009-04-23\", \"2009-04-24\", \"2009-04-27\", \"2009-04-28\", \"2009-04-29\", \"2009-04-30\", \"2009-05-01\", \"2009-05-04\", \"2009-05-05\", \"2009-05-06\", \"2009-05-07\", \"2009-05-08\", \"2009-05-11\", \"2009-05-12\", \"2009-05-13\", \"2009-05-14\", \"2009-05-15\", \"2009-05-18\", \"2009-05-19\", \"2009-05-20\", \"2009-05-21\", \"2009-05-22\", \"2009-05-26\", \"2009-05-27\", \"2009-05-28\", \"2009-05-29\", \"2009-06-01\", \"2009-06-02\", \"2009-06-03\", \"2009-06-04\", \"2009-06-05\", \"2009-06-08\", \"2009-06-09\", \"2009-06-10\", \"2009-06-11\", \"2009-06-12\", \"2009-06-15\", \"2009-06-16\", \"2009-06-17\", \"2009-06-18\", \"2009-06-19\", \"2009-06-22\", \"2009-06-23\", \"2009-06-24\", \"2009-06-25\", \"2009-06-26\", \"2009-06-29\", \"2009-06-30\", \"2009-07-01\", \"2009-07-02\", \"2009-07-06\", \"2009-07-07\", \"2009-07-08\", \"2009-07-09\", \"2009-07-10\", \"2009-07-13\", \"2009-07-14\", \"2009-07-15\", \"2009-07-16\", \"2009-07-17\", \"2009-07-20\", \"2009-07-21\", \"2009-07-22\", \"2009-07-23\", \"2009-07-24\", \"2009-07-27\", \"2009-07-28\", \"2009-07-29\", \"2009-07-30\", \"2009-07-31\", \"2009-08-03\", \"2009-08-04\", \"2009-08-05\", \"2009-08-06\", \"2009-08-07\", \"2009-08-10\", \"2009-08-11\", \"2009-08-12\", \"2009-08-13\", \"2009-08-14\", \"2009-08-17\", \"2009-08-18\", \"2009-08-19\", \"2009-08-20\", \"2009-08-21\", \"2009-08-24\", \"2009-08-25\", \"2009-08-26\", \"2009-08-27\", \"2009-08-28\", \"2009-08-31\", \"2009-09-01\", \"2009-09-02\", \"2009-09-03\", \"2009-09-04\", \"2009-09-08\", \"2009-09-09\", \"2009-09-10\", \"2009-09-11\", \"2009-09-14\", \"2009-09-15\", \"2009-09-16\", \"2009-09-17\", \"2009-09-18\", \"2009-09-21\", \"2009-09-22\", \"2009-09-23\", \"2009-09-24\", \"2009-09-25\", \"2009-09-28\", \"2009-09-29\", \"2009-09-30\", \"2009-10-01\", \"2009-10-02\", \"2009-10-05\", \"2009-10-06\", \"2009-10-07\", \"2009-10-08\", \"2009-10-09\", \"2009-10-12\", \"2009-10-13\", \"2009-10-14\", \"2009-10-15\", \"2009-10-16\", \"2009-10-19\", \"2009-10-20\", \"2009-10-21\", \"2009-10-22\", \"2009-10-23\", \"2009-10-26\", \"2009-10-27\", \"2009-10-28\", \"2009-10-29\", \"2009-10-30\", \"2009-11-02\", \"2009-11-03\", \"2009-11-04\", \"2009-11-05\", \"2009-11-06\", \"2009-11-09\", \"2009-11-10\", \"2009-11-11\", \"2009-11-12\", \"2009-11-13\", \"2009-11-16\", \"2009-11-17\", \"2009-11-18\", \"2009-11-19\", \"2009-11-20\", \"2009-11-23\", \"2009-11-24\", \"2009-11-25\", \"2009-11-27\", \"2009-11-30\", \"2009-12-01\", \"2009-12-02\", \"2009-12-03\", \"2009-12-04\", \"2009-12-07\", \"2009-12-08\", \"2009-12-09\", \"2009-12-10\", \"2009-12-11\", \"2009-12-14\", \"2009-12-15\", \"2009-12-16\", \"2009-12-17\", \"2009-12-18\", \"2009-12-21\", \"2009-12-22\", \"2009-12-23\", \"2009-12-24\", \"2009-12-28\", \"2009-12-29\", \"2009-12-30\", \"2009-12-31\", \"2010-01-04\", \"2010-01-05\", \"2010-01-06\", \"2010-01-07\", \"2010-01-08\", \"2010-01-11\", \"2010-01-12\", \"2010-01-13\", \"2010-01-14\", \"2010-01-15\", \"2010-01-19\", \"2010-01-20\", \"2010-01-21\", \"2010-01-22\", \"2010-01-25\", \"2010-01-26\", \"2010-01-27\", \"2010-01-28\", \"2010-01-29\", \"2010-02-01\", \"2010-02-02\", \"2010-02-03\", \"2010-02-04\", \"2010-02-05\", \"2010-02-08\", \"2010-02-09\", \"2010-02-10\", \"2010-02-11\", \"2010-02-12\", \"2010-02-16\", \"2010-02-17\", \"2010-02-18\", \"2010-02-19\", \"2010-02-22\", \"2010-02-23\", \"2010-02-24\", \"2010-02-25\", \"2010-02-26\", \"2010-03-01\", \"2010-03-02\", \"2010-03-03\", \"2010-03-04\", \"2010-03-05\", \"2010-03-08\", \"2010-03-09\", \"2010-03-10\", \"2010-03-11\", \"2010-03-12\", \"2010-03-15\", \"2010-03-16\", \"2010-03-17\", \"2010-03-18\", \"2010-03-19\", \"2010-03-22\", \"2010-03-23\", \"2010-03-24\", \"2010-03-25\", \"2010-03-26\", \"2010-03-29\", \"2010-03-30\", \"2010-03-31\", \"2010-04-01\", \"2010-04-05\", \"2010-04-06\", \"2010-04-07\", \"2010-04-08\", \"2010-04-09\", \"2010-04-12\", \"2010-04-13\", \"2010-04-14\", \"2010-04-15\", \"2010-04-16\", \"2010-04-19\", \"2010-04-20\", \"2010-04-21\", \"2010-04-22\", \"2010-04-23\", \"2010-04-26\", \"2010-04-27\", \"2010-04-28\", \"2010-04-29\", \"2010-04-30\", \"2010-05-03\", \"2010-05-04\", \"2010-05-05\", \"2010-05-06\", \"2010-05-07\", \"2010-05-10\", \"2010-05-11\", \"2010-05-12\", \"2010-05-13\", \"2010-05-14\", \"2010-05-17\", \"2010-05-18\", \"2010-05-19\", \"2010-05-20\", \"2010-05-21\", \"2010-05-24\", \"2010-05-25\", \"2010-05-26\", \"2010-05-27\", \"2010-05-28\", \"2010-06-01\", \"2010-06-02\", \"2010-06-03\", \"2010-06-04\", \"2010-06-07\", \"2010-06-08\", \"2010-06-09\", \"2010-06-10\", \"2010-06-11\", \"2010-06-14\", \"2010-06-15\", \"2010-06-16\", \"2010-06-17\", \"2010-06-18\", \"2010-06-21\", \"2010-06-22\", \"2010-06-23\", \"2010-06-24\", \"2010-06-25\", \"2010-06-28\", \"2010-06-29\", \"2010-06-30\", \"2010-07-01\", \"2010-07-02\", \"2010-07-06\", \"2010-07-07\", \"2010-07-08\", \"2010-07-09\", \"2010-07-12\", \"2010-07-13\", \"2010-07-14\", \"2010-07-15\", \"2010-07-16\", \"2010-07-19\", \"2010-07-20\", \"2010-07-21\", \"2010-07-22\", \"2010-07-23\", \"2010-07-26\", \"2010-07-27\", \"2010-07-28\", \"2010-07-29\", \"2010-07-30\", \"2010-08-02\", \"2010-08-03\", \"2010-08-04\", \"2010-08-05\", \"2010-08-06\", \"2010-08-09\", \"2010-08-10\", \"2010-08-11\", \"2010-08-12\", \"2010-08-13\", \"2010-08-16\", \"2010-08-17\", \"2010-08-18\", \"2010-08-19\", \"2010-08-20\", \"2010-08-23\", \"2010-08-24\", \"2010-08-25\", \"2010-08-26\", \"2010-08-27\", \"2010-08-30\", \"2010-08-31\", \"2010-09-01\", \"2010-09-02\", \"2010-09-03\", \"2010-09-07\", \"2010-09-08\", \"2010-09-09\", \"2010-09-10\", \"2010-09-13\", \"2010-09-14\", \"2010-09-15\", \"2010-09-16\", \"2010-09-17\", \"2010-09-20\", \"2010-09-21\", \"2010-09-22\", \"2010-09-23\", \"2010-09-24\", \"2010-09-27\", \"2010-09-28\", \"2010-09-29\", \"2010-09-30\", \"2010-10-01\", \"2010-10-04\", \"2010-10-05\", \"2010-10-06\", \"2010-10-07\", \"2010-10-08\", \"2010-10-11\", \"2010-10-12\", \"2010-10-13\", \"2010-10-14\", \"2010-10-15\", \"2010-10-18\", \"2010-10-19\", \"2010-10-20\", \"2010-10-21\", \"2010-10-22\", \"2010-10-25\", \"2010-10-26\", \"2010-10-27\", \"2010-10-28\", \"2010-10-29\", \"2010-11-01\", \"2010-11-02\", \"2010-11-03\", \"2010-11-04\", \"2010-11-05\", \"2010-11-08\", \"2010-11-09\", \"2010-11-10\", \"2010-11-11\", \"2010-11-12\", \"2010-11-15\", \"2010-11-16\", \"2010-11-17\", \"2010-11-18\", \"2010-11-19\", \"2010-11-22\", \"2010-11-23\", \"2010-11-24\", \"2010-11-26\", \"2010-11-29\", \"2010-11-30\", \"2010-12-01\", \"2010-12-02\", \"2010-12-03\", \"2010-12-06\", \"2010-12-07\", \"2010-12-08\", \"2010-12-09\", \"2010-12-10\", \"2010-12-13\", \"2010-12-14\", \"2010-12-15\", \"2010-12-16\", \"2010-12-17\", \"2010-12-20\", \"2010-12-21\", \"2010-12-22\", \"2010-12-23\", \"2010-12-27\", \"2010-12-28\", \"2010-12-29\", \"2010-12-30\", \"2010-12-31\", \"2011-01-03\", \"2011-01-04\", \"2011-01-05\", \"2011-01-06\", \"2011-01-07\", \"2011-01-10\", \"2011-01-11\", \"2011-01-12\", \"2011-01-13\", \"2011-01-14\", \"2011-01-18\", \"2011-01-19\", \"2011-01-20\", \"2011-01-21\", \"2011-01-24\", \"2011-01-25\", \"2011-01-26\", \"2011-01-27\", \"2011-01-28\", \"2011-01-31\", \"2011-02-01\", \"2011-02-02\", \"2011-02-03\", \"2011-02-04\", \"2011-02-07\", \"2011-02-08\", \"2011-02-09\", \"2011-02-10\", \"2011-02-11\", \"2011-02-14\", \"2011-02-15\", \"2011-02-16\", \"2011-02-17\", \"2011-02-18\", \"2011-02-22\", \"2011-02-23\", \"2011-02-24\", \"2011-02-25\", \"2011-02-28\", \"2011-03-01\", \"2011-03-02\", \"2011-03-03\", \"2011-03-04\", \"2011-03-07\", \"2011-03-08\", \"2011-03-09\", \"2011-03-10\", \"2011-03-11\", \"2011-03-14\", \"2011-03-15\", \"2011-03-16\", \"2011-03-17\", \"2011-03-18\", \"2011-03-21\", \"2011-03-22\", \"2011-03-23\", \"2011-03-24\", \"2011-03-25\", \"2011-03-28\", \"2011-03-29\", \"2011-03-30\", \"2011-03-31\", \"2011-04-01\", \"2011-04-04\", \"2011-04-05\", \"2011-04-06\", \"2011-04-07\", \"2011-04-08\", \"2011-04-11\", \"2011-04-12\", \"2011-04-13\", \"2011-04-14\", \"2011-04-15\", \"2011-04-18\", \"2011-04-19\", \"2011-04-20\", \"2011-04-21\", \"2011-04-25\", \"2011-04-26\", \"2011-04-27\", \"2011-04-28\", \"2011-04-29\", \"2011-05-02\", \"2011-05-03\", \"2011-05-04\", \"2011-05-05\", \"2011-05-06\", \"2011-05-09\", \"2011-05-10\", \"2011-05-11\", \"2011-05-12\", \"2011-05-13\", \"2011-05-16\", \"2011-05-17\", \"2011-05-18\", \"2011-05-19\", \"2011-05-20\", \"2011-05-23\", \"2011-05-24\", \"2011-05-25\", \"2011-05-26\", \"2011-05-27\", \"2011-05-31\", \"2011-06-01\", \"2011-06-02\", \"2011-06-03\", \"2011-06-06\", \"2011-06-07\", \"2011-06-08\", \"2011-06-09\", \"2011-06-10\", \"2011-06-13\", \"2011-06-14\", \"2011-06-15\", \"2011-06-16\", \"2011-06-17\", \"2011-06-20\", \"2011-06-21\", \"2011-06-22\", \"2011-06-23\", \"2011-06-24\", \"2011-06-27\", \"2011-06-28\", \"2011-06-29\", \"2011-06-30\", \"2011-07-01\", \"2011-07-05\", \"2011-07-06\", \"2011-07-07\", \"2011-07-08\", \"2011-07-11\", \"2011-07-12\", \"2011-07-13\", \"2011-07-14\", \"2011-07-15\", \"2011-07-18\", \"2011-07-19\", \"2011-07-20\", \"2011-07-21\", \"2011-07-22\", \"2011-07-25\", \"2011-07-26\", \"2011-07-27\", \"2011-07-28\", \"2011-07-29\", \"2011-08-01\", \"2011-08-02\", \"2011-08-03\", \"2011-08-04\", \"2011-08-05\", \"2011-08-08\", \"2011-08-09\", \"2011-08-10\", \"2011-08-11\", \"2011-08-12\", \"2011-08-15\", \"2011-08-16\", \"2011-08-17\", \"2011-08-18\", \"2011-08-19\", \"2011-08-22\", \"2011-08-23\", \"2011-08-24\", \"2011-08-25\", \"2011-08-26\", \"2011-08-29\", \"2011-08-30\", \"2011-08-31\", \"2011-09-01\", \"2011-09-02\", \"2011-09-06\", \"2011-09-07\", \"2011-09-08\", \"2011-09-09\", \"2011-09-12\", \"2011-09-13\", \"2011-09-14\", \"2011-09-15\", \"2011-09-16\", \"2011-09-19\", \"2011-09-20\", \"2011-09-21\", \"2011-09-22\", \"2011-09-23\", \"2011-09-26\", \"2011-09-27\", \"2011-09-28\", \"2011-09-29\", \"2011-09-30\", \"2011-10-03\", \"2011-10-04\", \"2011-10-05\", \"2011-10-06\", \"2011-10-07\", \"2011-10-10\", \"2011-10-11\", \"2011-10-12\", \"2011-10-13\", \"2011-10-14\", \"2011-10-17\", \"2011-10-18\", \"2011-10-19\", \"2011-10-20\", \"2011-10-21\", \"2011-10-24\", \"2011-10-25\", \"2011-10-26\", \"2011-10-27\", \"2011-10-28\", \"2011-10-31\", \"2011-11-01\", \"2011-11-02\", \"2011-11-03\", \"2011-11-04\", \"2011-11-07\", \"2011-11-08\", \"2011-11-09\", \"2011-11-10\", \"2011-11-11\", \"2011-11-14\", \"2011-11-15\", \"2011-11-16\", \"2011-11-17\", \"2011-11-18\", \"2011-11-21\", \"2011-11-22\", \"2011-11-23\", \"2011-11-25\", \"2011-11-28\", \"2011-11-29\", \"2011-11-30\", \"2011-12-01\", \"2011-12-02\", \"2011-12-05\", \"2011-12-06\", \"2011-12-07\", \"2011-12-08\", \"2011-12-09\", \"2011-12-12\", \"2011-12-13\", \"2011-12-14\", \"2011-12-15\", \"2011-12-16\", \"2011-12-19\", \"2011-12-20\", \"2011-12-21\", \"2011-12-22\", \"2011-12-23\", \"2011-12-27\", \"2011-12-28\", \"2011-12-29\", \"2011-12-30\", \"2012-01-03\", \"2012-01-04\", \"2012-01-05\", \"2012-01-06\", \"2012-01-09\", \"2012-01-10\", \"2012-01-11\", \"2012-01-12\", \"2012-01-13\", \"2012-01-17\", \"2012-01-18\", \"2012-01-19\", \"2012-01-20\", \"2012-01-23\", \"2012-01-24\", \"2012-01-25\", \"2012-01-26\", \"2012-01-27\", \"2012-01-30\", \"2012-01-31\", \"2012-02-01\", \"2012-02-02\", \"2012-02-03\", \"2012-02-06\", \"2012-02-07\", \"2012-02-08\", \"2012-02-09\", \"2012-02-10\", \"2012-02-13\", \"2012-02-14\", \"2012-02-15\", \"2012-02-16\", \"2012-02-17\", \"2012-02-21\", \"2012-02-22\", \"2012-02-23\", \"2012-02-24\", \"2012-02-27\", \"2012-02-28\", \"2012-02-29\", \"2012-03-01\", \"2012-03-02\", \"2012-03-05\", \"2012-03-06\", \"2012-03-07\", \"2012-03-08\", \"2012-03-09\", \"2012-03-12\", \"2012-03-13\", \"2012-03-14\", \"2012-03-15\", \"2012-03-16\", \"2012-03-19\", \"2012-03-20\", \"2012-03-21\", \"2012-03-22\", \"2012-03-23\", \"2012-03-26\", \"2012-03-27\", \"2012-03-28\", \"2012-03-29\", \"2012-03-30\", \"2012-04-02\", \"2012-04-03\", \"2012-04-04\", \"2012-04-05\", \"2012-04-09\", \"2012-04-10\", \"2012-04-11\", \"2012-04-12\", \"2012-04-13\", \"2012-04-16\", \"2012-04-17\", \"2012-04-18\", \"2012-04-19\", \"2012-04-20\", \"2012-04-23\", \"2012-04-24\", \"2012-04-25\", \"2012-04-26\", \"2012-04-27\", \"2012-04-30\", \"2012-05-01\", \"2012-05-02\", \"2012-05-03\", \"2012-05-04\", \"2012-05-07\", \"2012-05-08\", \"2012-05-09\", \"2012-05-10\", \"2012-05-11\", \"2012-05-14\", \"2012-05-15\", \"2012-05-16\", \"2012-05-17\", \"2012-05-18\", \"2012-05-21\", \"2012-05-22\", \"2012-05-23\", \"2012-05-24\", \"2012-05-25\", \"2012-05-29\", \"2012-05-30\", \"2012-05-31\", \"2012-06-01\", \"2012-06-04\", \"2012-06-05\", \"2012-06-06\", \"2012-06-07\", \"2012-06-08\", \"2012-06-11\", \"2012-06-12\", \"2012-06-13\", \"2012-06-14\", \"2012-06-15\", \"2012-06-18\", \"2012-06-19\", \"2012-06-20\", \"2012-06-21\", \"2012-06-22\", \"2012-06-25\", \"2012-06-26\", \"2012-06-27\", \"2012-06-28\", \"2012-06-29\", \"2012-07-02\", \"2012-07-03\", \"2012-07-05\", \"2012-07-06\", \"2012-07-09\", \"2012-07-10\", \"2012-07-11\", \"2012-07-12\", \"2012-07-13\", \"2012-07-16\", \"2012-07-17\", \"2012-07-18\", \"2012-07-19\", \"2012-07-20\", \"2012-07-23\", \"2012-07-24\", \"2012-07-25\", \"2012-07-26\", \"2012-07-27\", \"2012-07-30\", \"2012-07-31\", \"2012-08-01\", \"2012-08-02\", \"2012-08-03\", \"2012-08-06\", \"2012-08-07\", \"2012-08-08\", \"2012-08-09\", \"2012-08-10\", \"2012-08-13\", \"2012-08-14\", \"2012-08-15\", \"2012-08-16\", \"2012-08-17\", \"2012-08-20\", \"2012-08-21\", \"2012-08-22\", \"2012-08-23\", \"2012-08-24\", \"2012-08-27\", \"2012-08-28\", \"2012-08-29\", \"2012-08-30\", \"2012-08-31\", \"2012-09-04\", \"2012-09-05\", \"2012-09-06\", \"2012-09-07\", \"2012-09-10\", \"2012-09-11\", \"2012-09-12\", \"2012-09-13\", \"2012-09-14\", \"2012-09-17\", \"2012-09-18\", \"2012-09-19\", \"2012-09-20\", \"2012-09-21\", \"2012-09-24\", \"2012-09-25\", \"2012-09-26\", \"2012-09-27\", \"2012-09-28\", \"2012-10-01\", \"2012-10-02\", \"2012-10-03\", \"2012-10-04\", \"2012-10-05\", \"2012-10-08\", \"2012-10-09\", \"2012-10-10\", \"2012-10-11\", \"2012-10-12\", \"2012-10-15\", \"2012-10-16\", \"2012-10-17\", \"2012-10-18\", \"2012-10-19\", \"2012-10-22\", \"2012-10-23\", \"2012-10-24\", \"2012-10-25\", \"2012-10-26\", \"2012-10-31\", \"2012-11-01\", \"2012-11-02\", \"2012-11-05\", \"2012-11-06\", \"2012-11-07\", \"2012-11-08\", \"2012-11-09\", \"2012-11-12\", \"2012-11-13\", \"2012-11-14\", \"2012-11-15\", \"2012-11-16\", \"2012-11-19\", \"2012-11-20\", \"2012-11-21\", \"2012-11-23\", \"2012-11-26\", \"2012-11-27\", \"2012-11-28\", \"2012-11-29\", \"2012-11-30\", \"2012-12-03\", \"2012-12-04\", \"2012-12-05\", \"2012-12-06\", \"2012-12-07\", \"2012-12-10\", \"2012-12-11\", \"2012-12-12\", \"2012-12-13\", \"2012-12-14\", \"2012-12-17\", \"2012-12-18\", \"2012-12-19\", \"2012-12-20\", \"2012-12-21\", \"2012-12-24\", \"2012-12-26\", \"2012-12-27\", \"2012-12-28\", \"2012-12-31\", \"2013-01-02\", \"2013-01-03\", \"2013-01-04\", \"2013-01-07\", \"2013-01-08\", \"2013-01-09\", \"2013-01-10\", \"2013-01-11\", \"2013-01-14\", \"2013-01-15\", \"2013-01-16\", \"2013-01-17\", \"2013-01-18\", \"2013-01-22\", \"2013-01-23\", \"2013-01-24\", \"2013-01-25\", \"2013-01-28\", \"2013-01-29\", \"2013-01-30\", \"2013-01-31\", \"2013-02-01\", \"2013-02-04\", \"2013-02-05\", \"2013-02-06\", \"2013-02-07\", \"2013-02-08\", \"2013-02-11\", \"2013-02-12\", \"2013-02-13\", \"2013-02-14\", \"2013-02-15\", \"2013-02-19\", \"2013-02-20\", \"2013-02-21\", \"2013-02-22\", \"2013-02-25\", \"2013-02-26\", \"2013-02-27\", \"2013-02-28\", \"2013-03-01\", \"2013-03-04\", \"2013-03-05\", \"2013-03-06\", \"2013-03-07\", \"2013-03-08\", \"2013-03-11\", \"2013-03-12\", \"2013-03-13\", \"2013-03-14\", \"2013-03-15\", \"2013-03-18\", \"2013-03-19\", \"2013-03-20\", \"2013-03-21\", \"2013-03-22\", \"2013-03-25\", \"2013-03-26\", \"2013-03-27\", \"2013-03-28\", \"2013-04-01\", \"2013-04-02\", \"2013-04-03\", \"2013-04-04\", \"2013-04-05\", \"2013-04-08\", \"2013-04-09\", \"2013-04-10\", \"2013-04-11\", \"2013-04-12\", \"2013-04-15\", \"2013-04-16\", \"2013-04-17\", \"2013-04-18\", \"2013-04-19\", \"2013-04-22\", \"2013-04-23\", \"2013-04-24\", \"2013-04-25\", \"2013-04-26\", \"2013-04-29\", \"2013-04-30\", \"2013-05-01\", \"2013-05-02\", \"2013-05-03\", \"2013-05-06\", \"2013-05-07\", \"2013-05-08\", \"2013-05-09\", \"2013-05-10\", \"2013-05-13\", \"2013-05-14\", \"2013-05-15\", \"2013-05-16\", \"2013-05-17\", \"2013-05-20\", \"2013-05-21\", \"2013-05-22\", \"2013-05-23\", \"2013-05-24\", \"2013-05-28\", \"2013-05-29\", \"2013-05-30\", \"2013-05-31\", \"2013-06-03\", \"2013-06-04\", \"2013-06-05\", \"2013-06-06\", \"2013-06-07\", \"2013-06-10\", \"2013-06-11\", \"2013-06-12\", \"2013-06-13\", \"2013-06-14\", \"2013-06-17\", \"2013-06-18\", \"2013-06-19\", \"2013-06-20\", \"2013-06-21\", \"2013-06-24\", \"2013-06-25\", \"2013-06-26\", \"2013-06-27\", \"2013-06-28\", \"2013-07-01\", \"2013-07-02\", \"2013-07-03\", \"2013-07-05\", \"2013-07-08\", \"2013-07-09\", \"2013-07-10\", \"2013-07-11\", \"2013-07-12\", \"2013-07-15\", \"2013-07-16\", \"2013-07-17\", \"2013-07-18\", \"2013-07-19\", \"2013-07-22\", \"2013-07-23\", \"2013-07-24\", \"2013-07-25\", \"2013-07-26\", \"2013-07-29\", \"2013-07-30\", \"2013-07-31\", \"2013-08-01\", \"2013-08-02\", \"2013-08-05\", \"2013-08-06\", \"2013-08-07\", \"2013-08-08\", \"2013-08-09\", \"2013-08-12\", \"2013-08-13\", \"2013-08-14\", \"2013-08-15\", \"2013-08-16\", \"2013-08-19\", \"2013-08-20\", \"2013-08-21\", \"2013-08-22\", \"2013-08-23\", \"2013-08-26\", \"2013-08-27\", \"2013-08-28\", \"2013-08-29\", \"2013-08-30\", \"2013-09-03\", \"2013-09-04\", \"2013-09-05\", \"2013-09-06\", \"2013-09-09\", \"2013-09-10\", \"2013-09-11\", \"2013-09-12\", \"2013-09-13\", \"2013-09-16\", \"2013-09-17\", \"2013-09-18\", \"2013-09-19\", \"2013-09-20\", \"2013-09-23\", \"2013-09-24\", \"2013-09-25\", \"2013-09-26\", \"2013-09-27\", \"2013-09-30\", \"2013-10-01\", \"2013-10-02\", \"2013-10-03\", \"2013-10-04\", \"2013-10-07\", \"2013-10-08\", \"2013-10-09\", \"2013-10-10\", \"2013-10-11\", \"2013-10-14\", \"2013-10-15\", \"2013-10-16\", \"2013-10-17\", \"2013-10-18\", \"2013-10-21\", \"2013-10-22\", \"2013-10-23\", \"2013-10-24\", \"2013-10-25\", \"2013-10-28\", \"2013-10-29\", \"2013-10-30\", \"2013-10-31\", \"2013-11-01\", \"2013-11-04\", \"2013-11-05\", \"2013-11-06\", \"2013-11-07\", \"2013-11-08\", \"2013-11-11\", \"2013-11-12\", \"2013-11-13\", \"2013-11-14\", \"2013-11-15\", \"2013-11-18\", \"2013-11-19\", \"2013-11-20\", \"2013-11-21\", \"2013-11-22\", \"2013-11-25\", \"2013-11-26\", \"2013-11-27\", \"2013-11-29\", \"2013-12-02\", \"2013-12-03\", \"2013-12-04\", \"2013-12-05\", \"2013-12-06\", \"2013-12-09\", \"2013-12-10\", \"2013-12-11\", \"2013-12-12\", \"2013-12-13\", \"2013-12-16\", \"2013-12-17\", \"2013-12-18\", \"2013-12-19\", \"2013-12-20\", \"2013-12-23\", \"2013-12-24\", \"2013-12-26\", \"2013-12-27\", \"2013-12-30\", \"2013-12-31\", \"2014-01-02\", \"2014-01-03\", \"2014-01-06\", \"2014-01-07\", \"2014-01-08\", \"2014-01-09\", \"2014-01-10\", \"2014-01-13\", \"2014-01-14\", \"2014-01-15\", \"2014-01-16\", \"2014-01-17\", \"2014-01-21\", \"2014-01-22\", \"2014-01-23\", \"2014-01-24\", \"2014-01-27\", \"2014-01-28\", \"2014-01-29\", \"2014-01-30\", \"2014-01-31\", \"2014-02-03\", \"2014-02-04\", \"2014-02-05\", \"2014-02-06\", \"2014-02-07\", \"2014-02-10\", \"2014-02-11\", \"2014-02-12\", \"2014-02-13\", \"2014-02-14\", \"2014-02-18\", \"2014-02-19\", \"2014-02-20\", \"2014-02-21\", \"2014-02-24\", \"2014-02-25\", \"2014-02-26\", \"2014-02-27\", \"2014-02-28\", \"2014-03-03\", \"2014-03-04\", \"2014-03-05\", \"2014-03-06\", \"2014-03-07\", \"2014-03-10\", \"2014-03-11\", \"2014-03-12\", \"2014-03-13\", \"2014-03-14\", \"2014-03-17\", \"2014-03-18\", \"2014-03-19\", \"2014-03-20\", \"2014-03-21\", \"2014-03-24\", \"2014-03-25\", \"2014-03-26\", \"2014-03-27\", \"2014-03-28\", \"2014-03-31\", \"2014-04-01\", \"2014-04-02\", \"2014-04-03\", \"2014-04-04\", \"2014-04-07\", \"2014-04-08\", \"2014-04-09\", \"2014-04-10\", \"2014-04-11\", \"2014-04-14\", \"2014-04-15\", \"2014-04-16\", \"2014-04-17\", \"2014-04-21\", \"2014-04-22\", \"2014-04-23\", \"2014-04-24\", \"2014-04-25\", \"2014-04-28\", \"2014-04-29\", \"2014-04-30\", \"2014-05-01\", \"2014-05-02\", \"2014-05-05\", \"2014-05-06\", \"2014-05-07\", \"2014-05-08\", \"2014-05-09\", \"2014-05-12\", \"2014-05-13\", \"2014-05-14\", \"2014-05-15\", \"2014-05-16\", \"2014-05-19\", \"2014-05-20\", \"2014-05-21\", \"2014-05-22\", \"2014-05-23\", \"2014-05-27\", \"2014-05-28\", \"2014-05-29\", \"2014-05-30\", \"2014-06-02\", \"2014-06-03\", \"2014-06-04\", \"2014-06-05\", \"2014-06-06\", \"2014-06-09\", \"2014-06-10\", \"2014-06-11\", \"2014-06-12\", \"2014-06-13\", \"2014-06-16\", \"2014-06-17\", \"2014-06-18\", \"2014-06-19\", \"2014-06-20\", \"2014-06-23\", \"2014-06-24\", \"2014-06-25\", \"2014-06-26\", \"2014-06-27\", \"2014-06-30\", \"2014-07-01\", \"2014-07-02\", \"2014-07-03\", \"2014-07-07\", \"2014-07-08\", \"2014-07-09\", \"2014-07-10\", \"2014-07-11\", \"2014-07-14\", \"2014-07-15\", \"2014-07-16\", \"2014-07-17\", \"2014-07-18\", \"2014-07-21\", \"2014-07-22\", \"2014-07-23\", \"2014-07-24\", \"2014-07-25\", \"2014-07-28\", \"2014-07-29\", \"2014-07-30\", \"2014-07-31\", \"2014-08-01\", \"2014-08-04\", \"2014-08-05\", \"2014-08-06\", \"2014-08-07\", \"2014-08-08\", \"2014-08-11\", \"2014-08-12\", \"2014-08-13\", \"2014-08-14\", \"2014-08-15\", \"2014-08-18\", \"2014-08-19\", \"2014-08-20\", \"2014-08-21\", \"2014-08-22\", \"2014-08-25\", \"2014-08-26\", \"2014-08-27\", \"2014-08-28\", \"2014-08-29\", \"2014-09-02\", \"2014-09-03\", \"2014-09-04\", \"2014-09-05\", \"2014-09-08\", \"2014-09-09\", \"2014-09-10\", \"2014-09-11\", \"2014-09-12\", \"2014-09-15\", \"2014-09-16\", \"2014-09-17\", \"2014-09-18\", \"2014-09-19\", \"2014-09-22\", \"2014-09-23\", \"2014-09-24\", \"2014-09-25\", \"2014-09-26\", \"2014-09-29\", \"2014-09-30\", \"2014-10-01\", \"2014-10-02\", \"2014-10-03\", \"2014-10-06\", \"2014-10-07\", \"2014-10-08\", \"2014-10-09\", \"2014-10-10\", \"2014-10-13\", \"2014-10-14\", \"2014-10-15\", \"2014-10-16\", \"2014-10-17\", \"2014-10-20\", \"2014-10-21\", \"2014-10-22\", \"2014-10-23\", \"2014-10-24\", \"2014-10-27\", \"2014-10-28\", \"2014-10-29\", \"2014-10-30\", \"2014-10-31\", \"2014-11-03\", \"2014-11-04\", \"2014-11-05\", \"2014-11-06\", \"2014-11-07\", \"2014-11-10\", \"2014-11-11\", \"2014-11-12\", \"2014-11-13\", \"2014-11-14\", \"2014-11-17\", \"2014-11-18\", \"2014-11-19\", \"2014-11-20\", \"2014-11-21\", \"2014-11-24\", \"2014-11-25\", \"2014-11-26\", \"2014-11-28\", \"2014-12-01\", \"2014-12-02\", \"2014-12-03\", \"2014-12-04\", \"2014-12-05\", \"2014-12-08\", \"2014-12-09\", \"2014-12-10\", \"2014-12-11\", \"2014-12-12\", \"2014-12-15\", \"2014-12-16\", \"2014-12-17\", \"2014-12-18\", \"2014-12-19\", \"2014-12-22\", \"2014-12-23\", \"2014-12-24\", \"2014-12-26\", \"2014-12-29\", \"2014-12-30\", \"2014-12-31\", \"2015-01-02\", \"2015-01-05\", \"2015-01-06\", \"2015-01-07\", \"2015-01-08\", \"2015-01-09\", \"2015-01-12\", \"2015-01-13\", \"2015-01-14\", \"2015-01-15\", \"2015-01-16\", \"2015-01-20\", \"2015-01-21\", \"2015-01-22\", \"2015-01-23\", \"2015-01-26\", \"2015-01-27\", \"2015-01-28\", \"2015-01-29\", \"2015-01-30\", \"2015-02-02\", \"2015-02-03\", \"2015-02-04\", \"2015-02-05\", \"2015-02-06\", \"2015-02-09\", \"2015-02-10\", \"2015-02-11\", \"2015-02-12\", \"2015-02-13\", \"2015-02-17\", \"2015-02-18\", \"2015-02-19\", \"2015-02-20\", \"2015-02-23\", \"2015-02-24\", \"2015-02-25\", \"2015-02-26\", \"2015-02-27\", \"2015-03-02\", \"2015-03-03\", \"2015-03-04\", \"2015-03-05\", \"2015-03-06\", \"2015-03-09\", \"2015-03-10\", \"2015-03-11\", \"2015-03-12\", \"2015-03-13\", \"2015-03-16\", \"2015-03-17\", \"2015-03-18\", \"2015-03-19\", \"2015-03-20\", \"2015-03-23\", \"2015-03-24\", \"2015-03-25\", \"2015-03-26\", \"2015-03-27\", \"2015-03-30\", \"2015-03-31\", \"2015-04-01\", \"2015-04-02\", \"2015-04-06\", \"2015-04-07\", \"2015-04-08\", \"2015-04-09\", \"2015-04-10\", \"2015-04-13\", \"2015-04-14\", \"2015-04-15\", \"2015-04-16\", \"2015-04-17\", \"2015-04-20\", \"2015-04-21\", \"2015-04-22\", \"2015-04-23\", \"2015-04-24\", \"2015-04-27\", \"2015-04-28\", \"2015-04-29\", \"2015-04-30\", \"2015-05-01\", \"2015-05-04\", \"2015-05-05\", \"2015-05-06\", \"2015-05-07\", \"2015-05-08\", \"2015-05-11\", \"2015-05-12\", \"2015-05-13\", \"2015-05-14\", \"2015-05-15\", \"2015-05-18\", \"2015-05-19\", \"2015-05-20\", \"2015-05-21\", \"2015-05-22\", \"2015-05-26\", \"2015-05-27\", \"2015-05-28\", \"2015-05-29\", \"2015-06-01\", \"2015-06-02\", \"2015-06-03\", \"2015-06-04\", \"2015-06-05\", \"2015-06-08\", \"2015-06-09\", \"2015-06-10\", \"2015-06-11\", \"2015-06-12\", \"2015-06-15\", \"2015-06-16\", \"2015-06-17\", \"2015-06-18\", \"2015-06-19\", \"2015-06-22\", \"2015-06-23\", \"2015-06-24\", \"2015-06-25\", \"2015-06-26\", \"2015-06-29\", \"2015-06-30\", \"2015-07-01\", \"2015-07-02\", \"2015-07-06\", \"2015-07-07\", \"2015-07-08\", \"2015-07-09\", \"2015-07-10\", \"2015-07-13\", \"2015-07-14\", \"2015-07-15\", \"2015-07-16\", \"2015-07-17\", \"2015-07-20\", \"2015-07-21\", \"2015-07-22\", \"2015-07-23\", \"2015-07-24\", \"2015-07-27\", \"2015-07-28\", \"2015-07-29\", \"2015-07-30\", \"2015-07-31\", \"2015-08-03\", \"2015-08-04\", \"2015-08-05\", \"2015-08-06\", \"2015-08-07\", \"2015-08-10\", \"2015-08-11\", \"2015-08-12\", \"2015-08-13\", \"2015-08-14\", \"2015-08-17\", \"2015-08-18\", \"2015-08-19\", \"2015-08-20\", \"2015-08-21\", \"2015-08-24\", \"2015-08-25\", \"2015-08-26\", \"2015-08-27\", \"2015-08-28\", \"2015-08-31\", \"2015-09-01\", \"2015-09-02\", \"2015-09-03\", \"2015-09-04\", \"2015-09-08\", \"2015-09-09\", \"2015-09-10\", \"2015-09-11\", \"2015-09-14\", \"2015-09-15\", \"2015-09-16\", \"2015-09-17\", \"2015-09-18\", \"2015-09-21\", \"2015-09-22\", \"2015-09-23\", \"2015-09-24\", \"2015-09-25\", \"2015-09-28\", \"2015-09-29\", \"2015-09-30\", \"2015-10-01\", \"2015-10-02\", \"2015-10-05\", \"2015-10-06\", \"2015-10-07\", \"2015-10-08\", \"2015-10-09\", \"2015-10-12\", \"2015-10-13\", \"2015-10-14\", \"2015-10-15\", \"2015-10-16\", \"2015-10-19\", \"2015-10-20\", \"2015-10-21\", \"2015-10-22\", \"2015-10-23\", \"2015-10-26\", \"2015-10-27\", \"2015-10-28\", \"2015-10-29\", \"2015-10-30\", \"2015-11-02\", \"2015-11-03\", \"2015-11-04\", \"2015-11-05\", \"2015-11-06\", \"2015-11-09\", \"2015-11-10\", \"2015-11-11\", \"2015-11-12\", \"2015-11-13\", \"2015-11-16\", \"2015-11-17\", \"2015-11-18\", \"2015-11-19\", \"2015-11-20\", \"2015-11-23\", \"2015-11-24\", \"2015-11-25\", \"2015-11-27\", \"2015-11-30\", \"2015-12-01\", \"2015-12-02\", \"2015-12-03\", \"2015-12-04\", \"2015-12-07\", \"2015-12-08\", \"2015-12-09\", \"2015-12-10\", \"2015-12-11\", \"2015-12-14\", \"2015-12-15\", \"2015-12-16\", \"2015-12-17\", \"2015-12-18\", \"2015-12-21\", \"2015-12-22\", \"2015-12-23\", \"2015-12-24\", \"2015-12-28\", \"2015-12-29\", \"2015-12-30\", \"2015-12-31\"], \"y\": [47.08, 46.58, 46.64, 46.57, 46.6, 46.21, 46.1, 45.8, 45.8, 45.31, 45.18, 45.14, 44.19, 43.96, 44.24, 44.63, 44.9, 44.8, 44.48, 44.23, 43.95, 43.44, 43.09, 43.37, 43.49, 43.67, 43.83, 43.92, 43.7, 44.16, 44.36, 44.69, 44.66, 44.55, 45.08, 45.37, 45.72, 45.98, 45.85, 45.6, 45.15, 45.19, 45.21, 45.62, 45.71, 45.55, 45.95, 45.94, 46.26, 46.4, 46.76, 46.9, 46.9, 46.57, 46.99, 46.7, 46.9, 46.82, 46.06, 45.97, 45.61, 45.54, 45.68, 46.29, 46.55, 46.2, 45.74, 45.68, 45.56, 45.72, 45.73, 45.48, 45.96, 46.05, 46.28, 46.87, 47.07, 47.09, 47.71, 49.04, 49.92, 49.18, 49.46, 49.3, 49.94, 50.47, 50.11, 50.19, 50.17, 49.69, 49.2, 49.55, 49.64, 48.56, 48.12, 48.27, 48.26, 48.23, 48.48, 48.91, 49.38, 48.7, 48.4, 48.7, 49.26, 48.74, 48.53, 48.85, 49.03, 48.79, 48.41, 47.07, 46.64, 47.91, 47.42, 47.14, 47.08, 47.31, 47.54, 47.41, 47.46, 47.3, 47.65, 48.6, 48.1, 48.81, 48.87, 49.06, 48.8, 49.14, 49.15, 48.57, 47.98, 48.31, 48.22, 48.44, 49.95, 49.65, 50.14, 50.57, 50.81, 50.99, 51.02, 51.66, 51.53, 51.53, 51.96, 51.97, 52.32, 52.16, 52.06, 51.54, 51.52, 51.4, 51.13, 52.15, 52.3, 52.14, 52.49, 52.46, 52.5, 52.49, 52.51, 52.13, 52.19, 52.29, 51.7, 51.47, 51.66, 51.75, 51.65, 51.51, 51.66, 51.18, 51.7, 51.9, 51.93, 51.45, 51.78, 52.03, 52.49, 52.24, 52.43, 52.97, 53.48, 53.24, 53.52, 53.57, 53.62, 54.41, 54.82, 54.52, 54.24, 54.51, 54.63, 54.04, 54.26, 54.39, 53.71, 53.68, 53.81, 53.26, 53.62, 53.66, 53.43, 54.0, 54.18, 53.7, 53.92, 53.87, 53.58, 53.55, 53.43, 54.21, 54.42, 54.61, 54.51, 54.77, 54.46, 54.83, 54.48, 54.9, 54.85, 54.9, 54.72, 54.63, 54.56, 53.92, 54.27, 54.02, 53.85, 53.5, 52.65, 52.79, 52.69, 52.49, 51.66, 52.55, 52.8, 53.09, 53.17, 53.32, 53.63, 53.58, 53.66, 53.51, 53.35, 53.7, 53.77, 53.65, 53.39, 53.33, 53.67, 53.24, 53.45, 53.5, 53.58, 53.26, 53.38, 53.44, 53.32, 53.29, 53.59, 53.65, 53.32, 53.2, 52.4, 52.04, 51.46, 52.12, 52.58, 52.84, 52.74, 52.88, 53.21, 53.36, 53.32, 52.99, 53.04, 53.73, 54.05, 53.85, 54.05, 54.05, 53.91, 53.7, 52.86, 52.79, 50.8, 50.83, 50.38, 50.01, 49.64, 50.94, 50.59, 50.77, 50.95, 51.09, 49.46, 49.77, 50.1, 49.62, 50.37, 50.76, 51.86, 51.64, 51.69, 51.56, 51.84, 50.77, 51.19, 51.02, 50.43, 50.86, 50.89, 50.85, 50.86, 51.07, 50.51, 50.28, 50.42, 51.23, 51.3, 51.82, 50.91, 51.04, 50.51, 50.62, 51.23, 50.72, 50.77, 50.9, 50.93, 51.01, 51.23, 51.24, 51.42, 51.4, 51.45, 50.58, 50.95, 50.78, 50.94, 51.12, 51.13, 51.28, 51.23, 51.5, 51.35, 51.05, 51.2, 51.19, 50.81, 50.71, 50.78, 50.85, 50.66, 50.33, 49.79, 50.26, 50.05, 49.66, 50.36, 50.08, 50.08, 49.91, 50.55, 49.98, 49.89, 48.95, 48.85, 48.8, 49.19, 49.09, 48.89, 49.32, 49.55, 49.37, 49.15, 48.81, 48.36, 48.51, 49.53, 49.5, 49.62, 49.8, 49.36, 49.27, 48.31, 48.15, 47.15, 47.93, 47.23, 47.41, 47.7, 47.42, 47.63, 47.78, 47.0, 48.16, 48.67, 49.7, 48.35, 48.59, 48.5, 47.86, 48.23, 49.85, 51.76, 51.35, 51.3, 51.65, 51.83, 51.87, 50.87, 49.66, 50.55, 50.21, 50.68, 51.08, 49.95, 49.79, 49.02, 48.96, 49.45, 49.39, 49.86, 49.95, 49.51, 51.21, 51.07, 50.79, 51.24, 50.59, 50.22, 50.41, 50.6, 50.27, 50.64, 51.72, 51.93, 52.4, 52.71, 52.43, 52.57, 52.3, 52.42, 52.07, 51.42, 50.2, 50.03, 48.85, 47.57, 47.78, 47.78, 47.48, 47.0, 48.03, 47.98, 47.99, 48.28, 45.71, 45.11, 44.45, 45.56, 43.31, 43.5, 43.98, 43.98, 46.27, 45.73, 44.08, 44.37, 42.82, 42.77, 42.14, 43.15, 41.88, 42.94, 44.85, 44.63, 46.13, 45.47, 44.71, 45.23, 45.96, 45.37, 46.64, 44.65, 43.43, 43.05, 42.16, 41.7, 41.5, 41.59, 41.41, 41.92, 42.28, 42.3, 41.46, 41.1, 41.26, 40.56, 40.3, 39.85, 39.9, 38.41, 38.74, 39.3, 38.5, 39.22, 37.88, 38.69, 36.91, 35.97, 37.39, 40.57, 39.9, 39.48, 41.2, 41.94, 42.21, 44.15, 45.03, 44.03, 42.37, 42.33, 43.37, 42.16, 42.14, 42.82, 43.33, 42.24, 42.7, 42.67, 42.97, 42.21, 42.6, 42.94, 42.72, 42.88, 41.42, 39.74, 39.18, 38.78, 37.55, 36.52, 36.74, 35.31, 37.72, 37.03, 37.14, 35.69, 35.96, 38.93, 38.56, 41.86, 42.45, 40.97, 39.84, 38.64, 38.07, 37.91, 40.86, 40.3, 40.37, 39.41, 39.5, 38.38, 37.93, 37.69, 36.94, 35.58, 35.58, 36.98, 37.47, 38.56, 37.61, 37.0, 36.86, 37.87, 38.3, 38.18, 37.86, 37.54, 39.39, 39.79, 38.97, 39.24, 38.0, 37.33, 36.65, 37.44, 36.61, 36.8, 36.71, 36.17, 36.1, 35.39, 34.63, 34.73, 33.93, 34.17, 33.87, 34.6, 34.01, 33.58, 33.31, 31.99, 31.99, 30.5, 29.61, 29.62, 28.85, 29.44, 29.78, 30.32, 29.24, 28.37, 28.14, 27.1, 25.88, 26.62, 26.61, 24.81, 24.59, 23.87, 23.81, 22.54, 22.4, 21.53, 23.54, 22.06, 22.36, 21.67, 20.15, 18.52, 22.67, 26.5, 27.49, 28.56, 32.35, 33.44, 30.64, 29.58, 28.06, 32.22, 33.61, 32.9, 33.33, 32.62, 33.58, 33.45, 31.52, 32.25, 33.38, 31.13, 28.86, 30.18, 30.7, 29.3, 28.08, 29.29, 29.04, 30.21, 28.96, 29.02, 29.65, 31.43, 31.14, 32.63, 32.96, 30.6, 32.23, 34.73, 32.52, 32.4, 33.06, 33.74, 26.55, 29.55, 27.2, 30.58, 37.48, 34.15, 33.3, 33.07, 34.37, 36.7, 30.25, 35.0, 38.13, 36.37, 34.48, 32.22, 23.77, 22.1, 19.63, 20.87, 22.79, 26.53, 23.82, 24.25, 23.24, 24.4, 23.97, 22.66, 23.0, 21.07, 20.53, 23.02, 22.32, 22.78, 24.17, 23.61, 24.53, 21.75, 20.12, 20.49, 19.48, 18.69, 17.0, 17.1, 16.42, 15.03, 15.19, 13.06, 11.25, 11.47, 14.59, 14.8, 15.43, 16.25, 12.85, 14.37, 15.05, 14.34, 15.24, 17.84, 16.95, 16.69, 14.91, 14.93, 14.11, 15.1, 14.62, 13.96, 13.8, 13.53, 12.75, 13.53, 13.36, 12.94, 13.24, 14.08, 14.33, 13.98, 14.28, 13.71, 13.54, 12.99, 11.43, 10.65, 10.2, 8.32, 7.18, 5.1, 6.68, 5.71, 6.24, 6.0, 6.5, 7.39, 6.78, 6.58, 6.0, 5.3, 4.7, 4.84, 6.13, 6.89, 5.56, 6.07, 5.87, 5.57, 4.9, 4.57, 3.93, 3.79, 3.91, 4.73, 5.16, 5.32, 3.95, 3.63, 3.65, 3.59, 3.17, 3.14, 3.75, 4.79, 4.93, 5.85, 5.76, 6.18, 6.27, 7.67, 6.93, 6.19, 7.8, 7.22, 7.7, 7.58, 7.34, 6.03, 6.82, 7.05, 7.24, 7.6, 7.48, 7.36, 7.06, 9.55, 11.02, 10.09, 10.44, 10.34, 10.6, 8.02, 8.76, 8.26, 8.82, 9.1, 8.92, 8.15, 8.68, 8.93, 8.7, 10.38, 10.84, 12.69, 13.51, 14.17, 12.94, 12.26, 11.01, 11.31, 10.67, 11.73, 11.25, 11.49, 11.41, 11.07, 10.98, 10.91, 11.3, 11.27, 11.21, 11.41, 11.21, 11.87, 11.86, 12.06, 12.06, 11.98, 12.97, 13.72, 13.33, 12.73, 12.3, 12.9, 13.22, 11.94, 12.23, 12.35, 12.35, 12.75, 13.19, 13.2, 13.05, 12.64, 12.15, 12.15, 11.84, 11.97, 11.88, 12.99, 12.91, 13.42, 13.17, 12.89, 12.24, 12.19, 12.23, 12.69, 12.51, 13.09, 13.34, 13.52, 13.97, 14.79, 15.32, 15.64, 16.66, 16.7, 16.42, 16.68, 15.85, 15.93, 17.0, 17.39, 16.56, 16.9, 16.75, 17.14, 17.46, 17.35, 17.75, 17.79, 17.92, 17.98, 17.59, 16.46, 16.27, 16.84, 17.09, 17.02, 17.04, 17.22, 16.97, 16.99, 16.79, 17.25, 17.61, 17.63, 17.25, 17.61, 17.5, 16.98, 16.6, 17.22, 17.16, 16.92, 16.21, 16.34, 16.96, 17.0, 17.35, 17.33, 17.5, 18.03, 17.81, 18.59, 18.1, 17.26, 17.16, 17.01, 16.51, 16.52, 16.22, 15.4, 15.45, 15.01, 15.73, 14.58, 14.63, 14.8, 14.7, 15.13, 15.05, 15.77, 16.03, 16.43, 16.06, 15.98, 15.87, 15.77, 16.35, 16.08, 16.09, 16.29, 16.1, 15.95, 15.47, 15.85, 15.9, 15.65, 15.76, 16.28, 15.89, 15.41, 15.39, 15.21, 15.63, 15.63, 15.19, 15.28, 14.86, 15.03, 15.28, 15.33, 15.19, 15.25, 15.29, 15.12, 15.07, 15.06, 15.69, 16.2, 16.39, 16.93, 16.78, 16.93, 16.36, 16.62, 16.82, 16.26, 16.32, 16.49, 15.47, 14.9, 14.98, 14.77, 15.19, 15.37, 15.18, 15.42, 15.6, 15.53, 14.75, 15.0, 14.48, 14.47, 14.67, 14.63, 14.45, 15.16, 15.66, 15.88, 15.88, 16.21, 15.94, 16.33, 16.55, 16.66, 16.71, 16.46, 16.37, 16.4, 16.7, 16.74, 16.8, 17.11, 17.12, 16.85, 16.85, 17.03, 17.27, 17.08, 16.82, 16.96, 17.13, 17.57, 17.74, 17.9, 18.04, 17.76, 17.85, 18.04, 18.13, 18.49, 18.62, 18.65, 18.59, 18.66, 18.67, 19.4, 19.48, 18.41, 18.39, 18.61, 18.28, 18.54, 18.43, 18.05, 17.47, 17.78, 18.3, 17.83, 18.06, 17.56, 17.53, 16.28, 16.18, 17.3, 17.16, 17.07, 16.87, 16.34, 16.35, 15.95, 16.31, 15.3, 15.99, 15.4, 15.49, 15.47, 16.18, 15.74, 15.44, 15.89, 15.81, 15.35, 14.83, 15.33, 15.01, 15.46, 15.6, 15.41, 15.8, 15.87, 15.82, 15.82, 15.79, 15.58, 15.43, 15.02, 15.42, 15.24, 14.57, 14.37, 14.02, 13.84, 14.06, 14.71, 14.86, 15.11, 15.21, 15.67, 15.67, 15.39, 13.98, 13.61, 13.77, 13.36, 13.66, 13.74, 14.15, 14.19, 13.99, 14.03, 14.04, 14.44, 14.34, 14.19, 14.02, 13.96, 13.91, 13.63, 13.19, 13.06, 13.23, 13.19, 13.21, 13.32, 13.02, 12.87, 12.87, 12.64, 12.66, 12.47, 12.64, 12.32, 12.46, 13.21, 13.28, 13.5, 13.21, 13.37, 13.5, 13.55, 13.95, 13.68, 13.71, 13.55, 13.4, 13.74, 13.65, 13.42, 13.17, 13.6, 13.24, 13.27, 13.11, 13.1, 13.3, 13.15, 13.56, 13.39, 13.31, 13.18, 13.15, 13.52, 13.29, 12.6, 11.98, 12.34, 11.8, 11.75, 11.36, 11.44, 11.16, 11.3, 11.54, 11.53, 11.45, 11.5, 11.4, 11.52, 12.13, 12.36, 12.6, 12.27, 12.57, 12.37, 12.12, 12.1, 11.94, 11.62, 11.7, 11.66, 11.3, 11.09, 11.28, 11.12, 11.31, 10.95, 11.29, 11.68, 11.86, 11.64, 11.57, 12.0, 12.65, 12.8, 12.54, 12.4, 12.29, 12.52, 12.57, 12.62, 12.98, 13.38, 13.06, 13.27, 13.34, 13.31, 13.28, 13.34, 14.19, 14.24, 14.5, 14.44, 14.25, 14.4, 14.69, 14.99, 14.77, 15.25, 15.0, 14.37, 14.54, 14.25, 13.92, 13.63, 13.55, 13.67, 13.6, 13.73, 14.31, 14.24, 14.43, 14.29, 14.67, 14.61, 14.64, 14.49, 14.77, 14.89, 14.77, 14.84, 14.81, 14.75, 14.18, 14.17, 13.97, 14.2, 14.29, 13.93, 13.83, 14.27, 14.12, 14.03, 14.69, 14.59, 14.26, 14.38, 14.23, 13.96, 13.69, 13.98, 14.04, 14.05, 13.88, 13.65, 13.48, 13.34, 13.37, 13.35, 13.45, 13.33, 13.37, 13.44, 13.47, 13.72, 13.61, 13.48, 13.49, 13.47, 13.27, 13.13, 12.82, 12.42, 12.34, 12.27, 12.31, 12.44, 12.23, 12.33, 12.42, 12.28, 12.34, 12.6, 12.49, 12.3, 12.31, 12.18, 12.28, 12.25, 12.2, 11.93, 11.86, 11.9, 11.79, 11.69, 11.58, 11.42, 11.46, 11.38, 11.46, 11.69, 11.75, 11.24, 11.29, 11.28, 10.83, 10.65, 10.54, 10.65, 10.8, 10.97, 10.8, 10.5, 10.6, 10.68, 10.6, 10.83, 10.79, 10.71, 10.52, 10.85, 10.82, 11.14, 10.96, 11.09, 11.0, 10.74, 10.92, 10.7, 10.35, 10.21, 10.2, 10.07, 10.0, 9.72, 9.57, 9.85, 10.23, 10.13, 10.01, 10.0, 9.68, 9.79, 9.71, 9.81, 9.49, 9.54, 8.83, 8.17, 6.51, 7.6, 6.77, 7.25, 7.19, 7.76, 7.4, 7.46, 7.01, 6.97, 6.42, 6.3, 6.99, 7.65, 7.76, 8.39, 8.12, 8.17, 7.91, 7.25, 6.99, 7.48, 7.2, 6.98, 7.05, 7.0, 7.05, 7.33, 7.23, 6.99, 6.9, 6.38, 6.06, 6.31, 6.6, 6.48, 6.16, 6.35, 6.12, 5.53, 5.76, 5.77, 6.28, 5.9, 6.28, 6.37, 6.58, 6.22, 6.19, 6.03, 6.64, 6.4, 6.47, 6.46, 6.72, 6.46, 6.59, 7.22, 7.35, 6.83, 6.4, 6.72, 6.91, 6.49, 6.45, 6.53, 6.16, 6.03, 6.21, 6.05, 6.13, 5.9, 5.8, 5.78, 5.49, 5.37, 5.14, 5.17, 5.25, 5.08, 5.44, 5.53, 5.64, 5.79, 5.78, 5.89, 5.59, 5.72, 5.45, 5.32, 5.23, 5.26, 5.2, 4.98, 5.17, 5.23, 5.47, 5.6, 5.48, 5.28, 5.46, 5.56, 5.8, 5.81, 6.31, 6.18, 6.27, 6.63, 6.87, 6.79, 6.61, 6.48, 6.8, 6.96, 7.07, 7.25, 7.29, 7.35, 7.3, 7.29, 7.07, 7.13, 7.36, 7.45, 7.84, 7.97, 7.85, 8.13, 8.18, 8.07, 8.25, 7.98, 7.78, 8.09, 8.02, 8.11, 7.95, 8.02, 7.88, 8.04, 8.12, 7.97, 8.12, 8.13, 7.97, 7.71, 8.02, 8.06, 8.05, 7.99, 8.49, 8.84, 9.24, 9.8, 9.53, 9.81, 9.82, 9.6, 9.85, 9.93, 9.6, 9.75, 9.53, 9.57, 9.68, 9.49, 9.2, 9.23, 8.93, 8.54, 8.86, 9.17, 8.68, 8.79, 8.92, 8.92, 8.77, 8.36, 8.18, 8.21, 8.26, 8.27, 8.25, 8.11, 8.31, 8.16, 8.0, 7.74, 7.96, 7.79, 7.73, 7.7, 7.55, 7.35, 7.3, 7.11, 6.98, 7.02, 6.83, 6.98, 7.17, 7.14, 7.15, 7.44, 7.2, 7.35, 7.02, 6.9, 7.1, 7.64, 7.42, 7.56, 7.28, 7.49, 7.5, 7.66, 7.9, 7.76, 8.11, 8.14, 7.82, 7.94, 7.6, 7.62, 7.77, 7.74, 8.18, 8.05, 8.06, 7.82, 7.66, 7.56, 7.48, 7.63, 7.48, 7.82, 7.81, 7.92, 7.53, 7.26, 7.07, 7.09, 7.04, 7.07, 7.17, 7.31, 7.28, 7.34, 7.22, 7.18, 7.43, 7.64, 7.67, 7.67, 7.72, 7.74, 7.72, 7.78, 7.87, 7.93, 8.0, 8.15, 8.19, 8.22, 8.15, 8.16, 8.07, 7.96, 8.0, 7.91, 7.99, 8.0, 7.95, 8.35, 8.8, 8.58, 9.03, 8.97, 9.4, 9.55, 9.3, 9.23, 9.29, 9.19, 9.11, 9.1, 8.92, 8.82, 8.97, 8.83, 8.96, 8.93, 9.11, 9.41, 9.32, 9.28, 9.21, 9.21, 9.34, 9.12, 9.44, 9.46, 9.44, 9.47, 9.44, 9.55, 9.36, 9.31, 9.24, 9.12, 9.32, 9.74, 9.85, 9.75, 9.94, 9.23, 9.39, 9.43, 9.39, 9.33, 8.99, 9.09, 9.12, 9.49, 9.63, 9.77, 9.9, 9.84, 9.66, 9.76, 9.83, 9.86, 9.8, 9.91, 10.46, 10.46, 10.64, 10.57, 10.51, 10.61, 10.54, 10.58, 11.0, 11.36, 11.19, 11.52, 11.29, 11.25, 11.54, 11.47, 11.36, 11.61, 12.03, 11.96, 12.11, 12.09, 11.98, 11.43, 11.78, 11.63, 11.47, 11.55, 11.78, 11.28, 11.14, 11.35, 11.42, 11.53, 11.62, 11.48, 11.49, 11.38, 11.32, 11.71, 11.48, 11.88, 11.93, 11.84, 11.76, 11.86, 12.24, 12.17, 12.13, 12.03, 12.19, 11.8, 11.42, 11.44, 11.03, 11.13, 11.3, 11.23, 11.34, 11.41, 11.55, 11.92, 12.26, 12.07, 12.15, 12.01, 12.06, 12.11, 12.57, 12.56, 12.71, 12.78, 12.57, 12.56, 12.4, 12.28, 12.23, 12.18, 12.15, 12.15, 11.81, 11.94, 11.97, 12.21, 12.25, 12.32, 12.27, 12.17, 11.98, 12.28, 11.7, 11.44, 11.66, 11.72, 12.07, 12.31, 12.44, 12.42, 12.38, 12.31, 12.14, 12.19, 12.24, 12.88, 12.9, 13.02, 12.91, 13.02, 12.98, 13.34, 13.44, 13.36, 13.43, 13.51, 13.44, 13.31, 13.21, 13.24, 13.35, 13.48, 13.83, 13.66, 13.55, 13.36, 13.09, 13.2, 13.38, 13.3, 13.12, 13.06, 13.21, 13.07, 13.21, 13.27, 13.19, 12.89, 12.69, 12.3, 12.67, 12.76, 13.01, 12.86, 12.93, 12.9, 12.83, 13.06, 13.28, 13.53, 13.37, 13.51, 13.78, 13.88, 13.92, 14.31, 14.76, 14.75, 14.92, 14.94, 14.71, 14.83, 14.73, 14.52, 14.52, 14.6, 14.95, 14.84, 14.8, 14.64, 14.53, 14.61, 14.45, 14.41, 14.51, 14.6, 14.32, 14.42, 14.15, 14.29, 14.34, 14.57, 14.57, 14.49, 14.11, 14.12, 14.17, 14.12, 14.25, 14.32, 14.37, 14.36, 14.48, 14.61, 14.65, 14.48, 14.49, 14.53, 14.55, 14.72, 14.61, 14.44, 14.14, 14.09, 14.14, 14.08, 13.9, 13.8, 13.9, 14.06, 14.0, 14.05, 13.81, 13.69, 13.84, 14.23, 14.19, 14.35, 14.24, 14.56, 14.66, 14.63, 14.52, 14.52, 14.21, 14.17, 14.26, 14.23, 14.15, 14.17, 13.97, 14.02, 14.04, 13.93, 13.96, 13.8, 14.32, 14.4, 14.32, 14.64, 14.8, 14.92, 14.92, 15.2, 15.14, 15.59, 15.64, 15.81, 15.88, 15.83, 15.82, 15.73, 15.54, 15.63, 15.43, 15.56, 15.58, 15.56, 15.25, 15.25, 15.18, 15.24, 15.18, 15.69, 15.75, 15.6, 15.69, 15.7, 15.65, 15.67, 15.54, 15.57, 16.1, 16.41, 16.66, 16.5, 16.58, 16.83, 16.77, 16.43, 16.77, 17.15, 17.08, 17.01, 17.01, 17.15, 16.86, 16.45, 16.31, 16.73, 16.68, 16.93, 16.75, 16.35, 16.35, 16.4, 16.69, 16.82, 16.72, 16.88, 16.75, 16.75, 16.7, 16.47, 16.2, 16.3, 16.29, 16.53, 16.34, 16.33, 16.49, 16.53, 16.3, 16.73, 17.25, 17.35, 17.33, 17.47, 17.27, 17.28, 17.16, 16.8, 17.11, 17.19, 17.44, 17.92, 17.56, 17.37, 17.21, 17.18, 17.01, 16.98, 17.2, 17.34, 17.23, 17.15, 16.72, 16.38, 16.44, 16.62, 16.12, 15.77, 16.0, 16.39, 16.13, 16.15, 16.09, 16.29, 16.37, 16.34, 15.95, 14.95, 15.24, 15.14, 15.09, 15.25, 15.08, 14.73, 14.8, 14.93, 14.74, 15.07, 15.03, 14.84, 14.55, 14.51, 14.67, 14.53, 14.61, 14.71, 14.72, 15.22, 15.14, 15.15, 15.14, 15.26, 15.21, 15.21, 15.43, 15.59, 15.84, 15.92, 15.59, 15.42, 15.44, 15.28, 15.59, 15.65, 15.55, 15.45, 15.64, 15.49, 15.47, 15.41, 15.33, 15.37, 15.6, 15.85, 16.03, 15.94, 15.58, 15.6, 15.44, 15.38, 15.57, 15.81, 15.51, 15.2, 15.49, 15.52, 15.52, 15.52, 15.62, 15.59, 15.5, 15.34, 15.58, 15.25, 14.98, 15.05, 15.0, 15.2, 15.12, 15.2, 15.22, 15.21, 15.25, 15.32, 15.22, 15.45, 15.45, 15.52, 16.16, 16.13, 16.29, 16.33, 16.2, 16.01, 16.09, 16.27, 16.1, 16.11, 16.02, 16.35, 16.14, 16.36, 16.57, 16.79, 16.74, 16.71, 16.77, 17.04, 16.95, 17.03, 17.05, 17.18, 16.85, 17.03, 17.01, 17.05, 16.82, 16.88, 17.29, 17.29, 16.88, 17.12, 16.59, 16.48, 16.4, 16.52, 15.76, 16.08, 16.21, 16.26, 16.6, 16.4, 16.6, 16.72, 16.59, 16.8, 16.99, 17.03, 17.16, 17.27, 17.21, 17.34, 17.36, 17.36, 17.37, 17.32, 17.29, 17.22, 17.14, 17.09, 17.14, 17.06, 17.0, 17.12, 17.18, 17.1, 17.11, 17.04, 16.79, 17.15, 17.29, 17.21, 17.68, 17.66, 17.56, 17.38, 17.47, 17.13, 16.85, 16.72, 17.26, 17.53, 17.62, 17.71, 17.93, 17.98, 17.98, 18.11, 18.13, 17.89, 17.9, 17.38, 16.86, 16.94, 17.29, 16.98, 16.68, 16.45, 16.04, 15.2, 15.38, 15.26, 15.41, 16.09, 15.73, 15.85, 15.63, 15.2, 15.43, 15.15, 15.46, 15.89, 15.79, 15.97, 16.49, 16.35, 16.42, 16.36, 16.67, 16.61, 16.63, 16.3, 16.21, 16.38, 16.2, 16.38, 16.49, 16.04, 15.81, 16.01, 16.04, 15.84, 16.0, 16.22, 16.17, 15.79, 16.11, 16.09, 16.09, 16.13, 16.09, 15.98, 15.61, 15.84, 15.72, 15.61, 15.41, 15.42, 15.31, 15.52, 15.39, 15.41, 15.54, 15.51, 15.46, 15.61, 15.71, 15.72, 15.8, 15.82, 15.64, 15.79, 15.56, 15.57, 15.5, 15.74, 15.69, 15.64, 15.56, 15.65, 15.98, 15.93, 16.11, 16.44, 16.35, 16.29, 16.24, 16.45, 16.49, 16.43, 16.47, 16.52, 16.35, 16.51, 16.77, 16.74, 16.73, 16.75, 16.5, 16.74, 16.67, 16.5, 16.55, 16.72, 16.93, 16.78, 17.19, 17.08, 17.31, 17.59, 17.49, 17.49, 17.47, 17.55, 17.37, 17.38, 17.17, 17.47, 17.67, 17.49, 17.37, 17.41, 16.89, 17.02, 17.22, 17.03, 16.94, 16.69, 16.25, 16.48, 16.7, 17.02, 17.13, 17.68, 17.95, 18.1, 18.12, 18.08, 18.45, 18.18, 17.9, 17.67, 17.88, 18.16, 18.13, 17.88, 17.77, 17.8, 17.87, 17.81, 17.75, 18.04, 17.79, 17.52, 17.62, 17.7, 17.77, 17.69, 17.46, 16.72, 16.1, 15.29, 15.26, 16.06, 16.44, 16.36, 16.34, 15.58, 15.85, 15.94, 15.65, 16.16, 15.9, 16.04, 16.04, 15.96, 16.31, 16.33, 15.86, 15.56, 15.7, 15.57, 15.72, 15.55, 15.89, 15.47, 15.35, 15.58, 15.55, 15.38, 15.69, 15.69, 15.75, 15.75, 15.58, 15.52, 15.52, 15.64, 16.19, 16.12, 16.14, 16.2, 15.9, 16.16, 16.52, 16.51, 16.4, 17.28, 17.09, 16.78, 17.06, 17.18, 17.01, 17.31, 17.95, 17.68, 17.85, 17.75, 17.37, 17.2, 17.43, 17.42, 17.84, 17.69, 17.65, 17.47, 17.47, 17.44, 17.48, 17.43, 17.81, 17.62, 17.3, 17.8, 17.54, 17.19, 17.1, 17.2, 16.73, 16.8, 17.42, 17.75, 17.3, 16.76, 16.97, 17.08, 17.34, 17.27, 17.13, 17.28, 17.05, 16.83], \"mode\": \"lines\", \"line\": {\"color\": \"rgba(226, 74, 51, 1.0)\", \"dash\": \"solid\", \"width\": 1.3}, \"text\": \"\", \"name\": \"BAC\"}, {\"type\": \"scatter\", \"x\": [\"2006-01-03\", \"2006-01-04\", \"2006-01-05\", \"2006-01-06\", \"2006-01-09\", \"2006-01-10\", \"2006-01-11\", \"2006-01-12\", \"2006-01-13\", \"2006-01-17\", \"2006-01-18\", \"2006-01-19\", \"2006-01-20\", \"2006-01-23\", \"2006-01-24\", \"2006-01-25\", \"2006-01-26\", \"2006-01-27\", \"2006-01-30\", \"2006-01-31\", \"2006-02-01\", \"2006-02-02\", \"2006-02-03\", \"2006-02-06\", \"2006-02-07\", \"2006-02-08\", \"2006-02-09\", \"2006-02-10\", \"2006-02-13\", \"2006-02-14\", \"2006-02-15\", \"2006-02-16\", \"2006-02-17\", \"2006-02-21\", \"2006-02-22\", \"2006-02-23\", \"2006-02-24\", \"2006-02-27\", \"2006-02-28\", \"2006-03-01\", \"2006-03-02\", \"2006-03-03\", \"2006-03-06\", \"2006-03-07\", \"2006-03-08\", \"2006-03-09\", \"2006-03-10\", \"2006-03-13\", \"2006-03-14\", \"2006-03-15\", \"2006-03-16\", \"2006-03-17\", \"2006-03-20\", \"2006-03-21\", \"2006-03-22\", \"2006-03-23\", \"2006-03-24\", \"2006-03-27\", \"2006-03-28\", \"2006-03-29\", \"2006-03-30\", \"2006-03-31\", \"2006-04-03\", \"2006-04-04\", \"2006-04-05\", \"2006-04-06\", \"2006-04-07\", \"2006-04-10\", \"2006-04-11\", \"2006-04-12\", \"2006-04-13\", \"2006-04-17\", \"2006-04-18\", \"2006-04-19\", \"2006-04-20\", \"2006-04-21\", \"2006-04-24\", \"2006-04-25\", \"2006-04-26\", \"2006-04-27\", \"2006-04-28\", \"2006-05-01\", \"2006-05-02\", \"2006-05-03\", \"2006-05-04\", \"2006-05-05\", \"2006-05-08\", \"2006-05-09\", \"2006-05-10\", \"2006-05-11\", \"2006-05-12\", \"2006-05-15\", \"2006-05-16\", \"2006-05-17\", \"2006-05-18\", \"2006-05-19\", \"2006-05-22\", \"2006-05-23\", \"2006-05-24\", \"2006-05-25\", \"2006-05-26\", \"2006-05-30\", \"2006-05-31\", \"2006-06-01\", \"2006-06-02\", \"2006-06-05\", \"2006-06-06\", \"2006-06-07\", \"2006-06-08\", \"2006-06-09\", \"2006-06-12\", \"2006-06-13\", \"2006-06-14\", \"2006-06-15\", \"2006-06-16\", \"2006-06-19\", \"2006-06-20\", \"2006-06-21\", \"2006-06-22\", \"2006-06-23\", \"2006-06-26\", \"2006-06-27\", \"2006-06-28\", \"2006-06-29\", \"2006-06-30\", \"2006-07-03\", \"2006-07-05\", \"2006-07-06\", \"2006-07-07\", \"2006-07-10\", \"2006-07-11\", \"2006-07-12\", \"2006-07-13\", \"2006-07-14\", \"2006-07-17\", \"2006-07-18\", \"2006-07-19\", \"2006-07-20\", \"2006-07-21\", \"2006-07-24\", \"2006-07-25\", \"2006-07-26\", \"2006-07-27\", \"2006-07-28\", \"2006-07-31\", \"2006-08-01\", \"2006-08-02\", \"2006-08-03\", \"2006-08-04\", \"2006-08-07\", \"2006-08-08\", \"2006-08-09\", \"2006-08-10\", \"2006-08-11\", \"2006-08-14\", \"2006-08-15\", \"2006-08-16\", \"2006-08-17\", \"2006-08-18\", \"2006-08-21\", \"2006-08-22\", \"2006-08-23\", \"2006-08-24\", \"2006-08-25\", \"2006-08-28\", \"2006-08-29\", \"2006-08-30\", \"2006-08-31\", \"2006-09-01\", \"2006-09-05\", \"2006-09-06\", \"2006-09-07\", \"2006-09-08\", \"2006-09-11\", \"2006-09-12\", \"2006-09-13\", \"2006-09-14\", \"2006-09-15\", \"2006-09-18\", \"2006-09-19\", \"2006-09-20\", \"2006-09-21\", \"2006-09-22\", \"2006-09-25\", \"2006-09-26\", \"2006-09-27\", \"2006-09-28\", \"2006-09-29\", \"2006-10-02\", \"2006-10-03\", \"2006-10-04\", \"2006-10-05\", \"2006-10-06\", \"2006-10-09\", \"2006-10-10\", \"2006-10-11\", \"2006-10-12\", \"2006-10-13\", \"2006-10-16\", \"2006-10-17\", \"2006-10-18\", \"2006-10-19\", \"2006-10-20\", \"2006-10-23\", \"2006-10-24\", \"2006-10-25\", \"2006-10-26\", \"2006-10-27\", \"2006-10-30\", \"2006-10-31\", \"2006-11-01\", \"2006-11-02\", \"2006-11-03\", \"2006-11-06\", \"2006-11-07\", \"2006-11-08\", \"2006-11-09\", \"2006-11-10\", \"2006-11-13\", \"2006-11-14\", \"2006-11-15\", \"2006-11-16\", \"2006-11-17\", \"2006-11-20\", \"2006-11-21\", \"2006-11-22\", \"2006-11-24\", \"2006-11-27\", \"2006-11-28\", \"2006-11-29\", \"2006-11-30\", \"2006-12-01\", \"2006-12-04\", \"2006-12-05\", \"2006-12-06\", \"2006-12-07\", \"2006-12-08\", \"2006-12-11\", \"2006-12-12\", \"2006-12-13\", \"2006-12-14\", \"2006-12-15\", \"2006-12-18\", \"2006-12-19\", \"2006-12-20\", \"2006-12-21\", \"2006-12-22\", \"2006-12-26\", \"2006-12-27\", \"2006-12-28\", \"2006-12-29\", \"2007-01-03\", \"2007-01-04\", \"2007-01-05\", \"2007-01-08\", \"2007-01-09\", \"2007-01-10\", \"2007-01-11\", \"2007-01-12\", \"2007-01-16\", \"2007-01-17\", \"2007-01-18\", \"2007-01-19\", \"2007-01-22\", \"2007-01-23\", \"2007-01-24\", \"2007-01-25\", \"2007-01-26\", \"2007-01-29\", \"2007-01-30\", \"2007-01-31\", \"2007-02-01\", \"2007-02-02\", \"2007-02-05\", \"2007-02-06\", \"2007-02-07\", \"2007-02-08\", \"2007-02-09\", \"2007-02-12\", \"2007-02-13\", \"2007-02-14\", \"2007-02-15\", \"2007-02-16\", \"2007-02-20\", \"2007-02-21\", \"2007-02-22\", \"2007-02-23\", \"2007-02-26\", \"2007-02-27\", \"2007-02-28\", \"2007-03-01\", \"2007-03-02\", \"2007-03-05\", \"2007-03-06\", \"2007-03-07\", \"2007-03-08\", \"2007-03-09\", \"2007-03-12\", \"2007-03-13\", \"2007-03-14\", \"2007-03-15\", \"2007-03-16\", \"2007-03-19\", \"2007-03-20\", \"2007-03-21\", \"2007-03-22\", \"2007-03-23\", \"2007-03-26\", \"2007-03-27\", \"2007-03-28\", \"2007-03-29\", \"2007-03-30\", \"2007-04-02\", \"2007-04-03\", \"2007-04-04\", \"2007-04-05\", \"2007-04-09\", \"2007-04-10\", \"2007-04-11\", \"2007-04-12\", \"2007-04-13\", \"2007-04-16\", \"2007-04-17\", \"2007-04-18\", \"2007-04-19\", \"2007-04-20\", \"2007-04-23\", \"2007-04-24\", \"2007-04-25\", \"2007-04-26\", \"2007-04-27\", \"2007-04-30\", \"2007-05-01\", \"2007-05-02\", \"2007-05-03\", \"2007-05-04\", \"2007-05-07\", \"2007-05-08\", \"2007-05-09\", \"2007-05-10\", \"2007-05-11\", \"2007-05-14\", \"2007-05-15\", \"2007-05-16\", \"2007-05-17\", \"2007-05-18\", \"2007-05-21\", \"2007-05-22\", \"2007-05-23\", \"2007-05-24\", \"2007-05-25\", \"2007-05-29\", \"2007-05-30\", \"2007-05-31\", \"2007-06-01\", \"2007-06-04\", \"2007-06-05\", \"2007-06-06\", \"2007-06-07\", \"2007-06-08\", \"2007-06-11\", \"2007-06-12\", \"2007-06-13\", \"2007-06-14\", \"2007-06-15\", \"2007-06-18\", \"2007-06-19\", \"2007-06-20\", \"2007-06-21\", \"2007-06-22\", \"2007-06-25\", \"2007-06-26\", \"2007-06-27\", \"2007-06-28\", \"2007-06-29\", \"2007-07-02\", \"2007-07-03\", \"2007-07-05\", \"2007-07-06\", \"2007-07-09\", \"2007-07-10\", \"2007-07-11\", \"2007-07-12\", \"2007-07-13\", \"2007-07-16\", \"2007-07-17\", \"2007-07-18\", \"2007-07-19\", \"2007-07-20\", \"2007-07-23\", \"2007-07-24\", \"2007-07-25\", \"2007-07-26\", \"2007-07-27\", \"2007-07-30\", \"2007-07-31\", \"2007-08-01\", \"2007-08-02\", \"2007-08-03\", \"2007-08-06\", \"2007-08-07\", \"2007-08-08\", \"2007-08-09\", \"2007-08-10\", \"2007-08-13\", \"2007-08-14\", \"2007-08-15\", \"2007-08-16\", \"2007-08-17\", \"2007-08-20\", \"2007-08-21\", \"2007-08-22\", \"2007-08-23\", \"2007-08-24\", \"2007-08-27\", \"2007-08-28\", \"2007-08-29\", \"2007-08-30\", \"2007-08-31\", \"2007-09-04\", \"2007-09-05\", \"2007-09-06\", \"2007-09-07\", \"2007-09-10\", \"2007-09-11\", \"2007-09-12\", \"2007-09-13\", \"2007-09-14\", \"2007-09-17\", \"2007-09-18\", \"2007-09-19\", \"2007-09-20\", \"2007-09-21\", \"2007-09-24\", \"2007-09-25\", \"2007-09-26\", \"2007-09-27\", \"2007-09-28\", \"2007-10-01\", \"2007-10-02\", \"2007-10-03\", \"2007-10-04\", \"2007-10-05\", \"2007-10-08\", \"2007-10-09\", \"2007-10-10\", \"2007-10-11\", \"2007-10-12\", \"2007-10-15\", \"2007-10-16\", \"2007-10-17\", \"2007-10-18\", \"2007-10-19\", \"2007-10-22\", \"2007-10-23\", \"2007-10-24\", \"2007-10-25\", \"2007-10-26\", \"2007-10-29\", \"2007-10-30\", \"2007-10-31\", \"2007-11-01\", \"2007-11-02\", \"2007-11-05\", \"2007-11-06\", \"2007-11-07\", \"2007-11-08\", \"2007-11-09\", \"2007-11-12\", \"2007-11-13\", \"2007-11-14\", \"2007-11-15\", \"2007-11-16\", \"2007-11-19\", \"2007-11-20\", \"2007-11-21\", \"2007-11-23\", \"2007-11-26\", \"2007-11-27\", \"2007-11-28\", \"2007-11-29\", \"2007-11-30\", \"2007-12-03\", \"2007-12-04\", \"2007-12-05\", \"2007-12-06\", \"2007-12-07\", \"2007-12-10\", \"2007-12-11\", \"2007-12-12\", \"2007-12-13\", \"2007-12-14\", \"2007-12-17\", \"2007-12-18\", \"2007-12-19\", \"2007-12-20\", \"2007-12-21\", \"2007-12-24\", \"2007-12-26\", \"2007-12-27\", \"2007-12-28\", \"2007-12-31\", \"2008-01-02\", \"2008-01-03\", \"2008-01-04\", \"2008-01-07\", \"2008-01-08\", \"2008-01-09\", \"2008-01-10\", \"2008-01-11\", \"2008-01-14\", \"2008-01-15\", \"2008-01-16\", \"2008-01-17\", \"2008-01-18\", \"2008-01-22\", \"2008-01-23\", \"2008-01-24\", \"2008-01-25\", \"2008-01-28\", \"2008-01-29\", \"2008-01-30\", \"2008-01-31\", \"2008-02-01\", \"2008-02-04\", \"2008-02-05\", \"2008-02-06\", \"2008-02-07\", \"2008-02-08\", \"2008-02-11\", \"2008-02-12\", \"2008-02-13\", \"2008-02-14\", \"2008-02-15\", \"2008-02-19\", \"2008-02-20\", \"2008-02-21\", \"2008-02-22\", \"2008-02-25\", \"2008-02-26\", \"2008-02-27\", \"2008-02-28\", \"2008-02-29\", \"2008-03-03\", \"2008-03-04\", \"2008-03-05\", \"2008-03-06\", \"2008-03-07\", \"2008-03-10\", \"2008-03-11\", \"2008-03-12\", \"2008-03-13\", \"2008-03-14\", \"2008-03-17\", \"2008-03-18\", \"2008-03-19\", \"2008-03-20\", \"2008-03-24\", \"2008-03-25\", \"2008-03-26\", \"2008-03-27\", \"2008-03-28\", \"2008-03-31\", \"2008-04-01\", \"2008-04-02\", \"2008-04-03\", \"2008-04-04\", \"2008-04-07\", \"2008-04-08\", \"2008-04-09\", \"2008-04-10\", \"2008-04-11\", \"2008-04-14\", \"2008-04-15\", \"2008-04-16\", \"2008-04-17\", \"2008-04-18\", \"2008-04-21\", \"2008-04-22\", \"2008-04-23\", \"2008-04-24\", \"2008-04-25\", \"2008-04-28\", \"2008-04-29\", \"2008-04-30\", \"2008-05-01\", \"2008-05-02\", \"2008-05-05\", \"2008-05-06\", \"2008-05-07\", \"2008-05-08\", \"2008-05-09\", \"2008-05-12\", \"2008-05-13\", \"2008-05-14\", \"2008-05-15\", \"2008-05-16\", \"2008-05-19\", \"2008-05-20\", \"2008-05-21\", \"2008-05-22\", \"2008-05-23\", \"2008-05-27\", \"2008-05-28\", \"2008-05-29\", \"2008-05-30\", \"2008-06-02\", \"2008-06-03\", \"2008-06-04\", \"2008-06-05\", \"2008-06-06\", \"2008-06-09\", \"2008-06-10\", \"2008-06-11\", \"2008-06-12\", \"2008-06-13\", \"2008-06-16\", \"2008-06-17\", \"2008-06-18\", \"2008-06-19\", \"2008-06-20\", \"2008-06-23\", \"2008-06-24\", \"2008-06-25\", \"2008-06-26\", \"2008-06-27\", \"2008-06-30\", \"2008-07-01\", \"2008-07-02\", \"2008-07-03\", \"2008-07-07\", \"2008-07-08\", \"2008-07-09\", \"2008-07-10\", \"2008-07-11\", \"2008-07-14\", \"2008-07-15\", \"2008-07-16\", \"2008-07-17\", \"2008-07-18\", \"2008-07-21\", \"2008-07-22\", \"2008-07-23\", \"2008-07-24\", \"2008-07-25\", \"2008-07-28\", \"2008-07-29\", \"2008-07-30\", \"2008-07-31\", \"2008-08-01\", \"2008-08-04\", \"2008-08-05\", \"2008-08-06\", \"2008-08-07\", \"2008-08-08\", \"2008-08-11\", \"2008-08-12\", \"2008-08-13\", \"2008-08-14\", \"2008-08-15\", \"2008-08-18\", \"2008-08-19\", \"2008-08-20\", \"2008-08-21\", \"2008-08-22\", \"2008-08-25\", \"2008-08-26\", \"2008-08-27\", \"2008-08-28\", \"2008-08-29\", \"2008-09-02\", \"2008-09-03\", \"2008-09-04\", \"2008-09-05\", \"2008-09-08\", \"2008-09-09\", \"2008-09-10\", \"2008-09-11\", \"2008-09-12\", \"2008-09-15\", \"2008-09-16\", \"2008-09-17\", \"2008-09-18\", \"2008-09-19\", \"2008-09-22\", \"2008-09-23\", \"2008-09-24\", \"2008-09-25\", \"2008-09-26\", \"2008-09-29\", \"2008-09-30\", \"2008-10-01\", \"2008-10-02\", \"2008-10-03\", \"2008-10-06\", \"2008-10-07\", \"2008-10-08\", \"2008-10-09\", \"2008-10-10\", \"2008-10-13\", \"2008-10-14\", \"2008-10-15\", \"2008-10-16\", \"2008-10-17\", \"2008-10-20\", \"2008-10-21\", \"2008-10-22\", \"2008-10-23\", \"2008-10-24\", \"2008-10-27\", \"2008-10-28\", \"2008-10-29\", \"2008-10-30\", \"2008-10-31\", \"2008-11-03\", \"2008-11-04\", \"2008-11-05\", \"2008-11-06\", \"2008-11-07\", \"2008-11-10\", \"2008-11-11\", \"2008-11-12\", \"2008-11-13\", \"2008-11-14\", \"2008-11-17\", \"2008-11-18\", \"2008-11-19\", \"2008-11-20\", \"2008-11-21\", \"2008-11-24\", \"2008-11-25\", \"2008-11-26\", \"2008-11-28\", \"2008-12-01\", \"2008-12-02\", \"2008-12-03\", \"2008-12-04\", \"2008-12-05\", \"2008-12-08\", \"2008-12-09\", \"2008-12-10\", \"2008-12-11\", \"2008-12-12\", \"2008-12-15\", \"2008-12-16\", \"2008-12-17\", \"2008-12-18\", \"2008-12-19\", \"2008-12-22\", \"2008-12-23\", \"2008-12-24\", \"2008-12-26\", \"2008-12-29\", \"2008-12-30\", \"2008-12-31\", \"2009-01-02\", \"2009-01-05\", \"2009-01-06\", \"2009-01-07\", \"2009-01-08\", \"2009-01-09\", \"2009-01-12\", \"2009-01-13\", \"2009-01-14\", \"2009-01-15\", \"2009-01-16\", \"2009-01-20\", \"2009-01-21\", \"2009-01-22\", \"2009-01-23\", \"2009-01-26\", \"2009-01-27\", \"2009-01-28\", \"2009-01-29\", \"2009-01-30\", \"2009-02-02\", \"2009-02-03\", \"2009-02-04\", \"2009-02-05\", \"2009-02-06\", \"2009-02-09\", \"2009-02-10\", \"2009-02-11\", \"2009-02-12\", \"2009-02-13\", \"2009-02-17\", \"2009-02-18\", \"2009-02-19\", \"2009-02-20\", \"2009-02-23\", \"2009-02-24\", \"2009-02-25\", \"2009-02-26\", \"2009-02-27\", \"2009-03-02\", \"2009-03-03\", \"2009-03-04\", \"2009-03-05\", \"2009-03-06\", \"2009-03-09\", \"2009-03-10\", \"2009-03-11\", \"2009-03-12\", \"2009-03-13\", \"2009-03-16\", \"2009-03-17\", \"2009-03-18\", \"2009-03-19\", \"2009-03-20\", \"2009-03-23\", \"2009-03-24\", \"2009-03-25\", \"2009-03-26\", \"2009-03-27\", \"2009-03-30\", \"2009-03-31\", \"2009-04-01\", \"2009-04-02\", \"2009-04-03\", \"2009-04-06\", \"2009-04-07\", \"2009-04-08\", \"2009-04-09\", \"2009-04-13\", \"2009-04-14\", \"2009-04-15\", \"2009-04-16\", \"2009-04-17\", \"2009-04-20\", \"2009-04-21\", \"2009-04-22\", \"2009-04-23\", \"2009-04-24\", \"2009-04-27\", \"2009-04-28\", \"2009-04-29\", \"2009-04-30\", \"2009-05-01\", \"2009-05-04\", \"2009-05-05\", \"2009-05-06\", \"2009-05-07\", \"2009-05-08\", \"2009-05-11\", \"2009-05-12\", \"2009-05-13\", \"2009-05-14\", \"2009-05-15\", \"2009-05-18\", \"2009-05-19\", \"2009-05-20\", \"2009-05-21\", \"2009-05-22\", \"2009-05-26\", \"2009-05-27\", \"2009-05-28\", \"2009-05-29\", \"2009-06-01\", \"2009-06-02\", \"2009-06-03\", \"2009-06-04\", \"2009-06-05\", \"2009-06-08\", \"2009-06-09\", \"2009-06-10\", \"2009-06-11\", \"2009-06-12\", \"2009-06-15\", \"2009-06-16\", \"2009-06-17\", \"2009-06-18\", \"2009-06-19\", \"2009-06-22\", \"2009-06-23\", \"2009-06-24\", \"2009-06-25\", \"2009-06-26\", \"2009-06-29\", \"2009-06-30\", \"2009-07-01\", \"2009-07-02\", \"2009-07-06\", \"2009-07-07\", \"2009-07-08\", \"2009-07-09\", \"2009-07-10\", \"2009-07-13\", \"2009-07-14\", \"2009-07-15\", \"2009-07-16\", \"2009-07-17\", \"2009-07-20\", \"2009-07-21\", \"2009-07-22\", \"2009-07-23\", \"2009-07-24\", \"2009-07-27\", \"2009-07-28\", \"2009-07-29\", \"2009-07-30\", \"2009-07-31\", \"2009-08-03\", \"2009-08-04\", \"2009-08-05\", \"2009-08-06\", \"2009-08-07\", \"2009-08-10\", \"2009-08-11\", \"2009-08-12\", \"2009-08-13\", \"2009-08-14\", \"2009-08-17\", \"2009-08-18\", \"2009-08-19\", \"2009-08-20\", \"2009-08-21\", \"2009-08-24\", \"2009-08-25\", \"2009-08-26\", \"2009-08-27\", \"2009-08-28\", \"2009-08-31\", \"2009-09-01\", \"2009-09-02\", \"2009-09-03\", \"2009-09-04\", \"2009-09-08\", \"2009-09-09\", \"2009-09-10\", \"2009-09-11\", \"2009-09-14\", \"2009-09-15\", \"2009-09-16\", \"2009-09-17\", \"2009-09-18\", \"2009-09-21\", \"2009-09-22\", \"2009-09-23\", \"2009-09-24\", \"2009-09-25\", \"2009-09-28\", \"2009-09-29\", \"2009-09-30\", \"2009-10-01\", \"2009-10-02\", \"2009-10-05\", \"2009-10-06\", \"2009-10-07\", \"2009-10-08\", \"2009-10-09\", \"2009-10-12\", \"2009-10-13\", \"2009-10-14\", \"2009-10-15\", \"2009-10-16\", \"2009-10-19\", \"2009-10-20\", \"2009-10-21\", \"2009-10-22\", \"2009-10-23\", \"2009-10-26\", \"2009-10-27\", \"2009-10-28\", \"2009-10-29\", \"2009-10-30\", \"2009-11-02\", \"2009-11-03\", \"2009-11-04\", \"2009-11-05\", \"2009-11-06\", \"2009-11-09\", \"2009-11-10\", \"2009-11-11\", \"2009-11-12\", \"2009-11-13\", \"2009-11-16\", \"2009-11-17\", \"2009-11-18\", \"2009-11-19\", \"2009-11-20\", \"2009-11-23\", \"2009-11-24\", \"2009-11-25\", \"2009-11-27\", \"2009-11-30\", \"2009-12-01\", \"2009-12-02\", \"2009-12-03\", \"2009-12-04\", \"2009-12-07\", \"2009-12-08\", \"2009-12-09\", \"2009-12-10\", \"2009-12-11\", \"2009-12-14\", \"2009-12-15\", \"2009-12-16\", \"2009-12-17\", \"2009-12-18\", \"2009-12-21\", \"2009-12-22\", \"2009-12-23\", \"2009-12-24\", \"2009-12-28\", \"2009-12-29\", \"2009-12-30\", \"2009-12-31\", \"2010-01-04\", \"2010-01-05\", \"2010-01-06\", \"2010-01-07\", \"2010-01-08\", \"2010-01-11\", \"2010-01-12\", \"2010-01-13\", \"2010-01-14\", \"2010-01-15\", \"2010-01-19\", \"2010-01-20\", \"2010-01-21\", \"2010-01-22\", \"2010-01-25\", \"2010-01-26\", \"2010-01-27\", \"2010-01-28\", \"2010-01-29\", \"2010-02-01\", \"2010-02-02\", \"2010-02-03\", \"2010-02-04\", \"2010-02-05\", \"2010-02-08\", \"2010-02-09\", \"2010-02-10\", \"2010-02-11\", \"2010-02-12\", \"2010-02-16\", \"2010-02-17\", \"2010-02-18\", \"2010-02-19\", \"2010-02-22\", \"2010-02-23\", \"2010-02-24\", \"2010-02-25\", \"2010-02-26\", \"2010-03-01\", \"2010-03-02\", \"2010-03-03\", \"2010-03-04\", \"2010-03-05\", \"2010-03-08\", \"2010-03-09\", \"2010-03-10\", \"2010-03-11\", \"2010-03-12\", \"2010-03-15\", \"2010-03-16\", \"2010-03-17\", \"2010-03-18\", \"2010-03-19\", \"2010-03-22\", \"2010-03-23\", \"2010-03-24\", \"2010-03-25\", \"2010-03-26\", \"2010-03-29\", \"2010-03-30\", \"2010-03-31\", \"2010-04-01\", \"2010-04-05\", \"2010-04-06\", \"2010-04-07\", \"2010-04-08\", \"2010-04-09\", \"2010-04-12\", \"2010-04-13\", \"2010-04-14\", \"2010-04-15\", \"2010-04-16\", \"2010-04-19\", \"2010-04-20\", \"2010-04-21\", \"2010-04-22\", \"2010-04-23\", \"2010-04-26\", \"2010-04-27\", \"2010-04-28\", \"2010-04-29\", \"2010-04-30\", \"2010-05-03\", \"2010-05-04\", \"2010-05-05\", \"2010-05-06\", \"2010-05-07\", \"2010-05-10\", \"2010-05-11\", \"2010-05-12\", \"2010-05-13\", \"2010-05-14\", \"2010-05-17\", \"2010-05-18\", \"2010-05-19\", \"2010-05-20\", \"2010-05-21\", \"2010-05-24\", \"2010-05-25\", \"2010-05-26\", \"2010-05-27\", \"2010-05-28\", \"2010-06-01\", \"2010-06-02\", \"2010-06-03\", \"2010-06-04\", \"2010-06-07\", \"2010-06-08\", \"2010-06-09\", \"2010-06-10\", \"2010-06-11\", \"2010-06-14\", \"2010-06-15\", \"2010-06-16\", \"2010-06-17\", \"2010-06-18\", \"2010-06-21\", \"2010-06-22\", \"2010-06-23\", \"2010-06-24\", \"2010-06-25\", \"2010-06-28\", \"2010-06-29\", \"2010-06-30\", \"2010-07-01\", \"2010-07-02\", \"2010-07-06\", \"2010-07-07\", \"2010-07-08\", \"2010-07-09\", \"2010-07-12\", \"2010-07-13\", \"2010-07-14\", \"2010-07-15\", \"2010-07-16\", \"2010-07-19\", \"2010-07-20\", \"2010-07-21\", \"2010-07-22\", \"2010-07-23\", \"2010-07-26\", \"2010-07-27\", \"2010-07-28\", \"2010-07-29\", \"2010-07-30\", \"2010-08-02\", \"2010-08-03\", \"2010-08-04\", \"2010-08-05\", \"2010-08-06\", \"2010-08-09\", \"2010-08-10\", \"2010-08-11\", \"2010-08-12\", \"2010-08-13\", \"2010-08-16\", \"2010-08-17\", \"2010-08-18\", \"2010-08-19\", \"2010-08-20\", \"2010-08-23\", \"2010-08-24\", \"2010-08-25\", \"2010-08-26\", \"2010-08-27\", \"2010-08-30\", \"2010-08-31\", \"2010-09-01\", \"2010-09-02\", \"2010-09-03\", \"2010-09-07\", \"2010-09-08\", \"2010-09-09\", \"2010-09-10\", \"2010-09-13\", \"2010-09-14\", \"2010-09-15\", \"2010-09-16\", \"2010-09-17\", \"2010-09-20\", \"2010-09-21\", \"2010-09-22\", \"2010-09-23\", \"2010-09-24\", \"2010-09-27\", \"2010-09-28\", \"2010-09-29\", \"2010-09-30\", \"2010-10-01\", \"2010-10-04\", \"2010-10-05\", \"2010-10-06\", \"2010-10-07\", \"2010-10-08\", \"2010-10-11\", \"2010-10-12\", \"2010-10-13\", \"2010-10-14\", \"2010-10-15\", \"2010-10-18\", \"2010-10-19\", \"2010-10-20\", \"2010-10-21\", \"2010-10-22\", \"2010-10-25\", \"2010-10-26\", \"2010-10-27\", \"2010-10-28\", \"2010-10-29\", \"2010-11-01\", \"2010-11-02\", \"2010-11-03\", \"2010-11-04\", \"2010-11-05\", \"2010-11-08\", \"2010-11-09\", \"2010-11-10\", \"2010-11-11\", \"2010-11-12\", \"2010-11-15\", \"2010-11-16\", \"2010-11-17\", \"2010-11-18\", \"2010-11-19\", \"2010-11-22\", \"2010-11-23\", \"2010-11-24\", \"2010-11-26\", \"2010-11-29\", \"2010-11-30\", \"2010-12-01\", \"2010-12-02\", \"2010-12-03\", \"2010-12-06\", \"2010-12-07\", \"2010-12-08\", \"2010-12-09\", \"2010-12-10\", \"2010-12-13\", \"2010-12-14\", \"2010-12-15\", \"2010-12-16\", \"2010-12-17\", \"2010-12-20\", \"2010-12-21\", \"2010-12-22\", \"2010-12-23\", \"2010-12-27\", \"2010-12-28\", \"2010-12-29\", \"2010-12-30\", \"2010-12-31\", \"2011-01-03\", \"2011-01-04\", \"2011-01-05\", \"2011-01-06\", \"2011-01-07\", \"2011-01-10\", \"2011-01-11\", \"2011-01-12\", \"2011-01-13\", \"2011-01-14\", \"2011-01-18\", \"2011-01-19\", \"2011-01-20\", \"2011-01-21\", \"2011-01-24\", \"2011-01-25\", \"2011-01-26\", \"2011-01-27\", \"2011-01-28\", \"2011-01-31\", \"2011-02-01\", \"2011-02-02\", \"2011-02-03\", \"2011-02-04\", \"2011-02-07\", \"2011-02-08\", \"2011-02-09\", \"2011-02-10\", \"2011-02-11\", \"2011-02-14\", \"2011-02-15\", \"2011-02-16\", \"2011-02-17\", \"2011-02-18\", \"2011-02-22\", \"2011-02-23\", \"2011-02-24\", \"2011-02-25\", \"2011-02-28\", \"2011-03-01\", \"2011-03-02\", \"2011-03-03\", \"2011-03-04\", \"2011-03-07\", \"2011-03-08\", \"2011-03-09\", \"2011-03-10\", \"2011-03-11\", \"2011-03-14\", \"2011-03-15\", \"2011-03-16\", \"2011-03-17\", \"2011-03-18\", \"2011-03-21\", \"2011-03-22\", \"2011-03-23\", \"2011-03-24\", \"2011-03-25\", \"2011-03-28\", \"2011-03-29\", \"2011-03-30\", \"2011-03-31\", \"2011-04-01\", \"2011-04-04\", \"2011-04-05\", \"2011-04-06\", \"2011-04-07\", \"2011-04-08\", \"2011-04-11\", \"2011-04-12\", \"2011-04-13\", \"2011-04-14\", \"2011-04-15\", \"2011-04-18\", \"2011-04-19\", \"2011-04-20\", \"2011-04-21\", \"2011-04-25\", \"2011-04-26\", \"2011-04-27\", \"2011-04-28\", \"2011-04-29\", \"2011-05-02\", \"2011-05-03\", \"2011-05-04\", \"2011-05-05\", \"2011-05-06\", \"2011-05-09\", \"2011-05-10\", \"2011-05-11\", \"2011-05-12\", \"2011-05-13\", \"2011-05-16\", \"2011-05-17\", \"2011-05-18\", \"2011-05-19\", \"2011-05-20\", \"2011-05-23\", \"2011-05-24\", \"2011-05-25\", \"2011-05-26\", \"2011-05-27\", \"2011-05-31\", \"2011-06-01\", \"2011-06-02\", \"2011-06-03\", \"2011-06-06\", \"2011-06-07\", \"2011-06-08\", \"2011-06-09\", \"2011-06-10\", \"2011-06-13\", \"2011-06-14\", \"2011-06-15\", \"2011-06-16\", \"2011-06-17\", \"2011-06-20\", \"2011-06-21\", \"2011-06-22\", \"2011-06-23\", \"2011-06-24\", \"2011-06-27\", \"2011-06-28\", \"2011-06-29\", \"2011-06-30\", \"2011-07-01\", \"2011-07-05\", \"2011-07-06\", \"2011-07-07\", \"2011-07-08\", \"2011-07-11\", \"2011-07-12\", \"2011-07-13\", \"2011-07-14\", \"2011-07-15\", \"2011-07-18\", \"2011-07-19\", \"2011-07-20\", \"2011-07-21\", \"2011-07-22\", \"2011-07-25\", \"2011-07-26\", \"2011-07-27\", \"2011-07-28\", \"2011-07-29\", \"2011-08-01\", \"2011-08-02\", \"2011-08-03\", \"2011-08-04\", \"2011-08-05\", \"2011-08-08\", \"2011-08-09\", \"2011-08-10\", \"2011-08-11\", \"2011-08-12\", \"2011-08-15\", \"2011-08-16\", \"2011-08-17\", \"2011-08-18\", \"2011-08-19\", \"2011-08-22\", \"2011-08-23\", \"2011-08-24\", \"2011-08-25\", \"2011-08-26\", \"2011-08-29\", \"2011-08-30\", \"2011-08-31\", \"2011-09-01\", \"2011-09-02\", \"2011-09-06\", \"2011-09-07\", \"2011-09-08\", \"2011-09-09\", \"2011-09-12\", \"2011-09-13\", \"2011-09-14\", \"2011-09-15\", \"2011-09-16\", \"2011-09-19\", \"2011-09-20\", \"2011-09-21\", \"2011-09-22\", \"2011-09-23\", \"2011-09-26\", \"2011-09-27\", \"2011-09-28\", \"2011-09-29\", \"2011-09-30\", \"2011-10-03\", \"2011-10-04\", \"2011-10-05\", \"2011-10-06\", \"2011-10-07\", \"2011-10-10\", \"2011-10-11\", \"2011-10-12\", \"2011-10-13\", \"2011-10-14\", \"2011-10-17\", \"2011-10-18\", \"2011-10-19\", \"2011-10-20\", \"2011-10-21\", \"2011-10-24\", \"2011-10-25\", \"2011-10-26\", \"2011-10-27\", \"2011-10-28\", \"2011-10-31\", \"2011-11-01\", \"2011-11-02\", \"2011-11-03\", \"2011-11-04\", \"2011-11-07\", \"2011-11-08\", \"2011-11-09\", \"2011-11-10\", \"2011-11-11\", \"2011-11-14\", \"2011-11-15\", \"2011-11-16\", \"2011-11-17\", \"2011-11-18\", \"2011-11-21\", \"2011-11-22\", \"2011-11-23\", \"2011-11-25\", \"2011-11-28\", \"2011-11-29\", \"2011-11-30\", \"2011-12-01\", \"2011-12-02\", \"2011-12-05\", \"2011-12-06\", \"2011-12-07\", \"2011-12-08\", \"2011-12-09\", \"2011-12-12\", \"2011-12-13\", \"2011-12-14\", \"2011-12-15\", \"2011-12-16\", \"2011-12-19\", \"2011-12-20\", \"2011-12-21\", \"2011-12-22\", \"2011-12-23\", \"2011-12-27\", \"2011-12-28\", \"2011-12-29\", \"2011-12-30\", \"2012-01-03\", \"2012-01-04\", \"2012-01-05\", \"2012-01-06\", \"2012-01-09\", \"2012-01-10\", \"2012-01-11\", \"2012-01-12\", \"2012-01-13\", \"2012-01-17\", \"2012-01-18\", \"2012-01-19\", \"2012-01-20\", \"2012-01-23\", \"2012-01-24\", \"2012-01-25\", \"2012-01-26\", \"2012-01-27\", \"2012-01-30\", \"2012-01-31\", \"2012-02-01\", \"2012-02-02\", \"2012-02-03\", \"2012-02-06\", \"2012-02-07\", \"2012-02-08\", \"2012-02-09\", \"2012-02-10\", \"2012-02-13\", \"2012-02-14\", \"2012-02-15\", \"2012-02-16\", \"2012-02-17\", \"2012-02-21\", \"2012-02-22\", \"2012-02-23\", \"2012-02-24\", \"2012-02-27\", \"2012-02-28\", \"2012-02-29\", \"2012-03-01\", \"2012-03-02\", \"2012-03-05\", \"2012-03-06\", \"2012-03-07\", \"2012-03-08\", \"2012-03-09\", \"2012-03-12\", \"2012-03-13\", \"2012-03-14\", \"2012-03-15\", \"2012-03-16\", \"2012-03-19\", \"2012-03-20\", \"2012-03-21\", \"2012-03-22\", \"2012-03-23\", \"2012-03-26\", \"2012-03-27\", \"2012-03-28\", \"2012-03-29\", \"2012-03-30\", \"2012-04-02\", \"2012-04-03\", \"2012-04-04\", \"2012-04-05\", \"2012-04-09\", \"2012-04-10\", \"2012-04-11\", \"2012-04-12\", \"2012-04-13\", \"2012-04-16\", \"2012-04-17\", \"2012-04-18\", \"2012-04-19\", \"2012-04-20\", \"2012-04-23\", \"2012-04-24\", \"2012-04-25\", \"2012-04-26\", \"2012-04-27\", \"2012-04-30\", \"2012-05-01\", \"2012-05-02\", \"2012-05-03\", \"2012-05-04\", \"2012-05-07\", \"2012-05-08\", \"2012-05-09\", \"2012-05-10\", \"2012-05-11\", \"2012-05-14\", \"2012-05-15\", \"2012-05-16\", \"2012-05-17\", \"2012-05-18\", \"2012-05-21\", \"2012-05-22\", \"2012-05-23\", \"2012-05-24\", \"2012-05-25\", \"2012-05-29\", \"2012-05-30\", \"2012-05-31\", \"2012-06-01\", \"2012-06-04\", \"2012-06-05\", \"2012-06-06\", \"2012-06-07\", \"2012-06-08\", \"2012-06-11\", \"2012-06-12\", \"2012-06-13\", \"2012-06-14\", \"2012-06-15\", \"2012-06-18\", \"2012-06-19\", \"2012-06-20\", \"2012-06-21\", \"2012-06-22\", \"2012-06-25\", \"2012-06-26\", \"2012-06-27\", \"2012-06-28\", \"2012-06-29\", \"2012-07-02\", \"2012-07-03\", \"2012-07-05\", \"2012-07-06\", \"2012-07-09\", \"2012-07-10\", \"2012-07-11\", \"2012-07-12\", \"2012-07-13\", \"2012-07-16\", \"2012-07-17\", \"2012-07-18\", \"2012-07-19\", \"2012-07-20\", \"2012-07-23\", \"2012-07-24\", \"2012-07-25\", \"2012-07-26\", \"2012-07-27\", \"2012-07-30\", \"2012-07-31\", \"2012-08-01\", \"2012-08-02\", \"2012-08-03\", \"2012-08-06\", \"2012-08-07\", \"2012-08-08\", \"2012-08-09\", \"2012-08-10\", \"2012-08-13\", \"2012-08-14\", \"2012-08-15\", \"2012-08-16\", \"2012-08-17\", \"2012-08-20\", \"2012-08-21\", \"2012-08-22\", \"2012-08-23\", \"2012-08-24\", \"2012-08-27\", \"2012-08-28\", \"2012-08-29\", \"2012-08-30\", \"2012-08-31\", \"2012-09-04\", \"2012-09-05\", \"2012-09-06\", \"2012-09-07\", \"2012-09-10\", \"2012-09-11\", \"2012-09-12\", \"2012-09-13\", \"2012-09-14\", \"2012-09-17\", \"2012-09-18\", \"2012-09-19\", \"2012-09-20\", \"2012-09-21\", \"2012-09-24\", \"2012-09-25\", \"2012-09-26\", \"2012-09-27\", \"2012-09-28\", \"2012-10-01\", \"2012-10-02\", \"2012-10-03\", \"2012-10-04\", \"2012-10-05\", \"2012-10-08\", \"2012-10-09\", \"2012-10-10\", \"2012-10-11\", \"2012-10-12\", \"2012-10-15\", \"2012-10-16\", \"2012-10-17\", \"2012-10-18\", \"2012-10-19\", \"2012-10-22\", \"2012-10-23\", \"2012-10-24\", \"2012-10-25\", \"2012-10-26\", \"2012-10-31\", \"2012-11-01\", \"2012-11-02\", \"2012-11-05\", \"2012-11-06\", \"2012-11-07\", \"2012-11-08\", \"2012-11-09\", \"2012-11-12\", \"2012-11-13\", \"2012-11-14\", \"2012-11-15\", \"2012-11-16\", \"2012-11-19\", \"2012-11-20\", \"2012-11-21\", \"2012-11-23\", \"2012-11-26\", \"2012-11-27\", \"2012-11-28\", \"2012-11-29\", \"2012-11-30\", \"2012-12-03\", \"2012-12-04\", \"2012-12-05\", \"2012-12-06\", \"2012-12-07\", \"2012-12-10\", \"2012-12-11\", \"2012-12-12\", \"2012-12-13\", \"2012-12-14\", \"2012-12-17\", \"2012-12-18\", \"2012-12-19\", \"2012-12-20\", \"2012-12-21\", \"2012-12-24\", \"2012-12-26\", \"2012-12-27\", \"2012-12-28\", \"2012-12-31\", \"2013-01-02\", \"2013-01-03\", \"2013-01-04\", \"2013-01-07\", \"2013-01-08\", \"2013-01-09\", \"2013-01-10\", \"2013-01-11\", \"2013-01-14\", \"2013-01-15\", \"2013-01-16\", \"2013-01-17\", \"2013-01-18\", \"2013-01-22\", \"2013-01-23\", \"2013-01-24\", \"2013-01-25\", \"2013-01-28\", \"2013-01-29\", \"2013-01-30\", \"2013-01-31\", \"2013-02-01\", \"2013-02-04\", \"2013-02-05\", \"2013-02-06\", \"2013-02-07\", \"2013-02-08\", \"2013-02-11\", \"2013-02-12\", \"2013-02-13\", \"2013-02-14\", \"2013-02-15\", \"2013-02-19\", \"2013-02-20\", \"2013-02-21\", \"2013-02-22\", \"2013-02-25\", \"2013-02-26\", \"2013-02-27\", \"2013-02-28\", \"2013-03-01\", \"2013-03-04\", \"2013-03-05\", \"2013-03-06\", \"2013-03-07\", \"2013-03-08\", \"2013-03-11\", \"2013-03-12\", \"2013-03-13\", \"2013-03-14\", \"2013-03-15\", \"2013-03-18\", \"2013-03-19\", \"2013-03-20\", \"2013-03-21\", \"2013-03-22\", \"2013-03-25\", \"2013-03-26\", \"2013-03-27\", \"2013-03-28\", \"2013-04-01\", \"2013-04-02\", \"2013-04-03\", \"2013-04-04\", \"2013-04-05\", \"2013-04-08\", \"2013-04-09\", \"2013-04-10\", \"2013-04-11\", \"2013-04-12\", \"2013-04-15\", \"2013-04-16\", \"2013-04-17\", \"2013-04-18\", \"2013-04-19\", \"2013-04-22\", \"2013-04-23\", \"2013-04-24\", \"2013-04-25\", \"2013-04-26\", \"2013-04-29\", \"2013-04-30\", \"2013-05-01\", \"2013-05-02\", \"2013-05-03\", \"2013-05-06\", \"2013-05-07\", \"2013-05-08\", \"2013-05-09\", \"2013-05-10\", \"2013-05-13\", \"2013-05-14\", \"2013-05-15\", \"2013-05-16\", \"2013-05-17\", \"2013-05-20\", \"2013-05-21\", \"2013-05-22\", \"2013-05-23\", \"2013-05-24\", \"2013-05-28\", \"2013-05-29\", \"2013-05-30\", \"2013-05-31\", \"2013-06-03\", \"2013-06-04\", \"2013-06-05\", \"2013-06-06\", \"2013-06-07\", \"2013-06-10\", \"2013-06-11\", \"2013-06-12\", \"2013-06-13\", \"2013-06-14\", \"2013-06-17\", \"2013-06-18\", \"2013-06-19\", \"2013-06-20\", \"2013-06-21\", \"2013-06-24\", \"2013-06-25\", \"2013-06-26\", \"2013-06-27\", \"2013-06-28\", \"2013-07-01\", \"2013-07-02\", \"2013-07-03\", \"2013-07-05\", \"2013-07-08\", \"2013-07-09\", \"2013-07-10\", \"2013-07-11\", \"2013-07-12\", \"2013-07-15\", \"2013-07-16\", \"2013-07-17\", \"2013-07-18\", \"2013-07-19\", \"2013-07-22\", \"2013-07-23\", \"2013-07-24\", \"2013-07-25\", \"2013-07-26\", \"2013-07-29\", \"2013-07-30\", \"2013-07-31\", \"2013-08-01\", \"2013-08-02\", \"2013-08-05\", \"2013-08-06\", \"2013-08-07\", \"2013-08-08\", \"2013-08-09\", \"2013-08-12\", \"2013-08-13\", \"2013-08-14\", \"2013-08-15\", \"2013-08-16\", \"2013-08-19\", \"2013-08-20\", \"2013-08-21\", \"2013-08-22\", \"2013-08-23\", \"2013-08-26\", \"2013-08-27\", \"2013-08-28\", \"2013-08-29\", \"2013-08-30\", \"2013-09-03\", \"2013-09-04\", \"2013-09-05\", \"2013-09-06\", \"2013-09-09\", \"2013-09-10\", \"2013-09-11\", \"2013-09-12\", \"2013-09-13\", \"2013-09-16\", \"2013-09-17\", \"2013-09-18\", \"2013-09-19\", \"2013-09-20\", \"2013-09-23\", \"2013-09-24\", \"2013-09-25\", \"2013-09-26\", \"2013-09-27\", \"2013-09-30\", \"2013-10-01\", \"2013-10-02\", \"2013-10-03\", \"2013-10-04\", \"2013-10-07\", \"2013-10-08\", \"2013-10-09\", \"2013-10-10\", \"2013-10-11\", \"2013-10-14\", \"2013-10-15\", \"2013-10-16\", \"2013-10-17\", \"2013-10-18\", \"2013-10-21\", \"2013-10-22\", \"2013-10-23\", \"2013-10-24\", \"2013-10-25\", \"2013-10-28\", \"2013-10-29\", \"2013-10-30\", \"2013-10-31\", \"2013-11-01\", \"2013-11-04\", \"2013-11-05\", \"2013-11-06\", \"2013-11-07\", \"2013-11-08\", \"2013-11-11\", \"2013-11-12\", \"2013-11-13\", \"2013-11-14\", \"2013-11-15\", \"2013-11-18\", \"2013-11-19\", \"2013-11-20\", \"2013-11-21\", \"2013-11-22\", \"2013-11-25\", \"2013-11-26\", \"2013-11-27\", \"2013-11-29\", \"2013-12-02\", \"2013-12-03\", \"2013-12-04\", \"2013-12-05\", \"2013-12-06\", \"2013-12-09\", \"2013-12-10\", \"2013-12-11\", \"2013-12-12\", \"2013-12-13\", \"2013-12-16\", \"2013-12-17\", \"2013-12-18\", \"2013-12-19\", \"2013-12-20\", \"2013-12-23\", \"2013-12-24\", \"2013-12-26\", \"2013-12-27\", \"2013-12-30\", \"2013-12-31\", \"2014-01-02\", \"2014-01-03\", \"2014-01-06\", \"2014-01-07\", \"2014-01-08\", \"2014-01-09\", \"2014-01-10\", \"2014-01-13\", \"2014-01-14\", \"2014-01-15\", \"2014-01-16\", \"2014-01-17\", \"2014-01-21\", \"2014-01-22\", \"2014-01-23\", \"2014-01-24\", \"2014-01-27\", \"2014-01-28\", \"2014-01-29\", \"2014-01-30\", \"2014-01-31\", \"2014-02-03\", \"2014-02-04\", \"2014-02-05\", \"2014-02-06\", \"2014-02-07\", \"2014-02-10\", \"2014-02-11\", \"2014-02-12\", \"2014-02-13\", \"2014-02-14\", \"2014-02-18\", \"2014-02-19\", \"2014-02-20\", \"2014-02-21\", \"2014-02-24\", \"2014-02-25\", \"2014-02-26\", \"2014-02-27\", \"2014-02-28\", \"2014-03-03\", \"2014-03-04\", \"2014-03-05\", \"2014-03-06\", \"2014-03-07\", \"2014-03-10\", \"2014-03-11\", \"2014-03-12\", \"2014-03-13\", \"2014-03-14\", \"2014-03-17\", \"2014-03-18\", \"2014-03-19\", \"2014-03-20\", \"2014-03-21\", \"2014-03-24\", \"2014-03-25\", \"2014-03-26\", \"2014-03-27\", \"2014-03-28\", \"2014-03-31\", \"2014-04-01\", \"2014-04-02\", \"2014-04-03\", \"2014-04-04\", \"2014-04-07\", \"2014-04-08\", \"2014-04-09\", \"2014-04-10\", \"2014-04-11\", \"2014-04-14\", \"2014-04-15\", \"2014-04-16\", \"2014-04-17\", \"2014-04-21\", \"2014-04-22\", \"2014-04-23\", \"2014-04-24\", \"2014-04-25\", \"2014-04-28\", \"2014-04-29\", \"2014-04-30\", \"2014-05-01\", \"2014-05-02\", \"2014-05-05\", \"2014-05-06\", \"2014-05-07\", \"2014-05-08\", \"2014-05-09\", \"2014-05-12\", \"2014-05-13\", \"2014-05-14\", \"2014-05-15\", \"2014-05-16\", \"2014-05-19\", \"2014-05-20\", \"2014-05-21\", \"2014-05-22\", \"2014-05-23\", \"2014-05-27\", \"2014-05-28\", \"2014-05-29\", \"2014-05-30\", \"2014-06-02\", \"2014-06-03\", \"2014-06-04\", \"2014-06-05\", \"2014-06-06\", \"2014-06-09\", \"2014-06-10\", \"2014-06-11\", \"2014-06-12\", \"2014-06-13\", \"2014-06-16\", \"2014-06-17\", \"2014-06-18\", \"2014-06-19\", \"2014-06-20\", \"2014-06-23\", \"2014-06-24\", \"2014-06-25\", \"2014-06-26\", \"2014-06-27\", \"2014-06-30\", \"2014-07-01\", \"2014-07-02\", \"2014-07-03\", \"2014-07-07\", \"2014-07-08\", \"2014-07-09\", \"2014-07-10\", \"2014-07-11\", \"2014-07-14\", \"2014-07-15\", \"2014-07-16\", \"2014-07-17\", \"2014-07-18\", \"2014-07-21\", \"2014-07-22\", \"2014-07-23\", \"2014-07-24\", \"2014-07-25\", \"2014-07-28\", \"2014-07-29\", \"2014-07-30\", \"2014-07-31\", \"2014-08-01\", \"2014-08-04\", \"2014-08-05\", \"2014-08-06\", \"2014-08-07\", \"2014-08-08\", \"2014-08-11\", \"2014-08-12\", \"2014-08-13\", \"2014-08-14\", \"2014-08-15\", \"2014-08-18\", \"2014-08-19\", \"2014-08-20\", \"2014-08-21\", \"2014-08-22\", \"2014-08-25\", \"2014-08-26\", \"2014-08-27\", \"2014-08-28\", \"2014-08-29\", \"2014-09-02\", \"2014-09-03\", \"2014-09-04\", \"2014-09-05\", \"2014-09-08\", \"2014-09-09\", \"2014-09-10\", \"2014-09-11\", \"2014-09-12\", \"2014-09-15\", \"2014-09-16\", \"2014-09-17\", \"2014-09-18\", \"2014-09-19\", \"2014-09-22\", \"2014-09-23\", \"2014-09-24\", \"2014-09-25\", \"2014-09-26\", \"2014-09-29\", \"2014-09-30\", \"2014-10-01\", \"2014-10-02\", \"2014-10-03\", \"2014-10-06\", \"2014-10-07\", \"2014-10-08\", \"2014-10-09\", \"2014-10-10\", \"2014-10-13\", \"2014-10-14\", \"2014-10-15\", \"2014-10-16\", \"2014-10-17\", \"2014-10-20\", \"2014-10-21\", \"2014-10-22\", \"2014-10-23\", \"2014-10-24\", \"2014-10-27\", \"2014-10-28\", \"2014-10-29\", \"2014-10-30\", \"2014-10-31\", \"2014-11-03\", \"2014-11-04\", \"2014-11-05\", \"2014-11-06\", \"2014-11-07\", \"2014-11-10\", \"2014-11-11\", \"2014-11-12\", \"2014-11-13\", \"2014-11-14\", \"2014-11-17\", \"2014-11-18\", \"2014-11-19\", \"2014-11-20\", \"2014-11-21\", \"2014-11-24\", \"2014-11-25\", \"2014-11-26\", \"2014-11-28\", \"2014-12-01\", \"2014-12-02\", \"2014-12-03\", \"2014-12-04\", \"2014-12-05\", \"2014-12-08\", \"2014-12-09\", \"2014-12-10\", \"2014-12-11\", \"2014-12-12\", \"2014-12-15\", \"2014-12-16\", \"2014-12-17\", \"2014-12-18\", \"2014-12-19\", \"2014-12-22\", \"2014-12-23\", \"2014-12-24\", \"2014-12-26\", \"2014-12-29\", \"2014-12-30\", \"2014-12-31\", \"2015-01-02\", \"2015-01-05\", \"2015-01-06\", \"2015-01-07\", \"2015-01-08\", \"2015-01-09\", \"2015-01-12\", \"2015-01-13\", \"2015-01-14\", \"2015-01-15\", \"2015-01-16\", \"2015-01-20\", \"2015-01-21\", \"2015-01-22\", \"2015-01-23\", \"2015-01-26\", \"2015-01-27\", \"2015-01-28\", \"2015-01-29\", \"2015-01-30\", \"2015-02-02\", \"2015-02-03\", \"2015-02-04\", \"2015-02-05\", \"2015-02-06\", \"2015-02-09\", \"2015-02-10\", \"2015-02-11\", \"2015-02-12\", \"2015-02-13\", \"2015-02-17\", \"2015-02-18\", \"2015-02-19\", \"2015-02-20\", \"2015-02-23\", \"2015-02-24\", \"2015-02-25\", \"2015-02-26\", \"2015-02-27\", \"2015-03-02\", \"2015-03-03\", \"2015-03-04\", \"2015-03-05\", \"2015-03-06\", \"2015-03-09\", \"2015-03-10\", \"2015-03-11\", \"2015-03-12\", \"2015-03-13\", \"2015-03-16\", \"2015-03-17\", \"2015-03-18\", \"2015-03-19\", \"2015-03-20\", \"2015-03-23\", \"2015-03-24\", \"2015-03-25\", \"2015-03-26\", \"2015-03-27\", \"2015-03-30\", \"2015-03-31\", \"2015-04-01\", \"2015-04-02\", \"2015-04-06\", \"2015-04-07\", \"2015-04-08\", \"2015-04-09\", \"2015-04-10\", \"2015-04-13\", \"2015-04-14\", \"2015-04-15\", \"2015-04-16\", \"2015-04-17\", \"2015-04-20\", \"2015-04-21\", \"2015-04-22\", \"2015-04-23\", \"2015-04-24\", \"2015-04-27\", \"2015-04-28\", \"2015-04-29\", \"2015-04-30\", \"2015-05-01\", \"2015-05-04\", \"2015-05-05\", \"2015-05-06\", \"2015-05-07\", \"2015-05-08\", \"2015-05-11\", \"2015-05-12\", \"2015-05-13\", \"2015-05-14\", \"2015-05-15\", \"2015-05-18\", \"2015-05-19\", \"2015-05-20\", \"2015-05-21\", \"2015-05-22\", \"2015-05-26\", \"2015-05-27\", \"2015-05-28\", \"2015-05-29\", \"2015-06-01\", \"2015-06-02\", \"2015-06-03\", \"2015-06-04\", \"2015-06-05\", \"2015-06-08\", \"2015-06-09\", \"2015-06-10\", \"2015-06-11\", \"2015-06-12\", \"2015-06-15\", \"2015-06-16\", \"2015-06-17\", \"2015-06-18\", \"2015-06-19\", \"2015-06-22\", \"2015-06-23\", \"2015-06-24\", \"2015-06-25\", \"2015-06-26\", \"2015-06-29\", \"2015-06-30\", \"2015-07-01\", \"2015-07-02\", \"2015-07-06\", \"2015-07-07\", \"2015-07-08\", \"2015-07-09\", \"2015-07-10\", \"2015-07-13\", \"2015-07-14\", \"2015-07-15\", \"2015-07-16\", \"2015-07-17\", \"2015-07-20\", \"2015-07-21\", \"2015-07-22\", \"2015-07-23\", \"2015-07-24\", \"2015-07-27\", \"2015-07-28\", \"2015-07-29\", \"2015-07-30\", \"2015-07-31\", \"2015-08-03\", \"2015-08-04\", \"2015-08-05\", \"2015-08-06\", \"2015-08-07\", \"2015-08-10\", \"2015-08-11\", \"2015-08-12\", \"2015-08-13\", \"2015-08-14\", \"2015-08-17\", \"2015-08-18\", \"2015-08-19\", \"2015-08-20\", \"2015-08-21\", \"2015-08-24\", \"2015-08-25\", \"2015-08-26\", \"2015-08-27\", \"2015-08-28\", \"2015-08-31\", \"2015-09-01\", \"2015-09-02\", \"2015-09-03\", \"2015-09-04\", \"2015-09-08\", \"2015-09-09\", \"2015-09-10\", \"2015-09-11\", \"2015-09-14\", \"2015-09-15\", \"2015-09-16\", \"2015-09-17\", \"2015-09-18\", \"2015-09-21\", \"2015-09-22\", \"2015-09-23\", \"2015-09-24\", \"2015-09-25\", \"2015-09-28\", \"2015-09-29\", \"2015-09-30\", \"2015-10-01\", \"2015-10-02\", \"2015-10-05\", \"2015-10-06\", \"2015-10-07\", \"2015-10-08\", \"2015-10-09\", \"2015-10-12\", \"2015-10-13\", \"2015-10-14\", \"2015-10-15\", \"2015-10-16\", \"2015-10-19\", \"2015-10-20\", \"2015-10-21\", \"2015-10-22\", \"2015-10-23\", \"2015-10-26\", \"2015-10-27\", \"2015-10-28\", \"2015-10-29\", \"2015-10-30\", \"2015-11-02\", \"2015-11-03\", \"2015-11-04\", \"2015-11-05\", \"2015-11-06\", \"2015-11-09\", \"2015-11-10\", \"2015-11-11\", \"2015-11-12\", \"2015-11-13\", \"2015-11-16\", \"2015-11-17\", \"2015-11-18\", \"2015-11-19\", \"2015-11-20\", \"2015-11-23\", \"2015-11-24\", \"2015-11-25\", \"2015-11-27\", \"2015-11-30\", \"2015-12-01\", \"2015-12-02\", \"2015-12-03\", \"2015-12-04\", \"2015-12-07\", \"2015-12-08\", \"2015-12-09\", \"2015-12-10\", \"2015-12-11\", \"2015-12-14\", \"2015-12-15\", \"2015-12-16\", \"2015-12-17\", \"2015-12-18\", \"2015-12-21\", \"2015-12-22\", \"2015-12-23\", \"2015-12-24\", \"2015-12-28\", \"2015-12-29\", \"2015-12-30\", \"2015-12-31\"], \"y\": [492.9, 483.8, 486.2, 486.2, 483.9, 485.4, 489.8, 490.3, 489.2, 484.3, 483.8, 479.4, 456.9, 460.0, 460.1, 462.3, 470.1, 468.7, 468.2, 465.8, 463.3, 451.8, 450.6, 451.7, 450.5, 453.6, 457.9, 459.6, 456.8, 461.2, 462.5, 464.4, 462.4, 461.7, 468.8, 468.0, 468.5, 467.8, 463.7, 465.3, 460.5, 459.2, 460.9, 464.0, 466.8, 464.9, 469.9, 468.4, 471.8, 470.1, 473.2, 474.1, 474.0, 472.2, 476.7, 477.7, 478.1, 476.4, 476.0, 476.3, 472.8, 472.3, 474.1, 482.1, 482.6, 478.5, 476.6, 479.3, 474.7, 476.0, 480.5, 483.5, 484.8, 482.3, 483.0, 480.1, 480.0, 474.6, 477.5, 481.5, 499.5, 494.6, 496.0, 498.5, 493.8, 503.7, 501.6, 503.5, 503.0, 494.8, 489.9, 495.1, 495.4, 488.3, 487.3, 488.0, 488.4, 485.3, 486.6, 490.7, 495.7, 490.2, 493.0, 498.3, 501.4, 496.2, 497.6, 499.5, 499.5, 497.7, 493.3, 482.1, 478.0, 486.8, 483.6, 478.2, 480.1, 483.7, 481.7, 477.4, 483.0, 477.6, 478.5, 488.6, 482.5, 489.7, 490.1, 492.7, 490.8, 493.4, 496.0, 488.3, 478.7, 475.8, 464.0, 465.5, 472.5, 471.1, 469.3, 474.6, 474.5, 475.3, 473.1, 483.3, 483.1, 485.1, 487.2, 484.7, 485.0, 482.3, 483.1, 478.3, 479.7, 476.4, 477.2, 484.1, 485.3, 485.7, 486.0, 484.9, 484.2, 485.8, 487.2, 486.4, 491.2, 492.6, 495.2, 493.5, 493.7, 494.2, 491.3, 485.5, 487.2, 489.2, 489.9, 493.0, 492.9, 491.9, 495.9, 497.0, 499.0, 497.5, 495.0, 500.8, 502.3, 499.7, 499.3, 496.7, 494.9, 500.9, 510.3, 509.9, 510.5, 510.8, 508.2, 503.8, 501.8, 503.8, 501.5, 500.5, 501.9, 498.7, 499.1, 506.2, 504.7, 508.7, 508.3, 503.6, 501.2, 501.6, 500.9, 497.4, 495.9, 502.2, 504.8, 505.7, 506.1, 506.3, 506.9, 507.5, 504.7, 506.6, 508.0, 507.3, 506.1, 507.7, 503.1, 498.9, 495.6, 498.6, 495.9, 493.8, 500.0, 505.1, 507.8, 507.1, 518.5, 528.8, 522.5, 523.2, 531.1, 540.7, 554.4, 552.3, 551.6, 547.6, 545.5, 551.2, 564.1, 558.8, 557.0, 552.5, 550.6, 547.7, 550.5, 545.7, 541.3, 541.7, 543.8, 547.7, 543.9, 543.9, 545.0, 546.8, 544.9, 548.3, 539.3, 546.7, 540.6, 542.7, 551.3, 547.3, 546.6, 547.5, 549.5, 549.5, 544.4, 534.0, 534.3, 537.1, 541.8, 542.1, 541.0, 541.9, 537.5, 535.9, 537.7, 526.8, 506.0, 503.7, 510.8, 499.7, 492.5, 505.8, 502.2, 505.0, 503.3, 503.6, 487.5, 490.8, 501.3, 495.3, 500.6, 506.4, 520.3, 518.4, 517.2, 515.4, 510.6, 509.6, 514.0, 513.4, 510.5, 514.1, 513.6, 515.7, 515.8, 524.0, 518.0, 516.5, 516.0, 529.3, 525.3, 529.9, 530.9, 534.2, 531.1, 528.1, 538.0, 535.6, 533.7, 536.2, 542.0, 543.0, 539.5, 540.9, 538.8, 537.2, 541.2, 532.0, 531.1, 528.6, 527.9, 549.1, 548.0, 550.0, 548.4, 550.8, 550.1, 549.3, 551.2, 549.1, 552.0, 544.9, 545.1, 541.5, 539.0, 533.3, 525.2, 533.3, 534.7, 526.0, 536.8, 536.7, 539.8, 539.6, 542.6, 534.4, 536.6, 524.1, 516.9, 511.5, 518.1, 518.1, 512.9, 516.4, 518.6, 515.0, 517.0, 516.0, 510.0, 514.1, 528.4, 525.2, 521.9, 524.6, 516.0, 511.3, 507.3, 508.6, 493.1, 492.12, 478.1, 469.7, 471.9, 465.7, 468.5, 472.4, 457.2, 483.5, 485.9, 494.9, 469.0, 470.0, 465.4, 456.6, 456.1, 475.5, 488.1, 483.9, 480.6, 484.3, 483.5, 485.0, 477.9, 461.4, 469.5, 462.3, 468.8, 472.1, 460.0, 456.6, 454.8, 453.0, 460.1, 457.6, 463.6, 466.4, 460.3, 483.7, 482.7, 472.0, 475.1, 465.9, 463.1, 465.5, 468.8, 466.7, 477.2, 478.6, 478.9, 476.3, 483.0, 478.0, 476.2, 471.4, 483.2, 478.7, 462.4, 447.9, 446.6, 438.3, 423.6, 426.1, 424.4, 418.2, 412.3, 426.3, 426.9, 421.1, 419.0, 385.1, 377.3, 359.0, 350.8, 334.1, 329.0, 331.0, 335.7, 359.0, 360.4, 345.8, 340.0, 320.0, 314.0, 307.3, 317.0, 307.0, 303.2, 322.9, 322.9, 333.0, 330.6, 325.5, 336.9, 343.5, 343.1, 347.7, 332.3, 314.7, 310.1, 307.0, 307.7, 303.8, 302.1, 298.9, 302.4, 309.8, 304.5, 295.6, 292.9, 294.4, 289.2, 289.3, 282.4, 282.6, 271.4, 274.9, 281.1, 285.6, 290.6, 269.4, 262.4, 249.6, 244.5, 244.0, 263.6, 273.3, 266.4, 276.5, 279.1, 278.8, 281.7, 296.9, 292.2, 270.5, 269.2, 267.0, 260.3, 258.1, 262.1, 263.4, 257.4, 254.8, 253.2, 254.9, 250.5, 251.2, 247.4, 249.5, 257.2, 250.1, 237.1, 230.9, 221.0, 221.5, 211.7, 209.1, 196.9, 214.9, 212.1, 210.7, 197.8, 186.2, 207.1, 204.1, 225.0, 232.7, 234.2, 220.5, 217.9, 208.3, 214.2, 238.4, 240.2, 243.6, 240.8, 246.0, 237.6, 235.8, 237.1, 233.6, 225.1, 228.0, 234.4, 240.3, 251.1, 250.3, 251.2, 246.3, 257.6, 266.0, 268.1, 263.2, 252.7, 259.9, 263.9, 257.5, 258.7, 244.8, 243.0, 236.3, 236.4, 230.3, 232.5, 237.3, 231.2, 229.9, 221.1, 210.6, 217.2, 211.2, 216.6, 216.0, 220.4, 218.9, 214.6, 214.2, 210.8, 212.2, 200.6, 196.0, 202.6, 192.1, 198.9, 204.8, 208.3, 204.6, 204.0, 201.7, 193.0, 185.5, 188.5, 188.5, 176.7, 172.5, 167.6, 171.3, 168.4, 168.2, 164.0, 173.9, 164.4, 162.8, 161.9, 152.2, 145.6, 164.7, 179.7, 193.5, 196.9, 208.9, 211.2, 190.6, 188.5, 174.3, 184.5, 188.1, 186.9, 188.7, 188.3, 199.2, 197.0, 184.7, 193.9, 198.2, 185.4, 178.1, 180.8, 185.5, 176.2, 171.9, 174.9, 174.7, 181.4, 176.1, 178.4, 181.2, 190.8, 189.9, 191.1, 196.1, 183.0, 190.7, 203.2, 188.8, 186.8, 186.1, 179.6, 152.4, 157.5, 140.3, 166.5, 206.5, 200.1, 199.9, 189.6, 194.1, 201.5, 177.5, 205.1, 230.0, 225.0, 183.5, 174.1, 151.5, 144.0, 129.3, 141.1, 157.5, 186.2, 162.3, 159.0, 148.8, 150.9, 141.8, 133.2, 131.1, 121.4, 117.3, 134.7, 129.1, 131.1, 136.5, 139.9, 146.8, 126.3, 115.2, 118.2, 112.1, 108.0, 96.4, 94.5, 95.2, 88.9, 83.6, 64.0, 47.1, 37.7, 59.5, 60.8, 70.5, 82.9, 64.5, 72.2, 78.2, 74.0, 77.1, 84.7, 85.4, 83.0, 75.7, 77.0, 74.0, 82.3, 78.3, 74.3, 70.2, 67.5, 65.2, 67.8, 67.3, 65.7, 68.0, 67.1, 71.4, 70.8, 74.6, 71.5, 71.6, 67.5, 56.0, 59.0, 45.3, 38.3, 35.0, 28.0, 36.7, 31.1, 34.7, 33.3, 35.5, 42.1, 39.0, 35.5, 36.5, 34.6, 34.9, 35.3, 39.1, 39.5, 33.5, 36.9, 36.1, 34.9, 30.6, 29.1, 25.1, 19.5, 21.4, 26.0, 25.2, 24.6, 15.0, 12.0, 12.2, 11.3, 10.2, 10.3, 10.5, 14.5, 15.4, 16.7, 17.8, 23.3, 25.1, 30.8, 26.0, 26.2, 31.3, 30.1, 29.5, 28.1, 26.2, 23.1, 25.3, 26.8, 27.4, 28.5, 27.2, 27.6, 27.0, 30.4, 38.0, 40.1, 39.7, 40.1, 36.5, 29.4, 32.4, 32.5, 32.0, 31.9, 30.7, 28.9, 31.2, 30.5, 29.7, 32.0, 33.1, 38.6, 38.1, 40.2, 38.6, 36.6, 34.1, 35.5, 34.8, 36.4, 37.7, 36.9, 37.2, 36.7, 37.7, 37.0, 36.7, 37.2, 36.9, 35.1, 33.9, 35.7, 34.6, 34.2, 34.1, 34.8, 34.8, 34.7, 33.7, 32.5, 30.8, 31.3, 31.7, 30.0, 30.1, 30.4, 30.3, 30.3, 30.2, 29.7, 29.7, 28.8, 27.9, 26.9, 26.2, 26.9, 25.9, 27.8, 29.2, 31.7, 30.3, 30.2, 27.9, 26.5, 28.0, 27.7, 27.3, 26.9, 29.7, 32.2, 31.4, 31.7, 31.8, 32.5, 35.8, 38.0, 38.5, 39.4, 36.9, 39.8, 40.6, 40.4, 40.0, 41.4, 41.3, 44.8, 47.0, 48.2, 47.5, 46.3, 50.5, 52.3, 50.0, 45.4, 45.6, 47.7, 48.5, 46.8, 46.6, 47.5, 46.1, 45.2, 41.2, 42.0, 44.2, 42.6, 44.3, 46.5, 45.2, 44.3, 43.8, 45.7, 47.0, 48.4, 45.3, 45.2, 46.7, 46.7, 46.4, 46.5, 46.3, 47.7, 48.3, 50.0, 47.5, 45.9, 45.4, 44.3, 44.2, 44.6, 44.6, 42.7, 42.7, 40.8, 43.1, 40.9, 39.9, 40.4, 39.7, 40.6, 40.6, 41.9, 41.8, 41.6, 40.6, 40.5, 41.8, 42.4, 42.9, 42.6, 42.0, 42.8, 42.1, 41.7, 40.6, 41.1, 41.0, 41.0, 40.5, 40.6, 40.3, 39.1, 38.6, 38.7, 39.5, 37.0, 35.6, 34.5, 32.0, 34.0, 34.2, 33.4, 32.9, 33.5, 33.9, 33.7, 33.2, 33.1, 34.0, 35.3, 36.4, 36.5, 35.9, 36.3, 35.2, 35.0, 35.1, 34.2, 35.4, 34.6, 32.7, 32.5, 32.3, 31.5, 32.0, 32.4, 33.2, 33.4, 34.1, 33.7, 31.8, 32.2, 31.5, 31.8, 32.0, 32.1, 31.8, 33.1, 34.1, 34.3, 34.2, 34.6, 33.5, 34.5, 33.9, 34.0, 33.9, 34.0, 34.0, 34.3, 35.0, 35.6, 38.2, 39.6, 41.8, 39.7, 38.9, 40.5, 40.5, 40.2, 39.0, 40.4, 41.3, 41.5, 42.7, 43.1, 41.8, 40.9, 40.5, 41.8, 42.6, 42.9, 43.6, 44.7, 45.5, 46.4, 46.2, 49.3, 48.1, 45.6, 48.8, 49.7, 49.3, 48.7, 48.6, 46.1, 43.4, 44.5, 45.6, 43.7, 44.1, 42.6, 41.8, 40.4, 40.0, 42.2, 41.7, 41.8, 40.9, 39.8, 38.6, 37.3, 38.1, 36.3, 37.5, 37.8, 37.8, 38.6, 40.2, 39.6, 38.5, 39.2, 39.6, 37.9, 36.4, 37.2, 38.7, 39.0, 38.8, 38.8, 39.9, 39.9, 39.6, 40.1, 40.2, 39.4, 38.9, 37.8, 39.4, 40.0, 37.3, 37.6, 37.8, 37.9, 37.9, 39.0, 39.7, 40.4, 41.1, 43.0, 42.1, 41.6, 39.0, 39.8, 39.9, 39.4, 40.9, 40.2, 41.5, 41.6, 40.9, 41.2, 41.0, 41.9, 41.3, 41.4, 41.0, 40.6, 40.8, 40.0, 38.5, 38.7, 38.8, 38.7, 38.5, 38.6, 37.9, 37.5, 37.5, 37.1, 36.8, 36.6, 37.6, 36.7, 37.09, 38.48, 38.8, 39.1, 38.3, 38.4, 39.1, 39.1, 39.9, 39.4, 39.2, 39.7, 39.5, 39.9, 39.4, 38.8, 38.0, 39.04, 38.7, 38.82, 39.2, 39.1, 40.9, 40.3, 41.3, 41.0, 41.8, 41.9, 41.8, 42.4, 42.5, 40.6, 39.5, 41.7, 40.6, 41.1, 40.7, 41.1, 42.1, 41.8, 41.7, 41.7, 41.7, 41.5, 41.7, 41.9, 43.3, 44.9, 44.38, 43.0, 44.2, 43.6, 42.9, 43.2, 42.2, 41.9, 43.0, 42.68, 41.8, 41.0, 41.68, 41.1, 41.5, 42.0, 43.0, 44.2, 44.5, 44.5, 46.2, 46.4, 46.88, 47.7, 48.1, 46.9, 45.9, 45.86, 47.0, 47.1, 47.4, 47.3, 46.8, 47.7, 47.8, 47.7, 47.6, 47.3, 49.0, 49.0, 49.7, 49.5, 49.4, 49.1, 49.4, 50.8, 50.4, 51.3, 48.0, 47.6, 48.0, 48.9, 48.6, 48.2, 48.1, 48.3, 47.2, 48.2, 49.0, 48.5, 48.1, 48.2, 49.0, 48.9, 48.4, 47.8, 48.8, 49.1, 49.1, 49.0, 49.4, 49.1, 46.9, 47.0, 46.9, 47.0, 46.8, 45.7, 46.0, 46.8, 45.4, 45.2, 46.4, 46.5, 45.4, 45.7, 45.4, 44.4, 43.9, 44.5, 45.0, 44.32, 44.2, 44.0, 44.3, 44.6, 44.3, 44.5, 44.5, 44.2, 44.5, 44.3, 44.7, 45.9, 45.8, 45.6, 45.3, 45.5, 45.0, 44.3, 44.2, 44.2, 45.3, 45.7, 45.5, 45.2, 45.1, 45.1, 45.9, 45.9, 44.9, 45.2, 45.15, 44.8, 4.52, 44.16, 44.2, 42.92, 42.42, 41.53, 41.19, 41.54, 41.24, 41.38, 41.02, 40.16, 40.51, 40.33, 40.22, 40.97, 41.15, 39.65, 40.01, 39.85, 38.07, 37.58, 36.81, 37.77, 37.92, 39.17, 38.78, 38.0, 37.63, 38.3, 38.16, 39.31, 39.51, 39.41, 39.59, 39.99, 40.15, 41.5, 41.64, 42.88, 42.57, 42.01, 42.63, 42.03, 39.79, 39.07, 39.47, 39.02, 38.38, 37.74, 38.02, 38.62, 40.32, 40.26, 39.91, 39.72, 38.27, 38.18, 38.34, 38.48, 37.04, 37.26, 34.81, 33.44, 27.95, 31.82, 28.49, 30.29, 29.85, 31.27, 29.94, 29.85, 27.98, 26.77, 26.06, 27.32, 28.45, 29.83, 29.84, 31.29, 30.94, 31.05, 30.0, 28.4, 27.7, 28.98, 27.98, 26.74, 26.96, 27.05, 27.39, 28.59, 28.99, 27.71, 26.93, 25.52, 23.96, 24.98, 26.72, 26.99, 25.92, 26.9, 25.62, 23.11, 24.39, 24.71, 26.02, 24.63, 26.49, 27.84, 29.2, 27.64, 28.4, 27.93, 29.88, 29.39, 30.08, 30.3, 31.6, 30.9, 31.15, 33.77, 34.16, 31.59, 29.17, 29.83, 30.78, 30.34, 30.55, 31.42, 28.85, 28.63, 29.33, 28.38, 28.02, 26.86, 26.0, 26.28, 25.0, 24.46, 23.51, 23.63, 25.05, 25.24, 27.48, 26.99, 28.17, 29.83, 29.75, 29.83, 27.75, 28.77, 27.22, 26.9, 26.05, 25.92, 26.03, 24.82, 25.95, 26.1, 27.65, 27.46, 26.9, 26.13, 26.76, 26.31, 28.33, 28.17, 28.51, 28.55, 29.08, 30.0, 31.27, 31.6, 30.74, 28.22, 29.03, 29.33, 29.64, 29.85, 29.9, 29.96, 30.38, 30.87, 30.23, 30.72, 31.6, 31.99, 33.54, 33.3, 33.07, 34.23, 33.66, 32.92, 32.88, 32.08, 31.72, 32.71, 32.92, 33.36, 32.36, 32.71, 32.35, 32.93, 33.48, 33.32, 34.13, 34.1, 33.68, 32.12, 33.24, 34.0, 34.2, 34.29, 36.45, 35.21, 36.27, 36.69, 37.17, 38.08, 37.8, 36.9, 37.14, 37.43, 36.78, 37.06, 36.51, 36.55, 36.87, 36.37, 35.04, 34.79, 33.97, 32.86, 33.58, 34.62, 33.41, 34.0, 35.08, 35.08, 34.85, 33.89, 33.25, 33.42, 33.68, 33.88, 33.5, 33.04, 33.6, 32.7, 32.48, 31.6, 31.67, 31.32, 30.45, 30.65, 29.35, 28.14, 27.79, 26.92, 26.41, 26.01, 26.25, 26.92, 27.15, 26.66, 26.47, 27.02, 26.0, 26.51, 25.39, 24.82, 25.75, 27.14, 26.91, 27.77, 26.48, 27.62, 27.67, 27.91, 28.31, 27.55, 28.5, 28.86, 27.83, 27.99, 26.75, 26.73, 27.1, 26.39, 27.41, 27.46, 27.65, 26.84, 26.36, 26.11, 25.88, 25.87, 25.28, 26.65, 26.81, 27.38, 27.1, 26.59, 25.87, 25.34, 25.24, 25.79, 26.28, 27.3, 27.14, 27.13, 26.78, 26.18, 27.4, 28.56, 28.89, 28.86, 28.86, 28.9, 28.78, 28.77, 28.74, 28.82, 29.03, 29.98, 30.73, 30.49, 29.58, 29.83, 29.69, 29.34, 29.91, 29.65, 29.71, 29.7, 29.77, 31.12, 32.07, 31.83, 32.66, 33.05, 34.45, 34.79, 34.06, 33.94, 34.18, 33.81, 33.67, 33.49, 32.86, 32.51, 32.97, 32.72, 32.75, 33.26, 34.06, 34.96, 34.77, 34.78, 34.6, 35.14, 35.52, 34.75, 36.66, 37.25, 38.43, 38.42, 37.16, 37.72, 36.89, 37.3, 37.41, 36.6, 37.39, 37.95, 37.6, 37.32, 38.47, 36.05, 36.0, 35.93, 36.42, 36.16, 35.02, 35.21, 34.98, 36.1, 36.0, 35.77, 36.03, 35.57, 35.04, 35.07, 35.21, 34.57, 34.22, 34.29, 36.46, 37.02, 37.64, 37.19, 37.0, 37.53, 37.29, 37.6, 39.15, 39.46, 39.45, 40.17, 39.49, 39.38, 39.55, 39.25, 39.01, 39.56, 41.25, 41.39, 42.43, 42.47, 42.46, 42.04, 42.83, 42.34, 42.22, 42.57, 42.48, 41.24, 41.66, 41.78, 42.02, 42.8, 42.91, 42.34, 42.16, 41.95, 42.16, 43.02, 42.21, 42.92, 43.05, 42.87, 42.68, 43.15, 44.35, 44.0, 44.32, 43.84, 44.5, 43.22, 42.35, 42.79, 41.15, 41.29, 42.16, 41.97, 42.11, 42.94, 43.6, 44.58, 45.0, 46.68, 47.6, 46.95, 46.97, 47.46, 47.26, 46.24, 45.79, 46.09, 45.23, 45.23, 44.49, 44.83, 44.46, 44.24, 43.79, 44.11, 42.5, 42.77, 43.01, 43.56, 43.89, 45.06, 44.87, 44.78, 44.87, 46.66, 45.74, 45.09, 45.03, 45.15, 46.46, 47.12, 47.11, 46.92, 46.82, 46.66, 45.87, 46.54, 46.97, 47.48, 48.11, 49.29, 48.6, 48.75, 48.92, 50.09, 51.34, 50.61, 51.45, 51.6, 51.66, 51.0, 50.53, 50.52, 51.79, 52.28, 53.27, 51.99, 51.96, 51.23, 50.03, 50.83, 51.6, 51.93, 49.95, 49.44, 50.29, 49.22, 49.36, 50.01, 49.53, 47.9, 46.87, 45.44, 47.0, 47.61, 48.28, 47.97, 48.25, 48.15, 47.67, 48.53, 49.52, 50.21, 49.63, 50.04, 50.81, 51.81, 51.83, 51.79, 52.69, 52.35, 53.0, 52.88, 52.19, 52.66, 52.21, 51.64, 51.78, 52.14, 52.86, 53.0, 52.87, 51.48, 51.5, 51.78, 51.32, 50.9, 51.77, 51.59, 50.86, 50.35, 49.33, 49.92, 49.16, 49.91, 49.83, 49.6, 48.24, 48.31, 48.47, 48.33, 49.37, 49.6, 49.86, 49.22, 50.09, 51.09, 50.73, 50.26, 50.49, 51.0, 51.2, 52.21, 51.95, 51.21, 49.57, 48.96, 49.26, 48.93, 48.89, 48.51, 48.6, 48.71, 48.4, 49.14, 48.18, 47.67, 47.95, 49.27, 49.22, 49.6, 48.86, 50.84, 51.12, 51.15, 51.03, 50.76, 50.19, 50.15, 50.06, 50.15, 50.22, 49.89, 48.78, 48.74, 48.63, 48.38, 48.62, 48.35, 49.94, 50.17, 49.52, 49.99, 50.21, 50.4, 50.79, 51.17, 50.77, 51.73, 52.41, 53.29, 53.01, 53.05, 52.92, 52.62, 52.13, 52.04, 51.06, 51.49, 52.11, 51.74, 50.71, 50.91, 50.97, 50.9, 50.69, 51.96, 51.88, 52.21, 52.41, 52.43, 52.35, 52.26, 51.92, 52.11, 52.27, 53.4, 53.81, 54.18, 54.81, 55.2, 54.72, 53.72, 53.95, 54.99, 52.6, 52.27, 51.85, 51.9, 50.72, 49.33, 48.81, 49.6, 48.08, 48.3, 47.43, 46.34, 46.78, 47.06, 48.25, 49.34, 49.32, 49.66, 49.96, 49.86, 49.52, 49.38, 48.19, 48.13, 48.26, 48.98, 48.4, 48.32, 48.69, 48.63, 47.61, 48.83, 49.42, 49.71, 49.62, 49.57, 48.43, 47.98, 47.33, 46.88, 47.73, 48.14, 48.94, 50.22, 50.08, 50.05, 50.3, 50.16, 47.45, 47.25, 47.6, 47.8, 48.24, 47.68, 47.11, 46.55, 46.6, 47.16, 46.23, 45.68, 47.67, 48.31, 48.18, 48.22, 47.84, 48.02, 48.4, 48.33, 47.75, 47.3, 48.16, 47.91, 47.76, 47.73, 47.18, 46.36, 46.7, 47.14, 46.99, 47.27, 47.42, 47.12, 46.52, 46.44, 46.77, 46.55, 46.85, 47.14, 47.29, 47.57, 47.32, 47.28, 47.57, 47.76, 48.19, 47.88, 48.63, 48.93, 49.58, 49.33, 48.81, 48.27, 47.59, 47.64, 47.79, 47.93, 47.56, 47.34, 48.06, 47.81, 47.82, 47.23, 47.14, 47.1, 47.46, 48.01, 48.24, 47.98, 47.42, 47.38, 46.9, 47.0, 48.42, 49.29, 49.82, 49.18, 49.56, 49.35, 49.6, 50.18, 50.09, 50.03, 49.7, 49.42, 50.0, 48.91, 48.1, 48.34, 47.89, 48.14, 48.06, 48.45, 48.39, 48.44, 48.75, 49.13, 48.72, 49.51, 49.7, 49.8, 51.07, 50.93, 51.63, 52.13, 51.86, 51.39, 51.65, 51.96, 52.23, 52.47, 52.3, 52.05, 51.26, 51.83, 52.23, 52.38, 52.31, 52.36, 52.39, 53.66, 53.48, 53.04, 52.84, 53.26, 51.96, 52.49, 52.05, 51.82, 51.1, 51.25, 52.32, 52.28, 51.27, 52.54, 51.14, 50.11, 49.9, 51.47, 49.68, 49.75, 50.07, 50.53, 51.27, 50.7, 51.41, 51.8, 51.59, 52.44, 52.65, 53.15, 53.53, 53.47, 53.19, 54.02, 53.99, 53.75, 53.89, 53.81, 53.42, 53.44, 53.38, 53.57, 53.81, 53.66, 53.52, 53.66, 54.4, 54.33, 54.13, 53.97, 53.35, 54.36, 55.21, 55.18, 56.08, 56.37, 55.85, 54.47, 54.51, 53.4, 52.79, 51.17, 52.45, 54.1, 54.01, 53.96, 54.42, 54.54, 54.43, 54.73, 54.84, 54.11, 54.26, 52.55, 50.7, 51.17, 51.94, 50.78, 50.38, 50.02, 49.05, 47.23, 47.61, 47.26, 47.74, 49.57, 48.62, 48.89, 48.31, 47.11, 47.62, 46.95, 47.72, 48.88, 48.4, 48.54, 49.14, 49.21, 49.39, 49.68, 50.89, 51.2, 51.69, 51.42, 51.12, 51.78, 51.32, 51.9, 52.09, 52.41, 52.42, 53.49, 53.73, 53.67, 53.56, 53.06, 52.95, 51.23, 52.33, 54.08, 53.54, 53.69, 53.84, 53.72, 52.38, 52.98, 52.48, 51.94, 51.38, 51.19, 51.0, 51.64, 51.52, 51.62, 51.86, 51.62, 51.52, 51.89, 52.13, 52.43, 52.66, 52.73, 53.21, 54.02, 53.07, 53.2, 52.48, 53.1, 53.22, 52.9, 52.8, 53.02, 53.76, 53.32, 53.76, 54.17, 53.35, 52.82, 53.31, 54.02, 53.97, 53.74, 54.2, 54.6, 54.24, 54.67, 55.33, 54.89, 54.84, 54.97, 54.24, 54.87, 54.55, 54.08, 54.45, 54.72, 55.63, 55.33, 56.24, 55.65, 56.0, 57.02, 57.21, 57.11, 56.65, 57.07, 56.54, 56.76, 56.23, 56.95, 57.39, 56.66, 56.19, 56.34, 54.88, 55.24, 55.68, 55.37, 55.08, 54.5, 52.8, 53.71, 54.56, 55.54, 55.91, 56.46, 58.59, 58.75, 58.85, 59.1, 60.34, 59.87, 58.7, 57.96, 58.37, 58.92, 58.88, 58.46, 58.44, 58.47, 58.74, 58.1, 57.91, 58.74, 57.64, 56.91, 57.33, 57.59, 57.77, 57.55, 57.0, 55.33, 53.6, 50.34, 49.88, 52.28, 53.44, 53.28, 53.48, 50.94, 51.75, 51.79, 50.59, 51.65, 50.88, 51.07, 51.1, 50.98, 52.0, 52.59, 51.65, 50.29, 50.71, 50.38, 50.12, 49.13, 50.55, 49.03, 49.0, 49.61, 49.89, 49.88, 51.16, 51.06, 51.32, 51.65, 51.38, 51.28, 51.21, 50.72, 52.97, 52.69, 52.86, 52.84, 51.81, 52.51, 53.64, 53.11, 52.61, 54.73, 53.66, 53.17, 53.83, 54.16, 53.83, 54.15, 55.87, 55.71, 55.8, 54.9, 53.46, 53.17, 53.69, 53.49, 54.98, 55.06, 54.75, 54.28, 54.18, 54.08, 54.21, 54.09, 54.88, 54.14, 53.51, 55.09, 54.4, 53.39, 52.81, 52.65, 51.11, 51.1, 52.52, 53.9, 52.84, 51.21, 51.79, 52.01, 52.63, 52.71, 52.38, 52.98, 52.3, 51.75], \"mode\": \"lines\", \"line\": {\"color\": \"rgba(62, 111, 176, 1.0)\", \"dash\": \"solid\", \"width\": 1.3}, \"text\": \"\", \"name\": \"C\"}, {\"type\": \"scatter\", \"x\": [\"2006-01-03\", \"2006-01-04\", \"2006-01-05\", \"2006-01-06\", \"2006-01-09\", \"2006-01-10\", \"2006-01-11\", \"2006-01-12\", \"2006-01-13\", \"2006-01-17\", \"2006-01-18\", \"2006-01-19\", \"2006-01-20\", \"2006-01-23\", \"2006-01-24\", \"2006-01-25\", \"2006-01-26\", \"2006-01-27\", \"2006-01-30\", \"2006-01-31\", \"2006-02-01\", \"2006-02-02\", \"2006-02-03\", \"2006-02-06\", \"2006-02-07\", \"2006-02-08\", \"2006-02-09\", \"2006-02-10\", \"2006-02-13\", \"2006-02-14\", \"2006-02-15\", \"2006-02-16\", \"2006-02-17\", \"2006-02-21\", \"2006-02-22\", \"2006-02-23\", \"2006-02-24\", \"2006-02-27\", \"2006-02-28\", \"2006-03-01\", \"2006-03-02\", \"2006-03-03\", \"2006-03-06\", \"2006-03-07\", \"2006-03-08\", \"2006-03-09\", \"2006-03-10\", \"2006-03-13\", \"2006-03-14\", \"2006-03-15\", \"2006-03-16\", \"2006-03-17\", \"2006-03-20\", \"2006-03-21\", \"2006-03-22\", \"2006-03-23\", \"2006-03-24\", \"2006-03-27\", \"2006-03-28\", \"2006-03-29\", \"2006-03-30\", \"2006-03-31\", \"2006-04-03\", \"2006-04-04\", \"2006-04-05\", \"2006-04-06\", \"2006-04-07\", \"2006-04-10\", \"2006-04-11\", \"2006-04-12\", \"2006-04-13\", \"2006-04-17\", \"2006-04-18\", \"2006-04-19\", \"2006-04-20\", \"2006-04-21\", \"2006-04-24\", \"2006-04-25\", \"2006-04-26\", \"2006-04-27\", \"2006-04-28\", \"2006-05-01\", \"2006-05-02\", \"2006-05-03\", \"2006-05-04\", \"2006-05-05\", \"2006-05-08\", \"2006-05-09\", \"2006-05-10\", \"2006-05-11\", \"2006-05-12\", \"2006-05-15\", \"2006-05-16\", \"2006-05-17\", \"2006-05-18\", \"2006-05-19\", \"2006-05-22\", \"2006-05-23\", \"2006-05-24\", \"2006-05-25\", \"2006-05-26\", \"2006-05-30\", \"2006-05-31\", \"2006-06-01\", \"2006-06-02\", \"2006-06-05\", \"2006-06-06\", \"2006-06-07\", \"2006-06-08\", \"2006-06-09\", \"2006-06-12\", \"2006-06-13\", \"2006-06-14\", \"2006-06-15\", \"2006-06-16\", \"2006-06-19\", \"2006-06-20\", \"2006-06-21\", \"2006-06-22\", \"2006-06-23\", \"2006-06-26\", \"2006-06-27\", \"2006-06-28\", \"2006-06-29\", \"2006-06-30\", \"2006-07-03\", \"2006-07-05\", \"2006-07-06\", \"2006-07-07\", \"2006-07-10\", \"2006-07-11\", \"2006-07-12\", \"2006-07-13\", \"2006-07-14\", \"2006-07-17\", \"2006-07-18\", \"2006-07-19\", \"2006-07-20\", \"2006-07-21\", \"2006-07-24\", \"2006-07-25\", \"2006-07-26\", \"2006-07-27\", \"2006-07-28\", \"2006-07-31\", \"2006-08-01\", \"2006-08-02\", \"2006-08-03\", \"2006-08-04\", \"2006-08-07\", \"2006-08-08\", \"2006-08-09\", \"2006-08-10\", \"2006-08-11\", \"2006-08-14\", \"2006-08-15\", \"2006-08-16\", \"2006-08-17\", \"2006-08-18\", \"2006-08-21\", \"2006-08-22\", \"2006-08-23\", \"2006-08-24\", \"2006-08-25\", \"2006-08-28\", \"2006-08-29\", \"2006-08-30\", \"2006-08-31\", \"2006-09-01\", \"2006-09-05\", \"2006-09-06\", \"2006-09-07\", \"2006-09-08\", \"2006-09-11\", \"2006-09-12\", \"2006-09-13\", \"2006-09-14\", \"2006-09-15\", \"2006-09-18\", \"2006-09-19\", \"2006-09-20\", \"2006-09-21\", \"2006-09-22\", \"2006-09-25\", \"2006-09-26\", \"2006-09-27\", \"2006-09-28\", \"2006-09-29\", \"2006-10-02\", \"2006-10-03\", \"2006-10-04\", \"2006-10-05\", \"2006-10-06\", \"2006-10-09\", \"2006-10-10\", \"2006-10-11\", \"2006-10-12\", \"2006-10-13\", \"2006-10-16\", \"2006-10-17\", \"2006-10-18\", \"2006-10-19\", \"2006-10-20\", \"2006-10-23\", \"2006-10-24\", \"2006-10-25\", \"2006-10-26\", \"2006-10-27\", \"2006-10-30\", \"2006-10-31\", \"2006-11-01\", \"2006-11-02\", \"2006-11-03\", \"2006-11-06\", \"2006-11-07\", \"2006-11-08\", \"2006-11-09\", \"2006-11-10\", \"2006-11-13\", \"2006-11-14\", \"2006-11-15\", \"2006-11-16\", \"2006-11-17\", \"2006-11-20\", \"2006-11-21\", \"2006-11-22\", \"2006-11-24\", \"2006-11-27\", \"2006-11-28\", \"2006-11-29\", \"2006-11-30\", \"2006-12-01\", \"2006-12-04\", \"2006-12-05\", \"2006-12-06\", \"2006-12-07\", \"2006-12-08\", \"2006-12-11\", \"2006-12-12\", \"2006-12-13\", \"2006-12-14\", \"2006-12-15\", \"2006-12-18\", \"2006-12-19\", \"2006-12-20\", \"2006-12-21\", \"2006-12-22\", \"2006-12-26\", \"2006-12-27\", \"2006-12-28\", \"2006-12-29\", \"2007-01-03\", \"2007-01-04\", \"2007-01-05\", \"2007-01-08\", \"2007-01-09\", \"2007-01-10\", \"2007-01-11\", \"2007-01-12\", \"2007-01-16\", \"2007-01-17\", \"2007-01-18\", \"2007-01-19\", \"2007-01-22\", \"2007-01-23\", \"2007-01-24\", \"2007-01-25\", \"2007-01-26\", \"2007-01-29\", \"2007-01-30\", \"2007-01-31\", \"2007-02-01\", \"2007-02-02\", \"2007-02-05\", \"2007-02-06\", \"2007-02-07\", \"2007-02-08\", \"2007-02-09\", \"2007-02-12\", \"2007-02-13\", \"2007-02-14\", \"2007-02-15\", \"2007-02-16\", \"2007-02-20\", \"2007-02-21\", \"2007-02-22\", \"2007-02-23\", \"2007-02-26\", \"2007-02-27\", \"2007-02-28\", \"2007-03-01\", \"2007-03-02\", \"2007-03-05\", \"2007-03-06\", \"2007-03-07\", \"2007-03-08\", \"2007-03-09\", \"2007-03-12\", \"2007-03-13\", \"2007-03-14\", \"2007-03-15\", \"2007-03-16\", \"2007-03-19\", \"2007-03-20\", \"2007-03-21\", \"2007-03-22\", \"2007-03-23\", \"2007-03-26\", \"2007-03-27\", \"2007-03-28\", \"2007-03-29\", \"2007-03-30\", \"2007-04-02\", \"2007-04-03\", \"2007-04-04\", \"2007-04-05\", \"2007-04-09\", \"2007-04-10\", \"2007-04-11\", \"2007-04-12\", \"2007-04-13\", \"2007-04-16\", \"2007-04-17\", \"2007-04-18\", \"2007-04-19\", \"2007-04-20\", \"2007-04-23\", \"2007-04-24\", \"2007-04-25\", \"2007-04-26\", \"2007-04-27\", \"2007-04-30\", \"2007-05-01\", \"2007-05-02\", \"2007-05-03\", \"2007-05-04\", \"2007-05-07\", \"2007-05-08\", \"2007-05-09\", \"2007-05-10\", \"2007-05-11\", \"2007-05-14\", \"2007-05-15\", \"2007-05-16\", \"2007-05-17\", \"2007-05-18\", \"2007-05-21\", \"2007-05-22\", \"2007-05-23\", \"2007-05-24\", \"2007-05-25\", \"2007-05-29\", \"2007-05-30\", \"2007-05-31\", \"2007-06-01\", \"2007-06-04\", \"2007-06-05\", \"2007-06-06\", \"2007-06-07\", \"2007-06-08\", \"2007-06-11\", \"2007-06-12\", \"2007-06-13\", \"2007-06-14\", \"2007-06-15\", \"2007-06-18\", \"2007-06-19\", \"2007-06-20\", \"2007-06-21\", \"2007-06-22\", \"2007-06-25\", \"2007-06-26\", \"2007-06-27\", \"2007-06-28\", \"2007-06-29\", \"2007-07-02\", \"2007-07-03\", \"2007-07-05\", \"2007-07-06\", \"2007-07-09\", \"2007-07-10\", \"2007-07-11\", \"2007-07-12\", \"2007-07-13\", \"2007-07-16\", \"2007-07-17\", \"2007-07-18\", \"2007-07-19\", \"2007-07-20\", \"2007-07-23\", \"2007-07-24\", \"2007-07-25\", \"2007-07-26\", \"2007-07-27\", \"2007-07-30\", \"2007-07-31\", \"2007-08-01\", \"2007-08-02\", \"2007-08-03\", \"2007-08-06\", \"2007-08-07\", \"2007-08-08\", \"2007-08-09\", \"2007-08-10\", \"2007-08-13\", \"2007-08-14\", \"2007-08-15\", \"2007-08-16\", \"2007-08-17\", \"2007-08-20\", \"2007-08-21\", \"2007-08-22\", \"2007-08-23\", \"2007-08-24\", \"2007-08-27\", \"2007-08-28\", \"2007-08-29\", \"2007-08-30\", \"2007-08-31\", \"2007-09-04\", \"2007-09-05\", \"2007-09-06\", \"2007-09-07\", \"2007-09-10\", \"2007-09-11\", \"2007-09-12\", \"2007-09-13\", \"2007-09-14\", \"2007-09-17\", \"2007-09-18\", \"2007-09-19\", \"2007-09-20\", \"2007-09-21\", \"2007-09-24\", \"2007-09-25\", \"2007-09-26\", \"2007-09-27\", \"2007-09-28\", \"2007-10-01\", \"2007-10-02\", \"2007-10-03\", \"2007-10-04\", \"2007-10-05\", \"2007-10-08\", \"2007-10-09\", \"2007-10-10\", \"2007-10-11\", \"2007-10-12\", \"2007-10-15\", \"2007-10-16\", \"2007-10-17\", \"2007-10-18\", \"2007-10-19\", \"2007-10-22\", \"2007-10-23\", \"2007-10-24\", \"2007-10-25\", \"2007-10-26\", \"2007-10-29\", \"2007-10-30\", \"2007-10-31\", \"2007-11-01\", \"2007-11-02\", \"2007-11-05\", \"2007-11-06\", \"2007-11-07\", \"2007-11-08\", \"2007-11-09\", \"2007-11-12\", \"2007-11-13\", \"2007-11-14\", \"2007-11-15\", \"2007-11-16\", \"2007-11-19\", \"2007-11-20\", \"2007-11-21\", \"2007-11-23\", \"2007-11-26\", \"2007-11-27\", \"2007-11-28\", \"2007-11-29\", \"2007-11-30\", \"2007-12-03\", \"2007-12-04\", \"2007-12-05\", \"2007-12-06\", \"2007-12-07\", \"2007-12-10\", \"2007-12-11\", \"2007-12-12\", \"2007-12-13\", \"2007-12-14\", \"2007-12-17\", \"2007-12-18\", \"2007-12-19\", \"2007-12-20\", \"2007-12-21\", \"2007-12-24\", \"2007-12-26\", \"2007-12-27\", \"2007-12-28\", \"2007-12-31\", \"2008-01-02\", \"2008-01-03\", \"2008-01-04\", \"2008-01-07\", \"2008-01-08\", \"2008-01-09\", \"2008-01-10\", \"2008-01-11\", \"2008-01-14\", \"2008-01-15\", \"2008-01-16\", \"2008-01-17\", \"2008-01-18\", \"2008-01-22\", \"2008-01-23\", \"2008-01-24\", \"2008-01-25\", \"2008-01-28\", \"2008-01-29\", \"2008-01-30\", \"2008-01-31\", \"2008-02-01\", \"2008-02-04\", \"2008-02-05\", \"2008-02-06\", \"2008-02-07\", \"2008-02-08\", \"2008-02-11\", \"2008-02-12\", \"2008-02-13\", \"2008-02-14\", \"2008-02-15\", \"2008-02-19\", \"2008-02-20\", \"2008-02-21\", \"2008-02-22\", \"2008-02-25\", \"2008-02-26\", \"2008-02-27\", \"2008-02-28\", \"2008-02-29\", \"2008-03-03\", \"2008-03-04\", \"2008-03-05\", \"2008-03-06\", \"2008-03-07\", \"2008-03-10\", \"2008-03-11\", \"2008-03-12\", \"2008-03-13\", \"2008-03-14\", \"2008-03-17\", \"2008-03-18\", \"2008-03-19\", \"2008-03-20\", \"2008-03-24\", \"2008-03-25\", \"2008-03-26\", \"2008-03-27\", \"2008-03-28\", \"2008-03-31\", \"2008-04-01\", \"2008-04-02\", \"2008-04-03\", \"2008-04-04\", \"2008-04-07\", \"2008-04-08\", \"2008-04-09\", \"2008-04-10\", \"2008-04-11\", \"2008-04-14\", \"2008-04-15\", \"2008-04-16\", \"2008-04-17\", \"2008-04-18\", \"2008-04-21\", \"2008-04-22\", \"2008-04-23\", \"2008-04-24\", \"2008-04-25\", \"2008-04-28\", \"2008-04-29\", \"2008-04-30\", \"2008-05-01\", \"2008-05-02\", \"2008-05-05\", \"2008-05-06\", \"2008-05-07\", \"2008-05-08\", \"2008-05-09\", \"2008-05-12\", \"2008-05-13\", \"2008-05-14\", \"2008-05-15\", \"2008-05-16\", \"2008-05-19\", \"2008-05-20\", \"2008-05-21\", \"2008-05-22\", \"2008-05-23\", \"2008-05-27\", \"2008-05-28\", \"2008-05-29\", \"2008-05-30\", \"2008-06-02\", \"2008-06-03\", \"2008-06-04\", \"2008-06-05\", \"2008-06-06\", \"2008-06-09\", \"2008-06-10\", \"2008-06-11\", \"2008-06-12\", \"2008-06-13\", \"2008-06-16\", \"2008-06-17\", \"2008-06-18\", \"2008-06-19\", \"2008-06-20\", \"2008-06-23\", \"2008-06-24\", \"2008-06-25\", \"2008-06-26\", \"2008-06-27\", \"2008-06-30\", \"2008-07-01\", \"2008-07-02\", \"2008-07-03\", \"2008-07-07\", \"2008-07-08\", \"2008-07-09\", \"2008-07-10\", \"2008-07-11\", \"2008-07-14\", \"2008-07-15\", \"2008-07-16\", \"2008-07-17\", \"2008-07-18\", \"2008-07-21\", \"2008-07-22\", \"2008-07-23\", \"2008-07-24\", \"2008-07-25\", \"2008-07-28\", \"2008-07-29\", \"2008-07-30\", \"2008-07-31\", \"2008-08-01\", \"2008-08-04\", \"2008-08-05\", \"2008-08-06\", \"2008-08-07\", \"2008-08-08\", \"2008-08-11\", \"2008-08-12\", \"2008-08-13\", \"2008-08-14\", \"2008-08-15\", \"2008-08-18\", \"2008-08-19\", \"2008-08-20\", \"2008-08-21\", \"2008-08-22\", \"2008-08-25\", \"2008-08-26\", \"2008-08-27\", \"2008-08-28\", \"2008-08-29\", \"2008-09-02\", \"2008-09-03\", \"2008-09-04\", \"2008-09-05\", \"2008-09-08\", \"2008-09-09\", \"2008-09-10\", \"2008-09-11\", \"2008-09-12\", \"2008-09-15\", \"2008-09-16\", \"2008-09-17\", \"2008-09-18\", \"2008-09-19\", \"2008-09-22\", \"2008-09-23\", \"2008-09-24\", \"2008-09-25\", \"2008-09-26\", \"2008-09-29\", \"2008-09-30\", \"2008-10-01\", \"2008-10-02\", \"2008-10-03\", \"2008-10-06\", \"2008-10-07\", \"2008-10-08\", \"2008-10-09\", \"2008-10-10\", \"2008-10-13\", \"2008-10-14\", \"2008-10-15\", \"2008-10-16\", \"2008-10-17\", \"2008-10-20\", \"2008-10-21\", \"2008-10-22\", \"2008-10-23\", \"2008-10-24\", \"2008-10-27\", \"2008-10-28\", \"2008-10-29\", \"2008-10-30\", \"2008-10-31\", \"2008-11-03\", \"2008-11-04\", \"2008-11-05\", \"2008-11-06\", \"2008-11-07\", \"2008-11-10\", \"2008-11-11\", \"2008-11-12\", \"2008-11-13\", \"2008-11-14\", \"2008-11-17\", \"2008-11-18\", \"2008-11-19\", \"2008-11-20\", \"2008-11-21\", \"2008-11-24\", \"2008-11-25\", \"2008-11-26\", \"2008-11-28\", \"2008-12-01\", \"2008-12-02\", \"2008-12-03\", \"2008-12-04\", \"2008-12-05\", \"2008-12-08\", \"2008-12-09\", \"2008-12-10\", \"2008-12-11\", \"2008-12-12\", \"2008-12-15\", \"2008-12-16\", \"2008-12-17\", \"2008-12-18\", \"2008-12-19\", \"2008-12-22\", \"2008-12-23\", \"2008-12-24\", \"2008-12-26\", \"2008-12-29\", \"2008-12-30\", \"2008-12-31\", \"2009-01-02\", \"2009-01-05\", \"2009-01-06\", \"2009-01-07\", \"2009-01-08\", \"2009-01-09\", \"2009-01-12\", \"2009-01-13\", \"2009-01-14\", \"2009-01-15\", \"2009-01-16\", \"2009-01-20\", \"2009-01-21\", \"2009-01-22\", \"2009-01-23\", \"2009-01-26\", \"2009-01-27\", \"2009-01-28\", \"2009-01-29\", \"2009-01-30\", \"2009-02-02\", \"2009-02-03\", \"2009-02-04\", \"2009-02-05\", \"2009-02-06\", \"2009-02-09\", \"2009-02-10\", \"2009-02-11\", \"2009-02-12\", \"2009-02-13\", \"2009-02-17\", \"2009-02-18\", \"2009-02-19\", \"2009-02-20\", \"2009-02-23\", \"2009-02-24\", \"2009-02-25\", \"2009-02-26\", \"2009-02-27\", \"2009-03-02\", \"2009-03-03\", \"2009-03-04\", \"2009-03-05\", \"2009-03-06\", \"2009-03-09\", \"2009-03-10\", \"2009-03-11\", \"2009-03-12\", \"2009-03-13\", \"2009-03-16\", \"2009-03-17\", \"2009-03-18\", \"2009-03-19\", \"2009-03-20\", \"2009-03-23\", \"2009-03-24\", \"2009-03-25\", \"2009-03-26\", \"2009-03-27\", \"2009-03-30\", \"2009-03-31\", \"2009-04-01\", \"2009-04-02\", \"2009-04-03\", \"2009-04-06\", \"2009-04-07\", \"2009-04-08\", \"2009-04-09\", \"2009-04-13\", \"2009-04-14\", \"2009-04-15\", \"2009-04-16\", \"2009-04-17\", \"2009-04-20\", \"2009-04-21\", \"2009-04-22\", \"2009-04-23\", \"2009-04-24\", \"2009-04-27\", \"2009-04-28\", \"2009-04-29\", \"2009-04-30\", \"2009-05-01\", \"2009-05-04\", \"2009-05-05\", \"2009-05-06\", \"2009-05-07\", \"2009-05-08\", \"2009-05-11\", \"2009-05-12\", \"2009-05-13\", \"2009-05-14\", \"2009-05-15\", \"2009-05-18\", \"2009-05-19\", \"2009-05-20\", \"2009-05-21\", \"2009-05-22\", \"2009-05-26\", \"2009-05-27\", \"2009-05-28\", \"2009-05-29\", \"2009-06-01\", \"2009-06-02\", \"2009-06-03\", \"2009-06-04\", \"2009-06-05\", \"2009-06-08\", \"2009-06-09\", \"2009-06-10\", \"2009-06-11\", \"2009-06-12\", \"2009-06-15\", \"2009-06-16\", \"2009-06-17\", \"2009-06-18\", \"2009-06-19\", \"2009-06-22\", \"2009-06-23\", \"2009-06-24\", \"2009-06-25\", \"2009-06-26\", \"2009-06-29\", \"2009-06-30\", \"2009-07-01\", \"2009-07-02\", \"2009-07-06\", \"2009-07-07\", \"2009-07-08\", \"2009-07-09\", \"2009-07-10\", \"2009-07-13\", \"2009-07-14\", \"2009-07-15\", \"2009-07-16\", \"2009-07-17\", \"2009-07-20\", \"2009-07-21\", \"2009-07-22\", \"2009-07-23\", \"2009-07-24\", \"2009-07-27\", \"2009-07-28\", \"2009-07-29\", \"2009-07-30\", \"2009-07-31\", \"2009-08-03\", \"2009-08-04\", \"2009-08-05\", \"2009-08-06\", \"2009-08-07\", \"2009-08-10\", \"2009-08-11\", \"2009-08-12\", \"2009-08-13\", \"2009-08-14\", \"2009-08-17\", \"2009-08-18\", \"2009-08-19\", \"2009-08-20\", \"2009-08-21\", \"2009-08-24\", \"2009-08-25\", \"2009-08-26\", \"2009-08-27\", \"2009-08-28\", \"2009-08-31\", \"2009-09-01\", \"2009-09-02\", \"2009-09-03\", \"2009-09-04\", \"2009-09-08\", \"2009-09-09\", \"2009-09-10\", \"2009-09-11\", \"2009-09-14\", \"2009-09-15\", \"2009-09-16\", \"2009-09-17\", \"2009-09-18\", \"2009-09-21\", \"2009-09-22\", \"2009-09-23\", \"2009-09-24\", \"2009-09-25\", \"2009-09-28\", \"2009-09-29\", \"2009-09-30\", \"2009-10-01\", \"2009-10-02\", \"2009-10-05\", \"2009-10-06\", \"2009-10-07\", \"2009-10-08\", \"2009-10-09\", \"2009-10-12\", \"2009-10-13\", \"2009-10-14\", \"2009-10-15\", \"2009-10-16\", \"2009-10-19\", \"2009-10-20\", \"2009-10-21\", \"2009-10-22\", \"2009-10-23\", \"2009-10-26\", \"2009-10-27\", \"2009-10-28\", \"2009-10-29\", \"2009-10-30\", \"2009-11-02\", \"2009-11-03\", \"2009-11-04\", \"2009-11-05\", \"2009-11-06\", \"2009-11-09\", \"2009-11-10\", \"2009-11-11\", \"2009-11-12\", \"2009-11-13\", \"2009-11-16\", \"2009-11-17\", \"2009-11-18\", \"2009-11-19\", \"2009-11-20\", \"2009-11-23\", \"2009-11-24\", \"2009-11-25\", \"2009-11-27\", \"2009-11-30\", \"2009-12-01\", \"2009-12-02\", \"2009-12-03\", \"2009-12-04\", \"2009-12-07\", \"2009-12-08\", \"2009-12-09\", \"2009-12-10\", \"2009-12-11\", \"2009-12-14\", \"2009-12-15\", \"2009-12-16\", \"2009-12-17\", \"2009-12-18\", \"2009-12-21\", \"2009-12-22\", \"2009-12-23\", \"2009-12-24\", \"2009-12-28\", \"2009-12-29\", \"2009-12-30\", \"2009-12-31\", \"2010-01-04\", \"2010-01-05\", \"2010-01-06\", \"2010-01-07\", \"2010-01-08\", \"2010-01-11\", \"2010-01-12\", \"2010-01-13\", \"2010-01-14\", \"2010-01-15\", \"2010-01-19\", \"2010-01-20\", \"2010-01-21\", \"2010-01-22\", \"2010-01-25\", \"2010-01-26\", \"2010-01-27\", \"2010-01-28\", \"2010-01-29\", \"2010-02-01\", \"2010-02-02\", \"2010-02-03\", \"2010-02-04\", \"2010-02-05\", \"2010-02-08\", \"2010-02-09\", \"2010-02-10\", \"2010-02-11\", \"2010-02-12\", \"2010-02-16\", \"2010-02-17\", \"2010-02-18\", \"2010-02-19\", \"2010-02-22\", \"2010-02-23\", \"2010-02-24\", \"2010-02-25\", \"2010-02-26\", \"2010-03-01\", \"2010-03-02\", \"2010-03-03\", \"2010-03-04\", \"2010-03-05\", \"2010-03-08\", \"2010-03-09\", \"2010-03-10\", \"2010-03-11\", \"2010-03-12\", \"2010-03-15\", \"2010-03-16\", \"2010-03-17\", \"2010-03-18\", \"2010-03-19\", \"2010-03-22\", \"2010-03-23\", \"2010-03-24\", \"2010-03-25\", \"2010-03-26\", \"2010-03-29\", \"2010-03-30\", \"2010-03-31\", \"2010-04-01\", \"2010-04-05\", \"2010-04-06\", \"2010-04-07\", \"2010-04-08\", \"2010-04-09\", \"2010-04-12\", \"2010-04-13\", \"2010-04-14\", \"2010-04-15\", \"2010-04-16\", \"2010-04-19\", \"2010-04-20\", \"2010-04-21\", \"2010-04-22\", \"2010-04-23\", \"2010-04-26\", \"2010-04-27\", \"2010-04-28\", \"2010-04-29\", \"2010-04-30\", \"2010-05-03\", \"2010-05-04\", \"2010-05-05\", \"2010-05-06\", \"2010-05-07\", \"2010-05-10\", \"2010-05-11\", \"2010-05-12\", \"2010-05-13\", \"2010-05-14\", \"2010-05-17\", \"2010-05-18\", \"2010-05-19\", \"2010-05-20\", \"2010-05-21\", \"2010-05-24\", \"2010-05-25\", \"2010-05-26\", \"2010-05-27\", \"2010-05-28\", \"2010-06-01\", \"2010-06-02\", \"2010-06-03\", \"2010-06-04\", \"2010-06-07\", \"2010-06-08\", \"2010-06-09\", \"2010-06-10\", \"2010-06-11\", \"2010-06-14\", \"2010-06-15\", \"2010-06-16\", \"2010-06-17\", \"2010-06-18\", \"2010-06-21\", \"2010-06-22\", \"2010-06-23\", \"2010-06-24\", \"2010-06-25\", \"2010-06-28\", \"2010-06-29\", \"2010-06-30\", \"2010-07-01\", \"2010-07-02\", \"2010-07-06\", \"2010-07-07\", \"2010-07-08\", \"2010-07-09\", \"2010-07-12\", \"2010-07-13\", \"2010-07-14\", \"2010-07-15\", \"2010-07-16\", \"2010-07-19\", \"2010-07-20\", \"2010-07-21\", \"2010-07-22\", \"2010-07-23\", \"2010-07-26\", \"2010-07-27\", \"2010-07-28\", \"2010-07-29\", \"2010-07-30\", \"2010-08-02\", \"2010-08-03\", \"2010-08-04\", \"2010-08-05\", \"2010-08-06\", \"2010-08-09\", \"2010-08-10\", \"2010-08-11\", \"2010-08-12\", \"2010-08-13\", \"2010-08-16\", \"2010-08-17\", \"2010-08-18\", \"2010-08-19\", \"2010-08-20\", \"2010-08-23\", \"2010-08-24\", \"2010-08-25\", \"2010-08-26\", \"2010-08-27\", \"2010-08-30\", \"2010-08-31\", \"2010-09-01\", \"2010-09-02\", \"2010-09-03\", \"2010-09-07\", \"2010-09-08\", \"2010-09-09\", \"2010-09-10\", \"2010-09-13\", \"2010-09-14\", \"2010-09-15\", \"2010-09-16\", \"2010-09-17\", \"2010-09-20\", \"2010-09-21\", \"2010-09-22\", \"2010-09-23\", \"2010-09-24\", \"2010-09-27\", \"2010-09-28\", \"2010-09-29\", \"2010-09-30\", \"2010-10-01\", \"2010-10-04\", \"2010-10-05\", \"2010-10-06\", \"2010-10-07\", \"2010-10-08\", \"2010-10-11\", \"2010-10-12\", \"2010-10-13\", \"2010-10-14\", \"2010-10-15\", \"2010-10-18\", \"2010-10-19\", \"2010-10-20\", \"2010-10-21\", \"2010-10-22\", \"2010-10-25\", \"2010-10-26\", \"2010-10-27\", \"2010-10-28\", \"2010-10-29\", \"2010-11-01\", \"2010-11-02\", \"2010-11-03\", \"2010-11-04\", \"2010-11-05\", \"2010-11-08\", \"2010-11-09\", \"2010-11-10\", \"2010-11-11\", \"2010-11-12\", \"2010-11-15\", \"2010-11-16\", \"2010-11-17\", \"2010-11-18\", \"2010-11-19\", \"2010-11-22\", \"2010-11-23\", \"2010-11-24\", \"2010-11-26\", \"2010-11-29\", \"2010-11-30\", \"2010-12-01\", \"2010-12-02\", \"2010-12-03\", \"2010-12-06\", \"2010-12-07\", \"2010-12-08\", \"2010-12-09\", \"2010-12-10\", \"2010-12-13\", \"2010-12-14\", \"2010-12-15\", \"2010-12-16\", \"2010-12-17\", \"2010-12-20\", \"2010-12-21\", \"2010-12-22\", \"2010-12-23\", \"2010-12-27\", \"2010-12-28\", \"2010-12-29\", \"2010-12-30\", \"2010-12-31\", \"2011-01-03\", \"2011-01-04\", \"2011-01-05\", \"2011-01-06\", \"2011-01-07\", \"2011-01-10\", \"2011-01-11\", \"2011-01-12\", \"2011-01-13\", \"2011-01-14\", \"2011-01-18\", \"2011-01-19\", \"2011-01-20\", \"2011-01-21\", \"2011-01-24\", \"2011-01-25\", \"2011-01-26\", \"2011-01-27\", \"2011-01-28\", \"2011-01-31\", \"2011-02-01\", \"2011-02-02\", \"2011-02-03\", \"2011-02-04\", \"2011-02-07\", \"2011-02-08\", \"2011-02-09\", \"2011-02-10\", \"2011-02-11\", \"2011-02-14\", \"2011-02-15\", \"2011-02-16\", \"2011-02-17\", \"2011-02-18\", \"2011-02-22\", \"2011-02-23\", \"2011-02-24\", \"2011-02-25\", \"2011-02-28\", \"2011-03-01\", \"2011-03-02\", \"2011-03-03\", \"2011-03-04\", \"2011-03-07\", \"2011-03-08\", \"2011-03-09\", \"2011-03-10\", \"2011-03-11\", \"2011-03-14\", \"2011-03-15\", \"2011-03-16\", \"2011-03-17\", \"2011-03-18\", \"2011-03-21\", \"2011-03-22\", \"2011-03-23\", \"2011-03-24\", \"2011-03-25\", \"2011-03-28\", \"2011-03-29\", \"2011-03-30\", \"2011-03-31\", \"2011-04-01\", \"2011-04-04\", \"2011-04-05\", \"2011-04-06\", \"2011-04-07\", \"2011-04-08\", \"2011-04-11\", \"2011-04-12\", \"2011-04-13\", \"2011-04-14\", \"2011-04-15\", \"2011-04-18\", \"2011-04-19\", \"2011-04-20\", \"2011-04-21\", \"2011-04-25\", \"2011-04-26\", \"2011-04-27\", \"2011-04-28\", \"2011-04-29\", \"2011-05-02\", \"2011-05-03\", \"2011-05-04\", \"2011-05-05\", \"2011-05-06\", \"2011-05-09\", \"2011-05-10\", \"2011-05-11\", \"2011-05-12\", \"2011-05-13\", \"2011-05-16\", \"2011-05-17\", \"2011-05-18\", \"2011-05-19\", \"2011-05-20\", \"2011-05-23\", \"2011-05-24\", \"2011-05-25\", \"2011-05-26\", \"2011-05-27\", \"2011-05-31\", \"2011-06-01\", \"2011-06-02\", \"2011-06-03\", \"2011-06-06\", \"2011-06-07\", \"2011-06-08\", \"2011-06-09\", \"2011-06-10\", \"2011-06-13\", \"2011-06-14\", \"2011-06-15\", \"2011-06-16\", \"2011-06-17\", \"2011-06-20\", \"2011-06-21\", \"2011-06-22\", \"2011-06-23\", \"2011-06-24\", \"2011-06-27\", \"2011-06-28\", \"2011-06-29\", \"2011-06-30\", \"2011-07-01\", \"2011-07-05\", \"2011-07-06\", \"2011-07-07\", \"2011-07-08\", \"2011-07-11\", \"2011-07-12\", \"2011-07-13\", \"2011-07-14\", \"2011-07-15\", \"2011-07-18\", \"2011-07-19\", \"2011-07-20\", \"2011-07-21\", \"2011-07-22\", \"2011-07-25\", \"2011-07-26\", \"2011-07-27\", \"2011-07-28\", \"2011-07-29\", \"2011-08-01\", \"2011-08-02\", \"2011-08-03\", \"2011-08-04\", \"2011-08-05\", \"2011-08-08\", \"2011-08-09\", \"2011-08-10\", \"2011-08-11\", \"2011-08-12\", \"2011-08-15\", \"2011-08-16\", \"2011-08-17\", \"2011-08-18\", \"2011-08-19\", \"2011-08-22\", \"2011-08-23\", \"2011-08-24\", \"2011-08-25\", \"2011-08-26\", \"2011-08-29\", \"2011-08-30\", \"2011-08-31\", \"2011-09-01\", \"2011-09-02\", \"2011-09-06\", \"2011-09-07\", \"2011-09-08\", \"2011-09-09\", \"2011-09-12\", \"2011-09-13\", \"2011-09-14\", \"2011-09-15\", \"2011-09-16\", \"2011-09-19\", \"2011-09-20\", \"2011-09-21\", \"2011-09-22\", \"2011-09-23\", \"2011-09-26\", \"2011-09-27\", \"2011-09-28\", \"2011-09-29\", \"2011-09-30\", \"2011-10-03\", \"2011-10-04\", \"2011-10-05\", \"2011-10-06\", \"2011-10-07\", \"2011-10-10\", \"2011-10-11\", \"2011-10-12\", \"2011-10-13\", \"2011-10-14\", \"2011-10-17\", \"2011-10-18\", \"2011-10-19\", \"2011-10-20\", \"2011-10-21\", \"2011-10-24\", \"2011-10-25\", \"2011-10-26\", \"2011-10-27\", \"2011-10-28\", \"2011-10-31\", \"2011-11-01\", \"2011-11-02\", \"2011-11-03\", \"2011-11-04\", \"2011-11-07\", \"2011-11-08\", \"2011-11-09\", \"2011-11-10\", \"2011-11-11\", \"2011-11-14\", \"2011-11-15\", \"2011-11-16\", \"2011-11-17\", \"2011-11-18\", \"2011-11-21\", \"2011-11-22\", \"2011-11-23\", \"2011-11-25\", \"2011-11-28\", \"2011-11-29\", \"2011-11-30\", \"2011-12-01\", \"2011-12-02\", \"2011-12-05\", \"2011-12-06\", \"2011-12-07\", \"2011-12-08\", \"2011-12-09\", \"2011-12-12\", \"2011-12-13\", \"2011-12-14\", \"2011-12-15\", \"2011-12-16\", \"2011-12-19\", \"2011-12-20\", \"2011-12-21\", \"2011-12-22\", \"2011-12-23\", \"2011-12-27\", \"2011-12-28\", \"2011-12-29\", \"2011-12-30\", \"2012-01-03\", \"2012-01-04\", \"2012-01-05\", \"2012-01-06\", \"2012-01-09\", \"2012-01-10\", \"2012-01-11\", \"2012-01-12\", \"2012-01-13\", \"2012-01-17\", \"2012-01-18\", \"2012-01-19\", \"2012-01-20\", \"2012-01-23\", \"2012-01-24\", \"2012-01-25\", \"2012-01-26\", \"2012-01-27\", \"2012-01-30\", \"2012-01-31\", \"2012-02-01\", \"2012-02-02\", \"2012-02-03\", \"2012-02-06\", \"2012-02-07\", \"2012-02-08\", \"2012-02-09\", \"2012-02-10\", \"2012-02-13\", \"2012-02-14\", \"2012-02-15\", \"2012-02-16\", \"2012-02-17\", \"2012-02-21\", \"2012-02-22\", \"2012-02-23\", \"2012-02-24\", \"2012-02-27\", \"2012-02-28\", \"2012-02-29\", \"2012-03-01\", \"2012-03-02\", \"2012-03-05\", \"2012-03-06\", \"2012-03-07\", \"2012-03-08\", \"2012-03-09\", \"2012-03-12\", \"2012-03-13\", \"2012-03-14\", \"2012-03-15\", \"2012-03-16\", \"2012-03-19\", \"2012-03-20\", \"2012-03-21\", \"2012-03-22\", \"2012-03-23\", \"2012-03-26\", \"2012-03-27\", \"2012-03-28\", \"2012-03-29\", \"2012-03-30\", \"2012-04-02\", \"2012-04-03\", \"2012-04-04\", \"2012-04-05\", \"2012-04-09\", \"2012-04-10\", \"2012-04-11\", \"2012-04-12\", \"2012-04-13\", \"2012-04-16\", \"2012-04-17\", \"2012-04-18\", \"2012-04-19\", \"2012-04-20\", \"2012-04-23\", \"2012-04-24\", \"2012-04-25\", \"2012-04-26\", \"2012-04-27\", \"2012-04-30\", \"2012-05-01\", \"2012-05-02\", \"2012-05-03\", \"2012-05-04\", \"2012-05-07\", \"2012-05-08\", \"2012-05-09\", \"2012-05-10\", \"2012-05-11\", \"2012-05-14\", \"2012-05-15\", \"2012-05-16\", \"2012-05-17\", \"2012-05-18\", \"2012-05-21\", \"2012-05-22\", \"2012-05-23\", \"2012-05-24\", \"2012-05-25\", \"2012-05-29\", \"2012-05-30\", \"2012-05-31\", \"2012-06-01\", \"2012-06-04\", \"2012-06-05\", \"2012-06-06\", \"2012-06-07\", \"2012-06-08\", \"2012-06-11\", \"2012-06-12\", \"2012-06-13\", \"2012-06-14\", \"2012-06-15\", \"2012-06-18\", \"2012-06-19\", \"2012-06-20\", \"2012-06-21\", \"2012-06-22\", \"2012-06-25\", \"2012-06-26\", \"2012-06-27\", \"2012-06-28\", \"2012-06-29\", \"2012-07-02\", \"2012-07-03\", \"2012-07-05\", \"2012-07-06\", \"2012-07-09\", \"2012-07-10\", \"2012-07-11\", \"2012-07-12\", \"2012-07-13\", \"2012-07-16\", \"2012-07-17\", \"2012-07-18\", \"2012-07-19\", \"2012-07-20\", \"2012-07-23\", \"2012-07-24\", \"2012-07-25\", \"2012-07-26\", \"2012-07-27\", \"2012-07-30\", \"2012-07-31\", \"2012-08-01\", \"2012-08-02\", \"2012-08-03\", \"2012-08-06\", \"2012-08-07\", \"2012-08-08\", \"2012-08-09\", \"2012-08-10\", \"2012-08-13\", \"2012-08-14\", \"2012-08-15\", \"2012-08-16\", \"2012-08-17\", \"2012-08-20\", \"2012-08-21\", \"2012-08-22\", \"2012-08-23\", \"2012-08-24\", \"2012-08-27\", \"2012-08-28\", \"2012-08-29\", \"2012-08-30\", \"2012-08-31\", \"2012-09-04\", \"2012-09-05\", \"2012-09-06\", \"2012-09-07\", \"2012-09-10\", \"2012-09-11\", \"2012-09-12\", \"2012-09-13\", \"2012-09-14\", \"2012-09-17\", \"2012-09-18\", \"2012-09-19\", \"2012-09-20\", \"2012-09-21\", \"2012-09-24\", \"2012-09-25\", \"2012-09-26\", \"2012-09-27\", \"2012-09-28\", \"2012-10-01\", \"2012-10-02\", \"2012-10-03\", \"2012-10-04\", \"2012-10-05\", \"2012-10-08\", \"2012-10-09\", \"2012-10-10\", \"2012-10-11\", \"2012-10-12\", \"2012-10-15\", \"2012-10-16\", \"2012-10-17\", \"2012-10-18\", \"2012-10-19\", \"2012-10-22\", \"2012-10-23\", \"2012-10-24\", \"2012-10-25\", \"2012-10-26\", \"2012-10-31\", \"2012-11-01\", \"2012-11-02\", \"2012-11-05\", \"2012-11-06\", \"2012-11-07\", \"2012-11-08\", \"2012-11-09\", \"2012-11-12\", \"2012-11-13\", \"2012-11-14\", \"2012-11-15\", \"2012-11-16\", \"2012-11-19\", \"2012-11-20\", \"2012-11-21\", \"2012-11-23\", \"2012-11-26\", \"2012-11-27\", \"2012-11-28\", \"2012-11-29\", \"2012-11-30\", \"2012-12-03\", \"2012-12-04\", \"2012-12-05\", \"2012-12-06\", \"2012-12-07\", \"2012-12-10\", \"2012-12-11\", \"2012-12-12\", \"2012-12-13\", \"2012-12-14\", \"2012-12-17\", \"2012-12-18\", \"2012-12-19\", \"2012-12-20\", \"2012-12-21\", \"2012-12-24\", \"2012-12-26\", \"2012-12-27\", \"2012-12-28\", \"2012-12-31\", \"2013-01-02\", \"2013-01-03\", \"2013-01-04\", \"2013-01-07\", \"2013-01-08\", \"2013-01-09\", \"2013-01-10\", \"2013-01-11\", \"2013-01-14\", \"2013-01-15\", \"2013-01-16\", \"2013-01-17\", \"2013-01-18\", \"2013-01-22\", \"2013-01-23\", \"2013-01-24\", \"2013-01-25\", \"2013-01-28\", \"2013-01-29\", \"2013-01-30\", \"2013-01-31\", \"2013-02-01\", \"2013-02-04\", \"2013-02-05\", \"2013-02-06\", \"2013-02-07\", \"2013-02-08\", \"2013-02-11\", \"2013-02-12\", \"2013-02-13\", \"2013-02-14\", \"2013-02-15\", \"2013-02-19\", \"2013-02-20\", \"2013-02-21\", \"2013-02-22\", \"2013-02-25\", \"2013-02-26\", \"2013-02-27\", \"2013-02-28\", \"2013-03-01\", \"2013-03-04\", \"2013-03-05\", \"2013-03-06\", \"2013-03-07\", \"2013-03-08\", \"2013-03-11\", \"2013-03-12\", \"2013-03-13\", \"2013-03-14\", \"2013-03-15\", \"2013-03-18\", \"2013-03-19\", \"2013-03-20\", \"2013-03-21\", \"2013-03-22\", \"2013-03-25\", \"2013-03-26\", \"2013-03-27\", \"2013-03-28\", \"2013-04-01\", \"2013-04-02\", \"2013-04-03\", \"2013-04-04\", \"2013-04-05\", \"2013-04-08\", \"2013-04-09\", \"2013-04-10\", \"2013-04-11\", \"2013-04-12\", \"2013-04-15\", \"2013-04-16\", \"2013-04-17\", \"2013-04-18\", \"2013-04-19\", \"2013-04-22\", \"2013-04-23\", \"2013-04-24\", \"2013-04-25\", \"2013-04-26\", \"2013-04-29\", \"2013-04-30\", \"2013-05-01\", \"2013-05-02\", \"2013-05-03\", \"2013-05-06\", \"2013-05-07\", \"2013-05-08\", \"2013-05-09\", \"2013-05-10\", \"2013-05-13\", \"2013-05-14\", \"2013-05-15\", \"2013-05-16\", \"2013-05-17\", \"2013-05-20\", \"2013-05-21\", \"2013-05-22\", \"2013-05-23\", \"2013-05-24\", \"2013-05-28\", \"2013-05-29\", \"2013-05-30\", \"2013-05-31\", \"2013-06-03\", \"2013-06-04\", \"2013-06-05\", \"2013-06-06\", \"2013-06-07\", \"2013-06-10\", \"2013-06-11\", \"2013-06-12\", \"2013-06-13\", \"2013-06-14\", \"2013-06-17\", \"2013-06-18\", \"2013-06-19\", \"2013-06-20\", \"2013-06-21\", \"2013-06-24\", \"2013-06-25\", \"2013-06-26\", \"2013-06-27\", \"2013-06-28\", \"2013-07-01\", \"2013-07-02\", \"2013-07-03\", \"2013-07-05\", \"2013-07-08\", \"2013-07-09\", \"2013-07-10\", \"2013-07-11\", \"2013-07-12\", \"2013-07-15\", \"2013-07-16\", \"2013-07-17\", \"2013-07-18\", \"2013-07-19\", \"2013-07-22\", \"2013-07-23\", \"2013-07-24\", \"2013-07-25\", \"2013-07-26\", \"2013-07-29\", \"2013-07-30\", \"2013-07-31\", \"2013-08-01\", \"2013-08-02\", \"2013-08-05\", \"2013-08-06\", \"2013-08-07\", \"2013-08-08\", \"2013-08-09\", \"2013-08-12\", \"2013-08-13\", \"2013-08-14\", \"2013-08-15\", \"2013-08-16\", \"2013-08-19\", \"2013-08-20\", \"2013-08-21\", \"2013-08-22\", \"2013-08-23\", \"2013-08-26\", \"2013-08-27\", \"2013-08-28\", \"2013-08-29\", \"2013-08-30\", \"2013-09-03\", \"2013-09-04\", \"2013-09-05\", \"2013-09-06\", \"2013-09-09\", \"2013-09-10\", \"2013-09-11\", \"2013-09-12\", \"2013-09-13\", \"2013-09-16\", \"2013-09-17\", \"2013-09-18\", \"2013-09-19\", \"2013-09-20\", \"2013-09-23\", \"2013-09-24\", \"2013-09-25\", \"2013-09-26\", \"2013-09-27\", \"2013-09-30\", \"2013-10-01\", \"2013-10-02\", \"2013-10-03\", \"2013-10-04\", \"2013-10-07\", \"2013-10-08\", \"2013-10-09\", \"2013-10-10\", \"2013-10-11\", \"2013-10-14\", \"2013-10-15\", \"2013-10-16\", \"2013-10-17\", \"2013-10-18\", \"2013-10-21\", \"2013-10-22\", \"2013-10-23\", \"2013-10-24\", \"2013-10-25\", \"2013-10-28\", \"2013-10-29\", \"2013-10-30\", \"2013-10-31\", \"2013-11-01\", \"2013-11-04\", \"2013-11-05\", \"2013-11-06\", \"2013-11-07\", \"2013-11-08\", \"2013-11-11\", \"2013-11-12\", \"2013-11-13\", \"2013-11-14\", \"2013-11-15\", \"2013-11-18\", \"2013-11-19\", \"2013-11-20\", \"2013-11-21\", \"2013-11-22\", \"2013-11-25\", \"2013-11-26\", \"2013-11-27\", \"2013-11-29\", \"2013-12-02\", \"2013-12-03\", \"2013-12-04\", \"2013-12-05\", \"2013-12-06\", \"2013-12-09\", \"2013-12-10\", \"2013-12-11\", \"2013-12-12\", \"2013-12-13\", \"2013-12-16\", \"2013-12-17\", \"2013-12-18\", \"2013-12-19\", \"2013-12-20\", \"2013-12-23\", \"2013-12-24\", \"2013-12-26\", \"2013-12-27\", \"2013-12-30\", \"2013-12-31\", \"2014-01-02\", \"2014-01-03\", \"2014-01-06\", \"2014-01-07\", \"2014-01-08\", \"2014-01-09\", \"2014-01-10\", \"2014-01-13\", \"2014-01-14\", \"2014-01-15\", \"2014-01-16\", \"2014-01-17\", \"2014-01-21\", \"2014-01-22\", \"2014-01-23\", \"2014-01-24\", \"2014-01-27\", \"2014-01-28\", \"2014-01-29\", \"2014-01-30\", \"2014-01-31\", \"2014-02-03\", \"2014-02-04\", \"2014-02-05\", \"2014-02-06\", \"2014-02-07\", \"2014-02-10\", \"2014-02-11\", \"2014-02-12\", \"2014-02-13\", \"2014-02-14\", \"2014-02-18\", \"2014-02-19\", \"2014-02-20\", \"2014-02-21\", \"2014-02-24\", \"2014-02-25\", \"2014-02-26\", \"2014-02-27\", \"2014-02-28\", \"2014-03-03\", \"2014-03-04\", \"2014-03-05\", \"2014-03-06\", \"2014-03-07\", \"2014-03-10\", \"2014-03-11\", \"2014-03-12\", \"2014-03-13\", \"2014-03-14\", \"2014-03-17\", \"2014-03-18\", \"2014-03-19\", \"2014-03-20\", \"2014-03-21\", \"2014-03-24\", \"2014-03-25\", \"2014-03-26\", \"2014-03-27\", \"2014-03-28\", \"2014-03-31\", \"2014-04-01\", \"2014-04-02\", \"2014-04-03\", \"2014-04-04\", \"2014-04-07\", \"2014-04-08\", \"2014-04-09\", \"2014-04-10\", \"2014-04-11\", \"2014-04-14\", \"2014-04-15\", \"2014-04-16\", \"2014-04-17\", \"2014-04-21\", \"2014-04-22\", \"2014-04-23\", \"2014-04-24\", \"2014-04-25\", \"2014-04-28\", \"2014-04-29\", \"2014-04-30\", \"2014-05-01\", \"2014-05-02\", \"2014-05-05\", \"2014-05-06\", \"2014-05-07\", \"2014-05-08\", \"2014-05-09\", \"2014-05-12\", \"2014-05-13\", \"2014-05-14\", \"2014-05-15\", \"2014-05-16\", \"2014-05-19\", \"2014-05-20\", \"2014-05-21\", \"2014-05-22\", \"2014-05-23\", \"2014-05-27\", \"2014-05-28\", \"2014-05-29\", \"2014-05-30\", \"2014-06-02\", \"2014-06-03\", \"2014-06-04\", \"2014-06-05\", \"2014-06-06\", \"2014-06-09\", \"2014-06-10\", \"2014-06-11\", \"2014-06-12\", \"2014-06-13\", \"2014-06-16\", \"2014-06-17\", \"2014-06-18\", \"2014-06-19\", \"2014-06-20\", \"2014-06-23\", \"2014-06-24\", \"2014-06-25\", \"2014-06-26\", \"2014-06-27\", \"2014-06-30\", \"2014-07-01\", \"2014-07-02\", \"2014-07-03\", \"2014-07-07\", \"2014-07-08\", \"2014-07-09\", \"2014-07-10\", \"2014-07-11\", \"2014-07-14\", \"2014-07-15\", \"2014-07-16\", \"2014-07-17\", \"2014-07-18\", \"2014-07-21\", \"2014-07-22\", \"2014-07-23\", \"2014-07-24\", \"2014-07-25\", \"2014-07-28\", \"2014-07-29\", \"2014-07-30\", \"2014-07-31\", \"2014-08-01\", \"2014-08-04\", \"2014-08-05\", \"2014-08-06\", \"2014-08-07\", \"2014-08-08\", \"2014-08-11\", \"2014-08-12\", \"2014-08-13\", \"2014-08-14\", \"2014-08-15\", \"2014-08-18\", \"2014-08-19\", \"2014-08-20\", \"2014-08-21\", \"2014-08-22\", \"2014-08-25\", \"2014-08-26\", \"2014-08-27\", \"2014-08-28\", \"2014-08-29\", \"2014-09-02\", \"2014-09-03\", \"2014-09-04\", \"2014-09-05\", \"2014-09-08\", \"2014-09-09\", \"2014-09-10\", \"2014-09-11\", \"2014-09-12\", \"2014-09-15\", \"2014-09-16\", \"2014-09-17\", \"2014-09-18\", \"2014-09-19\", \"2014-09-22\", \"2014-09-23\", \"2014-09-24\", \"2014-09-25\", \"2014-09-26\", \"2014-09-29\", \"2014-09-30\", \"2014-10-01\", \"2014-10-02\", \"2014-10-03\", \"2014-10-06\", \"2014-10-07\", \"2014-10-08\", \"2014-10-09\", \"2014-10-10\", \"2014-10-13\", \"2014-10-14\", \"2014-10-15\", \"2014-10-16\", \"2014-10-17\", \"2014-10-20\", \"2014-10-21\", \"2014-10-22\", \"2014-10-23\", \"2014-10-24\", \"2014-10-27\", \"2014-10-28\", \"2014-10-29\", \"2014-10-30\", \"2014-10-31\", \"2014-11-03\", \"2014-11-04\", \"2014-11-05\", \"2014-11-06\", \"2014-11-07\", \"2014-11-10\", \"2014-11-11\", \"2014-11-12\", \"2014-11-13\", \"2014-11-14\", \"2014-11-17\", \"2014-11-18\", \"2014-11-19\", \"2014-11-20\", \"2014-11-21\", \"2014-11-24\", \"2014-11-25\", \"2014-11-26\", \"2014-11-28\", \"2014-12-01\", \"2014-12-02\", \"2014-12-03\", \"2014-12-04\", \"2014-12-05\", \"2014-12-08\", \"2014-12-09\", \"2014-12-10\", \"2014-12-11\", \"2014-12-12\", \"2014-12-15\", \"2014-12-16\", \"2014-12-17\", \"2014-12-18\", \"2014-12-19\", \"2014-12-22\", \"2014-12-23\", \"2014-12-24\", \"2014-12-26\", \"2014-12-29\", \"2014-12-30\", \"2014-12-31\", \"2015-01-02\", \"2015-01-05\", \"2015-01-06\", \"2015-01-07\", \"2015-01-08\", \"2015-01-09\", \"2015-01-12\", \"2015-01-13\", \"2015-01-14\", \"2015-01-15\", \"2015-01-16\", \"2015-01-20\", \"2015-01-21\", \"2015-01-22\", \"2015-01-23\", \"2015-01-26\", \"2015-01-27\", \"2015-01-28\", \"2015-01-29\", \"2015-01-30\", \"2015-02-02\", \"2015-02-03\", \"2015-02-04\", \"2015-02-05\", \"2015-02-06\", \"2015-02-09\", \"2015-02-10\", \"2015-02-11\", \"2015-02-12\", \"2015-02-13\", \"2015-02-17\", \"2015-02-18\", \"2015-02-19\", \"2015-02-20\", \"2015-02-23\", \"2015-02-24\", \"2015-02-25\", \"2015-02-26\", \"2015-02-27\", \"2015-03-02\", \"2015-03-03\", \"2015-03-04\", \"2015-03-05\", \"2015-03-06\", \"2015-03-09\", \"2015-03-10\", \"2015-03-11\", \"2015-03-12\", \"2015-03-13\", \"2015-03-16\", \"2015-03-17\", \"2015-03-18\", \"2015-03-19\", \"2015-03-20\", \"2015-03-23\", \"2015-03-24\", \"2015-03-25\", \"2015-03-26\", \"2015-03-27\", \"2015-03-30\", \"2015-03-31\", \"2015-04-01\", \"2015-04-02\", \"2015-04-06\", \"2015-04-07\", \"2015-04-08\", \"2015-04-09\", \"2015-04-10\", \"2015-04-13\", \"2015-04-14\", \"2015-04-15\", \"2015-04-16\", \"2015-04-17\", \"2015-04-20\", \"2015-04-21\", \"2015-04-22\", \"2015-04-23\", \"2015-04-24\", \"2015-04-27\", \"2015-04-28\", \"2015-04-29\", \"2015-04-30\", \"2015-05-01\", \"2015-05-04\", \"2015-05-05\", \"2015-05-06\", \"2015-05-07\", \"2015-05-08\", \"2015-05-11\", \"2015-05-12\", \"2015-05-13\", \"2015-05-14\", \"2015-05-15\", \"2015-05-18\", \"2015-05-19\", \"2015-05-20\", \"2015-05-21\", \"2015-05-22\", \"2015-05-26\", \"2015-05-27\", \"2015-05-28\", \"2015-05-29\", \"2015-06-01\", \"2015-06-02\", \"2015-06-03\", \"2015-06-04\", \"2015-06-05\", \"2015-06-08\", \"2015-06-09\", \"2015-06-10\", \"2015-06-11\", \"2015-06-12\", \"2015-06-15\", \"2015-06-16\", \"2015-06-17\", \"2015-06-18\", \"2015-06-19\", \"2015-06-22\", \"2015-06-23\", \"2015-06-24\", \"2015-06-25\", \"2015-06-26\", \"2015-06-29\", \"2015-06-30\", \"2015-07-01\", \"2015-07-02\", \"2015-07-06\", \"2015-07-07\", \"2015-07-08\", \"2015-07-09\", \"2015-07-10\", \"2015-07-13\", \"2015-07-14\", \"2015-07-15\", \"2015-07-16\", \"2015-07-17\", \"2015-07-20\", \"2015-07-21\", \"2015-07-22\", \"2015-07-23\", \"2015-07-24\", \"2015-07-27\", \"2015-07-28\", \"2015-07-29\", \"2015-07-30\", \"2015-07-31\", \"2015-08-03\", \"2015-08-04\", \"2015-08-05\", \"2015-08-06\", \"2015-08-07\", \"2015-08-10\", \"2015-08-11\", \"2015-08-12\", \"2015-08-13\", \"2015-08-14\", \"2015-08-17\", \"2015-08-18\", \"2015-08-19\", \"2015-08-20\", \"2015-08-21\", \"2015-08-24\", \"2015-08-25\", \"2015-08-26\", \"2015-08-27\", \"2015-08-28\", \"2015-08-31\", \"2015-09-01\", \"2015-09-02\", \"2015-09-03\", \"2015-09-04\", \"2015-09-08\", \"2015-09-09\", \"2015-09-10\", \"2015-09-11\", \"2015-09-14\", \"2015-09-15\", \"2015-09-16\", \"2015-09-17\", \"2015-09-18\", \"2015-09-21\", \"2015-09-22\", \"2015-09-23\", \"2015-09-24\", \"2015-09-25\", \"2015-09-28\", \"2015-09-29\", \"2015-09-30\", \"2015-10-01\", \"2015-10-02\", \"2015-10-05\", \"2015-10-06\", \"2015-10-07\", \"2015-10-08\", \"2015-10-09\", \"2015-10-12\", \"2015-10-13\", \"2015-10-14\", \"2015-10-15\", \"2015-10-16\", \"2015-10-19\", \"2015-10-20\", \"2015-10-21\", \"2015-10-22\", \"2015-10-23\", \"2015-10-26\", \"2015-10-27\", \"2015-10-28\", \"2015-10-29\", \"2015-10-30\", \"2015-11-02\", \"2015-11-03\", \"2015-11-04\", \"2015-11-05\", \"2015-11-06\", \"2015-11-09\", \"2015-11-10\", \"2015-11-11\", \"2015-11-12\", \"2015-11-13\", \"2015-11-16\", \"2015-11-17\", \"2015-11-18\", \"2015-11-19\", \"2015-11-20\", \"2015-11-23\", \"2015-11-24\", \"2015-11-25\", \"2015-11-27\", \"2015-11-30\", \"2015-12-01\", \"2015-12-02\", \"2015-12-03\", \"2015-12-04\", \"2015-12-07\", \"2015-12-08\", \"2015-12-09\", \"2015-12-10\", \"2015-12-11\", \"2015-12-14\", \"2015-12-15\", \"2015-12-16\", \"2015-12-17\", \"2015-12-18\", \"2015-12-21\", \"2015-12-22\", \"2015-12-23\", \"2015-12-24\", \"2015-12-28\", \"2015-12-29\", \"2015-12-30\", \"2015-12-31\"], \"y\": [128.87, 127.09, 127.04, 128.84, 130.39, 132.03, 131.97, 132.25, 133.26, 132.59, 131.85, 133.82, 131.44, 132.87, 133.0, 133.56, 137.4, 138.94, 139.87, 141.25, 141.71, 142.52, 142.74, 142.82, 139.48, 141.14, 140.85, 140.81, 139.65, 141.78, 145.14, 145.9, 145.54, 143.45, 145.53, 143.96, 144.16, 143.82, 141.29, 143.15, 144.0, 146.0, 145.02, 144.28, 142.49, 141.7, 141.53, 140.72, 149.42, 149.0, 147.69, 150.36, 152.18, 149.4, 151.82, 151.67, 152.17, 155.0, 154.16, 156.9, 156.81, 156.96, 158.12, 161.0, 160.75, 162.04, 161.02, 162.46, 159.15, 159.52, 159.43, 161.94, 165.55, 167.05, 168.55, 165.89, 165.35, 162.8, 163.4, 163.97, 160.29, 156.45, 158.83, 159.15, 158.04, 164.39, 163.53, 165.75, 164.09, 159.28, 156.11, 153.14, 152.7, 148.21, 147.03, 149.41, 146.15, 143.7, 143.92, 147.32, 152.94, 149.83, 150.95, 153.55, 154.09, 150.4, 149.24, 149.95, 149.76, 149.89, 145.0, 139.25, 138.5, 144.12, 144.0, 143.75, 145.26, 149.83, 148.31, 147.92, 149.9, 147.16, 146.49, 152.2, 150.43, 152.45, 150.95, 150.58, 148.51, 148.85, 148.67, 145.27, 142.55, 140.1, 140.87, 142.34, 146.97, 145.18, 142.04, 146.9, 148.49, 147.38, 148.26, 151.72, 152.75, 151.26, 149.9, 152.1, 152.99, 152.65, 151.45, 150.01, 151.63, 151.11, 150.37, 152.65, 154.99, 154.45, 154.68, 153.83, 154.15, 152.7, 151.4, 150.07, 149.53, 147.09, 147.06, 148.65, 149.14, 151.28, 150.67, 148.57, 149.8, 151.0, 158.29, 160.86, 162.52, 162.71, 163.22, 163.39, 166.6, 167.15, 167.52, 168.69, 168.68, 169.0, 170.0, 169.17, 170.69, 174.2, 176.56, 175.5, 175.65, 177.45, 178.86, 178.97, 181.51, 183.85, 185.22, 183.07, 182.97, 180.05, 180.4, 184.7, 187.84, 188.61, 193.38, 188.67, 189.75, 189.79, 185.0, 187.39, 187.13, 190.0, 188.68, 188.77, 184.78, 187.06, 187.73, 190.36, 193.11, 196.72, 195.04, 197.45, 199.76, 202.29, 201.6, 193.11, 197.12, 196.22, 194.8, 194.5, 200.05, 201.61, 205.0, 200.2, 205.1, 202.52, 200.0, 198.31, 200.13, 199.84, 203.24, 201.24, 201.37, 198.1, 198.09, 199.86, 201.95, 200.8, 199.35, 200.72, 198.85, 199.05, 203.73, 204.08, 208.11, 211.88, 213.99, 213.59, 213.23, 209.68, 210.29, 212.97, 212.64, 220.1, 213.07, 213.5, 211.04, 208.78, 212.16, 212.0, 213.43, 212.55, 214.65, 213.55, 213.9, 213.28, 211.13, 212.53, 217.4, 216.82, 216.92, 220.94, 220.15, 218.97, 216.5, 214.0, 199.76, 201.75, 199.66, 195.67, 190.0, 197.37, 195.59, 199.94, 201.7, 202.6, 199.03, 200.15, 200.89, 199.0, 202.44, 204.0, 210.95, 210.08, 211.89, 211.73, 209.87, 206.76, 207.2, 206.63, 205.65, 209.75, 208.79, 207.93, 208.94, 209.05, 206.93, 207.05, 206.5, 214.52, 214.9, 216.75, 219.29, 220.0, 222.42, 220.72, 225.6, 224.81, 224.28, 218.61, 218.58, 219.49, 221.56, 227.34, 227.22, 224.95, 226.57, 223.1, 227.5, 226.18, 224.38, 227.11, 227.38, 230.34, 229.23, 230.71, 228.54, 225.68, 225.53, 228.44, 232.0, 230.82, 230.71, 229.71, 229.36, 227.35, 220.05, 225.06, 227.16, 227.85, 233.64, 225.75, 226.19, 226.97, 229.47, 225.89, 226.9, 222.4, 216.74, 214.17, 219.33, 218.96, 216.75, 219.18, 224.55, 221.32, 223.64, 223.3, 217.08, 216.72, 220.29, 222.18, 220.4, 219.4, 214.99, 211.69, 205.94, 205.04, 198.15, 203.16, 195.12, 192.65, 195.74, 188.34, 189.0, 187.46, 179.68, 187.79, 191.25, 193.3, 182.25, 180.5, 177.5, 169.75, 164.9, 169.85, 175.0, 172.76, 175.48, 177.89, 177.5, 179.73, 177.95, 170.95, 173.72, 171.38, 176.01, 180.8, 177.81, 179.18, 178.98, 183.61, 183.5, 182.53, 188.47, 190.59, 187.61, 200.5, 205.5, 203.53, 209.98, 210.43, 210.9, 214.61, 216.78, 216.74, 222.98, 228.02, 227.35, 225.95, 228.5, 226.96, 239.2, 235.94, 229.01, 233.56, 229.34, 224.83, 227.62, 227.85, 217.69, 222.18, 223.76, 225.12, 226.66, 235.92, 243.81, 240.33, 247.92, 240.21, 229.6, 218.39, 223.16, 214.18, 209.94, 211.33, 214.71, 233.04, 233.31, 227.02, 225.25, 220.54, 217.48, 209.5, 216.48, 207.45, 213.33, 227.52, 224.38, 226.64, 226.89, 215.22, 218.26, 222.51, 217.89, 224.21, 211.15, 212.58, 208.48, 210.67, 208.63, 201.51, 204.16, 202.67, 209.6, 214.32, 216.69, 211.95, 211.94, 215.05, 207.6, 204.84, 199.93, 194.73, 189.5, 191.75, 196.91, 198.74, 201.65, 193.29, 197.5, 190.98, 187.21, 190.69, 199.39, 199.2, 191.37, 196.25, 196.05, 198.55, 199.55, 207.78, 200.8, 189.86, 187.17, 190.46, 187.07, 185.87, 180.65, 180.18, 176.56, 178.41, 173.8, 177.25, 175.17, 177.71, 177.36, 172.7, 180.8, 176.7, 169.63, 165.08, 163.6, 164.97, 158.65, 160.07, 155.58, 163.07, 163.01, 165.44, 156.86, 151.02, 175.59, 166.49, 179.63, 178.88, 179.63, 175.48, 168.14, 164.45, 165.39, 176.86, 176.87, 176.53, 175.4, 178.73, 178.9, 174.14, 170.55, 167.3, 163.59, 164.2, 169.05, 172.1, 179.93, 180.4, 179.76, 179.35, 188.79, 192.0, 190.24, 192.68, 191.37, 199.05, 200.27, 197.12, 197.61, 189.76, 187.72, 188.09, 192.08, 190.33, 190.13, 188.62, 187.14, 184.4, 182.43, 178.6, 177.2, 172.64, 173.92, 174.83, 176.24, 176.41, 172.34, 170.58, 172.1, 176.6, 169.44, 165.76, 167.21, 162.4, 166.75, 178.29, 182.09, 179.44, 182.77, 186.93, 183.77, 178.59, 181.98, 183.65, 176.26, 174.56, 174.9, 175.33, 178.79, 178.89, 169.82, 174.9, 169.02, 170.16, 162.48, 158.67, 157.8, 172.86, 181.24, 182.84, 180.78, 188.04, 187.87, 180.26, 178.66, 172.9, 181.63, 186.17, 184.04, 182.0, 177.86, 180.77, 179.55, 172.33, 175.95, 178.0, 167.3, 164.9, 166.59, 163.18, 160.04, 158.0, 158.25, 156.42, 159.81, 155.71, 155.91, 155.48, 161.83, 163.97, 165.32, 167.61, 160.9, 163.24, 169.73, 161.67, 157.59, 157.03, 154.21, 135.5, 133.01, 114.5, 108.0, 129.8, 120.78, 125.05, 133.0, 135.5, 137.99, 120.7, 128.0, 134.5, 131.54, 128.0, 124.0, 115.0, 113.0, 101.35, 88.8, 111.0, 122.9, 113.15, 112.4, 114.3, 121.5, 121.35, 115.06, 108.58, 100.4, 92.88, 93.57, 97.66, 91.11, 92.5, 89.09, 95.0, 87.43, 80.72, 77.78, 71.21, 74.68, 66.79, 69.99, 66.73, 62.49, 62.03, 55.18, 52.0, 53.31, 67.42, 71.78, 76.5, 78.99, 65.76, 65.0, 68.95, 67.53, 70.72, 77.15, 72.77, 71.53, 69.71, 67.74, 66.46, 76.0, 78.78, 80.05, 80.73, 77.0, 75.2, 76.44, 75.97, 76.56, 82.06, 84.39, 86.76, 88.78, 88.71, 84.5, 85.41, 83.92, 77.67, 77.92, 75.69, 73.83, 73.05, 59.2, 69.9, 71.03, 74.91, 74.2, 78.26, 87.7, 82.72, 80.73, 83.57, 82.81, 87.97, 92.85, 96.57, 97.89, 90.4, 94.71, 95.58, 96.45, 85.71, 84.5, 86.01, 84.59, 80.07, 92.98, 89.92, 92.15, 91.08, 86.27, 82.37, 85.47, 81.72, 75.65, 73.95, 85.28, 92.39, 97.25, 98.8, 93.9, 98.99, 105.25, 99.3, 97.32, 111.93, 110.6, 112.95, 111.99, 108.08, 100.46, 106.02, 110.29, 114.22, 119.4, 116.65, 116.08, 114.75, 124.33, 130.15, 115.11, 121.19, 121.19, 120.6, 115.01, 120.36, 120.49, 122.81, 121.3, 120.9, 120.67, 127.18, 128.5, 127.08, 134.16, 135.2, 139.22, 133.73, 139.59, 135.78, 135.41, 129.26, 133.6, 134.4, 143.15, 141.15, 136.44, 137.16, 136.35, 142.05, 140.01, 144.65, 144.57, 144.33, 143.13, 142.15, 149.47, 149.01, 148.35, 149.31, 146.68, 145.15, 145.64, 143.01, 144.16, 139.73, 143.09, 143.13, 137.01, 141.19, 142.65, 144.43, 146.74, 149.36, 147.44, 147.32, 143.49, 146.46, 142.54, 138.55, 143.21, 141.87, 149.44, 149.66, 155.26, 156.84, 156.84, 160.03, 159.8, 160.46, 165.45, 164.72, 163.87, 160.54, 159.44, 162.42, 163.3, 164.1, 165.17, 168.64, 166.75, 163.65, 160.36, 159.22, 163.76, 164.48, 162.73, 157.25, 160.48, 159.93, 162.33, 163.51, 162.58, 164.94, 165.95, 165.02, 164.42, 165.46, 160.17, 158.54, 161.66, 162.97, 167.22, 170.27, 174.87, 174.7, 177.71, 176.66, 179.87, 181.46, 183.18, 182.39, 185.52, 183.64, 183.06, 179.5, 182.5, 183.58, 184.35, 178.99, 179.61, 186.47, 186.98, 190.48, 188.17, 189.3, 190.15, 187.23, 192.28, 188.63, 184.37, 185.5, 184.96, 179.26, 183.69, 180.36, 179.37, 178.61, 172.16, 178.58, 170.17, 170.68, 171.61, 169.5, 173.4, 171.78, 176.57, 176.51, 179.85, 178.48, 176.76, 177.25, 176.6, 176.9, 172.83, 170.01, 172.0, 171.13, 168.92, 164.16, 169.66, 167.63, 166.66, 164.3, 167.24, 163.85, 161.84, 166.44, 166.73, 166.0, 166.1, 162.74, 164.99, 160.93, 163.19, 165.45, 164.6, 163.63, 163.97, 163.76, 164.12, 166.7, 168.84, 173.08, 176.14, 174.26, 177.67, 174.31, 171.56, 167.82, 169.07, 168.53, 165.21, 166.86, 167.79, 160.87, 154.12, 154.98, 150.88, 151.5, 153.29, 148.72, 153.13, 156.94, 157.23, 150.68, 154.16, 151.1, 152.49, 153.63, 154.05, 153.93, 157.4, 157.26, 155.73, 156.18, 156.71, 156.7, 158.33, 156.44, 156.35, 156.54, 158.75, 157.72, 163.61, 167.18, 169.84, 168.85, 171.94, 173.51, 174.96, 173.53, 176.19, 176.64, 177.45, 177.9, 176.16, 174.83, 174.41, 174.9, 172.87, 174.05, 171.38, 170.63, 170.22, 173.16, 172.9, 176.36, 179.5, 179.12, 177.84, 179.25, 184.92, 184.27, 160.7, 163.32, 159.98, 158.93, 159.05, 157.4, 152.03, 153.04, 157.01, 160.24, 145.2, 149.5, 149.45, 148.19, 142.32, 142.99, 143.83, 141.97, 147.2, 144.65, 143.23, 142.64, 137.36, 140.1, 136.1, 140.62, 136.69, 142.56, 140.3, 144.95, 144.26, 141.86, 144.83, 144.04, 142.25, 138.68, 137.78, 136.8, 133.77, 135.64, 133.44, 136.9, 137.06, 137.32, 138.18, 137.74, 134.79, 135.07, 134.98, 139.66, 136.66, 133.76, 131.27, 131.14, 131.08, 132.26, 135.83, 135.46, 138.06, 137.25, 140.25, 139.06, 145.22, 146.17, 145.68, 148.91, 146.99, 146.55, 147.38, 148.2, 147.23, 147.2, 152.58, 150.82, 152.74, 153.19, 156.41, 155.92, 155.18, 155.4, 153.9, 149.25, 149.42, 148.08, 147.76, 148.59, 149.2, 147.05, 148.24, 146.74, 143.95, 144.68, 141.81, 139.75, 136.66, 136.63, 139.74, 139.78, 147.29, 145.21, 147.54, 149.14, 150.39, 154.37, 152.53, 152.56, 152.23, 150.98, 151.9, 151.4, 148.07, 144.91, 147.28, 146.0, 145.01, 144.42, 144.58, 147.7, 146.57, 149.57, 150.84, 151.11, 152.66, 152.2, 155.21, 154.73, 151.59, 150.69, 153.7, 156.72, 159.6, 159.3, 157.76, 157.39, 158.29, 160.15, 163.24, 161.13, 161.57, 162.82, 162.63, 166.39, 171.07, 169.2, 166.55, 167.22, 167.71, 165.83, 167.22, 165.1, 164.89, 167.35, 166.67, 161.05, 157.78, 160.26, 158.22, 159.28, 156.14, 158.45, 162.5, 162.31, 162.65, 161.59, 166.14, 166.45, 168.47, 169.48, 167.33, 165.21, 164.46, 164.04, 166.05, 168.23, 169.6, 167.6, 169.83, 169.19, 167.63, 167.64, 168.16, 173.05, 173.08, 174.0, 172.21, 170.69, 169.76, 169.36, 171.67, 171.57, 175.0, 174.68, 166.49, 165.69, 166.2, 166.3, 161.98, 161.31, 164.03, 161.77, 163.62, 165.33, 165.05, 164.64, 164.83, 167.13, 168.55, 166.01, 165.34, 166.66, 167.52, 167.91, 168.81, 167.16, 168.04, 162.94, 163.09, 163.44, 165.12, 163.78, 161.31, 161.69, 164.49, 161.0, 159.15, 161.3, 162.35, 160.27, 160.68, 158.43, 157.25, 154.38, 155.75, 159.96, 160.21, 160.79, 159.53, 159.91, 157.97, 156.47, 158.47, 159.07, 158.6, 160.23, 158.9, 158.91, 161.89, 162.4, 160.96, 161.47, 160.42, 160.17, 155.79, 155.13, 153.78, 151.86, 152.7, 153.51, 152.19, 153.27, 152.86, 150.6, 151.01, 151.3, 151.87, 151.52, 150.41, 150.1, 149.12, 150.4, 147.88, 142.75, 141.46, 140.6, 140.81, 140.84, 139.34, 134.99, 135.84, 136.34, 136.24, 136.26, 138.66, 140.73, 136.17, 134.38, 135.33, 133.9, 132.99, 131.59, 133.53, 135.92, 137.53, 137.1, 134.85, 136.09, 137.23, 135.14, 135.96, 134.52, 132.36, 130.91, 130.71, 129.26, 132.53, 133.09, 136.65, 134.5, 133.89, 135.01, 134.08, 132.02, 130.31, 129.92, 129.89, 130.16, 129.33, 128.49, 132.75, 135.58, 135.49, 136.85, 137.6, 134.72, 135.84, 134.97, 134.15, 131.23, 132.08, 126.23, 125.18, 117.66, 122.73, 110.34, 118.1, 116.47, 119.13, 116.87, 117.25, 113.14, 111.76, 106.51, 106.86, 110.31, 109.84, 111.75, 116.07, 115.18, 116.22, 112.16, 107.06, 104.56, 108.34, 104.79, 102.25, 102.92, 104.09, 104.54, 107.97, 107.49, 104.81, 102.61, 97.86, 93.98, 95.18, 99.14, 99.55, 96.32, 99.87, 94.55, 90.08, 94.58, 94.29, 97.93, 92.69, 96.14, 96.7, 99.11, 96.15, 96.73, 96.9, 102.25, 100.79, 100.86, 102.09, 103.98, 100.44, 106.33, 114.91, 115.86, 109.55, 103.54, 106.13, 107.68, 105.04, 105.57, 108.58, 99.67, 99.5, 101.66, 99.29, 99.75, 95.6, 92.35, 91.91, 91.3, 89.4, 87.89, 88.75, 90.78, 88.81, 95.86, 94.43, 97.25, 99.82, 101.16, 105.13, 99.92, 101.45, 98.03, 95.04, 93.25, 91.9, 90.1, 87.7, 90.98, 92.0, 94.42, 93.79, 91.9, 90.12, 91.01, 90.43, 95.36, 94.74, 94.58, 93.42, 94.69, 98.33, 99.76, 101.21, 98.96, 97.68, 104.31, 107.68, 108.74, 108.19, 108.87, 108.27, 108.56, 111.77, 109.73, 111.47, 113.45, 113.39, 117.53, 117.39, 115.98, 116.15, 115.88, 114.12, 114.53, 112.87, 113.17, 114.74, 115.91, 116.63, 114.36, 115.8, 115.87, 116.23, 117.11, 115.14, 121.13, 119.96, 118.63, 113.67, 116.4, 117.17, 117.29, 116.99, 124.54, 120.37, 123.06, 122.93, 124.3, 126.02, 125.99, 124.74, 126.18, 128.07, 126.33, 126.36, 123.76, 124.37, 124.9, 122.71, 119.96, 118.0, 117.02, 114.56, 115.93, 120.39, 115.09, 117.73, 116.86, 115.33, 113.6, 112.44, 111.75, 114.11, 113.98, 114.56, 114.41, 115.15, 115.33, 113.77, 111.53, 108.99, 110.04, 109.37, 107.29, 106.32, 102.13, 99.77, 99.87, 98.2, 97.08, 95.49, 96.51, 97.53, 98.04, 96.86, 96.7, 97.86, 94.61, 95.7, 92.64, 91.0, 92.21, 94.96, 94.0, 94.54, 92.8, 94.04, 92.72, 93.82, 95.66, 93.63, 96.37, 96.55, 93.9, 93.63, 91.22, 91.03, 93.27, 93.49, 95.86, 97.13, 98.6, 95.92, 95.47, 94.47, 94.25, 95.13, 94.02, 97.43, 97.68, 97.98, 96.51, 95.0, 94.16, 93.16, 94.47, 95.96, 98.06, 101.64, 100.88, 100.9, 100.09, 97.81, 100.98, 102.02, 103.24, 102.5, 103.6, 103.02, 103.61, 103.26, 103.13, 103.49, 103.6, 105.28, 105.32, 104.67, 104.08, 104.96, 105.12, 105.03, 105.53, 104.72, 105.72, 106.41, 109.94, 113.54, 116.33, 114.68, 116.69, 118.24, 120.67, 121.36, 119.9, 119.88, 119.02, 117.63, 116.72, 116.6, 113.5, 113.08, 115.23, 113.68, 116.86, 117.25, 117.91, 119.9, 119.31, 119.46, 119.63, 120.08, 121.99, 120.2, 124.5, 123.22, 124.92, 125.15, 123.62, 122.77, 119.0, 119.77, 119.72, 119.44, 122.39, 124.85, 123.25, 124.08, 126.25, 117.98, 115.27, 116.15, 117.24, 116.47, 114.24, 115.44, 115.84, 118.3, 118.09, 117.7, 120.31, 120.94, 118.41, 119.33, 118.73, 117.79, 118.4, 116.58, 117.13, 117.2, 116.57, 117.01, 118.86, 118.09, 118.5, 119.36, 123.49, 127.77, 127.25, 129.72, 128.44, 127.54, 127.16, 126.67, 125.52, 127.56, 131.66, 130.94, 134.51, 134.26, 133.05, 134.32, 137.37, 137.13, 136.13, 135.59, 141.09, 141.01, 144.45, 145.95, 145.56, 144.96, 144.46, 144.15, 147.1, 147.15, 147.86, 149.9, 147.52, 150.45, 151.12, 150.26, 151.6, 152.24, 154.11, 154.52, 155.93, 154.99, 158.65, 155.18, 150.88, 154.09, 147.65, 148.0, 151.65, 149.76, 150.53, 152.18, 152.96, 154.13, 156.62, 152.98, 153.3, 151.85, 151.91, 154.02, 154.84, 151.95, 148.84, 150.13, 145.38, 146.6, 146.11, 146.54, 147.84, 147.15, 146.04, 146.68, 143.41, 142.99, 143.69, 143.82, 146.52, 149.46, 149.07, 149.12, 146.46, 144.1, 140.6, 138.6, 138.72, 139.52, 142.94, 143.93, 144.76, 144.11, 145.11, 146.07, 142.61, 143.67, 145.37, 148.45, 149.32, 150.26, 148.54, 149.1, 149.63, 154.52, 155.61, 154.47, 158.18, 158.9, 160.73, 159.34, 157.41, 158.72, 160.7, 162.87, 164.35, 162.08, 163.56, 161.68, 158.3, 159.68, 166.01, 167.49, 163.31, 161.86, 165.82, 162.92, 164.11, 164.15, 161.56, 155.41, 154.25, 150.78, 153.06, 151.66, 153.51, 151.25, 151.75, 150.92, 150.43, 153.24, 153.81, 156.94, 155.83, 157.71, 160.11, 163.0, 160.24, 161.5, 164.06, 164.36, 166.25, 166.26, 165.04, 165.91, 165.26, 163.17, 162.43, 164.03, 167.49, 167.62, 168.32, 164.78, 163.45, 162.84, 162.13, 161.69, 163.71, 163.34, 160.75, 160.66, 158.63, 159.56, 157.11, 159.41, 158.65, 157.9, 153.23, 152.97, 153.63, 152.13, 154.76, 155.74, 156.17, 156.66, 159.49, 165.14, 165.06, 163.35, 164.0, 167.03, 167.42, 168.06, 167.78, 169.75, 165.25, 162.97, 162.31, 162.29, 159.85, 158.21, 159.0, 158.67, 156.85, 156.55, 154.25, 153.05, 154.44, 158.01, 160.0, 159.46, 157.63, 162.25, 158.32, 158.69, 159.77, 159.25, 157.74, 159.96, 162.09, 161.45, 162.11, 162.05, 160.86, 162.05, 163.16, 161.95, 163.52, 159.64, 163.17, 163.84, 162.89, 162.94, 163.2, 164.4, 165.68, 166.6, 165.0, 167.07, 168.1, 169.48, 168.04, 168.22, 168.94, 169.72, 168.05, 168.7, 165.56, 167.21, 167.67, 169.73, 167.6, 168.33, 168.39, 170.95, 170.49, 174.84, 174.77, 175.16, 176.47, 176.16, 176.45, 176.35, 175.73, 177.26, 176.89, 178.15, 179.37, 178.29, 178.44, 177.4, 178.39, 175.88, 176.6, 178.75, 175.17, 176.28, 173.2, 173.68, 170.75, 167.64, 164.69, 166.25, 163.9, 165.84, 164.12, 159.82, 161.76, 160.42, 161.75, 161.93, 161.0, 164.39, 163.5, 164.06, 163.72, 164.65, 163.26, 164.5, 164.5, 166.54, 163.48, 162.8, 165.38, 166.45, 164.74, 168.73, 171.9, 172.6, 174.26, 173.51, 169.89, 169.72, 166.7, 165.35, 166.84, 168.09, 168.18, 169.22, 166.95, 165.72, 163.25, 161.73, 162.29, 162.3, 163.85, 165.92, 167.27, 166.09, 163.24, 158.56, 156.56, 158.16, 155.98, 152.72, 154.74, 154.92, 157.22, 157.44, 157.8, 160.46, 160.45, 160.85, 158.24, 156.54, 158.24, 159.82, 160.37, 158.88, 156.35, 154.54, 155.52, 157.4, 157.2, 159.55, 160.28, 159.45, 156.64, 156.43, 157.67, 156.35, 159.35, 159.85, 160.16, 161.77, 161.19, 160.74, 159.81, 160.03, 161.8, 162.39, 162.58, 166.19, 166.0, 166.36, 165.43, 165.96, 165.89, 165.85, 168.22, 169.86, 169.73, 169.84, 170.24, 168.23, 168.38, 168.01, 166.78, 167.44, 166.81, 166.89, 169.46, 167.78, 164.91, 164.67, 163.42, 164.8, 167.0, 169.17, 170.47, 170.14, 171.47, 171.72, 175.02, 176.82, 176.26, 175.4, 175.95, 175.54, 175.76, 172.87, 170.25, 171.69, 169.42, 169.74, 169.1, 172.26, 172.46, 172.33, 172.37, 172.73, 171.9, 174.55, 173.96, 174.03, 175.15, 175.47, 177.87, 177.9, 177.81, 177.65, 179.11, 179.77, 179.6, 180.08, 179.75, 180.11, 177.4, 179.87, 181.0, 183.17, 183.98, 184.04, 184.82, 187.89, 186.2, 185.29, 185.09, 187.81, 184.09, 185.12, 183.83, 183.57, 180.7, 182.88, 188.07, 187.48, 183.8, 186.64, 181.27, 180.38, 178.77, 178.7, 177.24, 172.58, 176.91, 177.84, 180.18, 176.83, 180.06, 183.35, 183.91, 186.32, 186.08, 186.97, 189.99, 190.83, 190.27, 189.84, 191.0, 190.71, 191.8, 191.88, 190.18, 190.24, 189.98, 189.93, 189.64, 189.19, 189.75, 189.59, 190.07, 188.86, 188.52, 188.41, 188.2, 190.19, 190.95, 191.95, 195.45, 196.62, 196.89, 192.0, 193.54, 188.82, 185.54, 183.31, 185.03, 191.61, 193.28, 194.44, 195.5, 195.89, 195.45, 196.19, 195.71, 193.83, 194.41, 188.34, 184.53, 187.28, 190.27, 187.35, 185.07, 184.93, 180.23, 178.49, 177.23, 175.63, 177.15, 182.04, 180.49, 180.42, 176.49, 173.05, 175.99, 172.41, 175.49, 180.24, 178.78, 180.77, 183.43, 182.22, 184.56, 187.65, 189.78, 189.0, 190.02, 188.67, 189.11, 191.51, 190.31, 192.22, 191.72, 192.2, 189.79, 191.79, 191.27, 189.67, 190.08, 186.91, 187.93, 182.71, 184.18, 189.95, 189.34, 191.9, 190.57, 192.32, 189.97, 193.13, 191.96, 191.28, 187.35, 187.24, 188.06, 191.02, 187.97, 192.23, 191.55, 192.05, 192.39, 192.56, 194.89, 195.64, 195.58, 197.72, 201.1, 200.21, 197.35, 198.1, 196.84, 198.32, 199.31, 197.99, 196.52, 197.49, 198.56, 196.42, 197.53, 199.3, 197.29, 196.25, 197.39, 200.5, 201.73, 200.53, 201.43, 202.62, 202.97, 204.66, 205.4, 205.08, 204.95, 207.8, 206.38, 209.06, 208.48, 206.19, 207.81, 206.43, 208.29, 208.87, 210.45, 209.79, 209.02, 213.13, 213.94, 213.06, 211.76, 213.56, 212.93, 214.6, 213.19, 216.51, 218.4, 214.43, 212.82, 213.17, 207.65, 208.79, 209.94, 209.2, 208.04, 208.21, 204.06, 204.81, 207.19, 210.12, 212.16, 212.96, 211.18, 212.46, 212.39, 211.5, 213.25, 211.05, 207.35, 205.02, 206.24, 206.84, 207.2, 205.07, 204.69, 205.17, 205.7, 205.09, 203.44, 205.97, 201.7, 201.13, 200.74, 202.02, 202.57, 201.18, 200.95, 196.75, 187.74, 179.46, 178.22, 184.4, 189.21, 187.75, 188.6, 182.12, 184.51, 185.06, 180.38, 185.88, 185.68, 185.91, 185.27, 183.94, 187.45, 188.64, 186.45, 180.94, 183.35, 179.72, 179.41, 176.91, 179.83, 173.02, 171.86, 173.76, 176.02, 177.01, 180.7, 180.32, 182.23, 181.07, 179.19, 180.23, 180.97, 179.51, 184.96, 185.18, 185.74, 185.51, 179.7, 183.56, 185.5, 187.01, 186.31, 191.32, 189.89, 187.5, 189.68, 190.69, 191.65, 192.02, 199.17, 196.76, 197.81, 197.39, 192.77, 190.39, 192.16, 190.57, 193.66, 193.03, 191.47, 189.19, 188.67, 189.15, 190.47, 190.02, 193.07, 190.26, 185.2, 189.99, 185.49, 182.92, 180.71, 182.11, 176.56, 176.4, 182.01, 186.21, 182.61, 175.49, 177.75, 180.05, 182.95, 182.47, 181.62, 183.53, 182.01, 180.23], \"mode\": \"lines\", \"line\": {\"color\": \"rgba(132, 118, 202, 1.0)\", \"dash\": \"solid\", \"width\": 1.3}, \"text\": \"\", \"name\": \"GS\"}, {\"type\": \"scatter\", \"x\": [\"2006-01-03\", \"2006-01-04\", \"2006-01-05\", \"2006-01-06\", \"2006-01-09\", \"2006-01-10\", \"2006-01-11\", \"2006-01-12\", \"2006-01-13\", \"2006-01-17\", \"2006-01-18\", \"2006-01-19\", \"2006-01-20\", \"2006-01-23\", \"2006-01-24\", \"2006-01-25\", \"2006-01-26\", \"2006-01-27\", \"2006-01-30\", \"2006-01-31\", \"2006-02-01\", \"2006-02-02\", \"2006-02-03\", \"2006-02-06\", \"2006-02-07\", \"2006-02-08\", \"2006-02-09\", \"2006-02-10\", \"2006-02-13\", \"2006-02-14\", \"2006-02-15\", \"2006-02-16\", \"2006-02-17\", \"2006-02-21\", \"2006-02-22\", \"2006-02-23\", \"2006-02-24\", \"2006-02-27\", \"2006-02-28\", \"2006-03-01\", \"2006-03-02\", \"2006-03-03\", \"2006-03-06\", \"2006-03-07\", \"2006-03-08\", \"2006-03-09\", \"2006-03-10\", \"2006-03-13\", \"2006-03-14\", \"2006-03-15\", \"2006-03-16\", \"2006-03-17\", \"2006-03-20\", \"2006-03-21\", \"2006-03-22\", \"2006-03-23\", \"2006-03-24\", \"2006-03-27\", \"2006-03-28\", \"2006-03-29\", \"2006-03-30\", \"2006-03-31\", \"2006-04-03\", \"2006-04-04\", \"2006-04-05\", \"2006-04-06\", \"2006-04-07\", \"2006-04-10\", \"2006-04-11\", \"2006-04-12\", \"2006-04-13\", \"2006-04-17\", \"2006-04-18\", \"2006-04-19\", \"2006-04-20\", \"2006-04-21\", \"2006-04-24\", \"2006-04-25\", \"2006-04-26\", \"2006-04-27\", \"2006-04-28\", \"2006-05-01\", \"2006-05-02\", \"2006-05-03\", \"2006-05-04\", \"2006-05-05\", \"2006-05-08\", \"2006-05-09\", \"2006-05-10\", \"2006-05-11\", \"2006-05-12\", \"2006-05-15\", \"2006-05-16\", \"2006-05-17\", \"2006-05-18\", \"2006-05-19\", \"2006-05-22\", \"2006-05-23\", \"2006-05-24\", \"2006-05-25\", \"2006-05-26\", \"2006-05-30\", \"2006-05-31\", \"2006-06-01\", \"2006-06-02\", \"2006-06-05\", \"2006-06-06\", \"2006-06-07\", \"2006-06-08\", \"2006-06-09\", \"2006-06-12\", \"2006-06-13\", \"2006-06-14\", \"2006-06-15\", \"2006-06-16\", \"2006-06-19\", \"2006-06-20\", \"2006-06-21\", \"2006-06-22\", \"2006-06-23\", \"2006-06-26\", \"2006-06-27\", \"2006-06-28\", \"2006-06-29\", \"2006-06-30\", \"2006-07-03\", \"2006-07-05\", \"2006-07-06\", \"2006-07-07\", \"2006-07-10\", \"2006-07-11\", \"2006-07-12\", \"2006-07-13\", \"2006-07-14\", \"2006-07-17\", \"2006-07-18\", \"2006-07-19\", \"2006-07-20\", \"2006-07-21\", \"2006-07-24\", \"2006-07-25\", \"2006-07-26\", \"2006-07-27\", \"2006-07-28\", \"2006-07-31\", \"2006-08-01\", \"2006-08-02\", \"2006-08-03\", \"2006-08-04\", \"2006-08-07\", \"2006-08-08\", \"2006-08-09\", \"2006-08-10\", \"2006-08-11\", \"2006-08-14\", \"2006-08-15\", \"2006-08-16\", \"2006-08-17\", \"2006-08-18\", \"2006-08-21\", \"2006-08-22\", \"2006-08-23\", \"2006-08-24\", \"2006-08-25\", \"2006-08-28\", \"2006-08-29\", \"2006-08-30\", \"2006-08-31\", \"2006-09-01\", \"2006-09-05\", \"2006-09-06\", \"2006-09-07\", \"2006-09-08\", \"2006-09-11\", \"2006-09-12\", \"2006-09-13\", \"2006-09-14\", \"2006-09-15\", \"2006-09-18\", \"2006-09-19\", \"2006-09-20\", \"2006-09-21\", \"2006-09-22\", \"2006-09-25\", \"2006-09-26\", \"2006-09-27\", \"2006-09-28\", \"2006-09-29\", \"2006-10-02\", \"2006-10-03\", \"2006-10-04\", \"2006-10-05\", \"2006-10-06\", \"2006-10-09\", \"2006-10-10\", \"2006-10-11\", \"2006-10-12\", \"2006-10-13\", \"2006-10-16\", \"2006-10-17\", \"2006-10-18\", \"2006-10-19\", \"2006-10-20\", \"2006-10-23\", \"2006-10-24\", \"2006-10-25\", \"2006-10-26\", \"2006-10-27\", \"2006-10-30\", \"2006-10-31\", \"2006-11-01\", \"2006-11-02\", \"2006-11-03\", \"2006-11-06\", \"2006-11-07\", \"2006-11-08\", \"2006-11-09\", \"2006-11-10\", \"2006-11-13\", \"2006-11-14\", \"2006-11-15\", \"2006-11-16\", \"2006-11-17\", \"2006-11-20\", \"2006-11-21\", \"2006-11-22\", \"2006-11-24\", \"2006-11-27\", \"2006-11-28\", \"2006-11-29\", \"2006-11-30\", \"2006-12-01\", \"2006-12-04\", \"2006-12-05\", \"2006-12-06\", \"2006-12-07\", \"2006-12-08\", \"2006-12-11\", \"2006-12-12\", \"2006-12-13\", \"2006-12-14\", \"2006-12-15\", \"2006-12-18\", \"2006-12-19\", \"2006-12-20\", \"2006-12-21\", \"2006-12-22\", \"2006-12-26\", \"2006-12-27\", \"2006-12-28\", \"2006-12-29\", \"2007-01-03\", \"2007-01-04\", \"2007-01-05\", \"2007-01-08\", \"2007-01-09\", \"2007-01-10\", \"2007-01-11\", \"2007-01-12\", \"2007-01-16\", \"2007-01-17\", \"2007-01-18\", \"2007-01-19\", \"2007-01-22\", \"2007-01-23\", \"2007-01-24\", \"2007-01-25\", \"2007-01-26\", \"2007-01-29\", \"2007-01-30\", \"2007-01-31\", \"2007-02-01\", \"2007-02-02\", \"2007-02-05\", \"2007-02-06\", \"2007-02-07\", \"2007-02-08\", \"2007-02-09\", \"2007-02-12\", \"2007-02-13\", \"2007-02-14\", \"2007-02-15\", \"2007-02-16\", \"2007-02-20\", \"2007-02-21\", \"2007-02-22\", \"2007-02-23\", \"2007-02-26\", \"2007-02-27\", \"2007-02-28\", \"2007-03-01\", \"2007-03-02\", \"2007-03-05\", \"2007-03-06\", \"2007-03-07\", \"2007-03-08\", \"2007-03-09\", \"2007-03-12\", \"2007-03-13\", \"2007-03-14\", \"2007-03-15\", \"2007-03-16\", \"2007-03-19\", \"2007-03-20\", \"2007-03-21\", \"2007-03-22\", \"2007-03-23\", \"2007-03-26\", \"2007-03-27\", \"2007-03-28\", \"2007-03-29\", \"2007-03-30\", \"2007-04-02\", \"2007-04-03\", \"2007-04-04\", \"2007-04-05\", \"2007-04-09\", \"2007-04-10\", \"2007-04-11\", \"2007-04-12\", \"2007-04-13\", \"2007-04-16\", \"2007-04-17\", \"2007-04-18\", \"2007-04-19\", \"2007-04-20\", \"2007-04-23\", \"2007-04-24\", \"2007-04-25\", \"2007-04-26\", \"2007-04-27\", \"2007-04-30\", \"2007-05-01\", \"2007-05-02\", \"2007-05-03\", \"2007-05-04\", \"2007-05-07\", \"2007-05-08\", \"2007-05-09\", \"2007-05-10\", \"2007-05-11\", \"2007-05-14\", \"2007-05-15\", \"2007-05-16\", \"2007-05-17\", \"2007-05-18\", \"2007-05-21\", \"2007-05-22\", \"2007-05-23\", \"2007-05-24\", \"2007-05-25\", \"2007-05-29\", \"2007-05-30\", \"2007-05-31\", \"2007-06-01\", \"2007-06-04\", \"2007-06-05\", \"2007-06-06\", \"2007-06-07\", \"2007-06-08\", \"2007-06-11\", \"2007-06-12\", \"2007-06-13\", \"2007-06-14\", \"2007-06-15\", \"2007-06-18\", \"2007-06-19\", \"2007-06-20\", \"2007-06-21\", \"2007-06-22\", \"2007-06-25\", \"2007-06-26\", \"2007-06-27\", \"2007-06-28\", \"2007-06-29\", \"2007-07-02\", \"2007-07-03\", \"2007-07-05\", \"2007-07-06\", \"2007-07-09\", \"2007-07-10\", \"2007-07-11\", \"2007-07-12\", \"2007-07-13\", \"2007-07-16\", \"2007-07-17\", \"2007-07-18\", \"2007-07-19\", \"2007-07-20\", \"2007-07-23\", \"2007-07-24\", \"2007-07-25\", \"2007-07-26\", \"2007-07-27\", \"2007-07-30\", \"2007-07-31\", \"2007-08-01\", \"2007-08-02\", \"2007-08-03\", \"2007-08-06\", \"2007-08-07\", \"2007-08-08\", \"2007-08-09\", \"2007-08-10\", \"2007-08-13\", \"2007-08-14\", \"2007-08-15\", \"2007-08-16\", \"2007-08-17\", \"2007-08-20\", \"2007-08-21\", \"2007-08-22\", \"2007-08-23\", \"2007-08-24\", \"2007-08-27\", \"2007-08-28\", \"2007-08-29\", \"2007-08-30\", \"2007-08-31\", \"2007-09-04\", \"2007-09-05\", \"2007-09-06\", \"2007-09-07\", \"2007-09-10\", \"2007-09-11\", \"2007-09-12\", \"2007-09-13\", \"2007-09-14\", \"2007-09-17\", \"2007-09-18\", \"2007-09-19\", \"2007-09-20\", \"2007-09-21\", \"2007-09-24\", \"2007-09-25\", \"2007-09-26\", \"2007-09-27\", \"2007-09-28\", \"2007-10-01\", \"2007-10-02\", \"2007-10-03\", \"2007-10-04\", \"2007-10-05\", \"2007-10-08\", \"2007-10-09\", \"2007-10-10\", \"2007-10-11\", \"2007-10-12\", \"2007-10-15\", \"2007-10-16\", \"2007-10-17\", \"2007-10-18\", \"2007-10-19\", \"2007-10-22\", \"2007-10-23\", \"2007-10-24\", \"2007-10-25\", \"2007-10-26\", \"2007-10-29\", \"2007-10-30\", \"2007-10-31\", \"2007-11-01\", \"2007-11-02\", \"2007-11-05\", \"2007-11-06\", \"2007-11-07\", \"2007-11-08\", \"2007-11-09\", \"2007-11-12\", \"2007-11-13\", \"2007-11-14\", \"2007-11-15\", \"2007-11-16\", \"2007-11-19\", \"2007-11-20\", \"2007-11-21\", \"2007-11-23\", \"2007-11-26\", \"2007-11-27\", \"2007-11-28\", \"2007-11-29\", \"2007-11-30\", \"2007-12-03\", \"2007-12-04\", \"2007-12-05\", \"2007-12-06\", \"2007-12-07\", \"2007-12-10\", \"2007-12-11\", \"2007-12-12\", \"2007-12-13\", \"2007-12-14\", \"2007-12-17\", \"2007-12-18\", \"2007-12-19\", \"2007-12-20\", \"2007-12-21\", \"2007-12-24\", \"2007-12-26\", \"2007-12-27\", \"2007-12-28\", \"2007-12-31\", \"2008-01-02\", \"2008-01-03\", \"2008-01-04\", \"2008-01-07\", \"2008-01-08\", \"2008-01-09\", \"2008-01-10\", \"2008-01-11\", \"2008-01-14\", \"2008-01-15\", \"2008-01-16\", \"2008-01-17\", \"2008-01-18\", \"2008-01-22\", \"2008-01-23\", \"2008-01-24\", \"2008-01-25\", \"2008-01-28\", \"2008-01-29\", \"2008-01-30\", \"2008-01-31\", \"2008-02-01\", \"2008-02-04\", \"2008-02-05\", \"2008-02-06\", \"2008-02-07\", \"2008-02-08\", \"2008-02-11\", \"2008-02-12\", \"2008-02-13\", \"2008-02-14\", \"2008-02-15\", \"2008-02-19\", \"2008-02-20\", \"2008-02-21\", \"2008-02-22\", \"2008-02-25\", \"2008-02-26\", \"2008-02-27\", \"2008-02-28\", \"2008-02-29\", \"2008-03-03\", \"2008-03-04\", \"2008-03-05\", \"2008-03-06\", \"2008-03-07\", \"2008-03-10\", \"2008-03-11\", \"2008-03-12\", \"2008-03-13\", \"2008-03-14\", \"2008-03-17\", \"2008-03-18\", \"2008-03-19\", \"2008-03-20\", \"2008-03-24\", \"2008-03-25\", \"2008-03-26\", \"2008-03-27\", \"2008-03-28\", \"2008-03-31\", \"2008-04-01\", \"2008-04-02\", \"2008-04-03\", \"2008-04-04\", \"2008-04-07\", \"2008-04-08\", \"2008-04-09\", \"2008-04-10\", \"2008-04-11\", \"2008-04-14\", \"2008-04-15\", \"2008-04-16\", \"2008-04-17\", \"2008-04-18\", \"2008-04-21\", \"2008-04-22\", \"2008-04-23\", \"2008-04-24\", \"2008-04-25\", \"2008-04-28\", \"2008-04-29\", \"2008-04-30\", \"2008-05-01\", \"2008-05-02\", \"2008-05-05\", \"2008-05-06\", \"2008-05-07\", \"2008-05-08\", \"2008-05-09\", \"2008-05-12\", \"2008-05-13\", \"2008-05-14\", \"2008-05-15\", \"2008-05-16\", \"2008-05-19\", \"2008-05-20\", \"2008-05-21\", \"2008-05-22\", \"2008-05-23\", \"2008-05-27\", \"2008-05-28\", \"2008-05-29\", \"2008-05-30\", \"2008-06-02\", \"2008-06-03\", \"2008-06-04\", \"2008-06-05\", \"2008-06-06\", \"2008-06-09\", \"2008-06-10\", \"2008-06-11\", \"2008-06-12\", \"2008-06-13\", \"2008-06-16\", \"2008-06-17\", \"2008-06-18\", \"2008-06-19\", \"2008-06-20\", \"2008-06-23\", \"2008-06-24\", \"2008-06-25\", \"2008-06-26\", \"2008-06-27\", \"2008-06-30\", \"2008-07-01\", \"2008-07-02\", \"2008-07-03\", \"2008-07-07\", \"2008-07-08\", \"2008-07-09\", \"2008-07-10\", \"2008-07-11\", \"2008-07-14\", \"2008-07-15\", \"2008-07-16\", \"2008-07-17\", \"2008-07-18\", \"2008-07-21\", \"2008-07-22\", \"2008-07-23\", \"2008-07-24\", \"2008-07-25\", \"2008-07-28\", \"2008-07-29\", \"2008-07-30\", \"2008-07-31\", \"2008-08-01\", \"2008-08-04\", \"2008-08-05\", \"2008-08-06\", \"2008-08-07\", \"2008-08-08\", \"2008-08-11\", \"2008-08-12\", \"2008-08-13\", \"2008-08-14\", \"2008-08-15\", \"2008-08-18\", \"2008-08-19\", \"2008-08-20\", \"2008-08-21\", \"2008-08-22\", \"2008-08-25\", \"2008-08-26\", \"2008-08-27\", \"2008-08-28\", \"2008-08-29\", \"2008-09-02\", \"2008-09-03\", \"2008-09-04\", \"2008-09-05\", \"2008-09-08\", \"2008-09-09\", \"2008-09-10\", \"2008-09-11\", \"2008-09-12\", \"2008-09-15\", \"2008-09-16\", \"2008-09-17\", \"2008-09-18\", \"2008-09-19\", \"2008-09-22\", \"2008-09-23\", \"2008-09-24\", \"2008-09-25\", \"2008-09-26\", \"2008-09-29\", \"2008-09-30\", \"2008-10-01\", \"2008-10-02\", \"2008-10-03\", \"2008-10-06\", \"2008-10-07\", \"2008-10-08\", \"2008-10-09\", \"2008-10-10\", \"2008-10-13\", \"2008-10-14\", \"2008-10-15\", \"2008-10-16\", \"2008-10-17\", \"2008-10-20\", \"2008-10-21\", \"2008-10-22\", \"2008-10-23\", \"2008-10-24\", \"2008-10-27\", \"2008-10-28\", \"2008-10-29\", \"2008-10-30\", \"2008-10-31\", \"2008-11-03\", \"2008-11-04\", \"2008-11-05\", \"2008-11-06\", \"2008-11-07\", \"2008-11-10\", \"2008-11-11\", \"2008-11-12\", \"2008-11-13\", \"2008-11-14\", \"2008-11-17\", \"2008-11-18\", \"2008-11-19\", \"2008-11-20\", \"2008-11-21\", \"2008-11-24\", \"2008-11-25\", \"2008-11-26\", \"2008-11-28\", \"2008-12-01\", \"2008-12-02\", \"2008-12-03\", \"2008-12-04\", \"2008-12-05\", \"2008-12-08\", \"2008-12-09\", \"2008-12-10\", \"2008-12-11\", \"2008-12-12\", \"2008-12-15\", \"2008-12-16\", \"2008-12-17\", \"2008-12-18\", \"2008-12-19\", \"2008-12-22\", \"2008-12-23\", \"2008-12-24\", \"2008-12-26\", \"2008-12-29\", \"2008-12-30\", \"2008-12-31\", \"2009-01-02\", \"2009-01-05\", \"2009-01-06\", \"2009-01-07\", \"2009-01-08\", \"2009-01-09\", \"2009-01-12\", \"2009-01-13\", \"2009-01-14\", \"2009-01-15\", \"2009-01-16\", \"2009-01-20\", \"2009-01-21\", \"2009-01-22\", \"2009-01-23\", \"2009-01-26\", \"2009-01-27\", \"2009-01-28\", \"2009-01-29\", \"2009-01-30\", \"2009-02-02\", \"2009-02-03\", \"2009-02-04\", \"2009-02-05\", \"2009-02-06\", \"2009-02-09\", \"2009-02-10\", \"2009-02-11\", \"2009-02-12\", \"2009-02-13\", \"2009-02-17\", \"2009-02-18\", \"2009-02-19\", \"2009-02-20\", \"2009-02-23\", \"2009-02-24\", \"2009-02-25\", \"2009-02-26\", \"2009-02-27\", \"2009-03-02\", \"2009-03-03\", \"2009-03-04\", \"2009-03-05\", \"2009-03-06\", \"2009-03-09\", \"2009-03-10\", \"2009-03-11\", \"2009-03-12\", \"2009-03-13\", \"2009-03-16\", \"2009-03-17\", \"2009-03-18\", \"2009-03-19\", \"2009-03-20\", \"2009-03-23\", \"2009-03-24\", \"2009-03-25\", \"2009-03-26\", \"2009-03-27\", \"2009-03-30\", \"2009-03-31\", \"2009-04-01\", \"2009-04-02\", \"2009-04-03\", \"2009-04-06\", \"2009-04-07\", \"2009-04-08\", \"2009-04-09\", \"2009-04-13\", \"2009-04-14\", \"2009-04-15\", \"2009-04-16\", \"2009-04-17\", \"2009-04-20\", \"2009-04-21\", \"2009-04-22\", \"2009-04-23\", \"2009-04-24\", \"2009-04-27\", \"2009-04-28\", \"2009-04-29\", \"2009-04-30\", \"2009-05-01\", \"2009-05-04\", \"2009-05-05\", \"2009-05-06\", \"2009-05-07\", \"2009-05-08\", \"2009-05-11\", \"2009-05-12\", \"2009-05-13\", \"2009-05-14\", \"2009-05-15\", \"2009-05-18\", \"2009-05-19\", \"2009-05-20\", \"2009-05-21\", \"2009-05-22\", \"2009-05-26\", \"2009-05-27\", \"2009-05-28\", \"2009-05-29\", \"2009-06-01\", \"2009-06-02\", \"2009-06-03\", \"2009-06-04\", \"2009-06-05\", \"2009-06-08\", \"2009-06-09\", \"2009-06-10\", \"2009-06-11\", \"2009-06-12\", \"2009-06-15\", \"2009-06-16\", \"2009-06-17\", \"2009-06-18\", \"2009-06-19\", \"2009-06-22\", \"2009-06-23\", \"2009-06-24\", \"2009-06-25\", \"2009-06-26\", \"2009-06-29\", \"2009-06-30\", \"2009-07-01\", \"2009-07-02\", \"2009-07-06\", \"2009-07-07\", \"2009-07-08\", \"2009-07-09\", \"2009-07-10\", \"2009-07-13\", \"2009-07-14\", \"2009-07-15\", \"2009-07-16\", \"2009-07-17\", \"2009-07-20\", \"2009-07-21\", \"2009-07-22\", \"2009-07-23\", \"2009-07-24\", \"2009-07-27\", \"2009-07-28\", \"2009-07-29\", \"2009-07-30\", \"2009-07-31\", \"2009-08-03\", \"2009-08-04\", \"2009-08-05\", \"2009-08-06\", \"2009-08-07\", \"2009-08-10\", \"2009-08-11\", \"2009-08-12\", \"2009-08-13\", \"2009-08-14\", \"2009-08-17\", \"2009-08-18\", \"2009-08-19\", \"2009-08-20\", \"2009-08-21\", \"2009-08-24\", \"2009-08-25\", \"2009-08-26\", \"2009-08-27\", \"2009-08-28\", \"2009-08-31\", \"2009-09-01\", \"2009-09-02\", \"2009-09-03\", \"2009-09-04\", \"2009-09-08\", \"2009-09-09\", \"2009-09-10\", \"2009-09-11\", \"2009-09-14\", \"2009-09-15\", \"2009-09-16\", \"2009-09-17\", \"2009-09-18\", \"2009-09-21\", \"2009-09-22\", \"2009-09-23\", \"2009-09-24\", \"2009-09-25\", \"2009-09-28\", \"2009-09-29\", \"2009-09-30\", \"2009-10-01\", \"2009-10-02\", \"2009-10-05\", \"2009-10-06\", \"2009-10-07\", \"2009-10-08\", \"2009-10-09\", \"2009-10-12\", \"2009-10-13\", \"2009-10-14\", \"2009-10-15\", \"2009-10-16\", \"2009-10-19\", \"2009-10-20\", \"2009-10-21\", \"2009-10-22\", \"2009-10-23\", \"2009-10-26\", \"2009-10-27\", \"2009-10-28\", \"2009-10-29\", \"2009-10-30\", \"2009-11-02\", \"2009-11-03\", \"2009-11-04\", \"2009-11-05\", \"2009-11-06\", \"2009-11-09\", \"2009-11-10\", \"2009-11-11\", \"2009-11-12\", \"2009-11-13\", \"2009-11-16\", \"2009-11-17\", \"2009-11-18\", \"2009-11-19\", \"2009-11-20\", \"2009-11-23\", \"2009-11-24\", \"2009-11-25\", \"2009-11-27\", \"2009-11-30\", \"2009-12-01\", \"2009-12-02\", \"2009-12-03\", \"2009-12-04\", \"2009-12-07\", \"2009-12-08\", \"2009-12-09\", \"2009-12-10\", \"2009-12-11\", \"2009-12-14\", \"2009-12-15\", \"2009-12-16\", \"2009-12-17\", \"2009-12-18\", \"2009-12-21\", \"2009-12-22\", \"2009-12-23\", \"2009-12-24\", \"2009-12-28\", \"2009-12-29\", \"2009-12-30\", \"2009-12-31\", \"2010-01-04\", \"2010-01-05\", \"2010-01-06\", \"2010-01-07\", \"2010-01-08\", \"2010-01-11\", \"2010-01-12\", \"2010-01-13\", \"2010-01-14\", \"2010-01-15\", \"2010-01-19\", \"2010-01-20\", \"2010-01-21\", \"2010-01-22\", \"2010-01-25\", \"2010-01-26\", \"2010-01-27\", \"2010-01-28\", \"2010-01-29\", \"2010-02-01\", \"2010-02-02\", \"2010-02-03\", \"2010-02-04\", \"2010-02-05\", \"2010-02-08\", \"2010-02-09\", \"2010-02-10\", \"2010-02-11\", \"2010-02-12\", \"2010-02-16\", \"2010-02-17\", \"2010-02-18\", \"2010-02-19\", \"2010-02-22\", \"2010-02-23\", \"2010-02-24\", \"2010-02-25\", \"2010-02-26\", \"2010-03-01\", \"2010-03-02\", \"2010-03-03\", \"2010-03-04\", \"2010-03-05\", \"2010-03-08\", \"2010-03-09\", \"2010-03-10\", \"2010-03-11\", \"2010-03-12\", \"2010-03-15\", \"2010-03-16\", \"2010-03-17\", \"2010-03-18\", \"2010-03-19\", \"2010-03-22\", \"2010-03-23\", \"2010-03-24\", \"2010-03-25\", \"2010-03-26\", \"2010-03-29\", \"2010-03-30\", \"2010-03-31\", \"2010-04-01\", \"2010-04-05\", \"2010-04-06\", \"2010-04-07\", \"2010-04-08\", \"2010-04-09\", \"2010-04-12\", \"2010-04-13\", \"2010-04-14\", \"2010-04-15\", \"2010-04-16\", \"2010-04-19\", \"2010-04-20\", \"2010-04-21\", \"2010-04-22\", \"2010-04-23\", \"2010-04-26\", \"2010-04-27\", \"2010-04-28\", \"2010-04-29\", \"2010-04-30\", \"2010-05-03\", \"2010-05-04\", \"2010-05-05\", \"2010-05-06\", \"2010-05-07\", \"2010-05-10\", \"2010-05-11\", \"2010-05-12\", \"2010-05-13\", \"2010-05-14\", \"2010-05-17\", \"2010-05-18\", \"2010-05-19\", \"2010-05-20\", \"2010-05-21\", \"2010-05-24\", \"2010-05-25\", \"2010-05-26\", \"2010-05-27\", \"2010-05-28\", \"2010-06-01\", \"2010-06-02\", \"2010-06-03\", \"2010-06-04\", \"2010-06-07\", \"2010-06-08\", \"2010-06-09\", \"2010-06-10\", \"2010-06-11\", \"2010-06-14\", \"2010-06-15\", \"2010-06-16\", \"2010-06-17\", \"2010-06-18\", \"2010-06-21\", \"2010-06-22\", \"2010-06-23\", \"2010-06-24\", \"2010-06-25\", \"2010-06-28\", \"2010-06-29\", \"2010-06-30\", \"2010-07-01\", \"2010-07-02\", \"2010-07-06\", \"2010-07-07\", \"2010-07-08\", \"2010-07-09\", \"2010-07-12\", \"2010-07-13\", \"2010-07-14\", \"2010-07-15\", \"2010-07-16\", \"2010-07-19\", \"2010-07-20\", \"2010-07-21\", \"2010-07-22\", \"2010-07-23\", \"2010-07-26\", \"2010-07-27\", \"2010-07-28\", \"2010-07-29\", \"2010-07-30\", \"2010-08-02\", \"2010-08-03\", \"2010-08-04\", \"2010-08-05\", \"2010-08-06\", \"2010-08-09\", \"2010-08-10\", \"2010-08-11\", \"2010-08-12\", \"2010-08-13\", \"2010-08-16\", \"2010-08-17\", \"2010-08-18\", \"2010-08-19\", \"2010-08-20\", \"2010-08-23\", \"2010-08-24\", \"2010-08-25\", \"2010-08-26\", \"2010-08-27\", \"2010-08-30\", \"2010-08-31\", \"2010-09-01\", \"2010-09-02\", \"2010-09-03\", \"2010-09-07\", \"2010-09-08\", \"2010-09-09\", \"2010-09-10\", \"2010-09-13\", \"2010-09-14\", \"2010-09-15\", \"2010-09-16\", \"2010-09-17\", \"2010-09-20\", \"2010-09-21\", \"2010-09-22\", \"2010-09-23\", \"2010-09-24\", \"2010-09-27\", \"2010-09-28\", \"2010-09-29\", \"2010-09-30\", \"2010-10-01\", \"2010-10-04\", \"2010-10-05\", \"2010-10-06\", \"2010-10-07\", \"2010-10-08\", \"2010-10-11\", \"2010-10-12\", \"2010-10-13\", \"2010-10-14\", \"2010-10-15\", \"2010-10-18\", \"2010-10-19\", \"2010-10-20\", \"2010-10-21\", \"2010-10-22\", \"2010-10-25\", \"2010-10-26\", \"2010-10-27\", \"2010-10-28\", \"2010-10-29\", \"2010-11-01\", \"2010-11-02\", \"2010-11-03\", \"2010-11-04\", \"2010-11-05\", \"2010-11-08\", \"2010-11-09\", \"2010-11-10\", \"2010-11-11\", \"2010-11-12\", \"2010-11-15\", \"2010-11-16\", \"2010-11-17\", \"2010-11-18\", \"2010-11-19\", \"2010-11-22\", \"2010-11-23\", \"2010-11-24\", \"2010-11-26\", \"2010-11-29\", \"2010-11-30\", \"2010-12-01\", \"2010-12-02\", \"2010-12-03\", \"2010-12-06\", \"2010-12-07\", \"2010-12-08\", \"2010-12-09\", \"2010-12-10\", \"2010-12-13\", \"2010-12-14\", \"2010-12-15\", \"2010-12-16\", \"2010-12-17\", \"2010-12-20\", \"2010-12-21\", \"2010-12-22\", \"2010-12-23\", \"2010-12-27\", \"2010-12-28\", \"2010-12-29\", \"2010-12-30\", \"2010-12-31\", \"2011-01-03\", \"2011-01-04\", \"2011-01-05\", \"2011-01-06\", \"2011-01-07\", \"2011-01-10\", \"2011-01-11\", \"2011-01-12\", \"2011-01-13\", \"2011-01-14\", \"2011-01-18\", \"2011-01-19\", \"2011-01-20\", \"2011-01-21\", \"2011-01-24\", \"2011-01-25\", \"2011-01-26\", \"2011-01-27\", \"2011-01-28\", \"2011-01-31\", \"2011-02-01\", \"2011-02-02\", \"2011-02-03\", \"2011-02-04\", \"2011-02-07\", \"2011-02-08\", \"2011-02-09\", \"2011-02-10\", \"2011-02-11\", \"2011-02-14\", \"2011-02-15\", \"2011-02-16\", \"2011-02-17\", \"2011-02-18\", \"2011-02-22\", \"2011-02-23\", \"2011-02-24\", \"2011-02-25\", \"2011-02-28\", \"2011-03-01\", \"2011-03-02\", \"2011-03-03\", \"2011-03-04\", \"2011-03-07\", \"2011-03-08\", \"2011-03-09\", \"2011-03-10\", \"2011-03-11\", \"2011-03-14\", \"2011-03-15\", \"2011-03-16\", \"2011-03-17\", \"2011-03-18\", \"2011-03-21\", \"2011-03-22\", \"2011-03-23\", \"2011-03-24\", \"2011-03-25\", \"2011-03-28\", \"2011-03-29\", \"2011-03-30\", \"2011-03-31\", \"2011-04-01\", \"2011-04-04\", \"2011-04-05\", \"2011-04-06\", \"2011-04-07\", \"2011-04-08\", \"2011-04-11\", \"2011-04-12\", \"2011-04-13\", \"2011-04-14\", \"2011-04-15\", \"2011-04-18\", \"2011-04-19\", \"2011-04-20\", \"2011-04-21\", \"2011-04-25\", \"2011-04-26\", \"2011-04-27\", \"2011-04-28\", \"2011-04-29\", \"2011-05-02\", \"2011-05-03\", \"2011-05-04\", \"2011-05-05\", \"2011-05-06\", \"2011-05-09\", \"2011-05-10\", \"2011-05-11\", \"2011-05-12\", \"2011-05-13\", \"2011-05-16\", \"2011-05-17\", \"2011-05-18\", \"2011-05-19\", \"2011-05-20\", \"2011-05-23\", \"2011-05-24\", \"2011-05-25\", \"2011-05-26\", \"2011-05-27\", \"2011-05-31\", \"2011-06-01\", \"2011-06-02\", \"2011-06-03\", \"2011-06-06\", \"2011-06-07\", \"2011-06-08\", \"2011-06-09\", \"2011-06-10\", \"2011-06-13\", \"2011-06-14\", \"2011-06-15\", \"2011-06-16\", \"2011-06-17\", \"2011-06-20\", \"2011-06-21\", \"2011-06-22\", \"2011-06-23\", \"2011-06-24\", \"2011-06-27\", \"2011-06-28\", \"2011-06-29\", \"2011-06-30\", \"2011-07-01\", \"2011-07-05\", \"2011-07-06\", \"2011-07-07\", \"2011-07-08\", \"2011-07-11\", \"2011-07-12\", \"2011-07-13\", \"2011-07-14\", \"2011-07-15\", \"2011-07-18\", \"2011-07-19\", \"2011-07-20\", \"2011-07-21\", \"2011-07-22\", \"2011-07-25\", \"2011-07-26\", \"2011-07-27\", \"2011-07-28\", \"2011-07-29\", \"2011-08-01\", \"2011-08-02\", \"2011-08-03\", \"2011-08-04\", \"2011-08-05\", \"2011-08-08\", \"2011-08-09\", \"2011-08-10\", \"2011-08-11\", \"2011-08-12\", \"2011-08-15\", \"2011-08-16\", \"2011-08-17\", \"2011-08-18\", \"2011-08-19\", \"2011-08-22\", \"2011-08-23\", \"2011-08-24\", \"2011-08-25\", \"2011-08-26\", \"2011-08-29\", \"2011-08-30\", \"2011-08-31\", \"2011-09-01\", \"2011-09-02\", \"2011-09-06\", \"2011-09-07\", \"2011-09-08\", \"2011-09-09\", \"2011-09-12\", \"2011-09-13\", \"2011-09-14\", \"2011-09-15\", \"2011-09-16\", \"2011-09-19\", \"2011-09-20\", \"2011-09-21\", \"2011-09-22\", \"2011-09-23\", \"2011-09-26\", \"2011-09-27\", \"2011-09-28\", \"2011-09-29\", \"2011-09-30\", \"2011-10-03\", \"2011-10-04\", \"2011-10-05\", \"2011-10-06\", \"2011-10-07\", \"2011-10-10\", \"2011-10-11\", \"2011-10-12\", \"2011-10-13\", \"2011-10-14\", \"2011-10-17\", \"2011-10-18\", \"2011-10-19\", \"2011-10-20\", \"2011-10-21\", \"2011-10-24\", \"2011-10-25\", \"2011-10-26\", \"2011-10-27\", \"2011-10-28\", \"2011-10-31\", \"2011-11-01\", \"2011-11-02\", \"2011-11-03\", \"2011-11-04\", \"2011-11-07\", \"2011-11-08\", \"2011-11-09\", \"2011-11-10\", \"2011-11-11\", \"2011-11-14\", \"2011-11-15\", \"2011-11-16\", \"2011-11-17\", \"2011-11-18\", \"2011-11-21\", \"2011-11-22\", \"2011-11-23\", \"2011-11-25\", \"2011-11-28\", \"2011-11-29\", \"2011-11-30\", \"2011-12-01\", \"2011-12-02\", \"2011-12-05\", \"2011-12-06\", \"2011-12-07\", \"2011-12-08\", \"2011-12-09\", \"2011-12-12\", \"2011-12-13\", \"2011-12-14\", \"2011-12-15\", \"2011-12-16\", \"2011-12-19\", \"2011-12-20\", \"2011-12-21\", \"2011-12-22\", \"2011-12-23\", \"2011-12-27\", \"2011-12-28\", \"2011-12-29\", \"2011-12-30\", \"2012-01-03\", \"2012-01-04\", \"2012-01-05\", \"2012-01-06\", \"2012-01-09\", \"2012-01-10\", \"2012-01-11\", \"2012-01-12\", \"2012-01-13\", \"2012-01-17\", \"2012-01-18\", \"2012-01-19\", \"2012-01-20\", \"2012-01-23\", \"2012-01-24\", \"2012-01-25\", \"2012-01-26\", \"2012-01-27\", \"2012-01-30\", \"2012-01-31\", \"2012-02-01\", \"2012-02-02\", \"2012-02-03\", \"2012-02-06\", \"2012-02-07\", \"2012-02-08\", \"2012-02-09\", \"2012-02-10\", \"2012-02-13\", \"2012-02-14\", \"2012-02-15\", \"2012-02-16\", \"2012-02-17\", \"2012-02-21\", \"2012-02-22\", \"2012-02-23\", \"2012-02-24\", \"2012-02-27\", \"2012-02-28\", \"2012-02-29\", \"2012-03-01\", \"2012-03-02\", \"2012-03-05\", \"2012-03-06\", \"2012-03-07\", \"2012-03-08\", \"2012-03-09\", \"2012-03-12\", \"2012-03-13\", \"2012-03-14\", \"2012-03-15\", \"2012-03-16\", \"2012-03-19\", \"2012-03-20\", \"2012-03-21\", \"2012-03-22\", \"2012-03-23\", \"2012-03-26\", \"2012-03-27\", \"2012-03-28\", \"2012-03-29\", \"2012-03-30\", \"2012-04-02\", \"2012-04-03\", \"2012-04-04\", \"2012-04-05\", \"2012-04-09\", \"2012-04-10\", \"2012-04-11\", \"2012-04-12\", \"2012-04-13\", \"2012-04-16\", \"2012-04-17\", \"2012-04-18\", \"2012-04-19\", \"2012-04-20\", \"2012-04-23\", \"2012-04-24\", \"2012-04-25\", \"2012-04-26\", \"2012-04-27\", \"2012-04-30\", \"2012-05-01\", \"2012-05-02\", \"2012-05-03\", \"2012-05-04\", \"2012-05-07\", \"2012-05-08\", \"2012-05-09\", \"2012-05-10\", \"2012-05-11\", \"2012-05-14\", \"2012-05-15\", \"2012-05-16\", \"2012-05-17\", \"2012-05-18\", \"2012-05-21\", \"2012-05-22\", \"2012-05-23\", \"2012-05-24\", \"2012-05-25\", \"2012-05-29\", \"2012-05-30\", \"2012-05-31\", \"2012-06-01\", \"2012-06-04\", \"2012-06-05\", \"2012-06-06\", \"2012-06-07\", \"2012-06-08\", \"2012-06-11\", \"2012-06-12\", \"2012-06-13\", \"2012-06-14\", \"2012-06-15\", \"2012-06-18\", \"2012-06-19\", \"2012-06-20\", \"2012-06-21\", \"2012-06-22\", \"2012-06-25\", \"2012-06-26\", \"2012-06-27\", \"2012-06-28\", \"2012-06-29\", \"2012-07-02\", \"2012-07-03\", \"2012-07-05\", \"2012-07-06\", \"2012-07-09\", \"2012-07-10\", \"2012-07-11\", \"2012-07-12\", \"2012-07-13\", \"2012-07-16\", \"2012-07-17\", \"2012-07-18\", \"2012-07-19\", \"2012-07-20\", \"2012-07-23\", \"2012-07-24\", \"2012-07-25\", \"2012-07-26\", \"2012-07-27\", \"2012-07-30\", \"2012-07-31\", \"2012-08-01\", \"2012-08-02\", \"2012-08-03\", \"2012-08-06\", \"2012-08-07\", \"2012-08-08\", \"2012-08-09\", \"2012-08-10\", \"2012-08-13\", \"2012-08-14\", \"2012-08-15\", \"2012-08-16\", \"2012-08-17\", \"2012-08-20\", \"2012-08-21\", \"2012-08-22\", \"2012-08-23\", \"2012-08-24\", \"2012-08-27\", \"2012-08-28\", \"2012-08-29\", \"2012-08-30\", \"2012-08-31\", \"2012-09-04\", \"2012-09-05\", \"2012-09-06\", \"2012-09-07\", \"2012-09-10\", \"2012-09-11\", \"2012-09-12\", \"2012-09-13\", \"2012-09-14\", \"2012-09-17\", \"2012-09-18\", \"2012-09-19\", \"2012-09-20\", \"2012-09-21\", \"2012-09-24\", \"2012-09-25\", \"2012-09-26\", \"2012-09-27\", \"2012-09-28\", \"2012-10-01\", \"2012-10-02\", \"2012-10-03\", \"2012-10-04\", \"2012-10-05\", \"2012-10-08\", \"2012-10-09\", \"2012-10-10\", \"2012-10-11\", \"2012-10-12\", \"2012-10-15\", \"2012-10-16\", \"2012-10-17\", \"2012-10-18\", \"2012-10-19\", \"2012-10-22\", \"2012-10-23\", \"2012-10-24\", \"2012-10-25\", \"2012-10-26\", \"2012-10-31\", \"2012-11-01\", \"2012-11-02\", \"2012-11-05\", \"2012-11-06\", \"2012-11-07\", \"2012-11-08\", \"2012-11-09\", \"2012-11-12\", \"2012-11-13\", \"2012-11-14\", \"2012-11-15\", \"2012-11-16\", \"2012-11-19\", \"2012-11-20\", \"2012-11-21\", \"2012-11-23\", \"2012-11-26\", \"2012-11-27\", \"2012-11-28\", \"2012-11-29\", \"2012-11-30\", \"2012-12-03\", \"2012-12-04\", \"2012-12-05\", \"2012-12-06\", \"2012-12-07\", \"2012-12-10\", \"2012-12-11\", \"2012-12-12\", \"2012-12-13\", \"2012-12-14\", \"2012-12-17\", \"2012-12-18\", \"2012-12-19\", \"2012-12-20\", \"2012-12-21\", \"2012-12-24\", \"2012-12-26\", \"2012-12-27\", \"2012-12-28\", \"2012-12-31\", \"2013-01-02\", \"2013-01-03\", \"2013-01-04\", \"2013-01-07\", \"2013-01-08\", \"2013-01-09\", \"2013-01-10\", \"2013-01-11\", \"2013-01-14\", \"2013-01-15\", \"2013-01-16\", \"2013-01-17\", \"2013-01-18\", \"2013-01-22\", \"2013-01-23\", \"2013-01-24\", \"2013-01-25\", \"2013-01-28\", \"2013-01-29\", \"2013-01-30\", \"2013-01-31\", \"2013-02-01\", \"2013-02-04\", \"2013-02-05\", \"2013-02-06\", \"2013-02-07\", \"2013-02-08\", \"2013-02-11\", \"2013-02-12\", \"2013-02-13\", \"2013-02-14\", \"2013-02-15\", \"2013-02-19\", \"2013-02-20\", \"2013-02-21\", \"2013-02-22\", \"2013-02-25\", \"2013-02-26\", \"2013-02-27\", \"2013-02-28\", \"2013-03-01\", \"2013-03-04\", \"2013-03-05\", \"2013-03-06\", \"2013-03-07\", \"2013-03-08\", \"2013-03-11\", \"2013-03-12\", \"2013-03-13\", \"2013-03-14\", \"2013-03-15\", \"2013-03-18\", \"2013-03-19\", \"2013-03-20\", \"2013-03-21\", \"2013-03-22\", \"2013-03-25\", \"2013-03-26\", \"2013-03-27\", \"2013-03-28\", \"2013-04-01\", \"2013-04-02\", \"2013-04-03\", \"2013-04-04\", \"2013-04-05\", \"2013-04-08\", \"2013-04-09\", \"2013-04-10\", \"2013-04-11\", \"2013-04-12\", \"2013-04-15\", \"2013-04-16\", \"2013-04-17\", \"2013-04-18\", \"2013-04-19\", \"2013-04-22\", \"2013-04-23\", \"2013-04-24\", \"2013-04-25\", \"2013-04-26\", \"2013-04-29\", \"2013-04-30\", \"2013-05-01\", \"2013-05-02\", \"2013-05-03\", \"2013-05-06\", \"2013-05-07\", \"2013-05-08\", \"2013-05-09\", \"2013-05-10\", \"2013-05-13\", \"2013-05-14\", \"2013-05-15\", \"2013-05-16\", \"2013-05-17\", \"2013-05-20\", \"2013-05-21\", \"2013-05-22\", \"2013-05-23\", \"2013-05-24\", \"2013-05-28\", \"2013-05-29\", \"2013-05-30\", \"2013-05-31\", \"2013-06-03\", \"2013-06-04\", \"2013-06-05\", \"2013-06-06\", \"2013-06-07\", \"2013-06-10\", \"2013-06-11\", \"2013-06-12\", \"2013-06-13\", \"2013-06-14\", \"2013-06-17\", \"2013-06-18\", \"2013-06-19\", \"2013-06-20\", \"2013-06-21\", \"2013-06-24\", \"2013-06-25\", \"2013-06-26\", \"2013-06-27\", \"2013-06-28\", \"2013-07-01\", \"2013-07-02\", \"2013-07-03\", \"2013-07-05\", \"2013-07-08\", \"2013-07-09\", \"2013-07-10\", \"2013-07-11\", \"2013-07-12\", \"2013-07-15\", \"2013-07-16\", \"2013-07-17\", \"2013-07-18\", \"2013-07-19\", \"2013-07-22\", \"2013-07-23\", \"2013-07-24\", \"2013-07-25\", \"2013-07-26\", \"2013-07-29\", \"2013-07-30\", \"2013-07-31\", \"2013-08-01\", \"2013-08-02\", \"2013-08-05\", \"2013-08-06\", \"2013-08-07\", \"2013-08-08\", \"2013-08-09\", \"2013-08-12\", \"2013-08-13\", \"2013-08-14\", \"2013-08-15\", \"2013-08-16\", \"2013-08-19\", \"2013-08-20\", \"2013-08-21\", \"2013-08-22\", \"2013-08-23\", \"2013-08-26\", \"2013-08-27\", \"2013-08-28\", \"2013-08-29\", \"2013-08-30\", \"2013-09-03\", \"2013-09-04\", \"2013-09-05\", \"2013-09-06\", \"2013-09-09\", \"2013-09-10\", \"2013-09-11\", \"2013-09-12\", \"2013-09-13\", \"2013-09-16\", \"2013-09-17\", \"2013-09-18\", \"2013-09-19\", \"2013-09-20\", \"2013-09-23\", \"2013-09-24\", \"2013-09-25\", \"2013-09-26\", \"2013-09-27\", \"2013-09-30\", \"2013-10-01\", \"2013-10-02\", \"2013-10-03\", \"2013-10-04\", \"2013-10-07\", \"2013-10-08\", \"2013-10-09\", \"2013-10-10\", \"2013-10-11\", \"2013-10-14\", \"2013-10-15\", \"2013-10-16\", \"2013-10-17\", \"2013-10-18\", \"2013-10-21\", \"2013-10-22\", \"2013-10-23\", \"2013-10-24\", \"2013-10-25\", \"2013-10-28\", \"2013-10-29\", \"2013-10-30\", \"2013-10-31\", \"2013-11-01\", \"2013-11-04\", \"2013-11-05\", \"2013-11-06\", \"2013-11-07\", \"2013-11-08\", \"2013-11-11\", \"2013-11-12\", \"2013-11-13\", \"2013-11-14\", \"2013-11-15\", \"2013-11-18\", \"2013-11-19\", \"2013-11-20\", \"2013-11-21\", \"2013-11-22\", \"2013-11-25\", \"2013-11-26\", \"2013-11-27\", \"2013-11-29\", \"2013-12-02\", \"2013-12-03\", \"2013-12-04\", \"2013-12-05\", \"2013-12-06\", \"2013-12-09\", \"2013-12-10\", \"2013-12-11\", \"2013-12-12\", \"2013-12-13\", \"2013-12-16\", \"2013-12-17\", \"2013-12-18\", \"2013-12-19\", \"2013-12-20\", \"2013-12-23\", \"2013-12-24\", \"2013-12-26\", \"2013-12-27\", \"2013-12-30\", \"2013-12-31\", \"2014-01-02\", \"2014-01-03\", \"2014-01-06\", \"2014-01-07\", \"2014-01-08\", \"2014-01-09\", \"2014-01-10\", \"2014-01-13\", \"2014-01-14\", \"2014-01-15\", \"2014-01-16\", \"2014-01-17\", \"2014-01-21\", \"2014-01-22\", \"2014-01-23\", \"2014-01-24\", \"2014-01-27\", \"2014-01-28\", \"2014-01-29\", \"2014-01-30\", \"2014-01-31\", \"2014-02-03\", \"2014-02-04\", \"2014-02-05\", \"2014-02-06\", \"2014-02-07\", \"2014-02-10\", \"2014-02-11\", \"2014-02-12\", \"2014-02-13\", \"2014-02-14\", \"2014-02-18\", \"2014-02-19\", \"2014-02-20\", \"2014-02-21\", \"2014-02-24\", \"2014-02-25\", \"2014-02-26\", \"2014-02-27\", \"2014-02-28\", \"2014-03-03\", \"2014-03-04\", \"2014-03-05\", \"2014-03-06\", \"2014-03-07\", \"2014-03-10\", \"2014-03-11\", \"2014-03-12\", \"2014-03-13\", \"2014-03-14\", \"2014-03-17\", \"2014-03-18\", \"2014-03-19\", \"2014-03-20\", \"2014-03-21\", \"2014-03-24\", \"2014-03-25\", \"2014-03-26\", \"2014-03-27\", \"2014-03-28\", \"2014-03-31\", \"2014-04-01\", \"2014-04-02\", \"2014-04-03\", \"2014-04-04\", \"2014-04-07\", \"2014-04-08\", \"2014-04-09\", \"2014-04-10\", \"2014-04-11\", \"2014-04-14\", \"2014-04-15\", \"2014-04-16\", \"2014-04-17\", \"2014-04-21\", \"2014-04-22\", \"2014-04-23\", \"2014-04-24\", \"2014-04-25\", \"2014-04-28\", \"2014-04-29\", \"2014-04-30\", \"2014-05-01\", \"2014-05-02\", \"2014-05-05\", \"2014-05-06\", \"2014-05-07\", \"2014-05-08\", \"2014-05-09\", \"2014-05-12\", \"2014-05-13\", \"2014-05-14\", \"2014-05-15\", \"2014-05-16\", \"2014-05-19\", \"2014-05-20\", \"2014-05-21\", \"2014-05-22\", \"2014-05-23\", \"2014-05-27\", \"2014-05-28\", \"2014-05-29\", \"2014-05-30\", \"2014-06-02\", \"2014-06-03\", \"2014-06-04\", \"2014-06-05\", \"2014-06-06\", \"2014-06-09\", \"2014-06-10\", \"2014-06-11\", \"2014-06-12\", \"2014-06-13\", \"2014-06-16\", \"2014-06-17\", \"2014-06-18\", \"2014-06-19\", \"2014-06-20\", \"2014-06-23\", \"2014-06-24\", \"2014-06-25\", \"2014-06-26\", \"2014-06-27\", \"2014-06-30\", \"2014-07-01\", \"2014-07-02\", \"2014-07-03\", \"2014-07-07\", \"2014-07-08\", \"2014-07-09\", \"2014-07-10\", \"2014-07-11\", \"2014-07-14\", \"2014-07-15\", \"2014-07-16\", \"2014-07-17\", \"2014-07-18\", \"2014-07-21\", \"2014-07-22\", \"2014-07-23\", \"2014-07-24\", \"2014-07-25\", \"2014-07-28\", \"2014-07-29\", \"2014-07-30\", \"2014-07-31\", \"2014-08-01\", \"2014-08-04\", \"2014-08-05\", \"2014-08-06\", \"2014-08-07\", \"2014-08-08\", \"2014-08-11\", \"2014-08-12\", \"2014-08-13\", \"2014-08-14\", \"2014-08-15\", \"2014-08-18\", \"2014-08-19\", \"2014-08-20\", \"2014-08-21\", \"2014-08-22\", \"2014-08-25\", \"2014-08-26\", \"2014-08-27\", \"2014-08-28\", \"2014-08-29\", \"2014-09-02\", \"2014-09-03\", \"2014-09-04\", \"2014-09-05\", \"2014-09-08\", \"2014-09-09\", \"2014-09-10\", \"2014-09-11\", \"2014-09-12\", \"2014-09-15\", \"2014-09-16\", \"2014-09-17\", \"2014-09-18\", \"2014-09-19\", \"2014-09-22\", \"2014-09-23\", \"2014-09-24\", \"2014-09-25\", \"2014-09-26\", \"2014-09-29\", \"2014-09-30\", \"2014-10-01\", \"2014-10-02\", \"2014-10-03\", \"2014-10-06\", \"2014-10-07\", \"2014-10-08\", \"2014-10-09\", \"2014-10-10\", \"2014-10-13\", \"2014-10-14\", \"2014-10-15\", \"2014-10-16\", \"2014-10-17\", \"2014-10-20\", \"2014-10-21\", \"2014-10-22\", \"2014-10-23\", \"2014-10-24\", \"2014-10-27\", \"2014-10-28\", \"2014-10-29\", \"2014-10-30\", \"2014-10-31\", \"2014-11-03\", \"2014-11-04\", \"2014-11-05\", \"2014-11-06\", \"2014-11-07\", \"2014-11-10\", \"2014-11-11\", \"2014-11-12\", \"2014-11-13\", \"2014-11-14\", \"2014-11-17\", \"2014-11-18\", \"2014-11-19\", \"2014-11-20\", \"2014-11-21\", \"2014-11-24\", \"2014-11-25\", \"2014-11-26\", \"2014-11-28\", \"2014-12-01\", \"2014-12-02\", \"2014-12-03\", \"2014-12-04\", \"2014-12-05\", \"2014-12-08\", \"2014-12-09\", \"2014-12-10\", \"2014-12-11\", \"2014-12-12\", \"2014-12-15\", \"2014-12-16\", \"2014-12-17\", \"2014-12-18\", \"2014-12-19\", \"2014-12-22\", \"2014-12-23\", \"2014-12-24\", \"2014-12-26\", \"2014-12-29\", \"2014-12-30\", \"2014-12-31\", \"2015-01-02\", \"2015-01-05\", \"2015-01-06\", \"2015-01-07\", \"2015-01-08\", \"2015-01-09\", \"2015-01-12\", \"2015-01-13\", \"2015-01-14\", \"2015-01-15\", \"2015-01-16\", \"2015-01-20\", \"2015-01-21\", \"2015-01-22\", \"2015-01-23\", \"2015-01-26\", \"2015-01-27\", \"2015-01-28\", \"2015-01-29\", \"2015-01-30\", \"2015-02-02\", \"2015-02-03\", \"2015-02-04\", \"2015-02-05\", \"2015-02-06\", \"2015-02-09\", \"2015-02-10\", \"2015-02-11\", \"2015-02-12\", \"2015-02-13\", \"2015-02-17\", \"2015-02-18\", \"2015-02-19\", \"2015-02-20\", \"2015-02-23\", \"2015-02-24\", \"2015-02-25\", \"2015-02-26\", \"2015-02-27\", \"2015-03-02\", \"2015-03-03\", \"2015-03-04\", \"2015-03-05\", \"2015-03-06\", \"2015-03-09\", \"2015-03-10\", \"2015-03-11\", \"2015-03-12\", \"2015-03-13\", \"2015-03-16\", \"2015-03-17\", \"2015-03-18\", \"2015-03-19\", \"2015-03-20\", \"2015-03-23\", \"2015-03-24\", \"2015-03-25\", \"2015-03-26\", \"2015-03-27\", \"2015-03-30\", \"2015-03-31\", \"2015-04-01\", \"2015-04-02\", \"2015-04-06\", \"2015-04-07\", \"2015-04-08\", \"2015-04-09\", \"2015-04-10\", \"2015-04-13\", \"2015-04-14\", \"2015-04-15\", \"2015-04-16\", \"2015-04-17\", \"2015-04-20\", \"2015-04-21\", \"2015-04-22\", \"2015-04-23\", \"2015-04-24\", \"2015-04-27\", \"2015-04-28\", \"2015-04-29\", \"2015-04-30\", \"2015-05-01\", \"2015-05-04\", \"2015-05-05\", \"2015-05-06\", \"2015-05-07\", \"2015-05-08\", \"2015-05-11\", \"2015-05-12\", \"2015-05-13\", \"2015-05-14\", \"2015-05-15\", \"2015-05-18\", \"2015-05-19\", \"2015-05-20\", \"2015-05-21\", \"2015-05-22\", \"2015-05-26\", \"2015-05-27\", \"2015-05-28\", \"2015-05-29\", \"2015-06-01\", \"2015-06-02\", \"2015-06-03\", \"2015-06-04\", \"2015-06-05\", \"2015-06-08\", \"2015-06-09\", \"2015-06-10\", \"2015-06-11\", \"2015-06-12\", \"2015-06-15\", \"2015-06-16\", \"2015-06-17\", \"2015-06-18\", \"2015-06-19\", \"2015-06-22\", \"2015-06-23\", \"2015-06-24\", \"2015-06-25\", \"2015-06-26\", \"2015-06-29\", \"2015-06-30\", \"2015-07-01\", \"2015-07-02\", \"2015-07-06\", \"2015-07-07\", \"2015-07-08\", \"2015-07-09\", \"2015-07-10\", \"2015-07-13\", \"2015-07-14\", \"2015-07-15\", \"2015-07-16\", \"2015-07-17\", \"2015-07-20\", \"2015-07-21\", \"2015-07-22\", \"2015-07-23\", \"2015-07-24\", \"2015-07-27\", \"2015-07-28\", \"2015-07-29\", \"2015-07-30\", \"2015-07-31\", \"2015-08-03\", \"2015-08-04\", \"2015-08-05\", \"2015-08-06\", \"2015-08-07\", \"2015-08-10\", \"2015-08-11\", \"2015-08-12\", \"2015-08-13\", \"2015-08-14\", \"2015-08-17\", \"2015-08-18\", \"2015-08-19\", \"2015-08-20\", \"2015-08-21\", \"2015-08-24\", \"2015-08-25\", \"2015-08-26\", \"2015-08-27\", \"2015-08-28\", \"2015-08-31\", \"2015-09-01\", \"2015-09-02\", \"2015-09-03\", \"2015-09-04\", \"2015-09-08\", \"2015-09-09\", \"2015-09-10\", \"2015-09-11\", \"2015-09-14\", \"2015-09-15\", \"2015-09-16\", \"2015-09-17\", \"2015-09-18\", \"2015-09-21\", \"2015-09-22\", \"2015-09-23\", \"2015-09-24\", \"2015-09-25\", \"2015-09-28\", \"2015-09-29\", \"2015-09-30\", \"2015-10-01\", \"2015-10-02\", \"2015-10-05\", \"2015-10-06\", \"2015-10-07\", \"2015-10-08\", \"2015-10-09\", \"2015-10-12\", \"2015-10-13\", \"2015-10-14\", \"2015-10-15\", \"2015-10-16\", \"2015-10-19\", \"2015-10-20\", \"2015-10-21\", \"2015-10-22\", \"2015-10-23\", \"2015-10-26\", \"2015-10-27\", \"2015-10-28\", \"2015-10-29\", \"2015-10-30\", \"2015-11-02\", \"2015-11-03\", \"2015-11-04\", \"2015-11-05\", \"2015-11-06\", \"2015-11-09\", \"2015-11-10\", \"2015-11-11\", \"2015-11-12\", \"2015-11-13\", \"2015-11-16\", \"2015-11-17\", \"2015-11-18\", \"2015-11-19\", \"2015-11-20\", \"2015-11-23\", \"2015-11-24\", \"2015-11-25\", \"2015-11-27\", \"2015-11-30\", \"2015-12-01\", \"2015-12-02\", \"2015-12-03\", \"2015-12-04\", \"2015-12-07\", \"2015-12-08\", \"2015-12-09\", \"2015-12-10\", \"2015-12-11\", \"2015-12-14\", \"2015-12-15\", \"2015-12-16\", \"2015-12-17\", \"2015-12-18\", \"2015-12-21\", \"2015-12-22\", \"2015-12-23\", \"2015-12-24\", \"2015-12-28\", \"2015-12-29\", \"2015-12-30\", \"2015-12-31\"], \"y\": [40.19, 39.62, 39.74, 40.02, 40.67, 40.73, 40.7, 39.95, 39.92, 39.71, 39.35, 39.06, 38.05, 38.27, 38.11, 38.48, 39.59, 39.75, 39.85, 39.75, 39.88, 39.99, 39.53, 39.44, 39.26, 39.6, 39.77, 39.92, 39.77, 40.1, 40.32, 40.82, 40.78, 40.7, 41.41, 41.11, 41.66, 41.58, 41.14, 41.63, 41.66, 41.59, 41.43, 41.48, 41.6, 41.05, 41.13, 41.06, 41.38, 41.22, 41.32, 41.4, 41.45, 41.2, 42.05, 42.04, 42.1, 42.11, 41.56, 41.68, 41.53, 41.64, 41.93, 42.27, 42.54, 42.29, 41.7, 41.88, 41.61, 41.9, 42.19, 42.0, 42.6, 42.62, 42.6, 42.5, 42.68, 42.22, 42.66, 43.95, 45.38, 44.78, 45.5, 45.46, 45.69, 46.65, 46.1, 46.02, 45.92, 45.15, 44.32, 44.54, 44.32, 43.25, 42.74, 42.75, 42.64, 42.17, 42.15, 42.85, 43.23, 42.44, 42.64, 43.58, 43.81, 42.97, 42.38, 42.25, 42.35, 42.1, 41.6, 40.53, 39.97, 40.6, 40.16, 39.95, 40.49, 41.21, 41.07, 40.87, 41.5, 40.84, 41.27, 42.68, 42.0, 42.87, 42.41, 42.45, 42.41, 42.58, 42.87, 42.25, 41.39, 40.89, 40.73, 40.71, 43.05, 42.98, 43.15, 44.2, 44.63, 44.65, 44.7, 45.48, 45.62, 45.51, 45.49, 45.66, 45.12, 45.27, 44.99, 44.35, 44.05, 43.93, 43.89, 45.04, 45.47, 45.46, 45.71, 45.46, 45.35, 45.52, 45.68, 45.52, 46.02, 45.97, 45.73, 45.66, 45.73, 45.8, 45.88, 45.2, 45.26, 45.39, 46.01, 46.4, 46.5, 46.95, 46.58, 46.8, 47.22, 46.81, 46.82, 46.91, 46.9, 46.84, 47.15, 46.96, 46.87, 47.75, 47.49, 47.41, 46.86, 47.11, 47.53, 47.64, 48.26, 48.16, 47.73, 47.99, 47.21, 46.87, 47.12, 47.39, 47.14, 47.27, 47.77, 47.29, 47.45, 47.44, 46.93, 46.9, 46.89, 47.65, 47.49, 47.64, 47.24, 47.61, 47.66, 47.75, 47.45, 47.85, 47.66, 47.9, 47.75, 47.59, 47.27, 46.63, 46.2, 46.67, 46.28, 46.01, 46.84, 47.2, 46.83, 46.63, 46.76, 47.55, 47.63, 47.6, 47.95, 48.3, 48.23, 48.27, 48.22, 48.65, 47.89, 48.31, 48.95, 48.92, 48.3, 48.07, 48.19, 47.79, 47.95, 47.75, 48.1, 48.31, 47.99, 48.39, 48.43, 48.15, 48.76, 49.66, 49.83, 50.36, 50.21, 49.7, 49.47, 50.18, 50.93, 51.21, 50.93, 50.96, 51.0, 51.21, 50.93, 50.42, 50.44, 50.95, 51.42, 51.21, 51.25, 51.63, 51.65, 51.64, 51.03, 50.81, 49.22, 49.39, 49.2, 48.19, 47.54, 48.52, 48.36, 48.74, 48.82, 48.84, 46.7, 47.3, 47.7, 47.03, 47.58, 47.75, 49.05, 48.47, 48.52, 48.7, 48.57, 47.99, 48.5, 48.38, 48.24, 48.56, 48.56, 48.77, 49.0, 49.24, 49.15, 49.2, 49.09, 49.97, 50.18, 52.07, 52.09, 52.54, 52.28, 52.16, 52.82, 52.94, 52.55, 52.1, 52.26, 52.55, 52.7, 52.63, 52.73, 52.45, 53.2, 52.0, 52.15, 51.83, 52.03, 52.98, 52.56, 52.54, 52.56, 52.29, 51.99, 51.59, 51.64, 51.82, 52.06, 51.83, 51.9, 51.57, 51.22, 50.56, 49.82, 50.41, 50.43, 49.35, 50.29, 50.32, 50.56, 50.43, 50.85, 49.46, 49.84, 48.72, 48.36, 48.6, 49.24, 48.96, 48.45, 49.15, 49.34, 48.79, 48.97, 48.79, 47.51, 48.13, 49.53, 50.05, 49.83, 49.92, 48.88, 48.62, 47.56, 47.15, 45.34, 45.27, 44.08, 44.23, 44.75, 44.01, 44.38, 44.59, 43.65, 45.11, 45.34, 46.51, 44.17, 44.25, 43.83, 43.3, 43.0, 45.47, 47.01, 46.49, 46.2, 46.0, 45.67, 45.95, 44.91, 43.6, 44.13, 43.97, 44.52, 45.3, 44.17, 44.21, 43.52, 43.93, 44.54, 44.47, 45.6, 45.54, 45.29, 47.82, 47.57, 46.96, 47.13, 46.34, 46.1, 46.13, 46.21, 45.82, 46.81, 47.16, 47.0, 47.25, 47.58, 47.44, 47.57, 46.91, 46.66, 46.82, 46.27, 45.11, 46.37, 45.9, 45.02, 45.37, 45.94, 46.27, 46.05, 47.32, 46.67, 46.56, 47.0, 44.32, 43.15, 42.77, 44.11, 42.24, 42.61, 42.31, 42.39, 45.05, 45.15, 43.53, 43.09, 41.37, 41.63, 40.68, 41.95, 40.46, 42.35, 43.96, 43.65, 45.62, 45.21, 44.15, 44.9, 46.21, 46.08, 47.42, 45.94, 46.15, 45.76, 45.2, 44.53, 43.9, 43.98, 43.33, 44.11, 44.83, 44.94, 43.64, 43.26, 43.65, 42.17, 41.88, 40.93, 41.34, 39.7, 40.26, 41.33, 40.86, 41.36, 39.17, 41.43, 40.04, 39.59, 40.86, 45.72, 44.96, 43.64, 45.57, 47.45, 47.35, 47.4, 48.25, 46.22, 43.89, 43.72, 45.11, 43.82, 43.35, 43.31, 44.1, 42.61, 43.25, 42.83, 43.15, 43.07, 43.93, 44.03, 43.72, 44.41, 42.44, 40.65, 39.82, 39.19, 38.74, 37.37, 37.56, 36.48, 38.84, 38.61, 38.11, 36.54, 40.31, 42.71, 42.47, 45.97, 46.55, 46.06, 44.11, 42.86, 42.71, 42.95, 47.0, 46.24, 46.28, 45.57, 45.54, 44.86, 44.3, 43.86, 42.53, 41.5, 42.12, 44.96, 45.12, 45.76, 45.23, 45.65, 45.15, 46.97, 47.79, 47.34, 47.08, 47.65, 49.25, 48.66, 48.0, 48.2, 46.57, 46.05, 46.57, 47.24, 45.48, 45.91, 47.02, 46.53, 45.99, 43.7, 42.42, 43.05, 42.32, 43.01, 42.86, 43.57, 43.0, 42.15, 41.89, 41.63, 42.1, 40.09, 37.51, 38.29, 37.13, 38.01, 39.58, 39.94, 39.04, 38.74, 38.65, 37.86, 36.87, 37.72, 37.91, 36.32, 35.05, 34.31, 34.02, 34.6, 35.31, 34.04, 35.77, 34.28, 34.51, 33.16, 31.69, 31.02, 35.94, 40.8, 40.02, 38.65, 40.86, 41.96, 39.14, 39.52, 37.66, 40.75, 41.57, 40.63, 40.76, 40.14, 41.89, 41.39, 39.81, 41.07, 41.89, 37.92, 36.91, 37.81, 38.07, 36.74, 35.58, 37.0, 36.26, 37.67, 36.13, 36.61, 37.14, 38.88, 38.49, 38.99, 39.71, 37.91, 39.6, 41.55, 39.47, 39.4, 41.65, 41.17, 37.0, 40.74, 35.77, 40.3, 47.05, 40.8, 40.56, 40.5, 43.46, 48.24, 41.0, 46.7, 49.63, 49.85, 45.9, 44.0, 39.32, 39.3, 36.68, 41.64, 41.99, 40.71, 38.49, 40.49, 39.33, 40.66, 39.74, 37.17, 37.85, 35.43, 34.0, 37.6, 35.71, 37.62, 41.25, 40.73, 42.17, 39.22, 38.26, 37.75, 36.41, 36.35, 34.57, 37.19, 34.47, 32.77, 32.14, 28.47, 23.38, 22.72, 27.58, 29.77, 30.62, 31.66, 26.12, 28.53, 30.25, 31.08, 33.35, 36.49, 33.96, 33.52, 29.94, 30.94, 28.63, 32.35, 31.86, 30.21, 30.32, 29.82, 29.11, 29.85, 29.8, 29.78, 31.01, 31.53, 31.35, 29.25, 29.88, 28.09, 27.22, 25.97, 24.91, 26.35, 25.91, 24.34, 22.82, 18.09, 22.63, 23.1, 24.28, 24.5, 25.06, 27.66, 25.43, 25.51, 25.2, 24.05, 24.04, 24.54, 27.63, 27.28, 24.62, 26.09, 26.19, 24.69, 21.65, 21.51, 20.6, 19.9, 19.51, 21.02, 21.73, 23.05, 22.85, 21.16, 21.01, 19.3, 16.6, 15.93, 15.9, 19.5, 20.4, 23.2, 23.75, 23.09, 25.14, 27.11, 24.95, 23.15, 28.86, 26.4, 28.56, 29.1, 27.4, 24.85, 26.58, 28.14, 28.16, 29.28, 28.2, 27.25, 27.43, 32.75, 33.7, 30.7, 32.56, 33.24, 33.26, 29.69, 32.53, 31.9, 33.21, 33.38, 32.78, 32.79, 34.48, 33.0, 32.49, 35.79, 34.82, 37.22, 35.24, 38.94, 35.83, 35.36, 34.05, 35.54, 34.91, 37.26, 35.81, 34.55, 34.9, 34.41, 36.54, 34.66, 36.65, 36.9, 36.11, 34.5, 33.98, 35.35, 34.55, 35.39, 35.26, 34.84, 34.94, 35.13, 34.0, 33.5, 32.73, 34.17, 35.0, 32.87, 33.57, 33.46, 34.14, 34.45, 34.6, 34.11, 33.77, 32.27, 32.6, 32.81, 32.71, 33.62, 32.34, 34.71, 34.7, 36.26, 36.13, 36.89, 36.98, 36.94, 36.83, 38.15, 37.92, 38.13, 38.08, 37.77, 38.47, 38.65, 39.6, 40.21, 41.78, 40.75, 42.36, 42.69, 41.24, 42.21, 42.9, 42.45, 40.73, 41.7, 41.41, 42.42, 43.66, 43.01, 43.58, 43.3, 43.45, 42.92, 43.46, 41.67, 40.86, 42.11, 42.34, 42.54, 42.86, 43.02, 42.5, 43.75, 43.19, 44.65, 44.96, 44.95, 44.55, 46.47, 45.06, 44.37, 43.65, 44.81, 44.88, 43.82, 41.37, 41.86, 43.8, 44.91, 45.7, 45.3, 45.85, 46.08, 45.66, 47.16, 47.16, 46.06, 45.98, 46.03, 44.65, 45.71, 45.23, 43.82, 43.9, 42.68, 44.35, 41.77, 42.58, 42.7, 42.21, 43.87, 43.48, 44.35, 44.17, 44.32, 43.3, 42.9, 43.04, 43.16, 43.38, 42.55, 42.46, 43.28, 42.48, 42.16, 41.33, 42.49, 42.22, 41.93, 41.4, 41.74, 41.25, 41.21, 41.19, 41.27, 40.96, 41.77, 40.86, 41.36, 40.27, 40.95, 41.9, 41.94, 41.56, 41.89, 41.72, 41.49, 41.53, 41.67, 42.85, 43.68, 43.92, 44.79, 44.68, 44.53, 43.49, 44.25, 44.69, 43.68, 43.28, 43.4, 40.54, 39.16, 39.21, 38.44, 39.33, 39.48, 38.94, 39.63, 40.55, 40.29, 38.35, 38.3, 37.7, 38.39, 38.87, 39.02, 38.95, 40.07, 40.04, 40.41, 40.03, 40.85, 39.88, 40.85, 40.64, 41.97, 41.83, 41.62, 41.53, 41.92, 42.81, 42.59, 42.42, 42.93, 43.18, 43.15, 43.07, 43.24, 43.79, 43.64, 43.45, 43.74, 44.58, 44.94, 44.94, 45.02, 44.86, 44.58, 44.75, 45.18, 45.34, 45.84, 45.32, 45.76, 45.98, 46.14, 45.87, 47.73, 47.81, 45.55, 45.39, 45.88, 45.35, 44.74, 44.94, 43.89, 42.41, 43.46, 44.0, 42.58, 43.53, 42.47, 42.63, 40.81, 40.76, 41.95, 41.55, 41.69, 40.81, 39.89, 39.84, 39.02, 39.38, 37.83, 40.05, 38.62, 38.94, 38.78, 40.42, 39.58, 38.54, 39.55, 39.1, 37.62, 36.72, 37.78, 37.12, 38.29, 38.09, 37.33, 38.25, 38.52, 38.44, 39.18, 38.87, 38.33, 38.89, 38.03, 39.44, 38.54, 37.06, 36.61, 36.08, 35.83, 36.33, 38.15, 38.16, 38.85, 39.19, 40.48, 40.35, 40.46, 39.0, 39.04, 39.63, 38.42, 39.35, 39.83, 40.33, 40.69, 40.32, 40.21, 40.28, 41.64, 41.08, 41.29, 41.27, 40.44, 39.82, 39.17, 37.77, 37.81, 37.5, 37.69, 37.48, 37.89, 37.07, 37.14, 36.88, 36.21, 36.23, 35.63, 36.6, 35.85, 36.26, 37.74, 38.16, 39.17, 38.28, 39.12, 40.1, 39.76, 41.12, 40.72, 40.98, 40.99, 40.06, 41.19, 40.59, 39.94, 39.1, 39.75, 39.08, 38.95, 38.41, 38.06, 38.81, 38.95, 39.64, 39.9, 39.52, 39.31, 39.73, 40.4, 39.84, 38.72, 37.15, 38.2, 37.69, 38.1, 37.7, 37.7, 37.07, 37.2, 37.54, 37.51, 37.63, 37.42, 36.96, 37.72, 39.8, 40.94, 40.51, 39.9, 40.62, 40.02, 39.61, 40.08, 39.61, 39.18, 39.66, 39.41, 38.51, 37.63, 38.16, 37.5, 37.91, 37.4, 38.15, 39.31, 39.61, 39.9, 39.25, 40.26, 40.81, 41.43, 41.51, 40.79, 40.21, 40.01, 39.67, 39.95, 41.0, 42.16, 42.08, 42.67, 42.61, 42.36, 42.23, 42.42, 43.58, 44.16, 44.7, 44.48, 43.64, 43.4, 43.6, 44.71, 44.45, 44.91, 44.75, 43.71, 44.75, 45.29, 45.02, 44.87, 44.98, 45.1, 44.54, 44.94, 45.93, 45.45, 45.46, 44.59, 45.5, 45.74, 45.11, 45.53, 46.57, 46.54, 46.82, 47.94, 47.82, 48.0, 46.01, 45.96, 45.91, 46.68, 46.69, 45.6, 45.21, 46.08, 45.52, 45.19, 46.4, 46.56, 45.53, 45.74, 45.3, 44.61, 43.81, 44.56, 45.74, 45.63, 45.47, 45.6, 45.73, 45.86, 45.96, 46.02, 46.45, 46.1, 46.35, 46.34, 46.58, 47.64, 47.4, 46.84, 46.86, 46.64, 46.25, 44.97, 44.89, 43.96, 44.65, 44.56, 44.68, 44.61, 45.12, 45.5, 45.85, 45.63, 45.18, 45.92, 45.5, 45.17, 45.04, 44.96, 45.16, 44.23, 44.09, 43.15, 42.88, 43.81, 44.08, 44.0, 43.13, 42.55, 42.34, 42.27, 42.45, 42.79, 43.24, 41.76, 41.61, 41.57, 40.53, 40.72, 40.39, 40.98, 41.05, 41.67, 41.6, 40.68, 40.36, 40.8, 40.48, 40.91, 40.69, 40.07, 39.49, 39.88, 39.54, 40.45, 40.94, 41.58, 41.03, 40.56, 41.32, 40.74, 39.43, 39.39, 39.62, 40.35, 39.98, 39.83, 40.39, 40.96, 42.29, 42.19, 41.69, 41.44, 40.67, 40.68, 40.45, 40.44, 39.84, 39.9, 37.92, 37.6, 34.06, 36.4, 34.37, 36.69, 35.91, 36.88, 36.03, 36.57, 35.19, 34.35, 33.41, 34.78, 35.83, 35.72, 36.21, 37.64, 37.06, 37.56, 36.3, 34.63, 33.44, 34.82, 33.51, 32.08, 32.42, 32.49, 32.8, 33.81, 33.43, 32.49, 32.25, 30.34, 29.27, 29.59, 31.65, 31.57, 30.47, 31.39, 30.12, 28.65, 30.26, 30.84, 32.38, 30.7, 32.3, 32.3, 33.2, 31.6, 31.89, 31.04, 32.87, 32.25, 33.13, 33.42, 34.57, 33.49, 34.18, 36.67, 36.69, 34.76, 32.71, 33.64, 34.38, 33.97, 34.24, 35.02, 32.54, 32.74, 33.28, 32.55, 32.7, 31.47, 30.49, 30.62, 29.91, 29.41, 28.38, 28.48, 29.16, 28.56, 30.97, 30.46, 32.33, 33.51, 33.23, 34.0, 32.22, 33.18, 32.04, 31.29, 31.51, 31.76, 31.89, 30.7, 32.21, 32.32, 33.45, 33.57, 33.03, 32.65, 33.42, 33.25, 34.98, 34.95, 35.68, 35.36, 35.3, 36.05, 36.66, 36.85, 35.92, 34.91, 36.54, 36.93, 37.36, 37.66, 37.66, 37.6, 37.49, 37.21, 37.01, 37.3, 37.6, 37.55, 38.28, 38.14, 37.87, 38.3, 37.86, 37.61, 38.3, 37.92, 37.4, 38.0, 38.47, 38.46, 38.07, 38.49, 38.28, 39.06, 39.21, 39.24, 40.37, 40.63, 40.4, 39.32, 39.95, 40.44, 41.03, 40.54, 43.39, 43.58, 44.7, 44.57, 45.0, 45.38, 45.12, 44.65, 45.16, 46.17, 45.89, 46.27, 45.67, 45.98, 46.13, 45.42, 44.41, 44.34, 43.89, 42.96, 44.01, 44.84, 43.21, 43.33, 43.9, 43.29, 43.22, 42.72, 42.85, 43.28, 43.16, 43.8, 43.34, 42.98, 43.79, 43.2, 43.01, 41.75, 41.78, 41.38, 40.64, 40.74, 36.96, 35.79, 36.24, 35.46, 33.93, 33.49, 32.51, 34.01, 34.26, 33.97, 33.5, 33.63, 32.96, 33.15, 31.93, 31.0, 31.99, 33.07, 32.81, 33.68, 32.82, 33.77, 34.3, 34.65, 35.03, 34.62, 35.38, 36.45, 35.51, 35.99, 35.32, 35.71, 36.78, 35.88, 35.73, 36.28, 35.88, 34.38, 33.9, 33.96, 34.25, 34.59, 34.04, 36.07, 35.09, 34.99, 34.96, 34.46, 33.9, 34.44, 34.73, 35.17, 35.81, 36.89, 36.14, 36.0, 36.0, 35.17, 36.09, 36.3, 37.01, 37.16, 36.92, 36.97, 36.99, 37.1, 37.07, 37.1, 36.98, 37.37, 38.04, 37.83, 37.23, 37.17, 37.23, 37.13, 37.3, 36.9, 37.14, 37.01, 37.11, 38.69, 39.3, 38.76, 39.6, 39.92, 41.4, 41.57, 41.19, 41.26, 41.34, 41.25, 40.88, 41.23, 40.55, 40.24, 40.68, 40.48, 40.97, 40.92, 40.86, 41.82, 41.71, 41.66, 41.38, 41.77, 42.1, 41.62, 42.38, 42.83, 43.32, 43.01, 42.32, 42.09, 41.33, 41.71, 41.67, 41.16, 41.68, 42.84, 42.42, 42.27, 42.88, 40.48, 40.4, 40.62, 40.58, 40.04, 39.29, 39.39, 39.53, 40.59, 40.7, 40.73, 41.09, 40.88, 40.75, 40.83, 41.22, 41.08, 40.81, 40.57, 41.2, 41.47, 42.56, 42.31, 42.64, 42.77, 42.78, 42.81, 43.48, 43.87, 43.53, 44.53, 44.0, 43.92, 43.96, 43.63, 43.24, 43.97, 44.66, 44.57, 45.36, 45.41, 45.5, 45.47, 46.15, 46.14, 45.88, 46.35, 46.82, 46.44, 46.46, 46.54, 46.23, 46.37, 47.16, 46.64, 47.12, 47.13, 47.05, 47.85, 47.68, 48.79, 48.61, 48.23, 48.63, 48.66, 49.14, 48.68, 49.22, 48.88, 49.45, 48.61, 48.25, 48.91, 47.7, 47.6, 49.28, 48.92, 48.91, 49.1, 49.49, 50.03, 50.63, 50.2, 50.48, 50.28, 50.16, 51.0, 50.02, 49.51, 49.2, 49.12, 48.35, 48.78, 48.52, 48.64, 47.77, 47.46, 47.83, 48.28, 46.85, 47.49, 47.91, 48.58, 48.68, 49.25, 49.31, 49.01, 47.93, 48.49, 46.79, 46.64, 47.23, 47.35, 48.17, 48.72, 49.0, 48.88, 48.92, 49.01, 48.01, 48.08, 47.57, 48.18, 49.14, 49.76, 49.04, 48.96, 49.67, 50.23, 51.09, 50.97, 52.3, 52.29, 53.02, 53.63, 53.35, 53.66, 54.6, 54.67, 55.62, 54.59, 54.49, 54.04, 53.03, 53.5, 54.27, 54.36, 53.49, 53.18, 54.17, 53.13, 53.85, 54.11, 53.55, 52.48, 51.96, 50.92, 52.08, 52.5, 53.15, 52.79, 52.49, 52.8, 52.77, 53.99, 54.7, 54.89, 54.83, 55.14, 54.97, 54.89, 55.01, 55.27, 56.37, 56.16, 56.56, 56.67, 56.63, 56.5, 56.05, 55.69, 55.33, 55.73, 56.54, 56.49, 56.1, 55.49, 55.3, 54.83, 54.52, 54.09, 54.29, 54.15, 53.29, 53.29, 51.83, 52.12, 51.63, 52.21, 52.32, 51.8, 50.6, 50.58, 50.7, 50.53, 51.13, 51.87, 52.11, 52.56, 52.86, 53.67, 53.26, 52.24, 52.59, 53.14, 53.09, 53.41, 52.75, 52.8, 51.46, 50.32, 51.7, 51.89, 52.24, 51.69, 51.96, 52.09, 51.94, 52.67, 51.83, 50.87, 50.75, 52.52, 52.51, 52.71, 52.31, 54.0, 54.21, 54.3, 54.27, 53.62, 52.75, 52.48, 52.77, 52.68, 52.73, 52.6, 51.54, 52.51, 52.04, 51.95, 52.1, 51.65, 53.96, 54.1, 53.97, 54.14, 54.4, 54.87, 55.74, 56.15, 56.1, 57.22, 57.46, 57.65, 57.17, 57.48, 57.22, 56.98, 56.86, 57.19, 55.82, 56.06, 56.51, 56.7, 56.07, 56.31, 56.17, 56.42, 55.72, 57.24, 57.23, 57.7, 58.24, 58.25, 58.2, 58.14, 57.95, 58.48, 58.21, 58.66, 59.0, 58.32, 58.87, 58.76, 58.49, 57.7, 57.74, 59.49, 58.99, 58.11, 58.17, 57.59, 56.47, 55.09, 55.09, 55.74, 55.53, 56.0, 55.36, 54.31, 54.95, 55.21, 56.48, 56.62, 56.74, 57.43, 57.52, 58.03, 58.15, 58.49, 57.26, 57.58, 57.61, 58.03, 57.03, 56.75, 56.69, 56.82, 56.21, 57.26, 58.16, 58.9, 59.4, 59.2, 58.19, 57.92, 57.42, 56.8, 57.58, 58.06, 58.3, 60.11, 60.17, 61.07, 60.93, 59.9, 59.92, 60.04, 60.71, 60.67, 60.48, 60.66, 59.81, 59.0, 58.85, 59.27, 57.4, 55.3, 54.96, 54.8, 55.26, 55.22, 55.03, 55.81, 56.05, 56.19, 55.7, 55.49, 56.1, 55.98, 55.72, 55.58, 54.22, 53.34, 54.05, 54.36, 54.01, 54.65, 54.62, 54.36, 53.51, 53.31, 53.83, 53.72, 54.12, 54.55, 54.53, 55.14, 55.45, 55.72, 55.57, 55.35, 55.6, 55.68, 56.63, 56.97, 57.42, 57.9, 57.27, 57.04, 57.04, 56.87, 57.42, 57.78, 57.3, 57.55, 58.19, 57.42, 57.53, 57.39, 57.53, 57.62, 57.57, 56.97, 57.05, 56.67, 55.76, 56.02, 55.56, 55.8, 56.29, 58.27, 58.71, 57.86, 58.23, 58.24, 58.67, 59.0, 59.17, 59.01, 59.19, 58.64, 58.91, 57.67, 56.48, 56.65, 56.06, 56.23, 55.91, 56.34, 56.32, 56.35, 56.72, 56.98, 56.75, 57.23, 57.56, 57.64, 58.5, 58.49, 59.34, 59.74, 59.59, 59.16, 59.45, 59.67, 59.7, 59.71, 59.91, 59.89, 59.06, 59.22, 59.76, 60.03, 59.94, 59.99, 60.31, 61.32, 61.11, 60.91, 60.94, 61.63, 60.15, 60.56, 60.33, 60.24, 59.77, 58.84, 60.3, 60.18, 59.27, 60.4, 59.08, 58.52, 58.16, 57.99, 55.53, 55.08, 56.2, 56.63, 57.93, 57.45, 58.06, 58.74, 58.64, 59.63, 59.29, 59.39, 60.48, 60.88, 60.25, 61.15, 61.23, 61.47, 61.93, 61.37, 60.56, 60.23, 60.28, 60.38, 60.53, 60.6, 60.12, 60.45, 60.96, 60.3, 60.34, 60.16, 60.0, 61.08, 61.54, 61.38, 62.7, 62.67, 62.45, 60.68, 61.14, 60.04, 59.16, 58.43, 59.77, 61.48, 61.93, 61.94, 62.48, 62.48, 62.55, 62.96, 63.15, 62.58, 62.49, 60.55, 58.98, 59.07, 60.39, 59.34, 58.83, 58.84, 56.81, 54.99, 55.93, 55.71, 55.89, 57.59, 56.68, 56.77, 56.2, 54.75, 55.67, 54.38, 55.47, 56.72, 56.38, 56.77, 57.89, 57.82, 58.46, 58.37, 59.57, 59.67, 60.1, 59.37, 59.23, 59.8, 59.35, 60.82, 61.14, 61.58, 61.28, 61.77, 61.97, 62.13, 62.0, 60.89, 61.5, 59.96, 60.24, 61.37, 61.0, 61.85, 61.61, 61.75, 61.2, 61.75, 61.14, 60.46, 59.61, 59.54, 59.55, 60.96, 60.58, 59.95, 60.52, 60.47, 60.85, 61.05, 61.47, 61.7, 62.07, 63.04, 64.21, 63.81, 62.84, 63.24, 62.31, 62.94, 62.8, 62.6, 62.34, 62.76, 63.6, 63.26, 63.61, 64.72, 64.4, 63.92, 64.5, 65.49, 65.45, 65.36, 65.52, 66.05, 65.88, 66.42, 67.01, 66.48, 66.65, 66.47, 65.73, 66.47, 66.2, 65.78, 66.08, 66.02, 66.7, 66.33, 67.42, 66.89, 67.18, 68.26, 68.52, 68.25, 67.99, 68.37, 68.14, 68.78, 68.08, 68.96, 69.75, 69.02, 68.65, 68.95, 67.2, 67.76, 68.07, 67.52, 67.33, 66.8, 65.43, 66.11, 67.05, 68.09, 69.04, 69.19, 69.56, 69.21, 69.26, 69.1, 70.08, 69.64, 68.91, 68.01, 68.05, 68.94, 69.04, 68.53, 68.53, 68.46, 68.73, 68.25, 68.05, 68.89, 68.23, 67.24, 67.55, 67.89, 68.07, 68.21, 67.6, 65.94, 63.6, 60.25, 59.91, 62.91, 64.48, 64.13, 64.1, 61.45, 62.57, 62.68, 61.5, 63.16, 62.18, 62.66, 62.56, 62.38, 63.58, 64.14, 62.65, 60.94, 61.45, 60.91, 60.64, 60.22, 61.47, 59.98, 59.84, 60.97, 61.42, 60.81, 62.02, 62.05, 62.13, 62.13, 61.93, 61.72, 61.55, 59.99, 61.89, 62.43, 62.22, 62.52, 62.06, 63.19, 63.87, 63.9, 63.64, 65.5, 65.21, 64.25, 65.54, 65.78, 65.85, 66.44, 68.46, 67.39, 67.68, 67.35, 66.0, 65.56, 66.51, 66.13, 67.45, 67.66, 67.54, 66.88, 66.78, 66.86, 67.17, 66.68, 67.61, 66.66, 65.8, 67.89, 67.0, 65.96, 65.46, 65.61, 64.07, 64.27, 66.1, 67.53, 66.28, 64.4, 65.54, 65.68, 66.73, 66.6, 66.38, 67.07, 66.59, 66.03], \"mode\": \"lines\", \"line\": {\"color\": \"rgba(101, 101, 101, 1.0)\", \"dash\": \"solid\", \"width\": 1.3}, \"text\": \"\", \"name\": \"JPM\"}, {\"type\": \"scatter\", \"x\": [\"2006-01-03\", \"2006-01-04\", \"2006-01-05\", \"2006-01-06\", \"2006-01-09\", \"2006-01-10\", \"2006-01-11\", \"2006-01-12\", \"2006-01-13\", \"2006-01-17\", \"2006-01-18\", \"2006-01-19\", \"2006-01-20\", \"2006-01-23\", \"2006-01-24\", \"2006-01-25\", \"2006-01-26\", \"2006-01-27\", \"2006-01-30\", \"2006-01-31\", \"2006-02-01\", \"2006-02-02\", \"2006-02-03\", \"2006-02-06\", \"2006-02-07\", \"2006-02-08\", \"2006-02-09\", \"2006-02-10\", \"2006-02-13\", \"2006-02-14\", \"2006-02-15\", \"2006-02-16\", \"2006-02-17\", \"2006-02-21\", \"2006-02-22\", \"2006-02-23\", \"2006-02-24\", \"2006-02-27\", \"2006-02-28\", \"2006-03-01\", \"2006-03-02\", \"2006-03-03\", \"2006-03-06\", \"2006-03-07\", \"2006-03-08\", \"2006-03-09\", \"2006-03-10\", \"2006-03-13\", \"2006-03-14\", \"2006-03-15\", \"2006-03-16\", \"2006-03-17\", \"2006-03-20\", \"2006-03-21\", \"2006-03-22\", \"2006-03-23\", \"2006-03-24\", \"2006-03-27\", \"2006-03-28\", \"2006-03-29\", \"2006-03-30\", \"2006-03-31\", \"2006-04-03\", \"2006-04-04\", \"2006-04-05\", \"2006-04-06\", \"2006-04-07\", \"2006-04-10\", \"2006-04-11\", \"2006-04-12\", \"2006-04-13\", \"2006-04-17\", \"2006-04-18\", \"2006-04-19\", \"2006-04-20\", \"2006-04-21\", \"2006-04-24\", \"2006-04-25\", \"2006-04-26\", \"2006-04-27\", \"2006-04-28\", \"2006-05-01\", \"2006-05-02\", \"2006-05-03\", \"2006-05-04\", \"2006-05-05\", \"2006-05-08\", \"2006-05-09\", \"2006-05-10\", \"2006-05-11\", \"2006-05-12\", \"2006-05-15\", \"2006-05-16\", \"2006-05-17\", \"2006-05-18\", \"2006-05-19\", \"2006-05-22\", \"2006-05-23\", \"2006-05-24\", \"2006-05-25\", \"2006-05-26\", \"2006-05-30\", \"2006-05-31\", \"2006-06-01\", \"2006-06-02\", \"2006-06-05\", \"2006-06-06\", \"2006-06-07\", \"2006-06-08\", \"2006-06-09\", \"2006-06-12\", \"2006-06-13\", \"2006-06-14\", \"2006-06-15\", \"2006-06-16\", \"2006-06-19\", \"2006-06-20\", \"2006-06-21\", \"2006-06-22\", \"2006-06-23\", \"2006-06-26\", \"2006-06-27\", \"2006-06-28\", \"2006-06-29\", \"2006-06-30\", \"2006-07-03\", \"2006-07-05\", \"2006-07-06\", \"2006-07-07\", \"2006-07-10\", \"2006-07-11\", \"2006-07-12\", \"2006-07-13\", \"2006-07-14\", \"2006-07-17\", \"2006-07-18\", \"2006-07-19\", \"2006-07-20\", \"2006-07-21\", \"2006-07-24\", \"2006-07-25\", \"2006-07-26\", \"2006-07-27\", \"2006-07-28\", \"2006-07-31\", \"2006-08-01\", \"2006-08-02\", \"2006-08-03\", \"2006-08-04\", \"2006-08-07\", \"2006-08-08\", \"2006-08-09\", \"2006-08-10\", \"2006-08-11\", \"2006-08-14\", \"2006-08-15\", \"2006-08-16\", \"2006-08-17\", \"2006-08-18\", \"2006-08-21\", \"2006-08-22\", \"2006-08-23\", \"2006-08-24\", \"2006-08-25\", \"2006-08-28\", \"2006-08-29\", \"2006-08-30\", \"2006-08-31\", \"2006-09-01\", \"2006-09-05\", \"2006-09-06\", \"2006-09-07\", \"2006-09-08\", \"2006-09-11\", \"2006-09-12\", \"2006-09-13\", \"2006-09-14\", \"2006-09-15\", \"2006-09-18\", \"2006-09-19\", \"2006-09-20\", \"2006-09-21\", \"2006-09-22\", \"2006-09-25\", \"2006-09-26\", \"2006-09-27\", \"2006-09-28\", \"2006-09-29\", \"2006-10-02\", \"2006-10-03\", \"2006-10-04\", \"2006-10-05\", \"2006-10-06\", \"2006-10-09\", \"2006-10-10\", \"2006-10-11\", \"2006-10-12\", \"2006-10-13\", \"2006-10-16\", \"2006-10-17\", \"2006-10-18\", \"2006-10-19\", \"2006-10-20\", \"2006-10-23\", \"2006-10-24\", \"2006-10-25\", \"2006-10-26\", \"2006-10-27\", \"2006-10-30\", \"2006-10-31\", \"2006-11-01\", \"2006-11-02\", \"2006-11-03\", \"2006-11-06\", \"2006-11-07\", \"2006-11-08\", \"2006-11-09\", \"2006-11-10\", \"2006-11-13\", \"2006-11-14\", \"2006-11-15\", \"2006-11-16\", \"2006-11-17\", \"2006-11-20\", \"2006-11-21\", \"2006-11-22\", \"2006-11-24\", \"2006-11-27\", \"2006-11-28\", \"2006-11-29\", \"2006-11-30\", \"2006-12-01\", \"2006-12-04\", \"2006-12-05\", \"2006-12-06\", \"2006-12-07\", \"2006-12-08\", \"2006-12-11\", \"2006-12-12\", \"2006-12-13\", \"2006-12-14\", \"2006-12-15\", \"2006-12-18\", \"2006-12-19\", \"2006-12-20\", \"2006-12-21\", \"2006-12-22\", \"2006-12-26\", \"2006-12-27\", \"2006-12-28\", \"2006-12-29\", \"2007-01-03\", \"2007-01-04\", \"2007-01-05\", \"2007-01-08\", \"2007-01-09\", \"2007-01-10\", \"2007-01-11\", \"2007-01-12\", \"2007-01-16\", \"2007-01-17\", \"2007-01-18\", \"2007-01-19\", \"2007-01-22\", \"2007-01-23\", \"2007-01-24\", \"2007-01-25\", \"2007-01-26\", \"2007-01-29\", \"2007-01-30\", \"2007-01-31\", \"2007-02-01\", \"2007-02-02\", \"2007-02-05\", \"2007-02-06\", \"2007-02-07\", \"2007-02-08\", \"2007-02-09\", \"2007-02-12\", \"2007-02-13\", \"2007-02-14\", \"2007-02-15\", \"2007-02-16\", \"2007-02-20\", \"2007-02-21\", \"2007-02-22\", \"2007-02-23\", \"2007-02-26\", \"2007-02-27\", \"2007-02-28\", \"2007-03-01\", \"2007-03-02\", \"2007-03-05\", \"2007-03-06\", \"2007-03-07\", \"2007-03-08\", \"2007-03-09\", \"2007-03-12\", \"2007-03-13\", \"2007-03-14\", \"2007-03-15\", \"2007-03-16\", \"2007-03-19\", \"2007-03-20\", \"2007-03-21\", \"2007-03-22\", \"2007-03-23\", \"2007-03-26\", \"2007-03-27\", \"2007-03-28\", \"2007-03-29\", \"2007-03-30\", \"2007-04-02\", \"2007-04-03\", \"2007-04-04\", \"2007-04-05\", \"2007-04-09\", \"2007-04-10\", \"2007-04-11\", \"2007-04-12\", \"2007-04-13\", \"2007-04-16\", \"2007-04-17\", \"2007-04-18\", \"2007-04-19\", \"2007-04-20\", \"2007-04-23\", \"2007-04-24\", \"2007-04-25\", \"2007-04-26\", \"2007-04-27\", \"2007-04-30\", \"2007-05-01\", \"2007-05-02\", \"2007-05-03\", \"2007-05-04\", \"2007-05-07\", \"2007-05-08\", \"2007-05-09\", \"2007-05-10\", \"2007-05-11\", \"2007-05-14\", \"2007-05-15\", \"2007-05-16\", \"2007-05-17\", \"2007-05-18\", \"2007-05-21\", \"2007-05-22\", \"2007-05-23\", \"2007-05-24\", \"2007-05-25\", \"2007-05-29\", \"2007-05-30\", \"2007-05-31\", \"2007-06-01\", \"2007-06-04\", \"2007-06-05\", \"2007-06-06\", \"2007-06-07\", \"2007-06-08\", \"2007-06-11\", \"2007-06-12\", \"2007-06-13\", \"2007-06-14\", \"2007-06-15\", \"2007-06-18\", \"2007-06-19\", \"2007-06-20\", \"2007-06-21\", \"2007-06-22\", \"2007-06-25\", \"2007-06-26\", \"2007-06-27\", \"2007-06-28\", \"2007-06-29\", \"2007-07-02\", \"2007-07-03\", \"2007-07-05\", \"2007-07-06\", \"2007-07-09\", \"2007-07-10\", \"2007-07-11\", \"2007-07-12\", \"2007-07-13\", \"2007-07-16\", \"2007-07-17\", \"2007-07-18\", \"2007-07-19\", \"2007-07-20\", \"2007-07-23\", \"2007-07-24\", \"2007-07-25\", \"2007-07-26\", \"2007-07-27\", \"2007-07-30\", \"2007-07-31\", \"2007-08-01\", \"2007-08-02\", \"2007-08-03\", \"2007-08-06\", \"2007-08-07\", \"2007-08-08\", \"2007-08-09\", \"2007-08-10\", \"2007-08-13\", \"2007-08-14\", \"2007-08-15\", \"2007-08-16\", \"2007-08-17\", \"2007-08-20\", \"2007-08-21\", \"2007-08-22\", \"2007-08-23\", \"2007-08-24\", \"2007-08-27\", \"2007-08-28\", \"2007-08-29\", \"2007-08-30\", \"2007-08-31\", \"2007-09-04\", \"2007-09-05\", \"2007-09-06\", \"2007-09-07\", \"2007-09-10\", \"2007-09-11\", \"2007-09-12\", \"2007-09-13\", \"2007-09-14\", \"2007-09-17\", \"2007-09-18\", \"2007-09-19\", \"2007-09-20\", \"2007-09-21\", \"2007-09-24\", \"2007-09-25\", \"2007-09-26\", \"2007-09-27\", \"2007-09-28\", \"2007-10-01\", \"2007-10-02\", \"2007-10-03\", \"2007-10-04\", \"2007-10-05\", \"2007-10-08\", \"2007-10-09\", \"2007-10-10\", \"2007-10-11\", \"2007-10-12\", \"2007-10-15\", \"2007-10-16\", \"2007-10-17\", \"2007-10-18\", \"2007-10-19\", \"2007-10-22\", \"2007-10-23\", \"2007-10-24\", \"2007-10-25\", \"2007-10-26\", \"2007-10-29\", \"2007-10-30\", \"2007-10-31\", \"2007-11-01\", \"2007-11-02\", \"2007-11-05\", \"2007-11-06\", \"2007-11-07\", \"2007-11-08\", \"2007-11-09\", \"2007-11-12\", \"2007-11-13\", \"2007-11-14\", \"2007-11-15\", \"2007-11-16\", \"2007-11-19\", \"2007-11-20\", \"2007-11-21\", \"2007-11-23\", \"2007-11-26\", \"2007-11-27\", \"2007-11-28\", \"2007-11-29\", \"2007-11-30\", \"2007-12-03\", \"2007-12-04\", \"2007-12-05\", \"2007-12-06\", \"2007-12-07\", \"2007-12-10\", \"2007-12-11\", \"2007-12-12\", \"2007-12-13\", \"2007-12-14\", \"2007-12-17\", \"2007-12-18\", \"2007-12-19\", \"2007-12-20\", \"2007-12-21\", \"2007-12-24\", \"2007-12-26\", \"2007-12-27\", \"2007-12-28\", \"2007-12-31\", \"2008-01-02\", \"2008-01-03\", \"2008-01-04\", \"2008-01-07\", \"2008-01-08\", \"2008-01-09\", \"2008-01-10\", \"2008-01-11\", \"2008-01-14\", \"2008-01-15\", \"2008-01-16\", \"2008-01-17\", \"2008-01-18\", \"2008-01-22\", \"2008-01-23\", \"2008-01-24\", \"2008-01-25\", \"2008-01-28\", \"2008-01-29\", \"2008-01-30\", \"2008-01-31\", \"2008-02-01\", \"2008-02-04\", \"2008-02-05\", \"2008-02-06\", \"2008-02-07\", \"2008-02-08\", \"2008-02-11\", \"2008-02-12\", \"2008-02-13\", \"2008-02-14\", \"2008-02-15\", \"2008-02-19\", \"2008-02-20\", \"2008-02-21\", \"2008-02-22\", \"2008-02-25\", \"2008-02-26\", \"2008-02-27\", \"2008-02-28\", \"2008-02-29\", \"2008-03-03\", \"2008-03-04\", \"2008-03-05\", \"2008-03-06\", \"2008-03-07\", \"2008-03-10\", \"2008-03-11\", \"2008-03-12\", \"2008-03-13\", \"2008-03-14\", \"2008-03-17\", \"2008-03-18\", \"2008-03-19\", \"2008-03-20\", \"2008-03-24\", \"2008-03-25\", \"2008-03-26\", \"2008-03-27\", \"2008-03-28\", \"2008-03-31\", \"2008-04-01\", \"2008-04-02\", \"2008-04-03\", \"2008-04-04\", \"2008-04-07\", \"2008-04-08\", \"2008-04-09\", \"2008-04-10\", \"2008-04-11\", \"2008-04-14\", \"2008-04-15\", \"2008-04-16\", \"2008-04-17\", \"2008-04-18\", \"2008-04-21\", \"2008-04-22\", \"2008-04-23\", \"2008-04-24\", \"2008-04-25\", \"2008-04-28\", \"2008-04-29\", \"2008-04-30\", \"2008-05-01\", \"2008-05-02\", \"2008-05-05\", \"2008-05-06\", \"2008-05-07\", \"2008-05-08\", \"2008-05-09\", \"2008-05-12\", \"2008-05-13\", \"2008-05-14\", \"2008-05-15\", \"2008-05-16\", \"2008-05-19\", \"2008-05-20\", \"2008-05-21\", \"2008-05-22\", \"2008-05-23\", \"2008-05-27\", \"2008-05-28\", \"2008-05-29\", \"2008-05-30\", \"2008-06-02\", \"2008-06-03\", \"2008-06-04\", \"2008-06-05\", \"2008-06-06\", \"2008-06-09\", \"2008-06-10\", \"2008-06-11\", \"2008-06-12\", \"2008-06-13\", \"2008-06-16\", \"2008-06-17\", \"2008-06-18\", \"2008-06-19\", \"2008-06-20\", \"2008-06-23\", \"2008-06-24\", \"2008-06-25\", \"2008-06-26\", \"2008-06-27\", \"2008-06-30\", \"2008-07-01\", \"2008-07-02\", \"2008-07-03\", \"2008-07-07\", \"2008-07-08\", \"2008-07-09\", \"2008-07-10\", \"2008-07-11\", \"2008-07-14\", \"2008-07-15\", \"2008-07-16\", \"2008-07-17\", \"2008-07-18\", \"2008-07-21\", \"2008-07-22\", \"2008-07-23\", \"2008-07-24\", \"2008-07-25\", \"2008-07-28\", \"2008-07-29\", \"2008-07-30\", \"2008-07-31\", \"2008-08-01\", \"2008-08-04\", \"2008-08-05\", \"2008-08-06\", \"2008-08-07\", \"2008-08-08\", \"2008-08-11\", \"2008-08-12\", \"2008-08-13\", \"2008-08-14\", \"2008-08-15\", \"2008-08-18\", \"2008-08-19\", \"2008-08-20\", \"2008-08-21\", \"2008-08-22\", \"2008-08-25\", \"2008-08-26\", \"2008-08-27\", \"2008-08-28\", \"2008-08-29\", \"2008-09-02\", \"2008-09-03\", \"2008-09-04\", \"2008-09-05\", \"2008-09-08\", \"2008-09-09\", \"2008-09-10\", \"2008-09-11\", \"2008-09-12\", \"2008-09-15\", \"2008-09-16\", \"2008-09-17\", \"2008-09-18\", \"2008-09-19\", \"2008-09-22\", \"2008-09-23\", \"2008-09-24\", \"2008-09-25\", \"2008-09-26\", \"2008-09-29\", \"2008-09-30\", \"2008-10-01\", \"2008-10-02\", \"2008-10-03\", \"2008-10-06\", \"2008-10-07\", \"2008-10-08\", \"2008-10-09\", \"2008-10-10\", \"2008-10-13\", \"2008-10-14\", \"2008-10-15\", \"2008-10-16\", \"2008-10-17\", \"2008-10-20\", \"2008-10-21\", \"2008-10-22\", \"2008-10-23\", \"2008-10-24\", \"2008-10-27\", \"2008-10-28\", \"2008-10-29\", \"2008-10-30\", \"2008-10-31\", \"2008-11-03\", \"2008-11-04\", \"2008-11-05\", \"2008-11-06\", \"2008-11-07\", \"2008-11-10\", \"2008-11-11\", \"2008-11-12\", \"2008-11-13\", \"2008-11-14\", \"2008-11-17\", \"2008-11-18\", \"2008-11-19\", \"2008-11-20\", \"2008-11-21\", \"2008-11-24\", \"2008-11-25\", \"2008-11-26\", \"2008-11-28\", \"2008-12-01\", \"2008-12-02\", \"2008-12-03\", \"2008-12-04\", \"2008-12-05\", \"2008-12-08\", \"2008-12-09\", \"2008-12-10\", \"2008-12-11\", \"2008-12-12\", \"2008-12-15\", \"2008-12-16\", \"2008-12-17\", \"2008-12-18\", \"2008-12-19\", \"2008-12-22\", \"2008-12-23\", \"2008-12-24\", \"2008-12-26\", \"2008-12-29\", \"2008-12-30\", \"2008-12-31\", \"2009-01-02\", \"2009-01-05\", \"2009-01-06\", \"2009-01-07\", \"2009-01-08\", \"2009-01-09\", \"2009-01-12\", \"2009-01-13\", \"2009-01-14\", \"2009-01-15\", \"2009-01-16\", \"2009-01-20\", \"2009-01-21\", \"2009-01-22\", \"2009-01-23\", \"2009-01-26\", \"2009-01-27\", \"2009-01-28\", \"2009-01-29\", \"2009-01-30\", \"2009-02-02\", \"2009-02-03\", \"2009-02-04\", \"2009-02-05\", \"2009-02-06\", \"2009-02-09\", \"2009-02-10\", \"2009-02-11\", \"2009-02-12\", \"2009-02-13\", \"2009-02-17\", \"2009-02-18\", \"2009-02-19\", \"2009-02-20\", \"2009-02-23\", \"2009-02-24\", \"2009-02-25\", \"2009-02-26\", \"2009-02-27\", \"2009-03-02\", \"2009-03-03\", \"2009-03-04\", \"2009-03-05\", \"2009-03-06\", \"2009-03-09\", \"2009-03-10\", \"2009-03-11\", \"2009-03-12\", \"2009-03-13\", \"2009-03-16\", \"2009-03-17\", \"2009-03-18\", \"2009-03-19\", \"2009-03-20\", \"2009-03-23\", \"2009-03-24\", \"2009-03-25\", \"2009-03-26\", \"2009-03-27\", \"2009-03-30\", \"2009-03-31\", \"2009-04-01\", \"2009-04-02\", \"2009-04-03\", \"2009-04-06\", \"2009-04-07\", \"2009-04-08\", \"2009-04-09\", \"2009-04-13\", \"2009-04-14\", \"2009-04-15\", \"2009-04-16\", \"2009-04-17\", \"2009-04-20\", \"2009-04-21\", \"2009-04-22\", \"2009-04-23\", \"2009-04-24\", \"2009-04-27\", \"2009-04-28\", \"2009-04-29\", \"2009-04-30\", \"2009-05-01\", \"2009-05-04\", \"2009-05-05\", \"2009-05-06\", \"2009-05-07\", \"2009-05-08\", \"2009-05-11\", \"2009-05-12\", \"2009-05-13\", \"2009-05-14\", \"2009-05-15\", \"2009-05-18\", \"2009-05-19\", \"2009-05-20\", \"2009-05-21\", \"2009-05-22\", \"2009-05-26\", \"2009-05-27\", \"2009-05-28\", \"2009-05-29\", \"2009-06-01\", \"2009-06-02\", \"2009-06-03\", \"2009-06-04\", \"2009-06-05\", \"2009-06-08\", \"2009-06-09\", \"2009-06-10\", \"2009-06-11\", \"2009-06-12\", \"2009-06-15\", \"2009-06-16\", \"2009-06-17\", \"2009-06-18\", \"2009-06-19\", \"2009-06-22\", \"2009-06-23\", \"2009-06-24\", \"2009-06-25\", \"2009-06-26\", \"2009-06-29\", \"2009-06-30\", \"2009-07-01\", \"2009-07-02\", \"2009-07-06\", \"2009-07-07\", \"2009-07-08\", \"2009-07-09\", \"2009-07-10\", \"2009-07-13\", \"2009-07-14\", \"2009-07-15\", \"2009-07-16\", \"2009-07-17\", \"2009-07-20\", \"2009-07-21\", \"2009-07-22\", \"2009-07-23\", \"2009-07-24\", \"2009-07-27\", \"2009-07-28\", \"2009-07-29\", \"2009-07-30\", \"2009-07-31\", \"2009-08-03\", \"2009-08-04\", \"2009-08-05\", \"2009-08-06\", \"2009-08-07\", \"2009-08-10\", \"2009-08-11\", \"2009-08-12\", \"2009-08-13\", \"2009-08-14\", \"2009-08-17\", \"2009-08-18\", \"2009-08-19\", \"2009-08-20\", \"2009-08-21\", \"2009-08-24\", \"2009-08-25\", \"2009-08-26\", \"2009-08-27\", \"2009-08-28\", \"2009-08-31\", \"2009-09-01\", \"2009-09-02\", \"2009-09-03\", \"2009-09-04\", \"2009-09-08\", \"2009-09-09\", \"2009-09-10\", \"2009-09-11\", \"2009-09-14\", \"2009-09-15\", \"2009-09-16\", \"2009-09-17\", \"2009-09-18\", \"2009-09-21\", \"2009-09-22\", \"2009-09-23\", \"2009-09-24\", \"2009-09-25\", \"2009-09-28\", \"2009-09-29\", \"2009-09-30\", \"2009-10-01\", \"2009-10-02\", \"2009-10-05\", \"2009-10-06\", \"2009-10-07\", \"2009-10-08\", \"2009-10-09\", \"2009-10-12\", \"2009-10-13\", \"2009-10-14\", \"2009-10-15\", \"2009-10-16\", \"2009-10-19\", \"2009-10-20\", \"2009-10-21\", \"2009-10-22\", \"2009-10-23\", \"2009-10-26\", \"2009-10-27\", \"2009-10-28\", \"2009-10-29\", \"2009-10-30\", \"2009-11-02\", \"2009-11-03\", \"2009-11-04\", \"2009-11-05\", \"2009-11-06\", \"2009-11-09\", \"2009-11-10\", \"2009-11-11\", \"2009-11-12\", \"2009-11-13\", \"2009-11-16\", \"2009-11-17\", \"2009-11-18\", \"2009-11-19\", \"2009-11-20\", \"2009-11-23\", \"2009-11-24\", \"2009-11-25\", \"2009-11-27\", \"2009-11-30\", \"2009-12-01\", \"2009-12-02\", \"2009-12-03\", \"2009-12-04\", \"2009-12-07\", \"2009-12-08\", \"2009-12-09\", \"2009-12-10\", \"2009-12-11\", \"2009-12-14\", \"2009-12-15\", \"2009-12-16\", \"2009-12-17\", \"2009-12-18\", \"2009-12-21\", \"2009-12-22\", \"2009-12-23\", \"2009-12-24\", \"2009-12-28\", \"2009-12-29\", \"2009-12-30\", \"2009-12-31\", \"2010-01-04\", \"2010-01-05\", \"2010-01-06\", \"2010-01-07\", \"2010-01-08\", \"2010-01-11\", \"2010-01-12\", \"2010-01-13\", \"2010-01-14\", \"2010-01-15\", \"2010-01-19\", \"2010-01-20\", \"2010-01-21\", \"2010-01-22\", \"2010-01-25\", \"2010-01-26\", \"2010-01-27\", \"2010-01-28\", \"2010-01-29\", \"2010-02-01\", \"2010-02-02\", \"2010-02-03\", \"2010-02-04\", \"2010-02-05\", \"2010-02-08\", \"2010-02-09\", \"2010-02-10\", \"2010-02-11\", \"2010-02-12\", \"2010-02-16\", \"2010-02-17\", \"2010-02-18\", \"2010-02-19\", \"2010-02-22\", \"2010-02-23\", \"2010-02-24\", \"2010-02-25\", \"2010-02-26\", \"2010-03-01\", \"2010-03-02\", \"2010-03-03\", \"2010-03-04\", \"2010-03-05\", \"2010-03-08\", \"2010-03-09\", \"2010-03-10\", \"2010-03-11\", \"2010-03-12\", \"2010-03-15\", \"2010-03-16\", \"2010-03-17\", \"2010-03-18\", \"2010-03-19\", \"2010-03-22\", \"2010-03-23\", \"2010-03-24\", \"2010-03-25\", \"2010-03-26\", \"2010-03-29\", \"2010-03-30\", \"2010-03-31\", \"2010-04-01\", \"2010-04-05\", \"2010-04-06\", \"2010-04-07\", \"2010-04-08\", \"2010-04-09\", \"2010-04-12\", \"2010-04-13\", \"2010-04-14\", \"2010-04-15\", \"2010-04-16\", \"2010-04-19\", \"2010-04-20\", \"2010-04-21\", \"2010-04-22\", \"2010-04-23\", \"2010-04-26\", \"2010-04-27\", \"2010-04-28\", \"2010-04-29\", \"2010-04-30\", \"2010-05-03\", \"2010-05-04\", \"2010-05-05\", \"2010-05-06\", \"2010-05-07\", \"2010-05-10\", \"2010-05-11\", \"2010-05-12\", \"2010-05-13\", \"2010-05-14\", \"2010-05-17\", \"2010-05-18\", \"2010-05-19\", \"2010-05-20\", \"2010-05-21\", \"2010-05-24\", \"2010-05-25\", \"2010-05-26\", \"2010-05-27\", \"2010-05-28\", \"2010-06-01\", \"2010-06-02\", \"2010-06-03\", \"2010-06-04\", \"2010-06-07\", \"2010-06-08\", \"2010-06-09\", \"2010-06-10\", \"2010-06-11\", \"2010-06-14\", \"2010-06-15\", \"2010-06-16\", \"2010-06-17\", \"2010-06-18\", \"2010-06-21\", \"2010-06-22\", \"2010-06-23\", \"2010-06-24\", \"2010-06-25\", \"2010-06-28\", \"2010-06-29\", \"2010-06-30\", \"2010-07-01\", \"2010-07-02\", \"2010-07-06\", \"2010-07-07\", \"2010-07-08\", \"2010-07-09\", \"2010-07-12\", \"2010-07-13\", \"2010-07-14\", \"2010-07-15\", \"2010-07-16\", \"2010-07-19\", \"2010-07-20\", \"2010-07-21\", \"2010-07-22\", \"2010-07-23\", \"2010-07-26\", \"2010-07-27\", \"2010-07-28\", \"2010-07-29\", \"2010-07-30\", \"2010-08-02\", \"2010-08-03\", \"2010-08-04\", \"2010-08-05\", \"2010-08-06\", \"2010-08-09\", \"2010-08-10\", \"2010-08-11\", \"2010-08-12\", \"2010-08-13\", \"2010-08-16\", \"2010-08-17\", \"2010-08-18\", \"2010-08-19\", \"2010-08-20\", \"2010-08-23\", \"2010-08-24\", \"2010-08-25\", \"2010-08-26\", \"2010-08-27\", \"2010-08-30\", \"2010-08-31\", \"2010-09-01\", \"2010-09-02\", \"2010-09-03\", \"2010-09-07\", \"2010-09-08\", \"2010-09-09\", \"2010-09-10\", \"2010-09-13\", \"2010-09-14\", \"2010-09-15\", \"2010-09-16\", \"2010-09-17\", \"2010-09-20\", \"2010-09-21\", \"2010-09-22\", \"2010-09-23\", \"2010-09-24\", \"2010-09-27\", \"2010-09-28\", \"2010-09-29\", \"2010-09-30\", \"2010-10-01\", \"2010-10-04\", \"2010-10-05\", \"2010-10-06\", \"2010-10-07\", \"2010-10-08\", \"2010-10-11\", \"2010-10-12\", \"2010-10-13\", \"2010-10-14\", \"2010-10-15\", \"2010-10-18\", \"2010-10-19\", \"2010-10-20\", \"2010-10-21\", \"2010-10-22\", \"2010-10-25\", \"2010-10-26\", \"2010-10-27\", \"2010-10-28\", \"2010-10-29\", \"2010-11-01\", \"2010-11-02\", \"2010-11-03\", \"2010-11-04\", \"2010-11-05\", \"2010-11-08\", \"2010-11-09\", \"2010-11-10\", \"2010-11-11\", \"2010-11-12\", \"2010-11-15\", \"2010-11-16\", \"2010-11-17\", \"2010-11-18\", \"2010-11-19\", \"2010-11-22\", \"2010-11-23\", \"2010-11-24\", \"2010-11-26\", \"2010-11-29\", \"2010-11-30\", \"2010-12-01\", \"2010-12-02\", \"2010-12-03\", \"2010-12-06\", \"2010-12-07\", \"2010-12-08\", \"2010-12-09\", \"2010-12-10\", \"2010-12-13\", \"2010-12-14\", \"2010-12-15\", \"2010-12-16\", \"2010-12-17\", \"2010-12-20\", \"2010-12-21\", \"2010-12-22\", \"2010-12-23\", \"2010-12-27\", \"2010-12-28\", \"2010-12-29\", \"2010-12-30\", \"2010-12-31\", \"2011-01-03\", \"2011-01-04\", \"2011-01-05\", \"2011-01-06\", \"2011-01-07\", \"2011-01-10\", \"2011-01-11\", \"2011-01-12\", \"2011-01-13\", \"2011-01-14\", \"2011-01-18\", \"2011-01-19\", \"2011-01-20\", \"2011-01-21\", \"2011-01-24\", \"2011-01-25\", \"2011-01-26\", \"2011-01-27\", \"2011-01-28\", \"2011-01-31\", \"2011-02-01\", \"2011-02-02\", \"2011-02-03\", \"2011-02-04\", \"2011-02-07\", \"2011-02-08\", \"2011-02-09\", \"2011-02-10\", \"2011-02-11\", \"2011-02-14\", \"2011-02-15\", \"2011-02-16\", \"2011-02-17\", \"2011-02-18\", \"2011-02-22\", \"2011-02-23\", \"2011-02-24\", \"2011-02-25\", \"2011-02-28\", \"2011-03-01\", \"2011-03-02\", \"2011-03-03\", \"2011-03-04\", \"2011-03-07\", \"2011-03-08\", \"2011-03-09\", \"2011-03-10\", \"2011-03-11\", \"2011-03-14\", \"2011-03-15\", \"2011-03-16\", \"2011-03-17\", \"2011-03-18\", \"2011-03-21\", \"2011-03-22\", \"2011-03-23\", \"2011-03-24\", \"2011-03-25\", \"2011-03-28\", \"2011-03-29\", \"2011-03-30\", \"2011-03-31\", \"2011-04-01\", \"2011-04-04\", \"2011-04-05\", \"2011-04-06\", \"2011-04-07\", \"2011-04-08\", \"2011-04-11\", \"2011-04-12\", \"2011-04-13\", \"2011-04-14\", \"2011-04-15\", \"2011-04-18\", \"2011-04-19\", \"2011-04-20\", \"2011-04-21\", \"2011-04-25\", \"2011-04-26\", \"2011-04-27\", \"2011-04-28\", \"2011-04-29\", \"2011-05-02\", \"2011-05-03\", \"2011-05-04\", \"2011-05-05\", \"2011-05-06\", \"2011-05-09\", \"2011-05-10\", \"2011-05-11\", \"2011-05-12\", \"2011-05-13\", \"2011-05-16\", \"2011-05-17\", \"2011-05-18\", \"2011-05-19\", \"2011-05-20\", \"2011-05-23\", \"2011-05-24\", \"2011-05-25\", \"2011-05-26\", \"2011-05-27\", \"2011-05-31\", \"2011-06-01\", \"2011-06-02\", \"2011-06-03\", \"2011-06-06\", \"2011-06-07\", \"2011-06-08\", \"2011-06-09\", \"2011-06-10\", \"2011-06-13\", \"2011-06-14\", \"2011-06-15\", \"2011-06-16\", \"2011-06-17\", \"2011-06-20\", \"2011-06-21\", \"2011-06-22\", \"2011-06-23\", \"2011-06-24\", \"2011-06-27\", \"2011-06-28\", \"2011-06-29\", \"2011-06-30\", \"2011-07-01\", \"2011-07-05\", \"2011-07-06\", \"2011-07-07\", \"2011-07-08\", \"2011-07-11\", \"2011-07-12\", \"2011-07-13\", \"2011-07-14\", \"2011-07-15\", \"2011-07-18\", \"2011-07-19\", \"2011-07-20\", \"2011-07-21\", \"2011-07-22\", \"2011-07-25\", \"2011-07-26\", \"2011-07-27\", \"2011-07-28\", \"2011-07-29\", \"2011-08-01\", \"2011-08-02\", \"2011-08-03\", \"2011-08-04\", \"2011-08-05\", \"2011-08-08\", \"2011-08-09\", \"2011-08-10\", \"2011-08-11\", \"2011-08-12\", \"2011-08-15\", \"2011-08-16\", \"2011-08-17\", \"2011-08-18\", \"2011-08-19\", \"2011-08-22\", \"2011-08-23\", \"2011-08-24\", \"2011-08-25\", \"2011-08-26\", \"2011-08-29\", \"2011-08-30\", \"2011-08-31\", \"2011-09-01\", \"2011-09-02\", \"2011-09-06\", \"2011-09-07\", \"2011-09-08\", \"2011-09-09\", \"2011-09-12\", \"2011-09-13\", \"2011-09-14\", \"2011-09-15\", \"2011-09-16\", \"2011-09-19\", \"2011-09-20\", \"2011-09-21\", \"2011-09-22\", \"2011-09-23\", \"2011-09-26\", \"2011-09-27\", \"2011-09-28\", \"2011-09-29\", \"2011-09-30\", \"2011-10-03\", \"2011-10-04\", \"2011-10-05\", \"2011-10-06\", \"2011-10-07\", \"2011-10-10\", \"2011-10-11\", \"2011-10-12\", \"2011-10-13\", \"2011-10-14\", \"2011-10-17\", \"2011-10-18\", \"2011-10-19\", \"2011-10-20\", \"2011-10-21\", \"2011-10-24\", \"2011-10-25\", \"2011-10-26\", \"2011-10-27\", \"2011-10-28\", \"2011-10-31\", \"2011-11-01\", \"2011-11-02\", \"2011-11-03\", \"2011-11-04\", \"2011-11-07\", \"2011-11-08\", \"2011-11-09\", \"2011-11-10\", \"2011-11-11\", \"2011-11-14\", \"2011-11-15\", \"2011-11-16\", \"2011-11-17\", \"2011-11-18\", \"2011-11-21\", \"2011-11-22\", \"2011-11-23\", \"2011-11-25\", \"2011-11-28\", \"2011-11-29\", \"2011-11-30\", \"2011-12-01\", \"2011-12-02\", \"2011-12-05\", \"2011-12-06\", \"2011-12-07\", \"2011-12-08\", \"2011-12-09\", \"2011-12-12\", \"2011-12-13\", \"2011-12-14\", \"2011-12-15\", \"2011-12-16\", \"2011-12-19\", \"2011-12-20\", \"2011-12-21\", \"2011-12-22\", \"2011-12-23\", \"2011-12-27\", \"2011-12-28\", \"2011-12-29\", \"2011-12-30\", \"2012-01-03\", \"2012-01-04\", \"2012-01-05\", \"2012-01-06\", \"2012-01-09\", \"2012-01-10\", \"2012-01-11\", \"2012-01-12\", \"2012-01-13\", \"2012-01-17\", \"2012-01-18\", \"2012-01-19\", \"2012-01-20\", \"2012-01-23\", \"2012-01-24\", \"2012-01-25\", \"2012-01-26\", \"2012-01-27\", \"2012-01-30\", \"2012-01-31\", \"2012-02-01\", \"2012-02-02\", \"2012-02-03\", \"2012-02-06\", \"2012-02-07\", \"2012-02-08\", \"2012-02-09\", \"2012-02-10\", \"2012-02-13\", \"2012-02-14\", \"2012-02-15\", \"2012-02-16\", \"2012-02-17\", \"2012-02-21\", \"2012-02-22\", \"2012-02-23\", \"2012-02-24\", \"2012-02-27\", \"2012-02-28\", \"2012-02-29\", \"2012-03-01\", \"2012-03-02\", \"2012-03-05\", \"2012-03-06\", \"2012-03-07\", \"2012-03-08\", \"2012-03-09\", \"2012-03-12\", \"2012-03-13\", \"2012-03-14\", \"2012-03-15\", \"2012-03-16\", \"2012-03-19\", \"2012-03-20\", \"2012-03-21\", \"2012-03-22\", \"2012-03-23\", \"2012-03-26\", \"2012-03-27\", \"2012-03-28\", \"2012-03-29\", \"2012-03-30\", \"2012-04-02\", \"2012-04-03\", \"2012-04-04\", \"2012-04-05\", \"2012-04-09\", \"2012-04-10\", \"2012-04-11\", \"2012-04-12\", \"2012-04-13\", \"2012-04-16\", \"2012-04-17\", \"2012-04-18\", \"2012-04-19\", \"2012-04-20\", \"2012-04-23\", \"2012-04-24\", \"2012-04-25\", \"2012-04-26\", \"2012-04-27\", \"2012-04-30\", \"2012-05-01\", \"2012-05-02\", \"2012-05-03\", \"2012-05-04\", \"2012-05-07\", \"2012-05-08\", \"2012-05-09\", \"2012-05-10\", \"2012-05-11\", \"2012-05-14\", \"2012-05-15\", \"2012-05-16\", \"2012-05-17\", \"2012-05-18\", \"2012-05-21\", \"2012-05-22\", \"2012-05-23\", \"2012-05-24\", \"2012-05-25\", \"2012-05-29\", \"2012-05-30\", \"2012-05-31\", \"2012-06-01\", \"2012-06-04\", \"2012-06-05\", \"2012-06-06\", \"2012-06-07\", \"2012-06-08\", \"2012-06-11\", \"2012-06-12\", \"2012-06-13\", \"2012-06-14\", \"2012-06-15\", \"2012-06-18\", \"2012-06-19\", \"2012-06-20\", \"2012-06-21\", \"2012-06-22\", \"2012-06-25\", \"2012-06-26\", \"2012-06-27\", \"2012-06-28\", \"2012-06-29\", \"2012-07-02\", \"2012-07-03\", \"2012-07-05\", \"2012-07-06\", \"2012-07-09\", \"2012-07-10\", \"2012-07-11\", \"2012-07-12\", \"2012-07-13\", \"2012-07-16\", \"2012-07-17\", \"2012-07-18\", \"2012-07-19\", \"2012-07-20\", \"2012-07-23\", \"2012-07-24\", \"2012-07-25\", \"2012-07-26\", \"2012-07-27\", \"2012-07-30\", \"2012-07-31\", \"2012-08-01\", \"2012-08-02\", \"2012-08-03\", \"2012-08-06\", \"2012-08-07\", \"2012-08-08\", \"2012-08-09\", \"2012-08-10\", \"2012-08-13\", \"2012-08-14\", \"2012-08-15\", \"2012-08-16\", \"2012-08-17\", \"2012-08-20\", \"2012-08-21\", \"2012-08-22\", \"2012-08-23\", \"2012-08-24\", \"2012-08-27\", \"2012-08-28\", \"2012-08-29\", \"2012-08-30\", \"2012-08-31\", \"2012-09-04\", \"2012-09-05\", \"2012-09-06\", \"2012-09-07\", \"2012-09-10\", \"2012-09-11\", \"2012-09-12\", \"2012-09-13\", \"2012-09-14\", \"2012-09-17\", \"2012-09-18\", \"2012-09-19\", \"2012-09-20\", \"2012-09-21\", \"2012-09-24\", \"2012-09-25\", \"2012-09-26\", \"2012-09-27\", \"2012-09-28\", \"2012-10-01\", \"2012-10-02\", \"2012-10-03\", \"2012-10-04\", \"2012-10-05\", \"2012-10-08\", \"2012-10-09\", \"2012-10-10\", \"2012-10-11\", \"2012-10-12\", \"2012-10-15\", \"2012-10-16\", \"2012-10-17\", \"2012-10-18\", \"2012-10-19\", \"2012-10-22\", \"2012-10-23\", \"2012-10-24\", \"2012-10-25\", \"2012-10-26\", \"2012-10-31\", \"2012-11-01\", \"2012-11-02\", \"2012-11-05\", \"2012-11-06\", \"2012-11-07\", \"2012-11-08\", \"2012-11-09\", \"2012-11-12\", \"2012-11-13\", \"2012-11-14\", \"2012-11-15\", \"2012-11-16\", \"2012-11-19\", \"2012-11-20\", \"2012-11-21\", \"2012-11-23\", \"2012-11-26\", \"2012-11-27\", \"2012-11-28\", \"2012-11-29\", \"2012-11-30\", \"2012-12-03\", \"2012-12-04\", \"2012-12-05\", \"2012-12-06\", \"2012-12-07\", \"2012-12-10\", \"2012-12-11\", \"2012-12-12\", \"2012-12-13\", \"2012-12-14\", \"2012-12-17\", \"2012-12-18\", \"2012-12-19\", \"2012-12-20\", \"2012-12-21\", \"2012-12-24\", \"2012-12-26\", \"2012-12-27\", \"2012-12-28\", \"2012-12-31\", \"2013-01-02\", \"2013-01-03\", \"2013-01-04\", \"2013-01-07\", \"2013-01-08\", \"2013-01-09\", \"2013-01-10\", \"2013-01-11\", \"2013-01-14\", \"2013-01-15\", \"2013-01-16\", \"2013-01-17\", \"2013-01-18\", \"2013-01-22\", \"2013-01-23\", \"2013-01-24\", \"2013-01-25\", \"2013-01-28\", \"2013-01-29\", \"2013-01-30\", \"2013-01-31\", \"2013-02-01\", \"2013-02-04\", \"2013-02-05\", \"2013-02-06\", \"2013-02-07\", \"2013-02-08\", \"2013-02-11\", \"2013-02-12\", \"2013-02-13\", \"2013-02-14\", \"2013-02-15\", \"2013-02-19\", \"2013-02-20\", \"2013-02-21\", \"2013-02-22\", \"2013-02-25\", \"2013-02-26\", \"2013-02-27\", \"2013-02-28\", \"2013-03-01\", \"2013-03-04\", \"2013-03-05\", \"2013-03-06\", \"2013-03-07\", \"2013-03-08\", \"2013-03-11\", \"2013-03-12\", \"2013-03-13\", \"2013-03-14\", \"2013-03-15\", \"2013-03-18\", \"2013-03-19\", \"2013-03-20\", \"2013-03-21\", \"2013-03-22\", \"2013-03-25\", \"2013-03-26\", \"2013-03-27\", \"2013-03-28\", \"2013-04-01\", \"2013-04-02\", \"2013-04-03\", \"2013-04-04\", \"2013-04-05\", \"2013-04-08\", \"2013-04-09\", \"2013-04-10\", \"2013-04-11\", \"2013-04-12\", \"2013-04-15\", \"2013-04-16\", \"2013-04-17\", \"2013-04-18\", \"2013-04-19\", \"2013-04-22\", \"2013-04-23\", \"2013-04-24\", \"2013-04-25\", \"2013-04-26\", \"2013-04-29\", \"2013-04-30\", \"2013-05-01\", \"2013-05-02\", \"2013-05-03\", \"2013-05-06\", \"2013-05-07\", \"2013-05-08\", \"2013-05-09\", \"2013-05-10\", \"2013-05-13\", \"2013-05-14\", \"2013-05-15\", \"2013-05-16\", \"2013-05-17\", \"2013-05-20\", \"2013-05-21\", \"2013-05-22\", \"2013-05-23\", \"2013-05-24\", \"2013-05-28\", \"2013-05-29\", \"2013-05-30\", \"2013-05-31\", \"2013-06-03\", \"2013-06-04\", \"2013-06-05\", \"2013-06-06\", \"2013-06-07\", \"2013-06-10\", \"2013-06-11\", \"2013-06-12\", \"2013-06-13\", \"2013-06-14\", \"2013-06-17\", \"2013-06-18\", \"2013-06-19\", \"2013-06-20\", \"2013-06-21\", \"2013-06-24\", \"2013-06-25\", \"2013-06-26\", \"2013-06-27\", \"2013-06-28\", \"2013-07-01\", \"2013-07-02\", \"2013-07-03\", \"2013-07-05\", \"2013-07-08\", \"2013-07-09\", \"2013-07-10\", \"2013-07-11\", \"2013-07-12\", \"2013-07-15\", \"2013-07-16\", \"2013-07-17\", \"2013-07-18\", \"2013-07-19\", \"2013-07-22\", \"2013-07-23\", \"2013-07-24\", \"2013-07-25\", \"2013-07-26\", \"2013-07-29\", \"2013-07-30\", \"2013-07-31\", \"2013-08-01\", \"2013-08-02\", \"2013-08-05\", \"2013-08-06\", \"2013-08-07\", \"2013-08-08\", \"2013-08-09\", \"2013-08-12\", \"2013-08-13\", \"2013-08-14\", \"2013-08-15\", \"2013-08-16\", \"2013-08-19\", \"2013-08-20\", \"2013-08-21\", \"2013-08-22\", \"2013-08-23\", \"2013-08-26\", \"2013-08-27\", \"2013-08-28\", \"2013-08-29\", \"2013-08-30\", \"2013-09-03\", \"2013-09-04\", \"2013-09-05\", \"2013-09-06\", \"2013-09-09\", \"2013-09-10\", \"2013-09-11\", \"2013-09-12\", \"2013-09-13\", \"2013-09-16\", \"2013-09-17\", \"2013-09-18\", \"2013-09-19\", \"2013-09-20\", \"2013-09-23\", \"2013-09-24\", \"2013-09-25\", \"2013-09-26\", \"2013-09-27\", \"2013-09-30\", \"2013-10-01\", \"2013-10-02\", \"2013-10-03\", \"2013-10-04\", \"2013-10-07\", \"2013-10-08\", \"2013-10-09\", \"2013-10-10\", \"2013-10-11\", \"2013-10-14\", \"2013-10-15\", \"2013-10-16\", \"2013-10-17\", \"2013-10-18\", \"2013-10-21\", \"2013-10-22\", \"2013-10-23\", \"2013-10-24\", \"2013-10-25\", \"2013-10-28\", \"2013-10-29\", \"2013-10-30\", \"2013-10-31\", \"2013-11-01\", \"2013-11-04\", \"2013-11-05\", \"2013-11-06\", \"2013-11-07\", \"2013-11-08\", \"2013-11-11\", \"2013-11-12\", \"2013-11-13\", \"2013-11-14\", \"2013-11-15\", \"2013-11-18\", \"2013-11-19\", \"2013-11-20\", \"2013-11-21\", \"2013-11-22\", \"2013-11-25\", \"2013-11-26\", \"2013-11-27\", \"2013-11-29\", \"2013-12-02\", \"2013-12-03\", \"2013-12-04\", \"2013-12-05\", \"2013-12-06\", \"2013-12-09\", \"2013-12-10\", \"2013-12-11\", \"2013-12-12\", \"2013-12-13\", \"2013-12-16\", \"2013-12-17\", \"2013-12-18\", \"2013-12-19\", \"2013-12-20\", \"2013-12-23\", \"2013-12-24\", \"2013-12-26\", \"2013-12-27\", \"2013-12-30\", \"2013-12-31\", \"2014-01-02\", \"2014-01-03\", \"2014-01-06\", \"2014-01-07\", \"2014-01-08\", \"2014-01-09\", \"2014-01-10\", \"2014-01-13\", \"2014-01-14\", \"2014-01-15\", \"2014-01-16\", \"2014-01-17\", \"2014-01-21\", \"2014-01-22\", \"2014-01-23\", \"2014-01-24\", \"2014-01-27\", \"2014-01-28\", \"2014-01-29\", \"2014-01-30\", \"2014-01-31\", \"2014-02-03\", \"2014-02-04\", \"2014-02-05\", \"2014-02-06\", \"2014-02-07\", \"2014-02-10\", \"2014-02-11\", \"2014-02-12\", \"2014-02-13\", \"2014-02-14\", \"2014-02-18\", \"2014-02-19\", \"2014-02-20\", \"2014-02-21\", \"2014-02-24\", \"2014-02-25\", \"2014-02-26\", \"2014-02-27\", \"2014-02-28\", \"2014-03-03\", \"2014-03-04\", \"2014-03-05\", \"2014-03-06\", \"2014-03-07\", \"2014-03-10\", \"2014-03-11\", \"2014-03-12\", \"2014-03-13\", \"2014-03-14\", \"2014-03-17\", \"2014-03-18\", \"2014-03-19\", \"2014-03-20\", \"2014-03-21\", \"2014-03-24\", \"2014-03-25\", \"2014-03-26\", \"2014-03-27\", \"2014-03-28\", \"2014-03-31\", \"2014-04-01\", \"2014-04-02\", \"2014-04-03\", \"2014-04-04\", \"2014-04-07\", \"2014-04-08\", \"2014-04-09\", \"2014-04-10\", \"2014-04-11\", \"2014-04-14\", \"2014-04-15\", \"2014-04-16\", \"2014-04-17\", \"2014-04-21\", \"2014-04-22\", \"2014-04-23\", \"2014-04-24\", \"2014-04-25\", \"2014-04-28\", \"2014-04-29\", \"2014-04-30\", \"2014-05-01\", \"2014-05-02\", \"2014-05-05\", \"2014-05-06\", \"2014-05-07\", \"2014-05-08\", \"2014-05-09\", \"2014-05-12\", \"2014-05-13\", \"2014-05-14\", \"2014-05-15\", \"2014-05-16\", \"2014-05-19\", \"2014-05-20\", \"2014-05-21\", \"2014-05-22\", \"2014-05-23\", \"2014-05-27\", \"2014-05-28\", \"2014-05-29\", \"2014-05-30\", \"2014-06-02\", \"2014-06-03\", \"2014-06-04\", \"2014-06-05\", \"2014-06-06\", \"2014-06-09\", \"2014-06-10\", \"2014-06-11\", \"2014-06-12\", \"2014-06-13\", \"2014-06-16\", \"2014-06-17\", \"2014-06-18\", \"2014-06-19\", \"2014-06-20\", \"2014-06-23\", \"2014-06-24\", \"2014-06-25\", \"2014-06-26\", \"2014-06-27\", \"2014-06-30\", \"2014-07-01\", \"2014-07-02\", \"2014-07-03\", \"2014-07-07\", \"2014-07-08\", \"2014-07-09\", \"2014-07-10\", \"2014-07-11\", \"2014-07-14\", \"2014-07-15\", \"2014-07-16\", \"2014-07-17\", \"2014-07-18\", \"2014-07-21\", \"2014-07-22\", \"2014-07-23\", \"2014-07-24\", \"2014-07-25\", \"2014-07-28\", \"2014-07-29\", \"2014-07-30\", \"2014-07-31\", \"2014-08-01\", \"2014-08-04\", \"2014-08-05\", \"2014-08-06\", \"2014-08-07\", \"2014-08-08\", \"2014-08-11\", \"2014-08-12\", \"2014-08-13\", \"2014-08-14\", \"2014-08-15\", \"2014-08-18\", \"2014-08-19\", \"2014-08-20\", \"2014-08-21\", \"2014-08-22\", \"2014-08-25\", \"2014-08-26\", \"2014-08-27\", \"2014-08-28\", \"2014-08-29\", \"2014-09-02\", \"2014-09-03\", \"2014-09-04\", \"2014-09-05\", \"2014-09-08\", \"2014-09-09\", \"2014-09-10\", \"2014-09-11\", \"2014-09-12\", \"2014-09-15\", \"2014-09-16\", \"2014-09-17\", \"2014-09-18\", \"2014-09-19\", \"2014-09-22\", \"2014-09-23\", \"2014-09-24\", \"2014-09-25\", \"2014-09-26\", \"2014-09-29\", \"2014-09-30\", \"2014-10-01\", \"2014-10-02\", \"2014-10-03\", \"2014-10-06\", \"2014-10-07\", \"2014-10-08\", \"2014-10-09\", \"2014-10-10\", \"2014-10-13\", \"2014-10-14\", \"2014-10-15\", \"2014-10-16\", \"2014-10-17\", \"2014-10-20\", \"2014-10-21\", \"2014-10-22\", \"2014-10-23\", \"2014-10-24\", \"2014-10-27\", \"2014-10-28\", \"2014-10-29\", \"2014-10-30\", \"2014-10-31\", \"2014-11-03\", \"2014-11-04\", \"2014-11-05\", \"2014-11-06\", \"2014-11-07\", \"2014-11-10\", \"2014-11-11\", \"2014-11-12\", \"2014-11-13\", \"2014-11-14\", \"2014-11-17\", \"2014-11-18\", \"2014-11-19\", \"2014-11-20\", \"2014-11-21\", \"2014-11-24\", \"2014-11-25\", \"2014-11-26\", \"2014-11-28\", \"2014-12-01\", \"2014-12-02\", \"2014-12-03\", \"2014-12-04\", \"2014-12-05\", \"2014-12-08\", \"2014-12-09\", \"2014-12-10\", \"2014-12-11\", \"2014-12-12\", \"2014-12-15\", \"2014-12-16\", \"2014-12-17\", \"2014-12-18\", \"2014-12-19\", \"2014-12-22\", \"2014-12-23\", \"2014-12-24\", \"2014-12-26\", \"2014-12-29\", \"2014-12-30\", \"2014-12-31\", \"2015-01-02\", \"2015-01-05\", \"2015-01-06\", \"2015-01-07\", \"2015-01-08\", \"2015-01-09\", \"2015-01-12\", \"2015-01-13\", \"2015-01-14\", \"2015-01-15\", \"2015-01-16\", \"2015-01-20\", \"2015-01-21\", \"2015-01-22\", \"2015-01-23\", \"2015-01-26\", \"2015-01-27\", \"2015-01-28\", \"2015-01-29\", \"2015-01-30\", \"2015-02-02\", \"2015-02-03\", \"2015-02-04\", \"2015-02-05\", \"2015-02-06\", \"2015-02-09\", \"2015-02-10\", \"2015-02-11\", \"2015-02-12\", \"2015-02-13\", \"2015-02-17\", \"2015-02-18\", \"2015-02-19\", \"2015-02-20\", \"2015-02-23\", \"2015-02-24\", \"2015-02-25\", \"2015-02-26\", \"2015-02-27\", \"2015-03-02\", \"2015-03-03\", \"2015-03-04\", \"2015-03-05\", \"2015-03-06\", \"2015-03-09\", \"2015-03-10\", \"2015-03-11\", \"2015-03-12\", \"2015-03-13\", \"2015-03-16\", \"2015-03-17\", \"2015-03-18\", \"2015-03-19\", \"2015-03-20\", \"2015-03-23\", \"2015-03-24\", \"2015-03-25\", \"2015-03-26\", \"2015-03-27\", \"2015-03-30\", \"2015-03-31\", \"2015-04-01\", \"2015-04-02\", \"2015-04-06\", \"2015-04-07\", \"2015-04-08\", \"2015-04-09\", \"2015-04-10\", \"2015-04-13\", \"2015-04-14\", \"2015-04-15\", \"2015-04-16\", \"2015-04-17\", \"2015-04-20\", \"2015-04-21\", \"2015-04-22\", \"2015-04-23\", \"2015-04-24\", \"2015-04-27\", \"2015-04-28\", \"2015-04-29\", \"2015-04-30\", \"2015-05-01\", \"2015-05-04\", \"2015-05-05\", \"2015-05-06\", \"2015-05-07\", \"2015-05-08\", \"2015-05-11\", \"2015-05-12\", \"2015-05-13\", \"2015-05-14\", \"2015-05-15\", \"2015-05-18\", \"2015-05-19\", \"2015-05-20\", \"2015-05-21\", \"2015-05-22\", \"2015-05-26\", \"2015-05-27\", \"2015-05-28\", \"2015-05-29\", \"2015-06-01\", \"2015-06-02\", \"2015-06-03\", \"2015-06-04\", \"2015-06-05\", \"2015-06-08\", \"2015-06-09\", \"2015-06-10\", \"2015-06-11\", \"2015-06-12\", \"2015-06-15\", \"2015-06-16\", \"2015-06-17\", \"2015-06-18\", \"2015-06-19\", \"2015-06-22\", \"2015-06-23\", \"2015-06-24\", \"2015-06-25\", \"2015-06-26\", \"2015-06-29\", \"2015-06-30\", \"2015-07-01\", \"2015-07-02\", \"2015-07-06\", \"2015-07-07\", \"2015-07-08\", \"2015-07-09\", \"2015-07-10\", \"2015-07-13\", \"2015-07-14\", \"2015-07-15\", \"2015-07-16\", \"2015-07-17\", \"2015-07-20\", \"2015-07-21\", \"2015-07-22\", \"2015-07-23\", \"2015-07-24\", \"2015-07-27\", \"2015-07-28\", \"2015-07-29\", \"2015-07-30\", \"2015-07-31\", \"2015-08-03\", \"2015-08-04\", \"2015-08-05\", \"2015-08-06\", \"2015-08-07\", \"2015-08-10\", \"2015-08-11\", \"2015-08-12\", \"2015-08-13\", \"2015-08-14\", \"2015-08-17\", \"2015-08-18\", \"2015-08-19\", \"2015-08-20\", \"2015-08-21\", \"2015-08-24\", \"2015-08-25\", \"2015-08-26\", \"2015-08-27\", \"2015-08-28\", \"2015-08-31\", \"2015-09-01\", \"2015-09-02\", \"2015-09-03\", \"2015-09-04\", \"2015-09-08\", \"2015-09-09\", \"2015-09-10\", \"2015-09-11\", \"2015-09-14\", \"2015-09-15\", \"2015-09-16\", \"2015-09-17\", \"2015-09-18\", \"2015-09-21\", \"2015-09-22\", \"2015-09-23\", \"2015-09-24\", \"2015-09-25\", \"2015-09-28\", \"2015-09-29\", \"2015-09-30\", \"2015-10-01\", \"2015-10-02\", \"2015-10-05\", \"2015-10-06\", \"2015-10-07\", \"2015-10-08\", \"2015-10-09\", \"2015-10-12\", \"2015-10-13\", \"2015-10-14\", \"2015-10-15\", \"2015-10-16\", \"2015-10-19\", \"2015-10-20\", \"2015-10-21\", \"2015-10-22\", \"2015-10-23\", \"2015-10-26\", \"2015-10-27\", \"2015-10-28\", \"2015-10-29\", \"2015-10-30\", \"2015-11-02\", \"2015-11-03\", \"2015-11-04\", \"2015-11-05\", \"2015-11-06\", \"2015-11-09\", \"2015-11-10\", \"2015-11-11\", \"2015-11-12\", \"2015-11-13\", \"2015-11-16\", \"2015-11-17\", \"2015-11-18\", \"2015-11-19\", \"2015-11-20\", \"2015-11-23\", \"2015-11-24\", \"2015-11-25\", \"2015-11-27\", \"2015-11-30\", \"2015-12-01\", \"2015-12-02\", \"2015-12-03\", \"2015-12-04\", \"2015-12-07\", \"2015-12-08\", \"2015-12-09\", \"2015-12-10\", \"2015-12-11\", \"2015-12-14\", \"2015-12-15\", \"2015-12-16\", \"2015-12-17\", \"2015-12-18\", \"2015-12-21\", \"2015-12-22\", \"2015-12-23\", \"2015-12-24\", \"2015-12-28\", \"2015-12-29\", \"2015-12-30\", \"2015-12-31\"], \"y\": [58.31, 58.35, 58.51, 58.57, 59.19, 59.22, 59.57, 59.47, 59.38, 58.81, 58.58, 59.35, 57.85, 58.48, 58.69, 59.17, 59.97, 60.78, 60.67, 61.45, 61.83, 61.27, 61.44, 61.73, 60.53, 61.27, 61.18, 60.31, 59.81, 60.07, 60.86, 61.3, 60.81, 60.77, 61.58, 60.85, 60.83, 60.74, 59.66, 60.13, 59.79, 59.72, 59.92, 59.66, 59.07, 58.66, 59.12, 58.79, 60.03, 59.64, 59.94, 60.26, 60.37, 60.41, 61.94, 61.57, 61.47, 62.12, 62.06, 62.9, 63.62, 62.82, 63.25, 64.27, 64.31, 64.5, 63.77, 64.19, 62.73, 63.08, 62.98, 63.61, 65.64, 65.16, 64.98, 65.03, 65.31, 64.37, 64.41, 64.97, 64.3, 63.16, 64.14, 63.42, 63.8, 65.53, 65.4, 65.75, 65.21, 64.26, 63.29, 62.07, 62.06, 59.99, 59.86, 59.94, 59.17, 58.77, 59.1, 59.77, 60.57, 59.11, 59.62, 60.58, 60.59, 58.65, 58.9, 59.14, 58.98, 59.19, 58.2, 55.24, 55.59, 57.33, 56.99, 56.52, 57.02, 59.48, 60.01, 59.7, 60.4, 60.04, 60.14, 62.54, 63.21, 64.02, 63.65, 63.87, 63.95, 64.21, 63.93, 62.63, 61.47, 60.69, 61.2, 61.96, 63.85, 63.34, 62.51, 64.22, 64.97, 64.45, 65.06, 66.23, 66.5, 65.94, 66.23, 67.8, 67.69, 67.14, 66.28, 64.68, 65.23, 65.36, 65.03, 66.24, 66.95, 67.57, 67.14, 67.2, 67.85, 68.05, 67.75, 66.98, 66.89, 65.64, 65.5, 65.79, 66.83, 67.42, 66.1, 65.96, 66.69, 66.67, 68.35, 69.73, 70.32, 70.95, 70.86, 71.85, 72.35, 71.64, 71.78, 72.57, 73.26, 72.39, 72.89, 72.91, 73.04, 73.56, 74.54, 74.56, 74.41, 75.0, 75.0, 74.78, 76.35, 76.57, 76.81, 75.78, 76.3, 76.18, 76.4, 77.35, 78.16, 77.47, 77.62, 76.44, 76.58, 76.43, 73.77, 74.16, 74.28, 76.04, 75.9, 75.54, 74.85, 76.68, 77.33, 78.23, 78.66, 78.68, 79.12, 79.31, 79.23, 79.2, 78.95, 76.25, 76.92, 77.41, 76.16, 75.27, 77.26, 77.98, 78.61, 78.18, 78.61, 78.77, 78.4, 78.96, 79.6, 79.26, 80.37, 81.7, 81.28, 80.79, 79.7, 80.73, 82.0, 81.59, 81.43, 81.62, 81.91, 80.86, 81.35, 81.16, 81.57, 82.37, 82.86, 82.61, 82.38, 81.21, 81.5, 83.31, 82.62, 84.65, 82.22, 82.12, 81.12, 81.72, 82.79, 83.85, 84.04, 83.27, 83.13, 83.24, 82.82, 81.78, 80.28, 81.25, 82.36, 82.82, 82.36, 83.31, 83.19, 82.75, 80.97, 78.52, 74.13, 74.92, 75.09, 73.4, 71.64, 73.55, 73.89, 75.41, 76.0, 76.06, 72.08, 73.81, 74.89, 74.41, 75.02, 76.11, 81.33, 81.13, 81.1, 80.37, 79.47, 78.33, 78.43, 78.76, 78.69, 80.18, 79.81, 80.3, 80.3, 80.28, 79.4, 80.07, 79.99, 82.07, 81.59, 81.82, 82.59, 82.91, 83.56, 83.51, 84.52, 84.38, 85.01, 84.01, 84.11, 84.36, 85.28, 86.57, 85.98, 85.65, 86.05, 84.38, 85.15, 84.9, 83.48, 84.08, 84.17, 85.05, 85.61, 85.63, 85.75, 84.46, 84.26, 85.29, 85.82, 85.04, 86.07, 85.85, 85.65, 85.96, 84.73, 87.1, 88.54, 86.7, 89.17, 89.3, 88.48, 88.5, 87.8, 87.32, 87.29, 84.6, 84.54, 84.11, 85.32, 84.88, 83.88, 71.33, 73.22, 72.94, 73.09, 72.66, 70.46, 70.65, 72.4, 73.26, 72.3, 72.85, 70.85, 69.88, 67.57, 67.71, 65.55, 65.86, 64.5, 64.37, 64.61, 63.87, 64.38, 63.88, 60.62, 64.03, 64.33, 65.39, 61.81, 60.03, 59.64, 57.58, 56.63, 58.97, 62.23, 62.66, 62.89, 64.09, 64.31, 64.54, 63.73, 60.77, 61.21, 60.16, 62.37, 63.93, 62.56, 62.5, 62.5, 63.08, 63.54, 63.46, 66.79, 66.11, 64.91, 68.51, 67.03, 64.63, 64.44, 62.29, 61.37, 62.97, 64.55, 63.0, 64.01, 66.1, 67.0, 67.11, 68.9, 67.94, 69.09, 67.53, 67.06, 67.25, 66.1, 65.3, 65.81, 65.4, 61.95, 62.59, 63.62, 62.89, 62.0, 64.78, 66.27, 65.49, 67.26, 62.42, 58.9, 55.59, 54.51, 51.19, 53.68, 54.2, 53.77, 55.86, 55.61, 53.27, 52.9, 51.13, 50.43, 48.51, 49.89, 47.95, 49.8, 53.5, 52.34, 52.72, 52.28, 50.01, 50.11, 51.58, 51.69, 54.37, 49.95, 50.37, 50.2, 50.3, 49.53, 48.07, 50.08, 51.37, 54.37, 54.97, 55.0, 53.32, 53.22, 53.11, 50.95, 50.94, 49.3, 48.31, 46.4, 47.73, 48.41, 48.39, 48.9, 47.13, 47.39, 45.25, 45.11, 48.53, 51.7, 51.23, 48.89, 49.59, 49.46, 48.63, 49.34, 48.25, 48.03, 45.56, 44.95, 44.88, 43.19, 42.53, 42.71, 43.23, 42.62, 42.32, 41.49, 43.55, 43.17, 44.19, 45.28, 44.93, 45.88, 44.4, 42.12, 41.58, 41.35, 41.47, 39.67, 39.86, 38.3, 42.49, 41.01, 41.6, 39.55, 36.38, 42.86, 43.45, 49.67, 48.75, 49.45, 47.79, 45.69, 44.74, 45.7, 48.85, 49.09, 48.88, 47.6, 48.09, 47.62, 46.1, 44.44, 43.63, 42.97, 43.52, 45.42, 46.42, 47.77, 47.2, 47.19, 47.38, 50.39, 50.65, 49.91, 48.96, 48.6, 50.33, 50.31, 48.72, 49.05, 47.21, 46.48, 45.96, 47.65, 46.61, 46.96, 47.71, 47.21, 46.2, 44.8, 42.89, 42.95, 41.83, 42.24, 42.77, 43.78, 44.23, 43.1, 42.65, 43.36, 44.59, 40.81, 39.39, 39.23, 37.13, 38.38, 41.04, 42.29, 40.59, 40.69, 40.19, 38.68, 37.46, 38.43, 38.18, 36.83, 36.71, 36.07, 36.6, 35.87, 35.91, 35.07, 36.49, 33.99, 33.51, 33.44, 31.75, 31.0, 35.05, 38.32, 38.57, 36.46, 38.67, 39.11, 37.24, 36.75, 34.96, 36.5, 38.6, 39.48, 41.11, 41.48, 43.2, 43.18, 42.66, 45.04, 45.39, 42.5, 40.15, 40.64, 40.88, 39.59, 38.08, 37.4, 37.06, 38.89, 38.22, 38.58, 39.05, 40.6, 40.83, 41.3, 42.17, 40.34, 41.36, 43.27, 40.4, 38.92, 38.71, 37.23, 32.19, 28.7, 21.75, 22.55, 27.21, 27.09, 28.0, 24.79, 27.1, 24.75, 20.99, 23.0, 24.42, 23.21, 23.92, 23.5, 17.65, 16.8, 12.45, 9.68, 18.1, 21.94, 18.13, 18.69, 19.24, 19.77, 20.2, 19.33, 18.08, 16.52, 13.73, 15.2, 14.76, 16.09, 17.47, 18.0, 18.9, 17.06, 15.39, 15.98, 14.58, 14.08, 11.94, 13.21, 12.03, 11.22, 12.03, 10.25, 9.2, 10.05, 13.38, 14.27, 14.5, 14.75, 11.35, 12.04, 13.85, 14.94, 15.72, 16.3, 14.97, 14.6, 13.74, 13.85, 13.64, 16.13, 16.5, 16.23, 15.45, 14.58, 14.44, 14.5, 14.65, 14.9, 15.19, 16.04, 16.99, 17.62, 19.58, 18.1, 18.82, 19.06, 18.79, 18.86, 17.19, 16.26, 15.59, 13.1, 16.86, 17.58, 18.71, 19.08, 19.79, 23.0, 21.38, 20.23, 20.8, 20.94, 22.01, 23.19, 22.87, 23.61, 20.79, 22.91, 22.99, 22.93, 19.76, 20.18, 19.93, 19.43, 18.82, 22.07, 21.76, 21.33, 19.54, 17.95, 18.18, 19.4, 17.98, 17.18, 16.48, 20.84, 22.51, 24.18, 25.43, 23.04, 23.81, 24.19, 21.04, 20.24, 24.43, 25.12, 25.91, 25.65, 24.35, 22.13, 22.77, 23.73, 23.11, 24.06, 23.31, 23.32, 22.69, 25.35, 26.89, 23.67, 23.45, 23.97, 25.0, 23.52, 24.65, 22.44, 21.96, 21.96, 21.26, 21.08, 23.07, 23.64, 25.82, 27.02, 27.21, 28.51, 27.14, 28.2, 26.07, 26.42, 25.1, 26.57, 26.13, 28.28, 28.91, 28.0, 28.09, 28.23, 29.02, 28.61, 29.43, 30.32, 29.89, 30.09, 29.72, 31.2, 30.97, 31.39, 30.98, 29.26, 29.49, 29.7, 28.4, 28.1, 27.48, 28.03, 28.27, 26.63, 27.7, 27.65, 27.87, 28.62, 29.1, 28.51, 28.36, 26.99, 26.85, 26.15, 25.5, 25.88, 25.94, 27.91, 27.88, 28.8, 28.56, 27.99, 28.34, 27.56, 27.54, 28.54, 28.25, 28.05, 27.43, 27.16, 28.36, 28.5, 29.31, 30.07, 31.05, 30.55, 31.22, 30.83, 29.89, 29.98, 29.88, 29.79, 28.54, 28.78, 28.83, 29.36, 29.69, 29.65, 30.19, 29.53, 29.84, 29.51, 28.96, 27.45, 27.09, 27.65, 27.65, 27.8, 28.55, 28.64, 28.82, 28.75, 28.74, 30.15, 31.05, 31.38, 31.61, 32.98, 32.03, 30.73, 30.55, 31.25, 31.09, 30.88, 29.87, 29.46, 29.84, 30.79, 31.16, 31.94, 32.09, 31.76, 31.14, 32.83, 32.71, 32.99, 33.11, 32.52, 34.08, 35.74, 35.0, 34.8, 34.11, 32.31, 33.67, 32.12, 31.98, 32.14, 31.48, 32.42, 32.6, 33.95, 33.7, 33.75, 33.01, 33.09, 34.23, 33.47, 33.33, 32.31, 32.1, 32.62, 32.12, 31.42, 30.51, 31.58, 31.52, 30.6, 30.2, 30.97, 30.38, 30.15, 30.35, 30.23, 29.78, 30.17, 29.85, 30.34, 29.12, 29.21, 29.66, 29.6, 29.41, 29.6, 29.29, 29.43, 29.49, 29.6, 30.91, 32.04, 32.45, 32.92, 32.25, 32.04, 31.13, 31.26, 31.2, 30.38, 31.16, 30.63, 29.34, 27.8, 27.74, 27.33, 27.95, 27.49, 26.78, 27.56, 28.06, 27.89, 26.63, 27.26, 26.6, 27.13, 27.51, 27.12, 27.16, 27.82, 27.39, 27.26, 27.41, 27.71, 27.15, 27.83, 27.74, 28.18, 28.19, 28.7, 28.32, 29.2, 29.41, 29.58, 29.05, 29.97, 30.02, 29.91, 29.64, 30.31, 30.28, 30.08, 29.63, 29.6, 29.53, 29.37, 28.91, 28.85, 29.43, 29.21, 29.29, 29.2, 29.29, 29.36, 30.02, 30.88, 30.98, 30.93, 30.48, 31.14, 30.88, 29.16, 29.56, 30.45, 31.68, 31.9, 31.94, 30.94, 29.93, 30.33, 31.31, 30.22, 30.43, 29.49, 29.29, 27.64, 27.75, 28.86, 28.38, 27.8, 27.62, 27.08, 27.11, 26.73, 27.04, 25.64, 27.11, 25.75, 26.11, 26.53, 27.66, 27.11, 26.13, 27.18, 26.85, 25.99, 25.29, 25.59, 25.13, 25.59, 26.0, 25.33, 25.95, 25.77, 25.32, 25.7, 25.61, 25.18, 25.03, 24.26, 25.01, 24.52, 23.45, 23.21, 23.09, 22.83, 22.97, 23.95, 24.2, 24.7, 24.56, 25.66, 25.54, 25.59, 24.74, 24.78, 25.22, 26.8, 26.79, 26.89, 27.0, 27.0, 27.01, 26.99, 26.99, 27.68, 27.49, 27.87, 27.84, 27.65, 27.45, 27.33, 26.43, 26.12, 25.9, 25.7, 26.2, 26.26, 25.99, 25.92, 25.72, 25.13, 25.1, 24.63, 25.03, 24.43, 24.56, 25.41, 25.68, 26.66, 25.67, 25.97, 27.01, 27.19, 27.77, 27.52, 27.24, 26.78, 26.47, 26.84, 26.06, 24.95, 24.74, 25.15, 24.87, 24.5, 24.48, 24.68, 25.02, 24.71, 25.47, 25.38, 25.07, 25.32, 25.15, 25.93, 25.94, 25.44, 25.02, 25.4, 25.39, 25.38, 24.6, 24.52, 24.38, 24.19, 24.4, 24.86, 24.87, 24.68, 24.61, 25.4, 26.37, 27.28, 27.21, 26.32, 26.55, 26.31, 25.57, 26.0, 25.63, 25.09, 25.57, 25.62, 25.06, 24.66, 25.15, 24.7, 24.92, 24.46, 24.92, 25.61, 25.64, 25.54, 25.66, 26.47, 26.71, 26.95, 26.94, 26.63, 26.2, 26.01, 26.24, 26.26, 26.86, 27.4, 27.41, 27.51, 27.66, 27.28, 27.33, 27.21, 28.23, 28.47, 28.83, 28.8, 28.2, 28.05, 27.96, 28.71, 28.3, 28.98, 28.75, 27.75, 29.02, 30.01, 29.75, 29.34, 29.01, 29.85, 29.04, 29.4, 29.92, 29.66, 29.81, 29.85, 30.42, 30.64, 30.08, 29.73, 30.16, 29.98, 30.32, 30.71, 30.69, 30.99, 29.52, 29.65, 29.49, 29.87, 29.68, 28.82, 28.97, 29.31, 28.44, 28.32, 28.8, 28.72, 28.07, 28.34, 27.91, 27.65, 27.11, 27.45, 27.43, 27.79, 27.76, 27.57, 27.61, 27.13, 27.18, 27.23, 27.23, 27.32, 27.26, 27.1, 27.18, 27.76, 27.62, 27.25, 26.91, 26.81, 26.79, 26.79, 26.98, 26.55, 26.1, 26.04, 26.48, 25.78, 25.85, 25.5, 25.82, 26.15, 26.03, 25.72, 25.4, 25.14, 25.24, 25.08, 25.46, 24.61, 24.51, 24.13, 23.88, 24.2, 24.37, 24.3, 23.83, 23.69, 23.53, 23.56, 23.55, 24.07, 24.16, 23.13, 23.01, 23.12, 22.52, 22.26, 21.93, 22.51, 22.69, 23.36, 22.8, 22.08, 22.14, 22.83, 22.39, 22.76, 22.6, 22.35, 22.21, 22.54, 22.33, 23.39, 23.01, 23.76, 23.15, 22.73, 23.0, 22.3, 21.58, 21.22, 21.3, 21.11, 21.09, 20.69, 20.98, 21.72, 24.2, 23.9, 23.3, 23.52, 22.54, 22.36, 22.25, 22.29, 21.31, 21.02, 19.7, 20.02, 17.12, 18.21, 16.45, 18.21, 16.89, 17.92, 17.07, 17.01, 16.2, 16.0, 15.67, 15.76, 16.33, 16.77, 16.61, 17.32, 17.04, 17.5, 16.93, 15.96, 15.33, 16.33, 15.84, 15.28, 15.05, 15.54, 15.48, 16.59, 16.45, 15.15, 15.12, 13.82, 13.06, 13.72, 14.61, 14.97, 14.16, 15.09, 13.51, 12.47, 14.01, 14.48, 15.18, 14.24, 15.29, 15.39, 15.84, 15.14, 15.22, 15.25, 16.63, 16.64, 16.61, 17.02, 17.15, 16.52, 16.64, 19.41, 19.31, 17.64, 16.23, 16.76, 16.95, 16.72, 16.92, 17.32, 15.76, 15.86, 16.36, 15.92, 15.93, 14.66, 14.13, 14.21, 13.6, 13.52, 13.03, 13.26, 13.8, 13.31, 14.79, 14.51, 15.52, 16.57, 16.58, 17.34, 15.88, 16.38, 15.38, 15.17, 15.06, 15.01, 14.98, 14.16, 14.8, 14.91, 15.88, 15.76, 15.29, 14.9, 15.24, 15.13, 16.08, 15.94, 16.28, 15.9, 16.2, 16.89, 17.1, 17.17, 16.63, 16.25, 17.35, 18.28, 18.39, 18.21, 18.14, 18.13, 18.2, 18.56, 18.2, 18.65, 19.39, 19.52, 20.31, 20.51, 20.26, 20.44, 20.34, 19.66, 19.54, 19.05, 18.96, 19.19, 19.16, 19.26, 18.73, 18.97, 18.49, 18.75, 18.71, 18.54, 19.19, 18.87, 18.29, 17.32, 17.88, 18.18, 18.37, 18.2, 18.93, 18.6, 19.51, 19.53, 20.06, 20.41, 20.06, 19.59, 20.33, 21.17, 20.72, 20.24, 19.74, 19.64, 19.81, 19.37, 18.69, 18.39, 17.98, 17.31, 17.51, 18.22, 17.28, 17.5, 17.85, 17.66, 18.07, 17.48, 16.98, 17.4, 17.14, 17.21, 16.95, 17.28, 17.49, 16.95, 16.23, 16.0, 16.15, 15.84, 15.49, 15.6, 14.95, 14.3, 14.14, 13.54, 13.46, 13.35, 13.19, 13.31, 13.37, 13.31, 13.25, 13.64, 13.09, 13.36, 12.73, 12.36, 12.86, 13.94, 13.41, 13.71, 13.37, 13.93, 13.65, 13.93, 14.3, 13.82, 14.26, 14.2, 13.96, 14.14, 13.48, 13.51, 13.91, 13.87, 14.59, 14.94, 15.11, 14.51, 14.14, 13.93, 13.71, 13.81, 13.55, 14.05, 14.25, 14.34, 13.99, 13.25, 12.78, 12.64, 12.62, 12.96, 13.0, 13.49, 13.51, 13.66, 13.51, 13.03, 13.78, 14.14, 14.5, 14.57, 14.71, 14.61, 14.55, 14.39, 14.58, 14.59, 14.59, 14.83, 14.89, 14.86, 14.5, 14.56, 14.53, 14.6, 14.81, 14.9, 15.0, 15.51, 15.68, 16.25, 17.08, 16.61, 17.25, 17.42, 17.9, 18.24, 17.8, 17.63, 17.57, 17.21, 17.08, 17.04, 16.6, 16.43, 16.84, 16.74, 16.79, 16.91, 17.03, 17.47, 17.5, 17.45, 17.35, 17.4, 17.86, 17.31, 17.75, 17.87, 18.49, 17.79, 17.53, 17.45, 17.11, 17.18, 17.1, 17.04, 17.38, 17.61, 17.78, 17.75, 18.19, 16.63, 16.52, 16.61, 16.77, 16.52, 16.09, 16.26, 16.18, 16.52, 16.35, 16.25, 16.43, 16.61, 16.63, 16.88, 16.86, 16.87, 16.47, 16.61, 16.98, 16.74, 16.97, 17.01, 17.75, 17.7, 17.8, 18.05, 18.53, 19.12, 19.09, 19.27, 18.92, 18.95, 18.88, 18.77, 18.62, 19.12, 19.62, 19.58, 20.19, 19.8, 19.65, 19.62, 20.34, 20.17, 20.07, 20.43, 20.54, 20.75, 22.38, 22.98, 22.67, 22.6, 22.7, 22.31, 22.59, 22.98, 22.85, 23.51, 22.88, 23.4, 23.39, 23.1, 23.32, 23.28, 23.63, 23.63, 23.83, 23.87, 24.32, 23.42, 22.83, 23.58, 22.03, 22.44, 22.9, 22.55, 22.43, 22.6, 22.74, 22.91, 23.22, 23.03, 23.1, 22.67, 22.78, 22.8, 23.59, 22.99, 22.39, 22.74, 22.06, 22.18, 21.97, 22.22, 22.29, 21.98, 21.66, 21.7, 21.11, 21.33, 21.56, 21.74, 21.74, 22.22, 22.27, 21.82, 21.48, 21.85, 21.47, 20.31, 20.58, 20.71, 21.61, 21.45, 21.43, 21.4, 22.21, 22.15, 21.85, 22.29, 22.76, 23.28, 23.27, 23.67, 23.41, 23.94, 23.68, 24.27, 24.86, 24.58, 25.19, 25.07, 25.12, 24.7, 24.25, 24.35, 24.73, 24.98, 25.82, 25.9, 25.65, 25.47, 25.03, 25.41, 27.0, 27.15, 26.09, 25.57, 26.37, 25.83, 26.21, 26.32, 26.11, 25.15, 24.91, 24.4, 25.03, 24.88, 25.04, 24.43, 24.59, 24.44, 24.04, 24.57, 24.88, 25.44, 25.34, 25.55, 26.13, 26.69, 26.38, 26.54, 27.7, 27.6, 27.61, 27.81, 27.73, 27.76, 27.7, 27.31, 27.07, 27.21, 27.92, 27.85, 27.85, 27.31, 27.07, 26.92, 26.76, 26.62, 26.96, 26.79, 26.36, 26.47, 25.81, 26.31, 26.01, 26.22, 26.32, 26.38, 25.45, 25.58, 25.91, 25.76, 26.27, 26.51, 26.65, 26.81, 27.44, 28.04, 28.25, 28.02, 28.13, 28.73, 29.01, 29.02, 28.6, 28.19, 27.22, 27.27, 27.22, 27.15, 27.08, 26.95, 27.14, 27.12, 26.85, 26.99, 26.84, 26.55, 26.77, 27.64, 27.95, 28.18, 27.99, 28.63, 28.93, 29.69, 29.43, 29.46, 29.08, 29.39, 29.23, 28.97, 29.36, 29.11, 28.73, 29.2, 29.34, 28.99, 29.13, 28.72, 29.44, 30.09, 29.76, 30.05, 30.34, 30.3, 30.33, 30.34, 30.27, 30.89, 31.34, 31.54, 31.39, 31.41, 31.3, 31.43, 30.97, 31.13, 30.21, 30.46, 30.39, 30.77, 30.12, 30.48, 31.09, 30.92, 30.52, 31.62, 30.86, 30.93, 31.11, 31.01, 31.1, 31.06, 30.85, 31.36, 31.03, 31.51, 31.62, 31.52, 31.56, 31.55, 31.3, 30.87, 31.1, 32.22, 32.0, 33.4, 32.63, 32.29, 31.48, 30.45, 29.97, 30.13, 29.94, 29.98, 29.51, 28.95, 29.02, 29.18, 29.69, 29.69, 29.7, 30.27, 30.16, 29.91, 29.69, 29.56, 28.96, 29.33, 29.62, 30.31, 29.71, 29.94, 30.36, 30.8, 30.26, 31.1, 31.97, 31.84, 32.21, 32.13, 31.7, 31.44, 31.44, 31.1, 31.37, 31.65, 31.81, 32.79, 32.6, 32.44, 31.59, 31.22, 30.9, 30.91, 31.17, 31.21, 31.41, 30.95, 30.37, 29.52, 29.53, 30.22, 29.25, 28.47, 29.06, 29.55, 29.89, 30.76, 30.98, 31.2, 31.04, 30.94, 30.58, 29.99, 30.52, 30.93, 31.22, 30.69, 30.07, 29.46, 29.7, 29.69, 29.68, 30.33, 30.33, 30.25, 29.77, 30.14, 30.16, 29.71, 30.01, 30.39, 30.49, 31.12, 30.93, 31.13, 30.86, 30.9, 30.85, 31.2, 31.63, 31.95, 31.98, 32.08, 31.69, 31.73, 31.59, 31.71, 32.5, 32.66, 32.54, 32.29, 32.52, 32.03, 32.23, 31.89, 31.55, 32.33, 32.32, 32.49, 32.62, 32.39, 31.75, 32.01, 31.68, 31.41, 31.81, 32.0, 32.5, 32.3, 32.64, 32.55, 32.91, 33.35, 33.4, 33.24, 33.07, 32.65, 33.34, 32.34, 31.6, 31.83, 31.41, 31.56, 31.36, 31.95, 32.08, 32.01, 32.02, 32.17, 32.22, 32.61, 32.53, 32.54, 33.03, 33.47, 34.2, 34.4, 34.13, 34.06, 34.31, 34.55, 34.56, 34.7, 34.63, 34.86, 33.91, 34.33, 34.73, 35.01, 35.21, 35.11, 35.56, 36.13, 35.76, 35.18, 35.02, 34.98, 34.22, 34.65, 34.5, 34.57, 33.96, 34.28, 35.05, 34.99, 34.02, 34.5, 33.3, 32.94, 32.85, 33.01, 32.61, 32.53, 33.22, 33.32, 34.06, 33.43, 33.96, 34.32, 33.96, 34.36, 34.39, 34.52, 34.95, 34.71, 34.66, 34.9, 35.31, 35.66, 35.88, 35.79, 35.97, 35.84, 35.69, 35.6, 35.47, 35.48, 35.39, 35.53, 35.62, 35.3, 35.12, 35.18, 35.1, 35.77, 36.52, 36.79, 37.24, 38.0, 38.1, 37.39, 37.4, 36.25, 35.93, 35.52, 36.73, 38.1, 38.51, 38.57, 38.95, 38.81, 38.72, 38.96, 39.0, 38.8, 38.71, 37.5, 36.42, 36.94, 37.49, 36.88, 36.37, 36.03, 35.21, 34.58, 34.89, 34.75, 34.73, 35.53, 35.15, 35.11, 34.66, 33.77, 34.37, 33.81, 34.42, 35.04, 34.77, 34.93, 35.79, 35.63, 36.16, 36.37, 36.9, 36.78, 36.92, 36.37, 36.33, 36.74, 36.27, 36.74, 36.59, 36.06, 35.79, 36.24, 35.82, 35.09, 35.52, 35.53, 35.67, 34.88, 34.95, 37.09, 36.35, 36.73, 36.55, 36.73, 36.11, 36.5, 36.31, 36.24, 35.45, 35.62, 35.83, 36.31, 35.69, 35.97, 36.06, 35.91, 35.94, 36.26, 36.64, 36.24, 36.3, 36.84, 37.39, 37.36, 36.75, 36.96, 36.75, 37.2, 37.38, 37.36, 37.05, 37.04, 37.49, 37.31, 37.51, 37.91, 37.45, 37.05, 37.54, 37.89, 38.25, 37.72, 37.78, 38.14, 37.85, 38.33, 38.69, 38.33, 38.04, 38.17, 37.79, 38.62, 38.73, 38.2, 38.58, 38.52, 39.01, 38.7, 39.29, 39.09, 39.13, 39.89, 39.87, 39.61, 39.53, 39.74, 39.58, 39.79, 39.37, 39.85, 40.21, 39.64, 39.22, 39.5, 38.31, 38.79, 39.36, 39.0, 38.85, 38.62, 37.79, 38.1, 38.64, 39.32, 39.71, 39.7, 39.91, 40.2, 40.04, 40.08, 40.54, 39.94, 39.6, 39.25, 39.25, 39.29, 39.3, 38.84, 38.76, 38.92, 39.0, 38.93, 38.58, 39.08, 37.92, 37.57, 37.75, 38.05, 38.14, 37.82, 37.44, 36.17, 34.21, 32.26, 31.76, 33.3, 34.3, 34.05, 34.45, 33.12, 33.79, 33.8, 33.19, 34.27, 33.75, 33.87, 33.99, 33.81, 34.58, 34.62, 34.05, 33.03, 33.34, 32.44, 32.32, 31.97, 32.19, 31.09, 31.01, 31.5, 31.5, 31.43, 32.29, 32.36, 32.93, 32.99, 32.72, 32.8, 32.61, 32.54, 33.61, 33.95, 32.32, 32.25, 31.48, 32.35, 32.62, 32.55, 32.23, 33.44, 33.54, 32.97, 33.48, 33.29, 33.4, 33.88, 35.41, 35.11, 35.24, 35.02, 34.23, 33.93, 34.05, 33.59, 34.25, 34.17, 33.91, 33.64, 33.59, 33.61, 33.78, 34.3, 35.27, 34.89, 34.45, 35.32, 34.68, 34.06, 33.37, 33.42, 32.08, 31.88, 32.84, 33.61, 32.38, 31.29, 31.68, 32.22, 32.6, 32.48, 32.17, 32.55, 32.23, 31.81], \"mode\": \"lines\", \"line\": {\"color\": \"rgba(251, 193, 94, 1.0)\", \"dash\": \"solid\", \"width\": 1.3}, \"text\": \"\", \"name\": \"MS\"}, {\"type\": \"scatter\", \"x\": [\"2006-01-03\", \"2006-01-04\", \"2006-01-05\", \"2006-01-06\", \"2006-01-09\", \"2006-01-10\", \"2006-01-11\", \"2006-01-12\", \"2006-01-13\", \"2006-01-17\", \"2006-01-18\", \"2006-01-19\", \"2006-01-20\", \"2006-01-23\", \"2006-01-24\", \"2006-01-25\", \"2006-01-26\", \"2006-01-27\", \"2006-01-30\", \"2006-01-31\", \"2006-02-01\", \"2006-02-02\", \"2006-02-03\", \"2006-02-06\", \"2006-02-07\", \"2006-02-08\", \"2006-02-09\", \"2006-02-10\", \"2006-02-13\", \"2006-02-14\", \"2006-02-15\", \"2006-02-16\", \"2006-02-17\", \"2006-02-21\", \"2006-02-22\", \"2006-02-23\", \"2006-02-24\", \"2006-02-27\", \"2006-02-28\", \"2006-03-01\", \"2006-03-02\", \"2006-03-03\", \"2006-03-06\", \"2006-03-07\", \"2006-03-08\", \"2006-03-09\", \"2006-03-10\", \"2006-03-13\", \"2006-03-14\", \"2006-03-15\", \"2006-03-16\", \"2006-03-17\", \"2006-03-20\", \"2006-03-21\", \"2006-03-22\", \"2006-03-23\", \"2006-03-24\", \"2006-03-27\", \"2006-03-28\", \"2006-03-29\", \"2006-03-30\", \"2006-03-31\", \"2006-04-03\", \"2006-04-04\", \"2006-04-05\", \"2006-04-06\", \"2006-04-07\", \"2006-04-10\", \"2006-04-11\", \"2006-04-12\", \"2006-04-13\", \"2006-04-17\", \"2006-04-18\", \"2006-04-19\", \"2006-04-20\", \"2006-04-21\", \"2006-04-24\", \"2006-04-25\", \"2006-04-26\", \"2006-04-27\", \"2006-04-28\", \"2006-05-01\", \"2006-05-02\", \"2006-05-03\", \"2006-05-04\", \"2006-05-05\", \"2006-05-08\", \"2006-05-09\", \"2006-05-10\", \"2006-05-11\", \"2006-05-12\", \"2006-05-15\", \"2006-05-16\", \"2006-05-17\", \"2006-05-18\", \"2006-05-19\", \"2006-05-22\", \"2006-05-23\", \"2006-05-24\", \"2006-05-25\", \"2006-05-26\", \"2006-05-30\", \"2006-05-31\", \"2006-06-01\", \"2006-06-02\", \"2006-06-05\", \"2006-06-06\", \"2006-06-07\", \"2006-06-08\", \"2006-06-09\", \"2006-06-12\", \"2006-06-13\", \"2006-06-14\", \"2006-06-15\", \"2006-06-16\", \"2006-06-19\", \"2006-06-20\", \"2006-06-21\", \"2006-06-22\", \"2006-06-23\", \"2006-06-26\", \"2006-06-27\", \"2006-06-28\", \"2006-06-29\", \"2006-06-30\", \"2006-07-03\", \"2006-07-05\", \"2006-07-06\", \"2006-07-07\", \"2006-07-10\", \"2006-07-11\", \"2006-07-12\", \"2006-07-13\", \"2006-07-14\", \"2006-07-17\", \"2006-07-18\", \"2006-07-19\", \"2006-07-20\", \"2006-07-21\", \"2006-07-24\", \"2006-07-25\", \"2006-07-26\", \"2006-07-27\", \"2006-07-28\", \"2006-07-31\", \"2006-08-01\", \"2006-08-02\", \"2006-08-03\", \"2006-08-04\", \"2006-08-07\", \"2006-08-08\", \"2006-08-09\", \"2006-08-10\", \"2006-08-11\", \"2006-08-14\", \"2006-08-15\", \"2006-08-16\", \"2006-08-17\", \"2006-08-18\", \"2006-08-21\", \"2006-08-22\", \"2006-08-23\", \"2006-08-24\", \"2006-08-25\", \"2006-08-28\", \"2006-08-29\", \"2006-08-30\", \"2006-08-31\", \"2006-09-01\", \"2006-09-05\", \"2006-09-06\", \"2006-09-07\", \"2006-09-08\", \"2006-09-11\", \"2006-09-12\", \"2006-09-13\", \"2006-09-14\", \"2006-09-15\", \"2006-09-18\", \"2006-09-19\", \"2006-09-20\", \"2006-09-21\", \"2006-09-22\", \"2006-09-25\", \"2006-09-26\", \"2006-09-27\", \"2006-09-28\", \"2006-09-29\", \"2006-10-02\", \"2006-10-03\", \"2006-10-04\", \"2006-10-05\", \"2006-10-06\", \"2006-10-09\", \"2006-10-10\", \"2006-10-11\", \"2006-10-12\", \"2006-10-13\", \"2006-10-16\", \"2006-10-17\", \"2006-10-18\", \"2006-10-19\", \"2006-10-20\", \"2006-10-23\", \"2006-10-24\", \"2006-10-25\", \"2006-10-26\", \"2006-10-27\", \"2006-10-30\", \"2006-10-31\", \"2006-11-01\", \"2006-11-02\", \"2006-11-03\", \"2006-11-06\", \"2006-11-07\", \"2006-11-08\", \"2006-11-09\", \"2006-11-10\", \"2006-11-13\", \"2006-11-14\", \"2006-11-15\", \"2006-11-16\", \"2006-11-17\", \"2006-11-20\", \"2006-11-21\", \"2006-11-22\", \"2006-11-24\", \"2006-11-27\", \"2006-11-28\", \"2006-11-29\", \"2006-11-30\", \"2006-12-01\", \"2006-12-04\", \"2006-12-05\", \"2006-12-06\", \"2006-12-07\", \"2006-12-08\", \"2006-12-11\", \"2006-12-12\", \"2006-12-13\", \"2006-12-14\", \"2006-12-15\", \"2006-12-18\", \"2006-12-19\", \"2006-12-20\", \"2006-12-21\", \"2006-12-22\", \"2006-12-26\", \"2006-12-27\", \"2006-12-28\", \"2006-12-29\", \"2007-01-03\", \"2007-01-04\", \"2007-01-05\", \"2007-01-08\", \"2007-01-09\", \"2007-01-10\", \"2007-01-11\", \"2007-01-12\", \"2007-01-16\", \"2007-01-17\", \"2007-01-18\", \"2007-01-19\", \"2007-01-22\", \"2007-01-23\", \"2007-01-24\", \"2007-01-25\", \"2007-01-26\", \"2007-01-29\", \"2007-01-30\", \"2007-01-31\", \"2007-02-01\", \"2007-02-02\", \"2007-02-05\", \"2007-02-06\", \"2007-02-07\", \"2007-02-08\", \"2007-02-09\", \"2007-02-12\", \"2007-02-13\", \"2007-02-14\", \"2007-02-15\", \"2007-02-16\", \"2007-02-20\", \"2007-02-21\", \"2007-02-22\", \"2007-02-23\", \"2007-02-26\", \"2007-02-27\", \"2007-02-28\", \"2007-03-01\", \"2007-03-02\", \"2007-03-05\", \"2007-03-06\", \"2007-03-07\", \"2007-03-08\", \"2007-03-09\", \"2007-03-12\", \"2007-03-13\", \"2007-03-14\", \"2007-03-15\", \"2007-03-16\", \"2007-03-19\", \"2007-03-20\", \"2007-03-21\", \"2007-03-22\", \"2007-03-23\", \"2007-03-26\", \"2007-03-27\", \"2007-03-28\", \"2007-03-29\", \"2007-03-30\", \"2007-04-02\", \"2007-04-03\", \"2007-04-04\", \"2007-04-05\", \"2007-04-09\", \"2007-04-10\", \"2007-04-11\", \"2007-04-12\", \"2007-04-13\", \"2007-04-16\", \"2007-04-17\", \"2007-04-18\", \"2007-04-19\", \"2007-04-20\", \"2007-04-23\", \"2007-04-24\", \"2007-04-25\", \"2007-04-26\", \"2007-04-27\", \"2007-04-30\", \"2007-05-01\", \"2007-05-02\", \"2007-05-03\", \"2007-05-04\", \"2007-05-07\", \"2007-05-08\", \"2007-05-09\", \"2007-05-10\", \"2007-05-11\", \"2007-05-14\", \"2007-05-15\", \"2007-05-16\", \"2007-05-17\", \"2007-05-18\", \"2007-05-21\", \"2007-05-22\", \"2007-05-23\", \"2007-05-24\", \"2007-05-25\", \"2007-05-29\", \"2007-05-30\", \"2007-05-31\", \"2007-06-01\", \"2007-06-04\", \"2007-06-05\", \"2007-06-06\", \"2007-06-07\", \"2007-06-08\", \"2007-06-11\", \"2007-06-12\", \"2007-06-13\", \"2007-06-14\", \"2007-06-15\", \"2007-06-18\", \"2007-06-19\", \"2007-06-20\", \"2007-06-21\", \"2007-06-22\", \"2007-06-25\", \"2007-06-26\", \"2007-06-27\", \"2007-06-28\", \"2007-06-29\", \"2007-07-02\", \"2007-07-03\", \"2007-07-05\", \"2007-07-06\", \"2007-07-09\", \"2007-07-10\", \"2007-07-11\", \"2007-07-12\", \"2007-07-13\", \"2007-07-16\", \"2007-07-17\", \"2007-07-18\", \"2007-07-19\", \"2007-07-20\", \"2007-07-23\", \"2007-07-24\", \"2007-07-25\", \"2007-07-26\", \"2007-07-27\", \"2007-07-30\", \"2007-07-31\", \"2007-08-01\", \"2007-08-02\", \"2007-08-03\", \"2007-08-06\", \"2007-08-07\", \"2007-08-08\", \"2007-08-09\", \"2007-08-10\", \"2007-08-13\", \"2007-08-14\", \"2007-08-15\", \"2007-08-16\", \"2007-08-17\", \"2007-08-20\", \"2007-08-21\", \"2007-08-22\", \"2007-08-23\", \"2007-08-24\", \"2007-08-27\", \"2007-08-28\", \"2007-08-29\", \"2007-08-30\", \"2007-08-31\", \"2007-09-04\", \"2007-09-05\", \"2007-09-06\", \"2007-09-07\", \"2007-09-10\", \"2007-09-11\", \"2007-09-12\", \"2007-09-13\", \"2007-09-14\", \"2007-09-17\", \"2007-09-18\", \"2007-09-19\", \"2007-09-20\", \"2007-09-21\", \"2007-09-24\", \"2007-09-25\", \"2007-09-26\", \"2007-09-27\", \"2007-09-28\", \"2007-10-01\", \"2007-10-02\", \"2007-10-03\", \"2007-10-04\", \"2007-10-05\", \"2007-10-08\", \"2007-10-09\", \"2007-10-10\", \"2007-10-11\", \"2007-10-12\", \"2007-10-15\", \"2007-10-16\", \"2007-10-17\", \"2007-10-18\", \"2007-10-19\", \"2007-10-22\", \"2007-10-23\", \"2007-10-24\", \"2007-10-25\", \"2007-10-26\", \"2007-10-29\", \"2007-10-30\", \"2007-10-31\", \"2007-11-01\", \"2007-11-02\", \"2007-11-05\", \"2007-11-06\", \"2007-11-07\", \"2007-11-08\", \"2007-11-09\", \"2007-11-12\", \"2007-11-13\", \"2007-11-14\", \"2007-11-15\", \"2007-11-16\", \"2007-11-19\", \"2007-11-20\", \"2007-11-21\", \"2007-11-23\", \"2007-11-26\", \"2007-11-27\", \"2007-11-28\", \"2007-11-29\", \"2007-11-30\", \"2007-12-03\", \"2007-12-04\", \"2007-12-05\", \"2007-12-06\", \"2007-12-07\", \"2007-12-10\", \"2007-12-11\", \"2007-12-12\", \"2007-12-13\", \"2007-12-14\", \"2007-12-17\", \"2007-12-18\", \"2007-12-19\", \"2007-12-20\", \"2007-12-21\", \"2007-12-24\", \"2007-12-26\", \"2007-12-27\", \"2007-12-28\", \"2007-12-31\", \"2008-01-02\", \"2008-01-03\", \"2008-01-04\", \"2008-01-07\", \"2008-01-08\", \"2008-01-09\", \"2008-01-10\", \"2008-01-11\", \"2008-01-14\", \"2008-01-15\", \"2008-01-16\", \"2008-01-17\", \"2008-01-18\", \"2008-01-22\", \"2008-01-23\", \"2008-01-24\", \"2008-01-25\", \"2008-01-28\", \"2008-01-29\", \"2008-01-30\", \"2008-01-31\", \"2008-02-01\", \"2008-02-04\", \"2008-02-05\", \"2008-02-06\", \"2008-02-07\", \"2008-02-08\", \"2008-02-11\", \"2008-02-12\", \"2008-02-13\", \"2008-02-14\", \"2008-02-15\", \"2008-02-19\", \"2008-02-20\", \"2008-02-21\", \"2008-02-22\", \"2008-02-25\", \"2008-02-26\", \"2008-02-27\", \"2008-02-28\", \"2008-02-29\", \"2008-03-03\", \"2008-03-04\", \"2008-03-05\", \"2008-03-06\", \"2008-03-07\", \"2008-03-10\", \"2008-03-11\", \"2008-03-12\", \"2008-03-13\", \"2008-03-14\", \"2008-03-17\", \"2008-03-18\", \"2008-03-19\", \"2008-03-20\", \"2008-03-24\", \"2008-03-25\", \"2008-03-26\", \"2008-03-27\", \"2008-03-28\", \"2008-03-31\", \"2008-04-01\", \"2008-04-02\", \"2008-04-03\", \"2008-04-04\", \"2008-04-07\", \"2008-04-08\", \"2008-04-09\", \"2008-04-10\", \"2008-04-11\", \"2008-04-14\", \"2008-04-15\", \"2008-04-16\", \"2008-04-17\", \"2008-04-18\", \"2008-04-21\", \"2008-04-22\", \"2008-04-23\", \"2008-04-24\", \"2008-04-25\", \"2008-04-28\", \"2008-04-29\", \"2008-04-30\", \"2008-05-01\", \"2008-05-02\", \"2008-05-05\", \"2008-05-06\", \"2008-05-07\", \"2008-05-08\", \"2008-05-09\", \"2008-05-12\", \"2008-05-13\", \"2008-05-14\", \"2008-05-15\", \"2008-05-16\", \"2008-05-19\", \"2008-05-20\", \"2008-05-21\", \"2008-05-22\", \"2008-05-23\", \"2008-05-27\", \"2008-05-28\", \"2008-05-29\", \"2008-05-30\", \"2008-06-02\", \"2008-06-03\", \"2008-06-04\", \"2008-06-05\", \"2008-06-06\", \"2008-06-09\", \"2008-06-10\", \"2008-06-11\", \"2008-06-12\", \"2008-06-13\", \"2008-06-16\", \"2008-06-17\", \"2008-06-18\", \"2008-06-19\", \"2008-06-20\", \"2008-06-23\", \"2008-06-24\", \"2008-06-25\", \"2008-06-26\", \"2008-06-27\", \"2008-06-30\", \"2008-07-01\", \"2008-07-02\", \"2008-07-03\", \"2008-07-07\", \"2008-07-08\", \"2008-07-09\", \"2008-07-10\", \"2008-07-11\", \"2008-07-14\", \"2008-07-15\", \"2008-07-16\", \"2008-07-17\", \"2008-07-18\", \"2008-07-21\", \"2008-07-22\", \"2008-07-23\", \"2008-07-24\", \"2008-07-25\", \"2008-07-28\", \"2008-07-29\", \"2008-07-30\", \"2008-07-31\", \"2008-08-01\", \"2008-08-04\", \"2008-08-05\", \"2008-08-06\", \"2008-08-07\", \"2008-08-08\", \"2008-08-11\", \"2008-08-12\", \"2008-08-13\", \"2008-08-14\", \"2008-08-15\", \"2008-08-18\", \"2008-08-19\", \"2008-08-20\", \"2008-08-21\", \"2008-08-22\", \"2008-08-25\", \"2008-08-26\", \"2008-08-27\", \"2008-08-28\", \"2008-08-29\", \"2008-09-02\", \"2008-09-03\", \"2008-09-04\", \"2008-09-05\", \"2008-09-08\", \"2008-09-09\", \"2008-09-10\", \"2008-09-11\", \"2008-09-12\", \"2008-09-15\", \"2008-09-16\", \"2008-09-17\", \"2008-09-18\", \"2008-09-19\", \"2008-09-22\", \"2008-09-23\", \"2008-09-24\", \"2008-09-25\", \"2008-09-26\", \"2008-09-29\", \"2008-09-30\", \"2008-10-01\", \"2008-10-02\", \"2008-10-03\", \"2008-10-06\", \"2008-10-07\", \"2008-10-08\", \"2008-10-09\", \"2008-10-10\", \"2008-10-13\", \"2008-10-14\", \"2008-10-15\", \"2008-10-16\", \"2008-10-17\", \"2008-10-20\", \"2008-10-21\", \"2008-10-22\", \"2008-10-23\", \"2008-10-24\", \"2008-10-27\", \"2008-10-28\", \"2008-10-29\", \"2008-10-30\", \"2008-10-31\", \"2008-11-03\", \"2008-11-04\", \"2008-11-05\", \"2008-11-06\", \"2008-11-07\", \"2008-11-10\", \"2008-11-11\", \"2008-11-12\", \"2008-11-13\", \"2008-11-14\", \"2008-11-17\", \"2008-11-18\", \"2008-11-19\", \"2008-11-20\", \"2008-11-21\", \"2008-11-24\", \"2008-11-25\", \"2008-11-26\", \"2008-11-28\", \"2008-12-01\", \"2008-12-02\", \"2008-12-03\", \"2008-12-04\", \"2008-12-05\", \"2008-12-08\", \"2008-12-09\", \"2008-12-10\", \"2008-12-11\", \"2008-12-12\", \"2008-12-15\", \"2008-12-16\", \"2008-12-17\", \"2008-12-18\", \"2008-12-19\", \"2008-12-22\", \"2008-12-23\", \"2008-12-24\", \"2008-12-26\", \"2008-12-29\", \"2008-12-30\", \"2008-12-31\", \"2009-01-02\", \"2009-01-05\", \"2009-01-06\", \"2009-01-07\", \"2009-01-08\", \"2009-01-09\", \"2009-01-12\", \"2009-01-13\", \"2009-01-14\", \"2009-01-15\", \"2009-01-16\", \"2009-01-20\", \"2009-01-21\", \"2009-01-22\", \"2009-01-23\", \"2009-01-26\", \"2009-01-27\", \"2009-01-28\", \"2009-01-29\", \"2009-01-30\", \"2009-02-02\", \"2009-02-03\", \"2009-02-04\", \"2009-02-05\", \"2009-02-06\", \"2009-02-09\", \"2009-02-10\", \"2009-02-11\", \"2009-02-12\", \"2009-02-13\", \"2009-02-17\", \"2009-02-18\", \"2009-02-19\", \"2009-02-20\", \"2009-02-23\", \"2009-02-24\", \"2009-02-25\", \"2009-02-26\", \"2009-02-27\", \"2009-03-02\", \"2009-03-03\", \"2009-03-04\", \"2009-03-05\", \"2009-03-06\", \"2009-03-09\", \"2009-03-10\", \"2009-03-11\", \"2009-03-12\", \"2009-03-13\", \"2009-03-16\", \"2009-03-17\", \"2009-03-18\", \"2009-03-19\", \"2009-03-20\", \"2009-03-23\", \"2009-03-24\", \"2009-03-25\", \"2009-03-26\", \"2009-03-27\", \"2009-03-30\", \"2009-03-31\", \"2009-04-01\", \"2009-04-02\", \"2009-04-03\", \"2009-04-06\", \"2009-04-07\", \"2009-04-08\", \"2009-04-09\", \"2009-04-13\", \"2009-04-14\", \"2009-04-15\", \"2009-04-16\", \"2009-04-17\", \"2009-04-20\", \"2009-04-21\", \"2009-04-22\", \"2009-04-23\", \"2009-04-24\", \"2009-04-27\", \"2009-04-28\", \"2009-04-29\", \"2009-04-30\", \"2009-05-01\", \"2009-05-04\", \"2009-05-05\", \"2009-05-06\", \"2009-05-07\", \"2009-05-08\", \"2009-05-11\", \"2009-05-12\", \"2009-05-13\", \"2009-05-14\", \"2009-05-15\", \"2009-05-18\", \"2009-05-19\", \"2009-05-20\", \"2009-05-21\", \"2009-05-22\", \"2009-05-26\", \"2009-05-27\", \"2009-05-28\", \"2009-05-29\", \"2009-06-01\", \"2009-06-02\", \"2009-06-03\", \"2009-06-04\", \"2009-06-05\", \"2009-06-08\", \"2009-06-09\", \"2009-06-10\", \"2009-06-11\", \"2009-06-12\", \"2009-06-15\", \"2009-06-16\", \"2009-06-17\", \"2009-06-18\", \"2009-06-19\", \"2009-06-22\", \"2009-06-23\", \"2009-06-24\", \"2009-06-25\", \"2009-06-26\", \"2009-06-29\", \"2009-06-30\", \"2009-07-01\", \"2009-07-02\", \"2009-07-06\", \"2009-07-07\", \"2009-07-08\", \"2009-07-09\", \"2009-07-10\", \"2009-07-13\", \"2009-07-14\", \"2009-07-15\", \"2009-07-16\", \"2009-07-17\", \"2009-07-20\", \"2009-07-21\", \"2009-07-22\", \"2009-07-23\", \"2009-07-24\", \"2009-07-27\", \"2009-07-28\", \"2009-07-29\", \"2009-07-30\", \"2009-07-31\", \"2009-08-03\", \"2009-08-04\", \"2009-08-05\", \"2009-08-06\", \"2009-08-07\", \"2009-08-10\", \"2009-08-11\", \"2009-08-12\", \"2009-08-13\", \"2009-08-14\", \"2009-08-17\", \"2009-08-18\", \"2009-08-19\", \"2009-08-20\", \"2009-08-21\", \"2009-08-24\", \"2009-08-25\", \"2009-08-26\", \"2009-08-27\", \"2009-08-28\", \"2009-08-31\", \"2009-09-01\", \"2009-09-02\", \"2009-09-03\", \"2009-09-04\", \"2009-09-08\", \"2009-09-09\", \"2009-09-10\", \"2009-09-11\", \"2009-09-14\", \"2009-09-15\", \"2009-09-16\", \"2009-09-17\", \"2009-09-18\", \"2009-09-21\", \"2009-09-22\", \"2009-09-23\", \"2009-09-24\", \"2009-09-25\", \"2009-09-28\", \"2009-09-29\", \"2009-09-30\", \"2009-10-01\", \"2009-10-02\", \"2009-10-05\", \"2009-10-06\", \"2009-10-07\", \"2009-10-08\", \"2009-10-09\", \"2009-10-12\", \"2009-10-13\", \"2009-10-14\", \"2009-10-15\", \"2009-10-16\", \"2009-10-19\", \"2009-10-20\", \"2009-10-21\", \"2009-10-22\", \"2009-10-23\", \"2009-10-26\", \"2009-10-27\", \"2009-10-28\", \"2009-10-29\", \"2009-10-30\", \"2009-11-02\", \"2009-11-03\", \"2009-11-04\", \"2009-11-05\", \"2009-11-06\", \"2009-11-09\", \"2009-11-10\", \"2009-11-11\", \"2009-11-12\", \"2009-11-13\", \"2009-11-16\", \"2009-11-17\", \"2009-11-18\", \"2009-11-19\", \"2009-11-20\", \"2009-11-23\", \"2009-11-24\", \"2009-11-25\", \"2009-11-27\", \"2009-11-30\", \"2009-12-01\", \"2009-12-02\", \"2009-12-03\", \"2009-12-04\", \"2009-12-07\", \"2009-12-08\", \"2009-12-09\", \"2009-12-10\", \"2009-12-11\", \"2009-12-14\", \"2009-12-15\", \"2009-12-16\", \"2009-12-17\", \"2009-12-18\", \"2009-12-21\", \"2009-12-22\", \"2009-12-23\", \"2009-12-24\", \"2009-12-28\", \"2009-12-29\", \"2009-12-30\", \"2009-12-31\", \"2010-01-04\", \"2010-01-05\", \"2010-01-06\", \"2010-01-07\", \"2010-01-08\", \"2010-01-11\", \"2010-01-12\", \"2010-01-13\", \"2010-01-14\", \"2010-01-15\", \"2010-01-19\", \"2010-01-20\", \"2010-01-21\", \"2010-01-22\", \"2010-01-25\", \"2010-01-26\", \"2010-01-27\", \"2010-01-28\", \"2010-01-29\", \"2010-02-01\", \"2010-02-02\", \"2010-02-03\", \"2010-02-04\", \"2010-02-05\", \"2010-02-08\", \"2010-02-09\", \"2010-02-10\", \"2010-02-11\", \"2010-02-12\", \"2010-02-16\", \"2010-02-17\", \"2010-02-18\", \"2010-02-19\", \"2010-02-22\", \"2010-02-23\", \"2010-02-24\", \"2010-02-25\", \"2010-02-26\", \"2010-03-01\", \"2010-03-02\", \"2010-03-03\", \"2010-03-04\", \"2010-03-05\", \"2010-03-08\", \"2010-03-09\", \"2010-03-10\", \"2010-03-11\", \"2010-03-12\", \"2010-03-15\", \"2010-03-16\", \"2010-03-17\", \"2010-03-18\", \"2010-03-19\", \"2010-03-22\", \"2010-03-23\", \"2010-03-24\", \"2010-03-25\", \"2010-03-26\", \"2010-03-29\", \"2010-03-30\", \"2010-03-31\", \"2010-04-01\", \"2010-04-05\", \"2010-04-06\", \"2010-04-07\", \"2010-04-08\", \"2010-04-09\", \"2010-04-12\", \"2010-04-13\", \"2010-04-14\", \"2010-04-15\", \"2010-04-16\", \"2010-04-19\", \"2010-04-20\", \"2010-04-21\", \"2010-04-22\", \"2010-04-23\", \"2010-04-26\", \"2010-04-27\", \"2010-04-28\", \"2010-04-29\", \"2010-04-30\", \"2010-05-03\", \"2010-05-04\", \"2010-05-05\", \"2010-05-06\", \"2010-05-07\", \"2010-05-10\", \"2010-05-11\", \"2010-05-12\", \"2010-05-13\", \"2010-05-14\", \"2010-05-17\", \"2010-05-18\", \"2010-05-19\", \"2010-05-20\", \"2010-05-21\", \"2010-05-24\", \"2010-05-25\", \"2010-05-26\", \"2010-05-27\", \"2010-05-28\", \"2010-06-01\", \"2010-06-02\", \"2010-06-03\", \"2010-06-04\", \"2010-06-07\", \"2010-06-08\", \"2010-06-09\", \"2010-06-10\", \"2010-06-11\", \"2010-06-14\", \"2010-06-15\", \"2010-06-16\", \"2010-06-17\", \"2010-06-18\", \"2010-06-21\", \"2010-06-22\", \"2010-06-23\", \"2010-06-24\", \"2010-06-25\", \"2010-06-28\", \"2010-06-29\", \"2010-06-30\", \"2010-07-01\", \"2010-07-02\", \"2010-07-06\", \"2010-07-07\", \"2010-07-08\", \"2010-07-09\", \"2010-07-12\", \"2010-07-13\", \"2010-07-14\", \"2010-07-15\", \"2010-07-16\", \"2010-07-19\", \"2010-07-20\", \"2010-07-21\", \"2010-07-22\", \"2010-07-23\", \"2010-07-26\", \"2010-07-27\", \"2010-07-28\", \"2010-07-29\", \"2010-07-30\", \"2010-08-02\", \"2010-08-03\", \"2010-08-04\", \"2010-08-05\", \"2010-08-06\", \"2010-08-09\", \"2010-08-10\", \"2010-08-11\", \"2010-08-12\", \"2010-08-13\", \"2010-08-16\", \"2010-08-17\", \"2010-08-18\", \"2010-08-19\", \"2010-08-20\", \"2010-08-23\", \"2010-08-24\", \"2010-08-25\", \"2010-08-26\", \"2010-08-27\", \"2010-08-30\", \"2010-08-31\", \"2010-09-01\", \"2010-09-02\", \"2010-09-03\", \"2010-09-07\", \"2010-09-08\", \"2010-09-09\", \"2010-09-10\", \"2010-09-13\", \"2010-09-14\", \"2010-09-15\", \"2010-09-16\", \"2010-09-17\", \"2010-09-20\", \"2010-09-21\", \"2010-09-22\", \"2010-09-23\", \"2010-09-24\", \"2010-09-27\", \"2010-09-28\", \"2010-09-29\", \"2010-09-30\", \"2010-10-01\", \"2010-10-04\", \"2010-10-05\", \"2010-10-06\", \"2010-10-07\", \"2010-10-08\", \"2010-10-11\", \"2010-10-12\", \"2010-10-13\", \"2010-10-14\", \"2010-10-15\", \"2010-10-18\", \"2010-10-19\", \"2010-10-20\", \"2010-10-21\", \"2010-10-22\", \"2010-10-25\", \"2010-10-26\", \"2010-10-27\", \"2010-10-28\", \"2010-10-29\", \"2010-11-01\", \"2010-11-02\", \"2010-11-03\", \"2010-11-04\", \"2010-11-05\", \"2010-11-08\", \"2010-11-09\", \"2010-11-10\", \"2010-11-11\", \"2010-11-12\", \"2010-11-15\", \"2010-11-16\", \"2010-11-17\", \"2010-11-18\", \"2010-11-19\", \"2010-11-22\", \"2010-11-23\", \"2010-11-24\", \"2010-11-26\", \"2010-11-29\", \"2010-11-30\", \"2010-12-01\", \"2010-12-02\", \"2010-12-03\", \"2010-12-06\", \"2010-12-07\", \"2010-12-08\", \"2010-12-09\", \"2010-12-10\", \"2010-12-13\", \"2010-12-14\", \"2010-12-15\", \"2010-12-16\", \"2010-12-17\", \"2010-12-20\", \"2010-12-21\", \"2010-12-22\", \"2010-12-23\", \"2010-12-27\", \"2010-12-28\", \"2010-12-29\", \"2010-12-30\", \"2010-12-31\", \"2011-01-03\", \"2011-01-04\", \"2011-01-05\", \"2011-01-06\", \"2011-01-07\", \"2011-01-10\", \"2011-01-11\", \"2011-01-12\", \"2011-01-13\", \"2011-01-14\", \"2011-01-18\", \"2011-01-19\", \"2011-01-20\", \"2011-01-21\", \"2011-01-24\", \"2011-01-25\", \"2011-01-26\", \"2011-01-27\", \"2011-01-28\", \"2011-01-31\", \"2011-02-01\", \"2011-02-02\", \"2011-02-03\", \"2011-02-04\", \"2011-02-07\", \"2011-02-08\", \"2011-02-09\", \"2011-02-10\", \"2011-02-11\", \"2011-02-14\", \"2011-02-15\", \"2011-02-16\", \"2011-02-17\", \"2011-02-18\", \"2011-02-22\", \"2011-02-23\", \"2011-02-24\", \"2011-02-25\", \"2011-02-28\", \"2011-03-01\", \"2011-03-02\", \"2011-03-03\", \"2011-03-04\", \"2011-03-07\", \"2011-03-08\", \"2011-03-09\", \"2011-03-10\", \"2011-03-11\", \"2011-03-14\", \"2011-03-15\", \"2011-03-16\", \"2011-03-17\", \"2011-03-18\", \"2011-03-21\", \"2011-03-22\", \"2011-03-23\", \"2011-03-24\", \"2011-03-25\", \"2011-03-28\", \"2011-03-29\", \"2011-03-30\", \"2011-03-31\", \"2011-04-01\", \"2011-04-04\", \"2011-04-05\", \"2011-04-06\", \"2011-04-07\", \"2011-04-08\", \"2011-04-11\", \"2011-04-12\", \"2011-04-13\", \"2011-04-14\", \"2011-04-15\", \"2011-04-18\", \"2011-04-19\", \"2011-04-20\", \"2011-04-21\", \"2011-04-25\", \"2011-04-26\", \"2011-04-27\", \"2011-04-28\", \"2011-04-29\", \"2011-05-02\", \"2011-05-03\", \"2011-05-04\", \"2011-05-05\", \"2011-05-06\", \"2011-05-09\", \"2011-05-10\", \"2011-05-11\", \"2011-05-12\", \"2011-05-13\", \"2011-05-16\", \"2011-05-17\", \"2011-05-18\", \"2011-05-19\", \"2011-05-20\", \"2011-05-23\", \"2011-05-24\", \"2011-05-25\", \"2011-05-26\", \"2011-05-27\", \"2011-05-31\", \"2011-06-01\", \"2011-06-02\", \"2011-06-03\", \"2011-06-06\", \"2011-06-07\", \"2011-06-08\", \"2011-06-09\", \"2011-06-10\", \"2011-06-13\", \"2011-06-14\", \"2011-06-15\", \"2011-06-16\", \"2011-06-17\", \"2011-06-20\", \"2011-06-21\", \"2011-06-22\", \"2011-06-23\", \"2011-06-24\", \"2011-06-27\", \"2011-06-28\", \"2011-06-29\", \"2011-06-30\", \"2011-07-01\", \"2011-07-05\", \"2011-07-06\", \"2011-07-07\", \"2011-07-08\", \"2011-07-11\", \"2011-07-12\", \"2011-07-13\", \"2011-07-14\", \"2011-07-15\", \"2011-07-18\", \"2011-07-19\", \"2011-07-20\", \"2011-07-21\", \"2011-07-22\", \"2011-07-25\", \"2011-07-26\", \"2011-07-27\", \"2011-07-28\", \"2011-07-29\", \"2011-08-01\", \"2011-08-02\", \"2011-08-03\", \"2011-08-04\", \"2011-08-05\", \"2011-08-08\", \"2011-08-09\", \"2011-08-10\", \"2011-08-11\", \"2011-08-12\", \"2011-08-15\", \"2011-08-16\", \"2011-08-17\", \"2011-08-18\", \"2011-08-19\", \"2011-08-22\", \"2011-08-23\", \"2011-08-24\", \"2011-08-25\", \"2011-08-26\", \"2011-08-29\", \"2011-08-30\", \"2011-08-31\", \"2011-09-01\", \"2011-09-02\", \"2011-09-06\", \"2011-09-07\", \"2011-09-08\", \"2011-09-09\", \"2011-09-12\", \"2011-09-13\", \"2011-09-14\", \"2011-09-15\", \"2011-09-16\", \"2011-09-19\", \"2011-09-20\", \"2011-09-21\", \"2011-09-22\", \"2011-09-23\", \"2011-09-26\", \"2011-09-27\", \"2011-09-28\", \"2011-09-29\", \"2011-09-30\", \"2011-10-03\", \"2011-10-04\", \"2011-10-05\", \"2011-10-06\", \"2011-10-07\", \"2011-10-10\", \"2011-10-11\", \"2011-10-12\", \"2011-10-13\", \"2011-10-14\", \"2011-10-17\", \"2011-10-18\", \"2011-10-19\", \"2011-10-20\", \"2011-10-21\", \"2011-10-24\", \"2011-10-25\", \"2011-10-26\", \"2011-10-27\", \"2011-10-28\", \"2011-10-31\", \"2011-11-01\", \"2011-11-02\", \"2011-11-03\", \"2011-11-04\", \"2011-11-07\", \"2011-11-08\", \"2011-11-09\", \"2011-11-10\", \"2011-11-11\", \"2011-11-14\", \"2011-11-15\", \"2011-11-16\", \"2011-11-17\", \"2011-11-18\", \"2011-11-21\", \"2011-11-22\", \"2011-11-23\", \"2011-11-25\", \"2011-11-28\", \"2011-11-29\", \"2011-11-30\", \"2011-12-01\", \"2011-12-02\", \"2011-12-05\", \"2011-12-06\", \"2011-12-07\", \"2011-12-08\", \"2011-12-09\", \"2011-12-12\", \"2011-12-13\", \"2011-12-14\", \"2011-12-15\", \"2011-12-16\", \"2011-12-19\", \"2011-12-20\", \"2011-12-21\", \"2011-12-22\", \"2011-12-23\", \"2011-12-27\", \"2011-12-28\", \"2011-12-29\", \"2011-12-30\", \"2012-01-03\", \"2012-01-04\", \"2012-01-05\", \"2012-01-06\", \"2012-01-09\", \"2012-01-10\", \"2012-01-11\", \"2012-01-12\", \"2012-01-13\", \"2012-01-17\", \"2012-01-18\", \"2012-01-19\", \"2012-01-20\", \"2012-01-23\", \"2012-01-24\", \"2012-01-25\", \"2012-01-26\", \"2012-01-27\", \"2012-01-30\", \"2012-01-31\", \"2012-02-01\", \"2012-02-02\", \"2012-02-03\", \"2012-02-06\", \"2012-02-07\", \"2012-02-08\", \"2012-02-09\", \"2012-02-10\", \"2012-02-13\", \"2012-02-14\", \"2012-02-15\", \"2012-02-16\", \"2012-02-17\", \"2012-02-21\", \"2012-02-22\", \"2012-02-23\", \"2012-02-24\", \"2012-02-27\", \"2012-02-28\", \"2012-02-29\", \"2012-03-01\", \"2012-03-02\", \"2012-03-05\", \"2012-03-06\", \"2012-03-07\", \"2012-03-08\", \"2012-03-09\", \"2012-03-12\", \"2012-03-13\", \"2012-03-14\", \"2012-03-15\", \"2012-03-16\", \"2012-03-19\", \"2012-03-20\", \"2012-03-21\", \"2012-03-22\", \"2012-03-23\", \"2012-03-26\", \"2012-03-27\", \"2012-03-28\", \"2012-03-29\", \"2012-03-30\", \"2012-04-02\", \"2012-04-03\", \"2012-04-04\", \"2012-04-05\", \"2012-04-09\", \"2012-04-10\", \"2012-04-11\", \"2012-04-12\", \"2012-04-13\", \"2012-04-16\", \"2012-04-17\", \"2012-04-18\", \"2012-04-19\", \"2012-04-20\", \"2012-04-23\", \"2012-04-24\", \"2012-04-25\", \"2012-04-26\", \"2012-04-27\", \"2012-04-30\", \"2012-05-01\", \"2012-05-02\", \"2012-05-03\", \"2012-05-04\", \"2012-05-07\", \"2012-05-08\", \"2012-05-09\", \"2012-05-10\", \"2012-05-11\", \"2012-05-14\", \"2012-05-15\", \"2012-05-16\", \"2012-05-17\", \"2012-05-18\", \"2012-05-21\", \"2012-05-22\", \"2012-05-23\", \"2012-05-24\", \"2012-05-25\", \"2012-05-29\", \"2012-05-30\", \"2012-05-31\", \"2012-06-01\", \"2012-06-04\", \"2012-06-05\", \"2012-06-06\", \"2012-06-07\", \"2012-06-08\", \"2012-06-11\", \"2012-06-12\", \"2012-06-13\", \"2012-06-14\", \"2012-06-15\", \"2012-06-18\", \"2012-06-19\", \"2012-06-20\", \"2012-06-21\", \"2012-06-22\", \"2012-06-25\", \"2012-06-26\", \"2012-06-27\", \"2012-06-28\", \"2012-06-29\", \"2012-07-02\", \"2012-07-03\", \"2012-07-05\", \"2012-07-06\", \"2012-07-09\", \"2012-07-10\", \"2012-07-11\", \"2012-07-12\", \"2012-07-13\", \"2012-07-16\", \"2012-07-17\", \"2012-07-18\", \"2012-07-19\", \"2012-07-20\", \"2012-07-23\", \"2012-07-24\", \"2012-07-25\", \"2012-07-26\", \"2012-07-27\", \"2012-07-30\", \"2012-07-31\", \"2012-08-01\", \"2012-08-02\", \"2012-08-03\", \"2012-08-06\", \"2012-08-07\", \"2012-08-08\", \"2012-08-09\", \"2012-08-10\", \"2012-08-13\", \"2012-08-14\", \"2012-08-15\", \"2012-08-16\", \"2012-08-17\", \"2012-08-20\", \"2012-08-21\", \"2012-08-22\", \"2012-08-23\", \"2012-08-24\", \"2012-08-27\", \"2012-08-28\", \"2012-08-29\", \"2012-08-30\", \"2012-08-31\", \"2012-09-04\", \"2012-09-05\", \"2012-09-06\", \"2012-09-07\", \"2012-09-10\", \"2012-09-11\", \"2012-09-12\", \"2012-09-13\", \"2012-09-14\", \"2012-09-17\", \"2012-09-18\", \"2012-09-19\", \"2012-09-20\", \"2012-09-21\", \"2012-09-24\", \"2012-09-25\", \"2012-09-26\", \"2012-09-27\", \"2012-09-28\", \"2012-10-01\", \"2012-10-02\", \"2012-10-03\", \"2012-10-04\", \"2012-10-05\", \"2012-10-08\", \"2012-10-09\", \"2012-10-10\", \"2012-10-11\", \"2012-10-12\", \"2012-10-15\", \"2012-10-16\", \"2012-10-17\", \"2012-10-18\", \"2012-10-19\", \"2012-10-22\", \"2012-10-23\", \"2012-10-24\", \"2012-10-25\", \"2012-10-26\", \"2012-10-31\", \"2012-11-01\", \"2012-11-02\", \"2012-11-05\", \"2012-11-06\", \"2012-11-07\", \"2012-11-08\", \"2012-11-09\", \"2012-11-12\", \"2012-11-13\", \"2012-11-14\", \"2012-11-15\", \"2012-11-16\", \"2012-11-19\", \"2012-11-20\", \"2012-11-21\", \"2012-11-23\", \"2012-11-26\", \"2012-11-27\", \"2012-11-28\", \"2012-11-29\", \"2012-11-30\", \"2012-12-03\", \"2012-12-04\", \"2012-12-05\", \"2012-12-06\", \"2012-12-07\", \"2012-12-10\", \"2012-12-11\", \"2012-12-12\", \"2012-12-13\", \"2012-12-14\", \"2012-12-17\", \"2012-12-18\", \"2012-12-19\", \"2012-12-20\", \"2012-12-21\", \"2012-12-24\", \"2012-12-26\", \"2012-12-27\", \"2012-12-28\", \"2012-12-31\", \"2013-01-02\", \"2013-01-03\", \"2013-01-04\", \"2013-01-07\", \"2013-01-08\", \"2013-01-09\", \"2013-01-10\", \"2013-01-11\", \"2013-01-14\", \"2013-01-15\", \"2013-01-16\", \"2013-01-17\", \"2013-01-18\", \"2013-01-22\", \"2013-01-23\", \"2013-01-24\", \"2013-01-25\", \"2013-01-28\", \"2013-01-29\", \"2013-01-30\", \"2013-01-31\", \"2013-02-01\", \"2013-02-04\", \"2013-02-05\", \"2013-02-06\", \"2013-02-07\", \"2013-02-08\", \"2013-02-11\", \"2013-02-12\", \"2013-02-13\", \"2013-02-14\", \"2013-02-15\", \"2013-02-19\", \"2013-02-20\", \"2013-02-21\", \"2013-02-22\", \"2013-02-25\", \"2013-02-26\", \"2013-02-27\", \"2013-02-28\", \"2013-03-01\", \"2013-03-04\", \"2013-03-05\", \"2013-03-06\", \"2013-03-07\", \"2013-03-08\", \"2013-03-11\", \"2013-03-12\", \"2013-03-13\", \"2013-03-14\", \"2013-03-15\", \"2013-03-18\", \"2013-03-19\", \"2013-03-20\", \"2013-03-21\", \"2013-03-22\", \"2013-03-25\", \"2013-03-26\", \"2013-03-27\", \"2013-03-28\", \"2013-04-01\", \"2013-04-02\", \"2013-04-03\", \"2013-04-04\", \"2013-04-05\", \"2013-04-08\", \"2013-04-09\", \"2013-04-10\", \"2013-04-11\", \"2013-04-12\", \"2013-04-15\", \"2013-04-16\", \"2013-04-17\", \"2013-04-18\", \"2013-04-19\", \"2013-04-22\", \"2013-04-23\", \"2013-04-24\", \"2013-04-25\", \"2013-04-26\", \"2013-04-29\", \"2013-04-30\", \"2013-05-01\", \"2013-05-02\", \"2013-05-03\", \"2013-05-06\", \"2013-05-07\", \"2013-05-08\", \"2013-05-09\", \"2013-05-10\", \"2013-05-13\", \"2013-05-14\", \"2013-05-15\", \"2013-05-16\", \"2013-05-17\", \"2013-05-20\", \"2013-05-21\", \"2013-05-22\", \"2013-05-23\", \"2013-05-24\", \"2013-05-28\", \"2013-05-29\", \"2013-05-30\", \"2013-05-31\", \"2013-06-03\", \"2013-06-04\", \"2013-06-05\", \"2013-06-06\", \"2013-06-07\", \"2013-06-10\", \"2013-06-11\", \"2013-06-12\", \"2013-06-13\", \"2013-06-14\", \"2013-06-17\", \"2013-06-18\", \"2013-06-19\", \"2013-06-20\", \"2013-06-21\", \"2013-06-24\", \"2013-06-25\", \"2013-06-26\", \"2013-06-27\", \"2013-06-28\", \"2013-07-01\", \"2013-07-02\", \"2013-07-03\", \"2013-07-05\", \"2013-07-08\", \"2013-07-09\", \"2013-07-10\", \"2013-07-11\", \"2013-07-12\", \"2013-07-15\", \"2013-07-16\", \"2013-07-17\", \"2013-07-18\", \"2013-07-19\", \"2013-07-22\", \"2013-07-23\", \"2013-07-24\", \"2013-07-25\", \"2013-07-26\", \"2013-07-29\", \"2013-07-30\", \"2013-07-31\", \"2013-08-01\", \"2013-08-02\", \"2013-08-05\", \"2013-08-06\", \"2013-08-07\", \"2013-08-08\", \"2013-08-09\", \"2013-08-12\", \"2013-08-13\", \"2013-08-14\", \"2013-08-15\", \"2013-08-16\", \"2013-08-19\", \"2013-08-20\", \"2013-08-21\", \"2013-08-22\", \"2013-08-23\", \"2013-08-26\", \"2013-08-27\", \"2013-08-28\", \"2013-08-29\", \"2013-08-30\", \"2013-09-03\", \"2013-09-04\", \"2013-09-05\", \"2013-09-06\", \"2013-09-09\", \"2013-09-10\", \"2013-09-11\", \"2013-09-12\", \"2013-09-13\", \"2013-09-16\", \"2013-09-17\", \"2013-09-18\", \"2013-09-19\", \"2013-09-20\", \"2013-09-23\", \"2013-09-24\", \"2013-09-25\", \"2013-09-26\", \"2013-09-27\", \"2013-09-30\", \"2013-10-01\", \"2013-10-02\", \"2013-10-03\", \"2013-10-04\", \"2013-10-07\", \"2013-10-08\", \"2013-10-09\", \"2013-10-10\", \"2013-10-11\", \"2013-10-14\", \"2013-10-15\", \"2013-10-16\", \"2013-10-17\", \"2013-10-18\", \"2013-10-21\", \"2013-10-22\", \"2013-10-23\", \"2013-10-24\", \"2013-10-25\", \"2013-10-28\", \"2013-10-29\", \"2013-10-30\", \"2013-10-31\", \"2013-11-01\", \"2013-11-04\", \"2013-11-05\", \"2013-11-06\", \"2013-11-07\", \"2013-11-08\", \"2013-11-11\", \"2013-11-12\", \"2013-11-13\", \"2013-11-14\", \"2013-11-15\", \"2013-11-18\", \"2013-11-19\", \"2013-11-20\", \"2013-11-21\", \"2013-11-22\", \"2013-11-25\", \"2013-11-26\", \"2013-11-27\", \"2013-11-29\", \"2013-12-02\", \"2013-12-03\", \"2013-12-04\", \"2013-12-05\", \"2013-12-06\", \"2013-12-09\", \"2013-12-10\", \"2013-12-11\", \"2013-12-12\", \"2013-12-13\", \"2013-12-16\", \"2013-12-17\", \"2013-12-18\", \"2013-12-19\", \"2013-12-20\", \"2013-12-23\", \"2013-12-24\", \"2013-12-26\", \"2013-12-27\", \"2013-12-30\", \"2013-12-31\", \"2014-01-02\", \"2014-01-03\", \"2014-01-06\", \"2014-01-07\", \"2014-01-08\", \"2014-01-09\", \"2014-01-10\", \"2014-01-13\", \"2014-01-14\", \"2014-01-15\", \"2014-01-16\", \"2014-01-17\", \"2014-01-21\", \"2014-01-22\", \"2014-01-23\", \"2014-01-24\", \"2014-01-27\", \"2014-01-28\", \"2014-01-29\", \"2014-01-30\", \"2014-01-31\", \"2014-02-03\", \"2014-02-04\", \"2014-02-05\", \"2014-02-06\", \"2014-02-07\", \"2014-02-10\", \"2014-02-11\", \"2014-02-12\", \"2014-02-13\", \"2014-02-14\", \"2014-02-18\", \"2014-02-19\", \"2014-02-20\", \"2014-02-21\", \"2014-02-24\", \"2014-02-25\", \"2014-02-26\", \"2014-02-27\", \"2014-02-28\", \"2014-03-03\", \"2014-03-04\", \"2014-03-05\", \"2014-03-06\", \"2014-03-07\", \"2014-03-10\", \"2014-03-11\", \"2014-03-12\", \"2014-03-13\", \"2014-03-14\", \"2014-03-17\", \"2014-03-18\", \"2014-03-19\", \"2014-03-20\", \"2014-03-21\", \"2014-03-24\", \"2014-03-25\", \"2014-03-26\", \"2014-03-27\", \"2014-03-28\", \"2014-03-31\", \"2014-04-01\", \"2014-04-02\", \"2014-04-03\", \"2014-04-04\", \"2014-04-07\", \"2014-04-08\", \"2014-04-09\", \"2014-04-10\", \"2014-04-11\", \"2014-04-14\", \"2014-04-15\", \"2014-04-16\", \"2014-04-17\", \"2014-04-21\", \"2014-04-22\", \"2014-04-23\", \"2014-04-24\", \"2014-04-25\", \"2014-04-28\", \"2014-04-29\", \"2014-04-30\", \"2014-05-01\", \"2014-05-02\", \"2014-05-05\", \"2014-05-06\", \"2014-05-07\", \"2014-05-08\", \"2014-05-09\", \"2014-05-12\", \"2014-05-13\", \"2014-05-14\", \"2014-05-15\", \"2014-05-16\", \"2014-05-19\", \"2014-05-20\", \"2014-05-21\", \"2014-05-22\", \"2014-05-23\", \"2014-05-27\", \"2014-05-28\", \"2014-05-29\", \"2014-05-30\", \"2014-06-02\", \"2014-06-03\", \"2014-06-04\", \"2014-06-05\", \"2014-06-06\", \"2014-06-09\", \"2014-06-10\", \"2014-06-11\", \"2014-06-12\", \"2014-06-13\", \"2014-06-16\", \"2014-06-17\", \"2014-06-18\", \"2014-06-19\", \"2014-06-20\", \"2014-06-23\", \"2014-06-24\", \"2014-06-25\", \"2014-06-26\", \"2014-06-27\", \"2014-06-30\", \"2014-07-01\", \"2014-07-02\", \"2014-07-03\", \"2014-07-07\", \"2014-07-08\", \"2014-07-09\", \"2014-07-10\", \"2014-07-11\", \"2014-07-14\", \"2014-07-15\", \"2014-07-16\", \"2014-07-17\", \"2014-07-18\", \"2014-07-21\", \"2014-07-22\", \"2014-07-23\", \"2014-07-24\", \"2014-07-25\", \"2014-07-28\", \"2014-07-29\", \"2014-07-30\", \"2014-07-31\", \"2014-08-01\", \"2014-08-04\", \"2014-08-05\", \"2014-08-06\", \"2014-08-07\", \"2014-08-08\", \"2014-08-11\", \"2014-08-12\", \"2014-08-13\", \"2014-08-14\", \"2014-08-15\", \"2014-08-18\", \"2014-08-19\", \"2014-08-20\", \"2014-08-21\", \"2014-08-22\", \"2014-08-25\", \"2014-08-26\", \"2014-08-27\", \"2014-08-28\", \"2014-08-29\", \"2014-09-02\", \"2014-09-03\", \"2014-09-04\", \"2014-09-05\", \"2014-09-08\", \"2014-09-09\", \"2014-09-10\", \"2014-09-11\", \"2014-09-12\", \"2014-09-15\", \"2014-09-16\", \"2014-09-17\", \"2014-09-18\", \"2014-09-19\", \"2014-09-22\", \"2014-09-23\", \"2014-09-24\", \"2014-09-25\", \"2014-09-26\", \"2014-09-29\", \"2014-09-30\", \"2014-10-01\", \"2014-10-02\", \"2014-10-03\", \"2014-10-06\", \"2014-10-07\", \"2014-10-08\", \"2014-10-09\", \"2014-10-10\", \"2014-10-13\", \"2014-10-14\", \"2014-10-15\", \"2014-10-16\", \"2014-10-17\", \"2014-10-20\", \"2014-10-21\", \"2014-10-22\", \"2014-10-23\", \"2014-10-24\", \"2014-10-27\", \"2014-10-28\", \"2014-10-29\", \"2014-10-30\", \"2014-10-31\", \"2014-11-03\", \"2014-11-04\", \"2014-11-05\", \"2014-11-06\", \"2014-11-07\", \"2014-11-10\", \"2014-11-11\", \"2014-11-12\", \"2014-11-13\", \"2014-11-14\", \"2014-11-17\", \"2014-11-18\", \"2014-11-19\", \"2014-11-20\", \"2014-11-21\", \"2014-11-24\", \"2014-11-25\", \"2014-11-26\", \"2014-11-28\", \"2014-12-01\", \"2014-12-02\", \"2014-12-03\", \"2014-12-04\", \"2014-12-05\", \"2014-12-08\", \"2014-12-09\", \"2014-12-10\", \"2014-12-11\", \"2014-12-12\", \"2014-12-15\", \"2014-12-16\", \"2014-12-17\", \"2014-12-18\", \"2014-12-19\", \"2014-12-22\", \"2014-12-23\", \"2014-12-24\", \"2014-12-26\", \"2014-12-29\", \"2014-12-30\", \"2014-12-31\", \"2015-01-02\", \"2015-01-05\", \"2015-01-06\", \"2015-01-07\", \"2015-01-08\", \"2015-01-09\", \"2015-01-12\", \"2015-01-13\", \"2015-01-14\", \"2015-01-15\", \"2015-01-16\", \"2015-01-20\", \"2015-01-21\", \"2015-01-22\", \"2015-01-23\", \"2015-01-26\", \"2015-01-27\", \"2015-01-28\", \"2015-01-29\", \"2015-01-30\", \"2015-02-02\", \"2015-02-03\", \"2015-02-04\", \"2015-02-05\", \"2015-02-06\", \"2015-02-09\", \"2015-02-10\", \"2015-02-11\", \"2015-02-12\", \"2015-02-13\", \"2015-02-17\", \"2015-02-18\", \"2015-02-19\", \"2015-02-20\", \"2015-02-23\", \"2015-02-24\", \"2015-02-25\", \"2015-02-26\", \"2015-02-27\", \"2015-03-02\", \"2015-03-03\", \"2015-03-04\", \"2015-03-05\", \"2015-03-06\", \"2015-03-09\", \"2015-03-10\", \"2015-03-11\", \"2015-03-12\", \"2015-03-13\", \"2015-03-16\", \"2015-03-17\", \"2015-03-18\", \"2015-03-19\", \"2015-03-20\", \"2015-03-23\", \"2015-03-24\", \"2015-03-25\", \"2015-03-26\", \"2015-03-27\", \"2015-03-30\", \"2015-03-31\", \"2015-04-01\", \"2015-04-02\", \"2015-04-06\", \"2015-04-07\", \"2015-04-08\", \"2015-04-09\", \"2015-04-10\", \"2015-04-13\", \"2015-04-14\", \"2015-04-15\", \"2015-04-16\", \"2015-04-17\", \"2015-04-20\", \"2015-04-21\", \"2015-04-22\", \"2015-04-23\", \"2015-04-24\", \"2015-04-27\", \"2015-04-28\", \"2015-04-29\", \"2015-04-30\", \"2015-05-01\", \"2015-05-04\", \"2015-05-05\", \"2015-05-06\", \"2015-05-07\", \"2015-05-08\", \"2015-05-11\", \"2015-05-12\", \"2015-05-13\", \"2015-05-14\", \"2015-05-15\", \"2015-05-18\", \"2015-05-19\", \"2015-05-20\", \"2015-05-21\", \"2015-05-22\", \"2015-05-26\", \"2015-05-27\", \"2015-05-28\", \"2015-05-29\", \"2015-06-01\", \"2015-06-02\", \"2015-06-03\", \"2015-06-04\", \"2015-06-05\", \"2015-06-08\", \"2015-06-09\", \"2015-06-10\", \"2015-06-11\", \"2015-06-12\", \"2015-06-15\", \"2015-06-16\", \"2015-06-17\", \"2015-06-18\", \"2015-06-19\", \"2015-06-22\", \"2015-06-23\", \"2015-06-24\", \"2015-06-25\", \"2015-06-26\", \"2015-06-29\", \"2015-06-30\", \"2015-07-01\", \"2015-07-02\", \"2015-07-06\", \"2015-07-07\", \"2015-07-08\", \"2015-07-09\", \"2015-07-10\", \"2015-07-13\", \"2015-07-14\", \"2015-07-15\", \"2015-07-16\", \"2015-07-17\", \"2015-07-20\", \"2015-07-21\", \"2015-07-22\", \"2015-07-23\", \"2015-07-24\", \"2015-07-27\", \"2015-07-28\", \"2015-07-29\", \"2015-07-30\", \"2015-07-31\", \"2015-08-03\", \"2015-08-04\", \"2015-08-05\", \"2015-08-06\", \"2015-08-07\", \"2015-08-10\", \"2015-08-11\", \"2015-08-12\", \"2015-08-13\", \"2015-08-14\", \"2015-08-17\", \"2015-08-18\", \"2015-08-19\", \"2015-08-20\", \"2015-08-21\", \"2015-08-24\", \"2015-08-25\", \"2015-08-26\", \"2015-08-27\", \"2015-08-28\", \"2015-08-31\", \"2015-09-01\", \"2015-09-02\", \"2015-09-03\", \"2015-09-04\", \"2015-09-08\", \"2015-09-09\", \"2015-09-10\", \"2015-09-11\", \"2015-09-14\", \"2015-09-15\", \"2015-09-16\", \"2015-09-17\", \"2015-09-18\", \"2015-09-21\", \"2015-09-22\", \"2015-09-23\", \"2015-09-24\", \"2015-09-25\", \"2015-09-28\", \"2015-09-29\", \"2015-09-30\", \"2015-10-01\", \"2015-10-02\", \"2015-10-05\", \"2015-10-06\", \"2015-10-07\", \"2015-10-08\", \"2015-10-09\", \"2015-10-12\", \"2015-10-13\", \"2015-10-14\", \"2015-10-15\", \"2015-10-16\", \"2015-10-19\", \"2015-10-20\", \"2015-10-21\", \"2015-10-22\", \"2015-10-23\", \"2015-10-26\", \"2015-10-27\", \"2015-10-28\", \"2015-10-29\", \"2015-10-30\", \"2015-11-02\", \"2015-11-03\", \"2015-11-04\", \"2015-11-05\", \"2015-11-06\", \"2015-11-09\", \"2015-11-10\", \"2015-11-11\", \"2015-11-12\", \"2015-11-13\", \"2015-11-16\", \"2015-11-17\", \"2015-11-18\", \"2015-11-19\", \"2015-11-20\", \"2015-11-23\", \"2015-11-24\", \"2015-11-25\", \"2015-11-27\", \"2015-11-30\", \"2015-12-01\", \"2015-12-02\", \"2015-12-03\", \"2015-12-04\", \"2015-12-07\", \"2015-12-08\", \"2015-12-09\", \"2015-12-10\", \"2015-12-11\", \"2015-12-14\", \"2015-12-15\", \"2015-12-16\", \"2015-12-17\", \"2015-12-18\", \"2015-12-21\", \"2015-12-22\", \"2015-12-23\", \"2015-12-24\", \"2015-12-28\", \"2015-12-29\", \"2015-12-30\", \"2015-12-31\"], \"y\": [31.9, 31.53, 31.5, 31.68, 31.68, 31.65, 31.82, 31.44, 31.62, 31.3, 31.67, 31.3, 30.75, 30.8, 30.8, 31.0, 31.28, 31.35, 31.24, 31.18, 30.92, 30.65, 30.52, 30.52, 30.56, 30.66, 30.62, 30.86, 30.82, 31.32, 31.74, 31.98, 31.8, 31.76, 32.2, 32.2, 32.28, 32.24, 32.1, 32.34, 31.92, 31.91, 31.86, 32.24, 32.2, 31.96, 32.12, 32.18, 32.46, 32.45, 32.47, 32.53, 32.56, 32.44, 32.68, 32.48, 32.49, 32.46, 32.03, 32.1, 32.06, 31.94, 32.16, 32.44, 32.56, 32.47, 32.18, 32.2, 32.19, 32.2, 32.32, 32.23, 32.53, 32.36, 32.52, 32.52, 32.55, 32.54, 32.8, 33.58, 34.34, 34.0, 33.94, 33.68, 34.09, 34.44, 34.2, 34.15, 33.98, 33.74, 33.58, 33.83, 33.96, 33.24, 32.84, 33.03, 33.32, 33.44, 33.5, 33.54, 33.62, 33.12, 33.18, 33.83, 34.07, 33.67, 33.82, 34.12, 34.64, 34.56, 34.6, 33.54, 33.26, 33.46, 33.32, 33.23, 33.24, 33.32, 33.2, 32.76, 32.92, 32.57, 33.12, 33.7, 33.54, 33.72, 33.44, 33.75, 34.06, 34.16, 34.42, 34.04, 34.0, 33.88, 34.28, 34.12, 35.42, 35.4, 35.6, 35.44, 35.35, 35.43, 35.04, 36.2, 36.17, 36.27, 36.2, 36.32, 36.5, 36.19, 35.74, 34.86, 34.72, 34.8, 34.65, 34.97, 35.23, 35.25, 35.14, 35.21, 34.88, 34.91, 35.21, 34.9, 35.12, 34.85, 34.69, 34.75, 34.82, 34.83, 35.04, 34.67, 34.98, 35.04, 35.34, 35.48, 35.64, 35.87, 35.78, 35.97, 36.3, 36.1, 36.01, 36.37, 36.46, 36.18, 36.12, 36.18, 36.05, 36.49, 36.63, 36.51, 36.34, 36.41, 36.28, 36.22, 36.3, 36.33, 36.2, 36.48, 36.81, 36.74, 36.63, 36.67, 36.45, 36.39, 36.43, 36.32, 36.34, 36.29, 35.99, 35.87, 36.0, 36.34, 36.39, 36.8, 36.73, 36.67, 36.49, 36.71, 36.23, 36.5, 36.27, 36.16, 35.78, 35.51, 35.57, 35.2, 35.11, 35.46, 35.24, 35.23, 35.49, 35.52, 35.52, 35.49, 35.43, 35.39, 35.34, 35.35, 35.57, 35.65, 35.76, 35.89, 35.88, 35.89, 35.84, 35.94, 36.05, 35.92, 35.56, 35.74, 35.8, 35.6, 35.5, 35.59, 35.48, 35.54, 35.51, 36.23, 36.27, 36.2, 36.04, 35.75, 36.01, 36.56, 36.08, 36.03, 35.95, 35.9, 35.92, 35.87, 35.86, 35.69, 35.9, 35.88, 35.56, 35.36, 35.6, 35.87, 36.01, 36.01, 35.76, 35.94, 36.18, 36.21, 35.63, 35.67, 34.39, 34.7, 34.66, 34.44, 34.52, 34.66, 34.32, 34.51, 34.5, 34.53, 33.47, 33.65, 34.1, 33.95, 34.25, 34.61, 35.48, 34.99, 34.96, 34.68, 34.4, 34.14, 34.54, 34.43, 34.01, 34.51, 34.34, 34.44, 34.37, 34.41, 34.17, 34.34, 34.63, 35.51, 35.25, 35.95, 36.14, 36.3, 36.02, 35.78, 36.28, 36.07, 35.94, 35.89, 36.04, 35.69, 35.84, 35.92, 36.07, 35.81, 36.11, 35.4, 35.52, 35.3, 35.41, 36.22, 36.24, 36.42, 36.31, 36.0, 36.09, 36.04, 36.13, 36.15, 36.23, 36.09, 36.4, 36.2, 35.91, 35.59, 35.06, 35.34, 35.48, 35.18, 35.94, 35.89, 35.97, 36.14, 36.38, 35.68, 35.63, 35.02, 35.08, 35.06, 35.33, 35.28, 35.17, 35.51, 35.68, 35.32, 35.33, 35.12, 34.44, 34.92, 35.44, 35.54, 35.45, 35.59, 35.39, 35.54, 34.72, 34.85, 33.93, 34.57, 33.65, 33.56, 34.61, 33.77, 34.48, 34.42, 32.81, 34.76, 34.89, 34.99, 34.16, 34.4, 33.9, 33.66, 33.57, 35.4, 37.24, 37.1, 37.37, 36.7, 36.45, 36.57, 36.13, 35.2, 35.98, 35.74, 36.54, 36.59, 35.89, 35.65, 35.2, 35.14, 36.12, 35.68, 35.81, 35.66, 35.66, 37.19, 37.3, 36.55, 36.24, 35.96, 36.07, 35.85, 36.02, 35.62, 36.65, 36.63, 37.0, 37.27, 37.47, 36.96, 37.12, 36.62, 36.32, 36.04, 35.95, 34.55, 34.27, 33.5, 32.86, 33.82, 33.76, 34.04, 33.81, 34.55, 34.13, 34.0, 34.01, 32.11, 32.31, 31.93, 32.95, 30.76, 31.48, 31.66, 32.35, 33.89, 33.25, 31.97, 31.14, 30.53, 30.42, 29.92, 30.84, 29.49, 29.83, 30.72, 30.54, 32.43, 31.84, 31.76, 32.4, 32.59, 31.71, 32.64, 30.77, 30.67, 30.56, 30.07, 30.07, 30.32, 30.62, 30.37, 30.37, 31.2, 31.26, 30.3, 30.09, 30.19, 29.1, 28.52, 27.49, 27.68, 26.5, 27.04, 27.91, 28.2, 28.21, 26.49, 27.37, 26.13, 25.48, 26.95, 29.38, 31.16, 30.66, 31.8, 32.6, 32.76, 34.08, 33.65, 31.39, 30.47, 30.08, 30.46, 29.48, 29.54, 29.92, 30.47, 29.59, 29.69, 29.86, 30.65, 30.74, 31.44, 31.69, 31.4, 31.74, 30.56, 29.23, 28.87, 28.83, 28.98, 27.83, 28.11, 27.89, 30.82, 29.54, 29.48, 28.45, 28.78, 31.54, 30.58, 32.55, 32.09, 32.06, 30.81, 30.26, 29.35, 29.1, 31.49, 30.53, 30.79, 30.93, 30.79, 29.93, 29.45, 28.52, 27.97, 27.2, 27.81, 29.01, 29.71, 30.4, 29.27, 29.38, 28.92, 29.85, 30.59, 30.34, 29.88, 29.75, 31.18, 31.14, 31.15, 31.27, 29.9, 29.38, 29.33, 29.76, 28.97, 28.91, 29.6, 28.95, 28.48, 28.05, 27.7, 27.91, 27.68, 27.56, 27.47, 27.98, 27.57, 27.11, 26.78, 26.64, 27.2, 25.42, 25.27, 25.91, 25.55, 26.02, 26.08, 26.38, 25.4, 25.43, 25.63, 24.5, 24.26, 25.2, 25.4, 24.07, 24.03, 23.75, 24.12, 23.59, 23.92, 23.52, 24.67, 23.71, 23.61, 23.0, 21.57, 20.51, 27.23, 27.83, 27.86, 27.54, 30.43, 30.45, 29.15, 29.09, 27.93, 30.46, 31.2, 30.27, 30.5, 30.18, 31.54, 30.31, 29.01, 30.17, 31.61, 30.38, 29.29, 30.17, 29.76, 28.8, 27.79, 28.92, 28.44, 29.36, 28.67, 28.69, 28.91, 30.43, 30.27, 31.21, 31.01, 29.67, 31.2, 33.56, 31.17, 31.7, 33.85, 34.29, 31.0, 34.93, 33.43, 37.0, 39.8, 35.18, 34.17, 34.27, 34.12, 37.31, 33.25, 37.53, 36.7, 35.16, 34.56, 33.64, 30.6, 31.9, 27.25, 28.31, 30.4, 33.52, 33.35, 33.9, 32.06, 32.23, 32.64, 31.3, 31.33, 30.91, 30.83, 34.46, 32.11, 31.84, 34.05, 33.8, 35.11, 31.68, 28.77, 29.5, 28.62, 28.83, 27.3, 29.09, 28.73, 27.83, 27.2, 24.4, 22.53, 21.76, 26.02, 26.95, 28.65, 28.89, 23.41, 25.89, 28.1, 27.55, 29.94, 32.66, 30.5, 29.19, 25.9, 26.72, 26.07, 29.78, 29.98, 29.65, 29.36, 27.42, 26.99, 27.48, 27.51, 27.83, 28.8, 29.48, 30.0, 28.06, 27.54, 25.87, 25.72, 25.14, 23.8, 24.38, 23.07, 20.16, 18.68, 14.23, 16.65, 15.79, 15.87, 15.48, 16.19, 21.19, 18.78, 18.9, 19.23, 18.53, 17.45, 16.27, 19.14, 19.06, 16.35, 17.5, 16.8, 15.76, 13.69, 13.05, 12.01, 10.91, 11.03, 13.05, 13.44, 14.4, 12.1, 10.84, 10.67, 9.66, 8.12, 8.61, 9.97, 11.81, 11.88, 13.95, 13.94, 13.7, 14.66, 17.22, 15.42, 13.99, 17.33, 15.5, 16.42, 15.95, 15.59, 13.37, 14.24, 14.48, 15.33, 16.34, 15.25, 14.85, 14.89, 19.61, 19.67, 18.27, 19.55, 19.45, 20.26, 17.0, 18.81, 18.18, 20.09, 21.4, 20.3, 19.48, 19.97, 20.01, 19.61, 24.25, 23.27, 26.84, 24.76, 28.18, 26.53, 25.7, 24.2, 25.69, 24.87, 26.93, 25.45, 24.46, 25.04, 24.31, 25.65, 24.08, 24.77, 25.5, 25.43, 24.39, 24.13, 25.1, 24.72, 25.39, 25.66, 24.91, 25.02, 25.48, 24.71, 24.4, 23.09, 23.7, 24.19, 22.51, 22.91, 23.17, 23.8, 23.87, 24.53, 24.26, 24.14, 23.08, 23.1, 23.33, 22.91, 23.28, 22.87, 24.8, 24.4, 25.3, 25.05, 25.0, 25.52, 25.35, 24.45, 24.26, 23.47, 24.22, 24.52, 24.38, 24.87, 24.46, 25.8, 26.55, 28.02, 27.97, 28.76, 28.64, 26.89, 27.17, 27.88, 27.73, 26.3, 26.34, 26.61, 27.48, 27.94, 27.32, 27.33, 27.62, 27.74, 27.3, 27.52, 26.21, 26.09, 26.91, 26.91, 26.98, 27.68, 27.86, 27.43, 27.92, 28.58, 29.41, 28.78, 28.49, 28.29, 29.39, 28.76, 28.45, 28.19, 28.9, 28.35, 28.18, 26.6, 26.28, 28.09, 28.66, 29.26, 29.05, 29.21, 30.28, 30.06, 31.34, 31.38, 30.02, 30.07, 30.46, 28.9, 30.17, 29.32, 28.45, 28.39, 27.46, 28.57, 27.52, 27.61, 27.74, 26.82, 27.29, 27.12, 28.4, 28.1, 28.8, 28.22, 27.68, 28.21, 28.37, 28.86, 28.32, 27.87, 28.07, 27.86, 27.83, 27.14, 28.04, 27.99, 27.45, 26.49, 26.96, 26.36, 26.03, 25.96, 25.32, 25.41, 25.49, 25.66, 25.84, 26.07, 26.78, 27.34, 27.16, 26.85, 27.09, 26.75, 26.68, 26.82, 26.99, 27.32, 28.07, 28.11, 29.13, 28.86, 28.8, 28.08, 28.58, 28.99, 28.08, 28.28, 27.82, 28.0, 27.26, 27.66, 26.99, 28.2, 28.45, 28.43, 28.93, 28.79, 28.14, 27.06, 27.42, 26.43, 26.71, 27.18, 27.08, 26.88, 27.39, 27.33, 27.34, 27.37, 28.01, 27.29, 27.66, 27.44, 27.34, 27.35, 27.87, 28.2, 28.43, 29.15, 28.89, 28.98, 29.57, 29.76, 29.63, 29.89, 30.28, 30.55, 30.29, 30.38, 30.41, 31.08, 30.86, 31.06, 31.22, 31.1, 30.84, 31.12, 31.37, 31.51, 32.28, 31.99, 32.23, 32.3, 32.42, 32.15, 33.28, 33.51, 32.56, 33.02, 33.69, 33.01, 33.58, 33.48, 32.72, 31.72, 32.45, 33.23, 33.11, 33.88, 32.94, 32.66, 31.18, 30.82, 32.97, 32.91, 33.66, 33.08, 32.04, 31.97, 30.59, 30.08, 28.69, 30.11, 28.71, 28.9, 28.04, 29.41, 28.69, 28.23, 29.18, 28.86, 27.78, 27.29, 27.76, 27.03, 28.13, 27.84, 27.4, 27.91, 28.12, 27.93, 28.07, 27.94, 27.46, 27.32, 26.86, 27.05, 27.03, 25.93, 25.6, 25.18, 24.88, 25.15, 26.66, 26.64, 27.0, 27.06, 27.94, 27.66, 27.81, 26.24, 26.02, 25.91, 26.06, 27.39, 27.42, 27.91, 28.39, 28.07, 27.69, 27.73, 28.57, 28.12, 27.93, 27.88, 27.75, 28.23, 27.77, 26.3, 26.0, 25.84, 25.68, 25.34, 25.38, 24.43, 24.6, 24.23, 23.64, 23.6, 23.49, 24.0, 23.25, 23.55, 24.66, 25.1, 25.84, 24.92, 25.22, 25.69, 25.75, 26.5, 26.06, 26.34, 26.06, 26.01, 26.56, 26.38, 25.81, 25.04, 25.59, 25.53, 25.35, 25.04, 25.12, 25.56, 25.38, 26.25, 26.3, 26.0, 25.95, 25.65, 25.98, 25.81, 24.72, 23.58, 24.87, 24.55, 25.6, 26.03, 26.11, 25.72, 25.91, 25.75, 25.94, 26.06, 25.93, 25.97, 26.46, 27.46, 29.22, 29.04, 28.13, 28.58, 28.19, 27.54, 27.65, 27.19, 26.86, 27.51, 27.49, 26.95, 26.8, 27.11, 26.65, 27.2, 27.21, 27.53, 28.78, 29.05, 28.74, 28.47, 29.37, 30.07, 30.27, 30.22, 29.82, 29.79, 30.02, 29.96, 30.1, 30.82, 31.31, 30.99, 31.21, 31.2, 31.02, 30.82, 30.99, 31.58, 31.65, 32.37, 32.15, 31.5, 31.2, 31.4, 32.01, 31.89, 32.75, 32.49, 31.81, 31.89, 32.51, 32.7, 32.7, 32.45, 32.5, 31.84, 32.42, 33.44, 32.72, 32.75, 32.76, 33.32, 34.1, 33.13, 33.0, 33.76, 33.87, 33.68, 33.3, 32.95, 32.64, 31.38, 31.5, 31.44, 32.4, 32.26, 31.65, 31.55, 32.41, 31.91, 31.72, 32.51, 32.8, 32.06, 32.38, 32.1, 32.27, 31.23, 31.36, 31.83, 31.88, 31.51, 31.45, 31.54, 31.94, 31.61, 31.59, 31.91, 31.71, 32.06, 31.8, 31.99, 32.4, 32.17, 31.62, 31.4, 31.4, 30.68, 30.15, 29.89, 29.52, 30.07, 28.83, 28.54, 28.56, 28.87, 29.27, 29.27, 29.11, 29.13, 29.51, 28.78, 28.13, 28.25, 28.21, 28.53, 28.16, 28.23, 27.93, 27.86, 28.75, 28.92, 28.61, 28.0, 27.53, 27.63, 27.56, 27.7, 28.14, 28.37, 26.94, 27.16, 26.86, 26.26, 25.77, 25.36, 26.22, 26.28, 26.9, 27.02, 26.55, 26.8, 27.33, 26.95, 27.46, 27.37, 27.04, 27.26, 27.45, 27.49, 28.07, 28.06, 28.67, 28.42, 28.12, 28.66, 28.3, 27.59, 27.39, 27.53, 27.28, 27.18, 26.88, 28.41, 28.7, 29.38, 29.14, 28.95, 28.97, 28.58, 28.3, 27.94, 27.93, 27.18, 27.3, 25.74, 25.21, 22.93, 24.78, 22.88, 24.29, 24.13, 25.02, 24.55, 24.88, 23.72, 23.36, 22.89, 23.94, 24.43, 24.76, 24.59, 25.42, 25.4, 26.1, 25.23, 24.2, 23.92, 24.96, 24.4, 23.52, 24.1, 24.36, 24.69, 25.19, 24.95, 24.33, 24.67, 23.71, 23.17, 23.69, 24.79, 24.96, 24.45, 24.99, 24.12, 23.18, 24.21, 24.5, 25.37, 24.54, 26.13, 26.05, 26.95, 26.12, 26.67, 24.42, 25.86, 25.18, 25.76, 26.31, 26.52, 25.55, 25.76, 27.07, 27.08, 25.91, 24.77, 25.33, 25.81, 25.4, 25.42, 26.53, 24.99, 25.08, 25.65, 25.1, 25.29, 24.94, 24.67, 24.69, 24.18, 23.93, 23.21, 23.51, 24.15, 24.08, 25.86, 25.64, 26.07, 26.74, 26.65, 27.05, 26.19, 26.91, 26.29, 25.79, 25.86, 25.61, 25.98, 25.31, 26.5, 26.89, 27.25, 27.78, 27.61, 27.11, 27.76, 27.56, 28.43, 28.56, 29.02, 28.94, 29.3, 29.41, 29.62, 29.61, 29.61, 29.82, 30.24, 30.15, 30.54, 30.92, 30.54, 30.2, 29.05, 29.6, 29.25, 29.21, 29.89, 29.9, 30.63, 30.2, 30.26, 30.63, 30.58, 30.26, 30.62, 30.42, 30.17, 30.37, 31.09, 30.96, 30.59, 30.65, 30.18, 31.03, 31.37, 31.29, 31.54, 31.28, 30.97, 30.1, 30.41, 31.4, 31.66, 31.51, 33.33, 33.37, 34.07, 33.89, 34.25, 34.32, 34.02, 33.36, 33.53, 34.39, 34.0, 34.47, 33.94, 34.14, 34.51, 34.48, 33.88, 33.73, 33.42, 32.92, 33.62, 34.02, 32.84, 33.15, 33.68, 33.57, 33.12, 33.0, 32.69, 33.07, 33.35, 33.84, 33.77, 33.42, 34.09, 33.57, 33.39, 33.03, 33.5, 33.15, 32.63, 33.19, 33.31, 32.41, 32.24, 31.97, 31.44, 30.94, 31.4, 31.67, 31.74, 31.81, 31.86, 32.25, 31.7, 32.05, 30.16, 30.05, 30.52, 30.97, 31.18, 31.43, 30.99, 31.3, 31.58, 32.03, 32.45, 32.46, 32.96, 32.81, 32.34, 32.81, 32.22, 32.32, 32.73, 32.48, 33.44, 33.55, 33.48, 33.13, 33.05, 33.26, 32.97, 33.27, 32.85, 33.91, 34.02, 34.12, 33.96, 34.15, 33.81, 33.44, 33.23, 33.16, 33.78, 34.14, 33.96, 33.81, 33.9, 33.34, 34.34, 34.0, 33.96, 33.82, 33.82, 33.83, 33.96, 33.96, 33.97, 34.13, 34.03, 34.07, 34.38, 34.18, 33.92, 34.04, 34.02, 34.1, 34.07, 33.87, 34.03, 33.8, 33.75, 34.84, 35.0, 34.59, 34.15, 34.33, 35.55, 36.13, 35.33, 35.44, 35.25, 35.2, 34.97, 35.1, 34.72, 34.42, 34.76, 34.53, 34.7, 34.82, 35.44, 35.97, 35.84, 35.8, 35.1, 35.23, 35.18, 34.25, 33.9, 33.73, 34.47, 34.57, 34.34, 34.5, 33.87, 33.72, 34.06, 33.97, 33.69, 34.06, 33.74, 34.02, 34.32, 32.91, 32.35, 32.35, 32.37, 32.02, 31.43, 31.57, 31.94, 32.4, 32.92, 32.59, 33.2, 32.9, 32.63, 32.81, 33.16, 33.01, 32.75, 32.74, 32.98, 33.14, 33.23, 33.05, 33.29, 33.5, 33.26, 33.15, 34.38, 34.96, 34.62, 35.06, 34.48, 34.42, 34.33, 34.18, 33.91, 34.18, 35.05, 34.76, 34.94, 34.77, 34.71, 34.71, 35.4, 35.1, 34.77, 35.11, 35.09, 35.03, 34.93, 35.04, 34.95, 35.16, 35.14, 35.11, 35.27, 34.97, 34.83, 35.13, 34.76, 34.85, 34.97, 34.66, 34.88, 35.26, 35.51, 35.13, 35.21, 35.16, 35.14, 35.1, 35.46, 35.82, 34.79, 34.75, 35.13, 35.08, 35.39, 35.85, 35.88, 36.05, 36.42, 36.5, 37.13, 36.66, 36.77, 36.97, 38.2, 37.76, 37.49, 37.44, 37.14, 37.2, 37.21, 37.3, 36.98, 36.99, 36.93, 36.88, 36.67, 37.42, 37.15, 37.02, 37.45, 37.57, 37.51, 37.21, 36.57, 37.06, 36.56, 36.27, 36.69, 36.73, 37.13, 37.34, 37.64, 37.88, 37.88, 37.98, 37.46, 37.41, 37.74, 37.9, 38.4, 38.45, 37.89, 38.03, 38.2, 38.76, 39.3, 39.26, 39.88, 40.2, 40.68, 40.1, 40.01, 40.24, 40.52, 40.75, 41.25, 40.55, 40.73, 40.44, 39.82, 40.72, 41.25, 41.27, 40.66, 40.27, 40.94, 40.16, 40.61, 40.84, 40.66, 40.09, 40.96, 39.8, 40.3, 41.02, 41.56, 41.27, 41.36, 41.22, 41.22, 42.07, 42.83, 42.7, 42.07, 41.89, 42.63, 43.35, 43.02, 43.51, 44.41, 44.45, 44.63, 44.57, 44.31, 43.65, 43.51, 43.25, 43.26, 43.5, 44.26, 44.49, 44.34, 44.03, 43.27, 43.22, 43.23, 43.2, 43.32, 43.1, 42.99, 42.75, 42.49, 42.59, 42.36, 42.48, 42.76, 42.39, 41.11, 41.25, 41.25, 41.08, 41.39, 41.5, 41.82, 41.43, 41.72, 42.45, 42.5, 42.26, 42.19, 42.89, 42.85, 43.31, 42.96, 42.85, 42.31, 41.73, 41.81, 41.61, 41.59, 41.32, 41.49, 41.26, 41.0, 41.3, 40.62, 40.24, 40.36, 41.44, 41.43, 41.75, 41.54, 42.21, 42.68, 42.68, 42.62, 42.94, 42.76, 42.69, 42.86, 42.83, 42.96, 43.1, 42.69, 42.67, 42.7, 42.63, 42.44, 41.71, 42.71, 42.75, 42.28, 42.76, 43.09, 43.54, 43.41, 43.56, 43.62, 44.08, 44.36, 44.48, 44.31, 44.27, 44.02, 44.18, 43.73, 43.75, 43.25, 44.11, 44.32, 44.11, 43.52, 43.5, 43.73, 43.98, 43.59, 44.93, 45.02, 44.96, 45.21, 45.39, 45.54, 45.5, 45.5, 45.4, 45.02, 45.34, 45.42, 45.4, 45.92, 46.16, 45.94, 45.56, 45.59, 46.4, 46.39, 46.39, 46.5, 46.67, 46.35, 45.48, 45.53, 45.96, 45.59, 46.05, 45.34, 44.43, 44.77, 44.23, 44.78, 45.37, 45.52, 45.97, 45.99, 45.98, 46.13, 46.13, 45.53, 45.63, 45.6, 46.08, 46.08, 46.05, 46.05, 46.42, 46.15, 46.74, 47.09, 47.34, 47.95, 48.15, 47.81, 48.12, 47.84, 47.4, 48.13, 48.4, 47.81, 49.03, 49.12, 48.98, 48.96, 48.5, 49.1, 49.29, 49.74, 49.77, 49.76, 49.83, 49.56, 48.66, 48.83, 49.1, 47.71, 48.08, 48.11, 48.78, 49.09, 48.93, 49.12, 49.23, 49.59, 49.32, 49.05, 48.94, 49.47, 49.64, 49.64, 49.58, 49.56, 49.09, 49.39, 49.33, 49.08, 49.76, 49.81, 49.29, 49.03, 49.08, 49.49, 48.96, 49.67, 49.99, 50.16, 50.55, 50.44, 50.27, 50.78, 51.09, 51.09, 51.04, 51.63, 51.98, 52.51, 52.59, 52.24, 51.71, 51.9, 51.09, 51.66, 52.04, 52.02, 52.89, 52.98, 52.49, 52.6, 52.37, 52.9, 52.56, 52.72, 52.66, 53.0, 52.5, 52.25, 52.19, 51.81, 51.49, 51.31, 51.35, 51.17, 50.68, 51.28, 51.05, 51.35, 51.33, 51.59, 51.6, 51.6, 51.54, 52.1, 50.9, 50.35, 50.99, 50.4, 50.06, 49.7, 50.0, 49.89, 49.78, 49.99, 50.38, 50.21, 50.69, 50.86, 50.85, 51.29, 51.18, 51.45, 51.56, 51.34, 51.15, 51.44, 51.57, 51.55, 51.57, 51.65, 51.47, 51.07, 51.52, 51.59, 51.7, 51.94, 52.31, 52.51, 53.24, 53.36, 52.9, 52.1, 52.13, 51.41, 51.87, 51.69, 51.87, 51.26, 51.4, 52.1, 52.03, 51.08, 52.15, 51.12, 50.64, 50.2, 48.83, 47.85, 48.13, 48.69, 49.18, 50.45, 50.17, 50.6, 51.2, 51.31, 51.78, 52.17, 52.46, 53.09, 53.37, 53.27, 53.53, 54.06, 53.84, 53.83, 53.58, 53.54, 53.39, 53.35, 53.44, 53.27, 53.36, 53.48, 53.81, 54.1, 53.88, 54.28, 54.48, 53.82, 54.22, 54.39, 54.5, 55.03, 54.77, 54.83, 54.26, 54.43, 53.7, 53.19, 52.77, 53.79, 55.21, 54.45, 54.97, 55.47, 55.34, 55.28, 55.71, 55.42, 54.82, 54.7, 53.2, 52.09, 52.4, 53.56, 52.68, 52.05, 51.85, 51.25, 50.72, 51.64, 52.0, 52.1, 53.77, 53.26, 53.58, 52.97, 52.16, 52.76, 51.92, 52.81, 53.45, 53.03, 53.67, 54.45, 54.21, 54.57, 53.9, 54.86, 55.33, 55.37, 54.52, 54.56, 54.83, 55.1, 55.37, 55.33, 55.15, 54.79, 55.55, 55.45, 54.82, 54.84, 54.59, 54.67, 53.29, 53.7, 55.59, 55.34, 55.73, 55.91, 56.17, 55.51, 56.01, 55.78, 55.35, 54.54, 54.5, 54.12, 54.77, 54.4, 53.94, 54.37, 54.08, 54.02, 54.0, 54.19, 54.32, 54.59, 54.19, 54.81, 54.81, 54.05, 54.36, 54.28, 54.67, 54.86, 54.7, 54.97, 55.41, 55.46, 55.1, 55.19, 55.73, 55.72, 54.92, 54.81, 56.05, 55.51, 55.47, 55.6, 56.04, 55.52, 55.75, 56.4, 56.08, 56.01, 56.0, 55.66, 56.07, 56.21, 55.96, 56.04, 56.18, 56.91, 56.14, 56.61, 56.12, 56.7, 57.21, 57.26, 57.09, 56.98, 57.22, 57.17, 57.7, 57.05, 57.91, 57.89, 57.54, 57.17, 57.44, 56.06, 56.24, 56.91, 56.74, 56.44, 56.25, 55.25, 55.5, 56.08, 56.74, 57.25, 57.78, 58.17, 57.94, 58.05, 57.95, 58.52, 58.21, 57.78, 57.59, 57.4, 57.96, 58.15, 57.87, 57.91, 57.82, 57.65, 57.53, 57.47, 57.94, 57.21, 56.72, 56.89, 57.33, 57.35, 57.54, 57.06, 56.12, 53.97, 51.25, 50.02, 52.3, 54.03, 53.54, 53.33, 50.99, 51.99, 52.43, 51.29, 52.93, 52.19, 52.56, 52.62, 52.77, 53.47, 53.72, 52.21, 51.04, 51.55, 50.69, 50.78, 50.55, 51.48, 50.37, 50.89, 51.35, 51.44, 51.26, 52.41, 52.03, 52.19, 52.54, 52.14, 52.18, 51.86, 51.5, 52.69, 52.88, 52.56, 53.08, 53.12, 54.06, 54.75, 54.29, 54.12, 55.45, 55.09, 54.14, 54.85, 54.93, 54.58, 54.86, 55.85, 55.47, 55.91, 55.8, 55.17, 54.57, 55.27, 54.96, 55.67, 55.97, 55.82, 55.6, 55.28, 55.22, 55.39, 55.1, 55.71, 55.08, 54.2, 55.67, 55.42, 54.4, 54.12, 54.34, 53.31, 53.2, 54.91, 55.85, 55.47, 53.79, 54.02, 54.34, 55.04, 54.82, 54.68, 55.29, 54.89, 54.36], \"mode\": \"lines\", \"line\": {\"color\": \"rgba(142, 186, 66, 1.0)\", \"dash\": \"solid\", \"width\": 1.3}, \"text\": \"\", \"name\": \"WFC\"}], {\"xaxis1\": {\"zerolinecolor\": \"#F6F6F6\", \"tickfont\": {\"color\": \"#666666\"}, \"showgrid\": true, \"titlefont\": {\"color\": \"#666666\"}, \"title\": \"\", \"gridcolor\": \"#F6F6F6\"}, \"paper_bgcolor\": \"#FFFFFF\", \"yaxis1\": {\"zerolinecolor\": \"#F6F6F6\", \"tickfont\": {\"color\": \"#666666\"}, \"showgrid\": true, \"titlefont\": {\"color\": \"#666666\"}, \"title\": \"\", \"gridcolor\": \"#F6F6F6\"}, \"titlefont\": {\"color\": \"#151516\"}, \"legend\": {\"font\": {\"color\": \"#666666\"}, \"bgcolor\": \"#FFFFFF\"}, \"plot_bgcolor\": \"#E5E5E5\"}, {\"linkText\": \"Export to plot.ly\", \"showLink\": true})});</script>"
      ],
      "text/plain": [
       "<IPython.core.display.HTML object>"
      ]
     },
     "metadata": {},
     "output_type": "display_data"
    }
   ],
   "source": []
  },
  {
   "cell_type": "markdown",
   "metadata": {},
   "source": [
    "## Moving Averages\n",
    "\n",
    "Let's analyze the moving averages for these stocks in the year 2008. \n",
    "\n",
    "** Plot the rolling 30 day average against the Close Price for Bank Of America's stock for the year 2008**"
   ]
  },
  {
   "cell_type": "code",
   "execution_count": 201,
   "metadata": {},
   "outputs": [
    {
     "data": {
      "text/plain": [
       "<matplotlib.legend.Legend at 0x183ed9eb7b8>"
      ]
     },
     "execution_count": 201,
     "metadata": {},
     "output_type": "execute_result"
    },
    {
     "data": {
      "image/png": "[encoded data removed]",
      "text/plain": [
       "<Figure size 432x288 with 1 Axes>"
      ]
     },
     "metadata": {
      "needs_background": "light"
     },
     "output_type": "display_data"
    }
   ],
   "source": [
    "\n",
    "df['BAC']['Close'].loc['2008-01-01':'2009-01-01'].rolling(window=30).mean().plot(label='30 Day Avg')\n",
    "df['BAC']['Close'].loc['2008-01-01':'2009-01-01'].plot(label='BAC  CLOSE')\n",
    "plt.legend()"
   ]
  },
  {
   "cell_type": "markdown",
   "metadata": {},
   "source": [
    "** Create a heatmap of the correlation between the stocks Close Price.**"
   ]
  },
  {
   "cell_type": "code",
   "execution_count": 202,
   "metadata": {},
   "outputs": [
    {
     "data": {
      "text/plain": [
       "<seaborn.matrix.ClusterGrid at 0x183ea923978>"
      ]
     },
     "execution_count": 202,
     "metadata": {},
     "output_type": "execute_result"
    },
    {
     "data": {
      "image/png": "[encoded data removed]",
      "text/plain": [
       "<Figure size 720x720 with 4 Axes>"
      ]
     },
     "metadata": {
      "needs_background": "light"
     },
     "output_type": "display_data"
    }
   ],
   "source": [
    "sns.clustermap(df.xs(axis=1,key='Close',level=1).corr())"
   ]
  },
  {
   "cell_type": "markdown",
   "metadata": {},
   "source": [
    "** Optional: Use seaborn's clustermap to cluster the correlations together:**"
   ]
  },
  {
   "cell_type": "code",
   "execution_count": null,
   "metadata": {},
   "outputs": [],
   "source": []
  },
  {
   "cell_type": "code",
   "execution_count": null,
   "metadata": {},
   "outputs": [],
   "source": []
  },
  {
   "cell_type": "markdown",
   "metadata": {},
   "source": [
    "# Part 2 (Optional)\n",
    "\n",
    "In this second part of the project we will rely on the cufflinks library to create some Technical Analysis plots. This part of the project is experimental due to its heavy reliance on the cuffinks project, so feel free to skip it if any functionality is broken in the future."
   ]
  },
  {
   "cell_type": "markdown",
   "metadata": {
    "collapsed": true
   },
   "source": [
    "** Use .iplot(kind='candle) to create a candle plot of Bank of America's stock from Jan 1st 2015 to Jan 1st 2016.**"
   ]
  },
  {
   "cell_type": "code",
   "execution_count": 205,
   "metadata": {},
   "outputs": [
    {
     "data": {
      "application/vnd.plotly.v1+json": {
       "config": {
        "linkText": "Export to plot.ly",
        "plotlyServerURL": "https://plot.ly",
        "showLink": true
       },
       "data": [
        {
         "close": [
          17.9,
          17.38,
          16.86,
          16.94,
          17.29,
          16.98,
          16.68,
          16.45,
          16.04,
          15.2,
          15.38,
          15.26,
          15.41,
          16.09,
          15.73,
          15.85,
          15.63,
          15.2,
          15.43,
          15.15,
          15.46,
          15.89,
          15.79,
          15.97,
          16.49,
          16.35,
          16.42,
          16.36,
          16.67,
          16.61,
          16.63,
          16.3,
          16.21,
          16.38,
          16.2,
          16.38,
          16.49,
          16.04,
          15.81,
          16.01,
          16.04,
          15.84,
          16,
          16.22,
          16.17,
          15.79,
          16.11,
          16.09,
          16.09,
          16.13,
          16.09,
          15.98,
          15.61,
          15.84,
          15.72,
          15.61,
          15.41,
          15.42,
          15.31,
          15.52,
          15.39,
          15.41,
          15.54,
          15.51,
          15.46,
          15.61,
          15.71,
          15.72,
          15.8,
          15.82,
          15.64,
          15.79,
          15.56,
          15.57,
          15.5,
          15.74,
          15.69,
          15.64,
          15.56,
          15.65,
          15.98,
          15.93,
          16.11,
          16.44,
          16.35,
          16.29,
          16.24,
          16.45,
          16.49,
          16.43,
          16.47,
          16.52,
          16.35,
          16.51,
          16.77,
          16.74,
          16.73,
          16.75,
          16.5,
          16.74,
          16.67,
          16.5,
          16.55,
          16.72,
          16.93,
          16.78,
          17.19,
          17.08,
          17.31,
          17.59,
          17.49,
          17.49,
          17.47,
          17.55,
          17.37,
          17.38,
          17.17,
          17.47,
          17.67,
          17.49,
          17.37,
          17.41,
          16.89,
          17.02,
          17.22,
          17.03,
          16.94,
          16.69,
          16.25,
          16.48,
          16.7,
          17.02,
          17.13,
          17.68,
          17.95,
          18.1,
          18.12,
          18.08,
          18.45,
          18.18,
          17.9,
          17.67,
          17.88,
          18.16,
          18.13,
          17.88,
          17.77,
          17.8,
          17.87,
          17.81,
          17.75,
          18.04,
          17.79,
          17.52,
          17.62,
          17.7,
          17.77,
          17.69,
          17.46,
          16.72,
          16.1,
          15.29,
          15.26,
          16.06,
          16.44,
          16.36,
          16.34,
          15.58,
          15.85,
          15.94,
          15.65,
          16.16,
          15.9,
          16.04,
          16.04,
          15.96,
          16.31,
          16.33,
          15.86,
          15.56,
          15.7,
          15.57,
          15.72,
          15.55,
          15.89,
          15.47,
          15.35,
          15.58,
          15.55,
          15.38,
          15.69,
          15.69,
          15.75,
          15.75,
          15.58,
          15.52,
          15.52,
          15.64,
          16.19,
          16.12,
          16.14,
          16.2,
          15.9,
          16.16,
          16.52,
          16.51,
          16.4,
          17.28,
          17.09,
          16.78,
          17.06,
          17.18,
          17.01,
          17.31,
          17.95,
          17.68,
          17.85,
          17.75,
          17.37,
          17.2,
          17.43,
          17.42,
          17.84,
          17.69,
          17.65,
          17.47,
          17.47,
          17.44,
          17.48,
          17.43,
          17.81,
          17.62,
          17.3,
          17.8,
          17.54,
          17.19,
          17.1,
          17.2,
          16.73,
          16.8,
          17.42,
          17.75,
          17.3,
          16.76,
          16.97,
          17.08,
          17.34,
          17.27,
          17.13,
          17.28,
          17.05,
          16.83
         ],
         "high": [
          18.03,
          17.81,
          17.44,
          17.18,
          17.34,
          17.38,
          17.03,
          16.89,
          16.22,
          15.76,
          15.4,
          15.63,
          15.57,
          16.19,
          16.19,
          15.93,
          15.79,
          15.73,
          15.49,
          15.47,
          15.49,
          15.93,
          16,
          16.09,
          16.75,
          16.5,
          16.62,
          16.45,
          16.73,
          16.79,
          16.68,
          16.56,
          16.38,
          16.43,
          16.32,
          16.55,
          16.5,
          16.44,
          15.88,
          16.03,
          16.15,
          15.98,
          16.03,
          16.62,
          16.33,
          16.13,
          16.16,
          16.21,
          16.15,
          16.22,
          16.12,
          16.1,
          15.97,
          15.93,
          15.88,
          15.8,
          15.65,
          15.54,
          15.49,
          15.61,
          15.52,
          15.46,
          15.62,
          15.6,
          15.65,
          15.74,
          15.76,
          15.79,
          15.86,
          15.95,
          15.85,
          15.94,
          15.75,
          15.69,
          15.64,
          15.83,
          15.8,
          15.75,
          15.76,
          15.71,
          16.04,
          16.05,
          16.15,
          16.45,
          16.61,
          16.49,
          16.33,
          16.46,
          16.59,
          16.48,
          16.52,
          16.59,
          16.52,
          16.54,
          16.78,
          16.85,
          16.75,
          16.8,
          16.73,
          16.75,
          16.73,
          16.67,
          16.64,
          16.76,
          17.02,
          16.98,
          17.35,
          17.33,
          17.35,
          17.62,
          17.68,
          17.58,
          17.5,
          17.56,
          17.6,
          17.4,
          17.39,
          17.53,
          17.72,
          17.69,
          17.62,
          17.52,
          17.25,
          17.13,
          17.31,
          17.21,
          17.01,
          16.93,
          16.5,
          16.72,
          16.84,
          17.05,
          17.15,
          17.85,
          18.07,
          18.16,
          18.23,
          18.17,
          18.48,
          18.43,
          18.23,
          17.78,
          17.89,
          18.2,
          18.29,
          18.06,
          17.96,
          17.93,
          18.04,
          17.98,
          18.07,
          18.05,
          17.97,
          17.64,
          17.69,
          17.7,
          17.81,
          17.9,
          17.69,
          17.2,
          16.66,
          15.98,
          16.2,
          16.06,
          16.45,
          16.44,
          16.38,
          16.05,
          15.86,
          16.19,
          15.86,
          16.16,
          16.46,
          16.11,
          16.06,
          16.07,
          16.39,
          16.39,
          16.48,
          15.71,
          15.75,
          15.58,
          15.85,
          15.62,
          16.02,
          15.82,
          15.53,
          15.6,
          15.64,
          15.38,
          15.79,
          15.82,
          15.93,
          15.78,
          15.82,
          15.62,
          15.59,
          15.92,
          16.28,
          16.29,
          16.21,
          16.29,
          16.29,
          16.2,
          16.55,
          16.55,
          16.47,
          17.31,
          17.44,
          17.18,
          17.14,
          17.26,
          17.31,
          17.37,
          18.09,
          18.08,
          17.94,
          17.99,
          17.63,
          17.31,
          17.46,
          17.6,
          17.87,
          17.85,
          17.83,
          17.73,
          17.57,
          17.57,
          17.5,
          17.58,
          17.81,
          17.89,
          17.76,
          17.83,
          17.8,
          17.46,
          17.38,
          17.41,
          17.06,
          16.89,
          17.49,
          17.78,
          17.83,
          17.26,
          17.03,
          17.11,
          17.34,
          17.38,
          17.23,
          17.35,
          17.24,
          17.07
         ],
         "low": [
          17.68,
          17.29,
          16.78,
          16.87,
          17.1,
          16.95,
          16.66,
          16.32,
          15.77,
          15.15,
          14.97,
          15.2,
          15.15,
          15.43,
          15.73,
          15.7,
          15.48,
          15.18,
          15.2,
          15.15,
          15.12,
          15.61,
          15.75,
          15.9,
          16.22,
          16.25,
          16.35,
          16.21,
          16.37,
          16.54,
          16.37,
          16.24,
          16.08,
          16.01,
          16.1,
          16.25,
          16.32,
          15.9,
          15.62,
          15.72,
          15.96,
          15.76,
          15.74,
          16.16,
          16.12,
          15.79,
          15.87,
          15.9,
          15.94,
          15.85,
          15.96,
          15.91,
          15.61,
          15.64,
          15.72,
          15.61,
          15.4,
          15.26,
          15.27,
          15.4,
          15.38,
          15.25,
          15.43,
          15.34,
          15.45,
          15.5,
          15.53,
          15.6,
          15.74,
          15.71,
          15.59,
          15.58,
          15.5,
          15.56,
          15.43,
          15.49,
          15.68,
          15.61,
          15.56,
          15.5,
          15.57,
          15.79,
          15.92,
          16.12,
          16.33,
          16.08,
          16.09,
          16.22,
          16.43,
          16.35,
          16.36,
          16.45,
          16.3,
          16.31,
          16.58,
          16.63,
          16.56,
          16.7,
          16.43,
          16.54,
          16.58,
          16.47,
          16.47,
          16.5,
          16.74,
          16.72,
          16.96,
          17.05,
          17,
          17.36,
          17.44,
          17.36,
          17.25,
          17.37,
          17.3,
          17.22,
          17.12,
          17.35,
          17.56,
          17.45,
          17.35,
          17.35,
          16.86,
          16.85,
          17.09,
          16.89,
          16.71,
          16.34,
          16.22,
          16.45,
          16.66,
          16.9,
          16.86,
          17.49,
          17.86,
          17.89,
          18.08,
          18.02,
          18.03,
          18.08,
          17.84,
          17.5,
          17.6,
          17.92,
          18.05,
          17.86,
          17.64,
          17.71,
          17.8,
          17.77,
          17.6,
          17.86,
          17.72,
          17.02,
          17.44,
          17.54,
          17.56,
          17.65,
          17.44,
          16.72,
          16.1,
          14.6,
          15.25,
          15.34,
          16.09,
          16.2,
          16.18,
          15.46,
          15.57,
          15.87,
          15.5,
          15.9,
          15.83,
          15.81,
          15.9,
          15.9,
          16.01,
          16.09,
          15.78,
          15.5,
          15.57,
          15.45,
          15.58,
          15.4,
          15.81,
          15.38,
          15.25,
          15.32,
          15.36,
          14.63,
          15.44,
          15.57,
          15.57,
          15.51,
          15.5,
          15.43,
          15.4,
          15.55,
          15.72,
          16.03,
          15.98,
          16.1,
          15.9,
          16,
          16.25,
          16.34,
          16.3,
          16.44,
          16.97,
          16.76,
          16.87,
          16.99,
          16.96,
          17.03,
          17.76,
          17.56,
          17.56,
          17.68,
          17.35,
          17.09,
          17.01,
          17.34,
          17.43,
          17.62,
          17.59,
          17.46,
          17.25,
          17.41,
          17.33,
          17.42,
          17.48,
          17.55,
          17.25,
          17.38,
          17.44,
          17.13,
          16.87,
          16.96,
          16.64,
          16.5,
          16.99,
          17.23,
          17.3,
          16.76,
          16.77,
          16.85,
          17.1,
          17.22,
          16.98,
          17.16,
          17.04,
          16.83
         ],
         "open": [
          17.99,
          17.78,
          17.42,
          17.14,
          17.16,
          17.38,
          17.02,
          16.82,
          16,
          15.59,
          15.16,
          15.59,
          15.28,
          15.55,
          16.04,
          15.72,
          15.55,
          15.72,
          15.31,
          15.23,
          15.27,
          15.62,
          15.79,
          15.98,
          16.3,
          16.35,
          16.56,
          16.33,
          16.41,
          16.73,
          16.52,
          16.55,
          16.21,
          16.14,
          16.32,
          16.27,
          16.37,
          16.42,
          15.78,
          15.79,
          16.03,
          15.96,
          15.92,
          16.41,
          16.31,
          16.04,
          15.92,
          16.05,
          16.08,
          16.11,
          16.07,
          16.01,
          15.96,
          15.7,
          15.82,
          15.73,
          15.63,
          15.38,
          15.48,
          15.42,
          15.5,
          15.42,
          15.43,
          15.39,
          15.53,
          15.51,
          15.63,
          15.69,
          15.78,
          15.88,
          15.7,
          15.64,
          15.71,
          15.62,
          15.6,
          15.55,
          15.72,
          15.71,
          15.63,
          15.58,
          15.6,
          16,
          16,
          16.14,
          16.42,
          16.36,
          16.23,
          16.32,
          16.45,
          16.46,
          16.44,
          16.53,
          16.52,
          16.31,
          16.59,
          16.78,
          16.71,
          16.72,
          16.73,
          16.56,
          16.72,
          16.66,
          16.58,
          16.52,
          16.79,
          16.87,
          17.04,
          17.27,
          17.05,
          17.39,
          17.62,
          17.45,
          17.33,
          17.46,
          17.59,
          17.35,
          17.28,
          17.36,
          17.56,
          17.53,
          17.57,
          17.48,
          17.13,
          17.08,
          17.25,
          17.16,
          16.78,
          16.9,
          16.42,
          16.53,
          16.8,
          16.97,
          16.93,
          17.53,
          17.91,
          17.96,
          18.15,
          18.11,
          18.03,
          18.39,
          18.2,
          17.66,
          17.79,
          17.95,
          18.2,
          18.03,
          17.91,
          17.79,
          17.93,
          17.91,
          17.92,
          17.87,
          17.85,
          17.62,
          17.56,
          17.57,
          17.61,
          17.72,
          17.55,
          17.19,
          16.2,
          15.02,
          16.2,
          15.81,
          16.38,
          16.4,
          16.33,
          15.95,
          15.82,
          15.97,
          15.79,
          15.96,
          16.37,
          15.87,
          15.99,
          15.97,
          16.04,
          16.35,
          16.29,
          15.68,
          15.67,
          15.49,
          15.6,
          15.54,
          15.88,
          15.79,
          15.5,
          15.55,
          15.52,
          15.08,
          15.45,
          15.68,
          15.78,
          15.72,
          15.75,
          15.6,
          15.45,
          15.77,
          15.81,
          16.28,
          16,
          16.16,
          16.26,
          16,
          16.29,
          16.52,
          16.4,
          16.45,
          17.16,
          17.18,
          16.9,
          17.01,
          17.3,
          17.03,
          17.84,
          18.03,
          17.63,
          17.99,
          17.58,
          17.13,
          17.13,
          17.5,
          17.43,
          17.78,
          17.81,
          17.62,
          17.26,
          17.51,
          17.46,
          17.48,
          17.52,
          17.88,
          17.68,
          17.44,
          17.79,
          17.39,
          17.11,
          17.15,
          16.97,
          16.76,
          17.02,
          17.65,
          17.8,
          17.19,
          16.98,
          17.05,
          17.16,
          17.32,
          17.22,
          17.25,
          17.2,
          17.01
         ],
         "showlegend": false,
         "type": "candlestick",
         "x": [
          "2015-01-02",
          "2015-01-05",
          "2015-01-06",
          "2015-01-07",
          "2015-01-08",
          "2015-01-09",
          "2015-01-12",
          "2015-01-13",
          "2015-01-14",
          "2015-01-15",
          "2015-01-16",
          "2015-01-20",
          "2015-01-21",
          "2015-01-22",
          "2015-01-23",
          "2015-01-26",
          "2015-01-27",
          "2015-01-28",
          "2015-01-29",
          "2015-01-30",
          "2015-02-02",
          "2015-02-03",
          "2015-02-04",
          "2015-02-05",
          "2015-02-06",
          "2015-02-09",
          "2015-02-10",
          "2015-02-11",
          "2015-02-12",
          "2015-02-13",
          "2015-02-17",
          "2015-02-18",
          "2015-02-19",
          "2015-02-20",
          "2015-02-23",
          "2015-02-24",
          "2015-02-25",
          "2015-02-26",
          "2015-02-27",
          "2015-03-02",
          "2015-03-03",
          "2015-03-04",
          "2015-03-05",
          "2015-03-06",
          "2015-03-09",
          "2015-03-10",
          "2015-03-11",
          "2015-03-12",
          "2015-03-13",
          "2015-03-16",
          "2015-03-17",
          "2015-03-18",
          "2015-03-19",
          "2015-03-20",
          "2015-03-23",
          "2015-03-24",
          "2015-03-25",
          "2015-03-26",
          "2015-03-27",
          "2015-03-30",
          "2015-03-31",
          "2015-04-01",
          "2015-04-02",
          "2015-04-06",
          "2015-04-07",
          "2015-04-08",
          "2015-04-09",
          "2015-04-10",
          "2015-04-13",
          "2015-04-14",
          "2015-04-15",
          "2015-04-16",
          "2015-04-17",
          "2015-04-20",
          "2015-04-21",
          "2015-04-22",
          "2015-04-23",
          "2015-04-24",
          "2015-04-27",
          "2015-04-28",
          "2015-04-29",
          "2015-04-30",
          "2015-05-01",
          "2015-05-04",
          "2015-05-05",
          "2015-05-06",
          "2015-05-07",
          "2015-05-08",
          "2015-05-11",
          "2015-05-12",
          "2015-05-13",
          "2015-05-14",
          "2015-05-15",
          "2015-05-18",
          "2015-05-19",
          "2015-05-20",
          "2015-05-21",
          "2015-05-22",
          "2015-05-26",
          "2015-05-27",
          "2015-05-28",
          "2015-05-29",
          "2015-06-01",
          "2015-06-02",
          "2015-06-03",
          "2015-06-04",
          "2015-06-05",
          "2015-06-08",
          "2015-06-09",
          "2015-06-10",
          "2015-06-11",
          "2015-06-12",
          "2015-06-15",
          "2015-06-16",
          "2015-06-17",
          "2015-06-18",
          "2015-06-19",
          "2015-06-22",
          "2015-06-23",
          "2015-06-24",
          "2015-06-25",
          "2015-06-26",
          "2015-06-29",
          "2015-06-30",
          "2015-07-01",
          "2015-07-02",
          "2015-07-06",
          "2015-07-07",
          "2015-07-08",
          "2015-07-09",
          "2015-07-10",
          "2015-07-13",
          "2015-07-14",
          "2015-07-15",
          "2015-07-16",
          "2015-07-17",
          "2015-07-20",
          "2015-07-21",
          "2015-07-22",
          "2015-07-23",
          "2015-07-24",
          "2015-07-27",
          "2015-07-28",
          "2015-07-29",
          "2015-07-30",
          "2015-07-31",
          "2015-08-03",
          "2015-08-04",
          "2015-08-05",
          "2015-08-06",
          "2015-08-07",
          "2015-08-10",
          "2015-08-11",
          "2015-08-12",
          "2015-08-13",
          "2015-08-14",
          "2015-08-17",
          "2015-08-18",
          "2015-08-19",
          "2015-08-20",
          "2015-08-21",
          "2015-08-24",
          "2015-08-25",
          "2015-08-26",
          "2015-08-27",
          "2015-08-28",
          "2015-08-31",
          "2015-09-01",
          "2015-09-02",
          "2015-09-03",
          "2015-09-04",
          "2015-09-08",
          "2015-09-09",
          "2015-09-10",
          "2015-09-11",
          "2015-09-14",
          "2015-09-15",
          "2015-09-16",
          "2015-09-17",
          "2015-09-18",
          "2015-09-21",
          "2015-09-22",
          "2015-09-23",
          "2015-09-24",
          "2015-09-25",
          "2015-09-28",
          "2015-09-29",
          "2015-09-30",
          "2015-10-01",
          "2015-10-02",
          "2015-10-05",
          "2015-10-06",
          "2015-10-07",
          "2015-10-08",
          "2015-10-09",
          "2015-10-12",
          "2015-10-13",
          "2015-10-14",
          "2015-10-15",
          "2015-10-16",
          "2015-10-19",
          "2015-10-20",
          "2015-10-21",
          "2015-10-22",
          "2015-10-23",
          "2015-10-26",
          "2015-10-27",
          "2015-10-28",
          "2015-10-29",
          "2015-10-30",
          "2015-11-02",
          "2015-11-03",
          "2015-11-04",
          "2015-11-05",
          "2015-11-06",
          "2015-11-09",
          "2015-11-10",
          "2015-11-11",
          "2015-11-12",
          "2015-11-13",
          "2015-11-16",
          "2015-11-17",
          "2015-11-18",
          "2015-11-19",
          "2015-11-20",
          "2015-11-23",
          "2015-11-24",
          "2015-11-25",
          "2015-11-27",
          "2015-11-30",
          "2015-12-01",
          "2015-12-02",
          "2015-12-03",
          "2015-12-04",
          "2015-12-07",
          "2015-12-08",
          "2015-12-09",
          "2015-12-10",
          "2015-12-11",
          "2015-12-14",
          "2015-12-15",
          "2015-12-16",
          "2015-12-17",
          "2015-12-18",
          "2015-12-21",
          "2015-12-22",
          "2015-12-23",
          "2015-12-24",
          "2015-12-28",
          "2015-12-29",
          "2015-12-30",
          "2015-12-31"
         ],
         "yaxis": "y2"
        }
       ],
       "layout": {
        "legend": {
         "bgcolor": "#F5F6F9",
         "font": {
          "color": "#4D5663"
         }
        },
        "paper_bgcolor": "#F5F6F9",
        "plot_bgcolor": "#F5F6F9",
        "template": {
         "data": {
          "bar": [
           {
            "error_x": {
             "color": "#2a3f5f"
            },
            "error_y": {
             "color": "#2a3f5f"
            },
            "marker": {
             "line": {
              "color": "#E5ECF6",
              "width": 0.5
             }
            },
            "type": "bar"
           }
          ],
          "barpolar": [
           {
            "marker": {
             "line": {
              "color": "#E5ECF6",
              "width": 0.5
             }
            },
            "type": "barpolar"
           }
          ],
          "carpet": [
           {
            "aaxis": {
             "endlinecolor": "#2a3f5f",
             "gridcolor": "white",
             "linecolor": "white",
             "minorgridcolor": "white",
             "startlinecolor": "#2a3f5f"
            },
            "baxis": {
             "endlinecolor": "#2a3f5f",
             "gridcolor": "white",
             "linecolor": "white",
             "minorgridcolor": "white",
             "startlinecolor": "#2a3f5f"
            },
            "type": "carpet"
           }
          ],
          "choropleth": [
           {
            "colorbar": {
             "outlinewidth": 0,
             "ticks": ""
            },
            "type": "choropleth"
           }
          ],
          "contour": [
           {
            "colorbar": {
             "outlinewidth": 0,
             "ticks": ""
            },
            "colorscale": [
             [
              0,
              "#0d0887"
             ],
             [
              0.1111111111111111,
              "#46039f"
             ],
             [
              0.2222222222222222,
              "#7201a8"
             ],
             [
              0.3333333333333333,
              "#9c179e"
             ],
             [
              0.4444444444444444,
              "#bd3786"
             ],
             [
              0.5555555555555556,
              "#d8576b"
             ],
             [
              0.6666666666666666,
              "#ed7953"
             ],
             [
              0.7777777777777778,
              "#fb9f3a"
             ],
             [
              0.8888888888888888,
              "#fdca26"
             ],
             [
              1,
              "#f0f921"
             ]
            ],
            "type": "contour"
           }
          ],
          "contourcarpet": [
           {
            "colorbar": {
             "outlinewidth": 0,
             "ticks": ""
            },
            "type": "contourcarpet"
           }
          ],
          "heatmap": [
           {
            "colorbar": {
             "outlinewidth": 0,
             "ticks": ""
            },
            "colorscale": [
             [
              0,
              "#0d0887"
             ],
             [
              0.1111111111111111,
              "#46039f"
             ],
             [
              0.2222222222222222,
              "#7201a8"
             ],
             [
              0.3333333333333333,
              "#9c179e"
             ],
             [
              0.4444444444444444,
              "#bd3786"
             ],
             [
              0.5555555555555556,
              "#d8576b"
             ],
             [
              0.6666666666666666,
              "#ed7953"
             ],
             [
              0.7777777777777778,
              "#fb9f3a"
             ],
             [
              0.8888888888888888,
              "#fdca26"
             ],
             [
              1,
              "#f0f921"
             ]
            ],
            "type": "heatmap"
           }
          ],
          "heatmapgl": [
           {
            "colorbar": {
             "outlinewidth": 0,
             "ticks": ""
            },
            "colorscale": [
             [
              0,
              "#0d0887"
             ],
             [
              0.1111111111111111,
              "#46039f"
             ],
             [
              0.2222222222222222,
              "#7201a8"
             ],
             [
              0.3333333333333333,
              "#9c179e"
             ],
             [
              0.4444444444444444,
              "#bd3786"
             ],
             [
              0.5555555555555556,
              "#d8576b"
             ],
             [
              0.6666666666666666,
              "#ed7953"
             ],
             [
              0.7777777777777778,
              "#fb9f3a"
             ],
             [
              0.8888888888888888,
              "#fdca26"
             ],
             [
              1,
              "#f0f921"
             ]
            ],
            "type": "heatmapgl"
           }
          ],
          "histogram": [
           {
            "marker": {
             "colorbar": {
              "outlinewidth": 0,
              "ticks": ""
             }
            },
            "type": "histogram"
           }
          ],
          "histogram2d": [
           {
            "colorbar": {
             "outlinewidth": 0,
             "ticks": ""
            },
            "colorscale": [
             [
              0,
              "#0d0887"
             ],
             [
              0.1111111111111111,
              "#46039f"
             ],
             [
              0.2222222222222222,
              "#7201a8"
             ],
             [
              0.3333333333333333,
              "#9c179e"
             ],
             [
              0.4444444444444444,
              "#bd3786"
             ],
             [
              0.5555555555555556,
              "#d8576b"
             ],
             [
              0.6666666666666666,
              "#ed7953"
             ],
             [
              0.7777777777777778,
              "#fb9f3a"
             ],
             [
              0.8888888888888888,
              "#fdca26"
             ],
             [
              1,
              "#f0f921"
             ]
            ],
            "type": "histogram2d"
           }
          ],
          "histogram2dcontour": [
           {
            "colorbar": {
             "outlinewidth": 0,
             "ticks": ""
            },
            "colorscale": [
             [
              0,
              "#0d0887"
             ],
             [
              0.1111111111111111,
              "#46039f"
             ],
             [
              0.2222222222222222,
              "#7201a8"
             ],
             [
              0.3333333333333333,
              "#9c179e"
             ],
             [
              0.4444444444444444,
              "#bd3786"
             ],
             [
              0.5555555555555556,
              "#d8576b"
             ],
             [
              0.6666666666666666,
              "#ed7953"
             ],
             [
              0.7777777777777778,
              "#fb9f3a"
             ],
             [
              0.8888888888888888,
              "#fdca26"
             ],
             [
              1,
              "#f0f921"
             ]
            ],
            "type": "histogram2dcontour"
           }
          ],
          "mesh3d": [
           {
            "colorbar": {
             "outlinewidth": 0,
             "ticks": ""
            },
            "type": "mesh3d"
           }
          ],
          "parcoords": [
           {
            "line": {
             "colorbar": {
              "outlinewidth": 0,
              "ticks": ""
             }
            },
            "type": "parcoords"
           }
          ],
          "pie": [
           {
            "automargin": true,
            "type": "pie"
           }
          ],
          "scatter": [
           {
            "marker": {
             "colorbar": {
              "outlinewidth": 0,
              "ticks": ""
             }
            },
            "type": "scatter"
           }
          ],
          "scatter3d": [
           {
            "line": {
             "colorbar": {
              "outlinewidth": 0,
              "ticks": ""
             }
            },
            "marker": {
             "colorbar": {
              "outlinewidth": 0,
              "ticks": ""
             }
            },
            "type": "scatter3d"
           }
          ],
          "scattercarpet": [
           {
            "marker": {
             "colorbar": {
              "outlinewidth": 0,
              "ticks": ""
             }
            },
            "type": "scattercarpet"
           }
          ],
          "scattergeo": [
           {
            "marker": {
             "colorbar": {
              "outlinewidth": 0,
              "ticks": ""
             }
            },
            "type": "scattergeo"
           }
          ],
          "scattergl": [
           {
            "marker": {
             "colorbar": {
              "outlinewidth": 0,
              "ticks": ""
             }
            },
            "type": "scattergl"
           }
          ],
          "scattermapbox": [
           {
            "marker": {
             "colorbar": {
              "outlinewidth": 0,
              "ticks": ""
             }
            },
            "type": "scattermapbox"
           }
          ],
          "scatterpolar": [
           {
            "marker": {
             "colorbar": {
              "outlinewidth": 0,
              "ticks": ""
             }
            },
            "type": "scatterpolar"
           }
          ],
          "scatterpolargl": [
           {
            "marker": {
             "colorbar": {
              "outlinewidth": 0,
              "ticks": ""
             }
            },
            "type": "scatterpolargl"
           }
          ],
          "scatterternary": [
           {
            "marker": {
             "colorbar": {
              "outlinewidth": 0,
              "ticks": ""
             }
            },
            "type": "scatterternary"
           }
          ],
          "surface": [
           {
            "colorbar": {
             "outlinewidth": 0,
             "ticks": ""
            },
            "colorscale": [
             [
              0,
              "#0d0887"
             ],
             [
              0.1111111111111111,
              "#46039f"
             ],
             [
              0.2222222222222222,
              "#7201a8"
             ],
             [
              0.3333333333333333,
              "#9c179e"
             ],
             [
              0.4444444444444444,
              "#bd3786"
             ],
             [
              0.5555555555555556,
              "#d8576b"
             ],
             [
              0.6666666666666666,
              "#ed7953"
             ],
             [
              0.7777777777777778,
              "#fb9f3a"
             ],
             [
              0.8888888888888888,
              "#fdca26"
             ],
             [
              1,
              "#f0f921"
             ]
            ],
            "type": "surface"
           }
          ],
          "table": [
           {
            "cells": {
             "fill": {
              "color": "#EBF0F8"
             },
             "line": {
              "color": "white"
             }
            },
            "header": {
             "fill": {
              "color": "#C8D4E3"
             },
             "line": {
              "color": "white"
             }
            },
            "type": "table"
           }
          ]
         },
         "layout": {
          "annotationdefaults": {
           "arrowcolor": "#2a3f5f",
           "arrowhead": 0,
           "arrowwidth": 1
          },
          "coloraxis": {
           "colorbar": {
            "outlinewidth": 0,
            "ticks": ""
           }
          },
          "colorscale": {
           "diverging": [
            [
             0,
             "#8e0152"
            ],
            [
             0.1,
             "#c51b7d"
            ],
            [
             0.2,
             "#de77ae"
            ],
            [
             0.3,
             "#f1b6da"
            ],
            [
             0.4,
             "#fde0ef"
            ],
            [
             0.5,
             "#f7f7f7"
            ],
            [
             0.6,
             "#e6f5d0"
            ],
            [
             0.7,
             "#b8e186"
            ],
            [
             0.8,
             "#7fbc41"
            ],
            [
             0.9,
             "#4d9221"
            ],
            [
             1,
             "#276419"
            ]
           ],
           "sequential": [
            [
             0,
             "#0d0887"
            ],
            [
             0.1111111111111111,
             "#46039f"
            ],
            [
             0.2222222222222222,
             "#7201a8"
            ],
            [
             0.3333333333333333,
             "#9c179e"
            ],
            [
             0.4444444444444444,
             "#bd3786"
            ],
            [
             0.5555555555555556,
             "#d8576b"
            ],
            [
             0.6666666666666666,
             "#ed7953"
            ],
            [
             0.7777777777777778,
             "#fb9f3a"
            ],
            [
             0.8888888888888888,
             "#fdca26"
            ],
            [
             1,
             "#f0f921"
            ]
           ],
           "sequentialminus": [
            [
             0,
             "#0d0887"
            ],
            [
             0.1111111111111111,
             "#46039f"
            ],
            [
             0.2222222222222222,
             "#7201a8"
            ],
            [
             0.3333333333333333,
             "#9c179e"
            ],
            [
             0.4444444444444444,
             "#bd3786"
            ],
            [
             0.5555555555555556,
             "#d8576b"
            ],
            [
             0.6666666666666666,
             "#ed7953"
            ],
            [
             0.7777777777777778,
             "#fb9f3a"
            ],
            [
             0.8888888888888888,
             "#fdca26"
            ],
            [
             1,
             "#f0f921"
            ]
           ]
          },
          "colorway": [
           "#636efa",
           "#EF553B",
           "#00cc96",
           "#ab63fa",
           "#FFA15A",
           "#19d3f3",
           "#FF6692",
           "#B6E880",
           "#FF97FF",
           "#FECB52"
          ],
          "font": {
           "color": "#2a3f5f"
          },
          "geo": {
           "bgcolor": "white",
           "lakecolor": "white",
           "landcolor": "#E5ECF6",
           "showlakes": true,
           "showland": true,
           "subunitcolor": "white"
          },
          "hoverlabel": {
           "align": "left"
          },
          "hovermode": "closest",
          "mapbox": {
           "style": "light"
          },
          "paper_bgcolor": "white",
          "plot_bgcolor": "#E5ECF6",
          "polar": {
           "angularaxis": {
            "gridcolor": "white",
            "linecolor": "white",
            "ticks": ""
           },
           "bgcolor": "#E5ECF6",
           "radialaxis": {
            "gridcolor": "white",
            "linecolor": "white",
            "ticks": ""
           }
          },
          "scene": {
           "xaxis": {
            "backgroundcolor": "#E5ECF6",
            "gridcolor": "white",
            "gridwidth": 2,
            "linecolor": "white",
            "showbackground": true,
            "ticks": "",
            "zerolinecolor": "white"
           },
           "yaxis": {
            "backgroundcolor": "#E5ECF6",
            "gridcolor": "white",
            "gridwidth": 2,
            "linecolor": "white",
            "showbackground": true,
            "ticks": "",
            "zerolinecolor": "white"
           },
           "zaxis": {
            "backgroundcolor": "#E5ECF6",
            "gridcolor": "white",
            "gridwidth": 2,
            "linecolor": "white",
            "showbackground": true,
            "ticks": "",
            "zerolinecolor": "white"
           }
          },
          "shapedefaults": {
           "line": {
            "color": "#2a3f5f"
           }
          },
          "ternary": {
           "aaxis": {
            "gridcolor": "white",
            "linecolor": "white",
            "ticks": ""
           },
           "baxis": {
            "gridcolor": "white",
            "linecolor": "white",
            "ticks": ""
           },
           "bgcolor": "#E5ECF6",
           "caxis": {
            "gridcolor": "white",
            "linecolor": "white",
            "ticks": ""
           }
          },
          "title": {
           "x": 0.05
          },
          "xaxis": {
           "automargin": true,
           "gridcolor": "white",
           "linecolor": "white",
           "ticks": "",
           "title": {
            "standoff": 15
           },
           "zerolinecolor": "white",
           "zerolinewidth": 2
          },
          "yaxis": {
           "automargin": true,
           "gridcolor": "white",
           "linecolor": "white",
           "ticks": "",
           "title": {
            "standoff": 15
           },
           "zerolinecolor": "white",
           "zerolinewidth": 2
          }
         }
        },
        "title": {
         "font": {
          "color": "#4D5663"
         }
        },
        "xaxis": {
         "gridcolor": "#E1E5ED",
         "rangeslider": {
          "visible": false
         },
         "showgrid": true,
         "tickfont": {
          "color": "#4D5663"
         },
         "title": {
          "font": {
           "color": "#4D5663"
          },
          "text": ""
         },
         "zerolinecolor": "#E1E5ED"
        },
        "yaxis": {
         "gridcolor": "#E1E5ED",
         "showgrid": true,
         "showticklabels": false,
         "tickfont": {
          "color": "#4D5663"
         },
         "title": {
          "font": {
           "color": "#4D5663"
          },
          "text": ""
         },
         "zerolinecolor": "#E1E5ED"
        },
        "yaxis2": {
         "gridcolor": "#E1E5ED",
         "showgrid": true,
         "tickfont": {
          "color": "#4D5663"
         },
         "title": {
          "font": {
           "color": "#4D5663"
          },
          "text": ""
         },
         "zerolinecolor": "#E1E5ED"
        }
       }
      },
      "text/html": [
       "<div>\n",
       "        \n",
       "        \n",
       "            <div id=\"cd542bff-2d51-4979-97b8-8a87fec3ccfe\" class=\"plotly-graph-div\" style=\"height:525px; width:100%;\"></div>\n",
       "            <script type=\"text/javascript\">\n",
       "                require([\"plotly\"], function(Plotly) {\n",
       "                    window.PLOTLYENV=window.PLOTLYENV || {};\n",
       "                    window.PLOTLYENV.BASE_URL='https://plot.ly';\n",
       "                    \n",
       "                if (document.getElementById(\"cd542bff-2d51-4979-97b8-8a87fec3ccfe\")) {\n",
       "                    Plotly.newPlot(\n",
       "                        'cd542bff-2d51-4979-97b8-8a87fec3ccfe',\n",
       "                        [{\"close\": [17.9, 17.38, 16.86, 16.94, 17.29, 16.98, 16.68, 16.45, 16.04, 15.2, 15.38, 15.26, 15.41, 16.09, 15.73, 15.85, 15.63, 15.2, 15.43, 15.15, 15.46, 15.89, 15.79, 15.97, 16.49, 16.35, 16.42, 16.36, 16.67, 16.61, 16.63, 16.3, 16.21, 16.38, 16.2, 16.38, 16.49, 16.04, 15.81, 16.01, 16.04, 15.84, 16.0, 16.22, 16.17, 15.79, 16.11, 16.09, 16.09, 16.13, 16.09, 15.98, 15.61, 15.84, 15.72, 15.61, 15.41, 15.42, 15.31, 15.52, 15.39, 15.41, 15.54, 15.51, 15.46, 15.61, 15.71, 15.72, 15.8, 15.82, 15.64, 15.79, 15.56, 15.57, 15.5, 15.74, 15.69, 15.64, 15.56, 15.65, 15.98, 15.93, 16.11, 16.44, 16.35, 16.29, 16.24, 16.45, 16.49, 16.43, 16.47, 16.52, 16.35, 16.51, 16.77, 16.74, 16.73, 16.75, 16.5, 16.74, 16.67, 16.5, 16.55, 16.72, 16.93, 16.78, 17.19, 17.08, 17.31, 17.59, 17.49, 17.49, 17.47, 17.55, 17.37, 17.38, 17.17, 17.47, 17.67, 17.49, 17.37, 17.41, 16.89, 17.02, 17.22, 17.03, 16.94, 16.69, 16.25, 16.48, 16.7, 17.02, 17.13, 17.68, 17.95, 18.1, 18.12, 18.08, 18.45, 18.18, 17.9, 17.67, 17.88, 18.16, 18.13, 17.88, 17.77, 17.8, 17.87, 17.81, 17.75, 18.04, 17.79, 17.52, 17.62, 17.7, 17.77, 17.69, 17.46, 16.72, 16.1, 15.29, 15.26, 16.06, 16.44, 16.36, 16.34, 15.58, 15.85, 15.94, 15.65, 16.16, 15.9, 16.04, 16.04, 15.96, 16.31, 16.33, 15.86, 15.56, 15.7, 15.57, 15.72, 15.55, 15.89, 15.47, 15.35, 15.58, 15.55, 15.38, 15.69, 15.69, 15.75, 15.75, 15.58, 15.52, 15.52, 15.64, 16.19, 16.12, 16.14, 16.2, 15.9, 16.16, 16.52, 16.51, 16.4, 17.28, 17.09, 16.78, 17.06, 17.18, 17.01, 17.31, 17.95, 17.68, 17.85, 17.75, 17.37, 17.2, 17.43, 17.42, 17.84, 17.69, 17.65, 17.47, 17.47, 17.44, 17.48, 17.43, 17.81, 17.62, 17.3, 17.8, 17.54, 17.19, 17.1, 17.2, 16.73, 16.8, 17.42, 17.75, 17.3, 16.76, 16.97, 17.08, 17.34, 17.27, 17.13, 17.28, 17.05, 16.83], \"high\": [18.03, 17.81, 17.44, 17.18, 17.34, 17.38, 17.03, 16.89, 16.22, 15.76, 15.4, 15.63, 15.57, 16.19, 16.19, 15.93, 15.79, 15.73, 15.49, 15.47, 15.49, 15.93, 16.0, 16.09, 16.75, 16.5, 16.62, 16.45, 16.73, 16.79, 16.68, 16.56, 16.38, 16.43, 16.32, 16.55, 16.5, 16.44, 15.88, 16.03, 16.15, 15.98, 16.03, 16.62, 16.33, 16.13, 16.16, 16.21, 16.15, 16.22, 16.12, 16.1, 15.97, 15.93, 15.88, 15.8, 15.65, 15.54, 15.49, 15.61, 15.52, 15.46, 15.62, 15.6, 15.65, 15.74, 15.76, 15.79, 15.86, 15.95, 15.85, 15.94, 15.75, 15.69, 15.64, 15.83, 15.8, 15.75, 15.76, 15.71, 16.04, 16.05, 16.15, 16.45, 16.61, 16.49, 16.33, 16.46, 16.59, 16.48, 16.52, 16.59, 16.52, 16.54, 16.78, 16.85, 16.75, 16.8, 16.73, 16.75, 16.73, 16.67, 16.64, 16.76, 17.02, 16.98, 17.35, 17.33, 17.35, 17.62, 17.68, 17.58, 17.5, 17.56, 17.6, 17.4, 17.39, 17.53, 17.72, 17.69, 17.62, 17.52, 17.25, 17.13, 17.31, 17.21, 17.01, 16.93, 16.5, 16.72, 16.84, 17.05, 17.15, 17.85, 18.07, 18.16, 18.23, 18.17, 18.48, 18.43, 18.23, 17.78, 17.89, 18.2, 18.29, 18.06, 17.96, 17.93, 18.04, 17.98, 18.07, 18.05, 17.97, 17.64, 17.69, 17.7, 17.81, 17.9, 17.69, 17.2, 16.66, 15.98, 16.2, 16.06, 16.45, 16.44, 16.38, 16.05, 15.86, 16.19, 15.86, 16.16, 16.46, 16.11, 16.06, 16.07, 16.39, 16.39, 16.48, 15.71, 15.75, 15.58, 15.85, 15.62, 16.02, 15.82, 15.53, 15.6, 15.64, 15.38, 15.79, 15.82, 15.93, 15.78, 15.82, 15.62, 15.59, 15.92, 16.28, 16.29, 16.21, 16.29, 16.29, 16.2, 16.55, 16.55, 16.47, 17.31, 17.44, 17.18, 17.14, 17.26, 17.31, 17.37, 18.09, 18.08, 17.94, 17.99, 17.63, 17.31, 17.46, 17.6, 17.87, 17.85, 17.83, 17.73, 17.57, 17.57, 17.5, 17.58, 17.81, 17.89, 17.76, 17.83, 17.8, 17.46, 17.38, 17.41, 17.06, 16.89, 17.49, 17.78, 17.83, 17.26, 17.03, 17.11, 17.34, 17.38, 17.23, 17.35, 17.24, 17.07], \"low\": [17.68, 17.29, 16.78, 16.87, 17.1, 16.95, 16.66, 16.32, 15.77, 15.15, 14.97, 15.2, 15.15, 15.43, 15.73, 15.7, 15.48, 15.18, 15.2, 15.15, 15.12, 15.61, 15.75, 15.9, 16.22, 16.25, 16.35, 16.21, 16.37, 16.54, 16.37, 16.24, 16.08, 16.01, 16.1, 16.25, 16.32, 15.9, 15.62, 15.72, 15.96, 15.76, 15.74, 16.16, 16.12, 15.79, 15.87, 15.9, 15.94, 15.85, 15.96, 15.91, 15.61, 15.64, 15.72, 15.61, 15.4, 15.26, 15.27, 15.4, 15.38, 15.25, 15.43, 15.34, 15.45, 15.5, 15.53, 15.6, 15.74, 15.71, 15.59, 15.58, 15.5, 15.56, 15.43, 15.49, 15.68, 15.61, 15.56, 15.5, 15.57, 15.79, 15.92, 16.12, 16.33, 16.08, 16.09, 16.22, 16.43, 16.35, 16.36, 16.45, 16.3, 16.31, 16.58, 16.63, 16.56, 16.7, 16.43, 16.54, 16.58, 16.47, 16.47, 16.5, 16.74, 16.72, 16.96, 17.05, 17.0, 17.36, 17.44, 17.36, 17.25, 17.37, 17.3, 17.22, 17.12, 17.35, 17.56, 17.45, 17.35, 17.35, 16.86, 16.85, 17.09, 16.89, 16.71, 16.34, 16.22, 16.45, 16.66, 16.9, 16.86, 17.49, 17.86, 17.89, 18.08, 18.02, 18.03, 18.08, 17.84, 17.5, 17.6, 17.92, 18.05, 17.86, 17.64, 17.71, 17.8, 17.77, 17.6, 17.86, 17.72, 17.02, 17.44, 17.54, 17.56, 17.65, 17.44, 16.72, 16.1, 14.6, 15.25, 15.34, 16.09, 16.2, 16.18, 15.46, 15.57, 15.87, 15.5, 15.9, 15.83, 15.81, 15.9, 15.9, 16.01, 16.09, 15.78, 15.5, 15.57, 15.45, 15.58, 15.4, 15.81, 15.38, 15.25, 15.32, 15.36, 14.63, 15.44, 15.57, 15.57, 15.51, 15.5, 15.43, 15.4, 15.55, 15.72, 16.03, 15.98, 16.1, 15.9, 16.0, 16.25, 16.34, 16.3, 16.44, 16.97, 16.76, 16.87, 16.99, 16.96, 17.03, 17.76, 17.56, 17.56, 17.68, 17.35, 17.09, 17.01, 17.34, 17.43, 17.62, 17.59, 17.46, 17.25, 17.41, 17.33, 17.42, 17.48, 17.55, 17.25, 17.38, 17.44, 17.13, 16.87, 16.96, 16.64, 16.5, 16.99, 17.23, 17.3, 16.76, 16.77, 16.85, 17.1, 17.22, 16.98, 17.16, 17.04, 16.83], \"open\": [17.99, 17.78, 17.42, 17.14, 17.16, 17.38, 17.02, 16.82, 16.0, 15.59, 15.16, 15.59, 15.28, 15.55, 16.04, 15.72, 15.55, 15.72, 15.31, 15.23, 15.27, 15.62, 15.79, 15.98, 16.3, 16.35, 16.56, 16.33, 16.41, 16.73, 16.52, 16.55, 16.21, 16.14, 16.32, 16.27, 16.37, 16.42, 15.78, 15.79, 16.03, 15.96, 15.92, 16.41, 16.31, 16.04, 15.92, 16.05, 16.08, 16.11, 16.07, 16.01, 15.96, 15.7, 15.82, 15.73, 15.63, 15.38, 15.48, 15.42, 15.5, 15.42, 15.43, 15.39, 15.53, 15.51, 15.63, 15.69, 15.78, 15.88, 15.7, 15.64, 15.71, 15.62, 15.6, 15.55, 15.72, 15.71, 15.63, 15.58, 15.6, 16.0, 16.0, 16.14, 16.42, 16.36, 16.23, 16.32, 16.45, 16.46, 16.44, 16.53, 16.52, 16.31, 16.59, 16.78, 16.71, 16.72, 16.73, 16.56, 16.72, 16.66, 16.58, 16.52, 16.79, 16.87, 17.04, 17.27, 17.05, 17.39, 17.62, 17.45, 17.33, 17.46, 17.59, 17.35, 17.28, 17.36, 17.56, 17.53, 17.57, 17.48, 17.13, 17.08, 17.25, 17.16, 16.78, 16.9, 16.42, 16.53, 16.8, 16.97, 16.93, 17.53, 17.91, 17.96, 18.15, 18.11, 18.03, 18.39, 18.2, 17.66, 17.79, 17.95, 18.2, 18.03, 17.91, 17.79, 17.93, 17.91, 17.92, 17.87, 17.85, 17.62, 17.56, 17.57, 17.61, 17.72, 17.55, 17.19, 16.2, 15.02, 16.2, 15.81, 16.38, 16.4, 16.33, 15.95, 15.82, 15.97, 15.79, 15.96, 16.37, 15.87, 15.99, 15.97, 16.04, 16.35, 16.29, 15.68, 15.67, 15.49, 15.6, 15.54, 15.88, 15.79, 15.5, 15.55, 15.52, 15.08, 15.45, 15.68, 15.78, 15.72, 15.75, 15.6, 15.45, 15.77, 15.81, 16.28, 16.0, 16.16, 16.26, 16.0, 16.29, 16.52, 16.4, 16.45, 17.16, 17.18, 16.9, 17.01, 17.3, 17.03, 17.84, 18.03, 17.63, 17.99, 17.58, 17.13, 17.13, 17.5, 17.43, 17.78, 17.81, 17.62, 17.26, 17.51, 17.46, 17.48, 17.52, 17.88, 17.68, 17.44, 17.79, 17.39, 17.11, 17.15, 16.97, 16.76, 17.02, 17.65, 17.8, 17.19, 16.98, 17.05, 17.16, 17.32, 17.22, 17.25, 17.2, 17.01], \"showlegend\": false, \"type\": \"candlestick\", \"x\": [\"2015-01-02\", \"2015-01-05\", \"2015-01-06\", \"2015-01-07\", \"2015-01-08\", \"2015-01-09\", \"2015-01-12\", \"2015-01-13\", \"2015-01-14\", \"2015-01-15\", \"2015-01-16\", \"2015-01-20\", \"2015-01-21\", \"2015-01-22\", \"2015-01-23\", \"2015-01-26\", \"2015-01-27\", \"2015-01-28\", \"2015-01-29\", \"2015-01-30\", \"2015-02-02\", \"2015-02-03\", \"2015-02-04\", \"2015-02-05\", \"2015-02-06\", \"2015-02-09\", \"2015-02-10\", \"2015-02-11\", \"2015-02-12\", \"2015-02-13\", \"2015-02-17\", \"2015-02-18\", \"2015-02-19\", \"2015-02-20\", \"2015-02-23\", \"2015-02-24\", \"2015-02-25\", \"2015-02-26\", \"2015-02-27\", \"2015-03-02\", \"2015-03-03\", \"2015-03-04\", \"2015-03-05\", \"2015-03-06\", \"2015-03-09\", \"2015-03-10\", \"2015-03-11\", \"2015-03-12\", \"2015-03-13\", \"2015-03-16\", \"2015-03-17\", \"2015-03-18\", \"2015-03-19\", \"2015-03-20\", \"2015-03-23\", \"2015-03-24\", \"2015-03-25\", \"2015-03-26\", \"2015-03-27\", \"2015-03-30\", \"2015-03-31\", \"2015-04-01\", \"2015-04-02\", \"2015-04-06\", \"2015-04-07\", \"2015-04-08\", \"2015-04-09\", \"2015-04-10\", \"2015-04-13\", \"2015-04-14\", \"2015-04-15\", \"2015-04-16\", \"2015-04-17\", \"2015-04-20\", \"2015-04-21\", \"2015-04-22\", \"2015-04-23\", \"2015-04-24\", \"2015-04-27\", \"2015-04-28\", \"2015-04-29\", \"2015-04-30\", \"2015-05-01\", \"2015-05-04\", \"2015-05-05\", \"2015-05-06\", \"2015-05-07\", \"2015-05-08\", \"2015-05-11\", \"2015-05-12\", \"2015-05-13\", \"2015-05-14\", \"2015-05-15\", \"2015-05-18\", \"2015-05-19\", \"2015-05-20\", \"2015-05-21\", \"2015-05-22\", \"2015-05-26\", \"2015-05-27\", \"2015-05-28\", \"2015-05-29\", \"2015-06-01\", \"2015-06-02\", \"2015-06-03\", \"2015-06-04\", \"2015-06-05\", \"2015-06-08\", \"2015-06-09\", \"2015-06-10\", \"2015-06-11\", \"2015-06-12\", \"2015-06-15\", \"2015-06-16\", \"2015-06-17\", \"2015-06-18\", \"2015-06-19\", \"2015-06-22\", \"2015-06-23\", \"2015-06-24\", \"2015-06-25\", \"2015-06-26\", \"2015-06-29\", \"2015-06-30\", \"2015-07-01\", \"2015-07-02\", \"2015-07-06\", \"2015-07-07\", \"2015-07-08\", \"2015-07-09\", \"2015-07-10\", \"2015-07-13\", \"2015-07-14\", \"2015-07-15\", \"2015-07-16\", \"2015-07-17\", \"2015-07-20\", \"2015-07-21\", \"2015-07-22\", \"2015-07-23\", \"2015-07-24\", \"2015-07-27\", \"2015-07-28\", \"2015-07-29\", \"2015-07-30\", \"2015-07-31\", \"2015-08-03\", \"2015-08-04\", \"2015-08-05\", \"2015-08-06\", \"2015-08-07\", \"2015-08-10\", \"2015-08-11\", \"2015-08-12\", \"2015-08-13\", \"2015-08-14\", \"2015-08-17\", \"2015-08-18\", \"2015-08-19\", \"2015-08-20\", \"2015-08-21\", \"2015-08-24\", \"2015-08-25\", \"2015-08-26\", \"2015-08-27\", \"2015-08-28\", \"2015-08-31\", \"2015-09-01\", \"2015-09-02\", \"2015-09-03\", \"2015-09-04\", \"2015-09-08\", \"2015-09-09\", \"2015-09-10\", \"2015-09-11\", \"2015-09-14\", \"2015-09-15\", \"2015-09-16\", \"2015-09-17\", \"2015-09-18\", \"2015-09-21\", \"2015-09-22\", \"2015-09-23\", \"2015-09-24\", \"2015-09-25\", \"2015-09-28\", \"2015-09-29\", \"2015-09-30\", \"2015-10-01\", \"2015-10-02\", \"2015-10-05\", \"2015-10-06\", \"2015-10-07\", \"2015-10-08\", \"2015-10-09\", \"2015-10-12\", \"2015-10-13\", \"2015-10-14\", \"2015-10-15\", \"2015-10-16\", \"2015-10-19\", \"2015-10-20\", \"2015-10-21\", \"2015-10-22\", \"2015-10-23\", \"2015-10-26\", \"2015-10-27\", \"2015-10-28\", \"2015-10-29\", \"2015-10-30\", \"2015-11-02\", \"2015-11-03\", \"2015-11-04\", \"2015-11-05\", \"2015-11-06\", \"2015-11-09\", \"2015-11-10\", \"2015-11-11\", \"2015-11-12\", \"2015-11-13\", \"2015-11-16\", \"2015-11-17\", \"2015-11-18\", \"2015-11-19\", \"2015-11-20\", \"2015-11-23\", \"2015-11-24\", \"2015-11-25\", \"2015-11-27\", \"2015-11-30\", \"2015-12-01\", \"2015-12-02\", \"2015-12-03\", \"2015-12-04\", \"2015-12-07\", \"2015-12-08\", \"2015-12-09\", \"2015-12-10\", \"2015-12-11\", \"2015-12-14\", \"2015-12-15\", \"2015-12-16\", \"2015-12-17\", \"2015-12-18\", \"2015-12-21\", \"2015-12-22\", \"2015-12-23\", \"2015-12-24\", \"2015-12-28\", \"2015-12-29\", \"2015-12-30\", \"2015-12-31\"], \"yaxis\": \"y2\"}],\n",
       "                        {\"legend\": {\"bgcolor\": \"#F5F6F9\", \"font\": {\"color\": \"#4D5663\"}}, \"paper_bgcolor\": \"#F5F6F9\", \"plot_bgcolor\": \"#F5F6F9\", \"template\": {\"data\": {\"bar\": [{\"error_x\": {\"color\": \"#2a3f5f\"}, \"error_y\": {\"color\": \"#2a3f5f\"}, \"marker\": {\"line\": {\"color\": \"#E5ECF6\", \"width\": 0.5}}, \"type\": \"bar\"}], \"barpolar\": [{\"marker\": {\"line\": {\"color\": \"#E5ECF6\", \"width\": 0.5}}, \"type\": \"barpolar\"}], \"carpet\": [{\"aaxis\": {\"endlinecolor\": \"#2a3f5f\", \"gridcolor\": \"white\", \"linecolor\": \"white\", \"minorgridcolor\": \"white\", \"startlinecolor\": \"#2a3f5f\"}, \"baxis\": {\"endlinecolor\": \"#2a3f5f\", \"gridcolor\": \"white\", \"linecolor\": \"white\", \"minorgridcolor\": \"white\", \"startlinecolor\": \"#2a3f5f\"}, \"type\": \"carpet\"}], \"choropleth\": [{\"colorbar\": {\"outlinewidth\": 0, \"ticks\": \"\"}, \"type\": \"choropleth\"}], \"contour\": [{\"colorbar\": {\"outlinewidth\": 0, \"ticks\": \"\"}, \"colorscale\": [[0.0, \"#0d0887\"], [0.1111111111111111, \"#46039f\"], [0.2222222222222222, \"#7201a8\"], [0.3333333333333333, \"#9c179e\"], [0.4444444444444444, \"#bd3786\"], [0.5555555555555556, \"#d8576b\"], [0.6666666666666666, \"#ed7953\"], [0.7777777777777778, \"#fb9f3a\"], [0.8888888888888888, \"#fdca26\"], [1.0, \"#f0f921\"]], \"type\": \"contour\"}], \"contourcarpet\": [{\"colorbar\": {\"outlinewidth\": 0, \"ticks\": \"\"}, \"type\": \"contourcarpet\"}], \"heatmap\": [{\"colorbar\": {\"outlinewidth\": 0, \"ticks\": \"\"}, \"colorscale\": [[0.0, \"#0d0887\"], [0.1111111111111111, \"#46039f\"], [0.2222222222222222, \"#7201a8\"], [0.3333333333333333, \"#9c179e\"], [0.4444444444444444, \"#bd3786\"], [0.5555555555555556, \"#d8576b\"], [0.6666666666666666, \"#ed7953\"], [0.7777777777777778, \"#fb9f3a\"], [0.8888888888888888, \"#fdca26\"], [1.0, \"#f0f921\"]], \"type\": \"heatmap\"}], \"heatmapgl\": [{\"colorbar\": {\"outlinewidth\": 0, \"ticks\": \"\"}, \"colorscale\": [[0.0, \"#0d0887\"], [0.1111111111111111, \"#46039f\"], [0.2222222222222222, \"#7201a8\"], [0.3333333333333333, \"#9c179e\"], [0.4444444444444444, \"#bd3786\"], [0.5555555555555556, \"#d8576b\"], [0.6666666666666666, \"#ed7953\"], [0.7777777777777778, \"#fb9f3a\"], [0.8888888888888888, \"#fdca26\"], [1.0, \"#f0f921\"]], \"type\": \"heatmapgl\"}], \"histogram\": [{\"marker\": {\"colorbar\": {\"outlinewidth\": 0, \"ticks\": \"\"}}, \"type\": \"histogram\"}], \"histogram2d\": [{\"colorbar\": {\"outlinewidth\": 0, \"ticks\": \"\"}, \"colorscale\": [[0.0, \"#0d0887\"], [0.1111111111111111, \"#46039f\"], [0.2222222222222222, \"#7201a8\"], [0.3333333333333333, \"#9c179e\"], [0.4444444444444444, \"#bd3786\"], [0.5555555555555556, \"#d8576b\"], [0.6666666666666666, \"#ed7953\"], [0.7777777777777778, \"#fb9f3a\"], [0.8888888888888888, \"#fdca26\"], [1.0, \"#f0f921\"]], \"type\": \"histogram2d\"}], \"histogram2dcontour\": [{\"colorbar\": {\"outlinewidth\": 0, \"ticks\": \"\"}, \"colorscale\": [[0.0, \"#0d0887\"], [0.1111111111111111, \"#46039f\"], [0.2222222222222222, \"#7201a8\"], [0.3333333333333333, \"#9c179e\"], [0.4444444444444444, \"#bd3786\"], [0.5555555555555556, \"#d8576b\"], [0.6666666666666666, \"#ed7953\"], [0.7777777777777778, \"#fb9f3a\"], [0.8888888888888888, \"#fdca26\"], [1.0, \"#f0f921\"]], \"type\": \"histogram2dcontour\"}], \"mesh3d\": [{\"colorbar\": {\"outlinewidth\": 0, \"ticks\": \"\"}, \"type\": \"mesh3d\"}], \"parcoords\": [{\"line\": {\"colorbar\": {\"outlinewidth\": 0, \"ticks\": \"\"}}, \"type\": \"parcoords\"}], \"pie\": [{\"automargin\": true, \"type\": \"pie\"}], \"scatter\": [{\"marker\": {\"colorbar\": {\"outlinewidth\": 0, \"ticks\": \"\"}}, \"type\": \"scatter\"}], \"scatter3d\": [{\"line\": {\"colorbar\": {\"outlinewidth\": 0, \"ticks\": \"\"}}, \"marker\": {\"colorbar\": {\"outlinewidth\": 0, \"ticks\": \"\"}}, \"type\": \"scatter3d\"}], \"scattercarpet\": [{\"marker\": {\"colorbar\": {\"outlinewidth\": 0, \"ticks\": \"\"}}, \"type\": \"scattercarpet\"}], \"scattergeo\": [{\"marker\": {\"colorbar\": {\"outlinewidth\": 0, \"ticks\": \"\"}}, \"type\": \"scattergeo\"}], \"scattergl\": [{\"marker\": {\"colorbar\": {\"outlinewidth\": 0, \"ticks\": \"\"}}, \"type\": \"scattergl\"}], \"scattermapbox\": [{\"marker\": {\"colorbar\": {\"outlinewidth\": 0, \"ticks\": \"\"}}, \"type\": \"scattermapbox\"}], \"scatterpolar\": [{\"marker\": {\"colorbar\": {\"outlinewidth\": 0, \"ticks\": \"\"}}, \"type\": \"scatterpolar\"}], \"scatterpolargl\": [{\"marker\": {\"colorbar\": {\"outlinewidth\": 0, \"ticks\": \"\"}}, \"type\": \"scatterpolargl\"}], \"scatterternary\": [{\"marker\": {\"colorbar\": {\"outlinewidth\": 0, \"ticks\": \"\"}}, \"type\": \"scatterternary\"}], \"surface\": [{\"colorbar\": {\"outlinewidth\": 0, \"ticks\": \"\"}, \"colorscale\": [[0.0, \"#0d0887\"], [0.1111111111111111, \"#46039f\"], [0.2222222222222222, \"#7201a8\"], [0.3333333333333333, \"#9c179e\"], [0.4444444444444444, \"#bd3786\"], [0.5555555555555556, \"#d8576b\"], [0.6666666666666666, \"#ed7953\"], [0.7777777777777778, \"#fb9f3a\"], [0.8888888888888888, \"#fdca26\"], [1.0, \"#f0f921\"]], \"type\": \"surface\"}], \"table\": [{\"cells\": {\"fill\": {\"color\": \"#EBF0F8\"}, \"line\": {\"color\": \"white\"}}, \"header\": {\"fill\": {\"color\": \"#C8D4E3\"}, \"line\": {\"color\": \"white\"}}, \"type\": \"table\"}]}, \"layout\": {\"annotationdefaults\": {\"arrowcolor\": \"#2a3f5f\", \"arrowhead\": 0, \"arrowwidth\": 1}, \"coloraxis\": {\"colorbar\": {\"outlinewidth\": 0, \"ticks\": \"\"}}, \"colorscale\": {\"diverging\": [[0, \"#8e0152\"], [0.1, \"#c51b7d\"], [0.2, \"#de77ae\"], [0.3, \"#f1b6da\"], [0.4, \"#fde0ef\"], [0.5, \"#f7f7f7\"], [0.6, \"#e6f5d0\"], [0.7, \"#b8e186\"], [0.8, \"#7fbc41\"], [0.9, \"#4d9221\"], [1, \"#276419\"]], \"sequential\": [[0.0, \"#0d0887\"], [0.1111111111111111, \"#46039f\"], [0.2222222222222222, \"#7201a8\"], [0.3333333333333333, \"#9c179e\"], [0.4444444444444444, \"#bd3786\"], [0.5555555555555556, \"#d8576b\"], [0.6666666666666666, \"#ed7953\"], [0.7777777777777778, \"#fb9f3a\"], [0.8888888888888888, \"#fdca26\"], [1.0, \"#f0f921\"]], \"sequentialminus\": [[0.0, \"#0d0887\"], [0.1111111111111111, \"#46039f\"], [0.2222222222222222, \"#7201a8\"], [0.3333333333333333, \"#9c179e\"], [0.4444444444444444, \"#bd3786\"], [0.5555555555555556, \"#d8576b\"], [0.6666666666666666, \"#ed7953\"], [0.7777777777777778, \"#fb9f3a\"], [0.8888888888888888, \"#fdca26\"], [1.0, \"#f0f921\"]]}, \"colorway\": [\"#636efa\", \"#EF553B\", \"#00cc96\", \"#ab63fa\", \"#FFA15A\", \"#19d3f3\", \"#FF6692\", \"#B6E880\", \"#FF97FF\", \"#FECB52\"], \"font\": {\"color\": \"#2a3f5f\"}, \"geo\": {\"bgcolor\": \"white\", \"lakecolor\": \"white\", \"landcolor\": \"#E5ECF6\", \"showlakes\": true, \"showland\": true, \"subunitcolor\": \"white\"}, \"hoverlabel\": {\"align\": \"left\"}, \"hovermode\": \"closest\", \"mapbox\": {\"style\": \"light\"}, \"paper_bgcolor\": \"white\", \"plot_bgcolor\": \"#E5ECF6\", \"polar\": {\"angularaxis\": {\"gridcolor\": \"white\", \"linecolor\": \"white\", \"ticks\": \"\"}, \"bgcolor\": \"#E5ECF6\", \"radialaxis\": {\"gridcolor\": \"white\", \"linecolor\": \"white\", \"ticks\": \"\"}}, \"scene\": {\"xaxis\": {\"backgroundcolor\": \"#E5ECF6\", \"gridcolor\": \"white\", \"gridwidth\": 2, \"linecolor\": \"white\", \"showbackground\": true, \"ticks\": \"\", \"zerolinecolor\": \"white\"}, \"yaxis\": {\"backgroundcolor\": \"#E5ECF6\", \"gridcolor\": \"white\", \"gridwidth\": 2, \"linecolor\": \"white\", \"showbackground\": true, \"ticks\": \"\", \"zerolinecolor\": \"white\"}, \"zaxis\": {\"backgroundcolor\": \"#E5ECF6\", \"gridcolor\": \"white\", \"gridwidth\": 2, \"linecolor\": \"white\", \"showbackground\": true, \"ticks\": \"\", \"zerolinecolor\": \"white\"}}, \"shapedefaults\": {\"line\": {\"color\": \"#2a3f5f\"}}, \"ternary\": {\"aaxis\": {\"gridcolor\": \"white\", \"linecolor\": \"white\", \"ticks\": \"\"}, \"baxis\": {\"gridcolor\": \"white\", \"linecolor\": \"white\", \"ticks\": \"\"}, \"bgcolor\": \"#E5ECF6\", \"caxis\": {\"gridcolor\": \"white\", \"linecolor\": \"white\", \"ticks\": \"\"}}, \"title\": {\"x\": 0.05}, \"xaxis\": {\"automargin\": true, \"gridcolor\": \"white\", \"linecolor\": \"white\", \"ticks\": \"\", \"title\": {\"standoff\": 15}, \"zerolinecolor\": \"white\", \"zerolinewidth\": 2}, \"yaxis\": {\"automargin\": true, \"gridcolor\": \"white\", \"linecolor\": \"white\", \"ticks\": \"\", \"title\": {\"standoff\": 15}, \"zerolinecolor\": \"white\", \"zerolinewidth\": 2}}}, \"title\": {\"font\": {\"color\": \"#4D5663\"}}, \"xaxis\": {\"gridcolor\": \"#E1E5ED\", \"rangeslider\": {\"visible\": false}, \"showgrid\": true, \"tickfont\": {\"color\": \"#4D5663\"}, \"title\": {\"font\": {\"color\": \"#4D5663\"}, \"text\": \"\"}, \"zerolinecolor\": \"#E1E5ED\"}, \"yaxis\": {\"gridcolor\": \"#E1E5ED\", \"showgrid\": true, \"showticklabels\": false, \"tickfont\": {\"color\": \"#4D5663\"}, \"title\": {\"font\": {\"color\": \"#4D5663\"}, \"text\": \"\"}, \"zerolinecolor\": \"#E1E5ED\"}, \"yaxis2\": {\"gridcolor\": \"#E1E5ED\", \"showgrid\": true, \"tickfont\": {\"color\": \"#4D5663\"}, \"title\": {\"font\": {\"color\": \"#4D5663\"}, \"text\": \"\"}, \"zerolinecolor\": \"#E1E5ED\"}},\n",
       "                        {\"showLink\": true, \"linkText\": \"Export to plot.ly\", \"plotlyServerURL\": \"https://plot.ly\", \"responsive\": true}\n",
       "                    ).then(function(){\n",
       "                            \n",
       "var gd = document.getElementById('cd542bff-2d51-4979-97b8-8a87fec3ccfe');\n",
       "var x = new MutationObserver(function (mutations, observer) {{\n",
       "        var display = window.getComputedStyle(gd).display;\n",
       "        if (!display || display === 'none') {{\n",
       "            console.log([gd, 'removed!']);\n",
       "            Plotly.purge(gd);\n",
       "            observer.disconnect();\n",
       "        }}\n",
       "}});\n",
       "\n",
       "// Listen for the removal of the full notebook cells\n",
       "var notebookContainer = gd.closest('#notebook-container');\n",
       "if (notebookContainer) {{\n",
       "    x.observe(notebookContainer, {childList: true});\n",
       "}}\n",
       "\n",
       "// Listen for the clearing of the current output cell\n",
       "var outputEl = gd.closest('.output');\n",
       "if (outputEl) {{\n",
       "    x.observe(outputEl, {childList: true});\n",
       "}}\n",
       "\n",
       "                        })\n",
       "                };\n",
       "                });\n",
       "            </script>\n",
       "        </div>"
      ]
     },
     "metadata": {},
     "output_type": "display_data"
    }
   ],
   "source": [
    "df['BAC']['2015-01-01':'2016-01-01'].iplot(kind='candle')"
   ]
  },
  {
   "cell_type": "markdown",
   "metadata": {},
   "source": [
    "** Use .ta_plot(study='sma') to create a Simple Moving Averages plot of Morgan Stanley for the year 2015.**"
   ]
  },
  {
   "cell_type": "code",
   "execution_count": 166,
   "metadata": {},
   "outputs": [
    {
     "ename": "NameError",
     "evalue": "name 'MS' is not defined",
     "output_type": "error",
     "traceback": [
      "\u001b[1;31m---------------------------------------------------------------------------\u001b[0m",
      "\u001b[1;31mNameError\u001b[0m                                 Traceback (most recent call last)",
      "\u001b[1;32m<ipython-input-166-62554346cb5f>\u001b[0m in \u001b[0;36m<module>\u001b[1;34m\u001b[0m\n\u001b[1;32m----> 1\u001b[1;33m \u001b[0mMS\u001b[0m\u001b[1;33m[\u001b[0m\u001b[1;34m'close'\u001b[0m\u001b[1;33m]\u001b[0m\u001b[1;33m\u001b[0m\u001b[1;33m\u001b[0m\u001b[0m\n\u001b[0m",
      "\u001b[1;31mNameError\u001b[0m: name 'MS' is not defined"
     ]
    }
   ],
   "source": [
    "MS['close']"
   ]
  },
  {
   "cell_type": "markdown",
   "metadata": {},
   "source": [
    "**Use .ta_plot(study='boll') to create a Bollinger Band Plot for Bank of America for the year 2015.**"
   ]
  },
  {
   "cell_type": "code",
   "execution_count": 209,
   "metadata": {},
   "outputs": [
    {
     "data": {
      "text/html": [
       "<div>\n",
       "<style scoped>\n",
       "    .dataframe tbody tr th:only-of-type {\n",
       "        vertical-align: middle;\n",
       "    }\n",
       "\n",
       "    .dataframe tbody tr th {\n",
       "        vertical-align: top;\n",
       "    }\n",
       "\n",
       "    .dataframe thead th {\n",
       "        text-align: right;\n",
       "    }\n",
       "</style>\n",
       "<table border=\"1\" class=\"dataframe\">\n",
       "  <thead>\n",
       "    <tr style=\"text-align: right;\">\n",
       "      <th>Bank Ticker</th>\n",
       "      <th>BAC</th>\n",
       "      <th>C</th>\n",
       "      <th>GS</th>\n",
       "      <th>JPM</th>\n",
       "      <th>MS</th>\n",
       "      <th>WFC</th>\n",
       "    </tr>\n",
       "    <tr>\n",
       "      <th>Date</th>\n",
       "      <th></th>\n",
       "      <th></th>\n",
       "      <th></th>\n",
       "      <th></th>\n",
       "      <th></th>\n",
       "      <th></th>\n",
       "    </tr>\n",
       "  </thead>\n",
       "  <tbody>\n",
       "    <tr>\n",
       "      <th>2006-01-03</th>\n",
       "      <td>46.92</td>\n",
       "      <td>490.00</td>\n",
       "      <td>126.70</td>\n",
       "      <td>39.83</td>\n",
       "      <td>57.17</td>\n",
       "      <td>31.60</td>\n",
       "    </tr>\n",
       "    <tr>\n",
       "      <th>2006-01-04</th>\n",
       "      <td>47.00</td>\n",
       "      <td>488.60</td>\n",
       "      <td>127.35</td>\n",
       "      <td>39.78</td>\n",
       "      <td>58.70</td>\n",
       "      <td>31.80</td>\n",
       "    </tr>\n",
       "    <tr>\n",
       "      <th>2006-01-05</th>\n",
       "      <td>46.58</td>\n",
       "      <td>484.40</td>\n",
       "      <td>126.00</td>\n",
       "      <td>39.61</td>\n",
       "      <td>58.55</td>\n",
       "      <td>31.50</td>\n",
       "    </tr>\n",
       "    <tr>\n",
       "      <th>2006-01-06</th>\n",
       "      <td>46.80</td>\n",
       "      <td>488.80</td>\n",
       "      <td>127.29</td>\n",
       "      <td>39.92</td>\n",
       "      <td>58.77</td>\n",
       "      <td>31.58</td>\n",
       "    </tr>\n",
       "    <tr>\n",
       "      <th>2006-01-09</th>\n",
       "      <td>46.72</td>\n",
       "      <td>486.00</td>\n",
       "      <td>128.50</td>\n",
       "      <td>39.88</td>\n",
       "      <td>58.63</td>\n",
       "      <td>31.68</td>\n",
       "    </tr>\n",
       "    <tr>\n",
       "      <th>...</th>\n",
       "      <td>...</td>\n",
       "      <td>...</td>\n",
       "      <td>...</td>\n",
       "      <td>...</td>\n",
       "      <td>...</td>\n",
       "      <td>...</td>\n",
       "    </tr>\n",
       "    <tr>\n",
       "      <th>2015-12-24</th>\n",
       "      <td>17.32</td>\n",
       "      <td>52.48</td>\n",
       "      <td>182.27</td>\n",
       "      <td>66.62</td>\n",
       "      <td>32.57</td>\n",
       "      <td>54.97</td>\n",
       "    </tr>\n",
       "    <tr>\n",
       "      <th>2015-12-28</th>\n",
       "      <td>17.22</td>\n",
       "      <td>52.57</td>\n",
       "      <td>181.77</td>\n",
       "      <td>66.29</td>\n",
       "      <td>32.36</td>\n",
       "      <td>54.55</td>\n",
       "    </tr>\n",
       "    <tr>\n",
       "      <th>2015-12-29</th>\n",
       "      <td>17.25</td>\n",
       "      <td>52.76</td>\n",
       "      <td>182.82</td>\n",
       "      <td>66.84</td>\n",
       "      <td>32.44</td>\n",
       "      <td>55.11</td>\n",
       "    </tr>\n",
       "    <tr>\n",
       "      <th>2015-12-30</th>\n",
       "      <td>17.20</td>\n",
       "      <td>52.84</td>\n",
       "      <td>183.28</td>\n",
       "      <td>67.04</td>\n",
       "      <td>32.50</td>\n",
       "      <td>55.27</td>\n",
       "    </tr>\n",
       "    <tr>\n",
       "      <th>2015-12-31</th>\n",
       "      <td>17.01</td>\n",
       "      <td>52.07</td>\n",
       "      <td>181.16</td>\n",
       "      <td>66.19</td>\n",
       "      <td>31.91</td>\n",
       "      <td>54.51</td>\n",
       "    </tr>\n",
       "  </tbody>\n",
       "</table>\n",
       "<p>2517 rows × 6 columns</p>\n",
       "</div>"
      ],
      "text/plain": [
       "Bank Ticker    BAC       C      GS    JPM     MS    WFC\n",
       "Date                                                   \n",
       "2006-01-03   46.92  490.00  126.70  39.83  57.17  31.60\n",
       "2006-01-04   47.00  488.60  127.35  39.78  58.70  31.80\n",
       "2006-01-05   46.58  484.40  126.00  39.61  58.55  31.50\n",
       "2006-01-06   46.80  488.80  127.29  39.92  58.77  31.58\n",
       "2006-01-09   46.72  486.00  128.50  39.88  58.63  31.68\n",
       "...            ...     ...     ...    ...    ...    ...\n",
       "2015-12-24   17.32   52.48  182.27  66.62  32.57  54.97\n",
       "2015-12-28   17.22   52.57  181.77  66.29  32.36  54.55\n",
       "2015-12-29   17.25   52.76  182.82  66.84  32.44  55.11\n",
       "2015-12-30   17.20   52.84  183.28  67.04  32.50  55.27\n",
       "2015-12-31   17.01   52.07  181.16  66.19  31.91  54.51\n",
       "\n",
       "[2517 rows x 6 columns]"
      ]
     },
     "execution_count": 209,
     "metadata": {},
     "output_type": "execute_result"
    }
   ],
   "source": [
    "df.xs(axis=1,key='Open',level=1)"
   ]
  },
  {
   "cell_type": "markdown",
   "metadata": {},
   "source": [
    "# Great Job!\n",
    "\n",
    "Definitely a lot of more specific finance topics here, so don't worry if you didn't understand them all! The only thing you should be concerned with understanding are the basic pandas and visualization oeprations."
   ]
  }
 ],
 "metadata": {
  "kernelspec": {
   "display_name": "Python 3",
   "language": "python",
   "name": "python3"
  },
  "language_info": {
   "codemirror_mode": {
    "name": "ipython",
    "version": 3
   },
   "file_extension": ".py",
   "mimetype": "text/x-python",
   "name": "python",
   "nbconvert_exporter": "python",
   "pygments_lexer": "ipython3",
   "version": "3.7.3"
  }
 },
 "nbformat": 4,
 "nbformat_minor": 1
}
